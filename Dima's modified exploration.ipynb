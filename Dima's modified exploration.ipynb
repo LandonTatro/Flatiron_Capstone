{
 "cells": [
  {
   "cell_type": "code",
   "execution_count": 1,
   "metadata": {},
   "outputs": [],
   "source": [
    "# Imports\n",
    "import pandas as pd\n",
    "import numpy as np\n",
    "import sqlite3\n",
    "import matplotlib\n",
    "import matplotlib.pyplot as plt\n",
    "import seaborn as sns\n",
    "from scipy import stats\n",
    "from sklearn.datasets import load_iris\n",
    "from pandas import Series, DataFrame\n",
    "\n",
    "%matplotlib inline"
   ]
  },
  {
   "cell_type": "markdown",
   "metadata": {},
   "source": [
    "### Movie info"
   ]
  },
  {
   "cell_type": "code",
   "execution_count": 2,
   "metadata": {},
   "outputs": [
    {
     "data": {
      "text/html": [
       "<div>\n",
       "<style scoped>\n",
       "    .dataframe tbody tr th:only-of-type {\n",
       "        vertical-align: middle;\n",
       "    }\n",
       "\n",
       "    .dataframe tbody tr th {\n",
       "        vertical-align: top;\n",
       "    }\n",
       "\n",
       "    .dataframe thead th {\n",
       "        text-align: right;\n",
       "    }\n",
       "</style>\n",
       "<table border=\"1\" class=\"dataframe\">\n",
       "  <thead>\n",
       "    <tr style=\"text-align: right;\">\n",
       "      <th></th>\n",
       "      <th>id</th>\n",
       "      <th>synopsis</th>\n",
       "      <th>rating</th>\n",
       "      <th>genre</th>\n",
       "      <th>director</th>\n",
       "      <th>writer</th>\n",
       "      <th>theater_date</th>\n",
       "      <th>dvd_date</th>\n",
       "      <th>currency</th>\n",
       "      <th>box_office</th>\n",
       "      <th>runtime</th>\n",
       "      <th>studio</th>\n",
       "    </tr>\n",
       "  </thead>\n",
       "  <tbody>\n",
       "    <tr>\n",
       "      <th>0</th>\n",
       "      <td>1</td>\n",
       "      <td>This gritty, fast-paced, and innovative police...</td>\n",
       "      <td>R</td>\n",
       "      <td>Action and Adventure|Classics|Drama</td>\n",
       "      <td>William Friedkin</td>\n",
       "      <td>Ernest Tidyman</td>\n",
       "      <td>1971-10-09</td>\n",
       "      <td>2001-09-25</td>\n",
       "      <td>NaN</td>\n",
       "      <td>NaN</td>\n",
       "      <td>104 minutes</td>\n",
       "      <td>NaN</td>\n",
       "    </tr>\n",
       "    <tr>\n",
       "      <th>1</th>\n",
       "      <td>3</td>\n",
       "      <td>New York City, not-too-distant-future: Eric Pa...</td>\n",
       "      <td>R</td>\n",
       "      <td>Drama|Science Fiction and Fantasy</td>\n",
       "      <td>David Cronenberg</td>\n",
       "      <td>David Cronenberg|Don DeLillo</td>\n",
       "      <td>2012-08-17</td>\n",
       "      <td>2013-01-01</td>\n",
       "      <td>$</td>\n",
       "      <td>600,000</td>\n",
       "      <td>108 minutes</td>\n",
       "      <td>Entertainment One</td>\n",
       "    </tr>\n",
       "    <tr>\n",
       "      <th>2</th>\n",
       "      <td>5</td>\n",
       "      <td>Illeana Douglas delivers a superb performance ...</td>\n",
       "      <td>R</td>\n",
       "      <td>Drama|Musical and Performing Arts</td>\n",
       "      <td>Allison Anders</td>\n",
       "      <td>Allison Anders</td>\n",
       "      <td>1996-09-13</td>\n",
       "      <td>2000-04-18</td>\n",
       "      <td>NaN</td>\n",
       "      <td>NaN</td>\n",
       "      <td>116 minutes</td>\n",
       "      <td>NaN</td>\n",
       "    </tr>\n",
       "    <tr>\n",
       "      <th>3</th>\n",
       "      <td>6</td>\n",
       "      <td>Michael Douglas runs afoul of a treacherous su...</td>\n",
       "      <td>R</td>\n",
       "      <td>Drama|Mystery and Suspense</td>\n",
       "      <td>Barry Levinson</td>\n",
       "      <td>Paul Attanasio|Michael Crichton</td>\n",
       "      <td>1994-12-09</td>\n",
       "      <td>1997-08-27</td>\n",
       "      <td>NaN</td>\n",
       "      <td>NaN</td>\n",
       "      <td>128 minutes</td>\n",
       "      <td>NaN</td>\n",
       "    </tr>\n",
       "    <tr>\n",
       "      <th>4</th>\n",
       "      <td>7</td>\n",
       "      <td>NaN</td>\n",
       "      <td>NR</td>\n",
       "      <td>Drama|Romance</td>\n",
       "      <td>Rodney Bennett</td>\n",
       "      <td>Giles Cooper</td>\n",
       "      <td>NaT</td>\n",
       "      <td>NaT</td>\n",
       "      <td>NaN</td>\n",
       "      <td>NaN</td>\n",
       "      <td>200 minutes</td>\n",
       "      <td>NaN</td>\n",
       "    </tr>\n",
       "  </tbody>\n",
       "</table>\n",
       "</div>"
      ],
      "text/plain": [
       "   id                                           synopsis rating  \\\n",
       "0   1  This gritty, fast-paced, and innovative police...      R   \n",
       "1   3  New York City, not-too-distant-future: Eric Pa...      R   \n",
       "2   5  Illeana Douglas delivers a superb performance ...      R   \n",
       "3   6  Michael Douglas runs afoul of a treacherous su...      R   \n",
       "4   7                                                NaN     NR   \n",
       "\n",
       "                                 genre          director  \\\n",
       "0  Action and Adventure|Classics|Drama  William Friedkin   \n",
       "1    Drama|Science Fiction and Fantasy  David Cronenberg   \n",
       "2    Drama|Musical and Performing Arts    Allison Anders   \n",
       "3           Drama|Mystery and Suspense    Barry Levinson   \n",
       "4                        Drama|Romance    Rodney Bennett   \n",
       "\n",
       "                            writer theater_date   dvd_date currency  \\\n",
       "0                   Ernest Tidyman   1971-10-09 2001-09-25      NaN   \n",
       "1     David Cronenberg|Don DeLillo   2012-08-17 2013-01-01        $   \n",
       "2                   Allison Anders   1996-09-13 2000-04-18      NaN   \n",
       "3  Paul Attanasio|Michael Crichton   1994-12-09 1997-08-27      NaN   \n",
       "4                     Giles Cooper          NaT        NaT      NaN   \n",
       "\n",
       "  box_office      runtime             studio  \n",
       "0        NaN  104 minutes                NaN  \n",
       "1    600,000  108 minutes  Entertainment One  \n",
       "2        NaN  116 minutes                NaN  \n",
       "3        NaN  128 minutes                NaN  \n",
       "4        NaN  200 minutes                NaN  "
      ]
     },
     "execution_count": 2,
     "metadata": {},
     "output_type": "execute_result"
    }
   ],
   "source": [
    "# Read in the data as movie_info\n",
    "# Use parse_dates and pass column name to read it as a datetime\n",
    "movie_info = pd.read_csv('Data/rt.movie_info.tsv', encoding='latin-1', sep='\\t', \n",
    "                        parse_dates=['theater_date', 'dvd_date'])\n",
    "movie_info.head()"
   ]
  },
  {
   "cell_type": "code",
   "execution_count": 3,
   "metadata": {},
   "outputs": [
    {
     "data": {
      "text/plain": [
       "Index(['id', 'synopsis', 'rating', 'genre', 'director', 'writer',\n",
       "       'theater_date', 'dvd_date', 'currency', 'box_office', 'runtime',\n",
       "       'studio'],\n",
       "      dtype='object')"
      ]
     },
     "execution_count": 3,
     "metadata": {},
     "output_type": "execute_result"
    }
   ],
   "source": [
    "movie_info.columns"
   ]
  },
  {
   "cell_type": "code",
   "execution_count": 4,
   "metadata": {},
   "outputs": [
    {
     "name": "stdout",
     "output_type": "stream",
     "text": [
      "<class 'pandas.core.frame.DataFrame'>\n",
      "RangeIndex: 1560 entries, 0 to 1559\n",
      "Data columns (total 12 columns):\n",
      " #   Column        Non-Null Count  Dtype         \n",
      "---  ------        --------------  -----         \n",
      " 0   id            1560 non-null   int64         \n",
      " 1   synopsis      1498 non-null   object        \n",
      " 2   rating        1557 non-null   object        \n",
      " 3   genre         1552 non-null   object        \n",
      " 4   director      1361 non-null   object        \n",
      " 5   writer        1111 non-null   object        \n",
      " 6   theater_date  1201 non-null   datetime64[ns]\n",
      " 7   dvd_date      1201 non-null   datetime64[ns]\n",
      " 8   currency      340 non-null    object        \n",
      " 9   box_office    340 non-null    object        \n",
      " 10  runtime       1530 non-null   object        \n",
      " 11  studio        494 non-null    object        \n",
      "dtypes: datetime64[ns](2), int64(1), object(9)\n",
      "memory usage: 146.4+ KB\n"
     ]
    }
   ],
   "source": [
    "# Info on the dataframe\n",
    "movie_info.info()"
   ]
  },
  {
   "cell_type": "markdown",
   "metadata": {},
   "source": [
    "### Cleaning the data"
   ]
  },
  {
   "cell_type": "code",
   "execution_count": 5,
   "metadata": {},
   "outputs": [
    {
     "data": {
      "text/plain": [
       "id                 0\n",
       "synopsis          62\n",
       "rating             3\n",
       "genre              8\n",
       "director         199\n",
       "writer           449\n",
       "theater_date     359\n",
       "dvd_date         359\n",
       "currency        1220\n",
       "box_office      1220\n",
       "runtime           30\n",
       "studio          1066\n",
       "dtype: int64"
      ]
     },
     "execution_count": 5,
     "metadata": {},
     "output_type": "execute_result"
    }
   ],
   "source": [
    "#checking how many null values there are in each column\n",
    "movie_info.isnull().sum()"
   ]
  },
  {
   "cell_type": "markdown",
   "metadata": {},
   "source": [
    "To clean my columns from the null values, I will be replacing the values in some of the columns with 'Missing\" so that it's all consistent across the columns"
   ]
  },
  {
   "cell_type": "code",
   "execution_count": 6,
   "metadata": {},
   "outputs": [],
   "source": [
    "#Fill the missing values in synposis, genre, director, writer, currency, studio with 'Missing'\n",
    "movie_info['synopsis'].fillna('Missing', inplace=True)\n",
    "movie_info['genre'].fillna('Missing', inplace=True)\n",
    "movie_info['director'].fillna('Missing', inplace=True)\n",
    "movie_info['writer'].fillna('Missing', inplace=True)\n",
    "movie_info['currency'].fillna('Missing', inplace=True)\n",
    "movie_info['studio'].fillna('Missing', inplace=True)\n"
   ]
  },
  {
   "cell_type": "code",
   "execution_count": 7,
   "metadata": {},
   "outputs": [],
   "source": [
    "#Fill theater_date and dvd_date missing values with a generic date \"1800-01-01\" to keep same format\n",
    "movie_info['theater_date'].fillna('1800-01-01', inplace=True)\n",
    "movie_info['dvd_date'].fillna('1800-01-01', inplace=True)"
   ]
  },
  {
   "cell_type": "code",
   "execution_count": 8,
   "metadata": {},
   "outputs": [],
   "source": [
    "#Fill box_office missing valus with 0\n",
    "movie_info['box_office'].fillna(0, inplace=True)"
   ]
  },
  {
   "cell_type": "markdown",
   "metadata": {},
   "source": [
    "### Step 1: let's look at the different variables within this data frame to see what factors contribute to successful movies\n"
   ]
  },
  {
   "cell_type": "markdown",
   "metadata": {},
   "source": [
    "### We will first look at Runtime across movies, what's the most used runtime, what's the average?"
   ]
  },
  {
   "cell_type": "code",
   "execution_count": 9,
   "metadata": {},
   "outputs": [
    {
     "data": {
      "text/plain": [
       "90 minutes     72\n",
       "95 minutes     66\n",
       "100 minutes    51\n",
       "93 minutes     47\n",
       "96 minutes     43\n",
       "               ..\n",
       "174 minutes     1\n",
       "192 minutes     1\n",
       "55 minutes      1\n",
       "52 minutes      1\n",
       "6 minutes       1\n",
       "Name: runtime, Length: 142, dtype: int64"
      ]
     },
     "execution_count": 9,
     "metadata": {},
     "output_type": "execute_result"
    }
   ],
   "source": [
    "movie_info['runtime'].value_counts()"
   ]
  },
  {
   "cell_type": "code",
   "execution_count": 10,
   "metadata": {},
   "outputs": [
    {
     "data": {
      "text/plain": [
       "0       104 minutes\n",
       "1       108 minutes\n",
       "2       116 minutes\n",
       "3       128 minutes\n",
       "4       200 minutes\n",
       "           ...     \n",
       "1555    106 minutes\n",
       "1556     88 minutes\n",
       "1557    111 minutes\n",
       "1558    101 minutes\n",
       "1559     94 minutes\n",
       "Name: runtime, Length: 1560, dtype: object"
      ]
     },
     "execution_count": 10,
     "metadata": {},
     "output_type": "execute_result"
    }
   ],
   "source": [
    "movie_info['runtime']"
   ]
  },
  {
   "cell_type": "markdown",
   "metadata": {},
   "source": [
    "We will change the type of runtime column into actual numbers so we can work on it"
   ]
  },
  {
   "cell_type": "code",
   "execution_count": 11,
   "metadata": {},
   "outputs": [],
   "source": [
    "movie_info['runtime'] = movie_info['runtime'].str.replace('minutes',\"\")\n",
    "movie_info['runtime'] = pd.to_numeric(movie_info['runtime'])"
   ]
  },
  {
   "cell_type": "code",
   "execution_count": 12,
   "metadata": {},
   "outputs": [
    {
     "data": {
      "text/plain": [
       "dtype('float64')"
      ]
     },
     "execution_count": 12,
     "metadata": {},
     "output_type": "execute_result"
    }
   ],
   "source": [
    "#to confirm that the type has changed\n",
    "movie_info['runtime'].dtype"
   ]
  },
  {
   "cell_type": "code",
   "execution_count": 13,
   "metadata": {},
   "outputs": [
    {
     "data": {
      "text/html": [
       "<div>\n",
       "<style scoped>\n",
       "    .dataframe tbody tr th:only-of-type {\n",
       "        vertical-align: middle;\n",
       "    }\n",
       "\n",
       "    .dataframe tbody tr th {\n",
       "        vertical-align: top;\n",
       "    }\n",
       "\n",
       "    .dataframe thead th {\n",
       "        text-align: right;\n",
       "    }\n",
       "</style>\n",
       "<table border=\"1\" class=\"dataframe\">\n",
       "  <thead>\n",
       "    <tr style=\"text-align: right;\">\n",
       "      <th></th>\n",
       "      <th>id</th>\n",
       "      <th>synopsis</th>\n",
       "      <th>rating</th>\n",
       "      <th>genre</th>\n",
       "      <th>director</th>\n",
       "      <th>writer</th>\n",
       "      <th>theater_date</th>\n",
       "      <th>dvd_date</th>\n",
       "      <th>currency</th>\n",
       "      <th>box_office</th>\n",
       "      <th>runtime</th>\n",
       "      <th>studio</th>\n",
       "    </tr>\n",
       "  </thead>\n",
       "  <tbody>\n",
       "    <tr>\n",
       "      <th>1358</th>\n",
       "      <td>1753</td>\n",
       "      <td>Carmel Myers' co-star in this amusing farce is...</td>\n",
       "      <td>NR</td>\n",
       "      <td>Comedy</td>\n",
       "      <td>Paul Powell</td>\n",
       "      <td>Missing</td>\n",
       "      <td>1800-01-01</td>\n",
       "      <td>1800-01-01</td>\n",
       "      <td>Missing</td>\n",
       "      <td>0</td>\n",
       "      <td>5.0</td>\n",
       "      <td>Missing</td>\n",
       "    </tr>\n",
       "    <tr>\n",
       "      <th>540</th>\n",
       "      <td>707</td>\n",
       "      <td>James Pierce is one of the lesser-known film T...</td>\n",
       "      <td>NR</td>\n",
       "      <td>Action and Adventure</td>\n",
       "      <td>Missing</td>\n",
       "      <td>Missing</td>\n",
       "      <td>1800-01-01</td>\n",
       "      <td>1800-01-01</td>\n",
       "      <td>Missing</td>\n",
       "      <td>0</td>\n",
       "      <td>6.0</td>\n",
       "      <td>Missing</td>\n",
       "    </tr>\n",
       "    <tr>\n",
       "      <th>273</th>\n",
       "      <td>361</td>\n",
       "      <td>Missing</td>\n",
       "      <td>NR</td>\n",
       "      <td>Drama|Special Interest</td>\n",
       "      <td>Roberto Sanchez Santos</td>\n",
       "      <td>Missing</td>\n",
       "      <td>1800-01-01</td>\n",
       "      <td>1800-01-01</td>\n",
       "      <td>Missing</td>\n",
       "      <td>0</td>\n",
       "      <td>7.0</td>\n",
       "      <td>Missing</td>\n",
       "    </tr>\n",
       "    <tr>\n",
       "      <th>950</th>\n",
       "      <td>1229</td>\n",
       "      <td>A short fashion film.</td>\n",
       "      <td>NR</td>\n",
       "      <td>Documentary</td>\n",
       "      <td>Missing</td>\n",
       "      <td>Missing</td>\n",
       "      <td>1800-01-01</td>\n",
       "      <td>1800-01-01</td>\n",
       "      <td>Missing</td>\n",
       "      <td>0</td>\n",
       "      <td>10.0</td>\n",
       "      <td>Missing</td>\n",
       "    </tr>\n",
       "    <tr>\n",
       "      <th>983</th>\n",
       "      <td>1275</td>\n",
       "      <td>Desperately seeking to save his marriage, Bren...</td>\n",
       "      <td>NR</td>\n",
       "      <td>Drama</td>\n",
       "      <td>Jen McGowan</td>\n",
       "      <td>Colin Pink|Jen McGowan</td>\n",
       "      <td>1800-01-01</td>\n",
       "      <td>1800-01-01</td>\n",
       "      <td>Missing</td>\n",
       "      <td>0</td>\n",
       "      <td>11.0</td>\n",
       "      <td>Missing</td>\n",
       "    </tr>\n",
       "  </tbody>\n",
       "</table>\n",
       "</div>"
      ],
      "text/plain": [
       "        id                                           synopsis rating  \\\n",
       "1358  1753  Carmel Myers' co-star in this amusing farce is...     NR   \n",
       "540    707  James Pierce is one of the lesser-known film T...     NR   \n",
       "273    361                                            Missing     NR   \n",
       "950   1229                              A short fashion film.     NR   \n",
       "983   1275  Desperately seeking to save his marriage, Bren...     NR   \n",
       "\n",
       "                       genre                director                  writer  \\\n",
       "1358                  Comedy             Paul Powell                 Missing   \n",
       "540     Action and Adventure                 Missing                 Missing   \n",
       "273   Drama|Special Interest  Roberto Sanchez Santos                 Missing   \n",
       "950              Documentary                 Missing                 Missing   \n",
       "983                    Drama             Jen McGowan  Colin Pink|Jen McGowan   \n",
       "\n",
       "     theater_date    dvd_date currency box_office  runtime   studio  \n",
       "1358   1800-01-01  1800-01-01  Missing          0      5.0  Missing  \n",
       "540    1800-01-01  1800-01-01  Missing          0      6.0  Missing  \n",
       "273    1800-01-01  1800-01-01  Missing          0      7.0  Missing  \n",
       "950    1800-01-01  1800-01-01  Missing          0     10.0  Missing  \n",
       "983    1800-01-01  1800-01-01  Missing          0     11.0  Missing  "
      ]
     },
     "execution_count": 13,
     "metadata": {},
     "output_type": "execute_result"
    }
   ],
   "source": [
    "lowest_five_runtime = movie_info.sort_values('runtime', ascending=True)\n",
    "lowest_five_runtime.head(5)"
   ]
  },
  {
   "cell_type": "code",
   "execution_count": 14,
   "metadata": {},
   "outputs": [
    {
     "data": {
      "text/html": [
       "<div>\n",
       "<style scoped>\n",
       "    .dataframe tbody tr th:only-of-type {\n",
       "        vertical-align: middle;\n",
       "    }\n",
       "\n",
       "    .dataframe tbody tr th {\n",
       "        vertical-align: top;\n",
       "    }\n",
       "\n",
       "    .dataframe thead th {\n",
       "        text-align: right;\n",
       "    }\n",
       "</style>\n",
       "<table border=\"1\" class=\"dataframe\">\n",
       "  <thead>\n",
       "    <tr style=\"text-align: right;\">\n",
       "      <th></th>\n",
       "      <th>id</th>\n",
       "      <th>synopsis</th>\n",
       "      <th>rating</th>\n",
       "      <th>genre</th>\n",
       "      <th>director</th>\n",
       "      <th>writer</th>\n",
       "      <th>theater_date</th>\n",
       "      <th>dvd_date</th>\n",
       "      <th>currency</th>\n",
       "      <th>box_office</th>\n",
       "      <th>runtime</th>\n",
       "      <th>studio</th>\n",
       "    </tr>\n",
       "  </thead>\n",
       "  <tbody>\n",
       "    <tr>\n",
       "      <th>639</th>\n",
       "      <td>823</td>\n",
       "      <td>Directed by Marco Tullio Giordana and La Megli...</td>\n",
       "      <td>R</td>\n",
       "      <td>Art House and International|Drama|Romance</td>\n",
       "      <td>Marco Tullio Giordana</td>\n",
       "      <td>Stefano Rulli|Sandro Petraglia</td>\n",
       "      <td>2003-06-22 00:00:00</td>\n",
       "      <td>2006-02-07 00:00:00</td>\n",
       "      <td>Missing</td>\n",
       "      <td>0</td>\n",
       "      <td>358.0</td>\n",
       "      <td>Miramax Films</td>\n",
       "    </tr>\n",
       "    <tr>\n",
       "      <th>508</th>\n",
       "      <td>666</td>\n",
       "      <td>After twenty-five years, a trio of old high sc...</td>\n",
       "      <td>NR</td>\n",
       "      <td>Drama|Mystery and Suspense</td>\n",
       "      <td>Paul Wendkos</td>\n",
       "      <td>Missing</td>\n",
       "      <td>1800-01-01</td>\n",
       "      <td>1800-01-01</td>\n",
       "      <td>Missing</td>\n",
       "      <td>0</td>\n",
       "      <td>313.0</td>\n",
       "      <td>Missing</td>\n",
       "    </tr>\n",
       "    <tr>\n",
       "      <th>1111</th>\n",
       "      <td>1434</td>\n",
       "      <td>When a pay cut sends Australian dock workers o...</td>\n",
       "      <td>NR</td>\n",
       "      <td>Drama|Romance</td>\n",
       "      <td>Chris Thomson</td>\n",
       "      <td>Missing</td>\n",
       "      <td>1800-01-01</td>\n",
       "      <td>1800-01-01</td>\n",
       "      <td>Missing</td>\n",
       "      <td>0</td>\n",
       "      <td>294.0</td>\n",
       "      <td>Missing</td>\n",
       "    </tr>\n",
       "    <tr>\n",
       "      <th>1490</th>\n",
       "      <td>1918</td>\n",
       "      <td>A collection of 15 chapters from Tarzan and th...</td>\n",
       "      <td>NR</td>\n",
       "      <td>Action and Adventure|Classics|Documentary</td>\n",
       "      <td>Henry MacRae|Harry McRae</td>\n",
       "      <td>William Lord Wright|Ian McCloskey Heath</td>\n",
       "      <td>1929-10-01 00:00:00</td>\n",
       "      <td>2006-10-24 00:00:00</td>\n",
       "      <td>Missing</td>\n",
       "      <td>0</td>\n",
       "      <td>290.0</td>\n",
       "      <td>Missing</td>\n",
       "    </tr>\n",
       "    <tr>\n",
       "      <th>1029</th>\n",
       "      <td>1332</td>\n",
       "      <td>Based on the classic Nathaniel Hawthorne novel...</td>\n",
       "      <td>NR</td>\n",
       "      <td>Drama|Television</td>\n",
       "      <td>Rick Hauser</td>\n",
       "      <td>Missing</td>\n",
       "      <td>1800-01-01</td>\n",
       "      <td>1800-01-01</td>\n",
       "      <td>Missing</td>\n",
       "      <td>0</td>\n",
       "      <td>240.0</td>\n",
       "      <td>Missing</td>\n",
       "    </tr>\n",
       "  </tbody>\n",
       "</table>\n",
       "</div>"
      ],
      "text/plain": [
       "        id                                           synopsis rating  \\\n",
       "639    823  Directed by Marco Tullio Giordana and La Megli...      R   \n",
       "508    666  After twenty-five years, a trio of old high sc...     NR   \n",
       "1111  1434  When a pay cut sends Australian dock workers o...     NR   \n",
       "1490  1918  A collection of 15 chapters from Tarzan and th...     NR   \n",
       "1029  1332  Based on the classic Nathaniel Hawthorne novel...     NR   \n",
       "\n",
       "                                          genre                  director  \\\n",
       "639   Art House and International|Drama|Romance     Marco Tullio Giordana   \n",
       "508                  Drama|Mystery and Suspense              Paul Wendkos   \n",
       "1111                              Drama|Romance             Chris Thomson   \n",
       "1490  Action and Adventure|Classics|Documentary  Henry MacRae|Harry McRae   \n",
       "1029                           Drama|Television               Rick Hauser   \n",
       "\n",
       "                                       writer         theater_date  \\\n",
       "639            Stefano Rulli|Sandro Petraglia  2003-06-22 00:00:00   \n",
       "508                                   Missing           1800-01-01   \n",
       "1111                                  Missing           1800-01-01   \n",
       "1490  William Lord Wright|Ian McCloskey Heath  1929-10-01 00:00:00   \n",
       "1029                                  Missing           1800-01-01   \n",
       "\n",
       "                 dvd_date currency box_office  runtime         studio  \n",
       "639   2006-02-07 00:00:00  Missing          0    358.0  Miramax Films  \n",
       "508            1800-01-01  Missing          0    313.0        Missing  \n",
       "1111           1800-01-01  Missing          0    294.0        Missing  \n",
       "1490  2006-10-24 00:00:00  Missing          0    290.0        Missing  \n",
       "1029           1800-01-01  Missing          0    240.0        Missing  "
      ]
     },
     "execution_count": 14,
     "metadata": {},
     "output_type": "execute_result"
    }
   ],
   "source": [
    "highest_five_runtime = movie_info.sort_values('runtime', ascending=False)\n",
    "highest_five_runtime.head(5)"
   ]
  },
  {
   "cell_type": "code",
   "execution_count": 15,
   "metadata": {},
   "outputs": [
    {
     "name": "stdout",
     "output_type": "stream",
     "text": [
      "5.0\n",
      "358.0\n"
     ]
    }
   ],
   "source": [
    "print(movie_info['runtime'].min())\n",
    "print(movie_info['runtime'].max())"
   ]
  },
  {
   "cell_type": "code",
   "execution_count": 16,
   "metadata": {},
   "outputs": [
    {
     "data": {
      "text/plain": [
       "count    1530.000000\n",
       "mean      103.967974\n",
       "std        24.642392\n",
       "min         5.000000\n",
       "25%        91.000000\n",
       "50%       100.000000\n",
       "75%       114.000000\n",
       "max       358.000000\n",
       "Name: runtime, dtype: float64"
      ]
     },
     "execution_count": 16,
     "metadata": {},
     "output_type": "execute_result"
    }
   ],
   "source": [
    "movie_info['runtime'].describe()"
   ]
  },
  {
   "cell_type": "code",
   "execution_count": 17,
   "metadata": {},
   "outputs": [
    {
     "data": {
      "text/plain": [
       "<bound method Series.mode of 0       104.0\n",
       "1       108.0\n",
       "2       116.0\n",
       "3       128.0\n",
       "4       200.0\n",
       "        ...  \n",
       "1555    106.0\n",
       "1556     88.0\n",
       "1557    111.0\n",
       "1558    101.0\n",
       "1559     94.0\n",
       "Name: runtime, Length: 1560, dtype: float64>"
      ]
     },
     "execution_count": 17,
     "metadata": {},
     "output_type": "execute_result"
    }
   ],
   "source": [
    "movie_info['runtime'].mode"
   ]
  },
  {
   "cell_type": "code",
   "execution_count": 18,
   "metadata": {},
   "outputs": [
    {
     "name": "stdout",
     "output_type": "stream",
     "text": [
      "Mean Value for Runtime column: 103.96797385620916\n",
      "Median Value for Runtime column: 100.0\n"
     ]
    },
    {
     "name": "stderr",
     "output_type": "stream",
     "text": [
      "C:\\Users\\dtaher\\Anaconda3\\envs\\learn-env\\lib\\site-packages\\seaborn\\distributions.py:2551: FutureWarning: `distplot` is a deprecated function and will be removed in a future version. Please adapt your code to use either `displot` (a figure-level function with similar flexibility) or `histplot` (an axes-level function for histograms).\n",
      "  warnings.warn(msg, FutureWarning)\n"
     ]
    },
    {
     "data": {
      "image/png": "[encoded data removed]",
      "text/plain": [
       "<Figure size 432x288 with 1 Axes>"
      ]
     },
     "metadata": {
      "needs_background": "light"
     },
     "output_type": "display_data"
    }
   ],
   "source": [
    "runtime_mean = movie_info['runtime'].mean()\n",
    "runtime_median = movie_info['runtime'].median()\n",
    "\n",
    "sns.distplot(movie_info['runtime'],kde=False, color='green', bins=10)\n",
    "plt.axvline(x = movie_info['runtime'].mean(), color = 'black')\n",
    "plt.title('Runtime of Movies', fontsize=18)\n",
    "plt.xlabel('Runtime', fontsize=16)\n",
    "plt.ylabel('Number of Movies', fontsize=16);\n",
    "\n",
    "# # fig, ax = plt.subplots()\n",
    "\n",
    "# sns.histplot(data=movie_info, x=['runtime']\n",
    "# # plt.axvline(x = movie_info['runtime'].mean(), color = 'black')\n",
    "# # ax.set_title(\"Runtime of Movies\")\n",
    "# # ax.set_xlabel(\"Runtime\")\n",
    "# # ax.set_ylabel(\"Number of Movies\")\n",
    "\n",
    "print(\"Mean Value for Runtime column: {}\".format(runtime_mean))\n",
    "print(\"Median Value for Runtime column: {}\".format(runtime_median))"
   ]
  },
  {
   "cell_type": "code",
   "execution_count": 19,
   "metadata": {},
   "outputs": [],
   "source": [
    "#previous method i used before seaborn\n",
    "# runtime_mean = movie_info['runtime'].mean()\n",
    "# runtime_median = movie_info['runtime'].median()\n",
    "\n",
    "# fig, ax = plt.subplots()\n",
    "\n",
    "# ax.hist(movie_info['runtime'])\n",
    "# plt.axvline(x = movie_info['runtime'].mean(), color = 'black')\n",
    "# ax.set_title(\"Runtime of Movies\")\n",
    "# ax.set_xlabel(\"Runtime\")\n",
    "# ax.set_ylabel(\"Number of Movies\")\n",
    "\n",
    "# print(\"Mean Value for Runtime column: {}\".format(runtime_mean))\n",
    "# print(\"Median Value for Runtime column: {}\".format(runtime_median))"
   ]
  },
  {
   "cell_type": "markdown",
   "metadata": {},
   "source": [
    "From the visualization above, we can see the data has a slightly positive skew."
   ]
  },
  {
   "cell_type": "markdown",
   "metadata": {},
   "source": [
    "**Dropping rows that contain missing values:** runtime column contains 30 null values in this case we will simply drop any rows that contain them. The number dropped does not constitute a significant portion of our dataset, so dropping the values is an acceptable loss"
   ]
  },
  {
   "cell_type": "code",
   "execution_count": 20,
   "metadata": {},
   "outputs": [
    {
     "data": {
      "text/plain": [
       "id              0\n",
       "synopsis        0\n",
       "rating          0\n",
       "genre           0\n",
       "director        0\n",
       "writer          0\n",
       "theater_date    0\n",
       "dvd_date        0\n",
       "currency        0\n",
       "box_office      0\n",
       "runtime         0\n",
       "studio          0\n",
       "dtype: int64"
      ]
     },
     "execution_count": 20,
     "metadata": {},
     "output_type": "execute_result"
    }
   ],
   "source": [
    "movie_info = movie_info.dropna(subset=['runtime'])\n",
    "movie_info.isna().sum()"
   ]
  },
  {
   "cell_type": "markdown",
   "metadata": {},
   "source": [
    "### let's check the rating and see what's the most popular rating"
   ]
  },
  {
   "cell_type": "code",
   "execution_count": 21,
   "metadata": {},
   "outputs": [
    {
     "data": {
      "text/plain": [
       "R        519\n",
       "NR       482\n",
       "PG       239\n",
       "PG-13    232\n",
       "G         57\n",
       "NC17       1\n",
       "Name: rating, dtype: int64"
      ]
     },
     "execution_count": 21,
     "metadata": {},
     "output_type": "execute_result"
    }
   ],
   "source": [
    "movie_info['rating'].value_counts()"
   ]
  },
  {
   "cell_type": "code",
   "execution_count": 22,
   "metadata": {},
   "outputs": [
    {
     "data": {
      "text/plain": [
       "dtype('O')"
      ]
     },
     "execution_count": 22,
     "metadata": {},
     "output_type": "execute_result"
    }
   ],
   "source": [
    "movie_info['rating'].dtype"
   ]
  },
  {
   "cell_type": "code",
   "execution_count": 23,
   "metadata": {},
   "outputs": [
    {
     "data": {
      "text/plain": [
       "id              0\n",
       "synopsis        0\n",
       "rating          0\n",
       "genre           0\n",
       "director        0\n",
       "writer          0\n",
       "theater_date    0\n",
       "dvd_date        0\n",
       "currency        0\n",
       "box_office      0\n",
       "runtime         0\n",
       "studio          0\n",
       "dtype: int64"
      ]
     },
     "execution_count": 23,
     "metadata": {},
     "output_type": "execute_result"
    }
   ],
   "source": [
    "# There are only 3 null values so let's drop them from the rating column \n",
    "movie_info = movie_info.dropna(subset=['rating'])\n",
    "movie_info.isna().sum()"
   ]
  },
  {
   "cell_type": "code",
   "execution_count": 24,
   "metadata": {},
   "outputs": [
    {
     "data": {
      "image/png": "[encoded data removed]",
      "text/plain": [
       "<Figure size 432x288 with 1 Axes>"
      ]
     },
     "metadata": {
      "needs_background": "light"
     },
     "output_type": "display_data"
    }
   ],
   "source": [
    "# now let's visualize it\n",
    "movie_info['rating'].value_counts().plot(kind='bar');\n"
   ]
  },
  {
   "cell_type": "code",
   "execution_count": 25,
   "metadata": {},
   "outputs": [
    {
     "name": "stderr",
     "output_type": "stream",
     "text": [
      "C:\\Users\\dtaher\\Anaconda3\\envs\\learn-env\\lib\\site-packages\\seaborn\\_decorators.py:36: FutureWarning: Pass the following variable as a keyword arg: x. From version 0.12, the only valid positional argument will be `data`, and passing other arguments without an explicit keyword will result in an error or misinterpretation.\n",
      "  warnings.warn(\n"
     ]
    },
    {
     "data": {
      "image/png": "[encoded data removed]",
      "text/plain": [
       "<Figure size 432x288 with 1 Axes>"
      ]
     },
     "metadata": {
      "needs_background": "light"
     },
     "output_type": "display_data"
    }
   ],
   "source": [
    "#I want to try seaborn visualization\n",
    "sns.countplot(movie_info['rating']);"
   ]
  },
  {
   "cell_type": "markdown",
   "metadata": {},
   "source": [
    "The graph shows us that the majority of movies are rated R"
   ]
  },
  {
   "cell_type": "markdown",
   "metadata": {},
   "source": [
    "### Now let's examine the director column and see what we can extract from there\n",
    "Is there a certain Director that is more successful than others that potentially could be hired to direct the movies?"
   ]
  },
  {
   "cell_type": "code",
   "execution_count": 26,
   "metadata": {},
   "outputs": [
    {
     "data": {
      "text/plain": [
       "Missing                                     185\n",
       "Steven Spielberg                             10\n",
       "Clint Eastwood                                8\n",
       "Yimou Zhang                                   4\n",
       "Jim Jarmusch                                  4\n",
       "                                           ... \n",
       "Liu Chia-Liang                                1\n",
       "Ching Wan Lau|Leung Siu Hung|Patrick Yau      1\n",
       "Alexander Kluge                               1\n",
       "Oren Shai                                     1\n",
       "Mike Cahill                                   1\n",
       "Name: director, Length: 1116, dtype: int64"
      ]
     },
     "execution_count": 26,
     "metadata": {},
     "output_type": "execute_result"
    }
   ],
   "source": [
    "movie_info['director'].value_counts()"
   ]
  },
  {
   "cell_type": "code",
   "execution_count": 27,
   "metadata": {},
   "outputs": [
    {
     "data": {
      "text/html": [
       "<div>\n",
       "<style scoped>\n",
       "    .dataframe tbody tr th:only-of-type {\n",
       "        vertical-align: middle;\n",
       "    }\n",
       "\n",
       "    .dataframe tbody tr th {\n",
       "        vertical-align: top;\n",
       "    }\n",
       "\n",
       "    .dataframe thead th {\n",
       "        text-align: right;\n",
       "    }\n",
       "</style>\n",
       "<table border=\"1\" class=\"dataframe\">\n",
       "  <thead>\n",
       "    <tr style=\"text-align: right;\">\n",
       "      <th></th>\n",
       "      <th>id</th>\n",
       "      <th>synopsis</th>\n",
       "      <th>rating</th>\n",
       "      <th>genre</th>\n",
       "      <th>director</th>\n",
       "      <th>writer</th>\n",
       "      <th>theater_date</th>\n",
       "      <th>dvd_date</th>\n",
       "      <th>currency</th>\n",
       "      <th>box_office</th>\n",
       "      <th>runtime</th>\n",
       "      <th>studio</th>\n",
       "    </tr>\n",
       "  </thead>\n",
       "  <tbody>\n",
       "    <tr>\n",
       "      <th>0</th>\n",
       "      <td>1</td>\n",
       "      <td>This gritty, fast-paced, and innovative police...</td>\n",
       "      <td>R</td>\n",
       "      <td>Action and Adventure|Classics|Drama</td>\n",
       "      <td>William Friedkin</td>\n",
       "      <td>Ernest Tidyman</td>\n",
       "      <td>1971-10-09 00:00:00</td>\n",
       "      <td>2001-09-25 00:00:00</td>\n",
       "      <td>Missing</td>\n",
       "      <td>0</td>\n",
       "      <td>104.0</td>\n",
       "      <td>Missing</td>\n",
       "    </tr>\n",
       "    <tr>\n",
       "      <th>1</th>\n",
       "      <td>3</td>\n",
       "      <td>New York City, not-too-distant-future: Eric Pa...</td>\n",
       "      <td>R</td>\n",
       "      <td>Drama|Science Fiction and Fantasy</td>\n",
       "      <td>David Cronenberg</td>\n",
       "      <td>David Cronenberg|Don DeLillo</td>\n",
       "      <td>2012-08-17 00:00:00</td>\n",
       "      <td>2013-01-01 00:00:00</td>\n",
       "      <td>$</td>\n",
       "      <td>600,000</td>\n",
       "      <td>108.0</td>\n",
       "      <td>Entertainment One</td>\n",
       "    </tr>\n",
       "    <tr>\n",
       "      <th>2</th>\n",
       "      <td>5</td>\n",
       "      <td>Illeana Douglas delivers a superb performance ...</td>\n",
       "      <td>R</td>\n",
       "      <td>Drama|Musical and Performing Arts</td>\n",
       "      <td>Allison Anders</td>\n",
       "      <td>Allison Anders</td>\n",
       "      <td>1996-09-13 00:00:00</td>\n",
       "      <td>2000-04-18 00:00:00</td>\n",
       "      <td>Missing</td>\n",
       "      <td>0</td>\n",
       "      <td>116.0</td>\n",
       "      <td>Missing</td>\n",
       "    </tr>\n",
       "    <tr>\n",
       "      <th>3</th>\n",
       "      <td>6</td>\n",
       "      <td>Michael Douglas runs afoul of a treacherous su...</td>\n",
       "      <td>R</td>\n",
       "      <td>Drama|Mystery and Suspense</td>\n",
       "      <td>Barry Levinson</td>\n",
       "      <td>Paul Attanasio|Michael Crichton</td>\n",
       "      <td>1994-12-09 00:00:00</td>\n",
       "      <td>1997-08-27 00:00:00</td>\n",
       "      <td>Missing</td>\n",
       "      <td>0</td>\n",
       "      <td>128.0</td>\n",
       "      <td>Missing</td>\n",
       "    </tr>\n",
       "    <tr>\n",
       "      <th>4</th>\n",
       "      <td>7</td>\n",
       "      <td>Missing</td>\n",
       "      <td>NR</td>\n",
       "      <td>Drama|Romance</td>\n",
       "      <td>Rodney Bennett</td>\n",
       "      <td>Giles Cooper</td>\n",
       "      <td>1800-01-01</td>\n",
       "      <td>1800-01-01</td>\n",
       "      <td>Missing</td>\n",
       "      <td>0</td>\n",
       "      <td>200.0</td>\n",
       "      <td>Missing</td>\n",
       "    </tr>\n",
       "  </tbody>\n",
       "</table>\n",
       "</div>"
      ],
      "text/plain": [
       "   id                                           synopsis rating  \\\n",
       "0   1  This gritty, fast-paced, and innovative police...      R   \n",
       "1   3  New York City, not-too-distant-future: Eric Pa...      R   \n",
       "2   5  Illeana Douglas delivers a superb performance ...      R   \n",
       "3   6  Michael Douglas runs afoul of a treacherous su...      R   \n",
       "4   7                                            Missing     NR   \n",
       "\n",
       "                                 genre          director  \\\n",
       "0  Action and Adventure|Classics|Drama  William Friedkin   \n",
       "1    Drama|Science Fiction and Fantasy  David Cronenberg   \n",
       "2    Drama|Musical and Performing Arts    Allison Anders   \n",
       "3           Drama|Mystery and Suspense    Barry Levinson   \n",
       "4                        Drama|Romance    Rodney Bennett   \n",
       "\n",
       "                            writer         theater_date             dvd_date  \\\n",
       "0                   Ernest Tidyman  1971-10-09 00:00:00  2001-09-25 00:00:00   \n",
       "1     David Cronenberg|Don DeLillo  2012-08-17 00:00:00  2013-01-01 00:00:00   \n",
       "2                   Allison Anders  1996-09-13 00:00:00  2000-04-18 00:00:00   \n",
       "3  Paul Attanasio|Michael Crichton  1994-12-09 00:00:00  1997-08-27 00:00:00   \n",
       "4                     Giles Cooper           1800-01-01           1800-01-01   \n",
       "\n",
       "  currency box_office  runtime             studio  \n",
       "0  Missing          0    104.0            Missing  \n",
       "1        $    600,000    108.0  Entertainment One  \n",
       "2  Missing          0    116.0            Missing  \n",
       "3  Missing          0    128.0            Missing  \n",
       "4  Missing          0    200.0            Missing  "
      ]
     },
     "execution_count": 27,
     "metadata": {},
     "output_type": "execute_result"
    }
   ],
   "source": [
    "movie_info.head()"
   ]
  },
  {
   "cell_type": "code",
   "execution_count": 28,
   "metadata": {},
   "outputs": [
    {
     "data": {
      "text/plain": [
       "Missing                                     185\n",
       "Steven Spielberg                             10\n",
       "Clint Eastwood                                8\n",
       "Yimou Zhang                                   4\n",
       "Jim Jarmusch                                  4\n",
       "                                           ... \n",
       "Liu Chia-Liang                                1\n",
       "Ching Wan Lau|Leung Siu Hung|Patrick Yau      1\n",
       "Alexander Kluge                               1\n",
       "Oren Shai                                     1\n",
       "Mike Cahill                                   1\n",
       "Name: director, Length: 1116, dtype: int64"
      ]
     },
     "execution_count": 28,
     "metadata": {},
     "output_type": "execute_result"
    }
   ],
   "source": [
    "director_count = movie_info['director'].value_counts()\n",
    "director_count"
   ]
  },
  {
   "cell_type": "code",
   "execution_count": 29,
   "metadata": {},
   "outputs": [
    {
     "data": {
      "text/plain": [
       "Missing                185\n",
       "Steven Spielberg        10\n",
       "Clint Eastwood           8\n",
       "Yimou Zhang              4\n",
       "Jim Jarmusch             4\n",
       "Woody Allen              4\n",
       "Ridley Scott             4\n",
       "Curtis Hanson            4\n",
       "Bruce Beresford          4\n",
       "William Friedkin         4\n",
       "Alfred Hitchcock         4\n",
       "Barry Levinson           4\n",
       "William Beaudine         4\n",
       "Mike Figgis              3\n",
       "Howard Hawks             3\n",
       "Hong Sang-soo            3\n",
       "George Sidney            3\n",
       "Boris Sagal              3\n",
       "Sylvester Stallone       3\n",
       "Lawrence Kasdan          3\n",
       "John Landis              3\n",
       "Phil Alden Robinson      3\n",
       "Gerald Thomas            3\n",
       "John Frankenheimer       3\n",
       "David Swift              3\n",
       "David Lean               3\n",
       "Name: director, dtype: int64"
      ]
     },
     "execution_count": 29,
     "metadata": {},
     "output_type": "execute_result"
    }
   ],
   "source": [
    "director_count.nlargest(26)"
   ]
  },
  {
   "cell_type": "code",
   "execution_count": 30,
   "metadata": {},
   "outputs": [
    {
     "data": {
      "text/plain": [
       "Missing              185\n",
       "Steven Spielberg      10\n",
       "Clint Eastwood         8\n",
       "Curtis Hanson          4\n",
       "Barry Levinson         4\n",
       "Alfred Hitchcock       4\n",
       "William Friedkin       4\n",
       "Bruce Beresford        4\n",
       "William Beaudine       4\n",
       "Ridley Scott           4\n",
       "Jim Jarmusch           4\n",
       "Yimou Zhang            4\n",
       "Woody Allen            4\n",
       "Richard Linklater      3\n",
       "Ang Lee                3\n",
       "Peter Bogdanovich      3\n",
       "Hark Tsui              3\n",
       "Charles Walters        3\n",
       "Martha Coolidge        3\n",
       "Neil Jordan            3\n",
       "Fritz Lang             3\n",
       "David Fincher          3\n",
       "Anatole Litvak         3\n",
       "George Cukor           3\n",
       "David Lean             3\n",
       "Name: director, dtype: int64"
      ]
     },
     "execution_count": 30,
     "metadata": {},
     "output_type": "execute_result"
    }
   ],
   "source": [
    "director_count.sort_values(ascending=False)[:25]"
   ]
  },
  {
   "cell_type": "code",
   "execution_count": 31,
   "metadata": {},
   "outputs": [
    {
     "data": {
      "text/plain": [
       "Missing              185\n",
       "Steven Spielberg      10\n",
       "Clint Eastwood         8\n",
       "Curtis Hanson          4\n",
       "Barry Levinson         4\n",
       "Alfred Hitchcock       4\n",
       "William Friedkin       4\n",
       "Bruce Beresford        4\n",
       "William Beaudine       4\n",
       "Ridley Scott           4\n",
       "Jim Jarmusch           4\n",
       "Yimou Zhang            4\n",
       "Woody Allen            4\n",
       "Richard Linklater      3\n",
       "Ang Lee                3\n",
       "Peter Bogdanovich      3\n",
       "Hark Tsui              3\n",
       "Charles Walters        3\n",
       "Martha Coolidge        3\n",
       "Neil Jordan            3\n",
       "Fritz Lang             3\n",
       "David Fincher          3\n",
       "Anatole Litvak         3\n",
       "George Cukor           3\n",
       "David Lean             3\n",
       "Name: director, dtype: int64"
      ]
     },
     "execution_count": 31,
     "metadata": {},
     "output_type": "execute_result"
    }
   ],
   "source": [
    "top_director = movie_info['director'].value_counts().sort_values(ascending=False).head(25)\n",
    "top_director"
   ]
  },
  {
   "cell_type": "code",
   "execution_count": 32,
   "metadata": {},
   "outputs": [],
   "source": [
    "top_director = top_director.drop(labels=\"Missing\")"
   ]
  },
  {
   "cell_type": "code",
   "execution_count": 33,
   "metadata": {},
   "outputs": [
    {
     "data": {
      "image/png": "[encoded data removed]",
      "text/plain": [
       "<Figure size 720x648 with 1 Axes>"
      ]
     },
     "metadata": {
      "needs_background": "light"
     },
     "output_type": "display_data"
    }
   ],
   "source": [
    "top_director.plot.barh(stacked=False, title= 'Top Directors', color=('DarkBlue'), figsize=(10,9));"
   ]
  },
  {
   "cell_type": "code",
   "execution_count": 34,
   "metadata": {},
   "outputs": [
    {
     "data": {
      "text/plain": [
       "3     12\n",
       "4     10\n",
       "10     1\n",
       "8      1\n",
       "Name: director, dtype: int64"
      ]
     },
     "execution_count": 34,
     "metadata": {},
     "output_type": "execute_result"
    }
   ],
   "source": [
    "top_director.value_counts()"
   ]
  },
  {
   "cell_type": "code",
   "execution_count": 36,
   "metadata": {
    "scrolled": false
   },
   "outputs": [
    {
     "data": {
      "image/png": "[encoded data removed]",
      "text/plain": [
       "<Figure size 432x288 with 1 Axes>"
      ]
     },
     "metadata": {
      "needs_background": "light"
     },
     "output_type": "display_data"
    }
   ],
   "source": [
    "ax = top_director.plot.bar()\n",
    "ax.set_title('Top Directors')\n",
    "ax.set_xlabel('Director')\n",
    "ax.set_ylabel('Number of Movies');              "
   ]
  },
  {
   "cell_type": "markdown",
   "metadata": {},
   "source": [
    "### Relating everything together\n",
    "Now that we've looked at different variables such as runtime, rating, top directors.\n",
    "I will look at these variables in relation with profit and check whether any of them have a direct relationship with the amount of profit.\n",
    "\n",
    "For this, I will be using Morgan's work on the budget table since I need the profit, and go from there."
   ]
  },
  {
   "cell_type": "markdown",
   "metadata": {},
   "source": [
    "I will get some of Morgan's work on the budget table"
   ]
  },
  {
   "cell_type": "markdown",
   "metadata": {},
   "source": [
    "### Movies Budget table"
   ]
  },
  {
   "cell_type": "code",
   "execution_count": 37,
   "metadata": {},
   "outputs": [
    {
     "data": {
      "text/html": [
       "<div>\n",
       "<style scoped>\n",
       "    .dataframe tbody tr th:only-of-type {\n",
       "        vertical-align: middle;\n",
       "    }\n",
       "\n",
       "    .dataframe tbody tr th {\n",
       "        vertical-align: top;\n",
       "    }\n",
       "\n",
       "    .dataframe thead th {\n",
       "        text-align: right;\n",
       "    }\n",
       "</style>\n",
       "<table border=\"1\" class=\"dataframe\">\n",
       "  <thead>\n",
       "    <tr style=\"text-align: right;\">\n",
       "      <th></th>\n",
       "      <th>id</th>\n",
       "      <th>release_date</th>\n",
       "      <th>movie</th>\n",
       "      <th>production_budget</th>\n",
       "      <th>domestic_gross</th>\n",
       "      <th>worldwide_gross</th>\n",
       "    </tr>\n",
       "  </thead>\n",
       "  <tbody>\n",
       "    <tr>\n",
       "      <th>0</th>\n",
       "      <td>1</td>\n",
       "      <td>Dec 18, 2009</td>\n",
       "      <td>Avatar</td>\n",
       "      <td>$425,000,000</td>\n",
       "      <td>$760,507,625</td>\n",
       "      <td>$2,776,345,279</td>\n",
       "    </tr>\n",
       "    <tr>\n",
       "      <th>1</th>\n",
       "      <td>2</td>\n",
       "      <td>May 20, 2011</td>\n",
       "      <td>Pirates of the Caribbean: On Stranger Tides</td>\n",
       "      <td>$410,600,000</td>\n",
       "      <td>$241,063,875</td>\n",
       "      <td>$1,045,663,875</td>\n",
       "    </tr>\n",
       "    <tr>\n",
       "      <th>2</th>\n",
       "      <td>3</td>\n",
       "      <td>Jun 7, 2019</td>\n",
       "      <td>Dark Phoenix</td>\n",
       "      <td>$350,000,000</td>\n",
       "      <td>$42,762,350</td>\n",
       "      <td>$149,762,350</td>\n",
       "    </tr>\n",
       "    <tr>\n",
       "      <th>3</th>\n",
       "      <td>4</td>\n",
       "      <td>May 1, 2015</td>\n",
       "      <td>Avengers: Age of Ultron</td>\n",
       "      <td>$330,600,000</td>\n",
       "      <td>$459,005,868</td>\n",
       "      <td>$1,403,013,963</td>\n",
       "    </tr>\n",
       "    <tr>\n",
       "      <th>4</th>\n",
       "      <td>5</td>\n",
       "      <td>Dec 15, 2017</td>\n",
       "      <td>Star Wars Ep. VIII: The Last Jedi</td>\n",
       "      <td>$317,000,000</td>\n",
       "      <td>$620,181,382</td>\n",
       "      <td>$1,316,721,747</td>\n",
       "    </tr>\n",
       "  </tbody>\n",
       "</table>\n",
       "</div>"
      ],
      "text/plain": [
       "   id  release_date                                        movie  \\\n",
       "0   1  Dec 18, 2009                                       Avatar   \n",
       "1   2  May 20, 2011  Pirates of the Caribbean: On Stranger Tides   \n",
       "2   3   Jun 7, 2019                                 Dark Phoenix   \n",
       "3   4   May 1, 2015                      Avengers: Age of Ultron   \n",
       "4   5  Dec 15, 2017            Star Wars Ep. VIII: The Last Jedi   \n",
       "\n",
       "  production_budget domestic_gross worldwide_gross  \n",
       "0      $425,000,000   $760,507,625  $2,776,345,279  \n",
       "1      $410,600,000   $241,063,875  $1,045,663,875  \n",
       "2      $350,000,000    $42,762,350    $149,762,350  \n",
       "3      $330,600,000   $459,005,868  $1,403,013,963  \n",
       "4      $317,000,000   $620,181,382  $1,316,721,747  "
      ]
     },
     "execution_count": 37,
     "metadata": {},
     "output_type": "execute_result"
    }
   ],
   "source": [
    "budgets = pd.read_csv(\"data/tn.movie_budgets.csv\")\n",
    "budgets.head()"
   ]
  },
  {
   "cell_type": "markdown",
   "metadata": {},
   "source": [
    "In this table we will assume that Revenue = 'worldwide_gross' & Cost = 'production_budget'"
   ]
  },
  {
   "cell_type": "code",
   "execution_count": 38,
   "metadata": {},
   "outputs": [],
   "source": [
    "#will follow Morgan's data cleaning for this table\n",
    "# removing $ and , from gross revenue\n",
    "budgets['worldwide_gross'] = budgets['worldwide_gross'].str.replace(\",\",\"\")\n",
    "budgets['worldwide_gross'] = budgets['worldwide_gross'].str.replace(\"$\",\"\")\n",
    "\n",
    "# casting the values as integers\n",
    "budgets['worldwide_gross'] = pd.to_numeric(budgets['worldwide_gross'])"
   ]
  },
  {
   "cell_type": "code",
   "execution_count": 39,
   "metadata": {},
   "outputs": [],
   "source": [
    "# removing $ and , from production budget\n",
    "budgets['production_budget'] = budgets['production_budget'].str.replace(\",\",\"\")\n",
    "budgets['production_budget'] = budgets['production_budget'].str.replace(\"$\",\"\")\n",
    "\n",
    "# casting the values as integers\n",
    "budgets['production_budget'] = pd.to_numeric(budgets['production_budget'])"
   ]
  },
  {
   "cell_type": "code",
   "execution_count": 40,
   "metadata": {},
   "outputs": [
    {
     "data": {
      "text/html": [
       "<div>\n",
       "<style scoped>\n",
       "    .dataframe tbody tr th:only-of-type {\n",
       "        vertical-align: middle;\n",
       "    }\n",
       "\n",
       "    .dataframe tbody tr th {\n",
       "        vertical-align: top;\n",
       "    }\n",
       "\n",
       "    .dataframe thead th {\n",
       "        text-align: right;\n",
       "    }\n",
       "</style>\n",
       "<table border=\"1\" class=\"dataframe\">\n",
       "  <thead>\n",
       "    <tr style=\"text-align: right;\">\n",
       "      <th></th>\n",
       "      <th>id</th>\n",
       "      <th>release_date</th>\n",
       "      <th>movie</th>\n",
       "      <th>production_budget</th>\n",
       "      <th>domestic_gross</th>\n",
       "      <th>worldwide_gross</th>\n",
       "      <th>total_profit</th>\n",
       "    </tr>\n",
       "  </thead>\n",
       "  <tbody>\n",
       "    <tr>\n",
       "      <th>0</th>\n",
       "      <td>1</td>\n",
       "      <td>Dec 18, 2009</td>\n",
       "      <td>Avatar</td>\n",
       "      <td>425000000</td>\n",
       "      <td>$760,507,625</td>\n",
       "      <td>2776345279</td>\n",
       "      <td>2351345279</td>\n",
       "    </tr>\n",
       "    <tr>\n",
       "      <th>1</th>\n",
       "      <td>2</td>\n",
       "      <td>May 20, 2011</td>\n",
       "      <td>Pirates of the Caribbean: On Stranger Tides</td>\n",
       "      <td>410600000</td>\n",
       "      <td>$241,063,875</td>\n",
       "      <td>1045663875</td>\n",
       "      <td>635063875</td>\n",
       "    </tr>\n",
       "    <tr>\n",
       "      <th>2</th>\n",
       "      <td>3</td>\n",
       "      <td>Jun 7, 2019</td>\n",
       "      <td>Dark Phoenix</td>\n",
       "      <td>350000000</td>\n",
       "      <td>$42,762,350</td>\n",
       "      <td>149762350</td>\n",
       "      <td>-200237650</td>\n",
       "    </tr>\n",
       "    <tr>\n",
       "      <th>3</th>\n",
       "      <td>4</td>\n",
       "      <td>May 1, 2015</td>\n",
       "      <td>Avengers: Age of Ultron</td>\n",
       "      <td>330600000</td>\n",
       "      <td>$459,005,868</td>\n",
       "      <td>1403013963</td>\n",
       "      <td>1072413963</td>\n",
       "    </tr>\n",
       "    <tr>\n",
       "      <th>4</th>\n",
       "      <td>5</td>\n",
       "      <td>Dec 15, 2017</td>\n",
       "      <td>Star Wars Ep. VIII: The Last Jedi</td>\n",
       "      <td>317000000</td>\n",
       "      <td>$620,181,382</td>\n",
       "      <td>1316721747</td>\n",
       "      <td>999721747</td>\n",
       "    </tr>\n",
       "  </tbody>\n",
       "</table>\n",
       "</div>"
      ],
      "text/plain": [
       "   id  release_date                                        movie  \\\n",
       "0   1  Dec 18, 2009                                       Avatar   \n",
       "1   2  May 20, 2011  Pirates of the Caribbean: On Stranger Tides   \n",
       "2   3   Jun 7, 2019                                 Dark Phoenix   \n",
       "3   4   May 1, 2015                      Avengers: Age of Ultron   \n",
       "4   5  Dec 15, 2017            Star Wars Ep. VIII: The Last Jedi   \n",
       "\n",
       "   production_budget domestic_gross  worldwide_gross  total_profit  \n",
       "0          425000000   $760,507,625       2776345279    2351345279  \n",
       "1          410600000   $241,063,875       1045663875     635063875  \n",
       "2          350000000    $42,762,350        149762350    -200237650  \n",
       "3          330600000   $459,005,868       1403013963    1072413963  \n",
       "4          317000000   $620,181,382       1316721747     999721747  "
      ]
     },
     "execution_count": 40,
     "metadata": {},
     "output_type": "execute_result"
    }
   ],
   "source": [
    "# calculating total profit = revenue - cost\n",
    "budgets['total_profit'] =  budgets['worldwide_gross'] - budgets['production_budget']\n",
    "\n",
    "# confirmation\n",
    "budgets.head()"
   ]
  },
  {
   "cell_type": "markdown",
   "metadata": {},
   "source": [
    "From here on I will continue my work of comparing the total profit from the budgets table to the different factors in the movie_info table"
   ]
  },
  {
   "cell_type": "markdown",
   "metadata": {},
   "source": [
    "### Merging budget and Movie_info databases"
   ]
  },
  {
   "cell_type": "code",
   "execution_count": 41,
   "metadata": {},
   "outputs": [
    {
     "name": "stdout",
     "output_type": "stream",
     "text": [
      "<class 'pandas.core.frame.DataFrame'>\n",
      "Int64Index: 1530 entries, 0 to 1559\n",
      "Data columns (total 12 columns):\n",
      " #   Column        Non-Null Count  Dtype  \n",
      "---  ------        --------------  -----  \n",
      " 0   id            1530 non-null   int64  \n",
      " 1   synopsis      1530 non-null   object \n",
      " 2   rating        1530 non-null   object \n",
      " 3   genre         1530 non-null   object \n",
      " 4   director      1530 non-null   object \n",
      " 5   writer        1530 non-null   object \n",
      " 6   theater_date  1530 non-null   object \n",
      " 7   dvd_date      1530 non-null   object \n",
      " 8   currency      1530 non-null   object \n",
      " 9   box_office    1530 non-null   object \n",
      " 10  runtime       1530 non-null   float64\n",
      " 11  studio        1530 non-null   object \n",
      "dtypes: float64(1), int64(1), object(10)\n",
      "memory usage: 195.4+ KB\n"
     ]
    }
   ],
   "source": [
    "movie_info.info()"
   ]
  },
  {
   "cell_type": "code",
   "execution_count": 42,
   "metadata": {},
   "outputs": [
    {
     "name": "stdout",
     "output_type": "stream",
     "text": [
      "<class 'pandas.core.frame.DataFrame'>\n",
      "RangeIndex: 5782 entries, 0 to 5781\n",
      "Data columns (total 7 columns):\n",
      " #   Column             Non-Null Count  Dtype \n",
      "---  ------             --------------  ----- \n",
      " 0   id                 5782 non-null   int64 \n",
      " 1   release_date       5782 non-null   object\n",
      " 2   movie              5782 non-null   object\n",
      " 3   production_budget  5782 non-null   int64 \n",
      " 4   domestic_gross     5782 non-null   object\n",
      " 5   worldwide_gross    5782 non-null   int64 \n",
      " 6   total_profit       5782 non-null   int64 \n",
      "dtypes: int64(4), object(3)\n",
      "memory usage: 316.3+ KB\n"
     ]
    }
   ],
   "source": [
    "budgets.info()"
   ]
  },
  {
   "cell_type": "markdown",
   "metadata": {},
   "source": [
    "I will join the dataframes using an **inner** join because it returns only the records with matching keys in both tables, I will make a separate dataframe for the joined dataframes."
   ]
  },
  {
   "cell_type": "code",
   "execution_count": 43,
   "metadata": {},
   "outputs": [
    {
     "name": "stdout",
     "output_type": "stream",
     "text": [
      "<class 'pandas.core.frame.DataFrame'>\n",
      "Int64Index: 1530 entries, 0 to 1559\n",
      "Data columns (total 19 columns):\n",
      " #   Column             Non-Null Count  Dtype  \n",
      "---  ------             --------------  -----  \n",
      " 0   id_budgets         1530 non-null   int64  \n",
      " 1   release_date       1530 non-null   object \n",
      " 2   movie              1530 non-null   object \n",
      " 3   production_budget  1530 non-null   int64  \n",
      " 4   domestic_gross     1530 non-null   object \n",
      " 5   worldwide_gross    1530 non-null   int64  \n",
      " 6   total_profit       1530 non-null   int64  \n",
      " 7   id_movie_info      1530 non-null   int64  \n",
      " 8   synopsis           1530 non-null   object \n",
      " 9   rating             1530 non-null   object \n",
      " 10  genre              1530 non-null   object \n",
      " 11  director           1530 non-null   object \n",
      " 12  writer             1530 non-null   object \n",
      " 13  theater_date       1530 non-null   object \n",
      " 14  dvd_date           1530 non-null   object \n",
      " 15  currency           1530 non-null   object \n",
      " 16  box_office         1530 non-null   object \n",
      " 17  runtime            1530 non-null   float64\n",
      " 18  studio             1530 non-null   object \n",
      "dtypes: float64(1), int64(5), object(13)\n",
      "memory usage: 239.1+ KB\n"
     ]
    }
   ],
   "source": [
    "movie_info_budget = budgets.join(movie_info, how='inner', lsuffix = '_budgets' , rsuffix = '_movie_info')\n",
    "movie_info_budget.info()"
   ]
  },
  {
   "cell_type": "code",
   "execution_count": 44,
   "metadata": {},
   "outputs": [
    {
     "data": {
      "text/html": [
       "<div>\n",
       "<style scoped>\n",
       "    .dataframe tbody tr th:only-of-type {\n",
       "        vertical-align: middle;\n",
       "    }\n",
       "\n",
       "    .dataframe tbody tr th {\n",
       "        vertical-align: top;\n",
       "    }\n",
       "\n",
       "    .dataframe thead th {\n",
       "        text-align: right;\n",
       "    }\n",
       "</style>\n",
       "<table border=\"1\" class=\"dataframe\">\n",
       "  <thead>\n",
       "    <tr style=\"text-align: right;\">\n",
       "      <th></th>\n",
       "      <th>id_budgets</th>\n",
       "      <th>release_date</th>\n",
       "      <th>movie</th>\n",
       "      <th>production_budget</th>\n",
       "      <th>domestic_gross</th>\n",
       "      <th>worldwide_gross</th>\n",
       "      <th>total_profit</th>\n",
       "      <th>id_movie_info</th>\n",
       "      <th>synopsis</th>\n",
       "      <th>rating</th>\n",
       "      <th>genre</th>\n",
       "      <th>director</th>\n",
       "      <th>writer</th>\n",
       "      <th>theater_date</th>\n",
       "      <th>dvd_date</th>\n",
       "      <th>currency</th>\n",
       "      <th>box_office</th>\n",
       "      <th>runtime</th>\n",
       "      <th>studio</th>\n",
       "    </tr>\n",
       "  </thead>\n",
       "  <tbody>\n",
       "    <tr>\n",
       "      <th>0</th>\n",
       "      <td>1</td>\n",
       "      <td>Dec 18, 2009</td>\n",
       "      <td>Avatar</td>\n",
       "      <td>425000000</td>\n",
       "      <td>$760,507,625</td>\n",
       "      <td>2776345279</td>\n",
       "      <td>2351345279</td>\n",
       "      <td>1</td>\n",
       "      <td>This gritty, fast-paced, and innovative police...</td>\n",
       "      <td>R</td>\n",
       "      <td>Action and Adventure|Classics|Drama</td>\n",
       "      <td>William Friedkin</td>\n",
       "      <td>Ernest Tidyman</td>\n",
       "      <td>1971-10-09 00:00:00</td>\n",
       "      <td>2001-09-25 00:00:00</td>\n",
       "      <td>Missing</td>\n",
       "      <td>0</td>\n",
       "      <td>104.0</td>\n",
       "      <td>Missing</td>\n",
       "    </tr>\n",
       "    <tr>\n",
       "      <th>1</th>\n",
       "      <td>2</td>\n",
       "      <td>May 20, 2011</td>\n",
       "      <td>Pirates of the Caribbean: On Stranger Tides</td>\n",
       "      <td>410600000</td>\n",
       "      <td>$241,063,875</td>\n",
       "      <td>1045663875</td>\n",
       "      <td>635063875</td>\n",
       "      <td>3</td>\n",
       "      <td>New York City, not-too-distant-future: Eric Pa...</td>\n",
       "      <td>R</td>\n",
       "      <td>Drama|Science Fiction and Fantasy</td>\n",
       "      <td>David Cronenberg</td>\n",
       "      <td>David Cronenberg|Don DeLillo</td>\n",
       "      <td>2012-08-17 00:00:00</td>\n",
       "      <td>2013-01-01 00:00:00</td>\n",
       "      <td>$</td>\n",
       "      <td>600,000</td>\n",
       "      <td>108.0</td>\n",
       "      <td>Entertainment One</td>\n",
       "    </tr>\n",
       "    <tr>\n",
       "      <th>2</th>\n",
       "      <td>3</td>\n",
       "      <td>Jun 7, 2019</td>\n",
       "      <td>Dark Phoenix</td>\n",
       "      <td>350000000</td>\n",
       "      <td>$42,762,350</td>\n",
       "      <td>149762350</td>\n",
       "      <td>-200237650</td>\n",
       "      <td>5</td>\n",
       "      <td>Illeana Douglas delivers a superb performance ...</td>\n",
       "      <td>R</td>\n",
       "      <td>Drama|Musical and Performing Arts</td>\n",
       "      <td>Allison Anders</td>\n",
       "      <td>Allison Anders</td>\n",
       "      <td>1996-09-13 00:00:00</td>\n",
       "      <td>2000-04-18 00:00:00</td>\n",
       "      <td>Missing</td>\n",
       "      <td>0</td>\n",
       "      <td>116.0</td>\n",
       "      <td>Missing</td>\n",
       "    </tr>\n",
       "    <tr>\n",
       "      <th>3</th>\n",
       "      <td>4</td>\n",
       "      <td>May 1, 2015</td>\n",
       "      <td>Avengers: Age of Ultron</td>\n",
       "      <td>330600000</td>\n",
       "      <td>$459,005,868</td>\n",
       "      <td>1403013963</td>\n",
       "      <td>1072413963</td>\n",
       "      <td>6</td>\n",
       "      <td>Michael Douglas runs afoul of a treacherous su...</td>\n",
       "      <td>R</td>\n",
       "      <td>Drama|Mystery and Suspense</td>\n",
       "      <td>Barry Levinson</td>\n",
       "      <td>Paul Attanasio|Michael Crichton</td>\n",
       "      <td>1994-12-09 00:00:00</td>\n",
       "      <td>1997-08-27 00:00:00</td>\n",
       "      <td>Missing</td>\n",
       "      <td>0</td>\n",
       "      <td>128.0</td>\n",
       "      <td>Missing</td>\n",
       "    </tr>\n",
       "    <tr>\n",
       "      <th>4</th>\n",
       "      <td>5</td>\n",
       "      <td>Dec 15, 2017</td>\n",
       "      <td>Star Wars Ep. VIII: The Last Jedi</td>\n",
       "      <td>317000000</td>\n",
       "      <td>$620,181,382</td>\n",
       "      <td>1316721747</td>\n",
       "      <td>999721747</td>\n",
       "      <td>7</td>\n",
       "      <td>Missing</td>\n",
       "      <td>NR</td>\n",
       "      <td>Drama|Romance</td>\n",
       "      <td>Rodney Bennett</td>\n",
       "      <td>Giles Cooper</td>\n",
       "      <td>1800-01-01</td>\n",
       "      <td>1800-01-01</td>\n",
       "      <td>Missing</td>\n",
       "      <td>0</td>\n",
       "      <td>200.0</td>\n",
       "      <td>Missing</td>\n",
       "    </tr>\n",
       "    <tr>\n",
       "      <th>...</th>\n",
       "      <td>...</td>\n",
       "      <td>...</td>\n",
       "      <td>...</td>\n",
       "      <td>...</td>\n",
       "      <td>...</td>\n",
       "      <td>...</td>\n",
       "      <td>...</td>\n",
       "      <td>...</td>\n",
       "      <td>...</td>\n",
       "      <td>...</td>\n",
       "      <td>...</td>\n",
       "      <td>...</td>\n",
       "      <td>...</td>\n",
       "      <td>...</td>\n",
       "      <td>...</td>\n",
       "      <td>...</td>\n",
       "      <td>...</td>\n",
       "      <td>...</td>\n",
       "      <td>...</td>\n",
       "    </tr>\n",
       "    <tr>\n",
       "      <th>1555</th>\n",
       "      <td>56</td>\n",
       "      <td>Jul 24, 2009</td>\n",
       "      <td>The Ugly Truth</td>\n",
       "      <td>38000000</td>\n",
       "      <td>$88,915,214</td>\n",
       "      <td>205298907</td>\n",
       "      <td>167298907</td>\n",
       "      <td>1996</td>\n",
       "      <td>Forget terrorists or hijackers -- there's a ha...</td>\n",
       "      <td>R</td>\n",
       "      <td>Action and Adventure|Horror|Mystery and Suspense</td>\n",
       "      <td>Missing</td>\n",
       "      <td>Missing</td>\n",
       "      <td>2006-08-18 00:00:00</td>\n",
       "      <td>2007-01-02 00:00:00</td>\n",
       "      <td>$</td>\n",
       "      <td>33,886,034</td>\n",
       "      <td>106.0</td>\n",
       "      <td>New Line Cinema</td>\n",
       "    </tr>\n",
       "    <tr>\n",
       "      <th>1556</th>\n",
       "      <td>57</td>\n",
       "      <td>Aug 7, 2002</td>\n",
       "      <td>Spy Kids 2: The Island of Lost Dreams</td>\n",
       "      <td>38000000</td>\n",
       "      <td>$85,846,296</td>\n",
       "      <td>119721296</td>\n",
       "      <td>81721296</td>\n",
       "      <td>1997</td>\n",
       "      <td>The popular Saturday Night Live sketch was exp...</td>\n",
       "      <td>PG</td>\n",
       "      <td>Comedy|Science Fiction and Fantasy</td>\n",
       "      <td>Steve Barron</td>\n",
       "      <td>Terry Turner|Tom Davis|Dan Aykroyd|Bonnie Turner</td>\n",
       "      <td>1993-07-23 00:00:00</td>\n",
       "      <td>2001-04-17 00:00:00</td>\n",
       "      <td>Missing</td>\n",
       "      <td>0</td>\n",
       "      <td>88.0</td>\n",
       "      <td>Paramount Vantage</td>\n",
       "    </tr>\n",
       "    <tr>\n",
       "      <th>1557</th>\n",
       "      <td>58</td>\n",
       "      <td>Nov 18, 1994</td>\n",
       "      <td>Star Trek: Generations</td>\n",
       "      <td>38000000</td>\n",
       "      <td>$75,671,262</td>\n",
       "      <td>120000000</td>\n",
       "      <td>82000000</td>\n",
       "      <td>1998</td>\n",
       "      <td>Based on a novel by Richard Powell, when the l...</td>\n",
       "      <td>G</td>\n",
       "      <td>Classics|Comedy|Drama|Musical and Performing Arts</td>\n",
       "      <td>Gordon Douglas</td>\n",
       "      <td>Missing</td>\n",
       "      <td>1962-01-01 00:00:00</td>\n",
       "      <td>2004-05-11 00:00:00</td>\n",
       "      <td>Missing</td>\n",
       "      <td>0</td>\n",
       "      <td>111.0</td>\n",
       "      <td>Missing</td>\n",
       "    </tr>\n",
       "    <tr>\n",
       "      <th>1558</th>\n",
       "      <td>59</td>\n",
       "      <td>Jun 2, 2017</td>\n",
       "      <td>Captain Underpants: The First Epic Movie</td>\n",
       "      <td>38000000</td>\n",
       "      <td>$73,921,000</td>\n",
       "      <td>126577874</td>\n",
       "      <td>88577874</td>\n",
       "      <td>1999</td>\n",
       "      <td>The Sandlot is a coming-of-age story about a g...</td>\n",
       "      <td>PG</td>\n",
       "      <td>Comedy|Drama|Kids and Family|Sports and Fitness</td>\n",
       "      <td>David Mickey Evans</td>\n",
       "      <td>David Mickey Evans|Robert Gunter</td>\n",
       "      <td>1993-04-01 00:00:00</td>\n",
       "      <td>2002-01-29 00:00:00</td>\n",
       "      <td>Missing</td>\n",
       "      <td>0</td>\n",
       "      <td>101.0</td>\n",
       "      <td>Missing</td>\n",
       "    </tr>\n",
       "    <tr>\n",
       "      <th>1559</th>\n",
       "      <td>60</td>\n",
       "      <td>Apr 17, 2015</td>\n",
       "      <td>Paul Blart: Mall Cop 2</td>\n",
       "      <td>38000000</td>\n",
       "      <td>$71,091,594</td>\n",
       "      <td>107650646</td>\n",
       "      <td>69650646</td>\n",
       "      <td>2000</td>\n",
       "      <td>Suspended from the force, Paris cop Hubert is ...</td>\n",
       "      <td>R</td>\n",
       "      <td>Action and Adventure|Art House and Internation...</td>\n",
       "      <td>Missing</td>\n",
       "      <td>Luc Besson</td>\n",
       "      <td>2001-09-27 00:00:00</td>\n",
       "      <td>2003-02-11 00:00:00</td>\n",
       "      <td>Missing</td>\n",
       "      <td>0</td>\n",
       "      <td>94.0</td>\n",
       "      <td>Columbia Pictures</td>\n",
       "    </tr>\n",
       "  </tbody>\n",
       "</table>\n",
       "<p>1530 rows × 19 columns</p>\n",
       "</div>"
      ],
      "text/plain": [
       "      id_budgets  release_date                                        movie  \\\n",
       "0              1  Dec 18, 2009                                       Avatar   \n",
       "1              2  May 20, 2011  Pirates of the Caribbean: On Stranger Tides   \n",
       "2              3   Jun 7, 2019                                 Dark Phoenix   \n",
       "3              4   May 1, 2015                      Avengers: Age of Ultron   \n",
       "4              5  Dec 15, 2017            Star Wars Ep. VIII: The Last Jedi   \n",
       "...          ...           ...                                          ...   \n",
       "1555          56  Jul 24, 2009                               The Ugly Truth   \n",
       "1556          57   Aug 7, 2002        Spy Kids 2: The Island of Lost Dreams   \n",
       "1557          58  Nov 18, 1994                       Star Trek: Generations   \n",
       "1558          59   Jun 2, 2017     Captain Underpants: The First Epic Movie   \n",
       "1559          60  Apr 17, 2015                       Paul Blart: Mall Cop 2   \n",
       "\n",
       "      production_budget domestic_gross  worldwide_gross  total_profit  \\\n",
       "0             425000000   $760,507,625       2776345279    2351345279   \n",
       "1             410600000   $241,063,875       1045663875     635063875   \n",
       "2             350000000    $42,762,350        149762350    -200237650   \n",
       "3             330600000   $459,005,868       1403013963    1072413963   \n",
       "4             317000000   $620,181,382       1316721747     999721747   \n",
       "...                 ...            ...              ...           ...   \n",
       "1555           38000000    $88,915,214        205298907     167298907   \n",
       "1556           38000000    $85,846,296        119721296      81721296   \n",
       "1557           38000000    $75,671,262        120000000      82000000   \n",
       "1558           38000000    $73,921,000        126577874      88577874   \n",
       "1559           38000000    $71,091,594        107650646      69650646   \n",
       "\n",
       "      id_movie_info                                           synopsis rating  \\\n",
       "0                 1  This gritty, fast-paced, and innovative police...      R   \n",
       "1                 3  New York City, not-too-distant-future: Eric Pa...      R   \n",
       "2                 5  Illeana Douglas delivers a superb performance ...      R   \n",
       "3                 6  Michael Douglas runs afoul of a treacherous su...      R   \n",
       "4                 7                                            Missing     NR   \n",
       "...             ...                                                ...    ...   \n",
       "1555           1996  Forget terrorists or hijackers -- there's a ha...      R   \n",
       "1556           1997  The popular Saturday Night Live sketch was exp...     PG   \n",
       "1557           1998  Based on a novel by Richard Powell, when the l...      G   \n",
       "1558           1999  The Sandlot is a coming-of-age story about a g...     PG   \n",
       "1559           2000  Suspended from the force, Paris cop Hubert is ...      R   \n",
       "\n",
       "                                                  genre            director  \\\n",
       "0                   Action and Adventure|Classics|Drama    William Friedkin   \n",
       "1                     Drama|Science Fiction and Fantasy    David Cronenberg   \n",
       "2                     Drama|Musical and Performing Arts      Allison Anders   \n",
       "3                            Drama|Mystery and Suspense      Barry Levinson   \n",
       "4                                         Drama|Romance      Rodney Bennett   \n",
       "...                                                 ...                 ...   \n",
       "1555   Action and Adventure|Horror|Mystery and Suspense             Missing   \n",
       "1556                 Comedy|Science Fiction and Fantasy        Steve Barron   \n",
       "1557  Classics|Comedy|Drama|Musical and Performing Arts      Gordon Douglas   \n",
       "1558    Comedy|Drama|Kids and Family|Sports and Fitness  David Mickey Evans   \n",
       "1559  Action and Adventure|Art House and Internation...             Missing   \n",
       "\n",
       "                                                writer         theater_date  \\\n",
       "0                                       Ernest Tidyman  1971-10-09 00:00:00   \n",
       "1                         David Cronenberg|Don DeLillo  2012-08-17 00:00:00   \n",
       "2                                       Allison Anders  1996-09-13 00:00:00   \n",
       "3                      Paul Attanasio|Michael Crichton  1994-12-09 00:00:00   \n",
       "4                                         Giles Cooper           1800-01-01   \n",
       "...                                                ...                  ...   \n",
       "1555                                           Missing  2006-08-18 00:00:00   \n",
       "1556  Terry Turner|Tom Davis|Dan Aykroyd|Bonnie Turner  1993-07-23 00:00:00   \n",
       "1557                                           Missing  1962-01-01 00:00:00   \n",
       "1558                  David Mickey Evans|Robert Gunter  1993-04-01 00:00:00   \n",
       "1559                                        Luc Besson  2001-09-27 00:00:00   \n",
       "\n",
       "                 dvd_date currency  box_office  runtime             studio  \n",
       "0     2001-09-25 00:00:00  Missing           0    104.0            Missing  \n",
       "1     2013-01-01 00:00:00        $     600,000    108.0  Entertainment One  \n",
       "2     2000-04-18 00:00:00  Missing           0    116.0            Missing  \n",
       "3     1997-08-27 00:00:00  Missing           0    128.0            Missing  \n",
       "4              1800-01-01  Missing           0    200.0            Missing  \n",
       "...                   ...      ...         ...      ...                ...  \n",
       "1555  2007-01-02 00:00:00        $  33,886,034    106.0    New Line Cinema  \n",
       "1556  2001-04-17 00:00:00  Missing           0     88.0  Paramount Vantage  \n",
       "1557  2004-05-11 00:00:00  Missing           0    111.0            Missing  \n",
       "1558  2002-01-29 00:00:00  Missing           0    101.0            Missing  \n",
       "1559  2003-02-11 00:00:00  Missing           0     94.0  Columbia Pictures  \n",
       "\n",
       "[1530 rows x 19 columns]"
      ]
     },
     "execution_count": 44,
     "metadata": {},
     "output_type": "execute_result"
    }
   ],
   "source": [
    "movie_info_budget"
   ]
  },
  {
   "cell_type": "code",
   "execution_count": 98,
   "metadata": {},
   "outputs": [
    {
     "data": {
      "text/plain": [
       "count    1.530000e+03\n",
       "mean     2.373694e+08\n",
       "std      2.688401e+08\n",
       "min      0.000000e+00\n",
       "25%      6.756215e+07\n",
       "50%      1.521442e+08\n",
       "75%      3.039617e+08\n",
       "max      2.776345e+09\n",
       "Name: worldwide_gross, dtype: float64"
      ]
     },
     "execution_count": 98,
     "metadata": {},
     "output_type": "execute_result"
    }
   ],
   "source": [
    "movie_info_budget['worldwide_gross'].describe()"
   ]
  },
  {
   "cell_type": "code",
   "execution_count": 78,
   "metadata": {},
   "outputs": [
    {
     "data": {
      "text/html": [
       "<div>\n",
       "<style scoped>\n",
       "    .dataframe tbody tr th:only-of-type {\n",
       "        vertical-align: middle;\n",
       "    }\n",
       "\n",
       "    .dataframe tbody tr th {\n",
       "        vertical-align: top;\n",
       "    }\n",
       "\n",
       "    .dataframe thead th {\n",
       "        text-align: right;\n",
       "    }\n",
       "</style>\n",
       "<table border=\"1\" class=\"dataframe\">\n",
       "  <thead>\n",
       "    <tr style=\"text-align: right;\">\n",
       "      <th></th>\n",
       "      <th>movie</th>\n",
       "    </tr>\n",
       "    <tr>\n",
       "      <th>director</th>\n",
       "      <th></th>\n",
       "    </tr>\n",
       "  </thead>\n",
       "  <tbody>\n",
       "    <tr>\n",
       "      <th>Abel Ferrara</th>\n",
       "      <td>2</td>\n",
       "    </tr>\n",
       "    <tr>\n",
       "      <th>Adam Ravetch|Sarah Robertson</th>\n",
       "      <td>1</td>\n",
       "    </tr>\n",
       "    <tr>\n",
       "      <th>Adam Shankman</th>\n",
       "      <td>1</td>\n",
       "    </tr>\n",
       "    <tr>\n",
       "      <th>Adam Silver|Ben Hayflick</th>\n",
       "      <td>1</td>\n",
       "    </tr>\n",
       "    <tr>\n",
       "      <th>Aditya Chopra</th>\n",
       "      <td>1</td>\n",
       "    </tr>\n",
       "    <tr>\n",
       "      <th>...</th>\n",
       "      <td>...</td>\n",
       "    </tr>\n",
       "    <tr>\n",
       "      <th>Youssef Delara</th>\n",
       "      <td>1</td>\n",
       "    </tr>\n",
       "    <tr>\n",
       "      <th>Yves Simoneau</th>\n",
       "      <td>1</td>\n",
       "    </tr>\n",
       "    <tr>\n",
       "      <th>Zak Penn</th>\n",
       "      <td>1</td>\n",
       "    </tr>\n",
       "    <tr>\n",
       "      <th>Zeresenay Berhane Mehari</th>\n",
       "      <td>1</td>\n",
       "    </tr>\n",
       "    <tr>\n",
       "      <th>Zhang Jun Zhao</th>\n",
       "      <td>1</td>\n",
       "    </tr>\n",
       "  </tbody>\n",
       "</table>\n",
       "<p>1116 rows × 1 columns</p>\n",
       "</div>"
      ],
      "text/plain": [
       "                              movie\n",
       "director                           \n",
       "Abel Ferrara                      2\n",
       "Adam Ravetch|Sarah Robertson      1\n",
       "Adam Shankman                     1\n",
       "Adam Silver|Ben Hayflick          1\n",
       "Aditya Chopra                     1\n",
       "...                             ...\n",
       "Youssef Delara                    1\n",
       "Yves Simoneau                     1\n",
       "Zak Penn                          1\n",
       "Zeresenay Berhane Mehari          1\n",
       "Zhang Jun Zhao                    1\n",
       "\n",
       "[1116 rows x 1 columns]"
      ]
     },
     "execution_count": 78,
     "metadata": {},
     "output_type": "execute_result"
    }
   ],
   "source": [
    "#Create top directors df so that we can visualize top directors and top profit\n",
    "director_counts = pd.DataFrame(movie_info_budget.groupby('director')['movie'].count())\n",
    "director_counts"
   ]
  },
  {
   "cell_type": "code",
   "execution_count": 90,
   "metadata": {},
   "outputs": [
    {
     "data": {
      "text/html": [
       "<div>\n",
       "<style scoped>\n",
       "    .dataframe tbody tr th:only-of-type {\n",
       "        vertical-align: middle;\n",
       "    }\n",
       "\n",
       "    .dataframe tbody tr th {\n",
       "        vertical-align: top;\n",
       "    }\n",
       "\n",
       "    .dataframe thead th {\n",
       "        text-align: right;\n",
       "    }\n",
       "</style>\n",
       "<table border=\"1\" class=\"dataframe\">\n",
       "  <thead>\n",
       "    <tr style=\"text-align: right;\">\n",
       "      <th></th>\n",
       "      <th>total_profit</th>\n",
       "    </tr>\n",
       "    <tr>\n",
       "      <th>director</th>\n",
       "      <th></th>\n",
       "    </tr>\n",
       "  </thead>\n",
       "  <tbody>\n",
       "    <tr>\n",
       "      <th>Abel Ferrara</th>\n",
       "      <td>236643115</td>\n",
       "    </tr>\n",
       "    <tr>\n",
       "      <th>Adam Ravetch|Sarah Robertson</th>\n",
       "      <td>72525156</td>\n",
       "    </tr>\n",
       "    <tr>\n",
       "      <th>Adam Shankman</th>\n",
       "      <td>225500000</td>\n",
       "    </tr>\n",
       "    <tr>\n",
       "      <th>Adam Silver|Ben Hayflick</th>\n",
       "      <td>122981799</td>\n",
       "    </tr>\n",
       "    <tr>\n",
       "      <th>Aditya Chopra</th>\n",
       "      <td>546865</td>\n",
       "    </tr>\n",
       "    <tr>\n",
       "      <th>...</th>\n",
       "      <td>...</td>\n",
       "    </tr>\n",
       "    <tr>\n",
       "      <th>Youssef Delara</th>\n",
       "      <td>-11019637</td>\n",
       "    </tr>\n",
       "    <tr>\n",
       "      <th>Yves Simoneau</th>\n",
       "      <td>109558505</td>\n",
       "    </tr>\n",
       "    <tr>\n",
       "      <th>Zak Penn</th>\n",
       "      <td>168700000</td>\n",
       "    </tr>\n",
       "    <tr>\n",
       "      <th>Zeresenay Berhane Mehari</th>\n",
       "      <td>85569212</td>\n",
       "    </tr>\n",
       "    <tr>\n",
       "      <th>Zhang Jun Zhao</th>\n",
       "      <td>-23827800</td>\n",
       "    </tr>\n",
       "  </tbody>\n",
       "</table>\n",
       "<p>1116 rows × 1 columns</p>\n",
       "</div>"
      ],
      "text/plain": [
       "                              total_profit\n",
       "director                                  \n",
       "Abel Ferrara                     236643115\n",
       "Adam Ravetch|Sarah Robertson      72525156\n",
       "Adam Shankman                    225500000\n",
       "Adam Silver|Ben Hayflick         122981799\n",
       "Aditya Chopra                       546865\n",
       "...                                    ...\n",
       "Youssef Delara                   -11019637\n",
       "Yves Simoneau                    109558505\n",
       "Zak Penn                         168700000\n",
       "Zeresenay Berhane Mehari          85569212\n",
       "Zhang Jun Zhao                   -23827800\n",
       "\n",
       "[1116 rows x 1 columns]"
      ]
     },
     "execution_count": 90,
     "metadata": {},
     "output_type": "execute_result"
    }
   ],
   "source": [
    "director_total_profit = pd.DataFrame(movie_info_budget.groupby('director')['total_profit'].sum())\n",
    "director_total_profit"
   ]
  },
  {
   "cell_type": "code",
   "execution_count": 91,
   "metadata": {},
   "outputs": [
    {
     "data": {
      "text/html": [
       "<div>\n",
       "<style scoped>\n",
       "    .dataframe tbody tr th:only-of-type {\n",
       "        vertical-align: middle;\n",
       "    }\n",
       "\n",
       "    .dataframe tbody tr th {\n",
       "        vertical-align: top;\n",
       "    }\n",
       "\n",
       "    .dataframe thead th {\n",
       "        text-align: right;\n",
       "    }\n",
       "</style>\n",
       "<table border=\"1\" class=\"dataframe\">\n",
       "  <thead>\n",
       "    <tr style=\"text-align: right;\">\n",
       "      <th></th>\n",
       "      <th>movie</th>\n",
       "      <th>total_profit</th>\n",
       "    </tr>\n",
       "    <tr>\n",
       "      <th>director</th>\n",
       "      <th></th>\n",
       "      <th></th>\n",
       "    </tr>\n",
       "  </thead>\n",
       "  <tbody>\n",
       "    <tr>\n",
       "      <th>Abel Ferrara</th>\n",
       "      <td>2</td>\n",
       "      <td>236643115</td>\n",
       "    </tr>\n",
       "    <tr>\n",
       "      <th>Adam Ravetch|Sarah Robertson</th>\n",
       "      <td>1</td>\n",
       "      <td>72525156</td>\n",
       "    </tr>\n",
       "    <tr>\n",
       "      <th>Adam Shankman</th>\n",
       "      <td>1</td>\n",
       "      <td>225500000</td>\n",
       "    </tr>\n",
       "    <tr>\n",
       "      <th>Adam Silver|Ben Hayflick</th>\n",
       "      <td>1</td>\n",
       "      <td>122981799</td>\n",
       "    </tr>\n",
       "    <tr>\n",
       "      <th>Aditya Chopra</th>\n",
       "      <td>1</td>\n",
       "      <td>546865</td>\n",
       "    </tr>\n",
       "    <tr>\n",
       "      <th>...</th>\n",
       "      <td>...</td>\n",
       "      <td>...</td>\n",
       "    </tr>\n",
       "    <tr>\n",
       "      <th>Youssef Delara</th>\n",
       "      <td>1</td>\n",
       "      <td>-11019637</td>\n",
       "    </tr>\n",
       "    <tr>\n",
       "      <th>Yves Simoneau</th>\n",
       "      <td>1</td>\n",
       "      <td>109558505</td>\n",
       "    </tr>\n",
       "    <tr>\n",
       "      <th>Zak Penn</th>\n",
       "      <td>1</td>\n",
       "      <td>168700000</td>\n",
       "    </tr>\n",
       "    <tr>\n",
       "      <th>Zeresenay Berhane Mehari</th>\n",
       "      <td>1</td>\n",
       "      <td>85569212</td>\n",
       "    </tr>\n",
       "    <tr>\n",
       "      <th>Zhang Jun Zhao</th>\n",
       "      <td>1</td>\n",
       "      <td>-23827800</td>\n",
       "    </tr>\n",
       "  </tbody>\n",
       "</table>\n",
       "<p>1116 rows × 2 columns</p>\n",
       "</div>"
      ],
      "text/plain": [
       "                              movie  total_profit\n",
       "director                                         \n",
       "Abel Ferrara                      2     236643115\n",
       "Adam Ravetch|Sarah Robertson      1      72525156\n",
       "Adam Shankman                     1     225500000\n",
       "Adam Silver|Ben Hayflick          1     122981799\n",
       "Aditya Chopra                     1        546865\n",
       "...                             ...           ...\n",
       "Youssef Delara                    1     -11019637\n",
       "Yves Simoneau                     1     109558505\n",
       "Zak Penn                          1     168700000\n",
       "Zeresenay Berhane Mehari          1      85569212\n",
       "Zhang Jun Zhao                    1     -23827800\n",
       "\n",
       "[1116 rows x 2 columns]"
      ]
     },
     "execution_count": 91,
     "metadata": {},
     "output_type": "execute_result"
    }
   ],
   "source": [
    "top_directors = director_counts.join(director_total_profit, how='outer', lsuffix = '_director_counts' , rsuffix = 'director_total_profit')\n",
    "top_directors\n"
   ]
  },
  {
   "cell_type": "code",
   "execution_count": 92,
   "metadata": {},
   "outputs": [
    {
     "data": {
      "text/html": [
       "<div>\n",
       "<style scoped>\n",
       "    .dataframe tbody tr th:only-of-type {\n",
       "        vertical-align: middle;\n",
       "    }\n",
       "\n",
       "    .dataframe tbody tr th {\n",
       "        vertical-align: top;\n",
       "    }\n",
       "\n",
       "    .dataframe thead th {\n",
       "        text-align: right;\n",
       "    }\n",
       "</style>\n",
       "<table border=\"1\" class=\"dataframe\">\n",
       "  <thead>\n",
       "    <tr style=\"text-align: right;\">\n",
       "      <th></th>\n",
       "      <th>movie</th>\n",
       "      <th>total_profit</th>\n",
       "    </tr>\n",
       "    <tr>\n",
       "      <th>director</th>\n",
       "      <th></th>\n",
       "      <th></th>\n",
       "    </tr>\n",
       "  </thead>\n",
       "  <tbody>\n",
       "    <tr>\n",
       "      <th>Missing</th>\n",
       "      <td>185</td>\n",
       "      <td>31826478984</td>\n",
       "    </tr>\n",
       "    <tr>\n",
       "      <th>William Friedkin</th>\n",
       "      <td>4</td>\n",
       "      <td>2705957834</td>\n",
       "    </tr>\n",
       "    <tr>\n",
       "      <th>Henning Schellerup</th>\n",
       "      <td>1</td>\n",
       "      <td>2008208395</td>\n",
       "    </tr>\n",
       "    <tr>\n",
       "      <th>Steven Spielberg</th>\n",
       "      <td>10</td>\n",
       "      <td>1777836004</td>\n",
       "    </tr>\n",
       "    <tr>\n",
       "      <th>Jake Kasdan</th>\n",
       "      <td>1</td>\n",
       "      <td>1748134200</td>\n",
       "    </tr>\n",
       "    <tr>\n",
       "      <th>...</th>\n",
       "      <td>...</td>\n",
       "      <td>...</td>\n",
       "    </tr>\n",
       "    <tr>\n",
       "      <th>Robert Hartford-Davis</th>\n",
       "      <td>1</td>\n",
       "      <td>-94635231</td>\n",
       "    </tr>\n",
       "    <tr>\n",
       "      <th>Renny Harlin</th>\n",
       "      <td>2</td>\n",
       "      <td>-111069937</td>\n",
       "    </tr>\n",
       "    <tr>\n",
       "      <th>Richard Thorpe</th>\n",
       "      <td>2</td>\n",
       "      <td>-117780537</td>\n",
       "    </tr>\n",
       "    <tr>\n",
       "      <th>Jack Bender</th>\n",
       "      <td>1</td>\n",
       "      <td>-150000000</td>\n",
       "    </tr>\n",
       "    <tr>\n",
       "      <th>Allison Anders</th>\n",
       "      <td>1</td>\n",
       "      <td>-200237650</td>\n",
       "    </tr>\n",
       "  </tbody>\n",
       "</table>\n",
       "<p>1116 rows × 2 columns</p>\n",
       "</div>"
      ],
      "text/plain": [
       "                       movie  total_profit\n",
       "director                                  \n",
       "Missing                  185   31826478984\n",
       "William Friedkin           4    2705957834\n",
       "Henning Schellerup         1    2008208395\n",
       "Steven Spielberg          10    1777836004\n",
       "Jake Kasdan                1    1748134200\n",
       "...                      ...           ...\n",
       "Robert Hartford-Davis      1     -94635231\n",
       "Renny Harlin               2    -111069937\n",
       "Richard Thorpe             2    -117780537\n",
       "Jack Bender                1    -150000000\n",
       "Allison Anders             1    -200237650\n",
       "\n",
       "[1116 rows x 2 columns]"
      ]
     },
     "execution_count": 92,
     "metadata": {},
     "output_type": "execute_result"
    }
   ],
   "source": [
    "top_directors = top_directors.sort_values(by='total_profit', ascending=False)\n",
    "top_directors"
   ]
  },
  {
   "cell_type": "code",
   "execution_count": 93,
   "metadata": {},
   "outputs": [],
   "source": [
    "top_directors = top_directors.drop(labels=\"Missing\")"
   ]
  },
  {
   "cell_type": "code",
   "execution_count": 94,
   "metadata": {},
   "outputs": [
    {
     "name": "stderr",
     "output_type": "stream",
     "text": [
      "C:\\Users\\dtaher\\Anaconda3\\envs\\learn-env\\lib\\site-packages\\seaborn\\_decorators.py:36: FutureWarning: Pass the following variables as keyword args: x, y. From version 0.12, the only valid positional argument will be `data`, and passing other arguments without an explicit keyword will result in an error or misinterpretation.\n",
      "  warnings.warn(\n"
     ]
    },
    {
     "data": {
      "image/png": "[encoded data removed]",
      "text/plain": [
       "<Figure size 864x576 with 1 Axes>"
      ]
     },
     "metadata": {
      "needs_background": "light"
     },
     "output_type": "display_data"
    }
   ],
   "source": [
    "# Plot total profit vs. count of movies directed \n",
    "plt.figure(figsize=(12,8))\n",
    "sns.boxplot(top_directors['movie'], top_directors['total_profit'])\n",
    "plt.title('Total Profit vs. Movies Directed', fontsize=16)\n",
    "plt.xlabel('Total Movies Directed')\n",
    "plt.ylabel('Total Profit')\n",
    "plt.tight_layout()\n",
    "plt.show()"
   ]
  },
  {
   "cell_type": "code",
   "execution_count": 50,
   "metadata": {},
   "outputs": [
    {
     "data": {
      "image/png": "[encoded data removed]",
      "text/plain": [
       "<Figure size 720x720 with 1 Axes>"
      ]
     },
     "metadata": {
      "needs_background": "light"
     },
     "output_type": "display_data"
    }
   ],
   "source": [
    "movie_info_budget.plot(x=\"director\", y=\"total_profit\",\n",
    "        kind=\"bar\", figsize=(10, 10));"
   ]
  },
  {
   "cell_type": "markdown",
   "metadata": {},
   "source": [
    "### Looking at tmdb data set\n",
    "### tmdb Movies"
   ]
  },
  {
   "cell_type": "code",
   "execution_count": 99,
   "metadata": {},
   "outputs": [
    {
     "data": {
      "text/html": [
       "<div>\n",
       "<style scoped>\n",
       "    .dataframe tbody tr th:only-of-type {\n",
       "        vertical-align: middle;\n",
       "    }\n",
       "\n",
       "    .dataframe tbody tr th {\n",
       "        vertical-align: top;\n",
       "    }\n",
       "\n",
       "    .dataframe thead th {\n",
       "        text-align: right;\n",
       "    }\n",
       "</style>\n",
       "<table border=\"1\" class=\"dataframe\">\n",
       "  <thead>\n",
       "    <tr style=\"text-align: right;\">\n",
       "      <th></th>\n",
       "      <th>genre_ids</th>\n",
       "      <th>id</th>\n",
       "      <th>original_language</th>\n",
       "      <th>original_title</th>\n",
       "      <th>popularity</th>\n",
       "      <th>release_date</th>\n",
       "      <th>title</th>\n",
       "      <th>vote_average</th>\n",
       "      <th>vote_count</th>\n",
       "    </tr>\n",
       "  </thead>\n",
       "  <tbody>\n",
       "    <tr>\n",
       "      <th>0</th>\n",
       "      <td>[12, 14, 10751]</td>\n",
       "      <td>12444</td>\n",
       "      <td>en</td>\n",
       "      <td>Harry Potter and the Deathly Hallows: Part 1</td>\n",
       "      <td>33.533</td>\n",
       "      <td>2010-11-19</td>\n",
       "      <td>Harry Potter and the Deathly Hallows: Part 1</td>\n",
       "      <td>7.7</td>\n",
       "      <td>10788</td>\n",
       "    </tr>\n",
       "    <tr>\n",
       "      <th>1</th>\n",
       "      <td>[14, 12, 16, 10751]</td>\n",
       "      <td>10191</td>\n",
       "      <td>en</td>\n",
       "      <td>How to Train Your Dragon</td>\n",
       "      <td>28.734</td>\n",
       "      <td>2010-03-26</td>\n",
       "      <td>How to Train Your Dragon</td>\n",
       "      <td>7.7</td>\n",
       "      <td>7610</td>\n",
       "    </tr>\n",
       "    <tr>\n",
       "      <th>2</th>\n",
       "      <td>[12, 28, 878]</td>\n",
       "      <td>10138</td>\n",
       "      <td>en</td>\n",
       "      <td>Iron Man 2</td>\n",
       "      <td>28.515</td>\n",
       "      <td>2010-05-07</td>\n",
       "      <td>Iron Man 2</td>\n",
       "      <td>6.8</td>\n",
       "      <td>12368</td>\n",
       "    </tr>\n",
       "    <tr>\n",
       "      <th>3</th>\n",
       "      <td>[16, 35, 10751]</td>\n",
       "      <td>862</td>\n",
       "      <td>en</td>\n",
       "      <td>Toy Story</td>\n",
       "      <td>28.005</td>\n",
       "      <td>1995-11-22</td>\n",
       "      <td>Toy Story</td>\n",
       "      <td>7.9</td>\n",
       "      <td>10174</td>\n",
       "    </tr>\n",
       "    <tr>\n",
       "      <th>4</th>\n",
       "      <td>[28, 878, 12]</td>\n",
       "      <td>27205</td>\n",
       "      <td>en</td>\n",
       "      <td>Inception</td>\n",
       "      <td>27.920</td>\n",
       "      <td>2010-07-16</td>\n",
       "      <td>Inception</td>\n",
       "      <td>8.3</td>\n",
       "      <td>22186</td>\n",
       "    </tr>\n",
       "    <tr>\n",
       "      <th>...</th>\n",
       "      <td>...</td>\n",
       "      <td>...</td>\n",
       "      <td>...</td>\n",
       "      <td>...</td>\n",
       "      <td>...</td>\n",
       "      <td>...</td>\n",
       "      <td>...</td>\n",
       "      <td>...</td>\n",
       "      <td>...</td>\n",
       "    </tr>\n",
       "    <tr>\n",
       "      <th>26512</th>\n",
       "      <td>[27, 18]</td>\n",
       "      <td>488143</td>\n",
       "      <td>en</td>\n",
       "      <td>Laboratory Conditions</td>\n",
       "      <td>0.600</td>\n",
       "      <td>2018-10-13</td>\n",
       "      <td>Laboratory Conditions</td>\n",
       "      <td>0.0</td>\n",
       "      <td>1</td>\n",
       "    </tr>\n",
       "    <tr>\n",
       "      <th>26513</th>\n",
       "      <td>[18, 53]</td>\n",
       "      <td>485975</td>\n",
       "      <td>en</td>\n",
       "      <td>_EXHIBIT_84xxx_</td>\n",
       "      <td>0.600</td>\n",
       "      <td>2018-05-01</td>\n",
       "      <td>_EXHIBIT_84xxx_</td>\n",
       "      <td>0.0</td>\n",
       "      <td>1</td>\n",
       "    </tr>\n",
       "    <tr>\n",
       "      <th>26514</th>\n",
       "      <td>[14, 28, 12]</td>\n",
       "      <td>381231</td>\n",
       "      <td>en</td>\n",
       "      <td>The Last One</td>\n",
       "      <td>0.600</td>\n",
       "      <td>2018-10-01</td>\n",
       "      <td>The Last One</td>\n",
       "      <td>0.0</td>\n",
       "      <td>1</td>\n",
       "    </tr>\n",
       "    <tr>\n",
       "      <th>26515</th>\n",
       "      <td>[10751, 12, 28]</td>\n",
       "      <td>366854</td>\n",
       "      <td>en</td>\n",
       "      <td>Trailer Made</td>\n",
       "      <td>0.600</td>\n",
       "      <td>2018-06-22</td>\n",
       "      <td>Trailer Made</td>\n",
       "      <td>0.0</td>\n",
       "      <td>1</td>\n",
       "    </tr>\n",
       "    <tr>\n",
       "      <th>26516</th>\n",
       "      <td>[53, 27]</td>\n",
       "      <td>309885</td>\n",
       "      <td>en</td>\n",
       "      <td>The Church</td>\n",
       "      <td>0.600</td>\n",
       "      <td>2018-10-05</td>\n",
       "      <td>The Church</td>\n",
       "      <td>0.0</td>\n",
       "      <td>1</td>\n",
       "    </tr>\n",
       "  </tbody>\n",
       "</table>\n",
       "<p>26517 rows × 9 columns</p>\n",
       "</div>"
      ],
      "text/plain": [
       "                 genre_ids      id original_language  \\\n",
       "0          [12, 14, 10751]   12444                en   \n",
       "1      [14, 12, 16, 10751]   10191                en   \n",
       "2            [12, 28, 878]   10138                en   \n",
       "3          [16, 35, 10751]     862                en   \n",
       "4            [28, 878, 12]   27205                en   \n",
       "...                    ...     ...               ...   \n",
       "26512             [27, 18]  488143                en   \n",
       "26513             [18, 53]  485975                en   \n",
       "26514         [14, 28, 12]  381231                en   \n",
       "26515      [10751, 12, 28]  366854                en   \n",
       "26516             [53, 27]  309885                en   \n",
       "\n",
       "                                     original_title  popularity release_date  \\\n",
       "0      Harry Potter and the Deathly Hallows: Part 1      33.533   2010-11-19   \n",
       "1                          How to Train Your Dragon      28.734   2010-03-26   \n",
       "2                                        Iron Man 2      28.515   2010-05-07   \n",
       "3                                         Toy Story      28.005   1995-11-22   \n",
       "4                                         Inception      27.920   2010-07-16   \n",
       "...                                             ...         ...          ...   \n",
       "26512                         Laboratory Conditions       0.600   2018-10-13   \n",
       "26513                               _EXHIBIT_84xxx_       0.600   2018-05-01   \n",
       "26514                                  The Last One       0.600   2018-10-01   \n",
       "26515                                  Trailer Made       0.600   2018-06-22   \n",
       "26516                                    The Church       0.600   2018-10-05   \n",
       "\n",
       "                                              title  vote_average  vote_count  \n",
       "0      Harry Potter and the Deathly Hallows: Part 1           7.7       10788  \n",
       "1                          How to Train Your Dragon           7.7        7610  \n",
       "2                                        Iron Man 2           6.8       12368  \n",
       "3                                         Toy Story           7.9       10174  \n",
       "4                                         Inception           8.3       22186  \n",
       "...                                             ...           ...         ...  \n",
       "26512                         Laboratory Conditions           0.0           1  \n",
       "26513                               _EXHIBIT_84xxx_           0.0           1  \n",
       "26514                                  The Last One           0.0           1  \n",
       "26515                                  Trailer Made           0.0           1  \n",
       "26516                                    The Church           0.0           1  \n",
       "\n",
       "[26517 rows x 9 columns]"
      ]
     },
     "execution_count": 99,
     "metadata": {},
     "output_type": "execute_result"
    }
   ],
   "source": [
    "tmdb = pd.read_csv('Data/tmdb.movies.csv', index_col=0, parse_dates=['release_date'])\n",
    "tmdb"
   ]
  },
  {
   "cell_type": "code",
   "execution_count": 100,
   "metadata": {},
   "outputs": [
    {
     "name": "stdout",
     "output_type": "stream",
     "text": [
      "<class 'pandas.core.frame.DataFrame'>\n",
      "Int64Index: 26517 entries, 0 to 26516\n",
      "Data columns (total 9 columns):\n",
      " #   Column             Non-Null Count  Dtype         \n",
      "---  ------             --------------  -----         \n",
      " 0   genre_ids          26517 non-null  object        \n",
      " 1   id                 26517 non-null  int64         \n",
      " 2   original_language  26517 non-null  object        \n",
      " 3   original_title     26517 non-null  object        \n",
      " 4   popularity         26517 non-null  float64       \n",
      " 5   release_date       26517 non-null  datetime64[ns]\n",
      " 6   title              26517 non-null  object        \n",
      " 7   vote_average       26517 non-null  float64       \n",
      " 8   vote_count         26517 non-null  int64         \n",
      "dtypes: datetime64[ns](1), float64(2), int64(2), object(4)\n",
      "memory usage: 2.0+ MB\n"
     ]
    }
   ],
   "source": [
    "tmdb.info()"
   ]
  },
  {
   "cell_type": "code",
   "execution_count": 101,
   "metadata": {},
   "outputs": [
    {
     "data": {
      "text/plain": [
       "genre_ids            0\n",
       "id                   0\n",
       "original_language    0\n",
       "original_title       0\n",
       "popularity           0\n",
       "release_date         0\n",
       "title                0\n",
       "vote_average         0\n",
       "vote_count           0\n",
       "dtype: int64"
      ]
     },
     "execution_count": 101,
     "metadata": {},
     "output_type": "execute_result"
    }
   ],
   "source": [
    "# it looks like we don't have any null values, but just to confirm:\n",
    "tmdb.isna().sum()"
   ]
  },
  {
   "cell_type": "code",
   "execution_count": 102,
   "metadata": {},
   "outputs": [
    {
     "data": {
      "text/html": [
       "<div>\n",
       "<style scoped>\n",
       "    .dataframe tbody tr th:only-of-type {\n",
       "        vertical-align: middle;\n",
       "    }\n",
       "\n",
       "    .dataframe tbody tr th {\n",
       "        vertical-align: top;\n",
       "    }\n",
       "\n",
       "    .dataframe thead th {\n",
       "        text-align: right;\n",
       "    }\n",
       "</style>\n",
       "<table border=\"1\" class=\"dataframe\">\n",
       "  <thead>\n",
       "    <tr style=\"text-align: right;\">\n",
       "      <th></th>\n",
       "      <th>id</th>\n",
       "      <th>popularity</th>\n",
       "      <th>vote_average</th>\n",
       "      <th>vote_count</th>\n",
       "    </tr>\n",
       "  </thead>\n",
       "  <tbody>\n",
       "    <tr>\n",
       "      <th>count</th>\n",
       "      <td>26517.000000</td>\n",
       "      <td>26517.000000</td>\n",
       "      <td>26517.000000</td>\n",
       "      <td>26517.000000</td>\n",
       "    </tr>\n",
       "    <tr>\n",
       "      <th>mean</th>\n",
       "      <td>295050.153260</td>\n",
       "      <td>3.130912</td>\n",
       "      <td>5.991281</td>\n",
       "      <td>194.224837</td>\n",
       "    </tr>\n",
       "    <tr>\n",
       "      <th>std</th>\n",
       "      <td>153661.615648</td>\n",
       "      <td>4.355229</td>\n",
       "      <td>1.852946</td>\n",
       "      <td>960.961095</td>\n",
       "    </tr>\n",
       "    <tr>\n",
       "      <th>min</th>\n",
       "      <td>27.000000</td>\n",
       "      <td>0.600000</td>\n",
       "      <td>0.000000</td>\n",
       "      <td>1.000000</td>\n",
       "    </tr>\n",
       "    <tr>\n",
       "      <th>25%</th>\n",
       "      <td>157851.000000</td>\n",
       "      <td>0.600000</td>\n",
       "      <td>5.000000</td>\n",
       "      <td>2.000000</td>\n",
       "    </tr>\n",
       "    <tr>\n",
       "      <th>50%</th>\n",
       "      <td>309581.000000</td>\n",
       "      <td>1.374000</td>\n",
       "      <td>6.000000</td>\n",
       "      <td>5.000000</td>\n",
       "    </tr>\n",
       "    <tr>\n",
       "      <th>75%</th>\n",
       "      <td>419542.000000</td>\n",
       "      <td>3.694000</td>\n",
       "      <td>7.000000</td>\n",
       "      <td>28.000000</td>\n",
       "    </tr>\n",
       "    <tr>\n",
       "      <th>max</th>\n",
       "      <td>608444.000000</td>\n",
       "      <td>80.773000</td>\n",
       "      <td>10.000000</td>\n",
       "      <td>22186.000000</td>\n",
       "    </tr>\n",
       "  </tbody>\n",
       "</table>\n",
       "</div>"
      ],
      "text/plain": [
       "                  id    popularity  vote_average    vote_count\n",
       "count   26517.000000  26517.000000  26517.000000  26517.000000\n",
       "mean   295050.153260      3.130912      5.991281    194.224837\n",
       "std    153661.615648      4.355229      1.852946    960.961095\n",
       "min        27.000000      0.600000      0.000000      1.000000\n",
       "25%    157851.000000      0.600000      5.000000      2.000000\n",
       "50%    309581.000000      1.374000      6.000000      5.000000\n",
       "75%    419542.000000      3.694000      7.000000     28.000000\n",
       "max    608444.000000     80.773000     10.000000  22186.000000"
      ]
     },
     "execution_count": 102,
     "metadata": {},
     "output_type": "execute_result"
    }
   ],
   "source": [
    "tmdb.describe()"
   ]
  },
  {
   "cell_type": "markdown",
   "metadata": {},
   "source": [
    "### Look at Movies by popularity"
   ]
  },
  {
   "cell_type": "markdown",
   "metadata": {},
   "source": [
    "Top Ten movies:"
   ]
  },
  {
   "cell_type": "code",
   "execution_count": 103,
   "metadata": {},
   "outputs": [
    {
     "data": {
      "text/html": [
       "<div>\n",
       "<style scoped>\n",
       "    .dataframe tbody tr th:only-of-type {\n",
       "        vertical-align: middle;\n",
       "    }\n",
       "\n",
       "    .dataframe tbody tr th {\n",
       "        vertical-align: top;\n",
       "    }\n",
       "\n",
       "    .dataframe thead th {\n",
       "        text-align: right;\n",
       "    }\n",
       "</style>\n",
       "<table border=\"1\" class=\"dataframe\">\n",
       "  <thead>\n",
       "    <tr style=\"text-align: right;\">\n",
       "      <th></th>\n",
       "      <th>popularity</th>\n",
       "    </tr>\n",
       "    <tr>\n",
       "      <th>original_title</th>\n",
       "      <th></th>\n",
       "    </tr>\n",
       "  </thead>\n",
       "  <tbody>\n",
       "    <tr>\n",
       "      <th>Avengers: Infinity War</th>\n",
       "      <td>80.773</td>\n",
       "    </tr>\n",
       "    <tr>\n",
       "      <th>John Wick</th>\n",
       "      <td>78.123</td>\n",
       "    </tr>\n",
       "    <tr>\n",
       "      <th>Spider-Man: Into the Spider-Verse</th>\n",
       "      <td>60.534</td>\n",
       "    </tr>\n",
       "    <tr>\n",
       "      <th>The Hobbit: The Battle of the Five Armies</th>\n",
       "      <td>53.783</td>\n",
       "    </tr>\n",
       "    <tr>\n",
       "      <th>The Avengers</th>\n",
       "      <td>50.289</td>\n",
       "    </tr>\n",
       "    <tr>\n",
       "      <th>Guardians of the Galaxy</th>\n",
       "      <td>49.606</td>\n",
       "    </tr>\n",
       "    <tr>\n",
       "      <th>Blade Runner 2049</th>\n",
       "      <td>48.571</td>\n",
       "    </tr>\n",
       "    <tr>\n",
       "      <th>Fantastic Beasts: The Crimes of Grindelwald</th>\n",
       "      <td>48.508</td>\n",
       "    </tr>\n",
       "    <tr>\n",
       "      <th>Ralph Breaks the Internet</th>\n",
       "      <td>48.057</td>\n",
       "    </tr>\n",
       "    <tr>\n",
       "      <th>Spider-Man: Homecoming</th>\n",
       "      <td>46.775</td>\n",
       "    </tr>\n",
       "  </tbody>\n",
       "</table>\n",
       "</div>"
      ],
      "text/plain": [
       "                                             popularity\n",
       "original_title                                         \n",
       "Avengers: Infinity War                           80.773\n",
       "John Wick                                        78.123\n",
       "Spider-Man: Into the Spider-Verse                60.534\n",
       "The Hobbit: The Battle of the Five Armies        53.783\n",
       "The Avengers                                     50.289\n",
       "Guardians of the Galaxy                          49.606\n",
       "Blade Runner 2049                                48.571\n",
       "Fantastic Beasts: The Crimes of Grindelwald      48.508\n",
       "Ralph Breaks the Internet                        48.057\n",
       "Spider-Man: Homecoming                           46.775"
      ]
     },
     "execution_count": 103,
     "metadata": {},
     "output_type": "execute_result"
    }
   ],
   "source": [
    "top_ten_movies_by_pop=tmdb.pivot_table(values='popularity',index=\"original_title\").sort_values(ascending=False,by='popularity').head(10)\n",
    "top_ten_movies_by_pop"
   ]
  },
  {
   "cell_type": "markdown",
   "metadata": {},
   "source": [
    "Bottom Ten movies"
   ]
  },
  {
   "cell_type": "code",
   "execution_count": 104,
   "metadata": {
    "scrolled": true
   },
   "outputs": [
    {
     "data": {
      "text/html": [
       "<div>\n",
       "<style scoped>\n",
       "    .dataframe tbody tr th:only-of-type {\n",
       "        vertical-align: middle;\n",
       "    }\n",
       "\n",
       "    .dataframe tbody tr th {\n",
       "        vertical-align: top;\n",
       "    }\n",
       "\n",
       "    .dataframe thead th {\n",
       "        text-align: right;\n",
       "    }\n",
       "</style>\n",
       "<table border=\"1\" class=\"dataframe\">\n",
       "  <thead>\n",
       "    <tr style=\"text-align: right;\">\n",
       "      <th></th>\n",
       "      <th>popularity</th>\n",
       "    </tr>\n",
       "    <tr>\n",
       "      <th>original_title</th>\n",
       "      <th></th>\n",
       "    </tr>\n",
       "  </thead>\n",
       "  <tbody>\n",
       "    <tr>\n",
       "      <th>\"BLESSED\"</th>\n",
       "      <td>0.6</td>\n",
       "    </tr>\n",
       "    <tr>\n",
       "      <th>Lenny Cooke</th>\n",
       "      <td>0.6</td>\n",
       "    </tr>\n",
       "    <tr>\n",
       "      <th>Leolex</th>\n",
       "      <td>0.6</td>\n",
       "    </tr>\n",
       "    <tr>\n",
       "      <th>Leonard Cohen - Songs from the Road</th>\n",
       "      <td>0.6</td>\n",
       "    </tr>\n",
       "    <tr>\n",
       "      <th>Leonard in Slow Motion</th>\n",
       "      <td>0.6</td>\n",
       "    </tr>\n",
       "    <tr>\n",
       "      <th>Leones</th>\n",
       "      <td>0.6</td>\n",
       "    </tr>\n",
       "    <tr>\n",
       "      <th>Leopard</th>\n",
       "      <td>0.6</td>\n",
       "    </tr>\n",
       "    <tr>\n",
       "      <th>Les Profs</th>\n",
       "      <td>0.6</td>\n",
       "    </tr>\n",
       "    <tr>\n",
       "      <th>Lemonade + Ducktape Stuffs</th>\n",
       "      <td>0.6</td>\n",
       "    </tr>\n",
       "    <tr>\n",
       "      <th>Les Stars</th>\n",
       "      <td>0.6</td>\n",
       "    </tr>\n",
       "  </tbody>\n",
       "</table>\n",
       "</div>"
      ],
      "text/plain": [
       "                                     popularity\n",
       "original_title                                 \n",
       "\"BLESSED\"                                   0.6\n",
       "Lenny Cooke                                 0.6\n",
       "Leolex                                      0.6\n",
       "Leonard Cohen - Songs from the Road         0.6\n",
       "Leonard in Slow Motion                      0.6\n",
       "Leones                                      0.6\n",
       "Leopard                                     0.6\n",
       "Les Profs                                   0.6\n",
       "Lemonade + Ducktape Stuffs                  0.6\n",
       "Les Stars                                   0.6"
      ]
     },
     "execution_count": 104,
     "metadata": {},
     "output_type": "execute_result"
    }
   ],
   "source": [
    "Bottom_ten_movies_by_pop=tmdb.pivot_table(values='popularity',index=\"original_title\").sort_values(ascending=True,by='popularity').head(10)\n",
    "Bottom_ten_movies_by_pop"
   ]
  },
  {
   "cell_type": "markdown",
   "metadata": {},
   "source": [
    "### Looking into release date to see if there is a certain time of the year that has higher releases"
   ]
  },
  {
   "cell_type": "markdown",
   "metadata": {},
   "source": [
    "To organize our data and make it simpler to visualize, I will go ahead and drop the columns that I won't be using for better visibility"
   ]
  },
  {
   "cell_type": "code",
   "execution_count": 105,
   "metadata": {
    "scrolled": true
   },
   "outputs": [
    {
     "data": {
      "text/html": [
       "<div>\n",
       "<style scoped>\n",
       "    .dataframe tbody tr th:only-of-type {\n",
       "        vertical-align: middle;\n",
       "    }\n",
       "\n",
       "    .dataframe tbody tr th {\n",
       "        vertical-align: top;\n",
       "    }\n",
       "\n",
       "    .dataframe thead th {\n",
       "        text-align: right;\n",
       "    }\n",
       "</style>\n",
       "<table border=\"1\" class=\"dataframe\">\n",
       "  <thead>\n",
       "    <tr style=\"text-align: right;\">\n",
       "      <th></th>\n",
       "      <th>id</th>\n",
       "      <th>popularity</th>\n",
       "      <th>release_date</th>\n",
       "      <th>title</th>\n",
       "      <th>vote_average</th>\n",
       "      <th>vote_count</th>\n",
       "    </tr>\n",
       "  </thead>\n",
       "  <tbody>\n",
       "    <tr>\n",
       "      <th>0</th>\n",
       "      <td>12444</td>\n",
       "      <td>33.533</td>\n",
       "      <td>2010-11-19</td>\n",
       "      <td>Harry Potter and the Deathly Hallows: Part 1</td>\n",
       "      <td>7.7</td>\n",
       "      <td>10788</td>\n",
       "    </tr>\n",
       "    <tr>\n",
       "      <th>1</th>\n",
       "      <td>10191</td>\n",
       "      <td>28.734</td>\n",
       "      <td>2010-03-26</td>\n",
       "      <td>How to Train Your Dragon</td>\n",
       "      <td>7.7</td>\n",
       "      <td>7610</td>\n",
       "    </tr>\n",
       "    <tr>\n",
       "      <th>2</th>\n",
       "      <td>10138</td>\n",
       "      <td>28.515</td>\n",
       "      <td>2010-05-07</td>\n",
       "      <td>Iron Man 2</td>\n",
       "      <td>6.8</td>\n",
       "      <td>12368</td>\n",
       "    </tr>\n",
       "    <tr>\n",
       "      <th>3</th>\n",
       "      <td>862</td>\n",
       "      <td>28.005</td>\n",
       "      <td>1995-11-22</td>\n",
       "      <td>Toy Story</td>\n",
       "      <td>7.9</td>\n",
       "      <td>10174</td>\n",
       "    </tr>\n",
       "    <tr>\n",
       "      <th>4</th>\n",
       "      <td>27205</td>\n",
       "      <td>27.920</td>\n",
       "      <td>2010-07-16</td>\n",
       "      <td>Inception</td>\n",
       "      <td>8.3</td>\n",
       "      <td>22186</td>\n",
       "    </tr>\n",
       "  </tbody>\n",
       "</table>\n",
       "</div>"
      ],
      "text/plain": [
       "      id  popularity release_date  \\\n",
       "0  12444      33.533   2010-11-19   \n",
       "1  10191      28.734   2010-03-26   \n",
       "2  10138      28.515   2010-05-07   \n",
       "3    862      28.005   1995-11-22   \n",
       "4  27205      27.920   2010-07-16   \n",
       "\n",
       "                                          title  vote_average  vote_count  \n",
       "0  Harry Potter and the Deathly Hallows: Part 1           7.7       10788  \n",
       "1                      How to Train Your Dragon           7.7        7610  \n",
       "2                                    Iron Man 2           6.8       12368  \n",
       "3                                     Toy Story           7.9       10174  \n",
       "4                                     Inception           8.3       22186  "
      ]
     },
     "execution_count": 105,
     "metadata": {},
     "output_type": "execute_result"
    }
   ],
   "source": [
    "# Drop the irrelevant columns\n",
    "drop_columns = ['original_title','original_language','genre_ids']\n",
    "tmdb.drop(drop_columns, axis=1, inplace=True)\n",
    "tmdb.head()"
   ]
  },
  {
   "cell_type": "code",
   "execution_count": 106,
   "metadata": {
    "scrolled": true
   },
   "outputs": [
    {
     "data": {
      "text/html": [
       "<div>\n",
       "<style scoped>\n",
       "    .dataframe tbody tr th:only-of-type {\n",
       "        vertical-align: middle;\n",
       "    }\n",
       "\n",
       "    .dataframe tbody tr th {\n",
       "        vertical-align: top;\n",
       "    }\n",
       "\n",
       "    .dataframe thead th {\n",
       "        text-align: right;\n",
       "    }\n",
       "</style>\n",
       "<table border=\"1\" class=\"dataframe\">\n",
       "  <thead>\n",
       "    <tr style=\"text-align: right;\">\n",
       "      <th></th>\n",
       "      <th>id</th>\n",
       "      <th>popularity</th>\n",
       "      <th>release_date</th>\n",
       "      <th>title</th>\n",
       "      <th>vote_average</th>\n",
       "      <th>vote_count</th>\n",
       "      <th>year</th>\n",
       "      <th>month</th>\n",
       "    </tr>\n",
       "  </thead>\n",
       "  <tbody>\n",
       "    <tr>\n",
       "      <th>0</th>\n",
       "      <td>12444</td>\n",
       "      <td>33.533</td>\n",
       "      <td>2010-11-19</td>\n",
       "      <td>Harry Potter and the Deathly Hallows: Part 1</td>\n",
       "      <td>7.7</td>\n",
       "      <td>10788</td>\n",
       "      <td>2010</td>\n",
       "      <td>11</td>\n",
       "    </tr>\n",
       "    <tr>\n",
       "      <th>1</th>\n",
       "      <td>10191</td>\n",
       "      <td>28.734</td>\n",
       "      <td>2010-03-26</td>\n",
       "      <td>How to Train Your Dragon</td>\n",
       "      <td>7.7</td>\n",
       "      <td>7610</td>\n",
       "      <td>2010</td>\n",
       "      <td>03</td>\n",
       "    </tr>\n",
       "    <tr>\n",
       "      <th>2</th>\n",
       "      <td>10138</td>\n",
       "      <td>28.515</td>\n",
       "      <td>2010-05-07</td>\n",
       "      <td>Iron Man 2</td>\n",
       "      <td>6.8</td>\n",
       "      <td>12368</td>\n",
       "      <td>2010</td>\n",
       "      <td>05</td>\n",
       "    </tr>\n",
       "    <tr>\n",
       "      <th>3</th>\n",
       "      <td>862</td>\n",
       "      <td>28.005</td>\n",
       "      <td>1995-11-22</td>\n",
       "      <td>Toy Story</td>\n",
       "      <td>7.9</td>\n",
       "      <td>10174</td>\n",
       "      <td>1995</td>\n",
       "      <td>11</td>\n",
       "    </tr>\n",
       "    <tr>\n",
       "      <th>4</th>\n",
       "      <td>27205</td>\n",
       "      <td>27.920</td>\n",
       "      <td>2010-07-16</td>\n",
       "      <td>Inception</td>\n",
       "      <td>8.3</td>\n",
       "      <td>22186</td>\n",
       "      <td>2010</td>\n",
       "      <td>07</td>\n",
       "    </tr>\n",
       "    <tr>\n",
       "      <th>...</th>\n",
       "      <td>...</td>\n",
       "      <td>...</td>\n",
       "      <td>...</td>\n",
       "      <td>...</td>\n",
       "      <td>...</td>\n",
       "      <td>...</td>\n",
       "      <td>...</td>\n",
       "      <td>...</td>\n",
       "    </tr>\n",
       "    <tr>\n",
       "      <th>26512</th>\n",
       "      <td>488143</td>\n",
       "      <td>0.600</td>\n",
       "      <td>2018-10-13</td>\n",
       "      <td>Laboratory Conditions</td>\n",
       "      <td>0.0</td>\n",
       "      <td>1</td>\n",
       "      <td>2018</td>\n",
       "      <td>10</td>\n",
       "    </tr>\n",
       "    <tr>\n",
       "      <th>26513</th>\n",
       "      <td>485975</td>\n",
       "      <td>0.600</td>\n",
       "      <td>2018-05-01</td>\n",
       "      <td>_EXHIBIT_84xxx_</td>\n",
       "      <td>0.0</td>\n",
       "      <td>1</td>\n",
       "      <td>2018</td>\n",
       "      <td>05</td>\n",
       "    </tr>\n",
       "    <tr>\n",
       "      <th>26514</th>\n",
       "      <td>381231</td>\n",
       "      <td>0.600</td>\n",
       "      <td>2018-10-01</td>\n",
       "      <td>The Last One</td>\n",
       "      <td>0.0</td>\n",
       "      <td>1</td>\n",
       "      <td>2018</td>\n",
       "      <td>10</td>\n",
       "    </tr>\n",
       "    <tr>\n",
       "      <th>26515</th>\n",
       "      <td>366854</td>\n",
       "      <td>0.600</td>\n",
       "      <td>2018-06-22</td>\n",
       "      <td>Trailer Made</td>\n",
       "      <td>0.0</td>\n",
       "      <td>1</td>\n",
       "      <td>2018</td>\n",
       "      <td>06</td>\n",
       "    </tr>\n",
       "    <tr>\n",
       "      <th>26516</th>\n",
       "      <td>309885</td>\n",
       "      <td>0.600</td>\n",
       "      <td>2018-10-05</td>\n",
       "      <td>The Church</td>\n",
       "      <td>0.0</td>\n",
       "      <td>1</td>\n",
       "      <td>2018</td>\n",
       "      <td>10</td>\n",
       "    </tr>\n",
       "  </tbody>\n",
       "</table>\n",
       "<p>26517 rows × 8 columns</p>\n",
       "</div>"
      ],
      "text/plain": [
       "           id  popularity release_date  \\\n",
       "0       12444      33.533   2010-11-19   \n",
       "1       10191      28.734   2010-03-26   \n",
       "2       10138      28.515   2010-05-07   \n",
       "3         862      28.005   1995-11-22   \n",
       "4       27205      27.920   2010-07-16   \n",
       "...       ...         ...          ...   \n",
       "26512  488143       0.600   2018-10-13   \n",
       "26513  485975       0.600   2018-05-01   \n",
       "26514  381231       0.600   2018-10-01   \n",
       "26515  366854       0.600   2018-06-22   \n",
       "26516  309885       0.600   2018-10-05   \n",
       "\n",
       "                                              title  vote_average  vote_count  \\\n",
       "0      Harry Potter and the Deathly Hallows: Part 1           7.7       10788   \n",
       "1                          How to Train Your Dragon           7.7        7610   \n",
       "2                                        Iron Man 2           6.8       12368   \n",
       "3                                         Toy Story           7.9       10174   \n",
       "4                                         Inception           8.3       22186   \n",
       "...                                             ...           ...         ...   \n",
       "26512                         Laboratory Conditions           0.0           1   \n",
       "26513                               _EXHIBIT_84xxx_           0.0           1   \n",
       "26514                                  The Last One           0.0           1   \n",
       "26515                                  Trailer Made           0.0           1   \n",
       "26516                                    The Church           0.0           1   \n",
       "\n",
       "       year month  \n",
       "0      2010    11  \n",
       "1      2010    03  \n",
       "2      2010    05  \n",
       "3      1995    11  \n",
       "4      2010    07  \n",
       "...     ...   ...  \n",
       "26512  2018    10  \n",
       "26513  2018    05  \n",
       "26514  2018    10  \n",
       "26515  2018    06  \n",
       "26516  2018    10  \n",
       "\n",
       "[26517 rows x 8 columns]"
      ]
     },
     "execution_count": 106,
     "metadata": {},
     "output_type": "execute_result"
    }
   ],
   "source": [
    "# getting only the year in release_date to make things simpler\n",
    "# Coercion is the implicit conversion of an instance of one type to another\n",
    "# during an operation which involves two arguments of the same type.\n",
    "tmdb['year'] = pd.to_datetime(tmdb['release_date'], errors='coerce').apply(lambda x: str(x).split('-')\n",
    "                                                                       [0] if x != np.nan else np.nan)\n",
    "tmdb['month'] = pd.to_datetime(tmdb['release_date'], errors='coerce').apply(lambda x: str(x).split('-')\n",
    "                                                                       [1] if x != np.nan else np.nan)\n",
    "tmdb"
   ]
  }
 ],
 "metadata": {
  "kernelspec": {
   "display_name": "Python (learn-env)",
   "language": "python",
   "name": "learn-env"
  },
  "language_info": {
   "codemirror_mode": {
    "name": "ipython",
    "version": 3
   },
   "file_extension": ".py",
   "mimetype": "text/x-python",
   "name": "python",
   "nbconvert_exporter": "python",
   "pygments_lexer": "ipython3",
   "version": "3.8.5"
  }
 },
 "nbformat": 4,
 "nbformat_minor": 4
}
