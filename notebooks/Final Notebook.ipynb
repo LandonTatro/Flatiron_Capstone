{
 "cells": [
  {
   "cell_type": "markdown",
   "metadata": {},
   "source": [
    "# Film Factors and Association with Profitability\n",
    "Authors: Dima Taher, Leo Muntaner, Landon Tatro, Morgan Pelletier \n",
    "(Deloitte Strategy and Analytics - Orlando)\n",
    "\n",
    "-----------------------------------------------------------"
   ]
  },
  {
   "cell_type": "markdown",
   "metadata": {},
   "source": [
    "## Business Overview\n",
    "\n",
    "### The problem\n",
    "\n",
    "We were tasked with providing Computing Vision a series of suggestions for their transition into the film industry. Specifically, we aimed to determine suggestions that could target higher levels of revenue and/or profit.\n",
    "\n",
    "### The goal\n",
    "\n",
    "The film industry is a creative and diverse market with several avenues to success. With the understanding that there is no one path to success, we aimed to generate insight into a variety of actions Computing Vision may want to take in order to carve their own unique path to success. To accomplish this goal, we analyzed several different facets of films and their relation to generating revenue and profit. These areas included genres, day of release, and experience level of directors. \n",
    "\n",
    "## The Datasets\n",
    "\n",
    "The range of our analyses required utilization of several datasets. For each area of analysis, we used:\n",
    "\n",
    "Directors: \n",
    "- Movie Info dataset from Rotten Tomatoes which included the Director column required for this analysis with 1,560 rows.\n",
    "- Movie Budgets dataset from The-Numbers.com which included the movie titles, production budget, and worlwide gross revenue which we used to calculate the profit which is our main measure of success in the project, the columns had 5,782 rows.\n",
    "\n",
    "Release Day:\n",
    "\n",
    "Genres:\n",
    "- Movie budgets dataset from the-numbers.com including movie titles, production budget, and worldwide gross revenue with 5,782 rows.\n",
    "- TheMovieDB dataset including movie titles and genres with 26,517 rows.\n",
    "\n",
    "## The Methods and Results"
   ]
  },
  {
   "cell_type": "markdown",
   "metadata": {},
   "source": [
    "# Imports"
   ]
  },
  {
   "cell_type": "markdown",
   "metadata": {},
   "source": [
    "##  DIMA\n",
    "### Experience Level of Directors in relation to Profit"
   ]
  },
  {
   "cell_type": "markdown",
   "metadata": {},
   "source": [
    "***The Business Question***\n",
    "\n",
    "Is there an association between the director’s expertise and a movie's profitability?"
   ]
  },
  {
   "cell_type": "markdown",
   "metadata": {},
   "source": [
    "***The Datasets***\n",
    "\n",
    "In this section, we used the following datasets:\n",
    "\n",
    "- Movie Info dataset from Rotten Tomatoes which included the Director column required for this analysis with 1,560 rows.\n",
    "- Movie Budgets dataset from The-Numbers which included the movie titles, production budget, and worlwide gross which we used to calculate the profit which is our main measure of success in the project, the columns had 5,782 rows."
   ]
  },
  {
   "cell_type": "markdown",
   "metadata": {},
   "source": [
    "To explore the data we will first start off with importing the necessary libraries needed."
   ]
  },
  {
   "cell_type": "code",
   "execution_count": 1,
   "metadata": {},
   "outputs": [],
   "source": [
    "# Imports\n",
    "import pandas as pd\n",
    "import numpy as np\n",
    "import sqlite3\n",
    "import matplotlib\n",
    "import matplotlib.pyplot as plt\n",
    "import seaborn as sns\n",
    "from scipy import stats\n",
    "from pandas import Series, DataFrame\n",
    "\n",
    "%matplotlib inline"
   ]
  },
  {
   "cell_type": "markdown",
   "metadata": {},
   "source": [
    "### Movie Info\n",
    "Starting with the movie info dataframe, the first step is to read into the tsv file"
   ]
  },
  {
   "cell_type": "code",
   "execution_count": 2,
   "metadata": {},
   "outputs": [
    {
     "data": {
      "text/html": [
       "<div>\n",
       "<style scoped>\n",
       "    .dataframe tbody tr th:only-of-type {\n",
       "        vertical-align: middle;\n",
       "    }\n",
       "\n",
       "    .dataframe tbody tr th {\n",
       "        vertical-align: top;\n",
       "    }\n",
       "\n",
       "    .dataframe thead th {\n",
       "        text-align: right;\n",
       "    }\n",
       "</style>\n",
       "<table border=\"1\" class=\"dataframe\">\n",
       "  <thead>\n",
       "    <tr style=\"text-align: right;\">\n",
       "      <th></th>\n",
       "      <th>id</th>\n",
       "      <th>synopsis</th>\n",
       "      <th>rating</th>\n",
       "      <th>genre</th>\n",
       "      <th>director</th>\n",
       "      <th>writer</th>\n",
       "      <th>theater_date</th>\n",
       "      <th>dvd_date</th>\n",
       "      <th>currency</th>\n",
       "      <th>box_office</th>\n",
       "      <th>runtime</th>\n",
       "      <th>studio</th>\n",
       "    </tr>\n",
       "  </thead>\n",
       "  <tbody>\n",
       "    <tr>\n",
       "      <th>0</th>\n",
       "      <td>1</td>\n",
       "      <td>This gritty, fast-paced, and innovative police...</td>\n",
       "      <td>R</td>\n",
       "      <td>Action and Adventure|Classics|Drama</td>\n",
       "      <td>William Friedkin</td>\n",
       "      <td>Ernest Tidyman</td>\n",
       "      <td>1971-10-09</td>\n",
       "      <td>2001-09-25</td>\n",
       "      <td>NaN</td>\n",
       "      <td>NaN</td>\n",
       "      <td>104 minutes</td>\n",
       "      <td>NaN</td>\n",
       "    </tr>\n",
       "    <tr>\n",
       "      <th>1</th>\n",
       "      <td>3</td>\n",
       "      <td>New York City, not-too-distant-future: Eric Pa...</td>\n",
       "      <td>R</td>\n",
       "      <td>Drama|Science Fiction and Fantasy</td>\n",
       "      <td>David Cronenberg</td>\n",
       "      <td>David Cronenberg|Don DeLillo</td>\n",
       "      <td>2012-08-17</td>\n",
       "      <td>2013-01-01</td>\n",
       "      <td>$</td>\n",
       "      <td>600,000</td>\n",
       "      <td>108 minutes</td>\n",
       "      <td>Entertainment One</td>\n",
       "    </tr>\n",
       "    <tr>\n",
       "      <th>2</th>\n",
       "      <td>5</td>\n",
       "      <td>Illeana Douglas delivers a superb performance ...</td>\n",
       "      <td>R</td>\n",
       "      <td>Drama|Musical and Performing Arts</td>\n",
       "      <td>Allison Anders</td>\n",
       "      <td>Allison Anders</td>\n",
       "      <td>1996-09-13</td>\n",
       "      <td>2000-04-18</td>\n",
       "      <td>NaN</td>\n",
       "      <td>NaN</td>\n",
       "      <td>116 minutes</td>\n",
       "      <td>NaN</td>\n",
       "    </tr>\n",
       "    <tr>\n",
       "      <th>3</th>\n",
       "      <td>6</td>\n",
       "      <td>Michael Douglas runs afoul of a treacherous su...</td>\n",
       "      <td>R</td>\n",
       "      <td>Drama|Mystery and Suspense</td>\n",
       "      <td>Barry Levinson</td>\n",
       "      <td>Paul Attanasio|Michael Crichton</td>\n",
       "      <td>1994-12-09</td>\n",
       "      <td>1997-08-27</td>\n",
       "      <td>NaN</td>\n",
       "      <td>NaN</td>\n",
       "      <td>128 minutes</td>\n",
       "      <td>NaN</td>\n",
       "    </tr>\n",
       "    <tr>\n",
       "      <th>4</th>\n",
       "      <td>7</td>\n",
       "      <td>NaN</td>\n",
       "      <td>NR</td>\n",
       "      <td>Drama|Romance</td>\n",
       "      <td>Rodney Bennett</td>\n",
       "      <td>Giles Cooper</td>\n",
       "      <td>NaT</td>\n",
       "      <td>NaT</td>\n",
       "      <td>NaN</td>\n",
       "      <td>NaN</td>\n",
       "      <td>200 minutes</td>\n",
       "      <td>NaN</td>\n",
       "    </tr>\n",
       "  </tbody>\n",
       "</table>\n",
       "</div>"
      ],
      "text/plain": [
       "   id                                           synopsis rating  \\\n",
       "0   1  This gritty, fast-paced, and innovative police...      R   \n",
       "1   3  New York City, not-too-distant-future: Eric Pa...      R   \n",
       "2   5  Illeana Douglas delivers a superb performance ...      R   \n",
       "3   6  Michael Douglas runs afoul of a treacherous su...      R   \n",
       "4   7                                                NaN     NR   \n",
       "\n",
       "                                 genre          director  \\\n",
       "0  Action and Adventure|Classics|Drama  William Friedkin   \n",
       "1    Drama|Science Fiction and Fantasy  David Cronenberg   \n",
       "2    Drama|Musical and Performing Arts    Allison Anders   \n",
       "3           Drama|Mystery and Suspense    Barry Levinson   \n",
       "4                        Drama|Romance    Rodney Bennett   \n",
       "\n",
       "                            writer theater_date   dvd_date currency  \\\n",
       "0                   Ernest Tidyman   1971-10-09 2001-09-25      NaN   \n",
       "1     David Cronenberg|Don DeLillo   2012-08-17 2013-01-01        $   \n",
       "2                   Allison Anders   1996-09-13 2000-04-18      NaN   \n",
       "3  Paul Attanasio|Michael Crichton   1994-12-09 1997-08-27      NaN   \n",
       "4                     Giles Cooper          NaT        NaT      NaN   \n",
       "\n",
       "  box_office      runtime             studio  \n",
       "0        NaN  104 minutes                NaN  \n",
       "1    600,000  108 minutes  Entertainment One  \n",
       "2        NaN  116 minutes                NaN  \n",
       "3        NaN  128 minutes                NaN  \n",
       "4        NaN  200 minutes                NaN  "
      ]
     },
     "execution_count": 2,
     "metadata": {},
     "output_type": "execute_result"
    }
   ],
   "source": [
    "# Read in the data as movie_info\n",
    "# Use parse_dates and pass column name to read it as a datetime\n",
    "movie_info = pd.read_csv('../Data/rt.movie_info.tsv', encoding='latin-1', sep='\\t', \n",
    "                        parse_dates=['theater_date', 'dvd_date'])\n",
    "movie_info.head()"
   ]
  },
  {
   "cell_type": "markdown",
   "metadata": {},
   "source": [
    "#### Data Cleaning\n",
    "In this section, we will start by cleaning the movie_info dataframe before we can draw any conclusions. It will help us inspect the data better and get a more accurate general understanding of the data at hand. We will check for null values (missing values within the data set) and we will replace those values so that it's all consistent across the columns. We will then check for duplicates, there were no duplicates within our data set so we were good to proceed from there. \n",
    "\n",
    "Step 1: Check if we have any null values in each column"
   ]
  },
  {
   "cell_type": "code",
   "execution_count": 3,
   "metadata": {},
   "outputs": [
    {
     "data": {
      "text/plain": [
       "id                 0\n",
       "synopsis          62\n",
       "rating             3\n",
       "genre              8\n",
       "director         199\n",
       "writer           449\n",
       "theater_date     359\n",
       "dvd_date         359\n",
       "currency        1220\n",
       "box_office      1220\n",
       "runtime           30\n",
       "studio          1066\n",
       "dtype: int64"
      ]
     },
     "execution_count": 3,
     "metadata": {},
     "output_type": "execute_result"
    }
   ],
   "source": [
    "movie_info.isnull().sum()"
   ]
  },
  {
   "cell_type": "markdown",
   "metadata": {},
   "source": [
    "Step 2: Dealing with null values\n",
    "\n",
    "To clean the columns from null values, we will be replacing the null values in the column with generic terms relevant to each column so that it's all consistent across the columns."
   ]
  },
  {
   "cell_type": "code",
   "execution_count": 4,
   "metadata": {},
   "outputs": [],
   "source": [
    "#Fill the missing values in synposis, genre, director, writer, currency, studio with 'Missing'\n",
    "movie_info['synopsis'].fillna('Missing', inplace=True)\n",
    "movie_info['rating'].fillna('Missing', inplace=True)\n",
    "movie_info['genre'].fillna('Missing', inplace=True)\n",
    "movie_info['director'].fillna('Missing', inplace=True)\n",
    "movie_info['writer'].fillna('Missing', inplace=True)\n",
    "movie_info['currency'].fillna('Missing', inplace=True)\n",
    "movie_info['studio'].fillna('Missing', inplace=True)"
   ]
  },
  {
   "cell_type": "code",
   "execution_count": 5,
   "metadata": {},
   "outputs": [],
   "source": [
    "#Fill theater_date and dvd_date missing values with a generic date \"1800-01-01\" to keep same format\n",
    "movie_info['theater_date'].fillna('1800-01-01', inplace=True)\n",
    "movie_info['dvd_date'].fillna('1800-01-01', inplace=True)"
   ]
  },
  {
   "cell_type": "code",
   "execution_count": 6,
   "metadata": {},
   "outputs": [],
   "source": [
    "#Fill box_office missing valus with 0\n",
    "movie_info['box_office'].fillna(0, inplace=True)"
   ]
  },
  {
   "cell_type": "code",
   "execution_count": 7,
   "metadata": {},
   "outputs": [],
   "source": [
    "#Fill runtime missing valus with 0\n",
    "movie_info['runtime'].fillna('0 minutes', inplace=True)\n",
    "\n",
    "#Change the type of data so that we are able to use it later on if we needed to.\n",
    "movie_info['runtime'] = movie_info['runtime'].str.replace('minutes',\"\")\n",
    "movie_info['runtime'] = pd.to_numeric(movie_info['runtime'])"
   ]
  },
  {
   "cell_type": "markdown",
   "metadata": {},
   "source": [
    "Step 3: check for any duplicates"
   ]
  },
  {
   "cell_type": "code",
   "execution_count": 8,
   "metadata": {},
   "outputs": [
    {
     "data": {
      "text/plain": [
       "False    1560\n",
       "dtype: int64"
      ]
     },
     "execution_count": 8,
     "metadata": {},
     "output_type": "execute_result"
    }
   ],
   "source": [
    "movie_info.duplicated().value_counts()"
   ]
  },
  {
   "cell_type": "markdown",
   "metadata": {},
   "source": [
    "It doesn't look like we have any duplicates. In this case, we are good to proceed forward."
   ]
  },
  {
   "cell_type": "markdown",
   "metadata": {},
   "source": [
    "#### Analysis methods"
   ]
  },
  {
   "cell_type": "markdown",
   "metadata": {},
   "source": [
    "In this section, We will look into the Director column within this data frame to see if there is an association between the director's expertise and the movie's profitability.\n",
    "\n",
    "We will look at the count of movies directed per director, as directors with more experience could potentially yield higher profit due to their expertise.\n",
    "\n",
    "We will also be looking at the Budgets dataframe to extract the profit from it and relate it to the director's experience.\n",
    "\n",
    "- First, we will look at the budgets table.\n",
    "- Second, we want to look at the trend between the count of movies per director and the profit\n",
    "    - To do that, we will merge the budget dataframe and movie_info dataframe to check the profit generated by each director.\n",
    "- Third, we will sort the top directors with the highest average profit."
   ]
  },
  {
   "cell_type": "markdown",
   "metadata": {},
   "source": [
    "We will start by reading into the budgets table and cleaning it"
   ]
  },
  {
   "cell_type": "code",
   "execution_count": 9,
   "metadata": {},
   "outputs": [
    {
     "data": {
      "text/html": [
       "<div>\n",
       "<style scoped>\n",
       "    .dataframe tbody tr th:only-of-type {\n",
       "        vertical-align: middle;\n",
       "    }\n",
       "\n",
       "    .dataframe tbody tr th {\n",
       "        vertical-align: top;\n",
       "    }\n",
       "\n",
       "    .dataframe thead th {\n",
       "        text-align: right;\n",
       "    }\n",
       "</style>\n",
       "<table border=\"1\" class=\"dataframe\">\n",
       "  <thead>\n",
       "    <tr style=\"text-align: right;\">\n",
       "      <th></th>\n",
       "      <th>id</th>\n",
       "      <th>release_date</th>\n",
       "      <th>movie</th>\n",
       "      <th>production_budget</th>\n",
       "      <th>domestic_gross</th>\n",
       "      <th>worldwide_gross</th>\n",
       "    </tr>\n",
       "  </thead>\n",
       "  <tbody>\n",
       "    <tr>\n",
       "      <th>0</th>\n",
       "      <td>1</td>\n",
       "      <td>Dec 18, 2009</td>\n",
       "      <td>Avatar</td>\n",
       "      <td>$425,000,000</td>\n",
       "      <td>$760,507,625</td>\n",
       "      <td>$2,776,345,279</td>\n",
       "    </tr>\n",
       "    <tr>\n",
       "      <th>1</th>\n",
       "      <td>2</td>\n",
       "      <td>May 20, 2011</td>\n",
       "      <td>Pirates of the Caribbean: On Stranger Tides</td>\n",
       "      <td>$410,600,000</td>\n",
       "      <td>$241,063,875</td>\n",
       "      <td>$1,045,663,875</td>\n",
       "    </tr>\n",
       "    <tr>\n",
       "      <th>2</th>\n",
       "      <td>3</td>\n",
       "      <td>Jun 7, 2019</td>\n",
       "      <td>Dark Phoenix</td>\n",
       "      <td>$350,000,000</td>\n",
       "      <td>$42,762,350</td>\n",
       "      <td>$149,762,350</td>\n",
       "    </tr>\n",
       "    <tr>\n",
       "      <th>3</th>\n",
       "      <td>4</td>\n",
       "      <td>May 1, 2015</td>\n",
       "      <td>Avengers: Age of Ultron</td>\n",
       "      <td>$330,600,000</td>\n",
       "      <td>$459,005,868</td>\n",
       "      <td>$1,403,013,963</td>\n",
       "    </tr>\n",
       "    <tr>\n",
       "      <th>4</th>\n",
       "      <td>5</td>\n",
       "      <td>Dec 15, 2017</td>\n",
       "      <td>Star Wars Ep. VIII: The Last Jedi</td>\n",
       "      <td>$317,000,000</td>\n",
       "      <td>$620,181,382</td>\n",
       "      <td>$1,316,721,747</td>\n",
       "    </tr>\n",
       "  </tbody>\n",
       "</table>\n",
       "</div>"
      ],
      "text/plain": [
       "   id  release_date                                        movie  \\\n",
       "0   1  Dec 18, 2009                                       Avatar   \n",
       "1   2  May 20, 2011  Pirates of the Caribbean: On Stranger Tides   \n",
       "2   3   Jun 7, 2019                                 Dark Phoenix   \n",
       "3   4   May 1, 2015                      Avengers: Age of Ultron   \n",
       "4   5  Dec 15, 2017            Star Wars Ep. VIII: The Last Jedi   \n",
       "\n",
       "  production_budget domestic_gross worldwide_gross  \n",
       "0      $425,000,000   $760,507,625  $2,776,345,279  \n",
       "1      $410,600,000   $241,063,875  $1,045,663,875  \n",
       "2      $350,000,000    $42,762,350    $149,762,350  \n",
       "3      $330,600,000   $459,005,868  $1,403,013,963  \n",
       "4      $317,000,000   $620,181,382  $1,316,721,747  "
      ]
     },
     "execution_count": 9,
     "metadata": {},
     "output_type": "execute_result"
    }
   ],
   "source": [
    "#reading into the csv data file\n",
    "budgets = pd.read_csv(\"../data/tn.movie_budgets.csv\")\n",
    "budgets.head()"
   ]
  },
  {
   "cell_type": "markdown",
   "metadata": {},
   "source": [
    "In this table we will assume that **Revenue** = 'worldwide_gross' & **Cost** = 'production_budget'"
   ]
  },
  {
   "cell_type": "code",
   "execution_count": 10,
   "metadata": {},
   "outputs": [],
   "source": [
    "#will follow Morgan's data cleaning for this table\n",
    "# removing $ and , from gross revenue\n",
    "budgets['worldwide_gross'] = budgets['worldwide_gross'].str.replace(\",\",\"\")\n",
    "budgets['worldwide_gross'] = budgets['worldwide_gross'].str.replace(\"$\",\"\")\n",
    "\n",
    "# casting the values as integers\n",
    "budgets['worldwide_gross'] = pd.to_numeric(budgets['worldwide_gross'])\n",
    "\n",
    "# removing $ and , from production budget\n",
    "budgets['production_budget'] = budgets['production_budget'].str.replace(\",\",\"\")\n",
    "budgets['production_budget'] = budgets['production_budget'].str.replace(\"$\",\"\")\n",
    "\n",
    "# casting the values as integers\n",
    "budgets['production_budget'] = pd.to_numeric(budgets['production_budget'])"
   ]
  },
  {
   "cell_type": "code",
   "execution_count": 11,
   "metadata": {},
   "outputs": [],
   "source": [
    "# calculating total profit = revenue - cost\n",
    "budgets['total_profit'] =  budgets['worldwide_gross'] - budgets['production_budget']"
   ]
  },
  {
   "cell_type": "markdown",
   "metadata": {},
   "source": [
    "From here on we will be comparing the total profit from the budgets table to the Directors in the movie_info table.\n",
    "\n",
    "Since we don't need all the columns in the dataframe, we will create a new one with only the columns necessary to the analysis."
   ]
  },
  {
   "cell_type": "code",
   "execution_count": 12,
   "metadata": {},
   "outputs": [],
   "source": [
    "movie_budgets = budgets[['id','movie','worldwide_gross','total_profit']]"
   ]
  },
  {
   "cell_type": "markdown",
   "metadata": {},
   "source": [
    "### Merging movie_info & budget dataframes\n",
    "\n",
    "We will join the dataframes using an **inner** join because it returns only the records with matching keys in both tables, we will make a separate dataframe for the joined dataframes. Originally, the movie info dataframe had 1560 entries and the budgets dataframe had 5782 entries, after our merge we were left with 1560 entries in total since we did an inner join. "
   ]
  },
  {
   "cell_type": "code",
   "execution_count": 13,
   "metadata": {},
   "outputs": [
    {
     "data": {
      "text/html": [
       "<div>\n",
       "<style scoped>\n",
       "    .dataframe tbody tr th:only-of-type {\n",
       "        vertical-align: middle;\n",
       "    }\n",
       "\n",
       "    .dataframe tbody tr th {\n",
       "        vertical-align: top;\n",
       "    }\n",
       "\n",
       "    .dataframe thead th {\n",
       "        text-align: right;\n",
       "    }\n",
       "</style>\n",
       "<table border=\"1\" class=\"dataframe\">\n",
       "  <thead>\n",
       "    <tr style=\"text-align: right;\">\n",
       "      <th></th>\n",
       "      <th>id_movie_budgets</th>\n",
       "      <th>movie</th>\n",
       "      <th>worldwide_gross</th>\n",
       "      <th>total_profit</th>\n",
       "      <th>id_movie_info</th>\n",
       "      <th>synopsis</th>\n",
       "      <th>rating</th>\n",
       "      <th>genre</th>\n",
       "      <th>director</th>\n",
       "      <th>writer</th>\n",
       "      <th>theater_date</th>\n",
       "      <th>dvd_date</th>\n",
       "      <th>currency</th>\n",
       "      <th>box_office</th>\n",
       "      <th>runtime</th>\n",
       "      <th>studio</th>\n",
       "    </tr>\n",
       "  </thead>\n",
       "  <tbody>\n",
       "    <tr>\n",
       "      <th>0</th>\n",
       "      <td>1</td>\n",
       "      <td>Avatar</td>\n",
       "      <td>2776345279</td>\n",
       "      <td>2351345279</td>\n",
       "      <td>1</td>\n",
       "      <td>This gritty, fast-paced, and innovative police...</td>\n",
       "      <td>R</td>\n",
       "      <td>Action and Adventure|Classics|Drama</td>\n",
       "      <td>William Friedkin</td>\n",
       "      <td>Ernest Tidyman</td>\n",
       "      <td>1971-10-09 00:00:00</td>\n",
       "      <td>2001-09-25 00:00:00</td>\n",
       "      <td>Missing</td>\n",
       "      <td>0</td>\n",
       "      <td>104</td>\n",
       "      <td>Missing</td>\n",
       "    </tr>\n",
       "    <tr>\n",
       "      <th>1</th>\n",
       "      <td>2</td>\n",
       "      <td>Pirates of the Caribbean: On Stranger Tides</td>\n",
       "      <td>1045663875</td>\n",
       "      <td>635063875</td>\n",
       "      <td>3</td>\n",
       "      <td>New York City, not-too-distant-future: Eric Pa...</td>\n",
       "      <td>R</td>\n",
       "      <td>Drama|Science Fiction and Fantasy</td>\n",
       "      <td>David Cronenberg</td>\n",
       "      <td>David Cronenberg|Don DeLillo</td>\n",
       "      <td>2012-08-17 00:00:00</td>\n",
       "      <td>2013-01-01 00:00:00</td>\n",
       "      <td>$</td>\n",
       "      <td>600,000</td>\n",
       "      <td>108</td>\n",
       "      <td>Entertainment One</td>\n",
       "    </tr>\n",
       "    <tr>\n",
       "      <th>2</th>\n",
       "      <td>3</td>\n",
       "      <td>Dark Phoenix</td>\n",
       "      <td>149762350</td>\n",
       "      <td>-200237650</td>\n",
       "      <td>5</td>\n",
       "      <td>Illeana Douglas delivers a superb performance ...</td>\n",
       "      <td>R</td>\n",
       "      <td>Drama|Musical and Performing Arts</td>\n",
       "      <td>Allison Anders</td>\n",
       "      <td>Allison Anders</td>\n",
       "      <td>1996-09-13 00:00:00</td>\n",
       "      <td>2000-04-18 00:00:00</td>\n",
       "      <td>Missing</td>\n",
       "      <td>0</td>\n",
       "      <td>116</td>\n",
       "      <td>Missing</td>\n",
       "    </tr>\n",
       "    <tr>\n",
       "      <th>3</th>\n",
       "      <td>4</td>\n",
       "      <td>Avengers: Age of Ultron</td>\n",
       "      <td>1403013963</td>\n",
       "      <td>1072413963</td>\n",
       "      <td>6</td>\n",
       "      <td>Michael Douglas runs afoul of a treacherous su...</td>\n",
       "      <td>R</td>\n",
       "      <td>Drama|Mystery and Suspense</td>\n",
       "      <td>Barry Levinson</td>\n",
       "      <td>Paul Attanasio|Michael Crichton</td>\n",
       "      <td>1994-12-09 00:00:00</td>\n",
       "      <td>1997-08-27 00:00:00</td>\n",
       "      <td>Missing</td>\n",
       "      <td>0</td>\n",
       "      <td>128</td>\n",
       "      <td>Missing</td>\n",
       "    </tr>\n",
       "    <tr>\n",
       "      <th>4</th>\n",
       "      <td>5</td>\n",
       "      <td>Star Wars Ep. VIII: The Last Jedi</td>\n",
       "      <td>1316721747</td>\n",
       "      <td>999721747</td>\n",
       "      <td>7</td>\n",
       "      <td>Missing</td>\n",
       "      <td>NR</td>\n",
       "      <td>Drama|Romance</td>\n",
       "      <td>Rodney Bennett</td>\n",
       "      <td>Giles Cooper</td>\n",
       "      <td>1800-01-01</td>\n",
       "      <td>1800-01-01</td>\n",
       "      <td>Missing</td>\n",
       "      <td>0</td>\n",
       "      <td>200</td>\n",
       "      <td>Missing</td>\n",
       "    </tr>\n",
       "  </tbody>\n",
       "</table>\n",
       "</div>"
      ],
      "text/plain": [
       "   id_movie_budgets                                        movie  \\\n",
       "0                 1                                       Avatar   \n",
       "1                 2  Pirates of the Caribbean: On Stranger Tides   \n",
       "2                 3                                 Dark Phoenix   \n",
       "3                 4                      Avengers: Age of Ultron   \n",
       "4                 5            Star Wars Ep. VIII: The Last Jedi   \n",
       "\n",
       "   worldwide_gross  total_profit  id_movie_info  \\\n",
       "0       2776345279    2351345279              1   \n",
       "1       1045663875     635063875              3   \n",
       "2        149762350    -200237650              5   \n",
       "3       1403013963    1072413963              6   \n",
       "4       1316721747     999721747              7   \n",
       "\n",
       "                                            synopsis rating  \\\n",
       "0  This gritty, fast-paced, and innovative police...      R   \n",
       "1  New York City, not-too-distant-future: Eric Pa...      R   \n",
       "2  Illeana Douglas delivers a superb performance ...      R   \n",
       "3  Michael Douglas runs afoul of a treacherous su...      R   \n",
       "4                                            Missing     NR   \n",
       "\n",
       "                                 genre          director  \\\n",
       "0  Action and Adventure|Classics|Drama  William Friedkin   \n",
       "1    Drama|Science Fiction and Fantasy  David Cronenberg   \n",
       "2    Drama|Musical and Performing Arts    Allison Anders   \n",
       "3           Drama|Mystery and Suspense    Barry Levinson   \n",
       "4                        Drama|Romance    Rodney Bennett   \n",
       "\n",
       "                            writer         theater_date             dvd_date  \\\n",
       "0                   Ernest Tidyman  1971-10-09 00:00:00  2001-09-25 00:00:00   \n",
       "1     David Cronenberg|Don DeLillo  2012-08-17 00:00:00  2013-01-01 00:00:00   \n",
       "2                   Allison Anders  1996-09-13 00:00:00  2000-04-18 00:00:00   \n",
       "3  Paul Attanasio|Michael Crichton  1994-12-09 00:00:00  1997-08-27 00:00:00   \n",
       "4                     Giles Cooper           1800-01-01           1800-01-01   \n",
       "\n",
       "  currency box_office  runtime             studio  \n",
       "0  Missing          0      104            Missing  \n",
       "1        $    600,000      108  Entertainment One  \n",
       "2  Missing          0      116            Missing  \n",
       "3  Missing          0      128            Missing  \n",
       "4  Missing          0      200            Missing  "
      ]
     },
     "execution_count": 13,
     "metadata": {},
     "output_type": "execute_result"
    }
   ],
   "source": [
    "movie_info_budget = movie_budgets.join(movie_info, how='inner', lsuffix = '_movie_budgets' , rsuffix = '_movie_info')\n",
    "#checking the resulting dataframe\n",
    "movie_info_budget.head()"
   ]
  },
  {
   "cell_type": "code",
   "execution_count": 14,
   "metadata": {},
   "outputs": [
    {
     "data": {
      "text/plain": [
       "count    1.560000e+03\n",
       "mean     2.374879e+08\n",
       "std      2.686596e+08\n",
       "min      0.000000e+00\n",
       "25%      6.806081e+07\n",
       "50%      1.523167e+08\n",
       "75%      3.029080e+08\n",
       "max      2.776345e+09\n",
       "Name: worldwide_gross, dtype: float64"
      ]
     },
     "execution_count": 14,
     "metadata": {},
     "output_type": "execute_result"
    }
   ],
   "source": [
    "#We want to check how many 0 we have for worldwide gross, we can see if the minimum number is 0\n",
    "movie_info_budget['worldwide_gross'].describe()"
   ]
  },
  {
   "cell_type": "markdown",
   "metadata": {},
   "source": [
    "To deal with these values, we decided to replace it with the median profit because the median is more resilient against extreme outliers."
   ]
  },
  {
   "cell_type": "code",
   "execution_count": 15,
   "metadata": {},
   "outputs": [],
   "source": [
    "median_gross = movie_info_budget['worldwide_gross'].median()\n",
    "movie_info_budget['worldwide_gross'] = movie_info_budget['worldwide_gross'].replace(0,median_gross)"
   ]
  },
  {
   "cell_type": "markdown",
   "metadata": {},
   "source": [
    "We will now start looking if there are any trends between the expertise of the director vs. the profit. To do that, we created a new dataframe 'top_directors\"  that consisted of the count of movies per director, the total profit, and the average profit. "
   ]
  },
  {
   "cell_type": "code",
   "execution_count": 16,
   "metadata": {},
   "outputs": [],
   "source": [
    "#Create top directors df so that we can visualize top directors and top profit\n",
    "#The count will show us the count of movies each director has worked on\n",
    "director_counts = pd.DataFrame(movie_info_budget.groupby('director')['movie'].count())\n",
    "\n",
    "#We are summing the profit of all the movies per director into the total profit\n",
    "director_total_profit = pd.DataFrame(movie_info_budget.groupby('director')['total_profit'].sum())"
   ]
  },
  {
   "cell_type": "code",
   "execution_count": 17,
   "metadata": {},
   "outputs": [],
   "source": [
    "# I will now join the director counts and total profit together into a new df, I will also sort it by total profit\n",
    "top_directors = director_counts.join(director_total_profit, how='outer', lsuffix = '_director_counts' , rsuffix = 'director_total_profit')\n",
    "top_directors = top_directors.sort_values(by='total_profit', ascending=False)"
   ]
  },
  {
   "cell_type": "code",
   "execution_count": 18,
   "metadata": {},
   "outputs": [],
   "source": [
    "#Dropping the missing values\n",
    "top_directors = top_directors.drop(labels=\"Missing\")"
   ]
  },
  {
   "cell_type": "code",
   "execution_count": 19,
   "metadata": {},
   "outputs": [
    {
     "data": {
      "text/html": [
       "<div>\n",
       "<style scoped>\n",
       "    .dataframe tbody tr th:only-of-type {\n",
       "        vertical-align: middle;\n",
       "    }\n",
       "\n",
       "    .dataframe tbody tr th {\n",
       "        vertical-align: top;\n",
       "    }\n",
       "\n",
       "    .dataframe thead th {\n",
       "        text-align: right;\n",
       "    }\n",
       "</style>\n",
       "<table border=\"1\" class=\"dataframe\">\n",
       "  <thead>\n",
       "    <tr style=\"text-align: right;\">\n",
       "      <th></th>\n",
       "      <th>movie</th>\n",
       "      <th>total_profit</th>\n",
       "      <th>avg_profit</th>\n",
       "    </tr>\n",
       "    <tr>\n",
       "      <th>director</th>\n",
       "      <th></th>\n",
       "      <th></th>\n",
       "      <th></th>\n",
       "    </tr>\n",
       "  </thead>\n",
       "  <tbody>\n",
       "    <tr>\n",
       "      <th>William Friedkin</th>\n",
       "      <td>4</td>\n",
       "      <td>2705957834</td>\n",
       "      <td>6.764895e+08</td>\n",
       "    </tr>\n",
       "    <tr>\n",
       "      <th>Henning Schellerup</th>\n",
       "      <td>1</td>\n",
       "      <td>2008208395</td>\n",
       "      <td>2.008208e+09</td>\n",
       "    </tr>\n",
       "    <tr>\n",
       "      <th>Steven Spielberg</th>\n",
       "      <td>10</td>\n",
       "      <td>1777836004</td>\n",
       "      <td>1.777836e+08</td>\n",
       "    </tr>\n",
       "    <tr>\n",
       "      <th>Jake Kasdan</th>\n",
       "      <td>1</td>\n",
       "      <td>1748134200</td>\n",
       "      <td>1.748134e+09</td>\n",
       "    </tr>\n",
       "    <tr>\n",
       "      <th>Jay Russell</th>\n",
       "      <td>1</td>\n",
       "      <td>1747311220</td>\n",
       "      <td>1.747311e+09</td>\n",
       "    </tr>\n",
       "    <tr>\n",
       "      <th>...</th>\n",
       "      <td>...</td>\n",
       "      <td>...</td>\n",
       "      <td>...</td>\n",
       "    </tr>\n",
       "    <tr>\n",
       "      <th>Robert Hartford-Davis</th>\n",
       "      <td>1</td>\n",
       "      <td>-94635231</td>\n",
       "      <td>-9.463523e+07</td>\n",
       "    </tr>\n",
       "    <tr>\n",
       "      <th>Renny Harlin</th>\n",
       "      <td>2</td>\n",
       "      <td>-111069937</td>\n",
       "      <td>-5.553497e+07</td>\n",
       "    </tr>\n",
       "    <tr>\n",
       "      <th>Richard Thorpe</th>\n",
       "      <td>2</td>\n",
       "      <td>-117780537</td>\n",
       "      <td>-5.889027e+07</td>\n",
       "    </tr>\n",
       "    <tr>\n",
       "      <th>Jack Bender</th>\n",
       "      <td>1</td>\n",
       "      <td>-150000000</td>\n",
       "      <td>-1.500000e+08</td>\n",
       "    </tr>\n",
       "    <tr>\n",
       "      <th>Allison Anders</th>\n",
       "      <td>1</td>\n",
       "      <td>-200237650</td>\n",
       "      <td>-2.002376e+08</td>\n",
       "    </tr>\n",
       "  </tbody>\n",
       "</table>\n",
       "<p>1125 rows × 3 columns</p>\n",
       "</div>"
      ],
      "text/plain": [
       "                       movie  total_profit    avg_profit\n",
       "director                                                \n",
       "William Friedkin           4    2705957834  6.764895e+08\n",
       "Henning Schellerup         1    2008208395  2.008208e+09\n",
       "Steven Spielberg          10    1777836004  1.777836e+08\n",
       "Jake Kasdan                1    1748134200  1.748134e+09\n",
       "Jay Russell                1    1747311220  1.747311e+09\n",
       "...                      ...           ...           ...\n",
       "Robert Hartford-Davis      1     -94635231 -9.463523e+07\n",
       "Renny Harlin               2    -111069937 -5.553497e+07\n",
       "Richard Thorpe             2    -117780537 -5.889027e+07\n",
       "Jack Bender                1    -150000000 -1.500000e+08\n",
       "Allison Anders             1    -200237650 -2.002376e+08\n",
       "\n",
       "[1125 rows x 3 columns]"
      ]
     },
     "execution_count": 19,
     "metadata": {},
     "output_type": "execute_result"
    }
   ],
   "source": [
    "#We will add the average profit per director since it would be more accurate to look at it than Total profit\n",
    "top_directors['avg_profit'] =  top_directors['total_profit']/top_directors['movie']\n",
    "top_directors['avg_profit'] = top_directors['avg_profit'].sort_values(ascending=False)\n",
    "top_directors"
   ]
  },
  {
   "cell_type": "markdown",
   "metadata": {},
   "source": [
    "Now to visualize the results we will display it using a boxplot to display the spread of the data."
   ]
  },
  {
   "cell_type": "code",
   "execution_count": 20,
   "metadata": {},
   "outputs": [
    {
     "data": {
      "image/png": "[encoded data removed]",
      "text/plain": [
       "<Figure size 864x576 with 1 Axes>"
      ]
     },
     "metadata": {
      "needs_background": "light"
     },
     "output_type": "display_data"
    }
   ],
   "source": [
    "# We will visualize the results\n",
    "# Plot average profit vs. count of movies directed \n",
    "from matplotlib.ticker import FuncFormatter\n",
    "\n",
    "fig, ax = plt.subplots(figsize = (12,8))\n",
    "sns.boxplot(x = top_directors['movie'], y = top_directors['avg_profit'], palette='crest')\n",
    "plt.title('Average Profit vs. Count of Movies per Director', fontsize=16)\n",
    "plt.xlabel('Count of Movies Directed')\n",
    "plt.ylabel('Average Profit in Billions')\n",
    "plt.tight_layout()\n",
    "\n",
    "\n",
    "# scale y axis to millions\n",
    "scale_y = 1e9\n",
    "ticks_y = FuncFormatter(lambda x, pos: '{0:g}'.format(x/scale_y))\n",
    "ax.yaxis.set_major_formatter(ticks_y)\n",
    "# ax.set_ylim(-250000000, 1000000000)\n",
    "\n",
    "plt.show()\n",
    "\n"
   ]
  },
  {
   "cell_type": "markdown",
   "metadata": {},
   "source": [
    "From this boxplot, we found a trend between increased experience and increased average profit. Specifically, after three movies, the distribution of profits was entirely positive.\n",
    "Directors with 3 or more movies have always had an average profit that is positive. We can see that their minimum is always positive.\n",
    "\n",
    "There are many outliers for Directors with just one movie, and a few in those with 2 movies, but as we move to directing 3 or more we don't see outliers. Therefore, we can conclude that as these Directors worked on more movies, the factor of luck has been eliminated and they've continued to be profitable.\n",
    "\n",
    "Drawing from this trend, going forward we will look at the top 20 directors in terms of average profit that directed 3 or more movies."
   ]
  },
  {
   "cell_type": "code",
   "execution_count": 21,
   "metadata": {},
   "outputs": [
    {
     "data": {
      "text/html": [
       "<div>\n",
       "<style scoped>\n",
       "    .dataframe tbody tr th:only-of-type {\n",
       "        vertical-align: middle;\n",
       "    }\n",
       "\n",
       "    .dataframe tbody tr th {\n",
       "        vertical-align: top;\n",
       "    }\n",
       "\n",
       "    .dataframe thead th {\n",
       "        text-align: right;\n",
       "    }\n",
       "</style>\n",
       "<table border=\"1\" class=\"dataframe\">\n",
       "  <thead>\n",
       "    <tr style=\"text-align: right;\">\n",
       "      <th></th>\n",
       "      <th>director</th>\n",
       "      <th>movie</th>\n",
       "      <th>total_profit</th>\n",
       "      <th>avg_profit</th>\n",
       "    </tr>\n",
       "  </thead>\n",
       "  <tbody>\n",
       "    <tr>\n",
       "      <th>0</th>\n",
       "      <td>William Friedkin</td>\n",
       "      <td>4</td>\n",
       "      <td>2705957834</td>\n",
       "      <td>6.764895e+08</td>\n",
       "    </tr>\n",
       "    <tr>\n",
       "      <th>1</th>\n",
       "      <td>Steven Spielberg</td>\n",
       "      <td>10</td>\n",
       "      <td>1777836004</td>\n",
       "      <td>1.777836e+08</td>\n",
       "    </tr>\n",
       "    <tr>\n",
       "      <th>2</th>\n",
       "      <td>Clint Eastwood</td>\n",
       "      <td>8</td>\n",
       "      <td>1607570579</td>\n",
       "      <td>2.009463e+08</td>\n",
       "    </tr>\n",
       "    <tr>\n",
       "      <th>3</th>\n",
       "      <td>Woody Allen</td>\n",
       "      <td>4</td>\n",
       "      <td>1546517681</td>\n",
       "      <td>3.866294e+08</td>\n",
       "    </tr>\n",
       "    <tr>\n",
       "      <th>4</th>\n",
       "      <td>Yimou Zhang</td>\n",
       "      <td>4</td>\n",
       "      <td>1458132256</td>\n",
       "      <td>3.645331e+08</td>\n",
       "    </tr>\n",
       "    <tr>\n",
       "      <th>5</th>\n",
       "      <td>Barry Levinson</td>\n",
       "      <td>4</td>\n",
       "      <td>1435779099</td>\n",
       "      <td>3.589448e+08</td>\n",
       "    </tr>\n",
       "    <tr>\n",
       "      <th>6</th>\n",
       "      <td>Boris Sagal</td>\n",
       "      <td>3</td>\n",
       "      <td>1237332495</td>\n",
       "      <td>4.124442e+08</td>\n",
       "    </tr>\n",
       "    <tr>\n",
       "      <th>7</th>\n",
       "      <td>Jim Jarmusch</td>\n",
       "      <td>4</td>\n",
       "      <td>1050825592</td>\n",
       "      <td>2.627064e+08</td>\n",
       "    </tr>\n",
       "    <tr>\n",
       "      <th>8</th>\n",
       "      <td>Werner Herzog</td>\n",
       "      <td>3</td>\n",
       "      <td>911024954</td>\n",
       "      <td>3.036750e+08</td>\n",
       "    </tr>\n",
       "    <tr>\n",
       "      <th>9</th>\n",
       "      <td>Howard Hawks</td>\n",
       "      <td>3</td>\n",
       "      <td>909512843</td>\n",
       "      <td>3.031709e+08</td>\n",
       "    </tr>\n",
       "    <tr>\n",
       "      <th>10</th>\n",
       "      <td>Bruce Beresford</td>\n",
       "      <td>4</td>\n",
       "      <td>905154964</td>\n",
       "      <td>2.262887e+08</td>\n",
       "    </tr>\n",
       "    <tr>\n",
       "      <th>11</th>\n",
       "      <td>Anatole Litvak</td>\n",
       "      <td>3</td>\n",
       "      <td>851817812</td>\n",
       "      <td>2.839393e+08</td>\n",
       "    </tr>\n",
       "    <tr>\n",
       "      <th>12</th>\n",
       "      <td>Hong Sang-soo</td>\n",
       "      <td>3</td>\n",
       "      <td>798405830</td>\n",
       "      <td>2.661353e+08</td>\n",
       "    </tr>\n",
       "    <tr>\n",
       "      <th>13</th>\n",
       "      <td>Ridley Scott</td>\n",
       "      <td>4</td>\n",
       "      <td>719963861</td>\n",
       "      <td>1.799910e+08</td>\n",
       "    </tr>\n",
       "    <tr>\n",
       "      <th>14</th>\n",
       "      <td>John Frankenheimer</td>\n",
       "      <td>3</td>\n",
       "      <td>704291959</td>\n",
       "      <td>2.347640e+08</td>\n",
       "    </tr>\n",
       "    <tr>\n",
       "      <th>15</th>\n",
       "      <td>Hark Tsui</td>\n",
       "      <td>3</td>\n",
       "      <td>659235525</td>\n",
       "      <td>2.197452e+08</td>\n",
       "    </tr>\n",
       "    <tr>\n",
       "      <th>16</th>\n",
       "      <td>Ang Lee</td>\n",
       "      <td>3</td>\n",
       "      <td>622916667</td>\n",
       "      <td>2.076389e+08</td>\n",
       "    </tr>\n",
       "    <tr>\n",
       "      <th>17</th>\n",
       "      <td>John Landis</td>\n",
       "      <td>3</td>\n",
       "      <td>581449675</td>\n",
       "      <td>1.938166e+08</td>\n",
       "    </tr>\n",
       "    <tr>\n",
       "      <th>18</th>\n",
       "      <td>Curtis Hanson</td>\n",
       "      <td>4</td>\n",
       "      <td>549082973</td>\n",
       "      <td>1.372707e+08</td>\n",
       "    </tr>\n",
       "    <tr>\n",
       "      <th>19</th>\n",
       "      <td>Charles Walters</td>\n",
       "      <td>3</td>\n",
       "      <td>467879183</td>\n",
       "      <td>1.559597e+08</td>\n",
       "    </tr>\n",
       "  </tbody>\n",
       "</table>\n",
       "</div>"
      ],
      "text/plain": [
       "              director  movie  total_profit    avg_profit\n",
       "0     William Friedkin      4    2705957834  6.764895e+08\n",
       "1     Steven Spielberg     10    1777836004  1.777836e+08\n",
       "2       Clint Eastwood      8    1607570579  2.009463e+08\n",
       "3          Woody Allen      4    1546517681  3.866294e+08\n",
       "4          Yimou Zhang      4    1458132256  3.645331e+08\n",
       "5       Barry Levinson      4    1435779099  3.589448e+08\n",
       "6          Boris Sagal      3    1237332495  4.124442e+08\n",
       "7         Jim Jarmusch      4    1050825592  2.627064e+08\n",
       "8        Werner Herzog      3     911024954  3.036750e+08\n",
       "9         Howard Hawks      3     909512843  3.031709e+08\n",
       "10     Bruce Beresford      4     905154964  2.262887e+08\n",
       "11      Anatole Litvak      3     851817812  2.839393e+08\n",
       "12       Hong Sang-soo      3     798405830  2.661353e+08\n",
       "13        Ridley Scott      4     719963861  1.799910e+08\n",
       "14  John Frankenheimer      3     704291959  2.347640e+08\n",
       "15           Hark Tsui      3     659235525  2.197452e+08\n",
       "16             Ang Lee      3     622916667  2.076389e+08\n",
       "17         John Landis      3     581449675  1.938166e+08\n",
       "18       Curtis Hanson      4     549082973  1.372707e+08\n",
       "19     Charles Walters      3     467879183  1.559597e+08"
      ]
     },
     "execution_count": 21,
     "metadata": {},
     "output_type": "execute_result"
    }
   ],
   "source": [
    "#Getting the top 20 directors that directed 3 or more movies\n",
    "three_plus_movies = top_directors[(top_directors['movie'] >= 3)].head(20)\n",
    "three_plus_movies = three_plus_movies.reset_index()\n",
    "three_plus_movies"
   ]
  },
  {
   "cell_type": "code",
   "execution_count": 22,
   "metadata": {},
   "outputs": [
    {
     "data": {
      "image/png": "[encoded data removed]",
      "text/plain": [
       "<Figure size 864x576 with 1 Axes>"
      ]
     },
     "metadata": {
      "needs_background": "light"
     },
     "output_type": "display_data"
    }
   ],
   "source": [
    "#now let's visualize the results\n",
    "fig, ax = plt.subplots(figsize=(12, 8))\n",
    "sns.barplot(x = three_plus_movies['director'], y = three_plus_movies['avg_profit'], order= three_plus_movies.sort_values('avg_profit',ascending = False).director, palette=\"crest\")\n",
    "plt.xticks(rotation=60)\n",
    "plt.xlabel(None)\n",
    "plt.ylabel('Average Profit in 100 Million')\n",
    "plt.title('Top 20 Directors with Three or More Movies in Terms of Average Profit', fontsize=14)\n",
    "\n",
    "\n",
    "# scale y axis to millions\n",
    "scale_y = 1e8\n",
    "ticks_y = FuncFormatter(lambda x, pos: '{0:g}'.format(x/scale_y))\n",
    "ax.yaxis.set_major_formatter(ticks_y)\n",
    "# ax.set_ylim(-250000000, 1000000000)\n",
    "\n",
    "plt.show()\n"
   ]
  },
  {
   "cell_type": "markdown",
   "metadata": {},
   "source": [
    "This barplot displays the top 20 directors in terms of average profit that have directed 3 or more movies. Drawing from this, if Computing Vision has the budget they could potentially hire one of these directors, or they can look into their work and get inspired by it."
   ]
  },
  {
   "cell_type": "markdown",
   "metadata": {},
   "source": [
    "#### Conclusion / Suggestion"
   ]
  },
  {
   "cell_type": "markdown",
   "metadata": {},
   "source": [
    "In the context of this project an experienced director is defined as a director that has directed three or more movies.\n",
    "\n",
    "Since Computing Vision is a new studio that is just starting in the movie industry, we ***recommend*** that they hire an experienced director that has experience directing three or more movies since our analysis showed that it is likely for these directors to continue being profitable as they work on the third movie and on.  \n",
    "\n",
    "According to our analysis, experienced directors always resulted in positive average profit. While directors with less than 3 movies can also be profitable, however, going through a risk averse route and eliminating the factor of luck from success, experienced directors have proved to be profitable on the third movie and on."
   ]
  },
  {
   "cell_type": "markdown",
   "metadata": {},
   "source": [
    "#### What limitations are there?"
   ]
  },
  {
   "cell_type": "markdown",
   "metadata": {},
   "source": [
    "One limitation that could be pointed out could be that there is a survival bias in the research, in which survival bias is defined as a type of sampling error or selection bias that occurs when the selection process of a trial favours certain individuals who made it past a certain obstacle or point in time and ignores the individuals who did not. In our case it would be selecting Directors with three or movies, and ignoring the ones with less experience. However, we concluded that for a new studio it is preferable that on their first projects that they take a route that is proven to be successful and taking less risks and that is by hiring an experienced director to direct their movies. \n",
    "\n",
    "Another limitation is in the case of trying to recommend to hire one of the top 20 Directors in terms of their average profit and their expertise, a limitation was that some of the top 20 directors are in fact deceased. Deceased Directors: Boris Karloff, Howard Hawks, Anatole Litvak, John Frankenheimer, Charles Walters, Curtis Hanson.\n",
    "\n",
    "However, in light of this limitation, a business suggestion here would be to look into these directors' work and potentially acquiring the rights to their work if possible and generate profit off of that."
   ]
  },
  {
   "cell_type": "markdown",
   "metadata": {},
   "source": [
    "## LEO\n",
    "### Day of Release as a Predictor of Revenue\n",
    "### Project Goals, Data, Methods, and Results:\n",
    "In this notebook you will find my data cleaning, organiztion, and results for the Capstone Project.\n",
    "\n",
    "In essence we like to keep things as straight forward as possiable. Our goal here is to demostrate that we understand the data and that we are confident in making relevant connections. \n",
    "\n",
    "We decided that a simple and very relevant business recommendation is what day of the week a movie should be released. Why is this important? Money, more specifically when it comes to box office sales/revenue. \n",
    "\n",
    "When it comes to products, be it a pair of shoes, watch, or in this case a Movie, We want to release these products on the day that yields the most money. \n",
    "\n",
    "Therefore, based on this goal we will go through the data and search for the desired day of the week that shows most box office sales. Very simple and straight forward. "
   ]
  },
  {
   "cell_type": "code",
   "execution_count": 23,
   "metadata": {},
   "outputs": [],
   "source": [
    "# starting with significant imports \n",
    "import pandas as pd\n",
    "from pandas import Series, DataFrame\n",
    "import numpy as np\n",
    "import datetime \n",
    "\n",
    "import matplotlib\n",
    "import matplotlib.pyplot as plt\n",
    "from matplotlib.colors import ListedColormap\n",
    "%matplotlib inline\n",
    "\n",
    "import scipy.stats\n",
    "import scipy.optimize\n",
    "import scipy.spatial\n",
    "from IPython import display\n",
    "from ipywidgets import interact, widgets\n",
    "\n",
    "import re\n",
    "import mailbox\n",
    "import csv\n",
    "import seaborn as sns\n",
    "\n",
    "import statsmodels\n",
    "import statsmodels.api as sm\n",
    "import statsmodels.formula.api as smf\n",
    "\n",
    "import warnings\n",
    "warnings.filterwarnings(action = 'ignore', category = FutureWarning)"
   ]
  },
  {
   "cell_type": "markdown",
   "metadata": {},
   "source": [
    "#### Datasets and cleaning"
   ]
  },
  {
   "cell_type": "code",
   "execution_count": 24,
   "metadata": {},
   "outputs": [
    {
     "data": {
      "text/html": [
       "<div>\n",
       "<style scoped>\n",
       "    .dataframe tbody tr th:only-of-type {\n",
       "        vertical-align: middle;\n",
       "    }\n",
       "\n",
       "    .dataframe tbody tr th {\n",
       "        vertical-align: top;\n",
       "    }\n",
       "\n",
       "    .dataframe thead th {\n",
       "        text-align: right;\n",
       "    }\n",
       "</style>\n",
       "<table border=\"1\" class=\"dataframe\">\n",
       "  <thead>\n",
       "    <tr style=\"text-align: right;\">\n",
       "      <th></th>\n",
       "      <th>id</th>\n",
       "      <th>synopsis</th>\n",
       "      <th>rating</th>\n",
       "      <th>genre</th>\n",
       "      <th>director</th>\n",
       "      <th>writer</th>\n",
       "      <th>theater_date</th>\n",
       "      <th>dvd_date</th>\n",
       "      <th>currency</th>\n",
       "      <th>box_office</th>\n",
       "      <th>runtime</th>\n",
       "      <th>studio</th>\n",
       "    </tr>\n",
       "  </thead>\n",
       "  <tbody>\n",
       "    <tr>\n",
       "      <th>0</th>\n",
       "      <td>1</td>\n",
       "      <td>This gritty, fast-paced, and innovative police...</td>\n",
       "      <td>R</td>\n",
       "      <td>Action and Adventure|Classics|Drama</td>\n",
       "      <td>William Friedkin</td>\n",
       "      <td>Ernest Tidyman</td>\n",
       "      <td>Oct 9, 1971</td>\n",
       "      <td>Sep 25, 2001</td>\n",
       "      <td>NaN</td>\n",
       "      <td>NaN</td>\n",
       "      <td>104 minutes</td>\n",
       "      <td>NaN</td>\n",
       "    </tr>\n",
       "    <tr>\n",
       "      <th>1</th>\n",
       "      <td>3</td>\n",
       "      <td>New York City, not-too-distant-future: Eric Pa...</td>\n",
       "      <td>R</td>\n",
       "      <td>Drama|Science Fiction and Fantasy</td>\n",
       "      <td>David Cronenberg</td>\n",
       "      <td>David Cronenberg|Don DeLillo</td>\n",
       "      <td>Aug 17, 2012</td>\n",
       "      <td>Jan 1, 2013</td>\n",
       "      <td>$</td>\n",
       "      <td>600,000</td>\n",
       "      <td>108 minutes</td>\n",
       "      <td>Entertainment One</td>\n",
       "    </tr>\n",
       "    <tr>\n",
       "      <th>2</th>\n",
       "      <td>5</td>\n",
       "      <td>Illeana Douglas delivers a superb performance ...</td>\n",
       "      <td>R</td>\n",
       "      <td>Drama|Musical and Performing Arts</td>\n",
       "      <td>Allison Anders</td>\n",
       "      <td>Allison Anders</td>\n",
       "      <td>Sep 13, 1996</td>\n",
       "      <td>Apr 18, 2000</td>\n",
       "      <td>NaN</td>\n",
       "      <td>NaN</td>\n",
       "      <td>116 minutes</td>\n",
       "      <td>NaN</td>\n",
       "    </tr>\n",
       "    <tr>\n",
       "      <th>3</th>\n",
       "      <td>6</td>\n",
       "      <td>Michael Douglas runs afoul of a treacherous su...</td>\n",
       "      <td>R</td>\n",
       "      <td>Drama|Mystery and Suspense</td>\n",
       "      <td>Barry Levinson</td>\n",
       "      <td>Paul Attanasio|Michael Crichton</td>\n",
       "      <td>Dec 9, 1994</td>\n",
       "      <td>Aug 27, 1997</td>\n",
       "      <td>NaN</td>\n",
       "      <td>NaN</td>\n",
       "      <td>128 minutes</td>\n",
       "      <td>NaN</td>\n",
       "    </tr>\n",
       "    <tr>\n",
       "      <th>4</th>\n",
       "      <td>7</td>\n",
       "      <td>NaN</td>\n",
       "      <td>NR</td>\n",
       "      <td>Drama|Romance</td>\n",
       "      <td>Rodney Bennett</td>\n",
       "      <td>Giles Cooper</td>\n",
       "      <td>NaN</td>\n",
       "      <td>NaN</td>\n",
       "      <td>NaN</td>\n",
       "      <td>NaN</td>\n",
       "      <td>200 minutes</td>\n",
       "      <td>NaN</td>\n",
       "    </tr>\n",
       "    <tr>\n",
       "      <th>5</th>\n",
       "      <td>8</td>\n",
       "      <td>The year is 1942. As the Allies unite overseas...</td>\n",
       "      <td>PG</td>\n",
       "      <td>Drama|Kids and Family</td>\n",
       "      <td>Jay Russell</td>\n",
       "      <td>Gail Gilchriest</td>\n",
       "      <td>Mar 3, 2000</td>\n",
       "      <td>Jul 11, 2000</td>\n",
       "      <td>NaN</td>\n",
       "      <td>NaN</td>\n",
       "      <td>95 minutes</td>\n",
       "      <td>Warner Bros. Pictures</td>\n",
       "    </tr>\n",
       "    <tr>\n",
       "      <th>6</th>\n",
       "      <td>10</td>\n",
       "      <td>Some cast and crew from NBC's highly acclaimed...</td>\n",
       "      <td>PG-13</td>\n",
       "      <td>Comedy</td>\n",
       "      <td>Jake Kasdan</td>\n",
       "      <td>Mike White</td>\n",
       "      <td>Jan 11, 2002</td>\n",
       "      <td>Jun 18, 2002</td>\n",
       "      <td>$</td>\n",
       "      <td>41,032,915</td>\n",
       "      <td>82 minutes</td>\n",
       "      <td>Paramount Pictures</td>\n",
       "    </tr>\n",
       "    <tr>\n",
       "      <th>7</th>\n",
       "      <td>13</td>\n",
       "      <td>Stewart Kane, an Irishman living in the Austra...</td>\n",
       "      <td>R</td>\n",
       "      <td>Drama</td>\n",
       "      <td>Ray Lawrence</td>\n",
       "      <td>Raymond Carver|Beatrix Christian</td>\n",
       "      <td>Apr 27, 2006</td>\n",
       "      <td>Oct 2, 2007</td>\n",
       "      <td>$</td>\n",
       "      <td>224,114</td>\n",
       "      <td>123 minutes</td>\n",
       "      <td>Sony Pictures Classics</td>\n",
       "    </tr>\n",
       "    <tr>\n",
       "      <th>8</th>\n",
       "      <td>14</td>\n",
       "      <td>\"Love Ranch\" is a bittersweet love story that ...</td>\n",
       "      <td>R</td>\n",
       "      <td>Drama</td>\n",
       "      <td>Taylor Hackford</td>\n",
       "      <td>Mark Jacobson</td>\n",
       "      <td>Jun 30, 2010</td>\n",
       "      <td>Nov 9, 2010</td>\n",
       "      <td>$</td>\n",
       "      <td>134,904</td>\n",
       "      <td>117 minutes</td>\n",
       "      <td>NaN</td>\n",
       "    </tr>\n",
       "    <tr>\n",
       "      <th>9</th>\n",
       "      <td>15</td>\n",
       "      <td>When a diamond expedition in the Congo is lost...</td>\n",
       "      <td>PG-13</td>\n",
       "      <td>Action and Adventure|Mystery and Suspense|Scie...</td>\n",
       "      <td>Frank Marshall</td>\n",
       "      <td>John Patrick Shanley</td>\n",
       "      <td>Jun 9, 1995</td>\n",
       "      <td>Jul 27, 1999</td>\n",
       "      <td>NaN</td>\n",
       "      <td>NaN</td>\n",
       "      <td>108 minutes</td>\n",
       "      <td>NaN</td>\n",
       "    </tr>\n",
       "  </tbody>\n",
       "</table>\n",
       "</div>"
      ],
      "text/plain": [
       "   id                                           synopsis rating  \\\n",
       "0   1  This gritty, fast-paced, and innovative police...      R   \n",
       "1   3  New York City, not-too-distant-future: Eric Pa...      R   \n",
       "2   5  Illeana Douglas delivers a superb performance ...      R   \n",
       "3   6  Michael Douglas runs afoul of a treacherous su...      R   \n",
       "4   7                                                NaN     NR   \n",
       "5   8  The year is 1942. As the Allies unite overseas...     PG   \n",
       "6  10  Some cast and crew from NBC's highly acclaimed...  PG-13   \n",
       "7  13  Stewart Kane, an Irishman living in the Austra...      R   \n",
       "8  14  \"Love Ranch\" is a bittersweet love story that ...      R   \n",
       "9  15  When a diamond expedition in the Congo is lost...  PG-13   \n",
       "\n",
       "                                               genre          director  \\\n",
       "0                Action and Adventure|Classics|Drama  William Friedkin   \n",
       "1                  Drama|Science Fiction and Fantasy  David Cronenberg   \n",
       "2                  Drama|Musical and Performing Arts    Allison Anders   \n",
       "3                         Drama|Mystery and Suspense    Barry Levinson   \n",
       "4                                      Drama|Romance    Rodney Bennett   \n",
       "5                              Drama|Kids and Family       Jay Russell   \n",
       "6                                             Comedy       Jake Kasdan   \n",
       "7                                              Drama      Ray Lawrence   \n",
       "8                                              Drama   Taylor Hackford   \n",
       "9  Action and Adventure|Mystery and Suspense|Scie...    Frank Marshall   \n",
       "\n",
       "                             writer  theater_date      dvd_date currency  \\\n",
       "0                    Ernest Tidyman   Oct 9, 1971  Sep 25, 2001      NaN   \n",
       "1      David Cronenberg|Don DeLillo  Aug 17, 2012   Jan 1, 2013        $   \n",
       "2                    Allison Anders  Sep 13, 1996  Apr 18, 2000      NaN   \n",
       "3   Paul Attanasio|Michael Crichton   Dec 9, 1994  Aug 27, 1997      NaN   \n",
       "4                      Giles Cooper           NaN           NaN      NaN   \n",
       "5                   Gail Gilchriest   Mar 3, 2000  Jul 11, 2000      NaN   \n",
       "6                        Mike White  Jan 11, 2002  Jun 18, 2002        $   \n",
       "7  Raymond Carver|Beatrix Christian  Apr 27, 2006   Oct 2, 2007        $   \n",
       "8                     Mark Jacobson  Jun 30, 2010   Nov 9, 2010        $   \n",
       "9              John Patrick Shanley   Jun 9, 1995  Jul 27, 1999      NaN   \n",
       "\n",
       "   box_office      runtime                  studio  \n",
       "0         NaN  104 minutes                     NaN  \n",
       "1     600,000  108 minutes       Entertainment One  \n",
       "2         NaN  116 minutes                     NaN  \n",
       "3         NaN  128 minutes                     NaN  \n",
       "4         NaN  200 minutes                     NaN  \n",
       "5         NaN   95 minutes   Warner Bros. Pictures  \n",
       "6  41,032,915   82 minutes      Paramount Pictures  \n",
       "7     224,114  123 minutes  Sony Pictures Classics  \n",
       "8     134,904  117 minutes                     NaN  \n",
       "9         NaN  108 minutes                     NaN  "
      ]
     },
     "execution_count": 24,
     "metadata": {},
     "output_type": "execute_result"
    }
   ],
   "source": [
    "# Load data\n",
    "movie_info = pd.read_csv('../data/rt.movie_info.tsv', sep=\"\\t\")\n",
    "movie_info.head(10)"
   ]
  },
  {
   "cell_type": "code",
   "execution_count": 25,
   "metadata": {},
   "outputs": [
    {
     "name": "stdout",
     "output_type": "stream",
     "text": [
      "<class 'pandas.core.frame.DataFrame'>\n",
      "RangeIndex: 1560 entries, 0 to 1559\n",
      "Data columns (total 12 columns):\n",
      " #   Column        Non-Null Count  Dtype \n",
      "---  ------        --------------  ----- \n",
      " 0   id            1560 non-null   int64 \n",
      " 1   synopsis      1498 non-null   object\n",
      " 2   rating        1557 non-null   object\n",
      " 3   genre         1552 non-null   object\n",
      " 4   director      1361 non-null   object\n",
      " 5   writer        1111 non-null   object\n",
      " 6   theater_date  1201 non-null   object\n",
      " 7   dvd_date      1201 non-null   object\n",
      " 8   currency      340 non-null    object\n",
      " 9   box_office    340 non-null    object\n",
      " 10  runtime       1530 non-null   object\n",
      " 11  studio        494 non-null    object\n",
      "dtypes: int64(1), object(11)\n",
      "memory usage: 146.4+ KB\n"
     ]
    }
   ],
   "source": [
    "# Basic info in the data\n",
    "movie_info.info()"
   ]
  },
  {
   "cell_type": "code",
   "execution_count": 26,
   "metadata": {},
   "outputs": [],
   "source": [
    "# making the box office data type a float and getting rid of the commas\n",
    "movie_info['box_office'] = pd.to_numeric(movie_info['box_office'].str.replace(',', ''))"
   ]
  },
  {
   "cell_type": "code",
   "execution_count": 27,
   "metadata": {},
   "outputs": [],
   "source": [
    "# turning the theater_date column into a datetime object\n",
    "movie_info['theater_date'] = pd.to_datetime(movie_info['theater_date'], format='%b %d, %Y')"
   ]
  },
  {
   "cell_type": "code",
   "execution_count": 28,
   "metadata": {},
   "outputs": [
    {
     "data": {
      "text/html": [
       "<div>\n",
       "<style scoped>\n",
       "    .dataframe tbody tr th:only-of-type {\n",
       "        vertical-align: middle;\n",
       "    }\n",
       "\n",
       "    .dataframe tbody tr th {\n",
       "        vertical-align: top;\n",
       "    }\n",
       "\n",
       "    .dataframe thead th {\n",
       "        text-align: right;\n",
       "    }\n",
       "</style>\n",
       "<table border=\"1\" class=\"dataframe\">\n",
       "  <thead>\n",
       "    <tr style=\"text-align: right;\">\n",
       "      <th></th>\n",
       "      <th>id</th>\n",
       "      <th>synopsis</th>\n",
       "      <th>rating</th>\n",
       "      <th>genre</th>\n",
       "      <th>director</th>\n",
       "      <th>writer</th>\n",
       "      <th>theater_date</th>\n",
       "      <th>dvd_date</th>\n",
       "      <th>currency</th>\n",
       "      <th>box_office</th>\n",
       "      <th>runtime</th>\n",
       "      <th>studio</th>\n",
       "    </tr>\n",
       "  </thead>\n",
       "  <tbody>\n",
       "    <tr>\n",
       "      <th>0</th>\n",
       "      <td>1</td>\n",
       "      <td>This gritty, fast-paced, and innovative police...</td>\n",
       "      <td>R</td>\n",
       "      <td>Action and Adventure|Classics|Drama</td>\n",
       "      <td>William Friedkin</td>\n",
       "      <td>Ernest Tidyman</td>\n",
       "      <td>1971-10-09</td>\n",
       "      <td>Sep 25, 2001</td>\n",
       "      <td>NaN</td>\n",
       "      <td>NaN</td>\n",
       "      <td>104 minutes</td>\n",
       "      <td>NaN</td>\n",
       "    </tr>\n",
       "    <tr>\n",
       "      <th>1</th>\n",
       "      <td>3</td>\n",
       "      <td>New York City, not-too-distant-future: Eric Pa...</td>\n",
       "      <td>R</td>\n",
       "      <td>Drama|Science Fiction and Fantasy</td>\n",
       "      <td>David Cronenberg</td>\n",
       "      <td>David Cronenberg|Don DeLillo</td>\n",
       "      <td>2012-08-17</td>\n",
       "      <td>Jan 1, 2013</td>\n",
       "      <td>$</td>\n",
       "      <td>600000.0</td>\n",
       "      <td>108 minutes</td>\n",
       "      <td>Entertainment One</td>\n",
       "    </tr>\n",
       "    <tr>\n",
       "      <th>2</th>\n",
       "      <td>5</td>\n",
       "      <td>Illeana Douglas delivers a superb performance ...</td>\n",
       "      <td>R</td>\n",
       "      <td>Drama|Musical and Performing Arts</td>\n",
       "      <td>Allison Anders</td>\n",
       "      <td>Allison Anders</td>\n",
       "      <td>1996-09-13</td>\n",
       "      <td>Apr 18, 2000</td>\n",
       "      <td>NaN</td>\n",
       "      <td>NaN</td>\n",
       "      <td>116 minutes</td>\n",
       "      <td>NaN</td>\n",
       "    </tr>\n",
       "    <tr>\n",
       "      <th>3</th>\n",
       "      <td>6</td>\n",
       "      <td>Michael Douglas runs afoul of a treacherous su...</td>\n",
       "      <td>R</td>\n",
       "      <td>Drama|Mystery and Suspense</td>\n",
       "      <td>Barry Levinson</td>\n",
       "      <td>Paul Attanasio|Michael Crichton</td>\n",
       "      <td>1994-12-09</td>\n",
       "      <td>Aug 27, 1997</td>\n",
       "      <td>NaN</td>\n",
       "      <td>NaN</td>\n",
       "      <td>128 minutes</td>\n",
       "      <td>NaN</td>\n",
       "    </tr>\n",
       "    <tr>\n",
       "      <th>4</th>\n",
       "      <td>7</td>\n",
       "      <td>NaN</td>\n",
       "      <td>NR</td>\n",
       "      <td>Drama|Romance</td>\n",
       "      <td>Rodney Bennett</td>\n",
       "      <td>Giles Cooper</td>\n",
       "      <td>NaT</td>\n",
       "      <td>NaN</td>\n",
       "      <td>NaN</td>\n",
       "      <td>NaN</td>\n",
       "      <td>200 minutes</td>\n",
       "      <td>NaN</td>\n",
       "    </tr>\n",
       "  </tbody>\n",
       "</table>\n",
       "</div>"
      ],
      "text/plain": [
       "   id                                           synopsis rating  \\\n",
       "0   1  This gritty, fast-paced, and innovative police...      R   \n",
       "1   3  New York City, not-too-distant-future: Eric Pa...      R   \n",
       "2   5  Illeana Douglas delivers a superb performance ...      R   \n",
       "3   6  Michael Douglas runs afoul of a treacherous su...      R   \n",
       "4   7                                                NaN     NR   \n",
       "\n",
       "                                 genre          director  \\\n",
       "0  Action and Adventure|Classics|Drama  William Friedkin   \n",
       "1    Drama|Science Fiction and Fantasy  David Cronenberg   \n",
       "2    Drama|Musical and Performing Arts    Allison Anders   \n",
       "3           Drama|Mystery and Suspense    Barry Levinson   \n",
       "4                        Drama|Romance    Rodney Bennett   \n",
       "\n",
       "                            writer theater_date      dvd_date currency  \\\n",
       "0                   Ernest Tidyman   1971-10-09  Sep 25, 2001      NaN   \n",
       "1     David Cronenberg|Don DeLillo   2012-08-17   Jan 1, 2013        $   \n",
       "2                   Allison Anders   1996-09-13  Apr 18, 2000      NaN   \n",
       "3  Paul Attanasio|Michael Crichton   1994-12-09  Aug 27, 1997      NaN   \n",
       "4                     Giles Cooper          NaT           NaN      NaN   \n",
       "\n",
       "   box_office      runtime             studio  \n",
       "0         NaN  104 minutes                NaN  \n",
       "1    600000.0  108 minutes  Entertainment One  \n",
       "2         NaN  116 minutes                NaN  \n",
       "3         NaN  128 minutes                NaN  \n",
       "4         NaN  200 minutes                NaN  "
      ]
     },
     "execution_count": 28,
     "metadata": {},
     "output_type": "execute_result"
    }
   ],
   "source": [
    "# making sure that the datetime changed\n",
    "movie_info.head()"
   ]
  },
  {
   "cell_type": "code",
   "execution_count": 29,
   "metadata": {},
   "outputs": [],
   "source": [
    "# now we can create another column so that we can refrence what day the movies came out.\n",
    "# we can simply make a column with these days\n",
    "movie_info['day_of_week'] = movie_info['theater_date'].dt.day_name()"
   ]
  },
  {
   "cell_type": "code",
   "execution_count": 30,
   "metadata": {},
   "outputs": [
    {
     "data": {
      "text/plain": [
       "Friday       702\n",
       "Wednesday    169\n",
       "Thursday      95\n",
       "Saturday      76\n",
       "Monday        60\n",
       "Tuesday       53\n",
       "Sunday        46\n",
       "Name: day_of_week, dtype: int64"
      ]
     },
     "execution_count": 30,
     "metadata": {},
     "output_type": "execute_result"
    }
   ],
   "source": [
    "# here we want to see the value count for each day.\n",
    "# this will give us a picture of what days have a high count\n",
    "movie_info['day_of_week'].value_counts()"
   ]
  },
  {
   "cell_type": "code",
   "execution_count": 31,
   "metadata": {},
   "outputs": [],
   "source": [
    "# dropping null values in te box office column\n",
    "movie_info = movie_info.dropna(subset=['box_office'])"
   ]
  },
  {
   "cell_type": "code",
   "execution_count": 32,
   "metadata": {},
   "outputs": [
    {
     "data": {
      "text/plain": [
       "0"
      ]
     },
     "execution_count": 32,
     "metadata": {},
     "output_type": "execute_result"
    }
   ],
   "source": [
    "# making sure the nulls are gone\n",
    "movie_info['box_office'].isnull().sum()"
   ]
  },
  {
   "cell_type": "code",
   "execution_count": 33,
   "metadata": {},
   "outputs": [],
   "source": [
    "# starting a new dataframe with the columns we want to further inspect\n",
    "new_subset = movie_info[['theater_date', 'box_office', 'day_of_week']]"
   ]
  },
  {
   "cell_type": "code",
   "execution_count": 34,
   "metadata": {},
   "outputs": [],
   "source": [
    "# resetting the index\n",
    "new_subset.reset_index(drop=True, inplace=True)"
   ]
  },
  {
   "cell_type": "code",
   "execution_count": 35,
   "metadata": {},
   "outputs": [
    {
     "data": {
      "text/plain": [
       "theater_date    6\n",
       "box_office      0\n",
       "day_of_week     6\n",
       "dtype: int64"
      ]
     },
     "execution_count": 35,
     "metadata": {},
     "output_type": "execute_result"
    }
   ],
   "source": [
    "# inspecting the null values that i have.\n",
    "new_subset.isnull().sum()"
   ]
  },
  {
   "cell_type": "code",
   "execution_count": 36,
   "metadata": {},
   "outputs": [],
   "source": [
    "# dropping nulls\n",
    "new_subset = new_subset.dropna(subset=['theater_date'])"
   ]
  },
  {
   "cell_type": "code",
   "execution_count": 37,
   "metadata": {},
   "outputs": [],
   "source": [
    "new_subset = new_subset.dropna(subset=['day_of_week'])"
   ]
  },
  {
   "cell_type": "code",
   "execution_count": 38,
   "metadata": {},
   "outputs": [],
   "source": [
    "# making a new dataframe with the desired columns for further analysis.\n",
    "# also sorted them.\n",
    "final_subset = new_subset[['theater_date', 'box_office', 'day_of_week']]\n",
    "final_subset.sort_values(['box_office', 'day_of_week'], inplace=True)"
   ]
  },
  {
   "cell_type": "code",
   "execution_count": 39,
   "metadata": {},
   "outputs": [
    {
     "name": "stdout",
     "output_type": "stream",
     "text": [
      "<class 'pandas.core.frame.DataFrame'>\n",
      "Int64Index: 331 entries, 205 to 169\n",
      "Data columns (total 2 columns):\n",
      " #   Column       Non-Null Count  Dtype  \n",
      "---  ------       --------------  -----  \n",
      " 0   day_of_week  331 non-null    object \n",
      " 1   box_office   331 non-null    float64\n",
      "dtypes: float64(1), object(1)\n",
      "memory usage: 7.8+ KB\n"
     ]
    }
   ],
   "source": [
    "# a way to remove this redundancy is to create a separate table with days data and linking it to the box office using-\n",
    "# an index. this is called data normalization.\n",
    "days = final_subset[['day_of_week', 'box_office']].drop_duplicates()\n",
    "days.info()"
   ]
  },
  {
   "cell_type": "code",
   "execution_count": 40,
   "metadata": {},
   "outputs": [
    {
     "data": {
      "text/html": [
       "<div>\n",
       "<style scoped>\n",
       "    .dataframe tbody tr th:only-of-type {\n",
       "        vertical-align: middle;\n",
       "    }\n",
       "\n",
       "    .dataframe tbody tr th {\n",
       "        vertical-align: top;\n",
       "    }\n",
       "\n",
       "    .dataframe thead th {\n",
       "        text-align: right;\n",
       "    }\n",
       "</style>\n",
       "<table border=\"1\" class=\"dataframe\">\n",
       "  <thead>\n",
       "    <tr style=\"text-align: right;\">\n",
       "      <th></th>\n",
       "      <th>id</th>\n",
       "      <th>day_of_week</th>\n",
       "      <th>box_office</th>\n",
       "    </tr>\n",
       "  </thead>\n",
       "  <tbody>\n",
       "    <tr>\n",
       "      <th>0</th>\n",
       "      <td>205</td>\n",
       "      <td>Friday</td>\n",
       "      <td>363.0</td>\n",
       "    </tr>\n",
       "    <tr>\n",
       "      <th>1</th>\n",
       "      <td>76</td>\n",
       "      <td>Friday</td>\n",
       "      <td>2367.0</td>\n",
       "    </tr>\n",
       "    <tr>\n",
       "      <th>2</th>\n",
       "      <td>145</td>\n",
       "      <td>Friday</td>\n",
       "      <td>3328.0</td>\n",
       "    </tr>\n",
       "    <tr>\n",
       "      <th>3</th>\n",
       "      <td>143</td>\n",
       "      <td>Wednesday</td>\n",
       "      <td>8300.0</td>\n",
       "    </tr>\n",
       "    <tr>\n",
       "      <th>4</th>\n",
       "      <td>278</td>\n",
       "      <td>Friday</td>\n",
       "      <td>8856.0</td>\n",
       "    </tr>\n",
       "  </tbody>\n",
       "</table>\n",
       "</div>"
      ],
      "text/plain": [
       "    id day_of_week  box_office\n",
       "0  205      Friday       363.0\n",
       "1   76      Friday      2367.0\n",
       "2  145      Friday      3328.0\n",
       "3  143   Wednesday      8300.0\n",
       "4  278      Friday      8856.0"
      ]
     },
     "execution_count": 40,
     "metadata": {},
     "output_type": "execute_result"
    }
   ],
   "source": [
    "# since the index is unique we need to carry it explicitly as a column.\n",
    "# we will reset the index and rename it id\n",
    "days.index.name = 'id'\n",
    "my_id = days.reset_index()\n",
    "my_id.head()"
   ]
  },
  {
   "cell_type": "code",
   "execution_count": 41,
   "metadata": {},
   "outputs": [
    {
     "data": {
      "text/html": [
       "<div>\n",
       "<style scoped>\n",
       "    .dataframe tbody tr th:only-of-type {\n",
       "        vertical-align: middle;\n",
       "    }\n",
       "\n",
       "    .dataframe tbody tr th {\n",
       "        vertical-align: top;\n",
       "    }\n",
       "\n",
       "    .dataframe thead th {\n",
       "        text-align: right;\n",
       "    }\n",
       "</style>\n",
       "<table border=\"1\" class=\"dataframe\">\n",
       "  <thead>\n",
       "    <tr style=\"text-align: right;\">\n",
       "      <th></th>\n",
       "      <th>id</th>\n",
       "      <th>day_of_week</th>\n",
       "      <th>box_office</th>\n",
       "    </tr>\n",
       "  </thead>\n",
       "  <tbody>\n",
       "    <tr>\n",
       "      <th>0</th>\n",
       "      <td>205</td>\n",
       "      <td>Friday</td>\n",
       "      <td>363.0</td>\n",
       "    </tr>\n",
       "    <tr>\n",
       "      <th>1</th>\n",
       "      <td>76</td>\n",
       "      <td>Friday</td>\n",
       "      <td>2367.0</td>\n",
       "    </tr>\n",
       "    <tr>\n",
       "      <th>2</th>\n",
       "      <td>145</td>\n",
       "      <td>Friday</td>\n",
       "      <td>3328.0</td>\n",
       "    </tr>\n",
       "    <tr>\n",
       "      <th>3</th>\n",
       "      <td>143</td>\n",
       "      <td>Wednesday</td>\n",
       "      <td>8300.0</td>\n",
       "    </tr>\n",
       "    <tr>\n",
       "      <th>4</th>\n",
       "      <td>278</td>\n",
       "      <td>Friday</td>\n",
       "      <td>8856.0</td>\n",
       "    </tr>\n",
       "  </tbody>\n",
       "</table>\n",
       "</div>"
      ],
      "text/plain": [
       "    id day_of_week  box_office\n",
       "0  205      Friday       363.0\n",
       "1   76      Friday      2367.0\n",
       "2  145      Friday      3328.0\n",
       "3  143   Wednesday      8300.0\n",
       "4  278      Friday      8856.0"
      ]
     },
     "execution_count": 41,
     "metadata": {},
     "output_type": "execute_result"
    }
   ],
   "source": [
    "# merging together\n",
    "pd.merge(my_id, days, on=['day_of_week', 'box_office']).head()"
   ]
  },
  {
   "cell_type": "code",
   "execution_count": 42,
   "metadata": {},
   "outputs": [],
   "source": [
    "# heres a simplified table\n",
    "tidy = pd.merge(my_id, days, on=['day_of_week', 'box_office'])\n",
    "tidy.sort_values(['box_office', 'day_of_week'], inplace=True)"
   ]
  },
  {
   "cell_type": "code",
   "execution_count": 43,
   "metadata": {},
   "outputs": [
    {
     "data": {
      "image/png": "[encoded data removed]",
      "text/plain": [
       "<Figure size 432x288 with 1 Axes>"
      ]
     },
     "metadata": {
      "needs_background": "light"
     },
     "output_type": "display_data"
    }
   ],
   "source": [
    "box_plot = sns.boxplot(x=\"day_of_week\", y=\"box_office\", data=tidy)\n",
    "\n",
    "ax = box_plot.axes\n",
    "lines = ax.get_lines()\n",
    "categories = ax.get_xticks()\n",
    "\n",
    "for cat in categories:\n",
    "    # every 4th line at the interval of 6 is median line\n",
    "    # 0 -> p25 1 -> p75 2 -> lower whisker 3 -> upper whisker 4 -> p50 5 -> upper extreme value\n",
    "    y = round(lines[4+cat*6].get_ydata()[0],1) \n",
    "\n",
    "    ax.text(\n",
    "        cat, \n",
    "        y, \n",
    "        f'{y}', \n",
    "        ha='center', \n",
    "        va='center', \n",
    "        fontweight='bold', \n",
    "        size=7,\n",
    "        color='white',\n",
    "        bbox=dict(facecolor='#445A64'))\n",
    "\n",
    "box_plot.figure.tight_layout()"
   ]
  },
  {
   "cell_type": "markdown",
   "metadata": {},
   "source": [
    "#### Analysis methods\n",
    "Most of the analysis methods used were filters, and pandas functions. We also used datetime manipulation which made things easier. \n",
    "\n",
    "We also used the box plot above to describe our findings. Overall, pretty straight forward. "
   ]
  },
  {
   "cell_type": "markdown",
   "metadata": {},
   "source": [
    "#### Conclusion / Suggestion\n",
    "Based on the findings on box office revenue and day of the week that the movie was released, Friday is the best day to release a movie. Since the majority of the movies come out on Friday, the biggest yield in box office revenue is Friday.\n",
    "\n",
    "#### Therefore, we can recommend that Computing Vision should relese their movies on Friday to maximize box office revenue\n",
    "\n",
    "These findings are important because a company like Computing Vision, that is starting off in the movie industry should maximize those box office sales."
   ]
  },
  {
   "cell_type": "markdown",
   "metadata": {},
   "source": [
    "#### What limitations are there?\n",
    "The only limitations we can think of is that the sample size is not big enough. This does not allow for more accurate testing. \n",
    "\n",
    "The outliers for Friday were pretty significant as well. Compared to the other days, Friday's box is tight meaning that there is not a lot of varience compared with the other outliers. "
   ]
  },
  {
   "cell_type": "markdown",
   "metadata": {},
   "source": [
    "## Genre (Landon)"
   ]
  },
  {
   "cell_type": "markdown",
   "metadata": {},
   "source": [
    "#### Datasets and cleaning\n",
    "The datasets used for this analysis were:\n",
    "\n",
    "    - im.db (from imdb.com - accessed through sqlite3)\n",
    "    - tn.budgets.csv (from The-Numbers.com)\n",
    "\n",
    "Within the IMDB dataset, the tables movie_basics, and movie_reviews was called and merged on the primary key, \"movie_id\". The values in the genre column needed to be split on every comma, as many movies were classified under multiple genres. The entries were split within the column, and then for every genre in the column, a new row was created with the respective genre.\n",
    "\n",
    "For example, if a *Lord of the Rings* movie was classified as an action *and* adventure film, *Lord of the Rings* would appear in two separate rows. The genre value would be \"action\" in one row, and \"adventure\" on the other. The resulting dataframe was trimmed so that it only contained the primary_title and genre column.\n",
    "\n",
    "Next, the tn.budgets.csv file was loaded in using pandas. The financial columns were in a common monetary format as strings; this was rectified by using the \"str.replace()\" method, and then casting the columns as numeric. A new \"total_profit\" column was created by subtracting the production budget from the worldwide gross. This inevitably creates an *estimate* of the total_profit, as it is unknown if the entire budget was utilized. As a result, the total_profit is expected to be *at least* the current value.\n",
    "\n",
    "To use information that otherwise is not very telling, the two tables were merged with the keys being \"primary_title\" and \"movie\".  The merged table would pair the \"total_profit\" column to each respective movie. After the merge, the resulting dataframe had 7,417 entries (which, as a reminder, is *not* equal to the number of movies).\n",
    "\n",
    "Bringing back the example from above, *Lord of the Rings* would appear in two separate rows as follows:\n",
    "\n",
    "    | primary_title      | genre     | total_profit |\n",
    "    |*Lord of the Rings* | Action    | 340000000    |\n",
    "    |*Lord of the Rings* | Adventure | 340000000    |\n",
    "\n",
    "Using this data structure, it was possible to create box plots for each genre and compare them to one another. "
   ]
  },
  {
   "cell_type": "markdown",
   "metadata": {},
   "source": [
    "#### Analysis methods"
   ]
  },
  {
   "cell_type": "code",
   "execution_count": 44,
   "metadata": {},
   "outputs": [],
   "source": [
    "# Imports\n",
    "import pandas as pd\n",
    "from pandas import Series, DataFrame\n",
    "import numpy as np\n",
    "import sqlite3\n",
    "import matplotlib.pyplot as plt\n",
    "import seaborn as sns\n",
    "from scipy import stats\n",
    "from sklearn.preprocessing import OneHotEncoder"
   ]
  },
  {
   "cell_type": "code",
   "execution_count": 45,
   "metadata": {},
   "outputs": [
    {
     "data": {
      "text/html": [
       "<div>\n",
       "<style scoped>\n",
       "    .dataframe tbody tr th:only-of-type {\n",
       "        vertical-align: middle;\n",
       "    }\n",
       "\n",
       "    .dataframe tbody tr th {\n",
       "        vertical-align: top;\n",
       "    }\n",
       "\n",
       "    .dataframe thead th {\n",
       "        text-align: right;\n",
       "    }\n",
       "</style>\n",
       "<table border=\"1\" class=\"dataframe\">\n",
       "  <thead>\n",
       "    <tr style=\"text-align: right;\">\n",
       "      <th></th>\n",
       "      <th>name</th>\n",
       "    </tr>\n",
       "  </thead>\n",
       "  <tbody>\n",
       "    <tr>\n",
       "      <th>0</th>\n",
       "      <td>movie_basics</td>\n",
       "    </tr>\n",
       "    <tr>\n",
       "      <th>1</th>\n",
       "      <td>directors</td>\n",
       "    </tr>\n",
       "    <tr>\n",
       "      <th>2</th>\n",
       "      <td>known_for</td>\n",
       "    </tr>\n",
       "    <tr>\n",
       "      <th>3</th>\n",
       "      <td>movie_akas</td>\n",
       "    </tr>\n",
       "    <tr>\n",
       "      <th>4</th>\n",
       "      <td>movie_ratings</td>\n",
       "    </tr>\n",
       "    <tr>\n",
       "      <th>5</th>\n",
       "      <td>persons</td>\n",
       "    </tr>\n",
       "    <tr>\n",
       "      <th>6</th>\n",
       "      <td>principals</td>\n",
       "    </tr>\n",
       "    <tr>\n",
       "      <th>7</th>\n",
       "      <td>writers</td>\n",
       "    </tr>\n",
       "  </tbody>\n",
       "</table>\n",
       "</div>"
      ],
      "text/plain": [
       "            name\n",
       "0   movie_basics\n",
       "1      directors\n",
       "2      known_for\n",
       "3     movie_akas\n",
       "4  movie_ratings\n",
       "5        persons\n",
       "6     principals\n",
       "7        writers"
      ]
     },
     "execution_count": 45,
     "metadata": {},
     "output_type": "execute_result"
    }
   ],
   "source": [
    "# establish connection to the database\n",
    "conn = sqlite3.connect('../data/im.db')\n",
    "\n",
    "# read in the various tables from the database\n",
    "tables = pd.read_sql(\"\"\"SELECT name FROM sqlite_master WHERE type = 'table';\"\"\", conn)\n",
    "tables"
   ]
  },
  {
   "cell_type": "code",
   "execution_count": 46,
   "metadata": {},
   "outputs": [
    {
     "data": {
      "text/html": [
       "<div>\n",
       "<style scoped>\n",
       "    .dataframe tbody tr th:only-of-type {\n",
       "        vertical-align: middle;\n",
       "    }\n",
       "\n",
       "    .dataframe tbody tr th {\n",
       "        vertical-align: top;\n",
       "    }\n",
       "\n",
       "    .dataframe thead th {\n",
       "        text-align: right;\n",
       "    }\n",
       "</style>\n",
       "<table border=\"1\" class=\"dataframe\">\n",
       "  <thead>\n",
       "    <tr style=\"text-align: right;\">\n",
       "      <th></th>\n",
       "      <th>movie_id</th>\n",
       "      <th>primary_title</th>\n",
       "      <th>original_title</th>\n",
       "      <th>start_year</th>\n",
       "      <th>runtime_minutes</th>\n",
       "      <th>genres</th>\n",
       "    </tr>\n",
       "  </thead>\n",
       "  <tbody>\n",
       "    <tr>\n",
       "      <th>0</th>\n",
       "      <td>tt0063540</td>\n",
       "      <td>Sunghursh</td>\n",
       "      <td>Sunghursh</td>\n",
       "      <td>2013</td>\n",
       "      <td>175.0</td>\n",
       "      <td>Action,Crime,Drama</td>\n",
       "    </tr>\n",
       "    <tr>\n",
       "      <th>1</th>\n",
       "      <td>tt0066787</td>\n",
       "      <td>One Day Before the Rainy Season</td>\n",
       "      <td>Ashad Ka Ek Din</td>\n",
       "      <td>2019</td>\n",
       "      <td>114.0</td>\n",
       "      <td>Biography,Drama</td>\n",
       "    </tr>\n",
       "    <tr>\n",
       "      <th>2</th>\n",
       "      <td>tt0069049</td>\n",
       "      <td>The Other Side of the Wind</td>\n",
       "      <td>The Other Side of the Wind</td>\n",
       "      <td>2018</td>\n",
       "      <td>122.0</td>\n",
       "      <td>Drama</td>\n",
       "    </tr>\n",
       "    <tr>\n",
       "      <th>3</th>\n",
       "      <td>tt0069204</td>\n",
       "      <td>Sabse Bada Sukh</td>\n",
       "      <td>Sabse Bada Sukh</td>\n",
       "      <td>2018</td>\n",
       "      <td>NaN</td>\n",
       "      <td>Comedy,Drama</td>\n",
       "    </tr>\n",
       "    <tr>\n",
       "      <th>4</th>\n",
       "      <td>tt0100275</td>\n",
       "      <td>The Wandering Soap Opera</td>\n",
       "      <td>La Telenovela Errante</td>\n",
       "      <td>2017</td>\n",
       "      <td>80.0</td>\n",
       "      <td>Comedy,Drama,Fantasy</td>\n",
       "    </tr>\n",
       "    <tr>\n",
       "      <th>...</th>\n",
       "      <td>...</td>\n",
       "      <td>...</td>\n",
       "      <td>...</td>\n",
       "      <td>...</td>\n",
       "      <td>...</td>\n",
       "      <td>...</td>\n",
       "    </tr>\n",
       "    <tr>\n",
       "      <th>146139</th>\n",
       "      <td>tt9916538</td>\n",
       "      <td>Kuambil Lagi Hatiku</td>\n",
       "      <td>Kuambil Lagi Hatiku</td>\n",
       "      <td>2019</td>\n",
       "      <td>123.0</td>\n",
       "      <td>Drama</td>\n",
       "    </tr>\n",
       "    <tr>\n",
       "      <th>146140</th>\n",
       "      <td>tt9916622</td>\n",
       "      <td>Rodolpho Teóphilo - O Legado de um Pioneiro</td>\n",
       "      <td>Rodolpho Teóphilo - O Legado de um Pioneiro</td>\n",
       "      <td>2015</td>\n",
       "      <td>NaN</td>\n",
       "      <td>Documentary</td>\n",
       "    </tr>\n",
       "    <tr>\n",
       "      <th>146141</th>\n",
       "      <td>tt9916706</td>\n",
       "      <td>Dankyavar Danka</td>\n",
       "      <td>Dankyavar Danka</td>\n",
       "      <td>2013</td>\n",
       "      <td>NaN</td>\n",
       "      <td>Comedy</td>\n",
       "    </tr>\n",
       "    <tr>\n",
       "      <th>146142</th>\n",
       "      <td>tt9916730</td>\n",
       "      <td>6 Gunn</td>\n",
       "      <td>6 Gunn</td>\n",
       "      <td>2017</td>\n",
       "      <td>116.0</td>\n",
       "      <td>None</td>\n",
       "    </tr>\n",
       "    <tr>\n",
       "      <th>146143</th>\n",
       "      <td>tt9916754</td>\n",
       "      <td>Chico Albuquerque - Revelações</td>\n",
       "      <td>Chico Albuquerque - Revelações</td>\n",
       "      <td>2013</td>\n",
       "      <td>NaN</td>\n",
       "      <td>Documentary</td>\n",
       "    </tr>\n",
       "  </tbody>\n",
       "</table>\n",
       "<p>146144 rows × 6 columns</p>\n",
       "</div>"
      ],
      "text/plain": [
       "         movie_id                                primary_title  \\\n",
       "0       tt0063540                                    Sunghursh   \n",
       "1       tt0066787              One Day Before the Rainy Season   \n",
       "2       tt0069049                   The Other Side of the Wind   \n",
       "3       tt0069204                              Sabse Bada Sukh   \n",
       "4       tt0100275                     The Wandering Soap Opera   \n",
       "...           ...                                          ...   \n",
       "146139  tt9916538                          Kuambil Lagi Hatiku   \n",
       "146140  tt9916622  Rodolpho Teóphilo - O Legado de um Pioneiro   \n",
       "146141  tt9916706                              Dankyavar Danka   \n",
       "146142  tt9916730                                       6 Gunn   \n",
       "146143  tt9916754               Chico Albuquerque - Revelações   \n",
       "\n",
       "                                     original_title  start_year  \\\n",
       "0                                         Sunghursh        2013   \n",
       "1                                   Ashad Ka Ek Din        2019   \n",
       "2                        The Other Side of the Wind        2018   \n",
       "3                                   Sabse Bada Sukh        2018   \n",
       "4                             La Telenovela Errante        2017   \n",
       "...                                             ...         ...   \n",
       "146139                          Kuambil Lagi Hatiku        2019   \n",
       "146140  Rodolpho Teóphilo - O Legado de um Pioneiro        2015   \n",
       "146141                              Dankyavar Danka        2013   \n",
       "146142                                       6 Gunn        2017   \n",
       "146143               Chico Albuquerque - Revelações        2013   \n",
       "\n",
       "        runtime_minutes                genres  \n",
       "0                 175.0    Action,Crime,Drama  \n",
       "1                 114.0       Biography,Drama  \n",
       "2                 122.0                 Drama  \n",
       "3                   NaN          Comedy,Drama  \n",
       "4                  80.0  Comedy,Drama,Fantasy  \n",
       "...                 ...                   ...  \n",
       "146139            123.0                 Drama  \n",
       "146140              NaN           Documentary  \n",
       "146141              NaN                Comedy  \n",
       "146142            116.0                  None  \n",
       "146143              NaN           Documentary  \n",
       "\n",
       "[146144 rows x 6 columns]"
      ]
     },
     "execution_count": 46,
     "metadata": {},
     "output_type": "execute_result"
    }
   ],
   "source": [
    "# Look into movie basics\n",
    "mb_mr = pd.read_sql(\"\"\"\n",
    "    SELECT *\n",
    "    FROM movie_basics\"\"\", conn)\n",
    "mb_mr"
   ]
  },
  {
   "cell_type": "code",
   "execution_count": 47,
   "metadata": {},
   "outputs": [
    {
     "data": {
      "text/html": [
       "<div>\n",
       "<style scoped>\n",
       "    .dataframe tbody tr th:only-of-type {\n",
       "        vertical-align: middle;\n",
       "    }\n",
       "\n",
       "    .dataframe tbody tr th {\n",
       "        vertical-align: top;\n",
       "    }\n",
       "\n",
       "    .dataframe thead th {\n",
       "        text-align: right;\n",
       "    }\n",
       "</style>\n",
       "<table border=\"1\" class=\"dataframe\">\n",
       "  <thead>\n",
       "    <tr style=\"text-align: right;\">\n",
       "      <th></th>\n",
       "      <th>movie_id</th>\n",
       "      <th>primary_title</th>\n",
       "      <th>original_title</th>\n",
       "      <th>start_year</th>\n",
       "      <th>runtime_minutes</th>\n",
       "      <th>genres</th>\n",
       "    </tr>\n",
       "  </thead>\n",
       "  <tbody>\n",
       "  </tbody>\n",
       "</table>\n",
       "</div>"
      ],
      "text/plain": [
       "Empty DataFrame\n",
       "Columns: [movie_id, primary_title, original_title, start_year, runtime_minutes, genres]\n",
       "Index: []"
      ]
     },
     "execution_count": 47,
     "metadata": {},
     "output_type": "execute_result"
    }
   ],
   "source": [
    "# Checking to see if any movie id appears more than once\n",
    "pd.read_sql(\"\"\"\n",
    "    SELECT *\n",
    "    FROM movie_basics\n",
    "    GROUP BY movie_id\n",
    "    HAVING COUNT(movie_id) > 1;\n",
    "\"\"\", conn)"
   ]
  },
  {
   "cell_type": "code",
   "execution_count": 48,
   "metadata": {},
   "outputs": [],
   "source": [
    "# Split genres and create a new entry for each of the genre a movie falls into\n",
    "### FROM Leo's EDA notebook\n",
    "s = mb_mr['genres'].str.split(',').apply(Series, 1).stack()\n",
    "s.index = s.index.droplevel(-1)\n",
    "s.name = 'genre'\n",
    "del mb_mr['genres']\n",
    "mb_mr_genres = mb_mr.join(s)"
   ]
  },
  {
   "cell_type": "code",
   "execution_count": 49,
   "metadata": {},
   "outputs": [
    {
     "data": {
      "text/html": [
       "<div>\n",
       "<style scoped>\n",
       "    .dataframe tbody tr th:only-of-type {\n",
       "        vertical-align: middle;\n",
       "    }\n",
       "\n",
       "    .dataframe tbody tr th {\n",
       "        vertical-align: top;\n",
       "    }\n",
       "\n",
       "    .dataframe thead th {\n",
       "        text-align: right;\n",
       "    }\n",
       "</style>\n",
       "<table border=\"1\" class=\"dataframe\">\n",
       "  <thead>\n",
       "    <tr style=\"text-align: right;\">\n",
       "      <th></th>\n",
       "      <th>primary_title</th>\n",
       "      <th>genre</th>\n",
       "    </tr>\n",
       "  </thead>\n",
       "  <tbody>\n",
       "    <tr>\n",
       "      <th>0</th>\n",
       "      <td>Sunghursh</td>\n",
       "      <td>Action</td>\n",
       "    </tr>\n",
       "    <tr>\n",
       "      <th>0</th>\n",
       "      <td>Sunghursh</td>\n",
       "      <td>Crime</td>\n",
       "    </tr>\n",
       "    <tr>\n",
       "      <th>0</th>\n",
       "      <td>Sunghursh</td>\n",
       "      <td>Drama</td>\n",
       "    </tr>\n",
       "    <tr>\n",
       "      <th>1</th>\n",
       "      <td>One Day Before the Rainy Season</td>\n",
       "      <td>Biography</td>\n",
       "    </tr>\n",
       "    <tr>\n",
       "      <th>1</th>\n",
       "      <td>One Day Before the Rainy Season</td>\n",
       "      <td>Drama</td>\n",
       "    </tr>\n",
       "    <tr>\n",
       "      <th>2</th>\n",
       "      <td>The Other Side of the Wind</td>\n",
       "      <td>Drama</td>\n",
       "    </tr>\n",
       "    <tr>\n",
       "      <th>3</th>\n",
       "      <td>Sabse Bada Sukh</td>\n",
       "      <td>Comedy</td>\n",
       "    </tr>\n",
       "    <tr>\n",
       "      <th>3</th>\n",
       "      <td>Sabse Bada Sukh</td>\n",
       "      <td>Drama</td>\n",
       "    </tr>\n",
       "    <tr>\n",
       "      <th>4</th>\n",
       "      <td>The Wandering Soap Opera</td>\n",
       "      <td>Comedy</td>\n",
       "    </tr>\n",
       "    <tr>\n",
       "      <th>4</th>\n",
       "      <td>The Wandering Soap Opera</td>\n",
       "      <td>Drama</td>\n",
       "    </tr>\n",
       "    <tr>\n",
       "      <th>4</th>\n",
       "      <td>The Wandering Soap Opera</td>\n",
       "      <td>Fantasy</td>\n",
       "    </tr>\n",
       "    <tr>\n",
       "      <th>5</th>\n",
       "      <td>A Thin Life</td>\n",
       "      <td>Comedy</td>\n",
       "    </tr>\n",
       "    <tr>\n",
       "      <th>6</th>\n",
       "      <td>Bigfoot</td>\n",
       "      <td>Horror</td>\n",
       "    </tr>\n",
       "    <tr>\n",
       "      <th>6</th>\n",
       "      <td>Bigfoot</td>\n",
       "      <td>Thriller</td>\n",
       "    </tr>\n",
       "    <tr>\n",
       "      <th>7</th>\n",
       "      <td>Joe Finds Grace</td>\n",
       "      <td>Adventure</td>\n",
       "    </tr>\n",
       "    <tr>\n",
       "      <th>7</th>\n",
       "      <td>Joe Finds Grace</td>\n",
       "      <td>Animation</td>\n",
       "    </tr>\n",
       "    <tr>\n",
       "      <th>7</th>\n",
       "      <td>Joe Finds Grace</td>\n",
       "      <td>Comedy</td>\n",
       "    </tr>\n",
       "    <tr>\n",
       "      <th>8</th>\n",
       "      <td>O Silêncio</td>\n",
       "      <td>Documentary</td>\n",
       "    </tr>\n",
       "    <tr>\n",
       "      <th>8</th>\n",
       "      <td>O Silêncio</td>\n",
       "      <td>History</td>\n",
       "    </tr>\n",
       "    <tr>\n",
       "      <th>9</th>\n",
       "      <td>Nema aviona za Zagreb</td>\n",
       "      <td>Biography</td>\n",
       "    </tr>\n",
       "  </tbody>\n",
       "</table>\n",
       "</div>"
      ],
      "text/plain": [
       "                     primary_title        genre\n",
       "0                        Sunghursh       Action\n",
       "0                        Sunghursh        Crime\n",
       "0                        Sunghursh        Drama\n",
       "1  One Day Before the Rainy Season    Biography\n",
       "1  One Day Before the Rainy Season        Drama\n",
       "2       The Other Side of the Wind        Drama\n",
       "3                  Sabse Bada Sukh       Comedy\n",
       "3                  Sabse Bada Sukh        Drama\n",
       "4         The Wandering Soap Opera       Comedy\n",
       "4         The Wandering Soap Opera        Drama\n",
       "4         The Wandering Soap Opera      Fantasy\n",
       "5                      A Thin Life       Comedy\n",
       "6                          Bigfoot       Horror\n",
       "6                          Bigfoot     Thriller\n",
       "7                  Joe Finds Grace    Adventure\n",
       "7                  Joe Finds Grace    Animation\n",
       "7                  Joe Finds Grace       Comedy\n",
       "8                       O Silêncio  Documentary\n",
       "8                       O Silêncio      History\n",
       "9            Nema aviona za Zagreb    Biography"
      ]
     },
     "execution_count": 49,
     "metadata": {},
     "output_type": "execute_result"
    }
   ],
   "source": [
    "mb_mr_genres = mb_mr_genres[['primary_title', 'genre']]\n",
    "mb_mr_genres.head(20)"
   ]
  },
  {
   "cell_type": "markdown",
   "metadata": {},
   "source": [
    "## Load in tn.movie.budgets.csv\n",
    "### Cleaning"
   ]
  },
  {
   "cell_type": "code",
   "execution_count": 50,
   "metadata": {},
   "outputs": [
    {
     "data": {
      "text/html": [
       "<div>\n",
       "<style scoped>\n",
       "    .dataframe tbody tr th:only-of-type {\n",
       "        vertical-align: middle;\n",
       "    }\n",
       "\n",
       "    .dataframe tbody tr th {\n",
       "        vertical-align: top;\n",
       "    }\n",
       "\n",
       "    .dataframe thead th {\n",
       "        text-align: right;\n",
       "    }\n",
       "</style>\n",
       "<table border=\"1\" class=\"dataframe\">\n",
       "  <thead>\n",
       "    <tr style=\"text-align: right;\">\n",
       "      <th></th>\n",
       "      <th>id</th>\n",
       "      <th>release_date</th>\n",
       "      <th>movie</th>\n",
       "      <th>production_budget</th>\n",
       "      <th>domestic_gross</th>\n",
       "      <th>worldwide_gross</th>\n",
       "    </tr>\n",
       "  </thead>\n",
       "  <tbody>\n",
       "    <tr>\n",
       "      <th>0</th>\n",
       "      <td>1</td>\n",
       "      <td>Dec 18, 2009</td>\n",
       "      <td>Avatar</td>\n",
       "      <td>$425,000,000</td>\n",
       "      <td>$760,507,625</td>\n",
       "      <td>$2,776,345,279</td>\n",
       "    </tr>\n",
       "    <tr>\n",
       "      <th>1</th>\n",
       "      <td>2</td>\n",
       "      <td>May 20, 2011</td>\n",
       "      <td>Pirates of the Caribbean: On Stranger Tides</td>\n",
       "      <td>$410,600,000</td>\n",
       "      <td>$241,063,875</td>\n",
       "      <td>$1,045,663,875</td>\n",
       "    </tr>\n",
       "    <tr>\n",
       "      <th>2</th>\n",
       "      <td>3</td>\n",
       "      <td>Jun 7, 2019</td>\n",
       "      <td>Dark Phoenix</td>\n",
       "      <td>$350,000,000</td>\n",
       "      <td>$42,762,350</td>\n",
       "      <td>$149,762,350</td>\n",
       "    </tr>\n",
       "    <tr>\n",
       "      <th>3</th>\n",
       "      <td>4</td>\n",
       "      <td>May 1, 2015</td>\n",
       "      <td>Avengers: Age of Ultron</td>\n",
       "      <td>$330,600,000</td>\n",
       "      <td>$459,005,868</td>\n",
       "      <td>$1,403,013,963</td>\n",
       "    </tr>\n",
       "    <tr>\n",
       "      <th>4</th>\n",
       "      <td>5</td>\n",
       "      <td>Dec 15, 2017</td>\n",
       "      <td>Star Wars Ep. VIII: The Last Jedi</td>\n",
       "      <td>$317,000,000</td>\n",
       "      <td>$620,181,382</td>\n",
       "      <td>$1,316,721,747</td>\n",
       "    </tr>\n",
       "  </tbody>\n",
       "</table>\n",
       "</div>"
      ],
      "text/plain": [
       "   id  release_date                                        movie  \\\n",
       "0   1  Dec 18, 2009                                       Avatar   \n",
       "1   2  May 20, 2011  Pirates of the Caribbean: On Stranger Tides   \n",
       "2   3   Jun 7, 2019                                 Dark Phoenix   \n",
       "3   4   May 1, 2015                      Avengers: Age of Ultron   \n",
       "4   5  Dec 15, 2017            Star Wars Ep. VIII: The Last Jedi   \n",
       "\n",
       "  production_budget domestic_gross worldwide_gross  \n",
       "0      $425,000,000   $760,507,625  $2,776,345,279  \n",
       "1      $410,600,000   $241,063,875  $1,045,663,875  \n",
       "2      $350,000,000    $42,762,350    $149,762,350  \n",
       "3      $330,600,000   $459,005,868  $1,403,013,963  \n",
       "4      $317,000,000   $620,181,382  $1,316,721,747  "
      ]
     },
     "execution_count": 50,
     "metadata": {},
     "output_type": "execute_result"
    }
   ],
   "source": [
    "budgets = pd.read_csv(\"../data/tn.movie_budgets.csv\")\n",
    "budgets.head()"
   ]
  },
  {
   "cell_type": "code",
   "execution_count": 51,
   "metadata": {},
   "outputs": [
    {
     "data": {
      "text/html": [
       "<div>\n",
       "<style scoped>\n",
       "    .dataframe tbody tr th:only-of-type {\n",
       "        vertical-align: middle;\n",
       "    }\n",
       "\n",
       "    .dataframe tbody tr th {\n",
       "        vertical-align: top;\n",
       "    }\n",
       "\n",
       "    .dataframe thead th {\n",
       "        text-align: right;\n",
       "    }\n",
       "</style>\n",
       "<table border=\"1\" class=\"dataframe\">\n",
       "  <thead>\n",
       "    <tr style=\"text-align: right;\">\n",
       "      <th></th>\n",
       "      <th>movie</th>\n",
       "      <th>total_profit</th>\n",
       "    </tr>\n",
       "  </thead>\n",
       "  <tbody>\n",
       "    <tr>\n",
       "      <th>0</th>\n",
       "      <td>Avatar</td>\n",
       "      <td>2351345279</td>\n",
       "    </tr>\n",
       "    <tr>\n",
       "      <th>1</th>\n",
       "      <td>Pirates of the Caribbean: On Stranger Tides</td>\n",
       "      <td>635063875</td>\n",
       "    </tr>\n",
       "    <tr>\n",
       "      <th>2</th>\n",
       "      <td>Dark Phoenix</td>\n",
       "      <td>-200237650</td>\n",
       "    </tr>\n",
       "    <tr>\n",
       "      <th>3</th>\n",
       "      <td>Avengers: Age of Ultron</td>\n",
       "      <td>1072413963</td>\n",
       "    </tr>\n",
       "    <tr>\n",
       "      <th>4</th>\n",
       "      <td>Star Wars Ep. VIII: The Last Jedi</td>\n",
       "      <td>999721747</td>\n",
       "    </tr>\n",
       "  </tbody>\n",
       "</table>\n",
       "</div>"
      ],
      "text/plain": [
       "                                         movie  total_profit\n",
       "0                                       Avatar    2351345279\n",
       "1  Pirates of the Caribbean: On Stranger Tides     635063875\n",
       "2                                 Dark Phoenix    -200237650\n",
       "3                      Avengers: Age of Ultron    1072413963\n",
       "4            Star Wars Ep. VIII: The Last Jedi     999721747"
      ]
     },
     "execution_count": 51,
     "metadata": {},
     "output_type": "execute_result"
    }
   ],
   "source": [
    "# removing $ and , from gross revenue\n",
    "budgets['worldwide_gross'] = budgets['worldwide_gross'].str.replace(\",\",\"\")\n",
    "budgets['worldwide_gross'] = budgets['worldwide_gross'].str.replace(\"$\",\"\")\n",
    "budgets['production_budget'] = budgets['production_budget'].str.replace(\",\",\"\")\n",
    "budgets['production_budget'] = budgets['production_budget'].str.replace(\"$\",\"\")\n",
    "\n",
    "# casting the values as integers\n",
    "budgets['production_budget'] = pd.to_numeric(budgets['production_budget'])\n",
    "budgets['worldwide_gross'] = pd.to_numeric(budgets['worldwide_gross'])\n",
    "\n",
    "# calculating total profit\n",
    "budgets['total_profit'] =  budgets['worldwide_gross'] - budgets['production_budget']\n",
    "\n",
    "# Keep only movie and total_profit columns\n",
    "budgets = budgets[['movie', 'total_profit']]\n",
    "\n",
    "# confirmation\n",
    "budgets.head()"
   ]
  },
  {
   "cell_type": "code",
   "execution_count": 52,
   "metadata": {},
   "outputs": [
    {
     "data": {
      "text/html": [
       "<div>\n",
       "<style scoped>\n",
       "    .dataframe tbody tr th:only-of-type {\n",
       "        vertical-align: middle;\n",
       "    }\n",
       "\n",
       "    .dataframe tbody tr th {\n",
       "        vertical-align: top;\n",
       "    }\n",
       "\n",
       "    .dataframe thead th {\n",
       "        text-align: right;\n",
       "    }\n",
       "</style>\n",
       "<table border=\"1\" class=\"dataframe\">\n",
       "  <thead>\n",
       "    <tr style=\"text-align: right;\">\n",
       "      <th></th>\n",
       "      <th>primary_title</th>\n",
       "      <th>genre</th>\n",
       "      <th>total_profit</th>\n",
       "    </tr>\n",
       "  </thead>\n",
       "  <tbody>\n",
       "    <tr>\n",
       "      <th>0</th>\n",
       "      <td>Foodfight!</td>\n",
       "      <td>Action</td>\n",
       "      <td>-44926294</td>\n",
       "    </tr>\n",
       "    <tr>\n",
       "      <th>1</th>\n",
       "      <td>Foodfight!</td>\n",
       "      <td>Animation</td>\n",
       "      <td>-44926294</td>\n",
       "    </tr>\n",
       "    <tr>\n",
       "      <th>2</th>\n",
       "      <td>Foodfight!</td>\n",
       "      <td>Comedy</td>\n",
       "      <td>-44926294</td>\n",
       "    </tr>\n",
       "    <tr>\n",
       "      <th>3</th>\n",
       "      <td>Mortal Kombat</td>\n",
       "      <td>Action</td>\n",
       "      <td>102133227</td>\n",
       "    </tr>\n",
       "    <tr>\n",
       "      <th>4</th>\n",
       "      <td>Mortal Kombat</td>\n",
       "      <td>Adventure</td>\n",
       "      <td>102133227</td>\n",
       "    </tr>\n",
       "    <tr>\n",
       "      <th>...</th>\n",
       "      <td>...</td>\n",
       "      <td>...</td>\n",
       "      <td>...</td>\n",
       "    </tr>\n",
       "    <tr>\n",
       "      <th>7863</th>\n",
       "      <td>Traitor</td>\n",
       "      <td>Action</td>\n",
       "      <td>5882226</td>\n",
       "    </tr>\n",
       "    <tr>\n",
       "      <th>7864</th>\n",
       "      <td>Traitor</td>\n",
       "      <td>Drama</td>\n",
       "      <td>5882226</td>\n",
       "    </tr>\n",
       "    <tr>\n",
       "      <th>7865</th>\n",
       "      <td>Traitor</td>\n",
       "      <td>Romance</td>\n",
       "      <td>5882226</td>\n",
       "    </tr>\n",
       "    <tr>\n",
       "      <th>7866</th>\n",
       "      <td>Ray</td>\n",
       "      <td>Crime</td>\n",
       "      <td>84823094</td>\n",
       "    </tr>\n",
       "    <tr>\n",
       "      <th>7867</th>\n",
       "      <td>Sublime</td>\n",
       "      <td>Documentary</td>\n",
       "      <td>-1800000</td>\n",
       "    </tr>\n",
       "  </tbody>\n",
       "</table>\n",
       "<p>7868 rows × 3 columns</p>\n",
       "</div>"
      ],
      "text/plain": [
       "      primary_title        genre  total_profit\n",
       "0        Foodfight!       Action     -44926294\n",
       "1        Foodfight!    Animation     -44926294\n",
       "2        Foodfight!       Comedy     -44926294\n",
       "3     Mortal Kombat       Action     102133227\n",
       "4     Mortal Kombat    Adventure     102133227\n",
       "...             ...          ...           ...\n",
       "7863        Traitor       Action       5882226\n",
       "7864        Traitor        Drama       5882226\n",
       "7865        Traitor      Romance       5882226\n",
       "7866            Ray        Crime      84823094\n",
       "7867        Sublime  Documentary      -1800000\n",
       "\n",
       "[7868 rows x 3 columns]"
      ]
     },
     "execution_count": 52,
     "metadata": {},
     "output_type": "execute_result"
    }
   ],
   "source": [
    "# merge mb_mr_genres with budgets table on movie titles\n",
    "combined = pd.merge(mb_mr_genres, budgets, left_on=\"primary_title\", right_on=\"movie\")\n",
    "combined.drop(columns=\"movie\", inplace=True)\n",
    "combined"
   ]
  },
  {
   "cell_type": "markdown",
   "metadata": {},
   "source": [
    "The duplicate values in the rows are okay to have for what I am going to\n",
    "accomplish with them. I will create a boxplot where the x is the genre categories, and the y is the total_profit column associated with those genres. Before proceeding to that, I need to clean up the new table and deal with outliers."
   ]
  },
  {
   "cell_type": "markdown",
   "metadata": {},
   "source": [
    "## Keeping populated genres"
   ]
  },
  {
   "cell_type": "code",
   "execution_count": 53,
   "metadata": {},
   "outputs": [
    {
     "data": {
      "text/plain": [
       "count      23.000000\n",
       "mean      338.956522\n",
       "std       398.313887\n",
       "min         1.000000\n",
       "25%        81.000000\n",
       "50%       229.000000\n",
       "75%       452.500000\n",
       "max      1817.000000\n",
       "Name: genre, dtype: float64"
      ]
     },
     "execution_count": 53,
     "metadata": {},
     "output_type": "execute_result"
    }
   ],
   "source": [
    "# Getting 25th percentile of genre counts... the max 1491 is drama\n",
    "combined['genre'].value_counts().describe()"
   ]
  },
  {
   "cell_type": "code",
   "execution_count": 54,
   "metadata": {},
   "outputs": [
    {
     "data": {
      "text/plain": [
       "['Drama',\n",
       " 'Comedy',\n",
       " 'Action',\n",
       " 'Thriller',\n",
       " 'Documentary',\n",
       " 'Adventure',\n",
       " 'Horror',\n",
       " 'Crime',\n",
       " 'Romance',\n",
       " 'Mystery',\n",
       " 'Biography',\n",
       " 'Sci-Fi',\n",
       " 'Family',\n",
       " 'Fantasy',\n",
       " 'Animation']"
      ]
     },
     "execution_count": 54,
     "metadata": {},
     "output_type": "execute_result"
    }
   ],
   "source": [
    "# remove any genre where the count is lower than 100\n",
    "mask = combined['genre'].value_counts() > 100\n",
    "\n",
    "vals_to_keep = []\n",
    "for x in mask.items():\n",
    "    if x[1] == True:\n",
    "        vals_to_keep.append(x[0])\n",
    "        \n",
    "vals_to_keep"
   ]
  },
  {
   "cell_type": "code",
   "execution_count": 55,
   "metadata": {},
   "outputs": [
    {
     "data": {
      "text/html": [
       "<div>\n",
       "<style scoped>\n",
       "    .dataframe tbody tr th:only-of-type {\n",
       "        vertical-align: middle;\n",
       "    }\n",
       "\n",
       "    .dataframe tbody tr th {\n",
       "        vertical-align: top;\n",
       "    }\n",
       "\n",
       "    .dataframe thead th {\n",
       "        text-align: right;\n",
       "    }\n",
       "</style>\n",
       "<table border=\"1\" class=\"dataframe\">\n",
       "  <thead>\n",
       "    <tr style=\"text-align: right;\">\n",
       "      <th></th>\n",
       "      <th>primary_title</th>\n",
       "      <th>genre</th>\n",
       "      <th>total_profit</th>\n",
       "    </tr>\n",
       "  </thead>\n",
       "  <tbody>\n",
       "    <tr>\n",
       "      <th>0</th>\n",
       "      <td>Foodfight!</td>\n",
       "      <td>Action</td>\n",
       "      <td>-44926294</td>\n",
       "    </tr>\n",
       "    <tr>\n",
       "      <th>1</th>\n",
       "      <td>Foodfight!</td>\n",
       "      <td>Animation</td>\n",
       "      <td>-44926294</td>\n",
       "    </tr>\n",
       "    <tr>\n",
       "      <th>2</th>\n",
       "      <td>Foodfight!</td>\n",
       "      <td>Comedy</td>\n",
       "      <td>-44926294</td>\n",
       "    </tr>\n",
       "    <tr>\n",
       "      <th>3</th>\n",
       "      <td>Mortal Kombat</td>\n",
       "      <td>Action</td>\n",
       "      <td>102133227</td>\n",
       "    </tr>\n",
       "    <tr>\n",
       "      <th>4</th>\n",
       "      <td>Mortal Kombat</td>\n",
       "      <td>Adventure</td>\n",
       "      <td>102133227</td>\n",
       "    </tr>\n",
       "    <tr>\n",
       "      <th>...</th>\n",
       "      <td>...</td>\n",
       "      <td>...</td>\n",
       "      <td>...</td>\n",
       "    </tr>\n",
       "    <tr>\n",
       "      <th>7863</th>\n",
       "      <td>Traitor</td>\n",
       "      <td>Action</td>\n",
       "      <td>5882226</td>\n",
       "    </tr>\n",
       "    <tr>\n",
       "      <th>7864</th>\n",
       "      <td>Traitor</td>\n",
       "      <td>Drama</td>\n",
       "      <td>5882226</td>\n",
       "    </tr>\n",
       "    <tr>\n",
       "      <th>7865</th>\n",
       "      <td>Traitor</td>\n",
       "      <td>Romance</td>\n",
       "      <td>5882226</td>\n",
       "    </tr>\n",
       "    <tr>\n",
       "      <th>7866</th>\n",
       "      <td>Ray</td>\n",
       "      <td>Crime</td>\n",
       "      <td>84823094</td>\n",
       "    </tr>\n",
       "    <tr>\n",
       "      <th>7867</th>\n",
       "      <td>Sublime</td>\n",
       "      <td>Documentary</td>\n",
       "      <td>-1800000</td>\n",
       "    </tr>\n",
       "  </tbody>\n",
       "</table>\n",
       "<p>7417 rows × 3 columns</p>\n",
       "</div>"
      ],
      "text/plain": [
       "      primary_title        genre  total_profit\n",
       "0        Foodfight!       Action     -44926294\n",
       "1        Foodfight!    Animation     -44926294\n",
       "2        Foodfight!       Comedy     -44926294\n",
       "3     Mortal Kombat       Action     102133227\n",
       "4     Mortal Kombat    Adventure     102133227\n",
       "...             ...          ...           ...\n",
       "7863        Traitor       Action       5882226\n",
       "7864        Traitor        Drama       5882226\n",
       "7865        Traitor      Romance       5882226\n",
       "7866            Ray        Crime      84823094\n",
       "7867        Sublime  Documentary      -1800000\n",
       "\n",
       "[7417 rows x 3 columns]"
      ]
     },
     "execution_count": 55,
     "metadata": {},
     "output_type": "execute_result"
    }
   ],
   "source": [
    "# Create table where we've kept rows where the value in genre\n",
    "# matched the vals_to_keep\n",
    "combined = combined.loc[combined['genre'].isin(vals_to_keep)]\n",
    "combined"
   ]
  },
  {
   "cell_type": "markdown",
   "metadata": {},
   "source": [
    "## Charting\n",
    "### Dealing with outliers using showfliers=False"
   ]
  },
  {
   "cell_type": "code",
   "execution_count": 56,
   "metadata": {},
   "outputs": [
    {
     "data": {
      "text/plain": [
       "''"
      ]
     },
     "execution_count": 56,
     "metadata": {},
     "output_type": "execute_result"
    },
    {
     "data": {
      "image/png": "[encoded data removed]",
      "text/plain": [
       "<Figure size 1008x864 with 1 Axes>"
      ]
     },
     "metadata": {
      "needs_background": "light"
     },
     "output_type": "display_data"
    }
   ],
   "source": [
    "from matplotlib.ticker import FuncFormatter\n",
    "\n",
    "fig, ax = plt.subplots(figsize = (14,12))\n",
    "sns.boxplot(ax=ax, x=combined['genre'],\n",
    "            y=combined['total_profit'],\n",
    "            showfliers=False)\n",
    "\n",
    "plt.style.use('seaborn-muted')\n",
    "\n",
    "# scale y axis to millions\n",
    "scale_y = 1e6\n",
    "ticks_y = FuncFormatter(lambda x, pos: '{0:g}'.format(x/scale_y))\n",
    "ax.yaxis.set_major_formatter(ticks_y)\n",
    "ax.set_ylim(-250000000, 1000000000)\n",
    "\n",
    "# add title/labels/ticks/grid\n",
    "ax.set_title('Profit Distribution by Genre (USD)', size=24)\n",
    "plt.xlabel(\"Genre\", size = 20)\n",
    "plt.ylabel(\"Total Profit (in millions)\", size=20)\n",
    "plt.yticks(fontsize=14)\n",
    "plt.xticks(rotation=45, fontsize=14)\n",
    "plt.grid(color='gray', linestyle='-', linewidth=2, alpha=0.2)\n",
    "\n",
    "# create red area in negative y\n",
    "plt.axhline(y=[-1000000], alpha=0.3, color='red', fillstyle='bottom')\n",
    "plt.axhspan(-2500000000, 0, alpha=0.15, color='red')\n",
    "\n",
    "# saves fig\n",
    "#plt.savefig('../resources/charts/prof_genre_box.png', dpi=fig.dpi)\n",
    ";"
   ]
  },
  {
   "cell_type": "markdown",
   "metadata": {},
   "source": [
    "### Narrow down genres"
   ]
  },
  {
   "cell_type": "code",
   "execution_count": 57,
   "metadata": {},
   "outputs": [
    {
     "data": {
      "text/html": [
       "<div>\n",
       "<style scoped>\n",
       "    .dataframe tbody tr th:only-of-type {\n",
       "        vertical-align: middle;\n",
       "    }\n",
       "\n",
       "    .dataframe tbody tr th {\n",
       "        vertical-align: top;\n",
       "    }\n",
       "\n",
       "    .dataframe thead th {\n",
       "        text-align: right;\n",
       "    }\n",
       "</style>\n",
       "<table border=\"1\" class=\"dataframe\">\n",
       "  <thead>\n",
       "    <tr style=\"text-align: right;\">\n",
       "      <th></th>\n",
       "      <th>total_profit</th>\n",
       "    </tr>\n",
       "    <tr>\n",
       "      <th>genre</th>\n",
       "      <th></th>\n",
       "    </tr>\n",
       "  </thead>\n",
       "  <tbody>\n",
       "    <tr>\n",
       "      <th>Animation</th>\n",
       "      <td>124790560.0</td>\n",
       "    </tr>\n",
       "    <tr>\n",
       "      <th>Adventure</th>\n",
       "      <td>65979147.5</td>\n",
       "    </tr>\n",
       "    <tr>\n",
       "      <th>Fantasy</th>\n",
       "      <td>38189217.5</td>\n",
       "    </tr>\n",
       "    <tr>\n",
       "      <th>Action</th>\n",
       "      <td>27548508.5</td>\n",
       "    </tr>\n",
       "    <tr>\n",
       "      <th>Family</th>\n",
       "      <td>22741345.0</td>\n",
       "    </tr>\n",
       "    <tr>\n",
       "      <th>Sci-Fi</th>\n",
       "      <td>21517819.0</td>\n",
       "    </tr>\n",
       "    <tr>\n",
       "      <th>Comedy</th>\n",
       "      <td>15223306.5</td>\n",
       "    </tr>\n",
       "    <tr>\n",
       "      <th>Mystery</th>\n",
       "      <td>12417298.0</td>\n",
       "    </tr>\n",
       "  </tbody>\n",
       "</table>\n",
       "</div>"
      ],
      "text/plain": [
       "           total_profit\n",
       "genre                  \n",
       "Animation   124790560.0\n",
       "Adventure    65979147.5\n",
       "Fantasy      38189217.5\n",
       "Action       27548508.5\n",
       "Family       22741345.0\n",
       "Sci-Fi       21517819.0\n",
       "Comedy       15223306.5\n",
       "Mystery      12417298.0"
      ]
     },
     "execution_count": 57,
     "metadata": {},
     "output_type": "execute_result"
    }
   ],
   "source": [
    "# look at what genres have the top median profits\n",
    "med_combined = combined.groupby('genre', sort='total_profit').median()\n",
    "med_combined = med_combined.sort_values(by='total_profit', ascending=False)\n",
    "med_combined_8 = med_combined.head(8)\n",
    "med_combined_8"
   ]
  },
  {
   "cell_type": "code",
   "execution_count": 58,
   "metadata": {},
   "outputs": [
    {
     "data": {
      "text/plain": [
       "['Animation',\n",
       " 'Adventure',\n",
       " 'Fantasy',\n",
       " 'Action',\n",
       " 'Family',\n",
       " 'Sci-Fi',\n",
       " 'Comedy',\n",
       " 'Mystery']"
      ]
     },
     "execution_count": 58,
     "metadata": {},
     "output_type": "execute_result"
    }
   ],
   "source": [
    "# Preparing to keep only the top 8 median genres\n",
    "vals_to_keep = []\n",
    "for x in med_combined_8.iterrows():\n",
    "    vals_to_keep.append(x[0])\n",
    "        \n",
    "vals_to_keep"
   ]
  },
  {
   "cell_type": "code",
   "execution_count": 59,
   "metadata": {},
   "outputs": [
    {
     "data": {
      "text/html": [
       "<div>\n",
       "<style scoped>\n",
       "    .dataframe tbody tr th:only-of-type {\n",
       "        vertical-align: middle;\n",
       "    }\n",
       "\n",
       "    .dataframe tbody tr th {\n",
       "        vertical-align: top;\n",
       "    }\n",
       "\n",
       "    .dataframe thead th {\n",
       "        text-align: right;\n",
       "    }\n",
       "</style>\n",
       "<table border=\"1\" class=\"dataframe\">\n",
       "  <thead>\n",
       "    <tr style=\"text-align: right;\">\n",
       "      <th></th>\n",
       "      <th>primary_title</th>\n",
       "      <th>genre</th>\n",
       "      <th>total_profit</th>\n",
       "    </tr>\n",
       "  </thead>\n",
       "  <tbody>\n",
       "    <tr>\n",
       "      <th>0</th>\n",
       "      <td>Foodfight!</td>\n",
       "      <td>Action</td>\n",
       "      <td>-44926294</td>\n",
       "    </tr>\n",
       "    <tr>\n",
       "      <th>1</th>\n",
       "      <td>Foodfight!</td>\n",
       "      <td>Animation</td>\n",
       "      <td>-44926294</td>\n",
       "    </tr>\n",
       "    <tr>\n",
       "      <th>2</th>\n",
       "      <td>Foodfight!</td>\n",
       "      <td>Comedy</td>\n",
       "      <td>-44926294</td>\n",
       "    </tr>\n",
       "    <tr>\n",
       "      <th>3</th>\n",
       "      <td>Mortal Kombat</td>\n",
       "      <td>Action</td>\n",
       "      <td>102133227</td>\n",
       "    </tr>\n",
       "    <tr>\n",
       "      <th>4</th>\n",
       "      <td>Mortal Kombat</td>\n",
       "      <td>Adventure</td>\n",
       "      <td>102133227</td>\n",
       "    </tr>\n",
       "    <tr>\n",
       "      <th>...</th>\n",
       "      <td>...</td>\n",
       "      <td>...</td>\n",
       "      <td>...</td>\n",
       "    </tr>\n",
       "    <tr>\n",
       "      <th>7847</th>\n",
       "      <td>What Lies Beneath</td>\n",
       "      <td>Mystery</td>\n",
       "      <td>198693989</td>\n",
       "    </tr>\n",
       "    <tr>\n",
       "      <th>7851</th>\n",
       "      <td>Sugar Town</td>\n",
       "      <td>Sci-Fi</td>\n",
       "      <td>-71905</td>\n",
       "    </tr>\n",
       "    <tr>\n",
       "      <th>7852</th>\n",
       "      <td>Invincible</td>\n",
       "      <td>Action</td>\n",
       "      <td>18501127</td>\n",
       "    </tr>\n",
       "    <tr>\n",
       "      <th>7853</th>\n",
       "      <td>What Just Happened</td>\n",
       "      <td>Comedy</td>\n",
       "      <td>-24587877</td>\n",
       "    </tr>\n",
       "    <tr>\n",
       "      <th>7863</th>\n",
       "      <td>Traitor</td>\n",
       "      <td>Action</td>\n",
       "      <td>5882226</td>\n",
       "    </tr>\n",
       "  </tbody>\n",
       "</table>\n",
       "<p>3074 rows × 3 columns</p>\n",
       "</div>"
      ],
      "text/plain": [
       "           primary_title      genre  total_profit\n",
       "0             Foodfight!     Action     -44926294\n",
       "1             Foodfight!  Animation     -44926294\n",
       "2             Foodfight!     Comedy     -44926294\n",
       "3          Mortal Kombat     Action     102133227\n",
       "4          Mortal Kombat  Adventure     102133227\n",
       "...                  ...        ...           ...\n",
       "7847   What Lies Beneath    Mystery     198693989\n",
       "7851          Sugar Town     Sci-Fi        -71905\n",
       "7852          Invincible     Action      18501127\n",
       "7853  What Just Happened     Comedy     -24587877\n",
       "7863             Traitor     Action       5882226\n",
       "\n",
       "[3074 rows x 3 columns]"
      ]
     },
     "execution_count": 59,
     "metadata": {},
     "output_type": "execute_result"
    }
   ],
   "source": [
    "# Create table where we've kept rows where the value in genre\n",
    "# matched the vals_to_keep\n",
    "top_8_combined = combined.loc[combined['genre'].isin(vals_to_keep)]\n",
    "top_8_combined"
   ]
  },
  {
   "cell_type": "markdown",
   "metadata": {},
   "source": [
    "## Charting the 8 genres with the highest median profit"
   ]
  },
  {
   "cell_type": "code",
   "execution_count": 60,
   "metadata": {},
   "outputs": [
    {
     "data": {
      "text/plain": [
       "''"
      ]
     },
     "execution_count": 60,
     "metadata": {},
     "output_type": "execute_result"
    },
    {
     "data": {
      "image/png": "[encoded data removed]",
      "text/plain": [
       "<Figure size 1008x864 with 1 Axes>"
      ]
     },
     "metadata": {
      "needs_background": "light"
     },
     "output_type": "display_data"
    }
   ],
   "source": [
    "fig, ax = plt.subplots(figsize = (14,12))\n",
    "sns.boxplot(ax=ax, x=top_8_combined['genre'],\n",
    "            y=top_8_combined['total_profit'],\n",
    "            showfliers=False)\n",
    "\n",
    "plt.style.use('seaborn-muted')\n",
    "\n",
    "# scale y axis to millions\n",
    "scale_y = 1e6\n",
    "ticks_y = FuncFormatter(lambda x, pos: '{0:g}'.format(x/scale_y))\n",
    "ax.yaxis.set_major_formatter(ticks_y)\n",
    "ax.set_ylim(-250000000, 1000000000)\n",
    "\n",
    "# title/labels/ticks\n",
    "ax.set_title('Profit Distribution by Genre (USD)', size=24)\n",
    "plt.xlabel(\"Genre\", size = 20)\n",
    "plt.ylabel(\"Total Profit (in millions)\", size=20)\n",
    "plt.xticks(rotation=0, fontsize=14)\n",
    "plt.yticks(fontsize=14)\n",
    "plt.grid(color='gray', linestyle='-', linewidth=2, alpha=0.2)\n",
    "\n",
    "# adding negative y color\n",
    "plt.axhline(y=[-1000000], alpha=0.3, color='red', fillstyle='bottom')\n",
    "plt.axhspan(-250000000, 0, alpha=0.15, color='red')\n",
    "\n",
    "# save fig\n",
    "#plt.savefig('../resources/charts/top8_prof_genre_box.png', bbox_inches='tight')\n",
    ";"
   ]
  },
  {
   "cell_type": "markdown",
   "metadata": {},
   "source": [
    "## Charting the top 8 WITH outliers"
   ]
  },
  {
   "cell_type": "code",
   "execution_count": 61,
   "metadata": {},
   "outputs": [
    {
     "data": {
      "text/plain": [
       "''"
      ]
     },
     "execution_count": 61,
     "metadata": {},
     "output_type": "execute_result"
    },
    {
     "data": {
      "image/png": "[encoded data removed]",
      "text/plain": [
       "<Figure size 1008x864 with 1 Axes>"
      ]
     },
     "metadata": {
      "needs_background": "light"
     },
     "output_type": "display_data"
    }
   ],
   "source": [
    "fig, ax = plt.subplots(figsize = (14,12))\n",
    "sns.boxplot(ax=ax, x=top_8_combined['genre'],\n",
    "            y=top_8_combined['total_profit'],\n",
    "            showfliers=True)\n",
    "\n",
    "plt.style.use('seaborn-muted')\n",
    "\n",
    "# scale y axis to millions\n",
    "scale_y = 1e6\n",
    "ticks_y = FuncFormatter(lambda x, pos: '{0:g}'.format(x/scale_y))\n",
    "ax.yaxis.set_major_formatter(ticks_y)\n",
    "ax.set_ylim(-250000000, 2250000000)\n",
    "\n",
    "# title/labels/ticks\n",
    "ax.set_title('Profit Distribution by Genre (USD)', size=24)\n",
    "plt.xlabel(\"Genre\", size = 20)\n",
    "plt.ylabel(\"Total Profit (in millions)\", size=20)\n",
    "plt.xticks(rotation=0, fontsize=14)\n",
    "plt.yticks(fontsize=14)\n",
    "plt.grid(color='gray', linestyle='-', linewidth=2, alpha=0.2)\n",
    "\n",
    "# adding negative y color\n",
    "plt.axhline(y=[-1000000], alpha=0.3, color='red', fillstyle='bottom')\n",
    "plt.axhspan(-2500000000, 0, alpha=0.15, color='red')\n",
    "\n",
    "# saves fig\n",
    "#plt.savefig('../resources/charts/top8_outlier_prof_genre_box.png', dpi=fig.dpi)\n",
    ";"
   ]
  },
  {
   "cell_type": "markdown",
   "metadata": {},
   "source": [
    "Creating a small table with top 8 performing genres that displays their median income"
   ]
  },
  {
   "cell_type": "code",
   "execution_count": 62,
   "metadata": {},
   "outputs": [
    {
     "data": {
      "text/html": [
       "<div>\n",
       "<style scoped>\n",
       "    .dataframe tbody tr th:only-of-type {\n",
       "        vertical-align: middle;\n",
       "    }\n",
       "\n",
       "    .dataframe tbody tr th {\n",
       "        vertical-align: top;\n",
       "    }\n",
       "\n",
       "    .dataframe thead th {\n",
       "        text-align: right;\n",
       "    }\n",
       "</style>\n",
       "<table border=\"1\" class=\"dataframe\">\n",
       "  <thead>\n",
       "    <tr style=\"text-align: right;\">\n",
       "      <th></th>\n",
       "      <th>median_profit</th>\n",
       "    </tr>\n",
       "    <tr>\n",
       "      <th>genre</th>\n",
       "      <th></th>\n",
       "    </tr>\n",
       "  </thead>\n",
       "  <tbody>\n",
       "    <tr>\n",
       "      <th>Animation</th>\n",
       "      <td>124790560.0</td>\n",
       "    </tr>\n",
       "    <tr>\n",
       "      <th>Adventure</th>\n",
       "      <td>65979147.5</td>\n",
       "    </tr>\n",
       "    <tr>\n",
       "      <th>Fantasy</th>\n",
       "      <td>38189217.5</td>\n",
       "    </tr>\n",
       "    <tr>\n",
       "      <th>Action</th>\n",
       "      <td>27548508.5</td>\n",
       "    </tr>\n",
       "    <tr>\n",
       "      <th>Family</th>\n",
       "      <td>22741345.0</td>\n",
       "    </tr>\n",
       "    <tr>\n",
       "      <th>Sci-Fi</th>\n",
       "      <td>21517819.0</td>\n",
       "    </tr>\n",
       "    <tr>\n",
       "      <th>Comedy</th>\n",
       "      <td>15223306.5</td>\n",
       "    </tr>\n",
       "    <tr>\n",
       "      <th>Mystery</th>\n",
       "      <td>12417298.0</td>\n",
       "    </tr>\n",
       "  </tbody>\n",
       "</table>\n",
       "</div>"
      ],
      "text/plain": [
       "           median_profit\n",
       "genre                   \n",
       "Animation    124790560.0\n",
       "Adventure     65979147.5\n",
       "Fantasy       38189217.5\n",
       "Action        27548508.5\n",
       "Family        22741345.0\n",
       "Sci-Fi        21517819.0\n",
       "Comedy        15223306.5\n",
       "Mystery       12417298.0"
      ]
     },
     "execution_count": 62,
     "metadata": {},
     "output_type": "execute_result"
    }
   ],
   "source": [
    "# rename total profit column to median profit\n",
    "med_combined_8 = med_combined_8.rename({'total_profit': 'median_profit'},\n",
    "                                       axis=1)\n",
    "med_combined_8"
   ]
  },
  {
   "cell_type": "markdown",
   "metadata": {},
   "source": [
    "#### Conclusion / Suggestion\n",
    "Based off of the boxplots, two genres stand out based on their median profit: Animation and Adventure. These genres also appear to have the highest variance as they are stretched (or tall, if you will). \n",
    "\n",
    "It also appears there is a positive skew, as the distance from the median to the upper quartile is much greater than the distance to the lower quartile. This positive skew means that most movies, within their respective genre, had a positive net income, but some generate extraordinarily higher amounts. It is not to say that genre is an indicator of profit, but just an observation of the current data set.\n",
    "\n",
    "These findings are merely a surface level analysis, and therefore not conclusive. Going forward, we will utilize statistical methods to dig deeper into our observations.\n",
    "\n",
    "#### Side Note\n",
    "Aside from statistical analysis, a next step could be creating a profit to budget ratio. Lower budget films with a consistently higher profit to budget ratio could be an worthwhile investment as a lower-cost entry point as new studio."
   ]
  },
  {
   "cell_type": "markdown",
   "metadata": {},
   "source": [
    "## Genre's Association with Profit (Chi Square Analysis)\n",
    "\n",
    "## The Business Question\n",
    "Does the genre of a movie have any significant association with the movie's profitability?\n",
    "\n",
    "## The Datasets\n",
    "- Movie budgets dataset from the-numbers.com including movie titles, production budget, and worldwide gross revenue with 5,782 rows.\n",
    "- TheMovieDB dataset including movie titles and genres with 26,517 rows.\n",
    "\n",
    "## The Methods\n",
    "\n",
    "### Import and Clean Data\n",
    "\n",
    "We began with importing all relevant libraries for analysis and visualization. "
   ]
  },
  {
   "cell_type": "code",
   "execution_count": 84,
   "metadata": {},
   "outputs": [],
   "source": [
    "import pandas as pd\n",
    "import numpy as np\n",
    "from scipy import stats\n",
    "import seaborn as sns\n",
    "from matplotlib import pyplot as plt\n",
    "%matplotlib inline\n",
    "from matplotlib.ticker import StrMethodFormatter, NullFormatter\n",
    "\n",
    "import warnings\n",
    "warnings.filterwarnings(action = 'ignore', category = FutureWarning)"
   ]
  },
  {
   "cell_type": "markdown",
   "metadata": {},
   "source": [
    "The relevant datasets for our analysis were the tn.movie_budgets.csv and tmdb.movies.csv files. "
   ]
  },
  {
   "cell_type": "code",
   "execution_count": 85,
   "metadata": {},
   "outputs": [],
   "source": [
    "budgets = pd.read_csv(\"../data/tn.movie_budgets.csv\")\n",
    "tmdb = pd.read_csv(\"../data/tmdb.movies.csv\", index_col = 0)"
   ]
  },
  {
   "cell_type": "markdown",
   "metadata": {},
   "source": [
    "Before running our analysis, we needed to review the contents of the datasets, isolate relevant columns, and clean data as necessary.\n",
    "\n",
    "First, we looked at the first few rows of the movie budgets dataframe in order to get an idea of the columns, potential datatypes, and areas which may require pre-processing and cleaning. "
   ]
  },
  {
   "cell_type": "code",
   "execution_count": 86,
   "metadata": {},
   "outputs": [
    {
     "data": {
      "text/html": [
       "<div>\n",
       "<style scoped>\n",
       "    .dataframe tbody tr th:only-of-type {\n",
       "        vertical-align: middle;\n",
       "    }\n",
       "\n",
       "    .dataframe tbody tr th {\n",
       "        vertical-align: top;\n",
       "    }\n",
       "\n",
       "    .dataframe thead th {\n",
       "        text-align: right;\n",
       "    }\n",
       "</style>\n",
       "<table border=\"1\" class=\"dataframe\">\n",
       "  <thead>\n",
       "    <tr style=\"text-align: right;\">\n",
       "      <th></th>\n",
       "      <th>id</th>\n",
       "      <th>release_date</th>\n",
       "      <th>movie</th>\n",
       "      <th>production_budget</th>\n",
       "      <th>domestic_gross</th>\n",
       "      <th>worldwide_gross</th>\n",
       "    </tr>\n",
       "  </thead>\n",
       "  <tbody>\n",
       "    <tr>\n",
       "      <th>0</th>\n",
       "      <td>1</td>\n",
       "      <td>Dec 18, 2009</td>\n",
       "      <td>Avatar</td>\n",
       "      <td>$425,000,000</td>\n",
       "      <td>$760,507,625</td>\n",
       "      <td>$2,776,345,279</td>\n",
       "    </tr>\n",
       "    <tr>\n",
       "      <th>1</th>\n",
       "      <td>2</td>\n",
       "      <td>May 20, 2011</td>\n",
       "      <td>Pirates of the Caribbean: On Stranger Tides</td>\n",
       "      <td>$410,600,000</td>\n",
       "      <td>$241,063,875</td>\n",
       "      <td>$1,045,663,875</td>\n",
       "    </tr>\n",
       "    <tr>\n",
       "      <th>2</th>\n",
       "      <td>3</td>\n",
       "      <td>Jun 7, 2019</td>\n",
       "      <td>Dark Phoenix</td>\n",
       "      <td>$350,000,000</td>\n",
       "      <td>$42,762,350</td>\n",
       "      <td>$149,762,350</td>\n",
       "    </tr>\n",
       "    <tr>\n",
       "      <th>3</th>\n",
       "      <td>4</td>\n",
       "      <td>May 1, 2015</td>\n",
       "      <td>Avengers: Age of Ultron</td>\n",
       "      <td>$330,600,000</td>\n",
       "      <td>$459,005,868</td>\n",
       "      <td>$1,403,013,963</td>\n",
       "    </tr>\n",
       "    <tr>\n",
       "      <th>4</th>\n",
       "      <td>5</td>\n",
       "      <td>Dec 15, 2017</td>\n",
       "      <td>Star Wars Ep. VIII: The Last Jedi</td>\n",
       "      <td>$317,000,000</td>\n",
       "      <td>$620,181,382</td>\n",
       "      <td>$1,316,721,747</td>\n",
       "    </tr>\n",
       "  </tbody>\n",
       "</table>\n",
       "</div>"
      ],
      "text/plain": [
       "   id  release_date                                        movie  \\\n",
       "0   1  Dec 18, 2009                                       Avatar   \n",
       "1   2  May 20, 2011  Pirates of the Caribbean: On Stranger Tides   \n",
       "2   3   Jun 7, 2019                                 Dark Phoenix   \n",
       "3   4   May 1, 2015                      Avengers: Age of Ultron   \n",
       "4   5  Dec 15, 2017            Star Wars Ep. VIII: The Last Jedi   \n",
       "\n",
       "  production_budget domestic_gross worldwide_gross  \n",
       "0      $425,000,000   $760,507,625  $2,776,345,279  \n",
       "1      $410,600,000   $241,063,875  $1,045,663,875  \n",
       "2      $350,000,000    $42,762,350    $149,762,350  \n",
       "3      $330,600,000   $459,005,868  $1,403,013,963  \n",
       "4      $317,000,000   $620,181,382  $1,316,721,747  "
      ]
     },
     "execution_count": 86,
     "metadata": {},
     "output_type": "execute_result"
    }
   ],
   "source": [
    "budgets.head()"
   ]
  },
  {
   "cell_type": "markdown",
   "metadata": {},
   "source": [
    "From this dataframe, we decided that we needed to retain the following columns:\n",
    "- Movie (for joining with other dataframes)\n",
    "- Production Budget and Worldwide Gross (for calculating profit)\n",
    "\n",
    "Thus, we formed a subset of the dataset including only the relevant columns."
   ]
  },
  {
   "cell_type": "code",
   "execution_count": 87,
   "metadata": {},
   "outputs": [],
   "source": [
    "cols_to_keep = ['movie','production_budget','worldwide_gross']\n",
    "budgets_relevant = budgets[cols_to_keep]"
   ]
  },
  {
   "cell_type": "markdown",
   "metadata": {},
   "source": [
    "We also noted that the production budget and worldwide gross columns were populated with strings (as evident by the symbolic characters used alongside the numeric characters, such as \"$\"). These values needed to be cleaned and cast as integers before they could be used to calculate profit. \n",
    "\n",
    "However, before doing any further cleaning we looked for null values and duplicates so that we could avoid making any unnecessary calculations. There were no obvious nulls in the dataframe. However, looking at the values stored within the worldwide_gross column brought to light some null-esque values. Namely, movies with a worldwide gross revenue of $0. There were some zeroes in this column, presumably because there was no available data on its gross revenue. We originally removed these observations from the dataframe. However, we discovered later on that this resulted in a very small sample size when coupled with the unavoidable loss of other observations. So rather than removing these observations, we decided to replace them with the median once the column had been properly cleaned. We decided to use the median rather than the mean for imputation because this was a highly skewed dataset with outliers that would significantly impact the mean, but that the median would be more resilient against. \n",
    "\n",
    "From here, we moved on to locating duplicate values. There were no obvious duplicate rows. However, we realized that multiple movies could have the same title. This would pose an issue when we needed to join dataframes using movie titles as the mutual column. "
   ]
  },
  {
   "cell_type": "code",
   "execution_count": 88,
   "metadata": {},
   "outputs": [
    {
     "name": "stdout",
     "output_type": "stream",
     "text": [
      "Number of repeated titles: 81\n"
     ]
    }
   ],
   "source": [
    "def get_title_counts(data, col):\n",
    "    \n",
    "    '''\n",
    "    Inputs: Dataframe and movie title column\n",
    "    Outputs: Dataframe of movie titles which appear in the dataset more than once\n",
    "    \n",
    "    '''\n",
    "    \n",
    "    # set the value counts as a dataframe\n",
    "    title_counts = pd.DataFrame(data[col].value_counts())\n",
    "    \n",
    "    # reset index so that we can easily access the titles\n",
    "    title_counts = title_counts.reset_index()\n",
    "    \n",
    "    # take a subset of the title counts dataframe for all titles that appear more than once\n",
    "    title_counts = title_counts.loc[ title_counts[col] > 1 ]\n",
    "                                    \n",
    "    # return this dataframe of title duplicates                                \n",
    "    return title_counts\n",
    "\n",
    "title_counts = get_title_counts(budgets_relevant, 'movie')\n",
    "print(f\"Number of repeated titles: {len(title_counts)}\")"
   ]
  },
  {
   "cell_type": "markdown",
   "metadata": {},
   "source": [
    "There were 81 movies with repeated titles in the dataframe. 81 rows out of a 5,000+ row dataset didn't seem substantial enough to justify an attempted mutli-column merge. So, we decided to simply drop the duplicates."
   ]
  },
  {
   "cell_type": "code",
   "execution_count": 89,
   "metadata": {},
   "outputs": [
    {
     "name": "stderr",
     "output_type": "stream",
     "text": [
      "<ipython-input-89-aca4b65cdd55>:16: SettingWithCopyWarning: \n",
      "A value is trying to be set on a copy of a slice from a DataFrame.\n",
      "Try using .loc[row_indexer,col_indexer] = value instead\n",
      "\n",
      "See the caveats in the documentation: https://pandas.pydata.org/pandas-docs/stable/user_guide/indexing.html#returning-a-view-versus-a-copy\n",
      "  data['duplicate'] = data[col].map(lambda x: 1 if any([movie in x for movie in list(title_counts['index'])]) else 0)\n"
     ]
    }
   ],
   "source": [
    "import warnings\n",
    "warnings.filterwarnings(action = 'ignore', category = FutureWarning)\n",
    "\n",
    "def remove_duplicate_titles(data, col):\n",
    "    \n",
    "    '''\n",
    "    Inputs: Dataframe and movie title column\n",
    "    Outputs: The same dataframe without movies that appear more than once. \n",
    "    \n",
    "    '''\n",
    "    \n",
    "    # get the dataframe for titles which appear more than once\n",
    "    title_counts = get_title_counts(data,col)\n",
    "    \n",
    "    # create a dichotomous column for which there is a 1 if the movie is a duplicate title\n",
    "    data['duplicate'] = data[col].map(lambda x: 1 if any([movie in x for movie in list(title_counts['index'])]) else 0)\n",
    "    \n",
    "    # take a subset of the dataframe of only non-duplicate titles\n",
    "    data = data.loc[ data['duplicate'] == 0]\n",
    "    \n",
    "    # initialize a list of columns to maintain\n",
    "    keepers = []\n",
    "    \n",
    "    # for each column in the dataframe\n",
    "    for col in data.columns:\n",
    "        # if it isn't the duplicate column\n",
    "        if col != \"duplicate\":\n",
    "            # add it to the list of columns to be maintained\n",
    "            keepers.append(col)\n",
    "    \n",
    "    # keep only the columns intended\n",
    "    data = data[keepers]\n",
    "        \n",
    "    return data\n",
    "\n",
    "budgets_relevant = remove_duplicate_titles(budgets_relevant, 'movie')"
   ]
  },
  {
   "cell_type": "markdown",
   "metadata": {},
   "source": [
    "After checking for nulls and duplicates, we cleaned the budget and gross revenue columns so that we could eventually use them to calculate profit. "
   ]
  },
  {
   "cell_type": "code",
   "execution_count": 90,
   "metadata": {},
   "outputs": [],
   "source": [
    "def dollar_to_numeric(column):\n",
    "    \n",
    "    '''\n",
    "    Inputs: Column containing USD strings\n",
    "    Outputs: The contents of the column as integers\n",
    "    \n",
    "    '''\n",
    "    # removing $ and , from string\n",
    "    column = column.str.replace(\",\",\"\")\n",
    "    column = column.str.replace(\"$\",\"\")\n",
    "\n",
    "    # casting the values as integers\n",
    "    column = pd.to_numeric(column)\n",
    "    \n",
    "    return column\n",
    "\n",
    "budgets_relevant['worldwide_gross'] = dollar_to_numeric(budgets_relevant['worldwide_gross'])\n",
    "budgets_relevant['production_budget'] = dollar_to_numeric(budgets_relevant['production_budget'])\n"
   ]
  },
  {
   "cell_type": "markdown",
   "metadata": {},
   "source": [
    "After successfully casting the data as integers, we replaced all zeroes in the worldwide_gross column with the median worldwide gross revenue. "
   ]
  },
  {
   "cell_type": "code",
   "execution_count": 91,
   "metadata": {},
   "outputs": [],
   "source": [
    "median_gross = budgets_relevant['worldwide_gross'].median()\n",
    "budgets_relevant['worldwide_gross'] = budgets_relevant['worldwide_gross'].replace(0,median_gross)"
   ]
  },
  {
   "cell_type": "markdown",
   "metadata": {},
   "source": [
    "Now that we had two clean revenue and cost columns to work with, we used this information to create a new column in the dataframe for the calculated profit. "
   ]
  },
  {
   "cell_type": "code",
   "execution_count": 92,
   "metadata": {},
   "outputs": [],
   "source": [
    "# calculating total profit\n",
    "budgets_relevant['total_profit'] =  budgets_relevant['worldwide_gross'] - budgets_relevant['production_budget']\n",
    "\n",
    "budgets_relevant = budgets_relevant[['movie','total_profit']]"
   ]
  },
  {
   "cell_type": "markdown",
   "metadata": {},
   "source": [
    "Next, we decided to visualize the distribution of profit since this is our dependent variable."
   ]
  },
  {
   "cell_type": "code",
   "execution_count": 93,
   "metadata": {},
   "outputs": [
    {
     "data": {
      "image/png": "[encoded data removed]",
      "text/plain": [
       "<Figure size 432x288 with 1 Axes>"
      ]
     },
     "metadata": {
      "needs_background": "light"
     },
     "output_type": "display_data"
    }
   ],
   "source": [
    "fig, ax = plt.subplots()\n",
    "ax.boxplot(budgets_relevant['total_profit'])\n",
    "ax.set_title(\"Distribution of Profit\")\n",
    "ax.set_ylabel(\"Profit in Billion USD\")\n",
    "plt.xticks([])\n",
    "ax.yaxis.get_offset_text().set_visible(False);"
   ]
  },
  {
   "cell_type": "markdown",
   "metadata": {},
   "source": [
    "It was evident that there were some extremely profitable (and extremely unprofitable) movies that may influence the results of our analysis. Because of the presense of extremes, we decided to remove any movies with profits outside of the interquartile range."
   ]
  },
  {
   "cell_type": "code",
   "execution_count": 94,
   "metadata": {},
   "outputs": [
    {
     "data": {
      "image/png": "[encoded data removed]",
      "text/plain": [
       "<Figure size 432x288 with 1 Axes>"
      ]
     },
     "metadata": {
      "needs_background": "light"
     },
     "output_type": "display_data"
    }
   ],
   "source": [
    "# find Q1, Q3, and interquartile range for each column\n",
    "Q1 = budgets_relevant['total_profit'].quantile(q=.25)\n",
    "Q3 = budgets_relevant['total_profit'].quantile(q=.75)\n",
    "IQR = budgets_relevant['total_profit'].apply(stats.iqr)\n",
    "\n",
    "budgets_relevant = budgets_relevant.loc[~((budgets_relevant['total_profit'] < (Q1-1.5*IQR)) | (budgets_relevant['total_profit'] > (Q3+1.5*IQR)))]\n",
    "\n",
    "fig, ax = plt.subplots()\n",
    "ax.boxplot(budgets_relevant['total_profit'])\n",
    "ax.set_title(\"Distribution of Profit Without Outliers\")\n",
    "ax.set_ylabel(\"Profit in Ten Million USD\")\n",
    "plt.xticks([])\n",
    "ax.yaxis.get_offset_text().set_visible(False);"
   ]
  },
  {
   "cell_type": "markdown",
   "metadata": {},
   "source": [
    "Knowing that we would eventually have to merge this dataframe with the TMDB dataframe, we also set the index to the column on which we wanted to merge (the movie title). "
   ]
  },
  {
   "cell_type": "code",
   "execution_count": 95,
   "metadata": {},
   "outputs": [],
   "source": [
    "budgets_relevant.set_index('movie', inplace = True)"
   ]
  },
  {
   "cell_type": "markdown",
   "metadata": {},
   "source": [
    "With this dataframe cleaned, we moved on to the TMDB dataframe.\n",
    "\n",
    "Just like the first dataframe, we began by looking at the first few rows to get an idea of the columns, datatypes, and areas which may require preprocessing/cleaning. "
   ]
  },
  {
   "cell_type": "code",
   "execution_count": 96,
   "metadata": {},
   "outputs": [
    {
     "data": {
      "text/html": [
       "<div>\n",
       "<style scoped>\n",
       "    .dataframe tbody tr th:only-of-type {\n",
       "        vertical-align: middle;\n",
       "    }\n",
       "\n",
       "    .dataframe tbody tr th {\n",
       "        vertical-align: top;\n",
       "    }\n",
       "\n",
       "    .dataframe thead th {\n",
       "        text-align: right;\n",
       "    }\n",
       "</style>\n",
       "<table border=\"1\" class=\"dataframe\">\n",
       "  <thead>\n",
       "    <tr style=\"text-align: right;\">\n",
       "      <th></th>\n",
       "      <th>genre_ids</th>\n",
       "      <th>id</th>\n",
       "      <th>original_language</th>\n",
       "      <th>original_title</th>\n",
       "      <th>popularity</th>\n",
       "      <th>release_date</th>\n",
       "      <th>title</th>\n",
       "      <th>vote_average</th>\n",
       "      <th>vote_count</th>\n",
       "    </tr>\n",
       "  </thead>\n",
       "  <tbody>\n",
       "    <tr>\n",
       "      <th>0</th>\n",
       "      <td>[12, 14, 10751]</td>\n",
       "      <td>12444</td>\n",
       "      <td>en</td>\n",
       "      <td>Harry Potter and the Deathly Hallows: Part 1</td>\n",
       "      <td>33.533</td>\n",
       "      <td>2010-11-19</td>\n",
       "      <td>Harry Potter and the Deathly Hallows: Part 1</td>\n",
       "      <td>7.7</td>\n",
       "      <td>10788</td>\n",
       "    </tr>\n",
       "    <tr>\n",
       "      <th>1</th>\n",
       "      <td>[14, 12, 16, 10751]</td>\n",
       "      <td>10191</td>\n",
       "      <td>en</td>\n",
       "      <td>How to Train Your Dragon</td>\n",
       "      <td>28.734</td>\n",
       "      <td>2010-03-26</td>\n",
       "      <td>How to Train Your Dragon</td>\n",
       "      <td>7.7</td>\n",
       "      <td>7610</td>\n",
       "    </tr>\n",
       "    <tr>\n",
       "      <th>2</th>\n",
       "      <td>[12, 28, 878]</td>\n",
       "      <td>10138</td>\n",
       "      <td>en</td>\n",
       "      <td>Iron Man 2</td>\n",
       "      <td>28.515</td>\n",
       "      <td>2010-05-07</td>\n",
       "      <td>Iron Man 2</td>\n",
       "      <td>6.8</td>\n",
       "      <td>12368</td>\n",
       "    </tr>\n",
       "    <tr>\n",
       "      <th>3</th>\n",
       "      <td>[16, 35, 10751]</td>\n",
       "      <td>862</td>\n",
       "      <td>en</td>\n",
       "      <td>Toy Story</td>\n",
       "      <td>28.005</td>\n",
       "      <td>1995-11-22</td>\n",
       "      <td>Toy Story</td>\n",
       "      <td>7.9</td>\n",
       "      <td>10174</td>\n",
       "    </tr>\n",
       "    <tr>\n",
       "      <th>4</th>\n",
       "      <td>[28, 878, 12]</td>\n",
       "      <td>27205</td>\n",
       "      <td>en</td>\n",
       "      <td>Inception</td>\n",
       "      <td>27.920</td>\n",
       "      <td>2010-07-16</td>\n",
       "      <td>Inception</td>\n",
       "      <td>8.3</td>\n",
       "      <td>22186</td>\n",
       "    </tr>\n",
       "  </tbody>\n",
       "</table>\n",
       "</div>"
      ],
      "text/plain": [
       "             genre_ids     id original_language  \\\n",
       "0      [12, 14, 10751]  12444                en   \n",
       "1  [14, 12, 16, 10751]  10191                en   \n",
       "2        [12, 28, 878]  10138                en   \n",
       "3      [16, 35, 10751]    862                en   \n",
       "4        [28, 878, 12]  27205                en   \n",
       "\n",
       "                                 original_title  popularity release_date  \\\n",
       "0  Harry Potter and the Deathly Hallows: Part 1      33.533   2010-11-19   \n",
       "1                      How to Train Your Dragon      28.734   2010-03-26   \n",
       "2                                    Iron Man 2      28.515   2010-05-07   \n",
       "3                                     Toy Story      28.005   1995-11-22   \n",
       "4                                     Inception      27.920   2010-07-16   \n",
       "\n",
       "                                          title  vote_average  vote_count  \n",
       "0  Harry Potter and the Deathly Hallows: Part 1           7.7       10788  \n",
       "1                      How to Train Your Dragon           7.7        7610  \n",
       "2                                    Iron Man 2           6.8       12368  \n",
       "3                                     Toy Story           7.9       10174  \n",
       "4                                     Inception           8.3       22186  "
      ]
     },
     "execution_count": 96,
     "metadata": {},
     "output_type": "execute_result"
    }
   ],
   "source": [
    "tmdb.head()"
   ]
  },
  {
   "cell_type": "markdown",
   "metadata": {},
   "source": [
    "From this dataframe, we noted that we only needed the following columns:\n",
    "- Title (for merging)\n",
    "- Genre_ids\n",
    "\n",
    "We started with dropping the irrelevant columns."
   ]
  },
  {
   "cell_type": "code",
   "execution_count": 97,
   "metadata": {},
   "outputs": [],
   "source": [
    "cols_to_keep = ['title','genre_ids']\n",
    "tmdb_relevant = tmdb[cols_to_keep]"
   ]
  },
  {
   "cell_type": "markdown",
   "metadata": {},
   "source": [
    "We noted that the genre_ids column appeared to contain lists of multiple ids associated with specific genres. We needed to clean this column and replace these numbers with their associated genre. However, we decided to wait to replace these values until after the dummy columns were created because it would be easier to rename a small number of columns than replace multiple numbers in every cell with its associated genre. \n",
    "\n",
    "So for now, we moved on to locating null values and duplicates. There didn't appear to be any null values in the dataset. However, there were 1,088 duplicates which we dropped. There were also duplicate titles in this dataframe which we handled the same as those in the budgets dataframe."
   ]
  },
  {
   "cell_type": "code",
   "execution_count": 98,
   "metadata": {},
   "outputs": [],
   "source": [
    "# Drop duplicates\n",
    "tmdb_relevant = tmdb_relevant.drop_duplicates()\n",
    "tmdb_relevant = remove_duplicate_titles(tmdb_relevant,'title')"
   ]
  },
  {
   "cell_type": "markdown",
   "metadata": {},
   "source": [
    "After dropping these duplicate values, we set the movie titles as in the index in preparation for merging these two dataframes. The final dataframe contained 17,714 rows. "
   ]
  },
  {
   "cell_type": "code",
   "execution_count": 99,
   "metadata": {},
   "outputs": [],
   "source": [
    "tmdb_relevant = tmdb_relevant.set_index('title')"
   ]
  },
  {
   "cell_type": "markdown",
   "metadata": {},
   "source": [
    "Now that we had cleaned the data, it was ready to be merged."
   ]
  },
  {
   "cell_type": "code",
   "execution_count": 100,
   "metadata": {},
   "outputs": [],
   "source": [
    "budgets_and_tmdb = budgets_relevant.join(tmdb_relevant, how='inner')"
   ]
  },
  {
   "cell_type": "markdown",
   "metadata": {},
   "source": [
    "After merging the dataframes, we were left with a much smaller dataframe than either of the parent datasets. This, however, was expected given there was no gaurantee that the datasets would overlap in their contents significantly nor was there a gaurantee that there would not be any spelling errors in the titles that would prevent a successful join for at least some rows. We decided to proceed with the knowledge that 656 movies retained the potential to provide some useful insights.\n",
    "\n",
    "Next, we cleaned the genre id column and isolated each genre id, using the results to create dummy columns. "
   ]
  },
  {
   "cell_type": "code",
   "execution_count": 101,
   "metadata": {},
   "outputs": [
    {
     "data": {
      "text/html": [
       "<div>\n",
       "<style scoped>\n",
       "    .dataframe tbody tr th:only-of-type {\n",
       "        vertical-align: middle;\n",
       "    }\n",
       "\n",
       "    .dataframe tbody tr th {\n",
       "        vertical-align: top;\n",
       "    }\n",
       "\n",
       "    .dataframe thead th {\n",
       "        text-align: right;\n",
       "    }\n",
       "</style>\n",
       "<table border=\"1\" class=\"dataframe\">\n",
       "  <thead>\n",
       "    <tr style=\"text-align: right;\">\n",
       "      <th></th>\n",
       "      <th>total_profit</th>\n",
       "      <th>genre_ids</th>\n",
       "      <th></th>\n",
       "      <th>Music</th>\n",
       "      <th>Romance</th>\n",
       "      <th>Family</th>\n",
       "      <th>War</th>\n",
       "      <th>TV</th>\n",
       "      <th>Adventure</th>\n",
       "      <th>Fantasy</th>\n",
       "      <th>...</th>\n",
       "      <th>Horror</th>\n",
       "      <th>Action</th>\n",
       "      <th>Comedy</th>\n",
       "      <th>History</th>\n",
       "      <th>Western</th>\n",
       "      <th>Thriller</th>\n",
       "      <th>Crime</th>\n",
       "      <th>SciFi</th>\n",
       "      <th>Mystery</th>\n",
       "      <th>Documentary</th>\n",
       "    </tr>\n",
       "  </thead>\n",
       "  <tbody>\n",
       "    <tr>\n",
       "      <th>John Carter</th>\n",
       "      <td>7778100</td>\n",
       "      <td>28,12,878</td>\n",
       "      <td>0</td>\n",
       "      <td>0</td>\n",
       "      <td>0</td>\n",
       "      <td>0</td>\n",
       "      <td>0</td>\n",
       "      <td>0</td>\n",
       "      <td>1</td>\n",
       "      <td>0</td>\n",
       "      <td>...</td>\n",
       "      <td>0</td>\n",
       "      <td>1</td>\n",
       "      <td>0</td>\n",
       "      <td>0</td>\n",
       "      <td>0</td>\n",
       "      <td>0</td>\n",
       "      <td>0</td>\n",
       "      <td>1</td>\n",
       "      <td>0</td>\n",
       "      <td>0</td>\n",
       "    </tr>\n",
       "    <tr>\n",
       "      <th>Green Lantern</th>\n",
       "      <td>19535492</td>\n",
       "      <td>12,28,53,878</td>\n",
       "      <td>0</td>\n",
       "      <td>0</td>\n",
       "      <td>0</td>\n",
       "      <td>0</td>\n",
       "      <td>0</td>\n",
       "      <td>0</td>\n",
       "      <td>1</td>\n",
       "      <td>0</td>\n",
       "      <td>...</td>\n",
       "      <td>0</td>\n",
       "      <td>1</td>\n",
       "      <td>0</td>\n",
       "      <td>0</td>\n",
       "      <td>0</td>\n",
       "      <td>1</td>\n",
       "      <td>0</td>\n",
       "      <td>1</td>\n",
       "      <td>0</td>\n",
       "      <td>0</td>\n",
       "    </tr>\n",
       "    <tr>\n",
       "      <th>Jack the Giant Slayer</th>\n",
       "      <td>2687603</td>\n",
       "      <td>28,12,10751,14</td>\n",
       "      <td>0</td>\n",
       "      <td>0</td>\n",
       "      <td>0</td>\n",
       "      <td>1</td>\n",
       "      <td>0</td>\n",
       "      <td>0</td>\n",
       "      <td>1</td>\n",
       "      <td>1</td>\n",
       "      <td>...</td>\n",
       "      <td>0</td>\n",
       "      <td>1</td>\n",
       "      <td>0</td>\n",
       "      <td>0</td>\n",
       "      <td>0</td>\n",
       "      <td>0</td>\n",
       "      <td>0</td>\n",
       "      <td>0</td>\n",
       "      <td>0</td>\n",
       "      <td>0</td>\n",
       "    </tr>\n",
       "    <tr>\n",
       "      <th>Hugo</th>\n",
       "      <td>47784</td>\n",
       "      <td>12,18,10751</td>\n",
       "      <td>0</td>\n",
       "      <td>0</td>\n",
       "      <td>0</td>\n",
       "      <td>1</td>\n",
       "      <td>0</td>\n",
       "      <td>0</td>\n",
       "      <td>1</td>\n",
       "      <td>0</td>\n",
       "      <td>...</td>\n",
       "      <td>0</td>\n",
       "      <td>0</td>\n",
       "      <td>0</td>\n",
       "      <td>0</td>\n",
       "      <td>0</td>\n",
       "      <td>0</td>\n",
       "      <td>0</td>\n",
       "      <td>0</td>\n",
       "      <td>0</td>\n",
       "      <td>0</td>\n",
       "    </tr>\n",
       "    <tr>\n",
       "      <th>Valerian and the City of a Thousand Planets</th>\n",
       "      <td>35098356</td>\n",
       "      <td>12,878,28</td>\n",
       "      <td>0</td>\n",
       "      <td>0</td>\n",
       "      <td>0</td>\n",
       "      <td>0</td>\n",
       "      <td>0</td>\n",
       "      <td>0</td>\n",
       "      <td>1</td>\n",
       "      <td>0</td>\n",
       "      <td>...</td>\n",
       "      <td>0</td>\n",
       "      <td>1</td>\n",
       "      <td>0</td>\n",
       "      <td>0</td>\n",
       "      <td>0</td>\n",
       "      <td>0</td>\n",
       "      <td>0</td>\n",
       "      <td>1</td>\n",
       "      <td>0</td>\n",
       "      <td>0</td>\n",
       "    </tr>\n",
       "  </tbody>\n",
       "</table>\n",
       "<p>5 rows × 22 columns</p>\n",
       "</div>"
      ],
      "text/plain": [
       "                                             total_profit       genre_ids     \\\n",
       "John Carter                                       7778100       28,12,878  0   \n",
       "Green Lantern                                    19535492    12,28,53,878  0   \n",
       "Jack the Giant Slayer                             2687603  28,12,10751,14  0   \n",
       "Hugo                                                47784     12,18,10751  0   \n",
       "Valerian and the City of a Thousand Planets      35098356       12,878,28  0   \n",
       "\n",
       "                                             Music  Romance  Family  War  TV  \\\n",
       "John Carter                                      0        0       0    0   0   \n",
       "Green Lantern                                    0        0       0    0   0   \n",
       "Jack the Giant Slayer                            0        0       1    0   0   \n",
       "Hugo                                             0        0       1    0   0   \n",
       "Valerian and the City of a Thousand Planets      0        0       0    0   0   \n",
       "\n",
       "                                             Adventure  Fantasy  ...  Horror  \\\n",
       "John Carter                                          1        0  ...       0   \n",
       "Green Lantern                                        1        0  ...       0   \n",
       "Jack the Giant Slayer                                1        1  ...       0   \n",
       "Hugo                                                 1        0  ...       0   \n",
       "Valerian and the City of a Thousand Planets          1        0  ...       0   \n",
       "\n",
       "                                             Action  Comedy  History  Western  \\\n",
       "John Carter                                       1       0        0        0   \n",
       "Green Lantern                                     1       0        0        0   \n",
       "Jack the Giant Slayer                             1       0        0        0   \n",
       "Hugo                                              0       0        0        0   \n",
       "Valerian and the City of a Thousand Planets       1       0        0        0   \n",
       "\n",
       "                                             Thriller  Crime  SciFi  Mystery  \\\n",
       "John Carter                                         0      0      1        0   \n",
       "Green Lantern                                       1      0      1        0   \n",
       "Jack the Giant Slayer                               0      0      0        0   \n",
       "Hugo                                                0      0      0        0   \n",
       "Valerian and the City of a Thousand Planets         0      0      1        0   \n",
       "\n",
       "                                             Documentary  \n",
       "John Carter                                            0  \n",
       "Green Lantern                                          0  \n",
       "Jack the Giant Slayer                                  0  \n",
       "Hugo                                                   0  \n",
       "Valerian and the City of a Thousand Planets            0  \n",
       "\n",
       "[5 rows x 22 columns]"
      ]
     },
     "execution_count": 101,
     "metadata": {},
     "output_type": "execute_result"
    }
   ],
   "source": [
    "def create_dummy_cols(data, col):\n",
    "    \n",
    "    '''\n",
    "    Inputs: Dataframe and column where the column contains a list of genre ids\n",
    "    Outputs: The same dataframe with dummy columns for each genre id, renamed to reflect the genre\n",
    "    '''\n",
    "    \n",
    "    # remove [, ], and whitespace\n",
    "    data[col] = data[col].str.strip(\"]\")\n",
    "    data[col] = data[col].str.strip(\"[\")\n",
    "    data[col] = data[col].str.replace(\" \", \"\")\n",
    "    \n",
    "    # split genre ids by commas\n",
    "    genre_ids = data[col].str.split(\",\")\n",
    "    \n",
    "    # create the binary dummy columns\n",
    "    bin_genre_df = pd.get_dummies(genre_ids.apply(pd.Series).stack()).sum(level=0)\n",
    "    budgets_and_genre_dummys = data.join(bin_genre_df, how='inner')\n",
    "    \n",
    "    # rename columns for genres\n",
    "    budgets_and_genre_dummys.rename(columns = {'28' : 'Action', \n",
    "                                           '12' : 'Adventure',\n",
    "                                          '16' : 'Animation',\n",
    "                                          '35' : 'Comedy',\n",
    "                                          '80' : 'Crime',\n",
    "                                          '99' : 'Documentary',\n",
    "                                          '18' : 'Drama',\n",
    "                                          '10751' : 'Family',\n",
    "                                          '14' : 'Fantasy',\n",
    "                                          '36' : 'History',\n",
    "                                          '27' : 'Horror',\n",
    "                                          '10402' : 'Music',\n",
    "                                          '9648' : 'Mystery',\n",
    "                                          '10749' : 'Romance',\n",
    "                                          '878' : 'SciFi',\n",
    "                                          '10770' : 'TV',\n",
    "                                          '53' : 'Thriller',\n",
    "                                          '10752' : 'War',\n",
    "                                          '37' : 'Western'}, inplace = True)\n",
    "    return budgets_and_genre_dummys\n",
    "\n",
    "budgets_and_genre_dummys = create_dummy_cols(budgets_and_tmdb,'genre_ids')\n",
    "budgets_and_genre_dummys.head()"
   ]
  },
  {
   "cell_type": "markdown",
   "metadata": {},
   "source": [
    "There was a dummy column seemingly associated with no genre. This appeared to be the result of 11 titles which did not have any associated genre ids. So, we dropped them from analysis."
   ]
  },
  {
   "cell_type": "code",
   "execution_count": 102,
   "metadata": {},
   "outputs": [],
   "source": [
    "budgets_and_genre_dummys = budgets_and_genre_dummys.loc[ (budgets_and_genre_dummys[''] != 1) ] "
   ]
  },
  {
   "cell_type": "markdown",
   "metadata": {},
   "source": [
    "### Chi-Square Analysis\n",
    "\n",
    "We decided to turn profit into a categorical variable denoting high vs. medium vs. low profit so that we could perform our chi-square analysis (which required that both variables of interest be categorical). The threshold values for these categories were decided as:\n",
    "\n",
    "- High profit = Profit at the 75th percentile and greater\n",
    "- Medium = Profit greater than 25th percentile and lower than 75th percentile.\n",
    "- Low = Profit at the 25th percentile and lower"
   ]
  },
  {
   "cell_type": "code",
   "execution_count": 103,
   "metadata": {},
   "outputs": [],
   "source": [
    "# define thresholds\n",
    "iqr_Q1 = budgets_and_genre_dummys['total_profit'].quantile(q=.25)\n",
    "iqr_Q3 = budgets_and_genre_dummys['total_profit'].quantile(q=.75)\n",
    "\n",
    "# assign categories based on thresholds\n",
    "budgets_and_genre_dummys.loc[ budgets_and_genre_dummys['total_profit'] >= iqr_Q3, 'relative_profit_cat'] = 'high'\n",
    "budgets_and_genre_dummys.loc[ budgets_and_genre_dummys['total_profit'] <= iqr_Q1, 'relative_profit_cat'] = 'low'\n",
    "budgets_and_genre_dummys.loc[ budgets_and_genre_dummys['relative_profit_cat'].isna() , 'relative_profit_cat'] = 'medium'"
   ]
  },
  {
   "cell_type": "markdown",
   "metadata": {},
   "source": [
    "From here, we built a contingency table with genres as rows and relative profit category as columns."
   ]
  },
  {
   "cell_type": "code",
   "execution_count": 104,
   "metadata": {},
   "outputs": [],
   "source": [
    "##### CREATING CONTINGENCY TABLE\n",
    "\n",
    "# initialize list of genres\n",
    "genres = []\n",
    "\n",
    "# for each column in the dataset\n",
    "for column in budgets_and_genre_dummys.columns:\n",
    "    # if it isn't a non-genre column\n",
    "    ignored_cols = ['total_profit','title','relative_profit_cat','genre_ids','']  \n",
    "    if column not in ignored_cols:\n",
    "        # add it to the list of genres\n",
    "        genres.append(column)\n",
    "        \n",
    "## Creating the contingency table\n",
    "\n",
    "# create a dataframe with profit as columns and genres as rows\n",
    "contingency_table = pd.DataFrame(columns = ['high', 'medium','low'], index = genres)\n",
    "\n",
    "# replace the index (this is useful for using the numeric index to populate the dataframe in the next cell)\n",
    "contingency_table.reset_index(inplace = True)\n",
    "\n",
    "# fill the table with zeroes\n",
    "contingency_table = contingency_table.fillna(0)\n",
    "\n",
    "##### POPULATING CONTINGENCY TABLE\n",
    "\n",
    "# for each row\n",
    "for index, row in budgets_and_genre_dummys.iterrows():\n",
    "    \n",
    "    # for each column in that row that is a genre\n",
    "    for col in budgets_and_genre_dummys.columns:\n",
    "        \n",
    "        if col not in ignored_cols:\n",
    "    \n",
    "            # if the cell value is 1\n",
    "            if row[col] == 1 :\n",
    "                \n",
    "                # find the index associated with that genre in the contingency table\n",
    "                genre_idx = contingency_table[contingency_table['index'] == col].index.values\n",
    "                \n",
    "                # look at the profit category column and save that value as well\n",
    "                profit_cat = row['relative_profit_cat']\n",
    "    \n",
    "                # find the cell associated with that row index and profit column in the contingency table and add 1 \n",
    "                contingency_table.loc[genre_idx, profit_cat] += 1   "
   ]
  },
  {
   "cell_type": "markdown",
   "metadata": {},
   "source": [
    "We noted that there were some very small cell sizes. To avoid drawing conclusions based on small sample sizes, we decided to filter out rows in the contingency table with row totals less than 50. Then, we visualized the contingency table proportions."
   ]
  },
  {
   "cell_type": "code",
   "execution_count": 105,
   "metadata": {},
   "outputs": [
    {
     "data": {
      "image/png": "[encoded data removed]",
      "text/plain": [
       "<Figure size 720x576 with 1 Axes>"
      ]
     },
     "metadata": {
      "needs_background": "light"
     },
     "output_type": "display_data"
    }
   ],
   "source": [
    "# filter contingency table for low cell sizes\n",
    "contingency_table = contingency_table.loc[contingency_table['high'] + contingency_table['medium'] + contingency_table['low'] >= 50]\n",
    "contingency_table = contingency_table.set_index('index')\n",
    "\n",
    "# save copy of this contingency table for future use\n",
    "contingency_table_freq = contingency_table.copy()\n",
    "\n",
    "# Create percentange columns\n",
    "contingency_table['perc_low'] = round( (contingency_table['low'] / \n",
    "                                        (contingency_table['low'] + \n",
    "                                         contingency_table['medium'] + \n",
    "                                         contingency_table['high']))*100,2)\n",
    "\n",
    "contingency_table['perc_medium'] = round( (contingency_table['medium'] / \n",
    "                                        (contingency_table['low'] + \n",
    "                                         contingency_table['medium'] + \n",
    "                                         contingency_table['high']))*100,2)\n",
    "\n",
    "contingency_table['perc_high'] = round( (contingency_table['high'] / \n",
    "                                        (contingency_table['low'] + \n",
    "                                         contingency_table['medium'] + \n",
    "                                         contingency_table['high']))*100,2)\n",
    "\n",
    "# Create new dataframe which only contains the percentage columns\n",
    "# sort by greatest proportion of hight profit movies to lowest proportion\n",
    "contingency_table_prop = contingency_table[['perc_low','perc_medium','perc_high']]\n",
    "contingency_table_prop = contingency_table_prop.sort_values(by = 'perc_high', ascending = False)\n",
    "\n",
    "# plot the percentage dataframe\n",
    "ax = contingency_table_prop.plot(kind = 'bar', stacked = True, \n",
    "                           title = \"Proportions of Profit Categories by Genre\", \n",
    "                           figsize = (10,8),\n",
    "                           color = ['#000040', '#358e85', '#99d18f'])\n",
    "ax.set_xlabel(\"Genre\")\n",
    "ax.set_ylabel(\"Percentage\")\n",
    "ax.legend(['Low','Medium', 'High']);"
   ]
  },
  {
   "cell_type": "markdown",
   "metadata": {},
   "source": [
    "With the contingency table populated and filtered for decent sample size, we were ready to conduct the chi-square test."
   ]
  },
  {
   "cell_type": "code",
   "execution_count": 106,
   "metadata": {},
   "outputs": [
    {
     "name": "stdout",
     "output_type": "stream",
     "text": [
      "p value is 0.04456193254973362\n",
      "Reject H_0\n"
     ]
    }
   ],
   "source": [
    "from scipy.stats import chi2_contingency\n",
    "\n",
    "# H_0 : Genre and Profit Level are not associated\n",
    "# H_1: Genre and Profit Level are associated\n",
    "\n",
    "stat, p, dof, expected = chi2_contingency(contingency_table_freq)\n",
    "  \n",
    "# interpret p-value\n",
    "alpha = 0.05\n",
    "print(\"p value is \" + str(p))\n",
    "if p <= alpha:\n",
    "    print('Reject H_0')\n",
    "else:\n",
    "    print('Retain H_0')"
   ]
  },
  {
   "cell_type": "markdown",
   "metadata": {},
   "source": [
    "The low p-value indicated to us that there was a significant association between these genres and relative profit categories. To measure the strength of this association, we calculated the Cramer's V value. "
   ]
  },
  {
   "cell_type": "code",
   "execution_count": 107,
   "metadata": {},
   "outputs": [
    {
     "name": "stdout",
     "output_type": "stream",
     "text": [
      "Cramer's V: 0.11\n"
     ]
    }
   ],
   "source": [
    "# Getting relevant values to calculate Cramer's V\n",
    "\n",
    "# Sample size\n",
    "n = contingency_table_freq['low'].sum() + contingency_table_freq['medium'].sum() + contingency_table_freq['high'].sum()\n",
    "\n",
    "# Number of rows\n",
    "r = len(contingency_table_freq)\n",
    "\n",
    "# Number of columns\n",
    "c = 3\n",
    "\n",
    "cramer = np.sqrt((stat/n) / min(c-1,r-1))\n",
    "\n",
    "print(\"Cramer's V: {}\".format(round(cramer,2)))"
   ]
  },
  {
   "cell_type": "markdown",
   "metadata": {},
   "source": [
    "The Cramer's V value ranges from 0 to 1 (not associated to perfectly associated), and our Cramer's V was very close to 0. A result this small is indicative of a weak relationship between genre and these profit categories.\n",
    "\n",
    "So while our results remain statistically significant, the overall strength of their association is weak. To support an understanding of the weakness of this association, we created a series of boxplots to demonstrate profit by genre. The plot retains the order of highest to lowest proportion of low profits."
   ]
  },
  {
   "cell_type": "code",
   "execution_count": 108,
   "metadata": {},
   "outputs": [
    {
     "data": {
      "image/png": "[encoded data removed]",
      "text/plain": [
       "<Figure size 1080x576 with 1 Axes>"
      ]
     },
     "metadata": {
      "needs_background": "light"
     },
     "output_type": "display_data"
    }
   ],
   "source": [
    "# Creating separate dataframes for each genre\n",
    "romances = budgets_and_genre_dummys.loc[(budgets_and_genre_dummys['Romance'] == 1)] \n",
    "adventures = budgets_and_genre_dummys.loc[(budgets_and_genre_dummys['Adventure'] == 1)]\n",
    "dramas = budgets_and_genre_dummys.loc[(budgets_and_genre_dummys['Drama'] == 1)]\n",
    "horrors = budgets_and_genre_dummys.loc[(budgets_and_genre_dummys['Horror'] == 1)]\n",
    "actions = budgets_and_genre_dummys.loc[(budgets_and_genre_dummys['Action'] == 1)]\n",
    "comedies = budgets_and_genre_dummys.loc[(budgets_and_genre_dummys['Comedy'] == 1)]\n",
    "thrillers = budgets_and_genre_dummys.loc[(budgets_and_genre_dummys['Thriller'] == 1)] \n",
    "crimes = budgets_and_genre_dummys.loc[(budgets_and_genre_dummys['Crime'] == 1)]\n",
    "scifis = budgets_and_genre_dummys.loc[(budgets_and_genre_dummys['SciFi'] == 1)] \n",
    "mysteries = budgets_and_genre_dummys.loc[(budgets_and_genre_dummys['Mystery'] == 1)]\n",
    "\n",
    "\n",
    "# Creating one dataframe for each genre and their profits\n",
    "combined_dfs = pd.DataFrame({'Romance': romances['total_profit'],\n",
    "                             'Adventure': adventures['total_profit'],\n",
    "                             'Drama': dramas['total_profit'],\n",
    "                             'Horror': horrors['total_profit'],\n",
    "                             'Action': actions['total_profit'],\n",
    "                             'Comedy': comedies['total_profit'],\n",
    "                             'Thriller': thrillers['total_profit'],\n",
    "                             'Crime': crimes['total_profit'],\n",
    "                             'SciFi': scifis['total_profit'],\n",
    "                             'Mystery': mysteries['total_profit']})\n",
    "\n",
    "# Creating a list of genres in order of greatest to lowest proportion of low profit movies \n",
    "# Creating this list so that visualizations can match the order of the most recent contingency table\n",
    "genre_order = []\n",
    "for idx, row in contingency_table_prop.iterrows():\n",
    "    genre_order.append(idx)\n",
    "genre_order\n",
    "\n",
    "### Visualizing Profit distributions\n",
    "\n",
    "import seaborn as sns\n",
    "\n",
    "fig, ax = plt.subplots(figsize = (15,8))\n",
    "sns.boxplot(data=combined_dfs, palette='crest', order = genre_order)\n",
    "ax.set_title(\"Profit Distributions for Final 10 Genres\")\n",
    "ax.set_xlabel(\"Genre\")\n",
    "ax.set_ylabel(\"Profit in Ten Million USD\")\n",
    "ax.yaxis.get_offset_text().set_visible(False)\n",
    "plt.show();"
   ]
  },
  {
   "cell_type": "markdown",
   "metadata": {},
   "source": [
    "This visualization demonstrates how the profit distributions are relatively similar for each genre with little variation. In the end, there was not enough evidence of a strong association between these two variables for us to conclude that genre alone is a reliable tool to target profit security. \n",
    "\n",
    "## Business Recommendation: Avoid seeking profit security via genre.\n",
    "\n",
    "Our original business question asked: Does the genre of a movie have any association with the movie's profitability? From our analysis, we can now answer that the relationship between genre and profit is extremely weak. Because of this, our recommendation is to avoid seeking profit by restricting film production to a specific genre, as there is no evidence of a strong association between these two variables. Instead, we suggest additional research into potential confounding factors that  may target the aforementioned higher median profits in animation, adventure, science fiction, action, and fantasy movies. \n",
    "\n",
    "## Limitations\n",
    "\n",
    "Our results do not come without limitations. For example, while we did our best to ensure that the two tables were joined accurately, there exists the possibility that there could be a movie on one dataset with a title shared by an entirely different movie on the other dataset. Future research using data from one resource rather than multiple may help circumvent this issue and provide additional insight. \n",
    "\n",
    "There was also the limitation of a relatively small sample size given the original sizes of our raw data. Unfortunately, a lot of movies had to be removed from the dataset during cleaning in order to optimize the accuracy of our output. However, similar studies with larger sample sizes would be beneficial in confirming the results of this analysis. \n",
    "\n",
    "Finally, we imputed some values in our dataset to preserve a decent sample size. However, this does introduce potential inaccuracy in our results. Future research with more valid data could provide additional insight."
   ]
  },
  {
   "cell_type": "markdown",
   "metadata": {},
   "source": [
    "# Conclusion\n",
    "\n",
    "Based on the outlined analyses above, we recommend the following actions to Computing Vision:\n",
    "\n",
    "1. Aim to hire more experienced directors if possible.\n",
    "2. Aim to release movies on Fridays to maximize box office revenue. \n",
    "3. Avoiding solely relying on genre as a means of attaining profit security. Instead, look into confounding factors that may explain variations between genres. "
   ]
  }
 ],
 "metadata": {
  "kernelspec": {
   "display_name": "Python (learn-env)",
   "language": "python",
   "name": "learn-env"
  },
  "language_info": {
   "codemirror_mode": {
    "name": "ipython",
    "version": 3
   },
   "file_extension": ".py",
   "mimetype": "text/x-python",
   "name": "python",
   "nbconvert_exporter": "python",
   "pygments_lexer": "ipython3",
   "version": "3.8.5"
  }
 },
 "nbformat": 4,
 "nbformat_minor": 4
}
