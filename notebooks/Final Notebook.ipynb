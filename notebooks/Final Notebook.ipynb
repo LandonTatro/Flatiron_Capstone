{
 "cells": [
  {
   "cell_type": "markdown",
   "metadata": {},
   "source": [
    "# Title"
   ]
  },
  {
   "cell_type": "markdown",
   "metadata": {},
   "source": [
    "## Business Overview\n",
    "\n",
    "### The problem\n",
    "\n",
    "We were tasked with providing Computing Vision a series of suggestions for their transition into the film industry. Specifically, we aimed to determine suggestions that could target higher levels of revenue and/or profit.\n",
    "\n",
    "### The goal\n",
    "\n",
    "The film industry is a creative and diverse market with several avenues to success. With the understanding that there is no one path to success, we aimed to generate insight into a variety of actions Computing Vision may want to take in order to carve their own unique path to success. To accomplish this goal, we analyzed several different facets of films and their relation to generating revenue and profit. These areas included genres, day of release, and experience level of directors. \n",
    "\n",
    "## The Datasets\n",
    "\n",
    "The range of our analyses required utilization of several datasets. For each area of analysis, we used:\n",
    "\n",
    "Directors:\n",
    "\n",
    "Release Day:\n",
    "\n",
    "Genres:\n",
    "- Movie Budgets dataset from (INSERT SOURCE HERE). Including movie titles, production budget, and worldwide gross revenue. \n",
    "- TMDB dataset including movie titles and genres.\n",
    "\n",
    "## The Methods and Results"
   ]
  },
  {
   "cell_type": "markdown",
   "metadata": {},
   "source": [
    "# Imports"
   ]
  },
  {
   "cell_type": "markdown",
   "metadata": {},
   "source": [
    "##  DIMA\n",
    "### Experience Level of Directors in relation to Profit"
   ]
  },
  {
   "cell_type": "markdown",
   "metadata": {},
   "source": [
    "***The Business Question***\n",
    "\n",
    "Does the expertise of the director affect the movie's profitability?"
   ]
  },
  {
   "cell_type": "markdown",
   "metadata": {},
   "source": [
    "***The Datasets***\n",
    "\n",
    "In this section, we used the following datasets:\n",
    "\n",
    "- Movie Info dataset from Rotten Tomatoes which included the Director column required for this analysis.\n",
    "- Movie Budgets dataset from The-Numbers which included the movie titles, production budget, and worlwide gross which we used to calculate the profit which is our main measure of success in the project"
   ]
  },
  {
   "cell_type": "markdown",
   "metadata": {},
   "source": [
    "To explore the data we will first start off with importing the necessary libraries needed."
   ]
  },
  {
   "cell_type": "code",
   "execution_count": 2,
   "metadata": {},
   "outputs": [],
   "source": [
    "# Imports\n",
    "import pandas as pd\n",
    "import numpy as np\n",
    "import sqlite3\n",
    "import matplotlib\n",
    "import matplotlib.pyplot as plt\n",
    "import seaborn as sns\n",
    "from scipy import stats\n",
    "from sklearn.datasets import load_iris\n",
    "from pandas import Series, DataFrame\n",
    "\n",
    "%matplotlib inline"
   ]
  },
  {
   "cell_type": "markdown",
   "metadata": {},
   "source": [
    "### Movie Info\n",
    "Starting with the movie info dataframe, the first step is to read into the tsv file"
   ]
  },
  {
   "cell_type": "code",
   "execution_count": 3,
   "metadata": {},
   "outputs": [
    {
     "data": {
      "text/html": [
       "<div>\n",
       "<style scoped>\n",
       "    .dataframe tbody tr th:only-of-type {\n",
       "        vertical-align: middle;\n",
       "    }\n",
       "\n",
       "    .dataframe tbody tr th {\n",
       "        vertical-align: top;\n",
       "    }\n",
       "\n",
       "    .dataframe thead th {\n",
       "        text-align: right;\n",
       "    }\n",
       "</style>\n",
       "<table border=\"1\" class=\"dataframe\">\n",
       "  <thead>\n",
       "    <tr style=\"text-align: right;\">\n",
       "      <th></th>\n",
       "      <th>id</th>\n",
       "      <th>synopsis</th>\n",
       "      <th>rating</th>\n",
       "      <th>genre</th>\n",
       "      <th>director</th>\n",
       "      <th>writer</th>\n",
       "      <th>theater_date</th>\n",
       "      <th>dvd_date</th>\n",
       "      <th>currency</th>\n",
       "      <th>box_office</th>\n",
       "      <th>runtime</th>\n",
       "      <th>studio</th>\n",
       "    </tr>\n",
       "  </thead>\n",
       "  <tbody>\n",
       "    <tr>\n",
       "      <th>0</th>\n",
       "      <td>1</td>\n",
       "      <td>This gritty, fast-paced, and innovative police...</td>\n",
       "      <td>R</td>\n",
       "      <td>Action and Adventure|Classics|Drama</td>\n",
       "      <td>William Friedkin</td>\n",
       "      <td>Ernest Tidyman</td>\n",
       "      <td>1971-10-09</td>\n",
       "      <td>2001-09-25</td>\n",
       "      <td>NaN</td>\n",
       "      <td>NaN</td>\n",
       "      <td>104 minutes</td>\n",
       "      <td>NaN</td>\n",
       "    </tr>\n",
       "    <tr>\n",
       "      <th>1</th>\n",
       "      <td>3</td>\n",
       "      <td>New York City, not-too-distant-future: Eric Pa...</td>\n",
       "      <td>R</td>\n",
       "      <td>Drama|Science Fiction and Fantasy</td>\n",
       "      <td>David Cronenberg</td>\n",
       "      <td>David Cronenberg|Don DeLillo</td>\n",
       "      <td>2012-08-17</td>\n",
       "      <td>2013-01-01</td>\n",
       "      <td>$</td>\n",
       "      <td>600,000</td>\n",
       "      <td>108 minutes</td>\n",
       "      <td>Entertainment One</td>\n",
       "    </tr>\n",
       "    <tr>\n",
       "      <th>2</th>\n",
       "      <td>5</td>\n",
       "      <td>Illeana Douglas delivers a superb performance ...</td>\n",
       "      <td>R</td>\n",
       "      <td>Drama|Musical and Performing Arts</td>\n",
       "      <td>Allison Anders</td>\n",
       "      <td>Allison Anders</td>\n",
       "      <td>1996-09-13</td>\n",
       "      <td>2000-04-18</td>\n",
       "      <td>NaN</td>\n",
       "      <td>NaN</td>\n",
       "      <td>116 minutes</td>\n",
       "      <td>NaN</td>\n",
       "    </tr>\n",
       "    <tr>\n",
       "      <th>3</th>\n",
       "      <td>6</td>\n",
       "      <td>Michael Douglas runs afoul of a treacherous su...</td>\n",
       "      <td>R</td>\n",
       "      <td>Drama|Mystery and Suspense</td>\n",
       "      <td>Barry Levinson</td>\n",
       "      <td>Paul Attanasio|Michael Crichton</td>\n",
       "      <td>1994-12-09</td>\n",
       "      <td>1997-08-27</td>\n",
       "      <td>NaN</td>\n",
       "      <td>NaN</td>\n",
       "      <td>128 minutes</td>\n",
       "      <td>NaN</td>\n",
       "    </tr>\n",
       "    <tr>\n",
       "      <th>4</th>\n",
       "      <td>7</td>\n",
       "      <td>NaN</td>\n",
       "      <td>NR</td>\n",
       "      <td>Drama|Romance</td>\n",
       "      <td>Rodney Bennett</td>\n",
       "      <td>Giles Cooper</td>\n",
       "      <td>NaT</td>\n",
       "      <td>NaT</td>\n",
       "      <td>NaN</td>\n",
       "      <td>NaN</td>\n",
       "      <td>200 minutes</td>\n",
       "      <td>NaN</td>\n",
       "    </tr>\n",
       "  </tbody>\n",
       "</table>\n",
       "</div>"
      ],
      "text/plain": [
       "   id                                           synopsis rating  \\\n",
       "0   1  This gritty, fast-paced, and innovative police...      R   \n",
       "1   3  New York City, not-too-distant-future: Eric Pa...      R   \n",
       "2   5  Illeana Douglas delivers a superb performance ...      R   \n",
       "3   6  Michael Douglas runs afoul of a treacherous su...      R   \n",
       "4   7                                                NaN     NR   \n",
       "\n",
       "                                 genre          director  \\\n",
       "0  Action and Adventure|Classics|Drama  William Friedkin   \n",
       "1    Drama|Science Fiction and Fantasy  David Cronenberg   \n",
       "2    Drama|Musical and Performing Arts    Allison Anders   \n",
       "3           Drama|Mystery and Suspense    Barry Levinson   \n",
       "4                        Drama|Romance    Rodney Bennett   \n",
       "\n",
       "                            writer theater_date   dvd_date currency  \\\n",
       "0                   Ernest Tidyman   1971-10-09 2001-09-25      NaN   \n",
       "1     David Cronenberg|Don DeLillo   2012-08-17 2013-01-01        $   \n",
       "2                   Allison Anders   1996-09-13 2000-04-18      NaN   \n",
       "3  Paul Attanasio|Michael Crichton   1994-12-09 1997-08-27      NaN   \n",
       "4                     Giles Cooper          NaT        NaT      NaN   \n",
       "\n",
       "  box_office      runtime             studio  \n",
       "0        NaN  104 minutes                NaN  \n",
       "1    600,000  108 minutes  Entertainment One  \n",
       "2        NaN  116 minutes                NaN  \n",
       "3        NaN  128 minutes                NaN  \n",
       "4        NaN  200 minutes                NaN  "
      ]
     },
     "execution_count": 3,
     "metadata": {},
     "output_type": "execute_result"
    }
   ],
   "source": [
    "# Read in the data as movie_info\n",
    "# Use parse_dates and pass column name to read it as a datetime\n",
    "movie_info = pd.read_csv('../Data/rt.movie_info.tsv', encoding='latin-1', sep='\\t', \n",
    "                        parse_dates=['theater_date', 'dvd_date'])\n",
    "movie_info.head()"
   ]
  },
  {
   "cell_type": "markdown",
   "metadata": {},
   "source": [
    "#### Data Cleaning\n",
    "In this section, we will start by cleaning the movie_info dataframe before we can draw any conclusions. It will help us inspect the data better and get a more accurate general understanding of the data at hand.\n",
    "\n",
    "Step 1: Check if we have any null values in each column"
   ]
  },
  {
   "cell_type": "code",
   "execution_count": 4,
   "metadata": {},
   "outputs": [
    {
     "data": {
      "text/plain": [
       "id                 0\n",
       "synopsis          62\n",
       "rating             3\n",
       "genre              8\n",
       "director         199\n",
       "writer           449\n",
       "theater_date     359\n",
       "dvd_date         359\n",
       "currency        1220\n",
       "box_office      1220\n",
       "runtime           30\n",
       "studio          1066\n",
       "dtype: int64"
      ]
     },
     "execution_count": 4,
     "metadata": {},
     "output_type": "execute_result"
    }
   ],
   "source": [
    "movie_info.isnull().sum()"
   ]
  },
  {
   "cell_type": "markdown",
   "metadata": {},
   "source": [
    "Step 2: Dealing with null values\n",
    "\n",
    "To clean the columns from null values, we will be replacing the null values in the column with generic terms relevant to each column so that it's all consistent across the columns."
   ]
  },
  {
   "cell_type": "code",
   "execution_count": 5,
   "metadata": {},
   "outputs": [],
   "source": [
    "#Fill the missing values in synposis, genre, director, writer, currency, studio with 'Missing'\n",
    "movie_info['synopsis'].fillna('Missing', inplace=True)\n",
    "movie_info['rating'].fillna('Missing', inplace=True)\n",
    "movie_info['genre'].fillna('Missing', inplace=True)\n",
    "movie_info['director'].fillna('Missing', inplace=True)\n",
    "movie_info['writer'].fillna('Missing', inplace=True)\n",
    "movie_info['currency'].fillna('Missing', inplace=True)\n",
    "movie_info['studio'].fillna('Missing', inplace=True)"
   ]
  },
  {
   "cell_type": "code",
   "execution_count": 6,
   "metadata": {},
   "outputs": [],
   "source": [
    "#Fill theater_date and dvd_date missing values with a generic date \"1800-01-01\" to keep same format\n",
    "movie_info['theater_date'].fillna('1800-01-01', inplace=True)\n",
    "movie_info['dvd_date'].fillna('1800-01-01', inplace=True)"
   ]
  },
  {
   "cell_type": "code",
   "execution_count": 7,
   "metadata": {},
   "outputs": [],
   "source": [
    "#Fill box_office missing valus with 0\n",
    "movie_info['box_office'].fillna(0, inplace=True)"
   ]
  },
  {
   "cell_type": "code",
   "execution_count": 10,
   "metadata": {},
   "outputs": [],
   "source": [
    "#Fill runtime missing valus with 0\n",
    "movie_info['runtime'].fillna('0 minutes', inplace=True)\n",
    "\n",
    "#Change the type of data so that we are able to use it later on if we needed to.\n",
    "movie_info['runtime'] = movie_info['runtime'].str.replace('minutes',\"\")\n",
    "movie_info['runtime'] = pd.to_numeric(movie_info['runtime'])"
   ]
  },
  {
   "cell_type": "markdown",
   "metadata": {},
   "source": [
    "Step 3: check for any duplicates"
   ]
  },
  {
   "cell_type": "code",
   "execution_count": 11,
   "metadata": {},
   "outputs": [
    {
     "data": {
      "text/plain": [
       "False    1560\n",
       "dtype: int64"
      ]
     },
     "execution_count": 11,
     "metadata": {},
     "output_type": "execute_result"
    }
   ],
   "source": [
    "movie_info.duplicated().value_counts()"
   ]
  },
  {
   "cell_type": "markdown",
   "metadata": {},
   "source": [
    "It doesn't look like we have any duplicates. In this case, we are good to proceed forward."
   ]
  },
  {
   "cell_type": "markdown",
   "metadata": {},
   "source": [
    "#### Analysis methods"
   ]
  },
  {
   "cell_type": "markdown",
   "metadata": {},
   "source": [
    "In this section, We will look into the Director column within this data frame to see if the Director's expertise affects the movie's success.\n",
    "\n",
    "The question being analyzed is whether the expertise of the director affects the movie's profitability.\n",
    "\n",
    "We will look at the count of movies directed per director, as directors with more experience could potentially yield higher profit due to their expertise.\n",
    "\n",
    "- First, we will look at the budgets table.\n",
    "- Second, we want to look at the trend between the count of movies per director and the profit\n",
    "    - To do that, we will merge the budget dataframe and movie_info dataframe to check the profit generated by each director.\n",
    "- Third, we will sort the top directors with the highest average profit."
   ]
  },
  {
   "cell_type": "markdown",
   "metadata": {},
   "source": [
    "We will start by reading into the budgets table and cleaning it"
   ]
  },
  {
   "cell_type": "code",
   "execution_count": 14,
   "metadata": {},
   "outputs": [
    {
     "data": {
      "text/html": [
       "<div>\n",
       "<style scoped>\n",
       "    .dataframe tbody tr th:only-of-type {\n",
       "        vertical-align: middle;\n",
       "    }\n",
       "\n",
       "    .dataframe tbody tr th {\n",
       "        vertical-align: top;\n",
       "    }\n",
       "\n",
       "    .dataframe thead th {\n",
       "        text-align: right;\n",
       "    }\n",
       "</style>\n",
       "<table border=\"1\" class=\"dataframe\">\n",
       "  <thead>\n",
       "    <tr style=\"text-align: right;\">\n",
       "      <th></th>\n",
       "      <th>id</th>\n",
       "      <th>release_date</th>\n",
       "      <th>movie</th>\n",
       "      <th>production_budget</th>\n",
       "      <th>domestic_gross</th>\n",
       "      <th>worldwide_gross</th>\n",
       "    </tr>\n",
       "  </thead>\n",
       "  <tbody>\n",
       "    <tr>\n",
       "      <th>0</th>\n",
       "      <td>1</td>\n",
       "      <td>Dec 18, 2009</td>\n",
       "      <td>Avatar</td>\n",
       "      <td>$425,000,000</td>\n",
       "      <td>$760,507,625</td>\n",
       "      <td>$2,776,345,279</td>\n",
       "    </tr>\n",
       "    <tr>\n",
       "      <th>1</th>\n",
       "      <td>2</td>\n",
       "      <td>May 20, 2011</td>\n",
       "      <td>Pirates of the Caribbean: On Stranger Tides</td>\n",
       "      <td>$410,600,000</td>\n",
       "      <td>$241,063,875</td>\n",
       "      <td>$1,045,663,875</td>\n",
       "    </tr>\n",
       "    <tr>\n",
       "      <th>2</th>\n",
       "      <td>3</td>\n",
       "      <td>Jun 7, 2019</td>\n",
       "      <td>Dark Phoenix</td>\n",
       "      <td>$350,000,000</td>\n",
       "      <td>$42,762,350</td>\n",
       "      <td>$149,762,350</td>\n",
       "    </tr>\n",
       "    <tr>\n",
       "      <th>3</th>\n",
       "      <td>4</td>\n",
       "      <td>May 1, 2015</td>\n",
       "      <td>Avengers: Age of Ultron</td>\n",
       "      <td>$330,600,000</td>\n",
       "      <td>$459,005,868</td>\n",
       "      <td>$1,403,013,963</td>\n",
       "    </tr>\n",
       "    <tr>\n",
       "      <th>4</th>\n",
       "      <td>5</td>\n",
       "      <td>Dec 15, 2017</td>\n",
       "      <td>Star Wars Ep. VIII: The Last Jedi</td>\n",
       "      <td>$317,000,000</td>\n",
       "      <td>$620,181,382</td>\n",
       "      <td>$1,316,721,747</td>\n",
       "    </tr>\n",
       "  </tbody>\n",
       "</table>\n",
       "</div>"
      ],
      "text/plain": [
       "   id  release_date                                        movie  \\\n",
       "0   1  Dec 18, 2009                                       Avatar   \n",
       "1   2  May 20, 2011  Pirates of the Caribbean: On Stranger Tides   \n",
       "2   3   Jun 7, 2019                                 Dark Phoenix   \n",
       "3   4   May 1, 2015                      Avengers: Age of Ultron   \n",
       "4   5  Dec 15, 2017            Star Wars Ep. VIII: The Last Jedi   \n",
       "\n",
       "  production_budget domestic_gross worldwide_gross  \n",
       "0      $425,000,000   $760,507,625  $2,776,345,279  \n",
       "1      $410,600,000   $241,063,875  $1,045,663,875  \n",
       "2      $350,000,000    $42,762,350    $149,762,350  \n",
       "3      $330,600,000   $459,005,868  $1,403,013,963  \n",
       "4      $317,000,000   $620,181,382  $1,316,721,747  "
      ]
     },
     "execution_count": 14,
     "metadata": {},
     "output_type": "execute_result"
    }
   ],
   "source": [
    "#reading into the csv data file\n",
    "budgets = pd.read_csv(\"../data/tn.movie_budgets.csv\")\n",
    "budgets.head()"
   ]
  },
  {
   "cell_type": "markdown",
   "metadata": {},
   "source": [
    "In this table we will assume that **Revenue** = 'worldwide_gross' & **Cost** = 'production_budget'"
   ]
  },
  {
   "cell_type": "code",
   "execution_count": 15,
   "metadata": {},
   "outputs": [],
   "source": [
    "#will follow Morgan's data cleaning for this table\n",
    "# removing $ and , from gross revenue\n",
    "budgets['worldwide_gross'] = budgets['worldwide_gross'].str.replace(\",\",\"\")\n",
    "budgets['worldwide_gross'] = budgets['worldwide_gross'].str.replace(\"$\",\"\")\n",
    "\n",
    "# casting the values as integers\n",
    "budgets['worldwide_gross'] = pd.to_numeric(budgets['worldwide_gross'])\n",
    "\n",
    "# removing $ and , from production budget\n",
    "budgets['production_budget'] = budgets['production_budget'].str.replace(\",\",\"\")\n",
    "budgets['production_budget'] = budgets['production_budget'].str.replace(\"$\",\"\")\n",
    "\n",
    "# casting the values as integers\n",
    "budgets['production_budget'] = pd.to_numeric(budgets['production_budget'])"
   ]
  },
  {
   "cell_type": "code",
   "execution_count": 16,
   "metadata": {},
   "outputs": [],
   "source": [
    "# calculating total profit = revenue - cost\n",
    "budgets['total_profit'] =  budgets['worldwide_gross'] - budgets['production_budget']"
   ]
  },
  {
   "cell_type": "markdown",
   "metadata": {},
   "source": [
    "From here on we will be comparing the total profit from the budgets table to the Directors in the movie_info table.\n",
    "\n",
    "Since we don't need all the columns in the dataframe, we will create a new one with only the columns necessary to the analysis."
   ]
  },
  {
   "cell_type": "code",
   "execution_count": 18,
   "metadata": {},
   "outputs": [],
   "source": [
    "movie_budgets = budgets[['id','movie','worldwide_gross','total_profit']]"
   ]
  },
  {
   "cell_type": "markdown",
   "metadata": {},
   "source": [
    "### Merging movie_info & budget dataframes\n",
    "\n",
    "We will join the dataframes using an **inner** join because it returns only the records with matching keys in both tables, we will make a separate dataframe for the joined dataframes."
   ]
  },
  {
   "cell_type": "code",
   "execution_count": 19,
   "metadata": {},
   "outputs": [
    {
     "data": {
      "text/html": [
       "<div>\n",
       "<style scoped>\n",
       "    .dataframe tbody tr th:only-of-type {\n",
       "        vertical-align: middle;\n",
       "    }\n",
       "\n",
       "    .dataframe tbody tr th {\n",
       "        vertical-align: top;\n",
       "    }\n",
       "\n",
       "    .dataframe thead th {\n",
       "        text-align: right;\n",
       "    }\n",
       "</style>\n",
       "<table border=\"1\" class=\"dataframe\">\n",
       "  <thead>\n",
       "    <tr style=\"text-align: right;\">\n",
       "      <th></th>\n",
       "      <th>id_movie_budgets</th>\n",
       "      <th>movie</th>\n",
       "      <th>worldwide_gross</th>\n",
       "      <th>total_profit</th>\n",
       "      <th>id_movie_info</th>\n",
       "      <th>synopsis</th>\n",
       "      <th>rating</th>\n",
       "      <th>genre</th>\n",
       "      <th>director</th>\n",
       "      <th>writer</th>\n",
       "      <th>theater_date</th>\n",
       "      <th>dvd_date</th>\n",
       "      <th>currency</th>\n",
       "      <th>box_office</th>\n",
       "      <th>runtime</th>\n",
       "      <th>studio</th>\n",
       "    </tr>\n",
       "  </thead>\n",
       "  <tbody>\n",
       "    <tr>\n",
       "      <th>0</th>\n",
       "      <td>1</td>\n",
       "      <td>Avatar</td>\n",
       "      <td>2776345279</td>\n",
       "      <td>2351345279</td>\n",
       "      <td>1</td>\n",
       "      <td>This gritty, fast-paced, and innovative police...</td>\n",
       "      <td>R</td>\n",
       "      <td>Action and Adventure|Classics|Drama</td>\n",
       "      <td>William Friedkin</td>\n",
       "      <td>Ernest Tidyman</td>\n",
       "      <td>1971-10-09 00:00:00</td>\n",
       "      <td>2001-09-25 00:00:00</td>\n",
       "      <td>Missing</td>\n",
       "      <td>0</td>\n",
       "      <td>104</td>\n",
       "      <td>Missing</td>\n",
       "    </tr>\n",
       "    <tr>\n",
       "      <th>1</th>\n",
       "      <td>2</td>\n",
       "      <td>Pirates of the Caribbean: On Stranger Tides</td>\n",
       "      <td>1045663875</td>\n",
       "      <td>635063875</td>\n",
       "      <td>3</td>\n",
       "      <td>New York City, not-too-distant-future: Eric Pa...</td>\n",
       "      <td>R</td>\n",
       "      <td>Drama|Science Fiction and Fantasy</td>\n",
       "      <td>David Cronenberg</td>\n",
       "      <td>David Cronenberg|Don DeLillo</td>\n",
       "      <td>2012-08-17 00:00:00</td>\n",
       "      <td>2013-01-01 00:00:00</td>\n",
       "      <td>$</td>\n",
       "      <td>600,000</td>\n",
       "      <td>108</td>\n",
       "      <td>Entertainment One</td>\n",
       "    </tr>\n",
       "    <tr>\n",
       "      <th>2</th>\n",
       "      <td>3</td>\n",
       "      <td>Dark Phoenix</td>\n",
       "      <td>149762350</td>\n",
       "      <td>-200237650</td>\n",
       "      <td>5</td>\n",
       "      <td>Illeana Douglas delivers a superb performance ...</td>\n",
       "      <td>R</td>\n",
       "      <td>Drama|Musical and Performing Arts</td>\n",
       "      <td>Allison Anders</td>\n",
       "      <td>Allison Anders</td>\n",
       "      <td>1996-09-13 00:00:00</td>\n",
       "      <td>2000-04-18 00:00:00</td>\n",
       "      <td>Missing</td>\n",
       "      <td>0</td>\n",
       "      <td>116</td>\n",
       "      <td>Missing</td>\n",
       "    </tr>\n",
       "    <tr>\n",
       "      <th>3</th>\n",
       "      <td>4</td>\n",
       "      <td>Avengers: Age of Ultron</td>\n",
       "      <td>1403013963</td>\n",
       "      <td>1072413963</td>\n",
       "      <td>6</td>\n",
       "      <td>Michael Douglas runs afoul of a treacherous su...</td>\n",
       "      <td>R</td>\n",
       "      <td>Drama|Mystery and Suspense</td>\n",
       "      <td>Barry Levinson</td>\n",
       "      <td>Paul Attanasio|Michael Crichton</td>\n",
       "      <td>1994-12-09 00:00:00</td>\n",
       "      <td>1997-08-27 00:00:00</td>\n",
       "      <td>Missing</td>\n",
       "      <td>0</td>\n",
       "      <td>128</td>\n",
       "      <td>Missing</td>\n",
       "    </tr>\n",
       "    <tr>\n",
       "      <th>4</th>\n",
       "      <td>5</td>\n",
       "      <td>Star Wars Ep. VIII: The Last Jedi</td>\n",
       "      <td>1316721747</td>\n",
       "      <td>999721747</td>\n",
       "      <td>7</td>\n",
       "      <td>Missing</td>\n",
       "      <td>NR</td>\n",
       "      <td>Drama|Romance</td>\n",
       "      <td>Rodney Bennett</td>\n",
       "      <td>Giles Cooper</td>\n",
       "      <td>1800-01-01</td>\n",
       "      <td>1800-01-01</td>\n",
       "      <td>Missing</td>\n",
       "      <td>0</td>\n",
       "      <td>200</td>\n",
       "      <td>Missing</td>\n",
       "    </tr>\n",
       "  </tbody>\n",
       "</table>\n",
       "</div>"
      ],
      "text/plain": [
       "   id_movie_budgets                                        movie  \\\n",
       "0                 1                                       Avatar   \n",
       "1                 2  Pirates of the Caribbean: On Stranger Tides   \n",
       "2                 3                                 Dark Phoenix   \n",
       "3                 4                      Avengers: Age of Ultron   \n",
       "4                 5            Star Wars Ep. VIII: The Last Jedi   \n",
       "\n",
       "   worldwide_gross  total_profit  id_movie_info  \\\n",
       "0       2776345279    2351345279              1   \n",
       "1       1045663875     635063875              3   \n",
       "2        149762350    -200237650              5   \n",
       "3       1403013963    1072413963              6   \n",
       "4       1316721747     999721747              7   \n",
       "\n",
       "                                            synopsis rating  \\\n",
       "0  This gritty, fast-paced, and innovative police...      R   \n",
       "1  New York City, not-too-distant-future: Eric Pa...      R   \n",
       "2  Illeana Douglas delivers a superb performance ...      R   \n",
       "3  Michael Douglas runs afoul of a treacherous su...      R   \n",
       "4                                            Missing     NR   \n",
       "\n",
       "                                 genre          director  \\\n",
       "0  Action and Adventure|Classics|Drama  William Friedkin   \n",
       "1    Drama|Science Fiction and Fantasy  David Cronenberg   \n",
       "2    Drama|Musical and Performing Arts    Allison Anders   \n",
       "3           Drama|Mystery and Suspense    Barry Levinson   \n",
       "4                        Drama|Romance    Rodney Bennett   \n",
       "\n",
       "                            writer         theater_date             dvd_date  \\\n",
       "0                   Ernest Tidyman  1971-10-09 00:00:00  2001-09-25 00:00:00   \n",
       "1     David Cronenberg|Don DeLillo  2012-08-17 00:00:00  2013-01-01 00:00:00   \n",
       "2                   Allison Anders  1996-09-13 00:00:00  2000-04-18 00:00:00   \n",
       "3  Paul Attanasio|Michael Crichton  1994-12-09 00:00:00  1997-08-27 00:00:00   \n",
       "4                     Giles Cooper           1800-01-01           1800-01-01   \n",
       "\n",
       "  currency box_office  runtime             studio  \n",
       "0  Missing          0      104            Missing  \n",
       "1        $    600,000      108  Entertainment One  \n",
       "2  Missing          0      116            Missing  \n",
       "3  Missing          0      128            Missing  \n",
       "4  Missing          0      200            Missing  "
      ]
     },
     "execution_count": 19,
     "metadata": {},
     "output_type": "execute_result"
    }
   ],
   "source": [
    "movie_info_budget = movie_budgets.join(movie_info, how='inner', lsuffix = '_movie_budgets' , rsuffix = '_movie_info')\n",
    "#checking the resulting dataframe\n",
    "movie_info_budget.head()"
   ]
  },
  {
   "cell_type": "code",
   "execution_count": 20,
   "metadata": {},
   "outputs": [
    {
     "data": {
      "text/plain": [
       "count    1.560000e+03\n",
       "mean     2.374879e+08\n",
       "std      2.686596e+08\n",
       "min      0.000000e+00\n",
       "25%      6.806081e+07\n",
       "50%      1.523167e+08\n",
       "75%      3.029080e+08\n",
       "max      2.776345e+09\n",
       "Name: worldwide_gross, dtype: float64"
      ]
     },
     "execution_count": 20,
     "metadata": {},
     "output_type": "execute_result"
    }
   ],
   "source": [
    "#I want to check how many 0 we have for worldwide gross, we can see if the minimum number is 0\n",
    "movie_info_budget['worldwide_gross'].describe()"
   ]
  },
  {
   "cell_type": "markdown",
   "metadata": {},
   "source": [
    "To deal with these values, we decided to replace it with the median profit because the median is more resilient against extreme outliers."
   ]
  },
  {
   "cell_type": "code",
   "execution_count": 21,
   "metadata": {},
   "outputs": [],
   "source": [
    "median_gross = movie_info_budget['worldwide_gross'].median()\n",
    "movie_info_budget['worldwide_gross'] = movie_info_budget['worldwide_gross'].replace(0,median_gross)"
   ]
  },
  {
   "cell_type": "markdown",
   "metadata": {},
   "source": [
    "We will now start looking if there are any trends between the expertise of the director vs. the profit"
   ]
  },
  {
   "cell_type": "code",
   "execution_count": 22,
   "metadata": {},
   "outputs": [],
   "source": [
    "#Create top directors df so that we can visualize top directors and top profit\n",
    "#The count will show us the count of movies each director has worked on\n",
    "director_counts = pd.DataFrame(movie_info_budget.groupby('director')['movie'].count())\n",
    "\n",
    "#We are summing the profit of all the movies per director into the total profit\n",
    "director_total_profit = pd.DataFrame(movie_info_budget.groupby('director')['total_profit'].sum())"
   ]
  },
  {
   "cell_type": "code",
   "execution_count": 23,
   "metadata": {},
   "outputs": [],
   "source": [
    "# I will now join the director counts and total profit together into a new df, I will also sort it by total profit\n",
    "top_directors = director_counts.join(director_total_profit, how='outer', lsuffix = '_director_counts' , rsuffix = 'director_total_profit')\n",
    "top_directors = top_directors.sort_values(by='total_profit', ascending=False)"
   ]
  },
  {
   "cell_type": "code",
   "execution_count": 24,
   "metadata": {},
   "outputs": [],
   "source": [
    "#Dropping the missing values\n",
    "top_directors = top_directors.drop(labels=\"Missing\")"
   ]
  },
  {
   "cell_type": "code",
   "execution_count": 25,
   "metadata": {},
   "outputs": [
    {
     "data": {
      "text/html": [
       "<div>\n",
       "<style scoped>\n",
       "    .dataframe tbody tr th:only-of-type {\n",
       "        vertical-align: middle;\n",
       "    }\n",
       "\n",
       "    .dataframe tbody tr th {\n",
       "        vertical-align: top;\n",
       "    }\n",
       "\n",
       "    .dataframe thead th {\n",
       "        text-align: right;\n",
       "    }\n",
       "</style>\n",
       "<table border=\"1\" class=\"dataframe\">\n",
       "  <thead>\n",
       "    <tr style=\"text-align: right;\">\n",
       "      <th></th>\n",
       "      <th>movie</th>\n",
       "      <th>total_profit</th>\n",
       "      <th>avg_profit</th>\n",
       "    </tr>\n",
       "    <tr>\n",
       "      <th>director</th>\n",
       "      <th></th>\n",
       "      <th></th>\n",
       "      <th></th>\n",
       "    </tr>\n",
       "  </thead>\n",
       "  <tbody>\n",
       "    <tr>\n",
       "      <th>William Friedkin</th>\n",
       "      <td>4</td>\n",
       "      <td>2705957834</td>\n",
       "      <td>6.764895e+08</td>\n",
       "    </tr>\n",
       "    <tr>\n",
       "      <th>Henning Schellerup</th>\n",
       "      <td>1</td>\n",
       "      <td>2008208395</td>\n",
       "      <td>2.008208e+09</td>\n",
       "    </tr>\n",
       "    <tr>\n",
       "      <th>Steven Spielberg</th>\n",
       "      <td>10</td>\n",
       "      <td>1777836004</td>\n",
       "      <td>1.777836e+08</td>\n",
       "    </tr>\n",
       "    <tr>\n",
       "      <th>Jake Kasdan</th>\n",
       "      <td>1</td>\n",
       "      <td>1748134200</td>\n",
       "      <td>1.748134e+09</td>\n",
       "    </tr>\n",
       "    <tr>\n",
       "      <th>Jay Russell</th>\n",
       "      <td>1</td>\n",
       "      <td>1747311220</td>\n",
       "      <td>1.747311e+09</td>\n",
       "    </tr>\n",
       "    <tr>\n",
       "      <th>...</th>\n",
       "      <td>...</td>\n",
       "      <td>...</td>\n",
       "      <td>...</td>\n",
       "    </tr>\n",
       "    <tr>\n",
       "      <th>Robert Hartford-Davis</th>\n",
       "      <td>1</td>\n",
       "      <td>-94635231</td>\n",
       "      <td>-9.463523e+07</td>\n",
       "    </tr>\n",
       "    <tr>\n",
       "      <th>Renny Harlin</th>\n",
       "      <td>2</td>\n",
       "      <td>-111069937</td>\n",
       "      <td>-5.553497e+07</td>\n",
       "    </tr>\n",
       "    <tr>\n",
       "      <th>Richard Thorpe</th>\n",
       "      <td>2</td>\n",
       "      <td>-117780537</td>\n",
       "      <td>-5.889027e+07</td>\n",
       "    </tr>\n",
       "    <tr>\n",
       "      <th>Jack Bender</th>\n",
       "      <td>1</td>\n",
       "      <td>-150000000</td>\n",
       "      <td>-1.500000e+08</td>\n",
       "    </tr>\n",
       "    <tr>\n",
       "      <th>Allison Anders</th>\n",
       "      <td>1</td>\n",
       "      <td>-200237650</td>\n",
       "      <td>-2.002376e+08</td>\n",
       "    </tr>\n",
       "  </tbody>\n",
       "</table>\n",
       "<p>1125 rows × 3 columns</p>\n",
       "</div>"
      ],
      "text/plain": [
       "                       movie  total_profit    avg_profit\n",
       "director                                                \n",
       "William Friedkin           4    2705957834  6.764895e+08\n",
       "Henning Schellerup         1    2008208395  2.008208e+09\n",
       "Steven Spielberg          10    1777836004  1.777836e+08\n",
       "Jake Kasdan                1    1748134200  1.748134e+09\n",
       "Jay Russell                1    1747311220  1.747311e+09\n",
       "...                      ...           ...           ...\n",
       "Robert Hartford-Davis      1     -94635231 -9.463523e+07\n",
       "Renny Harlin               2    -111069937 -5.553497e+07\n",
       "Richard Thorpe             2    -117780537 -5.889027e+07\n",
       "Jack Bender                1    -150000000 -1.500000e+08\n",
       "Allison Anders             1    -200237650 -2.002376e+08\n",
       "\n",
       "[1125 rows x 3 columns]"
      ]
     },
     "execution_count": 25,
     "metadata": {},
     "output_type": "execute_result"
    }
   ],
   "source": [
    "#We will add the average profit per director since it would be more accurate to look at it than Total profit\n",
    "top_directors['avg_profit'] =  top_directors['total_profit']/top_directors['movie']\n",
    "top_directors['avg_profit'] = top_directors['avg_profit'].sort_values(ascending=False)\n",
    "top_directors"
   ]
  },
  {
   "cell_type": "markdown",
   "metadata": {},
   "source": [
    "Now to visualize the results we will display it using a boxplot to display the spread of the data."
   ]
  },
  {
   "cell_type": "code",
   "execution_count": 29,
   "metadata": {},
   "outputs": [
    {
     "data": {
      "image/png": "[encoded data removed]",
      "text/plain": [
       "<Figure size 864x576 with 1 Axes>"
      ]
     },
     "metadata": {
      "needs_background": "light"
     },
     "output_type": "display_data"
    }
   ],
   "source": [
    "# We will visualize the results\n",
    "# Plot average profit vs. count of movies directed \n",
    "plt.figure(figsize=(12,8))\n",
    "sns.boxplot(x = top_directors['movie'], y = top_directors['avg_profit'], palette='crest')\n",
    "plt.title('Average Profit vs.  Count of Movies per Director', fontsize=16)\n",
    "plt.xlabel('Count of Movies Directed')\n",
    "plt.ylabel('Average Profit in Billions')\n",
    "plt.tight_layout()\n",
    "plt.show()\n"
   ]
  },
  {
   "cell_type": "markdown",
   "metadata": {},
   "source": [
    "The trend that the boxplot reflects is that directors that have directed 3 or more movies have always had an average profit that is positive. We can see that the minimum for 3 movies is always positive. \n",
    "\n",
    "The are many outliers for Directors with just one movie, and a few in those with 2 movies, but as we move to directing 3 or more we don't see as many outliers. Therefore, we can conclude that as these Directors worked on more movies, the factor of luck has been eliminated and they've continued to be profitable.\n",
    "\n",
    "Drawing from this trend, going forward we will look at the top 20 directors in terms of average profit that directed 3 or more movies."
   ]
  },
  {
   "cell_type": "code",
   "execution_count": 27,
   "metadata": {},
   "outputs": [
    {
     "data": {
      "text/html": [
       "<div>\n",
       "<style scoped>\n",
       "    .dataframe tbody tr th:only-of-type {\n",
       "        vertical-align: middle;\n",
       "    }\n",
       "\n",
       "    .dataframe tbody tr th {\n",
       "        vertical-align: top;\n",
       "    }\n",
       "\n",
       "    .dataframe thead th {\n",
       "        text-align: right;\n",
       "    }\n",
       "</style>\n",
       "<table border=\"1\" class=\"dataframe\">\n",
       "  <thead>\n",
       "    <tr style=\"text-align: right;\">\n",
       "      <th></th>\n",
       "      <th>director</th>\n",
       "      <th>movie</th>\n",
       "      <th>total_profit</th>\n",
       "      <th>avg_profit</th>\n",
       "    </tr>\n",
       "  </thead>\n",
       "  <tbody>\n",
       "    <tr>\n",
       "      <th>0</th>\n",
       "      <td>William Friedkin</td>\n",
       "      <td>4</td>\n",
       "      <td>2705957834</td>\n",
       "      <td>6.764895e+08</td>\n",
       "    </tr>\n",
       "    <tr>\n",
       "      <th>1</th>\n",
       "      <td>Steven Spielberg</td>\n",
       "      <td>10</td>\n",
       "      <td>1777836004</td>\n",
       "      <td>1.777836e+08</td>\n",
       "    </tr>\n",
       "    <tr>\n",
       "      <th>2</th>\n",
       "      <td>Clint Eastwood</td>\n",
       "      <td>8</td>\n",
       "      <td>1607570579</td>\n",
       "      <td>2.009463e+08</td>\n",
       "    </tr>\n",
       "    <tr>\n",
       "      <th>3</th>\n",
       "      <td>Woody Allen</td>\n",
       "      <td>4</td>\n",
       "      <td>1546517681</td>\n",
       "      <td>3.866294e+08</td>\n",
       "    </tr>\n",
       "    <tr>\n",
       "      <th>4</th>\n",
       "      <td>Yimou Zhang</td>\n",
       "      <td>4</td>\n",
       "      <td>1458132256</td>\n",
       "      <td>3.645331e+08</td>\n",
       "    </tr>\n",
       "    <tr>\n",
       "      <th>5</th>\n",
       "      <td>Barry Levinson</td>\n",
       "      <td>4</td>\n",
       "      <td>1435779099</td>\n",
       "      <td>3.589448e+08</td>\n",
       "    </tr>\n",
       "    <tr>\n",
       "      <th>6</th>\n",
       "      <td>Boris Sagal</td>\n",
       "      <td>3</td>\n",
       "      <td>1237332495</td>\n",
       "      <td>4.124442e+08</td>\n",
       "    </tr>\n",
       "    <tr>\n",
       "      <th>7</th>\n",
       "      <td>Jim Jarmusch</td>\n",
       "      <td>4</td>\n",
       "      <td>1050825592</td>\n",
       "      <td>2.627064e+08</td>\n",
       "    </tr>\n",
       "    <tr>\n",
       "      <th>8</th>\n",
       "      <td>Werner Herzog</td>\n",
       "      <td>3</td>\n",
       "      <td>911024954</td>\n",
       "      <td>3.036750e+08</td>\n",
       "    </tr>\n",
       "    <tr>\n",
       "      <th>9</th>\n",
       "      <td>Howard Hawks</td>\n",
       "      <td>3</td>\n",
       "      <td>909512843</td>\n",
       "      <td>3.031709e+08</td>\n",
       "    </tr>\n",
       "    <tr>\n",
       "      <th>10</th>\n",
       "      <td>Bruce Beresford</td>\n",
       "      <td>4</td>\n",
       "      <td>905154964</td>\n",
       "      <td>2.262887e+08</td>\n",
       "    </tr>\n",
       "    <tr>\n",
       "      <th>11</th>\n",
       "      <td>Anatole Litvak</td>\n",
       "      <td>3</td>\n",
       "      <td>851817812</td>\n",
       "      <td>2.839393e+08</td>\n",
       "    </tr>\n",
       "    <tr>\n",
       "      <th>12</th>\n",
       "      <td>Hong Sang-soo</td>\n",
       "      <td>3</td>\n",
       "      <td>798405830</td>\n",
       "      <td>2.661353e+08</td>\n",
       "    </tr>\n",
       "    <tr>\n",
       "      <th>13</th>\n",
       "      <td>Ridley Scott</td>\n",
       "      <td>4</td>\n",
       "      <td>719963861</td>\n",
       "      <td>1.799910e+08</td>\n",
       "    </tr>\n",
       "    <tr>\n",
       "      <th>14</th>\n",
       "      <td>John Frankenheimer</td>\n",
       "      <td>3</td>\n",
       "      <td>704291959</td>\n",
       "      <td>2.347640e+08</td>\n",
       "    </tr>\n",
       "    <tr>\n",
       "      <th>15</th>\n",
       "      <td>Hark Tsui</td>\n",
       "      <td>3</td>\n",
       "      <td>659235525</td>\n",
       "      <td>2.197452e+08</td>\n",
       "    </tr>\n",
       "    <tr>\n",
       "      <th>16</th>\n",
       "      <td>Ang Lee</td>\n",
       "      <td>3</td>\n",
       "      <td>622916667</td>\n",
       "      <td>2.076389e+08</td>\n",
       "    </tr>\n",
       "    <tr>\n",
       "      <th>17</th>\n",
       "      <td>John Landis</td>\n",
       "      <td>3</td>\n",
       "      <td>581449675</td>\n",
       "      <td>1.938166e+08</td>\n",
       "    </tr>\n",
       "    <tr>\n",
       "      <th>18</th>\n",
       "      <td>Curtis Hanson</td>\n",
       "      <td>4</td>\n",
       "      <td>549082973</td>\n",
       "      <td>1.372707e+08</td>\n",
       "    </tr>\n",
       "    <tr>\n",
       "      <th>19</th>\n",
       "      <td>Charles Walters</td>\n",
       "      <td>3</td>\n",
       "      <td>467879183</td>\n",
       "      <td>1.559597e+08</td>\n",
       "    </tr>\n",
       "  </tbody>\n",
       "</table>\n",
       "</div>"
      ],
      "text/plain": [
       "              director  movie  total_profit    avg_profit\n",
       "0     William Friedkin      4    2705957834  6.764895e+08\n",
       "1     Steven Spielberg     10    1777836004  1.777836e+08\n",
       "2       Clint Eastwood      8    1607570579  2.009463e+08\n",
       "3          Woody Allen      4    1546517681  3.866294e+08\n",
       "4          Yimou Zhang      4    1458132256  3.645331e+08\n",
       "5       Barry Levinson      4    1435779099  3.589448e+08\n",
       "6          Boris Sagal      3    1237332495  4.124442e+08\n",
       "7         Jim Jarmusch      4    1050825592  2.627064e+08\n",
       "8        Werner Herzog      3     911024954  3.036750e+08\n",
       "9         Howard Hawks      3     909512843  3.031709e+08\n",
       "10     Bruce Beresford      4     905154964  2.262887e+08\n",
       "11      Anatole Litvak      3     851817812  2.839393e+08\n",
       "12       Hong Sang-soo      3     798405830  2.661353e+08\n",
       "13        Ridley Scott      4     719963861  1.799910e+08\n",
       "14  John Frankenheimer      3     704291959  2.347640e+08\n",
       "15           Hark Tsui      3     659235525  2.197452e+08\n",
       "16             Ang Lee      3     622916667  2.076389e+08\n",
       "17         John Landis      3     581449675  1.938166e+08\n",
       "18       Curtis Hanson      4     549082973  1.372707e+08\n",
       "19     Charles Walters      3     467879183  1.559597e+08"
      ]
     },
     "execution_count": 27,
     "metadata": {},
     "output_type": "execute_result"
    }
   ],
   "source": [
    "#Getting the top 20 directors that directed 3 or more movies\n",
    "three_plus_movies = top_directors[(top_directors['movie'] >= 3)].head(20)\n",
    "three_plus_movies = three_plus_movies.reset_index()\n",
    "three_plus_movies"
   ]
  },
  {
   "cell_type": "code",
   "execution_count": 28,
   "metadata": {},
   "outputs": [
    {
     "data": {
      "image/png": "[encoded data removed]",
      "text/plain": [
       "<Figure size 864x576 with 1 Axes>"
      ]
     },
     "metadata": {
      "needs_background": "light"
     },
     "output_type": "display_data"
    }
   ],
   "source": [
    "#now let's visualize the results\n",
    "fig, ax = plt.subplots(figsize=(12, 8))\n",
    "sns.barplot(x = three_plus_movies['director'], y = three_plus_movies['avg_profit'], order= three_plus_movies.sort_values('avg_profit',ascending = False).director, palette=\"crest\")\n",
    "plt.xticks(rotation=60)\n",
    "plt.xlabel(None)\n",
    "plt.ylabel('Average Profit in 100 Million')\n",
    "plt.title('Top 20 Directors with Three or More Movies in terms of Average Profit', fontsize=14)\n",
    "plt.show();"
   ]
  },
  {
   "cell_type": "markdown",
   "metadata": {},
   "source": [
    "This barplot displays the top 20 directors in terms of average profit that have directed 3 or more movies. Drawing from this, if Computing Vision has the budget they could potentially hire one of these directors, or they can look into their work and get inspired by it."
   ]
  },
  {
   "cell_type": "markdown",
   "metadata": {},
   "source": [
    "#### Conclusion / Suggestion"
   ]
  },
  {
   "cell_type": "markdown",
   "metadata": {},
   "source": [
    "In the context of this project an experienced director is defined as a director that has directed three or more movies.\n",
    "\n",
    "Since Computing Vision is a new studio that is just starting in the movie industry, we ***recommend*** that they hire an experienced director that has experience directing three or more movies since our analysis showed that it is likely for these directors to continue being profitable on the 4th movie. \n",
    "\n",
    "According to our analysis, experienced directors always resulted in positive average profit. While directors with less than 3 movies can also be profitable, however, going through a risk averse route and eliminating the factor of luck from success, experienced directors have proved to be profitable on the third movie and on."
   ]
  },
  {
   "cell_type": "markdown",
   "metadata": {},
   "source": [
    "#### What limitations are there?"
   ]
  },
  {
   "cell_type": "markdown",
   "metadata": {},
   "source": [
    "One limitation that could be pointed out could be that there is a survival bias in the research, in which survival bias is defined as a type of sampling error or selection bias that occurs when the selection process of a trial favours certain individuals who made it past a certain obstacle or point in time and ignores the individuals who did not. In our case it would be selecting Directors with three or movies, and ignoring the ones with less experience. However, we concluded that for a new studio it is preferable that on their first projects that they take a route that is proven to be successful and taking less risks and that is by hiring an experienced director to direct their movies. \n",
    "\n",
    "Another limitation is in the case of trying to recommend to hire one of the top 20 Directors in terms of their average profit and their expertise, a limitation was that some of the top 20 directors are in fact deceased. Deceased Directors: Boris Karloff, Howard Hawks, Anatole Litvak, John Frankenheimer, Charles Walters, Curtis Hanson.\n",
    "\n",
    "However, in light of this limitation, a business suggestion here would be to look into these directors' work and potentially acquiring the rights to their work if possible and generate profit off of that."
   ]
  },
  {
   "cell_type": "markdown",
   "metadata": {},
   "source": [
    "## LEO\n",
    "### Day of Release as a Predictor of Revenue\n",
    "### Project Goals, Data, Methods, and Results:\n",
    "In this notebook you will find my data cleaning, organiztion, and results for the Capstone Project.\n",
    "\n",
    "In essence we like to keep things as straight forward as possiable. Our goal here is to demostrate that we understand the data and that we are confident in making relevant connections. \n",
    "\n",
    "We decided that a simple and very relevant business recommendation is what day of the week a movie should be released. Why is this important? Money, more specifically when it comes to box office sales/revenue. \n",
    "\n",
    "When it comes to products, be it a pair of shoes, watch, or in this case a Movie, We want to release these products on the day that yields the most money. \n",
    "\n",
    "Therefore, based on this goal we will go through the data and search for the desired day of the week that shows most box office sales. Very simple and straight forward. "
   ]
  },
  {
   "cell_type": "code",
   "execution_count": null,
   "metadata": {},
   "outputs": [],
   "source": [
    "# starting with significant imports \n",
    "import pandas as pd\n",
    "from pandas import Series, DataFrame\n",
    "import numpy as np\n",
    "import datetime \n",
    "\n",
    "import matplotlib\n",
    "import matplotlib.pyplot as plt\n",
    "from matplotlib.colors import ListedColormap\n",
    "%matplotlib inline\n",
    "\n",
    "import scipy.stats\n",
    "import scipy.optimize\n",
    "import scipy.spatial\n",
    "from IPython import display\n",
    "from ipywidgets import interact, widgets\n",
    "\n",
    "import re\n",
    "import mailbox\n",
    "import csv\n",
    "import seaborn as sns\n",
    "\n",
    "import statsmodels\n",
    "import statsmodels.api as sm\n",
    "import statsmodels.formula.api as smf\n",
    "\n",
    "import warnings\n",
    "warnings.filterwarnings(action = 'ignore', category = FutureWarning)"
   ]
  },
  {
   "cell_type": "markdown",
   "metadata": {},
   "source": [
    "#### Datasets and cleaning"
   ]
  },
  {
   "cell_type": "code",
   "execution_count": 5,
   "metadata": {},
   "outputs": [
    {
     "data": {
      "text/html": [
       "<div>\n",
       "<style scoped>\n",
       "    .dataframe tbody tr th:only-of-type {\n",
       "        vertical-align: middle;\n",
       "    }\n",
       "\n",
       "    .dataframe tbody tr th {\n",
       "        vertical-align: top;\n",
       "    }\n",
       "\n",
       "    .dataframe thead th {\n",
       "        text-align: right;\n",
       "    }\n",
       "</style>\n",
       "<table border=\"1\" class=\"dataframe\">\n",
       "  <thead>\n",
       "    <tr style=\"text-align: right;\">\n",
       "      <th></th>\n",
       "      <th>id</th>\n",
       "      <th>synopsis</th>\n",
       "      <th>rating</th>\n",
       "      <th>genre</th>\n",
       "      <th>director</th>\n",
       "      <th>writer</th>\n",
       "      <th>theater_date</th>\n",
       "      <th>dvd_date</th>\n",
       "      <th>currency</th>\n",
       "      <th>box_office</th>\n",
       "      <th>runtime</th>\n",
       "      <th>studio</th>\n",
       "    </tr>\n",
       "  </thead>\n",
       "  <tbody>\n",
       "    <tr>\n",
       "      <th>0</th>\n",
       "      <td>1</td>\n",
       "      <td>This gritty, fast-paced, and innovative police...</td>\n",
       "      <td>R</td>\n",
       "      <td>Action and Adventure|Classics|Drama</td>\n",
       "      <td>William Friedkin</td>\n",
       "      <td>Ernest Tidyman</td>\n",
       "      <td>Oct 9, 1971</td>\n",
       "      <td>Sep 25, 2001</td>\n",
       "      <td>NaN</td>\n",
       "      <td>NaN</td>\n",
       "      <td>104 minutes</td>\n",
       "      <td>NaN</td>\n",
       "    </tr>\n",
       "    <tr>\n",
       "      <th>1</th>\n",
       "      <td>3</td>\n",
       "      <td>New York City, not-too-distant-future: Eric Pa...</td>\n",
       "      <td>R</td>\n",
       "      <td>Drama|Science Fiction and Fantasy</td>\n",
       "      <td>David Cronenberg</td>\n",
       "      <td>David Cronenberg|Don DeLillo</td>\n",
       "      <td>Aug 17, 2012</td>\n",
       "      <td>Jan 1, 2013</td>\n",
       "      <td>$</td>\n",
       "      <td>600,000</td>\n",
       "      <td>108 minutes</td>\n",
       "      <td>Entertainment One</td>\n",
       "    </tr>\n",
       "    <tr>\n",
       "      <th>2</th>\n",
       "      <td>5</td>\n",
       "      <td>Illeana Douglas delivers a superb performance ...</td>\n",
       "      <td>R</td>\n",
       "      <td>Drama|Musical and Performing Arts</td>\n",
       "      <td>Allison Anders</td>\n",
       "      <td>Allison Anders</td>\n",
       "      <td>Sep 13, 1996</td>\n",
       "      <td>Apr 18, 2000</td>\n",
       "      <td>NaN</td>\n",
       "      <td>NaN</td>\n",
       "      <td>116 minutes</td>\n",
       "      <td>NaN</td>\n",
       "    </tr>\n",
       "    <tr>\n",
       "      <th>3</th>\n",
       "      <td>6</td>\n",
       "      <td>Michael Douglas runs afoul of a treacherous su...</td>\n",
       "      <td>R</td>\n",
       "      <td>Drama|Mystery and Suspense</td>\n",
       "      <td>Barry Levinson</td>\n",
       "      <td>Paul Attanasio|Michael Crichton</td>\n",
       "      <td>Dec 9, 1994</td>\n",
       "      <td>Aug 27, 1997</td>\n",
       "      <td>NaN</td>\n",
       "      <td>NaN</td>\n",
       "      <td>128 minutes</td>\n",
       "      <td>NaN</td>\n",
       "    </tr>\n",
       "    <tr>\n",
       "      <th>4</th>\n",
       "      <td>7</td>\n",
       "      <td>NaN</td>\n",
       "      <td>NR</td>\n",
       "      <td>Drama|Romance</td>\n",
       "      <td>Rodney Bennett</td>\n",
       "      <td>Giles Cooper</td>\n",
       "      <td>NaN</td>\n",
       "      <td>NaN</td>\n",
       "      <td>NaN</td>\n",
       "      <td>NaN</td>\n",
       "      <td>200 minutes</td>\n",
       "      <td>NaN</td>\n",
       "    </tr>\n",
       "    <tr>\n",
       "      <th>5</th>\n",
       "      <td>8</td>\n",
       "      <td>The year is 1942. As the Allies unite overseas...</td>\n",
       "      <td>PG</td>\n",
       "      <td>Drama|Kids and Family</td>\n",
       "      <td>Jay Russell</td>\n",
       "      <td>Gail Gilchriest</td>\n",
       "      <td>Mar 3, 2000</td>\n",
       "      <td>Jul 11, 2000</td>\n",
       "      <td>NaN</td>\n",
       "      <td>NaN</td>\n",
       "      <td>95 minutes</td>\n",
       "      <td>Warner Bros. Pictures</td>\n",
       "    </tr>\n",
       "    <tr>\n",
       "      <th>6</th>\n",
       "      <td>10</td>\n",
       "      <td>Some cast and crew from NBC's highly acclaimed...</td>\n",
       "      <td>PG-13</td>\n",
       "      <td>Comedy</td>\n",
       "      <td>Jake Kasdan</td>\n",
       "      <td>Mike White</td>\n",
       "      <td>Jan 11, 2002</td>\n",
       "      <td>Jun 18, 2002</td>\n",
       "      <td>$</td>\n",
       "      <td>41,032,915</td>\n",
       "      <td>82 minutes</td>\n",
       "      <td>Paramount Pictures</td>\n",
       "    </tr>\n",
       "    <tr>\n",
       "      <th>7</th>\n",
       "      <td>13</td>\n",
       "      <td>Stewart Kane, an Irishman living in the Austra...</td>\n",
       "      <td>R</td>\n",
       "      <td>Drama</td>\n",
       "      <td>Ray Lawrence</td>\n",
       "      <td>Raymond Carver|Beatrix Christian</td>\n",
       "      <td>Apr 27, 2006</td>\n",
       "      <td>Oct 2, 2007</td>\n",
       "      <td>$</td>\n",
       "      <td>224,114</td>\n",
       "      <td>123 minutes</td>\n",
       "      <td>Sony Pictures Classics</td>\n",
       "    </tr>\n",
       "    <tr>\n",
       "      <th>8</th>\n",
       "      <td>14</td>\n",
       "      <td>\"Love Ranch\" is a bittersweet love story that ...</td>\n",
       "      <td>R</td>\n",
       "      <td>Drama</td>\n",
       "      <td>Taylor Hackford</td>\n",
       "      <td>Mark Jacobson</td>\n",
       "      <td>Jun 30, 2010</td>\n",
       "      <td>Nov 9, 2010</td>\n",
       "      <td>$</td>\n",
       "      <td>134,904</td>\n",
       "      <td>117 minutes</td>\n",
       "      <td>NaN</td>\n",
       "    </tr>\n",
       "    <tr>\n",
       "      <th>9</th>\n",
       "      <td>15</td>\n",
       "      <td>When a diamond expedition in the Congo is lost...</td>\n",
       "      <td>PG-13</td>\n",
       "      <td>Action and Adventure|Mystery and Suspense|Scie...</td>\n",
       "      <td>Frank Marshall</td>\n",
       "      <td>John Patrick Shanley</td>\n",
       "      <td>Jun 9, 1995</td>\n",
       "      <td>Jul 27, 1999</td>\n",
       "      <td>NaN</td>\n",
       "      <td>NaN</td>\n",
       "      <td>108 minutes</td>\n",
       "      <td>NaN</td>\n",
       "    </tr>\n",
       "  </tbody>\n",
       "</table>\n",
       "</div>"
      ],
      "text/plain": [
       "   id                                           synopsis rating  \\\n",
       "0   1  This gritty, fast-paced, and innovative police...      R   \n",
       "1   3  New York City, not-too-distant-future: Eric Pa...      R   \n",
       "2   5  Illeana Douglas delivers a superb performance ...      R   \n",
       "3   6  Michael Douglas runs afoul of a treacherous su...      R   \n",
       "4   7                                                NaN     NR   \n",
       "5   8  The year is 1942. As the Allies unite overseas...     PG   \n",
       "6  10  Some cast and crew from NBC's highly acclaimed...  PG-13   \n",
       "7  13  Stewart Kane, an Irishman living in the Austra...      R   \n",
       "8  14  \"Love Ranch\" is a bittersweet love story that ...      R   \n",
       "9  15  When a diamond expedition in the Congo is lost...  PG-13   \n",
       "\n",
       "                                               genre          director  \\\n",
       "0                Action and Adventure|Classics|Drama  William Friedkin   \n",
       "1                  Drama|Science Fiction and Fantasy  David Cronenberg   \n",
       "2                  Drama|Musical and Performing Arts    Allison Anders   \n",
       "3                         Drama|Mystery and Suspense    Barry Levinson   \n",
       "4                                      Drama|Romance    Rodney Bennett   \n",
       "5                              Drama|Kids and Family       Jay Russell   \n",
       "6                                             Comedy       Jake Kasdan   \n",
       "7                                              Drama      Ray Lawrence   \n",
       "8                                              Drama   Taylor Hackford   \n",
       "9  Action and Adventure|Mystery and Suspense|Scie...    Frank Marshall   \n",
       "\n",
       "                             writer  theater_date      dvd_date currency  \\\n",
       "0                    Ernest Tidyman   Oct 9, 1971  Sep 25, 2001      NaN   \n",
       "1      David Cronenberg|Don DeLillo  Aug 17, 2012   Jan 1, 2013        $   \n",
       "2                    Allison Anders  Sep 13, 1996  Apr 18, 2000      NaN   \n",
       "3   Paul Attanasio|Michael Crichton   Dec 9, 1994  Aug 27, 1997      NaN   \n",
       "4                      Giles Cooper           NaN           NaN      NaN   \n",
       "5                   Gail Gilchriest   Mar 3, 2000  Jul 11, 2000      NaN   \n",
       "6                        Mike White  Jan 11, 2002  Jun 18, 2002        $   \n",
       "7  Raymond Carver|Beatrix Christian  Apr 27, 2006   Oct 2, 2007        $   \n",
       "8                     Mark Jacobson  Jun 30, 2010   Nov 9, 2010        $   \n",
       "9              John Patrick Shanley   Jun 9, 1995  Jul 27, 1999      NaN   \n",
       "\n",
       "   box_office      runtime                  studio  \n",
       "0         NaN  104 minutes                     NaN  \n",
       "1     600,000  108 minutes       Entertainment One  \n",
       "2         NaN  116 minutes                     NaN  \n",
       "3         NaN  128 minutes                     NaN  \n",
       "4         NaN  200 minutes                     NaN  \n",
       "5         NaN   95 minutes   Warner Bros. Pictures  \n",
       "6  41,032,915   82 minutes      Paramount Pictures  \n",
       "7     224,114  123 minutes  Sony Pictures Classics  \n",
       "8     134,904  117 minutes                     NaN  \n",
       "9         NaN  108 minutes                     NaN  "
      ]
     },
     "execution_count": 5,
     "metadata": {},
     "output_type": "execute_result"
    }
   ],
   "source": [
    "# Load data\n",
    "movie_info = pd.read_csv('../data/rt.movie_info.tsv', sep=\"\\t\")\n",
    "movie_info.head(10)"
   ]
  },
  {
   "cell_type": "code",
   "execution_count": 6,
   "metadata": {},
   "outputs": [
    {
     "name": "stdout",
     "output_type": "stream",
     "text": [
      "<class 'pandas.core.frame.DataFrame'>\n",
      "RangeIndex: 1560 entries, 0 to 1559\n",
      "Data columns (total 12 columns):\n",
      " #   Column        Non-Null Count  Dtype \n",
      "---  ------        --------------  ----- \n",
      " 0   id            1560 non-null   int64 \n",
      " 1   synopsis      1498 non-null   object\n",
      " 2   rating        1557 non-null   object\n",
      " 3   genre         1552 non-null   object\n",
      " 4   director      1361 non-null   object\n",
      " 5   writer        1111 non-null   object\n",
      " 6   theater_date  1201 non-null   object\n",
      " 7   dvd_date      1201 non-null   object\n",
      " 8   currency      340 non-null    object\n",
      " 9   box_office    340 non-null    object\n",
      " 10  runtime       1530 non-null   object\n",
      " 11  studio        494 non-null    object\n",
      "dtypes: int64(1), object(11)\n",
      "memory usage: 146.4+ KB\n"
     ]
    }
   ],
   "source": [
    "# Basic info in the data\n",
    "movie_info.info()"
   ]
  },
  {
   "cell_type": "code",
   "execution_count": 7,
   "metadata": {},
   "outputs": [],
   "source": [
    "# making the box office data type a float and getting rid of the commas\n",
    "movie_info['box_office'] = pd.to_numeric(movie_info['box_office'].str.replace(',', ''))"
   ]
  },
  {
   "cell_type": "code",
   "execution_count": 10,
   "metadata": {},
   "outputs": [],
   "source": [
    "# turning the theater_date column into a datetime object\n",
    "movie_info['theater_date'] = pd.to_datetime(movie_info['theater_date'], format='%b %d, %Y')"
   ]
  },
  {
   "cell_type": "code",
   "execution_count": 11,
   "metadata": {},
   "outputs": [
    {
     "data": {
      "text/html": [
       "<div>\n",
       "<style scoped>\n",
       "    .dataframe tbody tr th:only-of-type {\n",
       "        vertical-align: middle;\n",
       "    }\n",
       "\n",
       "    .dataframe tbody tr th {\n",
       "        vertical-align: top;\n",
       "    }\n",
       "\n",
       "    .dataframe thead th {\n",
       "        text-align: right;\n",
       "    }\n",
       "</style>\n",
       "<table border=\"1\" class=\"dataframe\">\n",
       "  <thead>\n",
       "    <tr style=\"text-align: right;\">\n",
       "      <th></th>\n",
       "      <th>id</th>\n",
       "      <th>synopsis</th>\n",
       "      <th>rating</th>\n",
       "      <th>genre</th>\n",
       "      <th>director</th>\n",
       "      <th>writer</th>\n",
       "      <th>theater_date</th>\n",
       "      <th>dvd_date</th>\n",
       "      <th>currency</th>\n",
       "      <th>box_office</th>\n",
       "      <th>runtime</th>\n",
       "      <th>studio</th>\n",
       "    </tr>\n",
       "  </thead>\n",
       "  <tbody>\n",
       "    <tr>\n",
       "      <th>0</th>\n",
       "      <td>1</td>\n",
       "      <td>This gritty, fast-paced, and innovative police...</td>\n",
       "      <td>R</td>\n",
       "      <td>Action and Adventure|Classics|Drama</td>\n",
       "      <td>William Friedkin</td>\n",
       "      <td>Ernest Tidyman</td>\n",
       "      <td>1971-10-09</td>\n",
       "      <td>Sep 25, 2001</td>\n",
       "      <td>NaN</td>\n",
       "      <td>NaN</td>\n",
       "      <td>104 minutes</td>\n",
       "      <td>NaN</td>\n",
       "    </tr>\n",
       "    <tr>\n",
       "      <th>1</th>\n",
       "      <td>3</td>\n",
       "      <td>New York City, not-too-distant-future: Eric Pa...</td>\n",
       "      <td>R</td>\n",
       "      <td>Drama|Science Fiction and Fantasy</td>\n",
       "      <td>David Cronenberg</td>\n",
       "      <td>David Cronenberg|Don DeLillo</td>\n",
       "      <td>2012-08-17</td>\n",
       "      <td>Jan 1, 2013</td>\n",
       "      <td>$</td>\n",
       "      <td>600000.0</td>\n",
       "      <td>108 minutes</td>\n",
       "      <td>Entertainment One</td>\n",
       "    </tr>\n",
       "    <tr>\n",
       "      <th>2</th>\n",
       "      <td>5</td>\n",
       "      <td>Illeana Douglas delivers a superb performance ...</td>\n",
       "      <td>R</td>\n",
       "      <td>Drama|Musical and Performing Arts</td>\n",
       "      <td>Allison Anders</td>\n",
       "      <td>Allison Anders</td>\n",
       "      <td>1996-09-13</td>\n",
       "      <td>Apr 18, 2000</td>\n",
       "      <td>NaN</td>\n",
       "      <td>NaN</td>\n",
       "      <td>116 minutes</td>\n",
       "      <td>NaN</td>\n",
       "    </tr>\n",
       "    <tr>\n",
       "      <th>3</th>\n",
       "      <td>6</td>\n",
       "      <td>Michael Douglas runs afoul of a treacherous su...</td>\n",
       "      <td>R</td>\n",
       "      <td>Drama|Mystery and Suspense</td>\n",
       "      <td>Barry Levinson</td>\n",
       "      <td>Paul Attanasio|Michael Crichton</td>\n",
       "      <td>1994-12-09</td>\n",
       "      <td>Aug 27, 1997</td>\n",
       "      <td>NaN</td>\n",
       "      <td>NaN</td>\n",
       "      <td>128 minutes</td>\n",
       "      <td>NaN</td>\n",
       "    </tr>\n",
       "    <tr>\n",
       "      <th>4</th>\n",
       "      <td>7</td>\n",
       "      <td>NaN</td>\n",
       "      <td>NR</td>\n",
       "      <td>Drama|Romance</td>\n",
       "      <td>Rodney Bennett</td>\n",
       "      <td>Giles Cooper</td>\n",
       "      <td>NaT</td>\n",
       "      <td>NaN</td>\n",
       "      <td>NaN</td>\n",
       "      <td>NaN</td>\n",
       "      <td>200 minutes</td>\n",
       "      <td>NaN</td>\n",
       "    </tr>\n",
       "  </tbody>\n",
       "</table>\n",
       "</div>"
      ],
      "text/plain": [
       "   id                                           synopsis rating  \\\n",
       "0   1  This gritty, fast-paced, and innovative police...      R   \n",
       "1   3  New York City, not-too-distant-future: Eric Pa...      R   \n",
       "2   5  Illeana Douglas delivers a superb performance ...      R   \n",
       "3   6  Michael Douglas runs afoul of a treacherous su...      R   \n",
       "4   7                                                NaN     NR   \n",
       "\n",
       "                                 genre          director  \\\n",
       "0  Action and Adventure|Classics|Drama  William Friedkin   \n",
       "1    Drama|Science Fiction and Fantasy  David Cronenberg   \n",
       "2    Drama|Musical and Performing Arts    Allison Anders   \n",
       "3           Drama|Mystery and Suspense    Barry Levinson   \n",
       "4                        Drama|Romance    Rodney Bennett   \n",
       "\n",
       "                            writer theater_date      dvd_date currency  \\\n",
       "0                   Ernest Tidyman   1971-10-09  Sep 25, 2001      NaN   \n",
       "1     David Cronenberg|Don DeLillo   2012-08-17   Jan 1, 2013        $   \n",
       "2                   Allison Anders   1996-09-13  Apr 18, 2000      NaN   \n",
       "3  Paul Attanasio|Michael Crichton   1994-12-09  Aug 27, 1997      NaN   \n",
       "4                     Giles Cooper          NaT           NaN      NaN   \n",
       "\n",
       "   box_office      runtime             studio  \n",
       "0         NaN  104 minutes                NaN  \n",
       "1    600000.0  108 minutes  Entertainment One  \n",
       "2         NaN  116 minutes                NaN  \n",
       "3         NaN  128 minutes                NaN  \n",
       "4         NaN  200 minutes                NaN  "
      ]
     },
     "execution_count": 11,
     "metadata": {},
     "output_type": "execute_result"
    }
   ],
   "source": [
    "# making sure that the datetime changed\n",
    "movie_info.head()"
   ]
  },
  {
   "cell_type": "code",
   "execution_count": 14,
   "metadata": {},
   "outputs": [],
   "source": [
    "# now we can create another column so that we can refrence what day the movies came out.\n",
    "# we can simply make a column with these days\n",
    "movie_info['day_of_week'] = movie_info['theater_date'].dt.day_name()"
   ]
  },
  {
   "cell_type": "code",
   "execution_count": 16,
   "metadata": {},
   "outputs": [
    {
     "data": {
      "text/plain": [
       "Friday       702\n",
       "Wednesday    169\n",
       "Thursday      95\n",
       "Saturday      76\n",
       "Monday        60\n",
       "Tuesday       53\n",
       "Sunday        46\n",
       "Name: day_of_week, dtype: int64"
      ]
     },
     "execution_count": 16,
     "metadata": {},
     "output_type": "execute_result"
    }
   ],
   "source": [
    "# here we want to see the value count for each day.\n",
    "# this will give us a picture of what days have a high count\n",
    "movie_info['day_of_week'].value_counts()"
   ]
  },
  {
   "cell_type": "code",
   "execution_count": 17,
   "metadata": {},
   "outputs": [],
   "source": [
    "# dropping null values in te box office column\n",
    "movie_info = movie_info.dropna(subset=['box_office'])"
   ]
  },
  {
   "cell_type": "code",
   "execution_count": 18,
   "metadata": {},
   "outputs": [
    {
     "data": {
      "text/plain": [
       "0"
      ]
     },
     "execution_count": 18,
     "metadata": {},
     "output_type": "execute_result"
    }
   ],
   "source": [
    "# making sure the nulls are gone\n",
    "movie_info['box_office'].isnull().sum()"
   ]
  },
  {
   "cell_type": "code",
   "execution_count": 19,
   "metadata": {},
   "outputs": [],
   "source": [
    "# starting a new dataframe with the columns we want to further inspect\n",
    "new_subset = movie_info[['theater_date', 'box_office', 'day_of_week']]"
   ]
  },
  {
   "cell_type": "code",
   "execution_count": 20,
   "metadata": {},
   "outputs": [],
   "source": [
    "# resetting the index\n",
    "new_subset.reset_index(drop=True, inplace=True)"
   ]
  },
  {
   "cell_type": "code",
   "execution_count": 22,
   "metadata": {},
   "outputs": [
    {
     "data": {
      "text/plain": [
       "theater_date    6\n",
       "box_office      0\n",
       "day_of_week     6\n",
       "dtype: int64"
      ]
     },
     "execution_count": 22,
     "metadata": {},
     "output_type": "execute_result"
    }
   ],
   "source": [
    "# inspecting the null values that i have.\n",
    "new_subset.isnull().sum()"
   ]
  },
  {
   "cell_type": "code",
   "execution_count": 23,
   "metadata": {},
   "outputs": [],
   "source": [
    "# dropping nulls\n",
    "new_subset = new_subset.dropna(subset=['theater_date'])"
   ]
  },
  {
   "cell_type": "code",
   "execution_count": 24,
   "metadata": {},
   "outputs": [],
   "source": [
    "new_subset = new_subset.dropna(subset=['day_of_week'])"
   ]
  },
  {
   "cell_type": "code",
   "execution_count": 26,
   "metadata": {},
   "outputs": [],
   "source": [
    "# making a new dataframe with the desired columns for further analysis.\n",
    "# also sorted them.\n",
    "final_subset = new_subset[['theater_date', 'box_office', 'day_of_week']]\n",
    "final_subset.sort_values(['box_office', 'day_of_week'], inplace=True)"
   ]
  },
  {
   "cell_type": "code",
   "execution_count": 33,
   "metadata": {},
   "outputs": [
    {
     "name": "stdout",
     "output_type": "stream",
     "text": [
      "<class 'pandas.core.frame.DataFrame'>\n",
      "Int64Index: 331 entries, 205 to 169\n",
      "Data columns (total 2 columns):\n",
      " #   Column       Non-Null Count  Dtype  \n",
      "---  ------       --------------  -----  \n",
      " 0   day_of_week  331 non-null    object \n",
      " 1   box_office   331 non-null    float64\n",
      "dtypes: float64(1), object(1)\n",
      "memory usage: 7.8+ KB\n"
     ]
    }
   ],
   "source": [
    "# a way to remove this redundancy is to create a separate table with days data and linking it to the box office using-\n",
    "# an index. this is called data normalization.\n",
    "days = final_subset[['day_of_week', 'box_office']].drop_duplicates()\n",
    "days.info()"
   ]
  },
  {
   "cell_type": "code",
   "execution_count": 35,
   "metadata": {},
   "outputs": [
    {
     "data": {
      "text/html": [
       "<div>\n",
       "<style scoped>\n",
       "    .dataframe tbody tr th:only-of-type {\n",
       "        vertical-align: middle;\n",
       "    }\n",
       "\n",
       "    .dataframe tbody tr th {\n",
       "        vertical-align: top;\n",
       "    }\n",
       "\n",
       "    .dataframe thead th {\n",
       "        text-align: right;\n",
       "    }\n",
       "</style>\n",
       "<table border=\"1\" class=\"dataframe\">\n",
       "  <thead>\n",
       "    <tr style=\"text-align: right;\">\n",
       "      <th></th>\n",
       "      <th>id</th>\n",
       "      <th>day_of_week</th>\n",
       "      <th>box_office</th>\n",
       "    </tr>\n",
       "  </thead>\n",
       "  <tbody>\n",
       "    <tr>\n",
       "      <th>0</th>\n",
       "      <td>205</td>\n",
       "      <td>Friday</td>\n",
       "      <td>363.0</td>\n",
       "    </tr>\n",
       "    <tr>\n",
       "      <th>1</th>\n",
       "      <td>76</td>\n",
       "      <td>Friday</td>\n",
       "      <td>2367.0</td>\n",
       "    </tr>\n",
       "    <tr>\n",
       "      <th>2</th>\n",
       "      <td>145</td>\n",
       "      <td>Friday</td>\n",
       "      <td>3328.0</td>\n",
       "    </tr>\n",
       "    <tr>\n",
       "      <th>3</th>\n",
       "      <td>143</td>\n",
       "      <td>Wednesday</td>\n",
       "      <td>8300.0</td>\n",
       "    </tr>\n",
       "    <tr>\n",
       "      <th>4</th>\n",
       "      <td>278</td>\n",
       "      <td>Friday</td>\n",
       "      <td>8856.0</td>\n",
       "    </tr>\n",
       "    <tr>\n",
       "      <th>5</th>\n",
       "      <td>298</td>\n",
       "      <td>Friday</td>\n",
       "      <td>16632.0</td>\n",
       "    </tr>\n",
       "    <tr>\n",
       "      <th>6</th>\n",
       "      <td>101</td>\n",
       "      <td>Friday</td>\n",
       "      <td>22099.0</td>\n",
       "    </tr>\n",
       "    <tr>\n",
       "      <th>7</th>\n",
       "      <td>137</td>\n",
       "      <td>Wednesday</td>\n",
       "      <td>25658.0</td>\n",
       "    </tr>\n",
       "    <tr>\n",
       "      <th>8</th>\n",
       "      <td>180</td>\n",
       "      <td>Friday</td>\n",
       "      <td>35966.0</td>\n",
       "    </tr>\n",
       "    <tr>\n",
       "      <th>9</th>\n",
       "      <td>127</td>\n",
       "      <td>Friday</td>\n",
       "      <td>39712.0</td>\n",
       "    </tr>\n",
       "    <tr>\n",
       "      <th>10</th>\n",
       "      <td>337</td>\n",
       "      <td>Friday</td>\n",
       "      <td>59371.0</td>\n",
       "    </tr>\n",
       "    <tr>\n",
       "      <th>11</th>\n",
       "      <td>208</td>\n",
       "      <td>Friday</td>\n",
       "      <td>63595.0</td>\n",
       "    </tr>\n",
       "    <tr>\n",
       "      <th>12</th>\n",
       "      <td>320</td>\n",
       "      <td>Friday</td>\n",
       "      <td>72413.0</td>\n",
       "    </tr>\n",
       "    <tr>\n",
       "      <th>13</th>\n",
       "      <td>38</td>\n",
       "      <td>Friday</td>\n",
       "      <td>84293.0</td>\n",
       "    </tr>\n",
       "    <tr>\n",
       "      <th>14</th>\n",
       "      <td>285</td>\n",
       "      <td>Friday</td>\n",
       "      <td>101368.0</td>\n",
       "    </tr>\n",
       "  </tbody>\n",
       "</table>\n",
       "</div>"
      ],
      "text/plain": [
       "     id day_of_week  box_office\n",
       "0   205      Friday       363.0\n",
       "1    76      Friday      2367.0\n",
       "2   145      Friday      3328.0\n",
       "3   143   Wednesday      8300.0\n",
       "4   278      Friday      8856.0\n",
       "5   298      Friday     16632.0\n",
       "6   101      Friday     22099.0\n",
       "7   137   Wednesday     25658.0\n",
       "8   180      Friday     35966.0\n",
       "9   127      Friday     39712.0\n",
       "10  337      Friday     59371.0\n",
       "11  208      Friday     63595.0\n",
       "12  320      Friday     72413.0\n",
       "13   38      Friday     84293.0\n",
       "14  285      Friday    101368.0"
      ]
     },
     "execution_count": 35,
     "metadata": {},
     "output_type": "execute_result"
    }
   ],
   "source": [
    "# since the index is unique we need to carry it explicitly as a column.\n",
    "# we will reset the index and rename it id\n",
    "days.index.name = 'id'\n",
    "my_id = days.reset_index()\n",
    "my_id.head()"
   ]
  },
  {
   "cell_type": "code",
   "execution_count": 36,
   "metadata": {},
   "outputs": [
    {
     "data": {
      "text/html": [
       "<div>\n",
       "<style scoped>\n",
       "    .dataframe tbody tr th:only-of-type {\n",
       "        vertical-align: middle;\n",
       "    }\n",
       "\n",
       "    .dataframe tbody tr th {\n",
       "        vertical-align: top;\n",
       "    }\n",
       "\n",
       "    .dataframe thead th {\n",
       "        text-align: right;\n",
       "    }\n",
       "</style>\n",
       "<table border=\"1\" class=\"dataframe\">\n",
       "  <thead>\n",
       "    <tr style=\"text-align: right;\">\n",
       "      <th></th>\n",
       "      <th>id</th>\n",
       "      <th>day_of_week</th>\n",
       "      <th>box_office</th>\n",
       "    </tr>\n",
       "  </thead>\n",
       "  <tbody>\n",
       "    <tr>\n",
       "      <th>0</th>\n",
       "      <td>205</td>\n",
       "      <td>Friday</td>\n",
       "      <td>363.0</td>\n",
       "    </tr>\n",
       "    <tr>\n",
       "      <th>1</th>\n",
       "      <td>76</td>\n",
       "      <td>Friday</td>\n",
       "      <td>2367.0</td>\n",
       "    </tr>\n",
       "    <tr>\n",
       "      <th>2</th>\n",
       "      <td>145</td>\n",
       "      <td>Friday</td>\n",
       "      <td>3328.0</td>\n",
       "    </tr>\n",
       "    <tr>\n",
       "      <th>3</th>\n",
       "      <td>143</td>\n",
       "      <td>Wednesday</td>\n",
       "      <td>8300.0</td>\n",
       "    </tr>\n",
       "    <tr>\n",
       "      <th>4</th>\n",
       "      <td>278</td>\n",
       "      <td>Friday</td>\n",
       "      <td>8856.0</td>\n",
       "    </tr>\n",
       "  </tbody>\n",
       "</table>\n",
       "</div>"
      ],
      "text/plain": [
       "    id day_of_week  box_office\n",
       "0  205      Friday       363.0\n",
       "1   76      Friday      2367.0\n",
       "2  145      Friday      3328.0\n",
       "3  143   Wednesday      8300.0\n",
       "4  278      Friday      8856.0"
      ]
     },
     "execution_count": 36,
     "metadata": {},
     "output_type": "execute_result"
    }
   ],
   "source": [
    "# merging together\n",
    "pd.merge(my_id, days, on=['day_of_week', 'box_office']).head()"
   ]
  },
  {
   "cell_type": "code",
   "execution_count": 37,
   "metadata": {},
   "outputs": [],
   "source": [
    "# heres a simplified table\n",
    "tidy = pd.merge(my_id, days, on=['day_of_week', 'box_office'])\n",
    "tidy.sort_values(['box_office', 'day_of_week'], inplace=True)"
   ]
  },
  {
   "cell_type": "code",
   "execution_count": 39,
   "metadata": {},
   "outputs": [
    {
     "data": {
      "image/png": "[encoded data removed]",
      "text/plain": [
       "<Figure size 432x288 with 1 Axes>"
      ]
     },
     "metadata": {
      "needs_background": "light"
     },
     "output_type": "display_data"
    }
   ],
   "source": [
    "box_plot = sns.boxplot(x=\"day_of_week\", y=\"box_office\", data=tidy)\n",
    "\n",
    "ax = box_plot.axes\n",
    "lines = ax.get_lines()\n",
    "categories = ax.get_xticks()\n",
    "\n",
    "for cat in categories:\n",
    "    # every 4th line at the interval of 6 is median line\n",
    "    # 0 -> p25 1 -> p75 2 -> lower whisker 3 -> upper whisker 4 -> p50 5 -> upper extreme value\n",
    "    y = round(lines[4+cat*6].get_ydata()[0],1) \n",
    "\n",
    "    ax.text(\n",
    "        cat, \n",
    "        y, \n",
    "        f'{y}', \n",
    "        ha='center', \n",
    "        va='center', \n",
    "        fontweight='bold', \n",
    "        size=7,\n",
    "        color='white',\n",
    "        bbox=dict(facecolor='#445A64'))\n",
    "\n",
    "box_plot.figure.tight_layout()"
   ]
  },
  {
   "cell_type": "markdown",
   "metadata": {},
   "source": [
    "#### Analysis methods\n",
    "Most of the analysis methods used were filters, and pandas functions. We also used datetime manipulation which made things easier. \n",
    "\n",
    "We also used the box plot above to describe our findings. Overall, pretty straight forward. "
   ]
  },
  {
   "cell_type": "markdown",
   "metadata": {},
   "source": [
    "#### Conclusion / Suggestion\n",
    "Based on the findings on box office revenue and day of the week that the movie was released, Friday is the best day to release a movie. Since the majority of the movies come out on Friday, the biggest yield in box office revenue is Friday.\n",
    "\n",
    "#### Therefore, we can recommend that Computing Vision should relese their movies on Friday to maximize box office revenue\n",
    "\n",
    "These findings are important because a company like Computing Vision, that is starting off in the movie industry should maximize those box office sales."
   ]
  },
  {
   "cell_type": "markdown",
   "metadata": {},
   "source": [
    "#### What limitations are there?\n",
    "The only limitations we can think of is that the sample size is not big enough. This does not allow for more accurate testing. \n",
    "\n",
    "The outliers for Friday were pretty significant as well. Compared to the other days, Friday's box is tight meaning that there is not a lot of varience compared with the other outliers. "
   ]
  },
  {
   "cell_type": "markdown",
   "metadata": {},
   "source": [
    "### Genre as a Predictor of Revenue (Chi Square Analysis)\n",
    "\n",
    "#### The Business Question\n",
    "Does the genre of a movie have any association with the movie's profitability?\n",
    "\n",
    "#### The Datasets\n",
    "- Movie Budgets dataset from (INSERT SOURCE HERE) including movie titles, production budget, and worldwide gross revenue. \n",
    "- TMDB dataset including movie titles and genres\n",
    "\n",
    "#### The Methods\n",
    "\n",
    "##### Import and Clean Data\n",
    "\n",
    "We began with importing all relevant libraries for analysis and visualization. "
   ]
  },
  {
   "cell_type": "code",
   "execution_count": 1,
   "metadata": {},
   "outputs": [],
   "source": [
    "import pandas as pd\n",
    "import numpy as np\n",
    "from scipy import stats\n",
    "import seaborn as sns\n",
    "import matplotlib.pyplot as plt\n",
    "%matplotlib inline\n",
    "\n",
    "import warnings\n",
    "warnings.filterwarnings(action = 'ignore', category = FutureWarning)"
   ]
  },
  {
   "cell_type": "markdown",
   "metadata": {},
   "source": [
    "The relevant datasets for our analysis were the tn.movie_budgets.csv and tmdb.movies.csv files. "
   ]
  },
  {
   "cell_type": "code",
   "execution_count": 2,
   "metadata": {},
   "outputs": [],
   "source": [
    "budgets = pd.read_csv(\"../data/tn.movie_budgets.csv\")\n",
    "tmdb = pd.read_csv(\"../data/tmdb.movies.csv\", index_col = 0)"
   ]
  },
  {
   "cell_type": "markdown",
   "metadata": {},
   "source": [
    "Before running our analysis, we needed to review the contents of the datasets, isolate relevant columns, and clean data as necessary.\n",
    "\n",
    "First, we looked at the first few rows of the movie budgets dataframe in order to get an idea of the columns, potential datatypes, and areas which may require pre-processing and cleaning. "
   ]
  },
  {
   "cell_type": "code",
   "execution_count": 3,
   "metadata": {},
   "outputs": [
    {
     "data": {
      "text/html": [
       "<div>\n",
       "<style scoped>\n",
       "    .dataframe tbody tr th:only-of-type {\n",
       "        vertical-align: middle;\n",
       "    }\n",
       "\n",
       "    .dataframe tbody tr th {\n",
       "        vertical-align: top;\n",
       "    }\n",
       "\n",
       "    .dataframe thead th {\n",
       "        text-align: right;\n",
       "    }\n",
       "</style>\n",
       "<table border=\"1\" class=\"dataframe\">\n",
       "  <thead>\n",
       "    <tr style=\"text-align: right;\">\n",
       "      <th></th>\n",
       "      <th>id</th>\n",
       "      <th>release_date</th>\n",
       "      <th>movie</th>\n",
       "      <th>production_budget</th>\n",
       "      <th>domestic_gross</th>\n",
       "      <th>worldwide_gross</th>\n",
       "    </tr>\n",
       "  </thead>\n",
       "  <tbody>\n",
       "    <tr>\n",
       "      <th>0</th>\n",
       "      <td>1</td>\n",
       "      <td>Dec 18, 2009</td>\n",
       "      <td>Avatar</td>\n",
       "      <td>$425,000,000</td>\n",
       "      <td>$760,507,625</td>\n",
       "      <td>$2,776,345,279</td>\n",
       "    </tr>\n",
       "    <tr>\n",
       "      <th>1</th>\n",
       "      <td>2</td>\n",
       "      <td>May 20, 2011</td>\n",
       "      <td>Pirates of the Caribbean: On Stranger Tides</td>\n",
       "      <td>$410,600,000</td>\n",
       "      <td>$241,063,875</td>\n",
       "      <td>$1,045,663,875</td>\n",
       "    </tr>\n",
       "    <tr>\n",
       "      <th>2</th>\n",
       "      <td>3</td>\n",
       "      <td>Jun 7, 2019</td>\n",
       "      <td>Dark Phoenix</td>\n",
       "      <td>$350,000,000</td>\n",
       "      <td>$42,762,350</td>\n",
       "      <td>$149,762,350</td>\n",
       "    </tr>\n",
       "    <tr>\n",
       "      <th>3</th>\n",
       "      <td>4</td>\n",
       "      <td>May 1, 2015</td>\n",
       "      <td>Avengers: Age of Ultron</td>\n",
       "      <td>$330,600,000</td>\n",
       "      <td>$459,005,868</td>\n",
       "      <td>$1,403,013,963</td>\n",
       "    </tr>\n",
       "    <tr>\n",
       "      <th>4</th>\n",
       "      <td>5</td>\n",
       "      <td>Dec 15, 2017</td>\n",
       "      <td>Star Wars Ep. VIII: The Last Jedi</td>\n",
       "      <td>$317,000,000</td>\n",
       "      <td>$620,181,382</td>\n",
       "      <td>$1,316,721,747</td>\n",
       "    </tr>\n",
       "  </tbody>\n",
       "</table>\n",
       "</div>"
      ],
      "text/plain": [
       "   id  release_date                                        movie  \\\n",
       "0   1  Dec 18, 2009                                       Avatar   \n",
       "1   2  May 20, 2011  Pirates of the Caribbean: On Stranger Tides   \n",
       "2   3   Jun 7, 2019                                 Dark Phoenix   \n",
       "3   4   May 1, 2015                      Avengers: Age of Ultron   \n",
       "4   5  Dec 15, 2017            Star Wars Ep. VIII: The Last Jedi   \n",
       "\n",
       "  production_budget domestic_gross worldwide_gross  \n",
       "0      $425,000,000   $760,507,625  $2,776,345,279  \n",
       "1      $410,600,000   $241,063,875  $1,045,663,875  \n",
       "2      $350,000,000    $42,762,350    $149,762,350  \n",
       "3      $330,600,000   $459,005,868  $1,403,013,963  \n",
       "4      $317,000,000   $620,181,382  $1,316,721,747  "
      ]
     },
     "execution_count": 3,
     "metadata": {},
     "output_type": "execute_result"
    }
   ],
   "source": [
    "budgets.head()"
   ]
  },
  {
   "cell_type": "markdown",
   "metadata": {},
   "source": [
    "From this dataframe, we decided that we needed to retain the following columns:\n",
    "- Movie (for joining with other dataframes)\n",
    "- Production Budget and Worldwide Gross (for calculating profit)\n",
    "\n",
    "Thus, we formed a subset of the dataset including only the relevant columns."
   ]
  },
  {
   "cell_type": "code",
   "execution_count": 4,
   "metadata": {},
   "outputs": [
    {
     "data": {
      "text/html": [
       "<div>\n",
       "<style scoped>\n",
       "    .dataframe tbody tr th:only-of-type {\n",
       "        vertical-align: middle;\n",
       "    }\n",
       "\n",
       "    .dataframe tbody tr th {\n",
       "        vertical-align: top;\n",
       "    }\n",
       "\n",
       "    .dataframe thead th {\n",
       "        text-align: right;\n",
       "    }\n",
       "</style>\n",
       "<table border=\"1\" class=\"dataframe\">\n",
       "  <thead>\n",
       "    <tr style=\"text-align: right;\">\n",
       "      <th></th>\n",
       "      <th>movie</th>\n",
       "      <th>production_budget</th>\n",
       "      <th>worldwide_gross</th>\n",
       "    </tr>\n",
       "  </thead>\n",
       "  <tbody>\n",
       "    <tr>\n",
       "      <th>0</th>\n",
       "      <td>Avatar</td>\n",
       "      <td>$425,000,000</td>\n",
       "      <td>$2,776,345,279</td>\n",
       "    </tr>\n",
       "    <tr>\n",
       "      <th>1</th>\n",
       "      <td>Pirates of the Caribbean: On Stranger Tides</td>\n",
       "      <td>$410,600,000</td>\n",
       "      <td>$1,045,663,875</td>\n",
       "    </tr>\n",
       "    <tr>\n",
       "      <th>2</th>\n",
       "      <td>Dark Phoenix</td>\n",
       "      <td>$350,000,000</td>\n",
       "      <td>$149,762,350</td>\n",
       "    </tr>\n",
       "    <tr>\n",
       "      <th>3</th>\n",
       "      <td>Avengers: Age of Ultron</td>\n",
       "      <td>$330,600,000</td>\n",
       "      <td>$1,403,013,963</td>\n",
       "    </tr>\n",
       "    <tr>\n",
       "      <th>4</th>\n",
       "      <td>Star Wars Ep. VIII: The Last Jedi</td>\n",
       "      <td>$317,000,000</td>\n",
       "      <td>$1,316,721,747</td>\n",
       "    </tr>\n",
       "  </tbody>\n",
       "</table>\n",
       "</div>"
      ],
      "text/plain": [
       "                                         movie production_budget  \\\n",
       "0                                       Avatar      $425,000,000   \n",
       "1  Pirates of the Caribbean: On Stranger Tides      $410,600,000   \n",
       "2                                 Dark Phoenix      $350,000,000   \n",
       "3                      Avengers: Age of Ultron      $330,600,000   \n",
       "4            Star Wars Ep. VIII: The Last Jedi      $317,000,000   \n",
       "\n",
       "  worldwide_gross  \n",
       "0  $2,776,345,279  \n",
       "1  $1,045,663,875  \n",
       "2    $149,762,350  \n",
       "3  $1,403,013,963  \n",
       "4  $1,316,721,747  "
      ]
     },
     "execution_count": 4,
     "metadata": {},
     "output_type": "execute_result"
    }
   ],
   "source": [
    "cols_to_keep = ['movie','production_budget','worldwide_gross']\n",
    "budgets_relevant = budgets[cols_to_keep]\n",
    "budgets_relevant.head()"
   ]
  },
  {
   "cell_type": "markdown",
   "metadata": {},
   "source": [
    "We also noted that the production budget and worldwide gross columns were populated with strings (as evident by the symbolic characters used alongside the numeric characters, such as \"$\"). These values needed to be cleaned and cast as integers before they could be used to calculate profit. \n",
    "\n",
    "However, before doing any further cleaning we looked for null values and duplicates so that we could avoid making any unnecessary calculations"
   ]
  },
  {
   "cell_type": "code",
   "execution_count": 5,
   "metadata": {},
   "outputs": [
    {
     "name": "stdout",
     "output_type": "stream",
     "text": [
      "<class 'pandas.core.frame.DataFrame'>\n",
      "RangeIndex: 5782 entries, 0 to 5781\n",
      "Data columns (total 3 columns):\n",
      " #   Column             Non-Null Count  Dtype \n",
      "---  ------             --------------  ----- \n",
      " 0   movie              5782 non-null   object\n",
      " 1   production_budget  5782 non-null   object\n",
      " 2   worldwide_gross    5782 non-null   object\n",
      "dtypes: object(3)\n",
      "memory usage: 135.6+ KB\n"
     ]
    }
   ],
   "source": [
    "budgets_relevant.info()"
   ]
  },
  {
   "cell_type": "markdown",
   "metadata": {},
   "source": [
    "Looking at the dataframe's information confirmed that the values within the production_budget and worldwide_gross columns were stored as strings and required cleaning. Furthermore, we could see that there were no obvious nulls in the dataframe. However, looking at the values stored within the worldwide_gross column brought to light some null-esque values. Namely, movies with a worldwide gross revenue of $0. "
   ]
  },
  {
   "cell_type": "code",
   "execution_count": 6,
   "metadata": {},
   "outputs": [
    {
     "data": {
      "text/plain": [
       "$0             367\n",
       "$8,000,000       9\n",
       "$2,000,000       6\n",
       "$7,000,000       6\n",
       "$4,000,000       4\n",
       "              ... \n",
       "$14,942,422      1\n",
       "$48,425,971      1\n",
       "$6,100,000       1\n",
       "$6,551,310       1\n",
       "$76,904,429      1\n",
       "Name: worldwide_gross, Length: 5356, dtype: int64"
      ]
     },
     "execution_count": 6,
     "metadata": {},
     "output_type": "execute_result"
    }
   ],
   "source": [
    "budgets_relevant['worldwide_gross'].value_counts()"
   ]
  },
  {
   "cell_type": "markdown",
   "metadata": {},
   "source": [
    "There were some zeroes in this column, presumably because there was no available data on its gross revenue. Rather than removing these observations, we decided to replace them with the median once the column had been properly cleaned. \n",
    "\n",
    "From here, we moved on to locating duplicate values. "
   ]
  },
  {
   "cell_type": "code",
   "execution_count": 7,
   "metadata": {},
   "outputs": [
    {
     "data": {
      "text/plain": [
       "False    5782\n",
       "dtype: int64"
      ]
     },
     "execution_count": 7,
     "metadata": {},
     "output_type": "execute_result"
    }
   ],
   "source": [
    "budgets_relevant.duplicated().value_counts()"
   ]
  },
  {
   "cell_type": "markdown",
   "metadata": {},
   "source": [
    "There were no obvious duplicate rows. However, we realized that multiple movies could have the same title. This would pose an issue when we needed to join dataframes using movie titles as the mutual column. "
   ]
  },
  {
   "cell_type": "code",
   "execution_count": 8,
   "metadata": {},
   "outputs": [
    {
     "data": {
      "text/plain": [
       "King Kong                             3\n",
       "Halloween                             3\n",
       "Home                                  3\n",
       "Cinderella                            2\n",
       "Twilight                              2\n",
       "                                     ..\n",
       "Blue Crush                            1\n",
       "The Deep End                          1\n",
       "Any Given Sunday                      1\n",
       "Das Boot                              1\n",
       "Terminator 3: Rise of the Machines    1\n",
       "Name: movie, Length: 5698, dtype: int64"
      ]
     },
     "execution_count": 8,
     "metadata": {},
     "output_type": "execute_result"
    }
   ],
   "source": [
    "budgets_relevant['movie'].value_counts()"
   ]
  },
  {
   "cell_type": "markdown",
   "metadata": {},
   "source": [
    "First, we looked into how many duplicate titles there were and if it was worth it to persue a method of merging the dataframes on two columns."
   ]
  },
  {
   "cell_type": "code",
   "execution_count": 9,
   "metadata": {},
   "outputs": [
    {
     "data": {
      "text/html": [
       "<div>\n",
       "<style scoped>\n",
       "    .dataframe tbody tr th:only-of-type {\n",
       "        vertical-align: middle;\n",
       "    }\n",
       "\n",
       "    .dataframe tbody tr th {\n",
       "        vertical-align: top;\n",
       "    }\n",
       "\n",
       "    .dataframe thead th {\n",
       "        text-align: right;\n",
       "    }\n",
       "</style>\n",
       "<table border=\"1\" class=\"dataframe\">\n",
       "  <thead>\n",
       "    <tr style=\"text-align: right;\">\n",
       "      <th></th>\n",
       "      <th>index</th>\n",
       "      <th>movie</th>\n",
       "    </tr>\n",
       "  </thead>\n",
       "  <tbody>\n",
       "    <tr>\n",
       "      <th>0</th>\n",
       "      <td>King Kong</td>\n",
       "      <td>3</td>\n",
       "    </tr>\n",
       "    <tr>\n",
       "      <th>1</th>\n",
       "      <td>Halloween</td>\n",
       "      <td>3</td>\n",
       "    </tr>\n",
       "    <tr>\n",
       "      <th>2</th>\n",
       "      <td>Home</td>\n",
       "      <td>3</td>\n",
       "    </tr>\n",
       "    <tr>\n",
       "      <th>3</th>\n",
       "      <td>Cinderella</td>\n",
       "      <td>2</td>\n",
       "    </tr>\n",
       "    <tr>\n",
       "      <th>4</th>\n",
       "      <td>Twilight</td>\n",
       "      <td>2</td>\n",
       "    </tr>\n",
       "    <tr>\n",
       "      <th>...</th>\n",
       "      <td>...</td>\n",
       "      <td>...</td>\n",
       "    </tr>\n",
       "    <tr>\n",
       "      <th>76</th>\n",
       "      <td>Peteâs Dragon</td>\n",
       "      <td>2</td>\n",
       "    </tr>\n",
       "    <tr>\n",
       "      <th>77</th>\n",
       "      <td>Hamlet</td>\n",
       "      <td>2</td>\n",
       "    </tr>\n",
       "    <tr>\n",
       "      <th>78</th>\n",
       "      <td>Flatliners</td>\n",
       "      <td>2</td>\n",
       "    </tr>\n",
       "    <tr>\n",
       "      <th>79</th>\n",
       "      <td>Teenage Mutant Ninja Turtles</td>\n",
       "      <td>2</td>\n",
       "    </tr>\n",
       "    <tr>\n",
       "      <th>80</th>\n",
       "      <td>Trance</td>\n",
       "      <td>2</td>\n",
       "    </tr>\n",
       "  </tbody>\n",
       "</table>\n",
       "<p>81 rows × 2 columns</p>\n",
       "</div>"
      ],
      "text/plain": [
       "                           index  movie\n",
       "0                      King Kong      3\n",
       "1                      Halloween      3\n",
       "2                           Home      3\n",
       "3                     Cinderella      2\n",
       "4                       Twilight      2\n",
       "..                           ...    ...\n",
       "76               Peteâs Dragon      2\n",
       "77                        Hamlet      2\n",
       "78                    Flatliners      2\n",
       "79  Teenage Mutant Ninja Turtles      2\n",
       "80                        Trance      2\n",
       "\n",
       "[81 rows x 2 columns]"
      ]
     },
     "execution_count": 9,
     "metadata": {},
     "output_type": "execute_result"
    }
   ],
   "source": [
    "def get_title_counts(data, col):\n",
    "    \n",
    "    # set the value counts as a dataframe\n",
    "    title_counts = pd.DataFrame(data[col].value_counts())\n",
    "    \n",
    "    # reset index so that we can easily access the titles\n",
    "    title_counts = title_counts.reset_index()\n",
    "    \n",
    "    # take a subset of the title counts dataframe for all titles that appear more than once\n",
    "    title_counts = title_counts.loc[ title_counts[col] > 1 ]\n",
    "                                    \n",
    "    # return this dataframe of title duplicates                                \n",
    "    return title_counts\n",
    "\n",
    "title_counts = get_title_counts(budgets_relevant, 'movie')\n",
    "title_counts"
   ]
  },
  {
   "cell_type": "markdown",
   "metadata": {},
   "source": [
    "81 rows out of a 5,000+ row dataset didn't seem substantial enough to justify the attempted mutli-column merge given the time contraints of the project. So, we decided to simply drop the duplicates."
   ]
  },
  {
   "cell_type": "code",
   "execution_count": 10,
   "metadata": {},
   "outputs": [
    {
     "name": "stderr",
     "output_type": "stream",
     "text": [
      "<ipython-input-10-de8f23511d27>:7: SettingWithCopyWarning: \n",
      "A value is trying to be set on a copy of a slice from a DataFrame.\n",
      "Try using .loc[row_indexer,col_indexer] = value instead\n",
      "\n",
      "See the caveats in the documentation: https://pandas.pydata.org/pandas-docs/stable/user_guide/indexing.html#returning-a-view-versus-a-copy\n",
      "  data['duplicate'] = data[col].map(lambda x: 1 if any([movie in x for movie in list(title_counts['index'])]) else 0)\n"
     ]
    },
    {
     "data": {
      "text/html": [
       "<div>\n",
       "<style scoped>\n",
       "    .dataframe tbody tr th:only-of-type {\n",
       "        vertical-align: middle;\n",
       "    }\n",
       "\n",
       "    .dataframe tbody tr th {\n",
       "        vertical-align: top;\n",
       "    }\n",
       "\n",
       "    .dataframe thead th {\n",
       "        text-align: right;\n",
       "    }\n",
       "</style>\n",
       "<table border=\"1\" class=\"dataframe\">\n",
       "  <thead>\n",
       "    <tr style=\"text-align: right;\">\n",
       "      <th></th>\n",
       "      <th>movie</th>\n",
       "      <th>production_budget</th>\n",
       "      <th>worldwide_gross</th>\n",
       "    </tr>\n",
       "  </thead>\n",
       "  <tbody>\n",
       "    <tr>\n",
       "      <th>0</th>\n",
       "      <td>Avatar</td>\n",
       "      <td>$425,000,000</td>\n",
       "      <td>$2,776,345,279</td>\n",
       "    </tr>\n",
       "    <tr>\n",
       "      <th>1</th>\n",
       "      <td>Pirates of the Caribbean: On Stranger Tides</td>\n",
       "      <td>$410,600,000</td>\n",
       "      <td>$1,045,663,875</td>\n",
       "    </tr>\n",
       "    <tr>\n",
       "      <th>2</th>\n",
       "      <td>Dark Phoenix</td>\n",
       "      <td>$350,000,000</td>\n",
       "      <td>$149,762,350</td>\n",
       "    </tr>\n",
       "    <tr>\n",
       "      <th>3</th>\n",
       "      <td>Avengers: Age of Ultron</td>\n",
       "      <td>$330,600,000</td>\n",
       "      <td>$1,403,013,963</td>\n",
       "    </tr>\n",
       "    <tr>\n",
       "      <th>4</th>\n",
       "      <td>Star Wars Ep. VIII: The Last Jedi</td>\n",
       "      <td>$317,000,000</td>\n",
       "      <td>$1,316,721,747</td>\n",
       "    </tr>\n",
       "    <tr>\n",
       "      <th>...</th>\n",
       "      <td>...</td>\n",
       "      <td>...</td>\n",
       "      <td>...</td>\n",
       "    </tr>\n",
       "    <tr>\n",
       "      <th>5777</th>\n",
       "      <td>Red 11</td>\n",
       "      <td>$7,000</td>\n",
       "      <td>$0</td>\n",
       "    </tr>\n",
       "    <tr>\n",
       "      <th>5778</th>\n",
       "      <td>Following</td>\n",
       "      <td>$6,000</td>\n",
       "      <td>$240,495</td>\n",
       "    </tr>\n",
       "    <tr>\n",
       "      <th>5779</th>\n",
       "      <td>Return to the Land of Wonders</td>\n",
       "      <td>$5,000</td>\n",
       "      <td>$1,338</td>\n",
       "    </tr>\n",
       "    <tr>\n",
       "      <th>5780</th>\n",
       "      <td>A Plague So Pleasant</td>\n",
       "      <td>$1,400</td>\n",
       "      <td>$0</td>\n",
       "    </tr>\n",
       "    <tr>\n",
       "      <th>5781</th>\n",
       "      <td>My Date With Drew</td>\n",
       "      <td>$1,100</td>\n",
       "      <td>$181,041</td>\n",
       "    </tr>\n",
       "  </tbody>\n",
       "</table>\n",
       "<p>5459 rows × 3 columns</p>\n",
       "</div>"
      ],
      "text/plain": [
       "                                            movie production_budget  \\\n",
       "0                                          Avatar      $425,000,000   \n",
       "1     Pirates of the Caribbean: On Stranger Tides      $410,600,000   \n",
       "2                                    Dark Phoenix      $350,000,000   \n",
       "3                         Avengers: Age of Ultron      $330,600,000   \n",
       "4               Star Wars Ep. VIII: The Last Jedi      $317,000,000   \n",
       "...                                           ...               ...   \n",
       "5777                                       Red 11            $7,000   \n",
       "5778                                    Following            $6,000   \n",
       "5779                Return to the Land of Wonders            $5,000   \n",
       "5780                         A Plague So Pleasant            $1,400   \n",
       "5781                            My Date With Drew            $1,100   \n",
       "\n",
       "     worldwide_gross  \n",
       "0     $2,776,345,279  \n",
       "1     $1,045,663,875  \n",
       "2       $149,762,350  \n",
       "3     $1,403,013,963  \n",
       "4     $1,316,721,747  \n",
       "...              ...  \n",
       "5777              $0  \n",
       "5778        $240,495  \n",
       "5779          $1,338  \n",
       "5780              $0  \n",
       "5781        $181,041  \n",
       "\n",
       "[5459 rows x 3 columns]"
      ]
     },
     "execution_count": 10,
     "metadata": {},
     "output_type": "execute_result"
    }
   ],
   "source": [
    "def remove_duplicate_titles(data, col):\n",
    "    \n",
    "    # get the dataframe for titles which appear more than once\n",
    "    title_counts = get_title_counts(data,col)\n",
    "    \n",
    "    # create a dichotomous column for which there is a 1 if the movie is a duplicate title\n",
    "    data['duplicate'] = data[col].map(lambda x: 1 if any([movie in x for movie in list(title_counts['index'])]) else 0)\n",
    "    \n",
    "    # take a subset of the dataframe of only non-duplicate titles\n",
    "    data = data.loc[ data['duplicate'] == 0]\n",
    "    \n",
    "    # initialize a list of columns to maintain\n",
    "    keepers = []\n",
    "    \n",
    "    # for each column in the dataframe\n",
    "    for col in data.columns:\n",
    "        # if it isn't the duplicate column\n",
    "        if col != \"duplicate\":\n",
    "            # add it to the list of columns to be maintained\n",
    "            keepers.append(col)\n",
    "    \n",
    "    # keep only the columns intended\n",
    "    data = data[keepers]\n",
    "        \n",
    "    return data\n",
    "\n",
    "budgets_relevant = remove_duplicate_titles(budgets_relevant, 'movie')\n",
    "budgets_relevant"
   ]
  },
  {
   "cell_type": "markdown",
   "metadata": {},
   "source": [
    "After checking for nulls and duplicates, we got started cleaning the budget and gross revenue columns so that we could eventually use them to calculate profit. "
   ]
  },
  {
   "cell_type": "code",
   "execution_count": 11,
   "metadata": {},
   "outputs": [
    {
     "data": {
      "text/html": [
       "<div>\n",
       "<style scoped>\n",
       "    .dataframe tbody tr th:only-of-type {\n",
       "        vertical-align: middle;\n",
       "    }\n",
       "\n",
       "    .dataframe tbody tr th {\n",
       "        vertical-align: top;\n",
       "    }\n",
       "\n",
       "    .dataframe thead th {\n",
       "        text-align: right;\n",
       "    }\n",
       "</style>\n",
       "<table border=\"1\" class=\"dataframe\">\n",
       "  <thead>\n",
       "    <tr style=\"text-align: right;\">\n",
       "      <th></th>\n",
       "      <th>movie</th>\n",
       "      <th>production_budget</th>\n",
       "      <th>worldwide_gross</th>\n",
       "    </tr>\n",
       "  </thead>\n",
       "  <tbody>\n",
       "    <tr>\n",
       "      <th>0</th>\n",
       "      <td>Avatar</td>\n",
       "      <td>425000000</td>\n",
       "      <td>2776345279</td>\n",
       "    </tr>\n",
       "    <tr>\n",
       "      <th>1</th>\n",
       "      <td>Pirates of the Caribbean: On Stranger Tides</td>\n",
       "      <td>410600000</td>\n",
       "      <td>1045663875</td>\n",
       "    </tr>\n",
       "    <tr>\n",
       "      <th>2</th>\n",
       "      <td>Dark Phoenix</td>\n",
       "      <td>350000000</td>\n",
       "      <td>149762350</td>\n",
       "    </tr>\n",
       "    <tr>\n",
       "      <th>3</th>\n",
       "      <td>Avengers: Age of Ultron</td>\n",
       "      <td>330600000</td>\n",
       "      <td>1403013963</td>\n",
       "    </tr>\n",
       "    <tr>\n",
       "      <th>4</th>\n",
       "      <td>Star Wars Ep. VIII: The Last Jedi</td>\n",
       "      <td>317000000</td>\n",
       "      <td>1316721747</td>\n",
       "    </tr>\n",
       "  </tbody>\n",
       "</table>\n",
       "</div>"
      ],
      "text/plain": [
       "                                         movie  production_budget  \\\n",
       "0                                       Avatar          425000000   \n",
       "1  Pirates of the Caribbean: On Stranger Tides          410600000   \n",
       "2                                 Dark Phoenix          350000000   \n",
       "3                      Avengers: Age of Ultron          330600000   \n",
       "4            Star Wars Ep. VIII: The Last Jedi          317000000   \n",
       "\n",
       "   worldwide_gross  \n",
       "0       2776345279  \n",
       "1       1045663875  \n",
       "2        149762350  \n",
       "3       1403013963  \n",
       "4       1316721747  "
      ]
     },
     "execution_count": 11,
     "metadata": {},
     "output_type": "execute_result"
    }
   ],
   "source": [
    "def dollar_to_numeric(column):\n",
    "    # removing $ and , from string\n",
    "    column = column.str.replace(\",\",\"\")\n",
    "    column = column.str.replace(\"$\",\"\")\n",
    "\n",
    "    # casting the values as integers\n",
    "    column = pd.to_numeric(column)\n",
    "    \n",
    "    return column\n",
    "\n",
    "budgets_relevant['worldwide_gross'] = dollar_to_numeric(budgets_relevant['worldwide_gross'])\n",
    "budgets_relevant['production_budget'] = dollar_to_numeric(budgets_relevant['production_budget'])\n",
    "\n",
    "budgets_relevant.head()"
   ]
  },
  {
   "cell_type": "markdown",
   "metadata": {},
   "source": [
    "After successfully casting the data as integers, we looked at the descriptive statistics for any obvious issues."
   ]
  },
  {
   "cell_type": "code",
   "execution_count": 12,
   "metadata": {},
   "outputs": [
    {
     "data": {
      "text/plain": [
       "count    5.459000e+03\n",
       "mean     3.112546e+07\n",
       "std      4.134343e+07\n",
       "min      1.100000e+03\n",
       "25%      5.000000e+06\n",
       "50%      1.700000e+07\n",
       "75%      4.000000e+07\n",
       "max      4.250000e+08\n",
       "Name: production_budget, dtype: float64"
      ]
     },
     "execution_count": 12,
     "metadata": {},
     "output_type": "execute_result"
    }
   ],
   "source": [
    "budgets_relevant['production_budget'].describe()"
   ]
  },
  {
   "cell_type": "code",
   "execution_count": 13,
   "metadata": {},
   "outputs": [
    {
     "data": {
      "text/plain": [
       "count    5.459000e+03\n",
       "mean     8.940551e+07\n",
       "std      1.721636e+08\n",
       "min      0.000000e+00\n",
       "25%      3.808364e+06\n",
       "50%      2.709288e+07\n",
       "75%      9.655151e+07\n",
       "max      2.776345e+09\n",
       "Name: worldwide_gross, dtype: float64"
      ]
     },
     "execution_count": 13,
     "metadata": {},
     "output_type": "execute_result"
    }
   ],
   "source": [
    "budgets_relevant['worldwide_gross'].describe()"
   ]
  },
  {
   "cell_type": "markdown",
   "metadata": {},
   "source": [
    "There are some zeroes in the worldwide gross revenue dataset. Since this most likely implies missing data, we looked to see how many rows this is the case for."
   ]
  },
  {
   "cell_type": "code",
   "execution_count": 14,
   "metadata": {},
   "outputs": [
    {
     "data": {
      "text/plain": [
       "0            355\n",
       "8000000        7\n",
       "7000000        6\n",
       "2000000        6\n",
       "4000000        4\n",
       "            ... \n",
       "58545540       1\n",
       "92618117       1\n",
       "834953         1\n",
       "190453132      1\n",
       "310946         1\n",
       "Name: worldwide_gross, Length: 5054, dtype: int64"
      ]
     },
     "execution_count": 14,
     "metadata": {},
     "output_type": "execute_result"
    }
   ],
   "source": [
    "budgets_relevant['worldwide_gross'].value_counts()"
   ]
  },
  {
   "cell_type": "markdown",
   "metadata": {},
   "source": [
    "Since this is a pretty substantial number of movies, but not a significant proportion of the dataset, we decided to impute these values with the median profit. The decision was made to use the median rather than the mean because of its resiliency against extreme outliers."
   ]
  },
  {
   "cell_type": "code",
   "execution_count": 15,
   "metadata": {},
   "outputs": [
    {
     "data": {
      "text/plain": [
       "count    5.459000e+03\n",
       "mean     9.116737e+07\n",
       "std      1.713763e+08\n",
       "min      2.600000e+01\n",
       "25%      7.833752e+06\n",
       "50%      2.709288e+07\n",
       "75%      9.655151e+07\n",
       "max      2.776345e+09\n",
       "Name: worldwide_gross, dtype: float64"
      ]
     },
     "execution_count": 15,
     "metadata": {},
     "output_type": "execute_result"
    }
   ],
   "source": [
    "median_gross = budgets_relevant['worldwide_gross'].median()\n",
    "budgets_relevant['worldwide_gross'] = budgets_relevant['worldwide_gross'].replace(0,median_gross)\n",
    "budgets_relevant['worldwide_gross'].describe()"
   ]
  },
  {
   "cell_type": "markdown",
   "metadata": {},
   "source": [
    "Now that we had two clean revenue and cost columns to work with, we used this information to create a new column in the dataframe for the calculated profit. "
   ]
  },
  {
   "cell_type": "code",
   "execution_count": 16,
   "metadata": {},
   "outputs": [
    {
     "data": {
      "text/plain": [
       "count    5.459000e+03\n",
       "mean     6.004190e+07\n",
       "std      1.431806e+08\n",
       "min     -2.002376e+08\n",
       "25%     -1.394899e+06\n",
       "50%      1.415149e+07\n",
       "75%      5.964086e+07\n",
       "max      2.351345e+09\n",
       "Name: total_profit, dtype: float64"
      ]
     },
     "execution_count": 16,
     "metadata": {},
     "output_type": "execute_result"
    }
   ],
   "source": [
    "# calculating total profit\n",
    "budgets_relevant['total_profit'] =  budgets_relevant['worldwide_gross'] - budgets_relevant['production_budget']\n",
    "\n",
    "budgets_relevant = budgets_relevant[['movie','total_profit']]\n",
    "\n",
    "# confirmation\n",
    "budgets_relevant['total_profit'].describe()"
   ]
  },
  {
   "cell_type": "markdown",
   "metadata": {},
   "source": [
    "Next, we decided to visualize the distribution of profit since this is our dependent variable."
   ]
  },
  {
   "cell_type": "code",
   "execution_count": 17,
   "metadata": {},
   "outputs": [
    {
     "data": {
      "image/png": "[encoded data removed]",
      "text/plain": [
       "<Figure size 432x288 with 1 Axes>"
      ]
     },
     "metadata": {
      "needs_background": "light"
     },
     "output_type": "display_data"
    }
   ],
   "source": [
    "fig, ax = plt.subplots()\n",
    "ax.boxplot(budgets_relevant['total_profit'])\n",
    "ax.set_title(\"Distribution of Profit\")\n",
    "ax.set_ylabel(\"Profit in Ten Billion USD\");"
   ]
  },
  {
   "cell_type": "markdown",
   "metadata": {},
   "source": [
    "It was evident that there were some extremely profitable (and extremely unprofitable) movies that may influence the results of our analysis. Because of the presense of extremes, we decided to remove any movies with profits outside of the interquartile range.\n",
    "\n",
    "Resource used: https://www.statology.org/remove-outliers-python/"
   ]
  },
  {
   "cell_type": "code",
   "execution_count": 18,
   "metadata": {},
   "outputs": [
    {
     "data": {
      "image/png": "[encoded data removed]",
      "text/plain": [
       "<Figure size 432x288 with 1 Axes>"
      ]
     },
     "metadata": {
      "needs_background": "light"
     },
     "output_type": "display_data"
    }
   ],
   "source": [
    "# find Q1, Q3, and interquartile range for each column\n",
    "Q1 = budgets_relevant['total_profit'].quantile(q=.25)\n",
    "Q3 = budgets_relevant['total_profit'].quantile(q=.75)\n",
    "IQR = budgets_relevant['total_profit'].apply(stats.iqr)\n",
    "\n",
    "budgets_relevant = budgets_relevant.loc[~((budgets_relevant['total_profit'] < (Q1-1.5*IQR)) | (budgets_relevant['total_profit'] > (Q3+1.5*IQR)))]\n",
    "\n",
    "fig, ax = plt.subplots()\n",
    "ax.boxplot(budgets_relevant['total_profit'])\n",
    "ax.set_title(\"Distribution of Profit\")\n",
    "ax.set_ylabel(\"Profit in Hundred Million USD\");"
   ]
  },
  {
   "cell_type": "markdown",
   "metadata": {},
   "source": [
    "Knowing that we would eventually have to merge this dataframe with the TMDB dataframe, we also set the index to the column on which we wanted to merge (the movie title). "
   ]
  },
  {
   "cell_type": "code",
   "execution_count": 19,
   "metadata": {},
   "outputs": [
    {
     "data": {
      "text/html": [
       "<div>\n",
       "<style scoped>\n",
       "    .dataframe tbody tr th:only-of-type {\n",
       "        vertical-align: middle;\n",
       "    }\n",
       "\n",
       "    .dataframe tbody tr th {\n",
       "        vertical-align: top;\n",
       "    }\n",
       "\n",
       "    .dataframe thead th {\n",
       "        text-align: right;\n",
       "    }\n",
       "</style>\n",
       "<table border=\"1\" class=\"dataframe\">\n",
       "  <thead>\n",
       "    <tr style=\"text-align: right;\">\n",
       "      <th></th>\n",
       "      <th>total_profit</th>\n",
       "    </tr>\n",
       "    <tr>\n",
       "      <th>movie</th>\n",
       "      <th></th>\n",
       "    </tr>\n",
       "  </thead>\n",
       "  <tbody>\n",
       "    <tr>\n",
       "      <th>John Carter</th>\n",
       "      <td>7778100</td>\n",
       "    </tr>\n",
       "    <tr>\n",
       "      <th>Green Lantern</th>\n",
       "      <td>19535492</td>\n",
       "    </tr>\n",
       "    <tr>\n",
       "      <th>Jack the Giant Slayer</th>\n",
       "      <td>2687603</td>\n",
       "    </tr>\n",
       "    <tr>\n",
       "      <th>Hugo</th>\n",
       "      <td>47784</td>\n",
       "    </tr>\n",
       "    <tr>\n",
       "      <th>Valerian and the City of a Thousand Planets</th>\n",
       "      <td>35098356</td>\n",
       "    </tr>\n",
       "  </tbody>\n",
       "</table>\n",
       "</div>"
      ],
      "text/plain": [
       "                                             total_profit\n",
       "movie                                                    \n",
       "John Carter                                       7778100\n",
       "Green Lantern                                    19535492\n",
       "Jack the Giant Slayer                             2687603\n",
       "Hugo                                                47784\n",
       "Valerian and the City of a Thousand Planets      35098356"
      ]
     },
     "execution_count": 19,
     "metadata": {},
     "output_type": "execute_result"
    }
   ],
   "source": [
    "budgets_relevant.set_index('movie', inplace = True)\n",
    "budgets_relevant.head()"
   ]
  },
  {
   "cell_type": "markdown",
   "metadata": {},
   "source": [
    "With this dataframe cleaned, we moved on to the TMDB dataframe.\n",
    "\n",
    "Just like the first dataframe, we began by looking at the first few rows to get an idea of the columns, datatypes, and areas which may require preprocessing/cleaning. "
   ]
  },
  {
   "cell_type": "code",
   "execution_count": 20,
   "metadata": {},
   "outputs": [
    {
     "data": {
      "text/html": [
       "<div>\n",
       "<style scoped>\n",
       "    .dataframe tbody tr th:only-of-type {\n",
       "        vertical-align: middle;\n",
       "    }\n",
       "\n",
       "    .dataframe tbody tr th {\n",
       "        vertical-align: top;\n",
       "    }\n",
       "\n",
       "    .dataframe thead th {\n",
       "        text-align: right;\n",
       "    }\n",
       "</style>\n",
       "<table border=\"1\" class=\"dataframe\">\n",
       "  <thead>\n",
       "    <tr style=\"text-align: right;\">\n",
       "      <th></th>\n",
       "      <th>genre_ids</th>\n",
       "      <th>id</th>\n",
       "      <th>original_language</th>\n",
       "      <th>original_title</th>\n",
       "      <th>popularity</th>\n",
       "      <th>release_date</th>\n",
       "      <th>title</th>\n",
       "      <th>vote_average</th>\n",
       "      <th>vote_count</th>\n",
       "    </tr>\n",
       "  </thead>\n",
       "  <tbody>\n",
       "    <tr>\n",
       "      <th>0</th>\n",
       "      <td>[12, 14, 10751]</td>\n",
       "      <td>12444</td>\n",
       "      <td>en</td>\n",
       "      <td>Harry Potter and the Deathly Hallows: Part 1</td>\n",
       "      <td>33.533</td>\n",
       "      <td>2010-11-19</td>\n",
       "      <td>Harry Potter and the Deathly Hallows: Part 1</td>\n",
       "      <td>7.7</td>\n",
       "      <td>10788</td>\n",
       "    </tr>\n",
       "    <tr>\n",
       "      <th>1</th>\n",
       "      <td>[14, 12, 16, 10751]</td>\n",
       "      <td>10191</td>\n",
       "      <td>en</td>\n",
       "      <td>How to Train Your Dragon</td>\n",
       "      <td>28.734</td>\n",
       "      <td>2010-03-26</td>\n",
       "      <td>How to Train Your Dragon</td>\n",
       "      <td>7.7</td>\n",
       "      <td>7610</td>\n",
       "    </tr>\n",
       "    <tr>\n",
       "      <th>2</th>\n",
       "      <td>[12, 28, 878]</td>\n",
       "      <td>10138</td>\n",
       "      <td>en</td>\n",
       "      <td>Iron Man 2</td>\n",
       "      <td>28.515</td>\n",
       "      <td>2010-05-07</td>\n",
       "      <td>Iron Man 2</td>\n",
       "      <td>6.8</td>\n",
       "      <td>12368</td>\n",
       "    </tr>\n",
       "    <tr>\n",
       "      <th>3</th>\n",
       "      <td>[16, 35, 10751]</td>\n",
       "      <td>862</td>\n",
       "      <td>en</td>\n",
       "      <td>Toy Story</td>\n",
       "      <td>28.005</td>\n",
       "      <td>1995-11-22</td>\n",
       "      <td>Toy Story</td>\n",
       "      <td>7.9</td>\n",
       "      <td>10174</td>\n",
       "    </tr>\n",
       "    <tr>\n",
       "      <th>4</th>\n",
       "      <td>[28, 878, 12]</td>\n",
       "      <td>27205</td>\n",
       "      <td>en</td>\n",
       "      <td>Inception</td>\n",
       "      <td>27.920</td>\n",
       "      <td>2010-07-16</td>\n",
       "      <td>Inception</td>\n",
       "      <td>8.3</td>\n",
       "      <td>22186</td>\n",
       "    </tr>\n",
       "  </tbody>\n",
       "</table>\n",
       "</div>"
      ],
      "text/plain": [
       "             genre_ids     id original_language  \\\n",
       "0      [12, 14, 10751]  12444                en   \n",
       "1  [14, 12, 16, 10751]  10191                en   \n",
       "2        [12, 28, 878]  10138                en   \n",
       "3      [16, 35, 10751]    862                en   \n",
       "4        [28, 878, 12]  27205                en   \n",
       "\n",
       "                                 original_title  popularity release_date  \\\n",
       "0  Harry Potter and the Deathly Hallows: Part 1      33.533   2010-11-19   \n",
       "1                      How to Train Your Dragon      28.734   2010-03-26   \n",
       "2                                    Iron Man 2      28.515   2010-05-07   \n",
       "3                                     Toy Story      28.005   1995-11-22   \n",
       "4                                     Inception      27.920   2010-07-16   \n",
       "\n",
       "                                          title  vote_average  vote_count  \n",
       "0  Harry Potter and the Deathly Hallows: Part 1           7.7       10788  \n",
       "1                      How to Train Your Dragon           7.7        7610  \n",
       "2                                    Iron Man 2           6.8       12368  \n",
       "3                                     Toy Story           7.9       10174  \n",
       "4                                     Inception           8.3       22186  "
      ]
     },
     "execution_count": 20,
     "metadata": {},
     "output_type": "execute_result"
    }
   ],
   "source": [
    "tmdb.head()"
   ]
  },
  {
   "cell_type": "markdown",
   "metadata": {},
   "source": [
    "From this dataframe, we noted that we only needed the following columns:\n",
    "- Title (for merging)\n",
    "- Genre_ids\n",
    "\n",
    "We started with dropping the irrelevant columns."
   ]
  },
  {
   "cell_type": "code",
   "execution_count": 21,
   "metadata": {},
   "outputs": [
    {
     "data": {
      "text/html": [
       "<div>\n",
       "<style scoped>\n",
       "    .dataframe tbody tr th:only-of-type {\n",
       "        vertical-align: middle;\n",
       "    }\n",
       "\n",
       "    .dataframe tbody tr th {\n",
       "        vertical-align: top;\n",
       "    }\n",
       "\n",
       "    .dataframe thead th {\n",
       "        text-align: right;\n",
       "    }\n",
       "</style>\n",
       "<table border=\"1\" class=\"dataframe\">\n",
       "  <thead>\n",
       "    <tr style=\"text-align: right;\">\n",
       "      <th></th>\n",
       "      <th>title</th>\n",
       "      <th>genre_ids</th>\n",
       "    </tr>\n",
       "  </thead>\n",
       "  <tbody>\n",
       "    <tr>\n",
       "      <th>0</th>\n",
       "      <td>Harry Potter and the Deathly Hallows: Part 1</td>\n",
       "      <td>[12, 14, 10751]</td>\n",
       "    </tr>\n",
       "    <tr>\n",
       "      <th>1</th>\n",
       "      <td>How to Train Your Dragon</td>\n",
       "      <td>[14, 12, 16, 10751]</td>\n",
       "    </tr>\n",
       "    <tr>\n",
       "      <th>2</th>\n",
       "      <td>Iron Man 2</td>\n",
       "      <td>[12, 28, 878]</td>\n",
       "    </tr>\n",
       "    <tr>\n",
       "      <th>3</th>\n",
       "      <td>Toy Story</td>\n",
       "      <td>[16, 35, 10751]</td>\n",
       "    </tr>\n",
       "    <tr>\n",
       "      <th>4</th>\n",
       "      <td>Inception</td>\n",
       "      <td>[28, 878, 12]</td>\n",
       "    </tr>\n",
       "  </tbody>\n",
       "</table>\n",
       "</div>"
      ],
      "text/plain": [
       "                                          title            genre_ids\n",
       "0  Harry Potter and the Deathly Hallows: Part 1      [12, 14, 10751]\n",
       "1                      How to Train Your Dragon  [14, 12, 16, 10751]\n",
       "2                                    Iron Man 2        [12, 28, 878]\n",
       "3                                     Toy Story      [16, 35, 10751]\n",
       "4                                     Inception        [28, 878, 12]"
      ]
     },
     "execution_count": 21,
     "metadata": {},
     "output_type": "execute_result"
    }
   ],
   "source": [
    "cols_to_keep = ['title','genre_ids']\n",
    "tmdb_relevant = tmdb[cols_to_keep]\n",
    "tmdb_relevant.head()"
   ]
  },
  {
   "cell_type": "markdown",
   "metadata": {},
   "source": [
    "We noted that the genre_ids column appeared to contain lists of multiple ids associated with specific genres. We needed to clean this column and replace these numbers with their associated genre. However, we decided to wait to replace these values until after the dummy columns were created because it would be easier to rename a small number of columns than replace multiple numbers in every cell with its associated genre. \n",
    "\n",
    "So for now, we moved on to locating null values and duplicates."
   ]
  },
  {
   "cell_type": "code",
   "execution_count": 22,
   "metadata": {},
   "outputs": [
    {
     "name": "stdout",
     "output_type": "stream",
     "text": [
      "<class 'pandas.core.frame.DataFrame'>\n",
      "Int64Index: 26517 entries, 0 to 26516\n",
      "Data columns (total 2 columns):\n",
      " #   Column     Non-Null Count  Dtype \n",
      "---  ------     --------------  ----- \n",
      " 0   title      26517 non-null  object\n",
      " 1   genre_ids  26517 non-null  object\n",
      "dtypes: object(2)\n",
      "memory usage: 621.5+ KB\n"
     ]
    }
   ],
   "source": [
    "tmdb_relevant.info()"
   ]
  },
  {
   "cell_type": "markdown",
   "metadata": {},
   "source": [
    "There didn't appear to be any null values in the dataset."
   ]
  },
  {
   "cell_type": "code",
   "execution_count": 23,
   "metadata": {},
   "outputs": [
    {
     "data": {
      "text/plain": [
       "False    25429\n",
       "True      1088\n",
       "dtype: int64"
      ]
     },
     "execution_count": 23,
     "metadata": {},
     "output_type": "execute_result"
    }
   ],
   "source": [
    "tmdb_relevant.duplicated().value_counts()"
   ]
  },
  {
   "cell_type": "markdown",
   "metadata": {},
   "source": [
    "There were, however, some duplicate movies which we needed to drop."
   ]
  },
  {
   "cell_type": "code",
   "execution_count": 24,
   "metadata": {},
   "outputs": [
    {
     "data": {
      "text/plain": [
       "False    25429\n",
       "dtype: int64"
      ]
     },
     "execution_count": 24,
     "metadata": {},
     "output_type": "execute_result"
    }
   ],
   "source": [
    "tmdb_relevant = tmdb_relevant.drop_duplicates()\n",
    "tmdb_relevant.duplicated().value_counts()"
   ]
  },
  {
   "cell_type": "markdown",
   "metadata": {},
   "source": [
    "There were also more duplicate titles to remove. We handled these the same as we did in the budgets dataframe. "
   ]
  },
  {
   "cell_type": "code",
   "execution_count": 25,
   "metadata": {},
   "outputs": [
    {
     "data": {
      "text/plain": [
       "Home                       6\n",
       "Lucky                      5\n",
       "The Gift                   5\n",
       "Aftermath                  5\n",
       "Alone                      4\n",
       "                          ..\n",
       "The Livingston Gardener    1\n",
       "Spit                       1\n",
       "Blood Road                 1\n",
       "Viva Amiga                 1\n",
       "Shark Exorcist             1\n",
       "Name: title, Length: 24688, dtype: int64"
      ]
     },
     "execution_count": 25,
     "metadata": {},
     "output_type": "execute_result"
    }
   ],
   "source": [
    "tmdb_relevant['title'].value_counts()"
   ]
  },
  {
   "cell_type": "code",
   "execution_count": 26,
   "metadata": {},
   "outputs": [
    {
     "data": {
      "text/plain": [
       "Architects & Engineers: Solving the Mystery of WTC 7    1\n",
       "Kanye West: 808s & Heartbreak at The Hollywood Bowl     1\n",
       "Nocturne                                                1\n",
       "Ali's Wedding                                           1\n",
       "24 Hour Comic                                           1\n",
       "                                                       ..\n",
       "Mike and I                                              1\n",
       "Around the Block                                        1\n",
       "Door to Door                                            1\n",
       "Beating Hearts                                          1\n",
       "Entwinement                                             1\n",
       "Name: title, Length: 17714, dtype: int64"
      ]
     },
     "execution_count": 26,
     "metadata": {},
     "output_type": "execute_result"
    }
   ],
   "source": [
    "tmdb_relevant = remove_duplicate_titles(tmdb_relevant,'title')\n",
    "tmdb_relevant['title'].value_counts()"
   ]
  },
  {
   "cell_type": "markdown",
   "metadata": {},
   "source": [
    "After dropping these duplicate values, we set the movie titles as in the index in preparation for merging these two dataframes."
   ]
  },
  {
   "cell_type": "code",
   "execution_count": 27,
   "metadata": {},
   "outputs": [
    {
     "data": {
      "text/html": [
       "<div>\n",
       "<style scoped>\n",
       "    .dataframe tbody tr th:only-of-type {\n",
       "        vertical-align: middle;\n",
       "    }\n",
       "\n",
       "    .dataframe tbody tr th {\n",
       "        vertical-align: top;\n",
       "    }\n",
       "\n",
       "    .dataframe thead th {\n",
       "        text-align: right;\n",
       "    }\n",
       "</style>\n",
       "<table border=\"1\" class=\"dataframe\">\n",
       "  <thead>\n",
       "    <tr style=\"text-align: right;\">\n",
       "      <th></th>\n",
       "      <th>genre_ids</th>\n",
       "    </tr>\n",
       "    <tr>\n",
       "      <th>title</th>\n",
       "      <th></th>\n",
       "    </tr>\n",
       "  </thead>\n",
       "  <tbody>\n",
       "    <tr>\n",
       "      <th>How to Train Your Dragon</th>\n",
       "      <td>[14, 12, 16, 10751]</td>\n",
       "    </tr>\n",
       "    <tr>\n",
       "      <th>Iron Man 2</th>\n",
       "      <td>[12, 28, 878]</td>\n",
       "    </tr>\n",
       "    <tr>\n",
       "      <th>Toy Story</th>\n",
       "      <td>[16, 35, 10751]</td>\n",
       "    </tr>\n",
       "    <tr>\n",
       "      <th>Inception</th>\n",
       "      <td>[28, 878, 12]</td>\n",
       "    </tr>\n",
       "    <tr>\n",
       "      <th>Percy Jackson &amp; the Olympians: The Lightning Thief</th>\n",
       "      <td>[12, 14, 10751]</td>\n",
       "    </tr>\n",
       "    <tr>\n",
       "      <th>...</th>\n",
       "      <td>...</td>\n",
       "    </tr>\n",
       "    <tr>\n",
       "      <th>Laboratory Conditions</th>\n",
       "      <td>[27, 18]</td>\n",
       "    </tr>\n",
       "    <tr>\n",
       "      <th>_EXHIBIT_84xxx_</th>\n",
       "      <td>[18, 53]</td>\n",
       "    </tr>\n",
       "    <tr>\n",
       "      <th>The Last One</th>\n",
       "      <td>[14, 28, 12]</td>\n",
       "    </tr>\n",
       "    <tr>\n",
       "      <th>Trailer Made</th>\n",
       "      <td>[10751, 12, 28]</td>\n",
       "    </tr>\n",
       "    <tr>\n",
       "      <th>The Church</th>\n",
       "      <td>[53, 27]</td>\n",
       "    </tr>\n",
       "  </tbody>\n",
       "</table>\n",
       "<p>17714 rows × 1 columns</p>\n",
       "</div>"
      ],
      "text/plain": [
       "                                                              genre_ids\n",
       "title                                                                  \n",
       "How to Train Your Dragon                            [14, 12, 16, 10751]\n",
       "Iron Man 2                                                [12, 28, 878]\n",
       "Toy Story                                               [16, 35, 10751]\n",
       "Inception                                                 [28, 878, 12]\n",
       "Percy Jackson & the Olympians: The Lightning Thief      [12, 14, 10751]\n",
       "...                                                                 ...\n",
       "Laboratory Conditions                                          [27, 18]\n",
       "_EXHIBIT_84xxx_                                                [18, 53]\n",
       "The Last One                                               [14, 28, 12]\n",
       "Trailer Made                                            [10751, 12, 28]\n",
       "The Church                                                     [53, 27]\n",
       "\n",
       "[17714 rows x 1 columns]"
      ]
     },
     "execution_count": 27,
     "metadata": {},
     "output_type": "execute_result"
    }
   ],
   "source": [
    "tmdb_relevant = tmdb_relevant.set_index('title')\n",
    "tmdb_relevant"
   ]
  },
  {
   "cell_type": "markdown",
   "metadata": {},
   "source": [
    "Now that we had cleaned the data, it was ready to be merged."
   ]
  },
  {
   "cell_type": "code",
   "execution_count": 28,
   "metadata": {},
   "outputs": [
    {
     "name": "stdout",
     "output_type": "stream",
     "text": [
      "<class 'pandas.core.frame.DataFrame'>\n",
      "Index: 656 entries, John Carter to Newlyweds\n",
      "Data columns (total 2 columns):\n",
      " #   Column        Non-Null Count  Dtype \n",
      "---  ------        --------------  ----- \n",
      " 0   total_profit  656 non-null    int64 \n",
      " 1   genre_ids     656 non-null    object\n",
      "dtypes: int64(1), object(1)\n",
      "memory usage: 15.4+ KB\n"
     ]
    }
   ],
   "source": [
    "budgets_and_tmdb = budgets_relevant.join(tmdb_relevant, how='inner')\n",
    "budgets_and_tmdb.info()"
   ]
  },
  {
   "cell_type": "markdown",
   "metadata": {},
   "source": [
    "After merging the dataframes, we were left with a much smaller dataframe than either of the parent datasets. This, however, was expected given there was no gaurantee that the datasets would overlap in their contents significantly nor was there a gaurantee that there would not be any spelling errors in the titles that would prevent a successful join for at least some rows. Given the timeframe of this project, we decided to proceed with the knowledge that 656 movies can still provide some useful insights.\n",
    "\n",
    "The genre_ids column is made up of strings. This means that we needed to remove any string characters and isolate each genre id before making dummy columns. We needed to accomplish the following:\n",
    "1. Remove brackets and whitespace\n",
    "2. Split by commas\n",
    "3. Create a new dataframe with genres as columns and cells containing binary values, with 1 indicating a relevant genre for that movie. \n",
    "\n",
    "For this section, we utilized this resource to create our dummy columns: https://stackoverflow.com/questions/29034928/pandas-convert-a-column-of-list-to-dummies"
   ]
  },
  {
   "cell_type": "code",
   "execution_count": 29,
   "metadata": {},
   "outputs": [
    {
     "data": {
      "text/html": [
       "<div>\n",
       "<style scoped>\n",
       "    .dataframe tbody tr th:only-of-type {\n",
       "        vertical-align: middle;\n",
       "    }\n",
       "\n",
       "    .dataframe tbody tr th {\n",
       "        vertical-align: top;\n",
       "    }\n",
       "\n",
       "    .dataframe thead th {\n",
       "        text-align: right;\n",
       "    }\n",
       "</style>\n",
       "<table border=\"1\" class=\"dataframe\">\n",
       "  <thead>\n",
       "    <tr style=\"text-align: right;\">\n",
       "      <th></th>\n",
       "      <th>total_profit</th>\n",
       "      <th>genre_ids</th>\n",
       "      <th></th>\n",
       "      <th>Music</th>\n",
       "      <th>Romance</th>\n",
       "      <th>Family</th>\n",
       "      <th>War</th>\n",
       "      <th>TV</th>\n",
       "      <th>Adventure</th>\n",
       "      <th>Fantasy</th>\n",
       "      <th>...</th>\n",
       "      <th>Horror</th>\n",
       "      <th>Action</th>\n",
       "      <th>Comedy</th>\n",
       "      <th>History</th>\n",
       "      <th>Western</th>\n",
       "      <th>Thriller</th>\n",
       "      <th>Crime</th>\n",
       "      <th>SciFi</th>\n",
       "      <th>Mystery</th>\n",
       "      <th>Documentary</th>\n",
       "    </tr>\n",
       "  </thead>\n",
       "  <tbody>\n",
       "    <tr>\n",
       "      <th>John Carter</th>\n",
       "      <td>7778100</td>\n",
       "      <td>28,12,878</td>\n",
       "      <td>0</td>\n",
       "      <td>0</td>\n",
       "      <td>0</td>\n",
       "      <td>0</td>\n",
       "      <td>0</td>\n",
       "      <td>0</td>\n",
       "      <td>1</td>\n",
       "      <td>0</td>\n",
       "      <td>...</td>\n",
       "      <td>0</td>\n",
       "      <td>1</td>\n",
       "      <td>0</td>\n",
       "      <td>0</td>\n",
       "      <td>0</td>\n",
       "      <td>0</td>\n",
       "      <td>0</td>\n",
       "      <td>1</td>\n",
       "      <td>0</td>\n",
       "      <td>0</td>\n",
       "    </tr>\n",
       "    <tr>\n",
       "      <th>Green Lantern</th>\n",
       "      <td>19535492</td>\n",
       "      <td>12,28,53,878</td>\n",
       "      <td>0</td>\n",
       "      <td>0</td>\n",
       "      <td>0</td>\n",
       "      <td>0</td>\n",
       "      <td>0</td>\n",
       "      <td>0</td>\n",
       "      <td>1</td>\n",
       "      <td>0</td>\n",
       "      <td>...</td>\n",
       "      <td>0</td>\n",
       "      <td>1</td>\n",
       "      <td>0</td>\n",
       "      <td>0</td>\n",
       "      <td>0</td>\n",
       "      <td>1</td>\n",
       "      <td>0</td>\n",
       "      <td>1</td>\n",
       "      <td>0</td>\n",
       "      <td>0</td>\n",
       "    </tr>\n",
       "    <tr>\n",
       "      <th>Jack the Giant Slayer</th>\n",
       "      <td>2687603</td>\n",
       "      <td>28,12,10751,14</td>\n",
       "      <td>0</td>\n",
       "      <td>0</td>\n",
       "      <td>0</td>\n",
       "      <td>1</td>\n",
       "      <td>0</td>\n",
       "      <td>0</td>\n",
       "      <td>1</td>\n",
       "      <td>1</td>\n",
       "      <td>...</td>\n",
       "      <td>0</td>\n",
       "      <td>1</td>\n",
       "      <td>0</td>\n",
       "      <td>0</td>\n",
       "      <td>0</td>\n",
       "      <td>0</td>\n",
       "      <td>0</td>\n",
       "      <td>0</td>\n",
       "      <td>0</td>\n",
       "      <td>0</td>\n",
       "    </tr>\n",
       "    <tr>\n",
       "      <th>Hugo</th>\n",
       "      <td>47784</td>\n",
       "      <td>12,18,10751</td>\n",
       "      <td>0</td>\n",
       "      <td>0</td>\n",
       "      <td>0</td>\n",
       "      <td>1</td>\n",
       "      <td>0</td>\n",
       "      <td>0</td>\n",
       "      <td>1</td>\n",
       "      <td>0</td>\n",
       "      <td>...</td>\n",
       "      <td>0</td>\n",
       "      <td>0</td>\n",
       "      <td>0</td>\n",
       "      <td>0</td>\n",
       "      <td>0</td>\n",
       "      <td>0</td>\n",
       "      <td>0</td>\n",
       "      <td>0</td>\n",
       "      <td>0</td>\n",
       "      <td>0</td>\n",
       "    </tr>\n",
       "    <tr>\n",
       "      <th>Valerian and the City of a Thousand Planets</th>\n",
       "      <td>35098356</td>\n",
       "      <td>12,878,28</td>\n",
       "      <td>0</td>\n",
       "      <td>0</td>\n",
       "      <td>0</td>\n",
       "      <td>0</td>\n",
       "      <td>0</td>\n",
       "      <td>0</td>\n",
       "      <td>1</td>\n",
       "      <td>0</td>\n",
       "      <td>...</td>\n",
       "      <td>0</td>\n",
       "      <td>1</td>\n",
       "      <td>0</td>\n",
       "      <td>0</td>\n",
       "      <td>0</td>\n",
       "      <td>0</td>\n",
       "      <td>0</td>\n",
       "      <td>1</td>\n",
       "      <td>0</td>\n",
       "      <td>0</td>\n",
       "    </tr>\n",
       "    <tr>\n",
       "      <th>...</th>\n",
       "      <td>...</td>\n",
       "      <td>...</td>\n",
       "      <td>...</td>\n",
       "      <td>...</td>\n",
       "      <td>...</td>\n",
       "      <td>...</td>\n",
       "      <td>...</td>\n",
       "      <td>...</td>\n",
       "      <td>...</td>\n",
       "      <td>...</td>\n",
       "      <td>...</td>\n",
       "      <td>...</td>\n",
       "      <td>...</td>\n",
       "      <td>...</td>\n",
       "      <td>...</td>\n",
       "      <td>...</td>\n",
       "      <td>...</td>\n",
       "      <td>...</td>\n",
       "      <td>...</td>\n",
       "      <td>...</td>\n",
       "      <td>...</td>\n",
       "    </tr>\n",
       "    <tr>\n",
       "      <th>Exeter</th>\n",
       "      <td>464792</td>\n",
       "      <td>53,27</td>\n",
       "      <td>0</td>\n",
       "      <td>0</td>\n",
       "      <td>0</td>\n",
       "      <td>0</td>\n",
       "      <td>0</td>\n",
       "      <td>0</td>\n",
       "      <td>0</td>\n",
       "      <td>0</td>\n",
       "      <td>...</td>\n",
       "      <td>1</td>\n",
       "      <td>0</td>\n",
       "      <td>0</td>\n",
       "      <td>0</td>\n",
       "      <td>0</td>\n",
       "      <td>1</td>\n",
       "      <td>0</td>\n",
       "      <td>0</td>\n",
       "      <td>0</td>\n",
       "      <td>0</td>\n",
       "    </tr>\n",
       "    <tr>\n",
       "      <th>Ten</th>\n",
       "      <td>27067880</td>\n",
       "      <td>12,27,9648,53</td>\n",
       "      <td>0</td>\n",
       "      <td>0</td>\n",
       "      <td>0</td>\n",
       "      <td>0</td>\n",
       "      <td>0</td>\n",
       "      <td>0</td>\n",
       "      <td>1</td>\n",
       "      <td>0</td>\n",
       "      <td>...</td>\n",
       "      <td>1</td>\n",
       "      <td>0</td>\n",
       "      <td>0</td>\n",
       "      <td>0</td>\n",
       "      <td>0</td>\n",
       "      <td>1</td>\n",
       "      <td>0</td>\n",
       "      <td>0</td>\n",
       "      <td>1</td>\n",
       "      <td>0</td>\n",
       "    </tr>\n",
       "    <tr>\n",
       "      <th>Dry Spell</th>\n",
       "      <td>27070880</td>\n",
       "      <td>35,10749</td>\n",
       "      <td>0</td>\n",
       "      <td>0</td>\n",
       "      <td>1</td>\n",
       "      <td>0</td>\n",
       "      <td>0</td>\n",
       "      <td>0</td>\n",
       "      <td>0</td>\n",
       "      <td>0</td>\n",
       "      <td>...</td>\n",
       "      <td>0</td>\n",
       "      <td>0</td>\n",
       "      <td>1</td>\n",
       "      <td>0</td>\n",
       "      <td>0</td>\n",
       "      <td>0</td>\n",
       "      <td>0</td>\n",
       "      <td>0</td>\n",
       "      <td>0</td>\n",
       "      <td>0</td>\n",
       "    </tr>\n",
       "    <tr>\n",
       "      <th>All Superheroes Must Die</th>\n",
       "      <td>27072880</td>\n",
       "      <td>878,53</td>\n",
       "      <td>0</td>\n",
       "      <td>0</td>\n",
       "      <td>0</td>\n",
       "      <td>0</td>\n",
       "      <td>0</td>\n",
       "      <td>0</td>\n",
       "      <td>0</td>\n",
       "      <td>0</td>\n",
       "      <td>...</td>\n",
       "      <td>0</td>\n",
       "      <td>0</td>\n",
       "      <td>0</td>\n",
       "      <td>0</td>\n",
       "      <td>0</td>\n",
       "      <td>1</td>\n",
       "      <td>0</td>\n",
       "      <td>1</td>\n",
       "      <td>0</td>\n",
       "      <td>0</td>\n",
       "    </tr>\n",
       "    <tr>\n",
       "      <th>Newlyweds</th>\n",
       "      <td>-4416</td>\n",
       "      <td>35,10749</td>\n",
       "      <td>0</td>\n",
       "      <td>0</td>\n",
       "      <td>1</td>\n",
       "      <td>0</td>\n",
       "      <td>0</td>\n",
       "      <td>0</td>\n",
       "      <td>0</td>\n",
       "      <td>0</td>\n",
       "      <td>...</td>\n",
       "      <td>0</td>\n",
       "      <td>0</td>\n",
       "      <td>1</td>\n",
       "      <td>0</td>\n",
       "      <td>0</td>\n",
       "      <td>0</td>\n",
       "      <td>0</td>\n",
       "      <td>0</td>\n",
       "      <td>0</td>\n",
       "      <td>0</td>\n",
       "    </tr>\n",
       "  </tbody>\n",
       "</table>\n",
       "<p>656 rows × 22 columns</p>\n",
       "</div>"
      ],
      "text/plain": [
       "                                             total_profit       genre_ids     \\\n",
       "John Carter                                       7778100       28,12,878  0   \n",
       "Green Lantern                                    19535492    12,28,53,878  0   \n",
       "Jack the Giant Slayer                             2687603  28,12,10751,14  0   \n",
       "Hugo                                                47784     12,18,10751  0   \n",
       "Valerian and the City of a Thousand Planets      35098356       12,878,28  0   \n",
       "...                                                   ...             ... ..   \n",
       "Exeter                                             464792           53,27  0   \n",
       "Ten                                              27067880   12,27,9648,53  0   \n",
       "Dry Spell                                        27070880        35,10749  0   \n",
       "All Superheroes Must Die                         27072880          878,53  0   \n",
       "Newlyweds                                           -4416        35,10749  0   \n",
       "\n",
       "                                             Music  Romance  Family  War  TV  \\\n",
       "John Carter                                      0        0       0    0   0   \n",
       "Green Lantern                                    0        0       0    0   0   \n",
       "Jack the Giant Slayer                            0        0       1    0   0   \n",
       "Hugo                                             0        0       1    0   0   \n",
       "Valerian and the City of a Thousand Planets      0        0       0    0   0   \n",
       "...                                            ...      ...     ...  ...  ..   \n",
       "Exeter                                           0        0       0    0   0   \n",
       "Ten                                              0        0       0    0   0   \n",
       "Dry Spell                                        0        1       0    0   0   \n",
       "All Superheroes Must Die                         0        0       0    0   0   \n",
       "Newlyweds                                        0        1       0    0   0   \n",
       "\n",
       "                                             Adventure  Fantasy  ...  Horror  \\\n",
       "John Carter                                          1        0  ...       0   \n",
       "Green Lantern                                        1        0  ...       0   \n",
       "Jack the Giant Slayer                                1        1  ...       0   \n",
       "Hugo                                                 1        0  ...       0   \n",
       "Valerian and the City of a Thousand Planets          1        0  ...       0   \n",
       "...                                                ...      ...  ...     ...   \n",
       "Exeter                                               0        0  ...       1   \n",
       "Ten                                                  1        0  ...       1   \n",
       "Dry Spell                                            0        0  ...       0   \n",
       "All Superheroes Must Die                             0        0  ...       0   \n",
       "Newlyweds                                            0        0  ...       0   \n",
       "\n",
       "                                             Action  Comedy  History  Western  \\\n",
       "John Carter                                       1       0        0        0   \n",
       "Green Lantern                                     1       0        0        0   \n",
       "Jack the Giant Slayer                             1       0        0        0   \n",
       "Hugo                                              0       0        0        0   \n",
       "Valerian and the City of a Thousand Planets       1       0        0        0   \n",
       "...                                             ...     ...      ...      ...   \n",
       "Exeter                                            0       0        0        0   \n",
       "Ten                                               0       0        0        0   \n",
       "Dry Spell                                         0       1        0        0   \n",
       "All Superheroes Must Die                          0       0        0        0   \n",
       "Newlyweds                                         0       1        0        0   \n",
       "\n",
       "                                             Thriller  Crime  SciFi  Mystery  \\\n",
       "John Carter                                         0      0      1        0   \n",
       "Green Lantern                                       1      0      1        0   \n",
       "Jack the Giant Slayer                               0      0      0        0   \n",
       "Hugo                                                0      0      0        0   \n",
       "Valerian and the City of a Thousand Planets         0      0      1        0   \n",
       "...                                               ...    ...    ...      ...   \n",
       "Exeter                                              1      0      0        0   \n",
       "Ten                                                 1      0      0        1   \n",
       "Dry Spell                                           0      0      0        0   \n",
       "All Superheroes Must Die                            1      0      1        0   \n",
       "Newlyweds                                           0      0      0        0   \n",
       "\n",
       "                                             Documentary  \n",
       "John Carter                                            0  \n",
       "Green Lantern                                          0  \n",
       "Jack the Giant Slayer                                  0  \n",
       "Hugo                                                   0  \n",
       "Valerian and the City of a Thousand Planets            0  \n",
       "...                                                  ...  \n",
       "Exeter                                                 0  \n",
       "Ten                                                    0  \n",
       "Dry Spell                                              0  \n",
       "All Superheroes Must Die                               0  \n",
       "Newlyweds                                              0  \n",
       "\n",
       "[656 rows x 22 columns]"
      ]
     },
     "execution_count": 29,
     "metadata": {},
     "output_type": "execute_result"
    }
   ],
   "source": [
    "def create_dummy_cols(data, col):\n",
    "    \n",
    "    # remove [, ], and whitespace\n",
    "    data[col] = data[col].str.strip(\"]\")\n",
    "    data[col] = data[col].str.strip(\"[\")\n",
    "    data[col] = data[col].str.replace(\" \", \"\")\n",
    "    \n",
    "    # split genre ids by commas\n",
    "    genre_ids = data[col].str.split(\",\")\n",
    "    \n",
    "    # create the binary dummy columns\n",
    "    bin_genre_df = pd.get_dummies(genre_ids.apply(pd.Series).stack()).sum(level=0)\n",
    "    budgets_and_genre_dummys = data.join(bin_genre_df, how='inner')\n",
    "    \n",
    "    # rename columns for genres\n",
    "    budgets_and_genre_dummys.rename(columns = {'28' : 'Action', \n",
    "                                           '12' : 'Adventure',\n",
    "                                          '16' : 'Animation',\n",
    "                                          '35' : 'Comedy',\n",
    "                                          '80' : 'Crime',\n",
    "                                          '99' : 'Documentary',\n",
    "                                          '18' : 'Drama',\n",
    "                                          '10751' : 'Family',\n",
    "                                          '14' : 'Fantasy',\n",
    "                                          '36' : 'History',\n",
    "                                          '27' : 'Horror',\n",
    "                                          '10402' : 'Music',\n",
    "                                          '9648' : 'Mystery',\n",
    "                                          '10749' : 'Romance',\n",
    "                                          '878' : 'SciFi',\n",
    "                                          '10770' : 'TV',\n",
    "                                          '53' : 'Thriller',\n",
    "                                          '10752' : 'War',\n",
    "                                          '37' : 'Western'}, inplace = True)\n",
    "    return budgets_and_genre_dummys\n",
    "\n",
    "budgets_and_genre_dummys = create_dummy_cols(budgets_and_tmdb,'genre_ids')\n",
    "budgets_and_genre_dummys"
   ]
  },
  {
   "cell_type": "markdown",
   "metadata": {},
   "source": [
    "Note: there is a dummy column seemingly associated with no genre. This appears to be the result of some titles which did not have any associated genre id. So, we dropped them from analysis. "
   ]
  },
  {
   "cell_type": "code",
   "execution_count": 30,
   "metadata": {},
   "outputs": [],
   "source": [
    "budgets_and_genre_dummys = budgets_and_genre_dummys.loc[ (budgets_and_genre_dummys[''] != 1) ] "
   ]
  },
  {
   "cell_type": "markdown",
   "metadata": {},
   "source": [
    "We decided to turn profit into a categorical variable denoting high vs. medium vs. low profit. The threshold values for these categories were decided as:\n",
    "\n",
    "- High = 75th percentile and greater\n",
    "- Medium = Greater than 25th percentile and lower than 75th percentile.\n",
    "- Low = 25th percentile and lower"
   ]
  },
  {
   "cell_type": "code",
   "execution_count": 31,
   "metadata": {},
   "outputs": [
    {
     "name": "stderr",
     "output_type": "stream",
     "text": [
      "C:\\Users\\morpelletier\\Anaconda3\\envs\\learn-env\\lib\\site-packages\\pandas\\core\\indexing.py:1596: SettingWithCopyWarning: \n",
      "A value is trying to be set on a copy of a slice from a DataFrame.\n",
      "Try using .loc[row_indexer,col_indexer] = value instead\n",
      "\n",
      "See the caveats in the documentation: https://pandas.pydata.org/pandas-docs/stable/user_guide/indexing.html#returning-a-view-versus-a-copy\n",
      "  self.obj[key] = _infer_fill_value(value)\n",
      "C:\\Users\\morpelletier\\Anaconda3\\envs\\learn-env\\lib\\site-packages\\pandas\\core\\indexing.py:1765: SettingWithCopyWarning: \n",
      "A value is trying to be set on a copy of a slice from a DataFrame.\n",
      "Try using .loc[row_indexer,col_indexer] = value instead\n",
      "\n",
      "See the caveats in the documentation: https://pandas.pydata.org/pandas-docs/stable/user_guide/indexing.html#returning-a-view-versus-a-copy\n",
      "  isetter(loc, value)\n",
      "C:\\Users\\morpelletier\\Anaconda3\\envs\\learn-env\\lib\\site-packages\\pandas\\core\\indexing.py:1765: SettingWithCopyWarning: \n",
      "A value is trying to be set on a copy of a slice from a DataFrame.\n",
      "Try using .loc[row_indexer,col_indexer] = value instead\n",
      "\n",
      "See the caveats in the documentation: https://pandas.pydata.org/pandas-docs/stable/user_guide/indexing.html#returning-a-view-versus-a-copy\n",
      "  isetter(loc, value)\n"
     ]
    },
    {
     "data": {
      "text/html": [
       "<div>\n",
       "<style scoped>\n",
       "    .dataframe tbody tr th:only-of-type {\n",
       "        vertical-align: middle;\n",
       "    }\n",
       "\n",
       "    .dataframe tbody tr th {\n",
       "        vertical-align: top;\n",
       "    }\n",
       "\n",
       "    .dataframe thead th {\n",
       "        text-align: right;\n",
       "    }\n",
       "</style>\n",
       "<table border=\"1\" class=\"dataframe\">\n",
       "  <thead>\n",
       "    <tr style=\"text-align: right;\">\n",
       "      <th></th>\n",
       "      <th>total_profit</th>\n",
       "      <th>genre_ids</th>\n",
       "      <th></th>\n",
       "      <th>Music</th>\n",
       "      <th>Romance</th>\n",
       "      <th>Family</th>\n",
       "      <th>War</th>\n",
       "      <th>TV</th>\n",
       "      <th>Adventure</th>\n",
       "      <th>Fantasy</th>\n",
       "      <th>...</th>\n",
       "      <th>Action</th>\n",
       "      <th>Comedy</th>\n",
       "      <th>History</th>\n",
       "      <th>Western</th>\n",
       "      <th>Thriller</th>\n",
       "      <th>Crime</th>\n",
       "      <th>SciFi</th>\n",
       "      <th>Mystery</th>\n",
       "      <th>Documentary</th>\n",
       "      <th>relative_profit_cat</th>\n",
       "    </tr>\n",
       "  </thead>\n",
       "  <tbody>\n",
       "    <tr>\n",
       "      <th>John Carter</th>\n",
       "      <td>7778100</td>\n",
       "      <td>28,12,878</td>\n",
       "      <td>0</td>\n",
       "      <td>0</td>\n",
       "      <td>0</td>\n",
       "      <td>0</td>\n",
       "      <td>0</td>\n",
       "      <td>0</td>\n",
       "      <td>1</td>\n",
       "      <td>0</td>\n",
       "      <td>...</td>\n",
       "      <td>1</td>\n",
       "      <td>0</td>\n",
       "      <td>0</td>\n",
       "      <td>0</td>\n",
       "      <td>0</td>\n",
       "      <td>0</td>\n",
       "      <td>1</td>\n",
       "      <td>0</td>\n",
       "      <td>0</td>\n",
       "      <td>medium</td>\n",
       "    </tr>\n",
       "    <tr>\n",
       "      <th>Green Lantern</th>\n",
       "      <td>19535492</td>\n",
       "      <td>12,28,53,878</td>\n",
       "      <td>0</td>\n",
       "      <td>0</td>\n",
       "      <td>0</td>\n",
       "      <td>0</td>\n",
       "      <td>0</td>\n",
       "      <td>0</td>\n",
       "      <td>1</td>\n",
       "      <td>0</td>\n",
       "      <td>...</td>\n",
       "      <td>1</td>\n",
       "      <td>0</td>\n",
       "      <td>0</td>\n",
       "      <td>0</td>\n",
       "      <td>1</td>\n",
       "      <td>0</td>\n",
       "      <td>1</td>\n",
       "      <td>0</td>\n",
       "      <td>0</td>\n",
       "      <td>medium</td>\n",
       "    </tr>\n",
       "    <tr>\n",
       "      <th>Jack the Giant Slayer</th>\n",
       "      <td>2687603</td>\n",
       "      <td>28,12,10751,14</td>\n",
       "      <td>0</td>\n",
       "      <td>0</td>\n",
       "      <td>0</td>\n",
       "      <td>1</td>\n",
       "      <td>0</td>\n",
       "      <td>0</td>\n",
       "      <td>1</td>\n",
       "      <td>1</td>\n",
       "      <td>...</td>\n",
       "      <td>1</td>\n",
       "      <td>0</td>\n",
       "      <td>0</td>\n",
       "      <td>0</td>\n",
       "      <td>0</td>\n",
       "      <td>0</td>\n",
       "      <td>0</td>\n",
       "      <td>0</td>\n",
       "      <td>0</td>\n",
       "      <td>low</td>\n",
       "    </tr>\n",
       "    <tr>\n",
       "      <th>Hugo</th>\n",
       "      <td>47784</td>\n",
       "      <td>12,18,10751</td>\n",
       "      <td>0</td>\n",
       "      <td>0</td>\n",
       "      <td>0</td>\n",
       "      <td>1</td>\n",
       "      <td>0</td>\n",
       "      <td>0</td>\n",
       "      <td>1</td>\n",
       "      <td>0</td>\n",
       "      <td>...</td>\n",
       "      <td>0</td>\n",
       "      <td>0</td>\n",
       "      <td>0</td>\n",
       "      <td>0</td>\n",
       "      <td>0</td>\n",
       "      <td>0</td>\n",
       "      <td>0</td>\n",
       "      <td>0</td>\n",
       "      <td>0</td>\n",
       "      <td>low</td>\n",
       "    </tr>\n",
       "    <tr>\n",
       "      <th>Valerian and the City of a Thousand Planets</th>\n",
       "      <td>35098356</td>\n",
       "      <td>12,878,28</td>\n",
       "      <td>0</td>\n",
       "      <td>0</td>\n",
       "      <td>0</td>\n",
       "      <td>0</td>\n",
       "      <td>0</td>\n",
       "      <td>0</td>\n",
       "      <td>1</td>\n",
       "      <td>0</td>\n",
       "      <td>...</td>\n",
       "      <td>1</td>\n",
       "      <td>0</td>\n",
       "      <td>0</td>\n",
       "      <td>0</td>\n",
       "      <td>0</td>\n",
       "      <td>0</td>\n",
       "      <td>1</td>\n",
       "      <td>0</td>\n",
       "      <td>0</td>\n",
       "      <td>high</td>\n",
       "    </tr>\n",
       "  </tbody>\n",
       "</table>\n",
       "<p>5 rows × 23 columns</p>\n",
       "</div>"
      ],
      "text/plain": [
       "                                             total_profit       genre_ids     \\\n",
       "John Carter                                       7778100       28,12,878  0   \n",
       "Green Lantern                                    19535492    12,28,53,878  0   \n",
       "Jack the Giant Slayer                             2687603  28,12,10751,14  0   \n",
       "Hugo                                                47784     12,18,10751  0   \n",
       "Valerian and the City of a Thousand Planets      35098356       12,878,28  0   \n",
       "\n",
       "                                             Music  Romance  Family  War  TV  \\\n",
       "John Carter                                      0        0       0    0   0   \n",
       "Green Lantern                                    0        0       0    0   0   \n",
       "Jack the Giant Slayer                            0        0       1    0   0   \n",
       "Hugo                                             0        0       1    0   0   \n",
       "Valerian and the City of a Thousand Planets      0        0       0    0   0   \n",
       "\n",
       "                                             Adventure  Fantasy  ...  Action  \\\n",
       "John Carter                                          1        0  ...       1   \n",
       "Green Lantern                                        1        0  ...       1   \n",
       "Jack the Giant Slayer                                1        1  ...       1   \n",
       "Hugo                                                 1        0  ...       0   \n",
       "Valerian and the City of a Thousand Planets          1        0  ...       1   \n",
       "\n",
       "                                             Comedy  History  Western  \\\n",
       "John Carter                                       0        0        0   \n",
       "Green Lantern                                     0        0        0   \n",
       "Jack the Giant Slayer                             0        0        0   \n",
       "Hugo                                              0        0        0   \n",
       "Valerian and the City of a Thousand Planets       0        0        0   \n",
       "\n",
       "                                             Thriller  Crime  SciFi  Mystery  \\\n",
       "John Carter                                         0      0      1        0   \n",
       "Green Lantern                                       1      0      1        0   \n",
       "Jack the Giant Slayer                               0      0      0        0   \n",
       "Hugo                                                0      0      0        0   \n",
       "Valerian and the City of a Thousand Planets         0      0      1        0   \n",
       "\n",
       "                                             Documentary  relative_profit_cat  \n",
       "John Carter                                            0               medium  \n",
       "Green Lantern                                          0               medium  \n",
       "Jack the Giant Slayer                                  0                  low  \n",
       "Hugo                                                   0                  low  \n",
       "Valerian and the City of a Thousand Planets            0                 high  \n",
       "\n",
       "[5 rows x 23 columns]"
      ]
     },
     "execution_count": 31,
     "metadata": {},
     "output_type": "execute_result"
    }
   ],
   "source": [
    "# define thresholds\n",
    "iqr_Q1 = budgets_and_genre_dummys['total_profit'].quantile(q=.25)\n",
    "iqr_Q3 = budgets_and_genre_dummys['total_profit'].quantile(q=.75)\n",
    "\n",
    "# assign categories based on thresholds\n",
    "budgets_and_genre_dummys.loc[ budgets_and_genre_dummys['total_profit'] >= iqr_Q3, 'relative_profit_cat'] = 'high'\n",
    "budgets_and_genre_dummys.loc[ budgets_and_genre_dummys['total_profit'] <= iqr_Q1, 'relative_profit_cat'] = 'low'\n",
    "budgets_and_genre_dummys.loc[ budgets_and_genre_dummys['relative_profit_cat'].isna() , 'relative_profit_cat'] = 'medium'\n",
    "\n",
    "budgets_and_genre_dummys.head()"
   ]
  },
  {
   "cell_type": "markdown",
   "metadata": {},
   "source": [
    "##### Chi-Square Analysis\n",
    "\n",
    "In preparation for chi-square analysis, nwe built a contingency table with genres as rows and relative profit category as columns."
   ]
  },
  {
   "cell_type": "code",
   "execution_count": 32,
   "metadata": {},
   "outputs": [
    {
     "data": {
      "text/html": [
       "<div>\n",
       "<style scoped>\n",
       "    .dataframe tbody tr th:only-of-type {\n",
       "        vertical-align: middle;\n",
       "    }\n",
       "\n",
       "    .dataframe tbody tr th {\n",
       "        vertical-align: top;\n",
       "    }\n",
       "\n",
       "    .dataframe thead th {\n",
       "        text-align: right;\n",
       "    }\n",
       "</style>\n",
       "<table border=\"1\" class=\"dataframe\">\n",
       "  <thead>\n",
       "    <tr style=\"text-align: right;\">\n",
       "      <th></th>\n",
       "      <th>index</th>\n",
       "      <th>high</th>\n",
       "      <th>medium</th>\n",
       "      <th>low</th>\n",
       "    </tr>\n",
       "  </thead>\n",
       "  <tbody>\n",
       "    <tr>\n",
       "      <th>0</th>\n",
       "      <td>Music</td>\n",
       "      <td>0</td>\n",
       "      <td>0</td>\n",
       "      <td>0</td>\n",
       "    </tr>\n",
       "    <tr>\n",
       "      <th>1</th>\n",
       "      <td>Romance</td>\n",
       "      <td>0</td>\n",
       "      <td>0</td>\n",
       "      <td>0</td>\n",
       "    </tr>\n",
       "    <tr>\n",
       "      <th>2</th>\n",
       "      <td>Family</td>\n",
       "      <td>0</td>\n",
       "      <td>0</td>\n",
       "      <td>0</td>\n",
       "    </tr>\n",
       "    <tr>\n",
       "      <th>3</th>\n",
       "      <td>War</td>\n",
       "      <td>0</td>\n",
       "      <td>0</td>\n",
       "      <td>0</td>\n",
       "    </tr>\n",
       "    <tr>\n",
       "      <th>4</th>\n",
       "      <td>TV</td>\n",
       "      <td>0</td>\n",
       "      <td>0</td>\n",
       "      <td>0</td>\n",
       "    </tr>\n",
       "  </tbody>\n",
       "</table>\n",
       "</div>"
      ],
      "text/plain": [
       "     index  high  medium  low\n",
       "0    Music     0       0    0\n",
       "1  Romance     0       0    0\n",
       "2   Family     0       0    0\n",
       "3      War     0       0    0\n",
       "4       TV     0       0    0"
      ]
     },
     "execution_count": 32,
     "metadata": {},
     "output_type": "execute_result"
    }
   ],
   "source": [
    "# initialize list of genres\n",
    "genres = []\n",
    "\n",
    "# for each column in the dataset\n",
    "for column in budgets_and_genre_dummys.columns:\n",
    "    # if it isn't a non-genre column\n",
    "    ignored_cols = ['total_profit','title','relative_profit_cat','genre_ids','']  \n",
    "    if column not in ignored_cols:\n",
    "        # add it to the list of genres\n",
    "        genres.append(column)\n",
    "        \n",
    "## Creating the contingency table\n",
    "\n",
    "# create a dataframe with profit as columns and genres as rows\n",
    "contingency_table = pd.DataFrame(columns = ['high', 'medium','low'], index = genres)\n",
    "\n",
    "# replace the index (this is useful for using the numeric index to populate the dataframe in the next cell)\n",
    "contingency_table.reset_index(inplace = True)\n",
    "\n",
    "# fill the table with zeroes\n",
    "contingency_table = contingency_table.fillna(0)\n",
    "contingency_table.head()"
   ]
  },
  {
   "cell_type": "markdown",
   "metadata": {},
   "source": [
    "After creating the contingency table, we iterated through each row in the original dataframe to populate the contingency table based on genre and profit category. \n",
    "\n",
    "Resource: https://www.geeksforgeeks.org/how-to-set-cell-value-in-pandas-dataframe/"
   ]
  },
  {
   "cell_type": "code",
   "execution_count": 33,
   "metadata": {},
   "outputs": [
    {
     "data": {
      "text/html": [
       "<div>\n",
       "<style scoped>\n",
       "    .dataframe tbody tr th:only-of-type {\n",
       "        vertical-align: middle;\n",
       "    }\n",
       "\n",
       "    .dataframe tbody tr th {\n",
       "        vertical-align: top;\n",
       "    }\n",
       "\n",
       "    .dataframe thead th {\n",
       "        text-align: right;\n",
       "    }\n",
       "</style>\n",
       "<table border=\"1\" class=\"dataframe\">\n",
       "  <thead>\n",
       "    <tr style=\"text-align: right;\">\n",
       "      <th></th>\n",
       "      <th>index</th>\n",
       "      <th>high</th>\n",
       "      <th>medium</th>\n",
       "      <th>low</th>\n",
       "    </tr>\n",
       "  </thead>\n",
       "  <tbody>\n",
       "    <tr>\n",
       "      <th>0</th>\n",
       "      <td>Music</td>\n",
       "      <td>1</td>\n",
       "      <td>6</td>\n",
       "      <td>5</td>\n",
       "    </tr>\n",
       "    <tr>\n",
       "      <th>1</th>\n",
       "      <td>Romance</td>\n",
       "      <td>27</td>\n",
       "      <td>47</td>\n",
       "      <td>28</td>\n",
       "    </tr>\n",
       "    <tr>\n",
       "      <th>2</th>\n",
       "      <td>Family</td>\n",
       "      <td>17</td>\n",
       "      <td>23</td>\n",
       "      <td>6</td>\n",
       "    </tr>\n",
       "    <tr>\n",
       "      <th>3</th>\n",
       "      <td>War</td>\n",
       "      <td>3</td>\n",
       "      <td>5</td>\n",
       "      <td>2</td>\n",
       "    </tr>\n",
       "    <tr>\n",
       "      <th>4</th>\n",
       "      <td>TV</td>\n",
       "      <td>0</td>\n",
       "      <td>3</td>\n",
       "      <td>1</td>\n",
       "    </tr>\n",
       "    <tr>\n",
       "      <th>5</th>\n",
       "      <td>Adventure</td>\n",
       "      <td>22</td>\n",
       "      <td>32</td>\n",
       "      <td>10</td>\n",
       "    </tr>\n",
       "    <tr>\n",
       "      <th>6</th>\n",
       "      <td>Fantasy</td>\n",
       "      <td>12</td>\n",
       "      <td>15</td>\n",
       "      <td>12</td>\n",
       "    </tr>\n",
       "    <tr>\n",
       "      <th>7</th>\n",
       "      <td>Animation</td>\n",
       "      <td>10</td>\n",
       "      <td>14</td>\n",
       "      <td>2</td>\n",
       "    </tr>\n",
       "    <tr>\n",
       "      <th>8</th>\n",
       "      <td>Drama</td>\n",
       "      <td>71</td>\n",
       "      <td>163</td>\n",
       "      <td>99</td>\n",
       "    </tr>\n",
       "    <tr>\n",
       "      <th>9</th>\n",
       "      <td>Horror</td>\n",
       "      <td>24</td>\n",
       "      <td>50</td>\n",
       "      <td>18</td>\n",
       "    </tr>\n",
       "    <tr>\n",
       "      <th>10</th>\n",
       "      <td>Action</td>\n",
       "      <td>36</td>\n",
       "      <td>69</td>\n",
       "      <td>14</td>\n",
       "    </tr>\n",
       "    <tr>\n",
       "      <th>11</th>\n",
       "      <td>Comedy</td>\n",
       "      <td>55</td>\n",
       "      <td>103</td>\n",
       "      <td>47</td>\n",
       "    </tr>\n",
       "    <tr>\n",
       "      <th>12</th>\n",
       "      <td>History</td>\n",
       "      <td>7</td>\n",
       "      <td>14</td>\n",
       "      <td>3</td>\n",
       "    </tr>\n",
       "    <tr>\n",
       "      <th>13</th>\n",
       "      <td>Western</td>\n",
       "      <td>0</td>\n",
       "      <td>1</td>\n",
       "      <td>1</td>\n",
       "    </tr>\n",
       "    <tr>\n",
       "      <th>14</th>\n",
       "      <td>Thriller</td>\n",
       "      <td>45</td>\n",
       "      <td>101</td>\n",
       "      <td>41</td>\n",
       "    </tr>\n",
       "    <tr>\n",
       "      <th>15</th>\n",
       "      <td>Crime</td>\n",
       "      <td>30</td>\n",
       "      <td>38</td>\n",
       "      <td>19</td>\n",
       "    </tr>\n",
       "    <tr>\n",
       "      <th>16</th>\n",
       "      <td>SciFi</td>\n",
       "      <td>15</td>\n",
       "      <td>27</td>\n",
       "      <td>9</td>\n",
       "    </tr>\n",
       "    <tr>\n",
       "      <th>17</th>\n",
       "      <td>Mystery</td>\n",
       "      <td>12</td>\n",
       "      <td>32</td>\n",
       "      <td>14</td>\n",
       "    </tr>\n",
       "    <tr>\n",
       "      <th>18</th>\n",
       "      <td>Documentary</td>\n",
       "      <td>3</td>\n",
       "      <td>9</td>\n",
       "      <td>17</td>\n",
       "    </tr>\n",
       "  </tbody>\n",
       "</table>\n",
       "</div>"
      ],
      "text/plain": [
       "          index  high  medium  low\n",
       "0         Music     1       6    5\n",
       "1       Romance    27      47   28\n",
       "2        Family    17      23    6\n",
       "3           War     3       5    2\n",
       "4            TV     0       3    1\n",
       "5     Adventure    22      32   10\n",
       "6       Fantasy    12      15   12\n",
       "7     Animation    10      14    2\n",
       "8         Drama    71     163   99\n",
       "9        Horror    24      50   18\n",
       "10       Action    36      69   14\n",
       "11       Comedy    55     103   47\n",
       "12      History     7      14    3\n",
       "13      Western     0       1    1\n",
       "14     Thriller    45     101   41\n",
       "15        Crime    30      38   19\n",
       "16        SciFi    15      27    9\n",
       "17      Mystery    12      32   14\n",
       "18  Documentary     3       9   17"
      ]
     },
     "execution_count": 33,
     "metadata": {},
     "output_type": "execute_result"
    }
   ],
   "source": [
    "# for each row\n",
    "for index, row in budgets_and_genre_dummys.iterrows():\n",
    "    \n",
    "    # for each column in that row that is a genre\n",
    "    for col in budgets_and_genre_dummys.columns:\n",
    "        \n",
    "        if col not in ignored_cols:\n",
    "    \n",
    "            # if the cell value is 1\n",
    "            if row[col] == 1 :\n",
    "                \n",
    "                # find the index associated with that genre in the contingency table\n",
    "                genre_idx = contingency_table[contingency_table['index'] == col].index.values\n",
    "                \n",
    "                # look at the profit category column and save that value as well\n",
    "                profit_cat = row['relative_profit_cat']\n",
    "    \n",
    "                # find the cell associated with that row index and profit column in the contingency table and add 1 \n",
    "                contingency_table.loc[genre_idx, profit_cat] += 1   \n",
    "                \n",
    "contingency_table"
   ]
  },
  {
   "cell_type": "markdown",
   "metadata": {},
   "source": [
    "We noted that there were some genres where there weren't many movies. To avoid drawing conclusions based on small sample sizes, we decided to filter out rows in the contingency table with row totals less than 50. "
   ]
  },
  {
   "cell_type": "code",
   "execution_count": 34,
   "metadata": {},
   "outputs": [
    {
     "data": {
      "text/html": [
       "<div>\n",
       "<style scoped>\n",
       "    .dataframe tbody tr th:only-of-type {\n",
       "        vertical-align: middle;\n",
       "    }\n",
       "\n",
       "    .dataframe tbody tr th {\n",
       "        vertical-align: top;\n",
       "    }\n",
       "\n",
       "    .dataframe thead th {\n",
       "        text-align: right;\n",
       "    }\n",
       "</style>\n",
       "<table border=\"1\" class=\"dataframe\">\n",
       "  <thead>\n",
       "    <tr style=\"text-align: right;\">\n",
       "      <th></th>\n",
       "      <th>high</th>\n",
       "      <th>medium</th>\n",
       "      <th>low</th>\n",
       "    </tr>\n",
       "    <tr>\n",
       "      <th>index</th>\n",
       "      <th></th>\n",
       "      <th></th>\n",
       "      <th></th>\n",
       "    </tr>\n",
       "  </thead>\n",
       "  <tbody>\n",
       "    <tr>\n",
       "      <th>Romance</th>\n",
       "      <td>27</td>\n",
       "      <td>47</td>\n",
       "      <td>28</td>\n",
       "    </tr>\n",
       "    <tr>\n",
       "      <th>Adventure</th>\n",
       "      <td>22</td>\n",
       "      <td>32</td>\n",
       "      <td>10</td>\n",
       "    </tr>\n",
       "    <tr>\n",
       "      <th>Drama</th>\n",
       "      <td>71</td>\n",
       "      <td>163</td>\n",
       "      <td>99</td>\n",
       "    </tr>\n",
       "    <tr>\n",
       "      <th>Horror</th>\n",
       "      <td>24</td>\n",
       "      <td>50</td>\n",
       "      <td>18</td>\n",
       "    </tr>\n",
       "    <tr>\n",
       "      <th>Action</th>\n",
       "      <td>36</td>\n",
       "      <td>69</td>\n",
       "      <td>14</td>\n",
       "    </tr>\n",
       "    <tr>\n",
       "      <th>Comedy</th>\n",
       "      <td>55</td>\n",
       "      <td>103</td>\n",
       "      <td>47</td>\n",
       "    </tr>\n",
       "    <tr>\n",
       "      <th>Thriller</th>\n",
       "      <td>45</td>\n",
       "      <td>101</td>\n",
       "      <td>41</td>\n",
       "    </tr>\n",
       "    <tr>\n",
       "      <th>Crime</th>\n",
       "      <td>30</td>\n",
       "      <td>38</td>\n",
       "      <td>19</td>\n",
       "    </tr>\n",
       "    <tr>\n",
       "      <th>SciFi</th>\n",
       "      <td>15</td>\n",
       "      <td>27</td>\n",
       "      <td>9</td>\n",
       "    </tr>\n",
       "    <tr>\n",
       "      <th>Mystery</th>\n",
       "      <td>12</td>\n",
       "      <td>32</td>\n",
       "      <td>14</td>\n",
       "    </tr>\n",
       "  </tbody>\n",
       "</table>\n",
       "</div>"
      ],
      "text/plain": [
       "           high  medium  low\n",
       "index                       \n",
       "Romance      27      47   28\n",
       "Adventure    22      32   10\n",
       "Drama        71     163   99\n",
       "Horror       24      50   18\n",
       "Action       36      69   14\n",
       "Comedy       55     103   47\n",
       "Thriller     45     101   41\n",
       "Crime        30      38   19\n",
       "SciFi        15      27    9\n",
       "Mystery      12      32   14"
      ]
     },
     "execution_count": 34,
     "metadata": {},
     "output_type": "execute_result"
    }
   ],
   "source": [
    "contingency_table = contingency_table.loc[contingency_table['high'] + contingency_table['medium'] + contingency_table['low'] >= 50]\n",
    "contingency_table = contingency_table.set_index('index')\n",
    "contingency_table"
   ]
  },
  {
   "cell_type": "markdown",
   "metadata": {},
   "source": [
    "With the contingency table populated and filtered for decent sample size, we were ready to conduct the chi-squared test.\n",
    "\n",
    "Resource: https://www.geeksforgeeks.org/python-pearsons-chi-square-test/"
   ]
  },
  {
   "cell_type": "code",
   "execution_count": 35,
   "metadata": {},
   "outputs": [
    {
     "name": "stdout",
     "output_type": "stream",
     "text": [
      "p value is 0.04456193254973362\n",
      "Reject H_0\n"
     ]
    }
   ],
   "source": [
    "from scipy.stats import chi2_contingency\n",
    "\n",
    "# H_0 : Genre and Profit Level are not associated\n",
    "# H_1: Genre and Profit Level are associated\n",
    "\n",
    "stat, p, dof, expected = chi2_contingency(contingency_table)\n",
    "  \n",
    "# interpret p-value\n",
    "alpha = 0.05\n",
    "print(\"p value is \" + str(p))\n",
    "if p <= alpha:\n",
    "    print('Reject H_0')\n",
    "else:\n",
    "    print('Retain H_0')"
   ]
  },
  {
   "cell_type": "markdown",
   "metadata": {},
   "source": [
    "What this told us was that there was a significant association between these genres and relative profit categories. To dive deeper into the specifics, we needed to dichotomize our profit variable. \n",
    "\n",
    "We began with collapsing our medium and low profit categories into one category. This would allow us to see if there is a significant association between genres and higher profits. "
   ]
  },
  {
   "cell_type": "code",
   "execution_count": 36,
   "metadata": {},
   "outputs": [
    {
     "data": {
      "text/html": [
       "<div>\n",
       "<style scoped>\n",
       "    .dataframe tbody tr th:only-of-type {\n",
       "        vertical-align: middle;\n",
       "    }\n",
       "\n",
       "    .dataframe tbody tr th {\n",
       "        vertical-align: top;\n",
       "    }\n",
       "\n",
       "    .dataframe thead th {\n",
       "        text-align: right;\n",
       "    }\n",
       "</style>\n",
       "<table border=\"1\" class=\"dataframe\">\n",
       "  <thead>\n",
       "    <tr style=\"text-align: right;\">\n",
       "      <th></th>\n",
       "      <th>high</th>\n",
       "      <th>not_high</th>\n",
       "    </tr>\n",
       "    <tr>\n",
       "      <th>index</th>\n",
       "      <th></th>\n",
       "      <th></th>\n",
       "    </tr>\n",
       "  </thead>\n",
       "  <tbody>\n",
       "    <tr>\n",
       "      <th>Romance</th>\n",
       "      <td>27</td>\n",
       "      <td>75</td>\n",
       "    </tr>\n",
       "    <tr>\n",
       "      <th>Adventure</th>\n",
       "      <td>22</td>\n",
       "      <td>42</td>\n",
       "    </tr>\n",
       "    <tr>\n",
       "      <th>Drama</th>\n",
       "      <td>71</td>\n",
       "      <td>262</td>\n",
       "    </tr>\n",
       "    <tr>\n",
       "      <th>Horror</th>\n",
       "      <td>24</td>\n",
       "      <td>68</td>\n",
       "    </tr>\n",
       "    <tr>\n",
       "      <th>Action</th>\n",
       "      <td>36</td>\n",
       "      <td>83</td>\n",
       "    </tr>\n",
       "    <tr>\n",
       "      <th>Comedy</th>\n",
       "      <td>55</td>\n",
       "      <td>150</td>\n",
       "    </tr>\n",
       "    <tr>\n",
       "      <th>Thriller</th>\n",
       "      <td>45</td>\n",
       "      <td>142</td>\n",
       "    </tr>\n",
       "    <tr>\n",
       "      <th>Crime</th>\n",
       "      <td>30</td>\n",
       "      <td>57</td>\n",
       "    </tr>\n",
       "    <tr>\n",
       "      <th>SciFi</th>\n",
       "      <td>15</td>\n",
       "      <td>36</td>\n",
       "    </tr>\n",
       "    <tr>\n",
       "      <th>Mystery</th>\n",
       "      <td>12</td>\n",
       "      <td>46</td>\n",
       "    </tr>\n",
       "  </tbody>\n",
       "</table>\n",
       "</div>"
      ],
      "text/plain": [
       "           high  not_high\n",
       "index                    \n",
       "Romance      27        75\n",
       "Adventure    22        42\n",
       "Drama        71       262\n",
       "Horror       24        68\n",
       "Action       36        83\n",
       "Comedy       55       150\n",
       "Thriller     45       142\n",
       "Crime        30        57\n",
       "SciFi        15        36\n",
       "Mystery      12        46"
      ]
     },
     "execution_count": 36,
     "metadata": {},
     "output_type": "execute_result"
    }
   ],
   "source": [
    "# Creating a copy of the contingency table\n",
    "high_v_not_contingency = contingency_table.copy()\n",
    "\n",
    "# Creating a new column to collapse the non-high profit categories into. \n",
    "high_v_not_contingency['not_high'] = high_v_not_contingency['medium'] + high_v_not_contingency['low']\n",
    "\n",
    "# Isolating relevant columns\n",
    "high_v_not_contingency = high_v_not_contingency[['high','not_high']]\n",
    "high_v_not_contingency"
   ]
  },
  {
   "cell_type": "markdown",
   "metadata": {},
   "source": [
    "From here, we conducted a new chi-square test to determine the presence of a significant association. "
   ]
  },
  {
   "cell_type": "code",
   "execution_count": 37,
   "metadata": {},
   "outputs": [
    {
     "name": "stdout",
     "output_type": "stream",
     "text": [
      "p value is 0.20704760836207542\n",
      "Retain H_0\n"
     ]
    }
   ],
   "source": [
    "stat, p, dof, expected = chi2_contingency(high_v_not_contingency)\n",
    "  \n",
    "# interpret p-value\n",
    "alpha = 0.05\n",
    "print(\"p value is \" + str(p))\n",
    "if p <= alpha:\n",
    "    print('Reject H_0')\n",
    "else:\n",
    "    print('Retain H_0')"
   ]
  },
  {
   "cell_type": "markdown",
   "metadata": {},
   "source": [
    "However, there was no significant association between genre and these profit categories. So, there doesn't appear to be a genre which generates significantly higher profit. However, there may be a genre that predicts significantly lower profit. \n",
    "\n",
    "To investigate this, we returned to our original contingency table and collapsed the 'high' and 'medium' columns into one column for non-low profit."
   ]
  },
  {
   "cell_type": "code",
   "execution_count": 38,
   "metadata": {},
   "outputs": [
    {
     "data": {
      "text/html": [
       "<div>\n",
       "<style scoped>\n",
       "    .dataframe tbody tr th:only-of-type {\n",
       "        vertical-align: middle;\n",
       "    }\n",
       "\n",
       "    .dataframe tbody tr th {\n",
       "        vertical-align: top;\n",
       "    }\n",
       "\n",
       "    .dataframe thead th {\n",
       "        text-align: right;\n",
       "    }\n",
       "</style>\n",
       "<table border=\"1\" class=\"dataframe\">\n",
       "  <thead>\n",
       "    <tr style=\"text-align: right;\">\n",
       "      <th></th>\n",
       "      <th>low</th>\n",
       "      <th>not_low</th>\n",
       "    </tr>\n",
       "    <tr>\n",
       "      <th>index</th>\n",
       "      <th></th>\n",
       "      <th></th>\n",
       "    </tr>\n",
       "  </thead>\n",
       "  <tbody>\n",
       "    <tr>\n",
       "      <th>Romance</th>\n",
       "      <td>28</td>\n",
       "      <td>74</td>\n",
       "    </tr>\n",
       "    <tr>\n",
       "      <th>Adventure</th>\n",
       "      <td>10</td>\n",
       "      <td>54</td>\n",
       "    </tr>\n",
       "    <tr>\n",
       "      <th>Drama</th>\n",
       "      <td>99</td>\n",
       "      <td>234</td>\n",
       "    </tr>\n",
       "    <tr>\n",
       "      <th>Horror</th>\n",
       "      <td>18</td>\n",
       "      <td>74</td>\n",
       "    </tr>\n",
       "    <tr>\n",
       "      <th>Action</th>\n",
       "      <td>14</td>\n",
       "      <td>105</td>\n",
       "    </tr>\n",
       "    <tr>\n",
       "      <th>Comedy</th>\n",
       "      <td>47</td>\n",
       "      <td>158</td>\n",
       "    </tr>\n",
       "    <tr>\n",
       "      <th>Thriller</th>\n",
       "      <td>41</td>\n",
       "      <td>146</td>\n",
       "    </tr>\n",
       "    <tr>\n",
       "      <th>Crime</th>\n",
       "      <td>19</td>\n",
       "      <td>68</td>\n",
       "    </tr>\n",
       "    <tr>\n",
       "      <th>SciFi</th>\n",
       "      <td>9</td>\n",
       "      <td>42</td>\n",
       "    </tr>\n",
       "    <tr>\n",
       "      <th>Mystery</th>\n",
       "      <td>14</td>\n",
       "      <td>44</td>\n",
       "    </tr>\n",
       "  </tbody>\n",
       "</table>\n",
       "</div>"
      ],
      "text/plain": [
       "           low  not_low\n",
       "index                  \n",
       "Romance     28       74\n",
       "Adventure   10       54\n",
       "Drama       99      234\n",
       "Horror      18       74\n",
       "Action      14      105\n",
       "Comedy      47      158\n",
       "Thriller    41      146\n",
       "Crime       19       68\n",
       "SciFi        9       42\n",
       "Mystery     14       44"
      ]
     },
     "execution_count": 38,
     "metadata": {},
     "output_type": "execute_result"
    }
   ],
   "source": [
    "# Creating a copy of the original contingency table\n",
    "low_v_not_contingency = contingency_table.copy()\n",
    "\n",
    "# Collapsing high and medium profit categories into one column\n",
    "low_v_not_contingency['not_low'] = low_v_not_contingency['high'] + low_v_not_contingency['medium']\n",
    "\n",
    "# Isolating relevant columns\n",
    "low_v_not_contingency = low_v_not_contingency[['low','not_low']]\n",
    "low_v_not_contingency"
   ]
  },
  {
   "cell_type": "markdown",
   "metadata": {},
   "source": [
    "We then conducted yet another Chi-Square test for significance. "
   ]
  },
  {
   "cell_type": "code",
   "execution_count": 39,
   "metadata": {},
   "outputs": [
    {
     "name": "stdout",
     "output_type": "stream",
     "text": [
      "p value is 0.009709037889535192\n",
      "Reject H_0\n"
     ]
    }
   ],
   "source": [
    "stat, p, dof, expected = chi2_contingency(low_v_not_contingency)\n",
    "  \n",
    "# interpret p-value\n",
    "alpha = 0.05\n",
    "print(\"p value is \" + str(p))\n",
    "if p <= alpha:\n",
    "    print('Reject H_0')\n",
    "else:\n",
    "    print('Retain H_0')"
   ]
  },
  {
   "cell_type": "markdown",
   "metadata": {},
   "source": [
    "The results were significant, meaning that there is a statistically significant association between genre and low profits. However, we do not know the strength of this association. To conceptualize the strength of their relationship, we calculated the Cramer's V value.\n",
    "\n",
    "Resources used: \n",
    "- Cramer's V Methodology in Python: https://www.statology.org/cramers-v-in-python/#:~:text=Cramer%E2%80%99s%20V%20is%20a%20measure%20of%20the%20strength,Cramer%E2%80%99s%20V%20for%20a%20contingency%20table%20in%20Python.\n",
    "- Interpreting Cramer's V value: https://www.ibm.com/docs/en/cognos-analytics/11.1.0?topic=terms-cramrs-v\n",
    "- Interpreting magnitude of Cramer's V: https://www.datascienceblog.net/post/statistical_test/effect_size/#:~:text=To%20interpret%20Cramer%E2%80%99s%20V%2C%20the%20following%20approach%20is,medium%20association%203%20V%20%3E%200.5%3A%20strong%20association"
   ]
  },
  {
   "cell_type": "code",
   "execution_count": 40,
   "metadata": {},
   "outputs": [
    {
     "name": "stdout",
     "output_type": "stream",
     "text": [
      "Cramer's V: 0.13\n"
     ]
    }
   ],
   "source": [
    "# Getting relevant values to calculate Cramer's V\n",
    "\n",
    "# Sample size\n",
    "n = low_v_not_contingency['low'].sum() + low_v_not_contingency['not_low'].sum()\n",
    "\n",
    "# Number of rows\n",
    "r = len(low_v_not_contingency)\n",
    "\n",
    "# Number of columns\n",
    "c = 2\n",
    "\n",
    "cramer = np.sqrt((stat/n) / min(c-1,r-1))\n",
    "\n",
    "print(\"Cramer's V: {}\".format(round(cramer,2)))"
   ]
  },
  {
   "cell_type": "markdown",
   "metadata": {},
   "source": [
    "The Cramer's V value ranges from 0 to 1. A result this small is indicative of a weak relationship between genre and low profit. \n",
    "So while our results remain statistically significant, the strength of their association is weak. \n",
    "\n",
    "Still we wondered, for which genres do we have greater proportions of profits above the 25th percentile?\n",
    "\n",
    "To conceptualize this, we looked at the proportion of low profit vs. non-low profit within each genre. Then, we sorted our results such that the genre with the highest proportion of low profit movies appears highest on the dataframe. "
   ]
  },
  {
   "cell_type": "code",
   "execution_count": 41,
   "metadata": {},
   "outputs": [
    {
     "data": {
      "text/html": [
       "<div>\n",
       "<style scoped>\n",
       "    .dataframe tbody tr th:only-of-type {\n",
       "        vertical-align: middle;\n",
       "    }\n",
       "\n",
       "    .dataframe tbody tr th {\n",
       "        vertical-align: top;\n",
       "    }\n",
       "\n",
       "    .dataframe thead th {\n",
       "        text-align: right;\n",
       "    }\n",
       "</style>\n",
       "<table border=\"1\" class=\"dataframe\">\n",
       "  <thead>\n",
       "    <tr style=\"text-align: right;\">\n",
       "      <th></th>\n",
       "      <th>perc_not_low</th>\n",
       "      <th>perc_low</th>\n",
       "    </tr>\n",
       "    <tr>\n",
       "      <th>index</th>\n",
       "      <th></th>\n",
       "      <th></th>\n",
       "    </tr>\n",
       "  </thead>\n",
       "  <tbody>\n",
       "    <tr>\n",
       "      <th>Drama</th>\n",
       "      <td>70.27</td>\n",
       "      <td>29.73</td>\n",
       "    </tr>\n",
       "    <tr>\n",
       "      <th>Romance</th>\n",
       "      <td>72.55</td>\n",
       "      <td>27.45</td>\n",
       "    </tr>\n",
       "    <tr>\n",
       "      <th>Mystery</th>\n",
       "      <td>75.86</td>\n",
       "      <td>24.14</td>\n",
       "    </tr>\n",
       "    <tr>\n",
       "      <th>Comedy</th>\n",
       "      <td>77.07</td>\n",
       "      <td>22.93</td>\n",
       "    </tr>\n",
       "    <tr>\n",
       "      <th>Thriller</th>\n",
       "      <td>78.07</td>\n",
       "      <td>21.93</td>\n",
       "    </tr>\n",
       "    <tr>\n",
       "      <th>Crime</th>\n",
       "      <td>78.16</td>\n",
       "      <td>21.84</td>\n",
       "    </tr>\n",
       "    <tr>\n",
       "      <th>Horror</th>\n",
       "      <td>80.43</td>\n",
       "      <td>19.57</td>\n",
       "    </tr>\n",
       "    <tr>\n",
       "      <th>SciFi</th>\n",
       "      <td>82.35</td>\n",
       "      <td>17.65</td>\n",
       "    </tr>\n",
       "    <tr>\n",
       "      <th>Adventure</th>\n",
       "      <td>84.38</td>\n",
       "      <td>15.62</td>\n",
       "    </tr>\n",
       "    <tr>\n",
       "      <th>Action</th>\n",
       "      <td>88.24</td>\n",
       "      <td>11.76</td>\n",
       "    </tr>\n",
       "  </tbody>\n",
       "</table>\n",
       "</div>"
      ],
      "text/plain": [
       "           perc_not_low  perc_low\n",
       "index                            \n",
       "Drama             70.27     29.73\n",
       "Romance           72.55     27.45\n",
       "Mystery           75.86     24.14\n",
       "Comedy            77.07     22.93\n",
       "Thriller          78.07     21.93\n",
       "Crime             78.16     21.84\n",
       "Horror            80.43     19.57\n",
       "SciFi             82.35     17.65\n",
       "Adventure         84.38     15.62\n",
       "Action            88.24     11.76"
      ]
     },
     "execution_count": 41,
     "metadata": {},
     "output_type": "execute_result"
    }
   ],
   "source": [
    "low_v_not_contingency['perc_low'] = round((low_v_not_contingency['low'] / (low_v_not_contingency['low'] + low_v_not_contingency['not_low']))*100,2)\n",
    "low_v_not_contingency['perc_not_low'] = round((low_v_not_contingency['not_low'] / (low_v_not_contingency['low'] + low_v_not_contingency['not_low']))*100,2)\n",
    "low_v_not_contingency = low_v_not_contingency[['perc_not_low','perc_low']]\n",
    "low_v_not_contingency = low_v_not_contingency.sort_values(by = 'perc_low', ascending = False)\n",
    "low_v_not_contingency"
   ]
  },
  {
   "cell_type": "markdown",
   "metadata": {},
   "source": [
    "As a result, we can see that dramas have the greatest proportion of low-profit movies among our ten genre categories. This may be counterintuitive when paired with the knowledge that dramas were the genre that appeared most frequently within the dataframe."
   ]
  },
  {
   "cell_type": "markdown",
   "metadata": {},
   "source": [
    "#### Business Recommendation \n",
    "\n",
    "Our original business question asked: Does the genre of a movie have any association with the movie's profitability? From our analysis, we can now answer that the relationship between genre and profitability does appear to be significant in terms of reduced profitability. Specifically, there is a statistically significant association between genres and low profit within this sample of over 600 movies. However, this association is weak, meaning that there is no guarantee that choosing to produce a movie of a specific genre with lower proportions of low profit will absolutely prevent the movie's profit from falling below the 25th percentile. Thus, our business recommendation is as follows:\n",
    "\n",
    "Our analyses suggest that action, adventure, and science fiction films tend to have lower proportions of movies whose profits fall under the 25th percentile. This suggests that it may be worthwhile for a company entering the film market to use this knowledge to guide further investigation into these genres as potential starting avenues for future work. If at all possible, we suggest further investigation into potential confounding factors that may better explain this significant difference, such as notable directors, production companies, actors, or themes. We suggest that this be taken as a loose guideline for furthur investigation based on the strength of this association. Trends are powerful, but not absolute. \n",
    "\n",
    "\n",
    "#### Limitations\n",
    "\n",
    "Our results do not come without limitations. For example, while we did our best to ensure that the two tables were joined accurately, there exists the possibility that there exists a movie on one dataset with a title shared by an entirely different movie on the other dataset. However, with the timeframe provided for this project we have yet to explore this avenue. \n",
    "\n",
    "There is also the limitation of a relatively small sample size given the original sizes of our raw data. Unfortunately, a lot of movies had to be removed from the dataset during cleaning in order to optimize the accuracy of our output. However, similar studies with larger sample sizes would be beneficial in confirming the results of this analysis. \n",
    "\n",
    "Finally, there is the limitation of the strength of our results. Our small Cramer's V value implies that the association between genre and low profitability, while statistically significant, are weak at best. This is why our suggestion implies using these results as a general guideline to provide direction rather than concrete steps for action. "
   ]
  },
  {
   "cell_type": "markdown",
   "metadata": {},
   "source": [
    "#### Relevant Visualizations for the Final Ten Genres\n",
    "\n",
    "1. Boxplot of Profit Distributions by Genre for Final Dataset\n",
    "\n",
    "The boxplots below visualize the distributions of profits for the ten genres that were included in the final analysis.\n",
    "\n",
    "Resources used included:\n",
    "- https://stackoverflow.com/questions/70927004/plotting-several-boxplots-from-different-dataframes-in-one-graph\n",
    "- https://www.geeksforgeeks.org/how-to-set-a-seaborn-chart-figure-size/#:~:text=To%20adjust%20the%20figure%20size%20of%20the%20seaborn,returns%20the%20figure%20and%20the%20array%20of%20axes."
   ]
  },
  {
   "cell_type": "code",
   "execution_count": 42,
   "metadata": {},
   "outputs": [
    {
     "data": {
      "image/png": "[encoded data removed]",
      "text/plain": [
       "<Figure size 1080x576 with 1 Axes>"
      ]
     },
     "metadata": {
      "needs_background": "light"
     },
     "output_type": "display_data"
    }
   ],
   "source": [
    "# Creating separate dataframes for each genre\n",
    "romances = budgets_and_genre_dummys.loc[(budgets_and_genre_dummys['Romance'] == 1)] \n",
    "adventures = budgets_and_genre_dummys.loc[(budgets_and_genre_dummys['Adventure'] == 1)]\n",
    "dramas = budgets_and_genre_dummys.loc[(budgets_and_genre_dummys['Drama'] == 1)]\n",
    "horrors = budgets_and_genre_dummys.loc[(budgets_and_genre_dummys['Horror'] == 1)]\n",
    "actions = budgets_and_genre_dummys.loc[(budgets_and_genre_dummys['Action'] == 1)]\n",
    "comedies = budgets_and_genre_dummys.loc[(budgets_and_genre_dummys['Comedy'] == 1)]\n",
    "thrillers = budgets_and_genre_dummys.loc[(budgets_and_genre_dummys['Thriller'] == 1)] \n",
    "crimes = budgets_and_genre_dummys.loc[(budgets_and_genre_dummys['Crime'] == 1)]\n",
    "scifis = budgets_and_genre_dummys.loc[(budgets_and_genre_dummys['SciFi'] == 1)] \n",
    "mysteries = budgets_and_genre_dummys.loc[(budgets_and_genre_dummys['Mystery'] == 1)]\n",
    "\n",
    "\n",
    "# Creating one dataframe for each genre and their profits\n",
    "combined_dfs = pd.DataFrame({'Romance': romances['total_profit'],\n",
    "                             'Adventure': adventures['total_profit'],\n",
    "                             'Drama': dramas['total_profit'],\n",
    "                             'Horror': horrors['total_profit'],\n",
    "                             'Action': actions['total_profit'],\n",
    "                             'Comedy': comedies['total_profit'],\n",
    "                             'Thriller': thrillers['total_profit'],\n",
    "                             'Crime': crimes['total_profit'],\n",
    "                             'SciFi': scifis['total_profit'],\n",
    "                             'Mystery': mysteries['total_profit']})\n",
    "\n",
    "# Creating a list of genres in order of greatest to lowest proportion of low profit movies \n",
    "# Creating this list so that visualizations can match the order of the most recent contingency table\n",
    "genre_order = []\n",
    "for idx, row in low_v_not_contingency.iterrows():\n",
    "    genre_order.append(idx)\n",
    "genre_order\n",
    "\n",
    "### Visualizing Profit distributions\n",
    "\n",
    "import seaborn as sns\n",
    "\n",
    "fig, ax = plt.subplots(figsize = (15,8))\n",
    "sns.boxplot(data=combined_dfs, palette='crest', order = genre_order)\n",
    "ax.set_title(\"Profit Distributions for Final 10 Genres\")\n",
    "ax.set_xlabel(\"Genre\")\n",
    "ax.set_ylabel(\"Profit in USD\");\n",
    "plt.show()"
   ]
  },
  {
   "cell_type": "markdown",
   "metadata": {},
   "source": [
    "This visualization helps demonstrate that the overall distributions for each genre are relatively similar, which is consistent with our interpretation of the Cramer's V value. \n",
    "\n",
    "2. Bar Chart of Genre Frequency for Final Dataset\n",
    "\n",
    "The bar chart below visualizes the number of movies representing each genre in the final dataset.\n",
    "\n",
    "Resource: https://datavizpyr.com/sort-bars-in-barplot-using-seaborn-in-python/#:~:text=Sort%20Bars%20in%20Barplot%20in%20Ascending%20Order%20in,variable%20in%20the%20order%20we%20want%20to%20plot."
   ]
  },
  {
   "cell_type": "code",
   "execution_count": 43,
   "metadata": {},
   "outputs": [
    {
     "data": {
      "image/png": "[encoded data removed]",
      "text/plain": [
       "<Figure size 720x576 with 1 Axes>"
      ]
     },
     "metadata": {
      "needs_background": "light"
     },
     "output_type": "display_data"
    }
   ],
   "source": [
    "# Take the subset of the dataframe for only the genres included in the final dataset. \n",
    "final_genres_df = budgets_and_genre_dummys.loc [ (budgets_and_genre_dummys['Romance'] == 1) \n",
    "                                                | (budgets_and_genre_dummys['Adventure'] == 1) \n",
    "                                                | (budgets_and_genre_dummys['Drama'] == 1) \n",
    "                                                | (budgets_and_genre_dummys['Horror'] == 1) \n",
    "                                                | (budgets_and_genre_dummys['Action'] == 1) \n",
    "                                                | (budgets_and_genre_dummys['Comedy'] == 1) \n",
    "                                                | (budgets_and_genre_dummys['Thriller'] == 1) \n",
    "                                                | (budgets_and_genre_dummys['Crime'] == 1) \n",
    "                                                | (budgets_and_genre_dummys['SciFi'] == 1) \n",
    "                                                | (budgets_and_genre_dummys['Mystery'] == 1)  ]\n",
    "\n",
    "\n",
    "# Create a frequency dictionary for the genres \n",
    "# (must be done manually rather than my value_counts since there are multiple genres in each row)\n",
    "\n",
    "def freq_dictionary(dataframe):\n",
    "    genre_sums = {}\n",
    "    \n",
    "    for col in dataframe.columns:\n",
    "    \n",
    "        ignored_cols = [\"title\", \"genre_ids\",\"total_profit\",'relative_profit_cat',\"\"]\n",
    "        \n",
    "        # for each genre column\n",
    "        if col not in ignored_cols:\n",
    "            \n",
    "            # create a key in the dictionary for that genre\n",
    "            # make the value equal to the total number of movies with a 1 in that column (equal to sum)\n",
    "            genre_sums[col] = dataframe[col].sum()\n",
    "        \n",
    "    return genre_sums\n",
    "\n",
    "genre_sums = freq_dictionary(final_genres_df)\n",
    "\n",
    "\n",
    "# plot the frequency dictionary in order at which the genres appear in the final contingency table\n",
    "fig, ax = plt.subplots(figsize=(10,8))\n",
    "sns.barplot(x = list(genre_sums.keys()), y = list(genre_sums.values()), order = genre_order, palette = 'crest')\n",
    "plt.xticks(rotation = 90)\n",
    "ax.set_title(\"Frequency of Genres\")\n",
    "ax.set_xlabel(\"Genre\")\n",
    "ax.set_ylabel(\"Frequency\");"
   ]
  },
  {
   "cell_type": "markdown",
   "metadata": {},
   "source": [
    "While there doesn't appear to be a particular trend in this order, it is interesting that dramas, which have the highest proportion of low profit movies, are also the most represented.\n",
    "\n",
    "3. Stacked Bar Charts\n",
    "\n",
    "The following barchart visualizes the proportional differences in profit categories for the genres in the final contingency table.\n",
    "\n",
    "Resource: https://www.datasciencelearner.com/stacked-bar-graph-in-python-step/#:~:text=We%20can%20draw%20a%20stacked%20bar%20graphs%20in,seaborn%20library%20as%20well%20to%20achieve%20the%20same."
   ]
  },
  {
   "cell_type": "code",
   "execution_count": 44,
   "metadata": {},
   "outputs": [
    {
     "data": {
      "image/png": "[encoded data removed]",
      "text/plain": [
       "<Figure size 720x576 with 1 Axes>"
      ]
     },
     "metadata": {
      "needs_background": "light"
     },
     "output_type": "display_data"
    }
   ],
   "source": [
    "ax = low_v_not_contingency.plot(kind = 'bar', stacked = True, \n",
    "                           title = \"Proportion of Low vs. Non-Low Profit\", \n",
    "                           figsize = (10,8),\n",
    "                           color = ['#358e85', '#99d18f'])\n",
    "ax.set_xlabel(\"Genre\")\n",
    "ax.set_ylabel(\"Percentage\")\n",
    "ax.legend(['Non-Low Profit','Low Profit']);"
   ]
  },
  {
   "cell_type": "markdown",
   "metadata": {},
   "source": [
    "The following bar charts visualize the proportion of high, medium, and low profit movies for all genres included in the final analysis. The only difference between the two is the order in which the genres are sorted. The former sorts from largest to smallest proportion of high profit movies, the latter sorts from largest to smallest proportion of low profit movies."
   ]
  },
  {
   "cell_type": "code",
   "execution_count": 45,
   "metadata": {},
   "outputs": [
    {
     "data": {
      "image/png": "[encoded data removed]",
      "text/plain": [
       "<Figure size 720x576 with 1 Axes>"
      ]
     },
     "metadata": {
      "needs_background": "light"
     },
     "output_type": "display_data"
    }
   ],
   "source": [
    "# Create percetange columns\n",
    "contingency_table['perc_low'] = round( (contingency_table['low'] / \n",
    "                                        (contingency_table['low'] + \n",
    "                                         contingency_table['medium'] + \n",
    "                                         contingency_table['high']))*100,2)\n",
    "contingency_table['perc_medium'] = round( (contingency_table['medium'] / \n",
    "                                        (contingency_table['low'] + \n",
    "                                         contingency_table['medium'] + \n",
    "                                         contingency_table['high']))*100,2)\n",
    "contingency_table['perc_high'] = round( (contingency_table['high'] / \n",
    "                                        (contingency_table['low'] + \n",
    "                                         contingency_table['medium'] + \n",
    "                                         contingency_table['high']))*100,2)\n",
    "\n",
    "# Create new dataframe which only contains the percentage columns\n",
    "# sort by greatest proportion of hight profit movies to lowest proportion\n",
    "contingency_table_prop = contingency_table[['perc_low','perc_medium','perc_high']]\n",
    "contingency_table_prop = contingency_table_prop.sort_values(by = 'perc_high', ascending = False)\n",
    "\n",
    "# plot the percentage dataframe\n",
    "ax = contingency_table_prop.plot(kind = 'bar', stacked = True, \n",
    "                           title = \"Proportion of Profit Categories\", \n",
    "                           figsize = (10,8),\n",
    "                           color = ['#000040', '#358e85', '#99d18f'])\n",
    "ax.set_xlabel(\"Genre\")\n",
    "ax.set_ylabel(\"Percentage\")\n",
    "ax.legend(['Low','Medium', 'High']);"
   ]
  },
  {
   "cell_type": "code",
   "execution_count": 46,
   "metadata": {},
   "outputs": [
    {
     "data": {
      "image/png": "[encoded data removed]",
      "text/plain": [
       "<Figure size 720x576 with 1 Axes>"
      ]
     },
     "metadata": {
      "needs_background": "light"
     },
     "output_type": "display_data"
    }
   ],
   "source": [
    "# re-sort proportion table from highest percentage of low profit movies to lowest proportion\n",
    "contingency_table_prop = contingency_table_prop.sort_values(by = 'perc_low', ascending = False)\n",
    "\n",
    "# plot the newly sorted dataframe\n",
    "ax = contingency_table_prop.plot(kind = 'bar', stacked = True, \n",
    "                           title = \"Proportion of Profit Categories\", \n",
    "                           figsize = (10,8),\n",
    "                           color = ['#000040', '#358e85', '#99d18f'])\n",
    "ax.set_xlabel(\"Genre\")\n",
    "ax.set_ylabel(\"Percentage\")\n",
    "ax.legend(['Low','Medium', 'High']);"
   ]
  },
  {
   "cell_type": "markdown",
   "metadata": {},
   "source": [
    "### Genre (Landon)"
   ]
  },
  {
   "cell_type": "markdown",
   "metadata": {},
   "source": [
    "#### Datasets and cleaning\n",
    "The datasets used for this analysis were:\n",
    "\n",
    "    - im.db (from imdb.com - accessed through sqlite3)\n",
    "    - tn.budgets.csv (from The-Numbers.com)\n",
    "\n",
    "Within the IMDB dataset, the tables movie_basics, and movie_reviews was called and merged on the primary key, \"movie_id\". The values in the genre column needed to be split on every comma, as many movies were classified under multiple genres. The entries were split within the column, and then for every genre in the column, a new row was created with the respective genre.\n",
    "\n",
    "For example, if a *Lord of the Rings* movie was classified as an action *and* adventure film, *Lord of the Rings* would appear in two separate rows. The genre value would be \"action\" in one row, and \"adventure\" on the other. The resulting dataframe was trimmed so that it only contained the primary_title and genre column.\n",
    "\n",
    "Next, the tn.budgets.csv file was loaded in using pandas. The financial columns were in a common monetary format as strings; this was rectified by using the \"str.replace()\" method, and then casting the columns as numeric. A new \"total_profit\" column was created by subtracting the production budget from the worldwide gross. This inevitably creates an *estimate* of the total_profit, as it is unknown if the entire budget was utilized. As a result, the total_profit is expected to be *at least* the current value.\n",
    "\n",
    "To use information that otherwise is not very telling, the two tables were merged with the keys being \"primary_title\" and \"movie\".  The merged table would pair the \"total_profit\" column to each respective movie. After the merge, the resulting dataframe had 6,452 entries (which, as a reminder, is *not* equal to the number of movies).\n",
    "\n",
    "Bringing back the example from above, *Lord of the Rings* would appear in two separate rows as follows:\n",
    "\n",
    "    | primary_title      | genre     | total_profit |\n",
    "    |*Lord of the Rings* | Action    | 340000000    |\n",
    "    |*Lord of the Rings* | Adventure | 340000000    |\n",
    "\n",
    "Using this data structure, it was possible to create box plots for each genre and compare them to one another. "
   ]
  },
  {
   "cell_type": "markdown",
   "metadata": {},
   "source": [
    "#### Analysis methods"
   ]
  },
  {
   "cell_type": "code",
   "execution_count": null,
   "metadata": {},
   "outputs": [],
   "source": [
    "# Imports\n",
    "import pandas as pd\n",
    "from pandas import Series, DataFrame\n",
    "import numpy as np\n",
    "import sqlite3\n",
    "import matplotlib.pyplot as plt\n",
    "import seaborn as sns\n",
    "from scipy import stats\n",
    "from sklearn.preprocessing import OneHotEncoder"
   ]
  },
  {
   "cell_type": "code",
   "execution_count": null,
   "metadata": {},
   "outputs": [],
   "source": [
    "conn = sqlite3.connect('../data/im.db')"
   ]
  },
  {
   "cell_type": "code",
   "execution_count": null,
   "metadata": {},
   "outputs": [],
   "source": [
    "tables = pd.read_sql(\"\"\"SELECT name FROM sqlite_master WHERE type = 'table';\"\"\", conn)\n",
    "tables"
   ]
  },
  {
   "cell_type": "code",
   "execution_count": null,
   "metadata": {},
   "outputs": [],
   "source": [
    "# Look into movie ratings\n",
    "movie_ratings = pd.read_sql(\"\"\"\n",
    "    SELECT *\n",
    "    FROM movie_ratings\"\"\", conn)\n",
    "movie_ratings"
   ]
  },
  {
   "cell_type": "code",
   "execution_count": null,
   "metadata": {},
   "outputs": [],
   "source": [
    "# Look into movie basics\n",
    "movie_basics = pd.read_sql(\"\"\"\n",
    "    SELECT *\n",
    "    FROM movie_basics\"\"\", conn)\n",
    "movie_basics"
   ]
  },
  {
   "cell_type": "code",
   "execution_count": null,
   "metadata": {},
   "outputs": [],
   "source": [
    "# Checking to see if any movie id appears more than once\n",
    "pd.read_sql(\"\"\"\n",
    "    SELECT *\n",
    "    FROM movie_basics\n",
    "    GROUP BY movie_id\n",
    "    HAVING COUNT(movie_id) > 1;\n",
    "\"\"\", conn)"
   ]
  },
  {
   "cell_type": "code",
   "execution_count": null,
   "metadata": {},
   "outputs": [],
   "source": [
    "# Connect the two tables\n",
    "mb_mr = pd.read_sql(\"\"\"\n",
    "    SELECT *\n",
    "    FROM movie_basics as b\n",
    "    INNER JOIN movie_ratings as r\n",
    "        ON b.movie_id = r.movie_id;\n",
    "\"\"\", conn)\n",
    "mb_mr "
   ]
  },
  {
   "cell_type": "code",
   "execution_count": null,
   "metadata": {},
   "outputs": [],
   "source": [
    "# Will remove duplicate column without damaging indeces\n",
    "mb_mr = mb_mr.loc[:, ~mb_mr.columns.duplicated()].copy()\n",
    "mb_mr"
   ]
  },
  {
   "cell_type": "code",
   "execution_count": null,
   "metadata": {},
   "outputs": [],
   "source": [
    "# Split genres and create a new entry for each of the genre a movie falls into\n",
    "### FROM Leo's EDA notebook\n",
    "s = mb_mr['genres'].str.split(',').apply(Series, 1).stack()\n",
    "s.index = s.index.droplevel(-1)\n",
    "s.name = 'genre'\n",
    "del mb_mr['genres']\n",
    "mb_mr_genres = mb_mr.join(s)"
   ]
  },
  {
   "cell_type": "code",
   "execution_count": null,
   "metadata": {},
   "outputs": [],
   "source": [
    "mb_mr_genres = mb_mr_genres[['primary_title', 'genre']]\n",
    "mb_mr_genres.head(20)"
   ]
  },
  {
   "cell_type": "markdown",
   "metadata": {},
   "source": [
    "## Load in tn.movie.budgets.csv\n",
    "### Cleaning"
   ]
  },
  {
   "cell_type": "code",
   "execution_count": null,
   "metadata": {},
   "outputs": [],
   "source": [
    "budgets = pd.read_csv(\"../data/tn.movie_budgets.csv\")\n",
    "budgets.head()"
   ]
  },
  {
   "cell_type": "code",
   "execution_count": null,
   "metadata": {},
   "outputs": [],
   "source": [
    "# removing $ and , from gross revenue\n",
    "budgets['worldwide_gross'] = budgets['worldwide_gross'].str.replace(\",\",\"\")\n",
    "budgets['worldwide_gross'] = budgets['worldwide_gross'].str.replace(\"$\",\"\")\n",
    "budgets['production_budget'] = budgets['production_budget'].str.replace(\",\",\"\")\n",
    "budgets['production_budget'] = budgets['production_budget'].str.replace(\"$\",\"\")\n",
    "\n",
    "# casting the values as integers\n",
    "budgets['production_budget'] = pd.to_numeric(budgets['production_budget'])\n",
    "budgets['worldwide_gross'] = pd.to_numeric(budgets['worldwide_gross'])\n",
    "\n",
    "# calculating total profit\n",
    "budgets['total_profit'] =  budgets['worldwide_gross'] - budgets['production_budget']\n",
    "\n",
    "# Keep only movie and total_profit columns\n",
    "budgets = budgets[['movie', 'total_profit']]\n",
    "\n",
    "# confirmation\n",
    "budgets.head()"
   ]
  },
  {
   "cell_type": "code",
   "execution_count": null,
   "metadata": {},
   "outputs": [],
   "source": [
    "combined = pd.merge(mb_mr_genres, budgets, left_on=\"primary_title\", right_on=\"movie\")\n",
    "combined.drop(columns=\"movie\", inplace=True)\n",
    "combined"
   ]
  },
  {
   "cell_type": "markdown",
   "metadata": {},
   "source": [
    "The duplicate values in the rows are okay to have for what I am going to\n",
    "accomplish with them. I will create a boxplot where the x is the genre categories, and the y is the total_profit column associated with those genres. Before proceeding to that, I need to clean up the new table and deal with outliers."
   ]
  },
  {
   "cell_type": "code",
   "execution_count": null,
   "metadata": {},
   "outputs": [],
   "source": [
    "# Unclean chart for reference to visualize the outliers\n",
    "sns.boxplot(x=combined['genre'], y=combined['total_profit']);"
   ]
  },
  {
   "cell_type": "markdown",
   "metadata": {},
   "source": [
    "## Cleaning + dealing with outliers"
   ]
  },
  {
   "cell_type": "code",
   "execution_count": null,
   "metadata": {},
   "outputs": [],
   "source": [
    "# Getting 25th percentile of genre counts... the max 1491 is drama\n",
    "combined['genre'].value_counts().describe()"
   ]
  },
  {
   "cell_type": "code",
   "execution_count": null,
   "metadata": {},
   "outputs": [],
   "source": [
    "# looking at genre counts... \n",
    "combined['genre'].value_counts()"
   ]
  },
  {
   "cell_type": "code",
   "execution_count": null,
   "metadata": {},
   "outputs": [],
   "source": [
    "# remove any genre where the count is lower than 100\n",
    "mask = combined['genre'].value_counts() > 100\n",
    "\n",
    "vals_to_keep = []\n",
    "for x in mask.items():\n",
    "    if x[1] == True:\n",
    "        vals_to_keep.append(x[0])\n",
    "        \n",
    "vals_to_keep"
   ]
  },
  {
   "cell_type": "code",
   "execution_count": null,
   "metadata": {},
   "outputs": [],
   "source": [
    "# Create table where we've kept rows where the value in genre\n",
    "# matched the vals_to_keep\n",
    "combined = combined.loc[combined['genre'].isin(vals_to_keep)]\n",
    "combined"
   ]
  },
  {
   "cell_type": "markdown",
   "metadata": {},
   "source": [
    "## Charting\n",
    "### Dealing with outliers using showfliers=False"
   ]
  },
  {
   "cell_type": "code",
   "execution_count": null,
   "metadata": {},
   "outputs": [],
   "source": [
    "from matplotlib.ticker import FuncFormatter\n",
    "\n",
    "fig, ax = plt.subplots(figsize = (14,12))\n",
    "sns.boxplot(ax=ax, x=combined['genre'],\n",
    "            y=combined['total_profit'],\n",
    "            showfliers=False)\n",
    "\n",
    "plt.style.use('seaborn-muted')\n",
    "\n",
    "# scale y axis to millions\n",
    "scale_y = 1e6\n",
    "ticks_y = FuncFormatter(lambda x, pos: '{0:g}'.format(x/scale_y))\n",
    "ax.yaxis.set_major_formatter(ticks_y)\n",
    "ax.set_ylim(-250000000, 1000000000)\n",
    "\n",
    "# add title/labels/ticks/grid\n",
    "ax.set_title('Profit Distribution by Genre (USD)', size=24)\n",
    "plt.xlabel(\"Genre\", size = 20)\n",
    "plt.ylabel(\"Total Profit (in millions)\", size=20)\n",
    "plt.yticks(fontsize=14)\n",
    "plt.xticks(rotation=45, fontsize=14)\n",
    "plt.grid(color='gray', linestyle='-', linewidth=2, alpha=0.2)\n",
    "\n",
    "# create red area in negative y\n",
    "plt.axhline(y=[-1000000], alpha=0.3, color='red', fillstyle='bottom')\n",
    "plt.axhspan(-2500000000, 0, alpha=0.15, color='red')\n",
    "\n",
    "# saves fig\n",
    "#plt.savefig('../resources/charts/prof_genre_box.png', dpi=fig.dpi)\n",
    ";"
   ]
  },
  {
   "cell_type": "markdown",
   "metadata": {},
   "source": [
    "### Narrow down genres"
   ]
  },
  {
   "cell_type": "code",
   "execution_count": null,
   "metadata": {},
   "outputs": [],
   "source": [
    "# look at what genres have the top median profits\n",
    "med_combined = combined.groupby('genre', sort='total_profit').median()\n",
    "med_combined = med_combined.sort_values(by='total_profit', ascending=False)\n",
    "med_combined_8 = med_combined.head(8)\n",
    "med_combined_8"
   ]
  },
  {
   "cell_type": "code",
   "execution_count": null,
   "metadata": {},
   "outputs": [],
   "source": [
    "# Preparing to keep only the top 8 median genres\n",
    "vals_to_keep = []\n",
    "for x in med_combined_8.iterrows():\n",
    "    vals_to_keep.append(x[0])\n",
    "        \n",
    "vals_to_keep"
   ]
  },
  {
   "cell_type": "code",
   "execution_count": null,
   "metadata": {},
   "outputs": [],
   "source": [
    "# Create table where we've kept rows where the value in genre\n",
    "# matched the vals_to_keep\n",
    "top_8_combined = combined.loc[combined['genre'].isin(vals_to_keep)]\n",
    "top_8_combined"
   ]
  },
  {
   "cell_type": "markdown",
   "metadata": {},
   "source": [
    "## Charting the 8 genres with the highest median profit"
   ]
  },
  {
   "cell_type": "code",
   "execution_count": null,
   "metadata": {},
   "outputs": [],
   "source": [
    "fig, ax = plt.subplots(figsize = (14,12))\n",
    "sns.boxplot(ax=ax, x=top_8_combined['genre'],\n",
    "            y=top_8_combined['total_profit'],\n",
    "            showfliers=False)\n",
    "\n",
    "plt.style.use('seaborn-muted')\n",
    "\n",
    "# scale y axis to millions\n",
    "scale_y = 1e6\n",
    "ticks_y = FuncFormatter(lambda x, pos: '{0:g}'.format(x/scale_y))\n",
    "ax.yaxis.set_major_formatter(ticks_y)\n",
    "ax.set_ylim(-250000000, 1000000000)\n",
    "\n",
    "# title/labels/ticks\n",
    "ax.set_title('Profit Distribution by Genre (USD)', size=24)\n",
    "plt.xlabel(\"Genre\", size = 20)\n",
    "plt.ylabel(\"Total Profit (in millions)\", size=20)\n",
    "plt.xticks(rotation=0, fontsize=14)\n",
    "plt.yticks(fontsize=14)\n",
    "plt.grid(color='gray', linestyle='-', linewidth=2, alpha=0.2)\n",
    "\n",
    "# adding negative y color\n",
    "plt.axhline(y=[-1000000], alpha=0.3, color='red', fillstyle='bottom')\n",
    "plt.axhspan(-250000000, 0, alpha=0.15, color='red')\n",
    "\n",
    "# save fig\n",
    "#plt.savefig('../resources/charts/top8_prof_genre_box.png', bbox_inches='tight')\n",
    ";"
   ]
  },
  {
   "cell_type": "markdown",
   "metadata": {},
   "source": [
    "## Charting the top 8 WITH outliers"
   ]
  },
  {
   "cell_type": "code",
   "execution_count": null,
   "metadata": {},
   "outputs": [],
   "source": [
    "fig, ax = plt.subplots(figsize = (14,12))\n",
    "sns.boxplot(ax=ax, x=top_8_combined['genre'],\n",
    "            y=top_8_combined['total_profit'],\n",
    "            showfliers=True)\n",
    "\n",
    "plt.style.use('seaborn-muted')\n",
    "\n",
    "# scale y axis to millions\n",
    "scale_y = 1e6\n",
    "ticks_y = FuncFormatter(lambda x, pos: '{0:g}'.format(x/scale_y))\n",
    "ax.yaxis.set_major_formatter(ticks_y)\n",
    "ax.set_ylim(-250000000, 2250000000)\n",
    "\n",
    "# title/labels/ticks\n",
    "ax.set_title('Profit Distribution by Genre (USD)', size=24)\n",
    "plt.xlabel(\"Genre\", size = 20)\n",
    "plt.ylabel(\"Total Profit (in millions)\", size=20)\n",
    "plt.xticks(rotation=0, fontsize=14)\n",
    "plt.yticks(fontsize=14)\n",
    "plt.grid(color='gray', linestyle='-', linewidth=2, alpha=0.2)\n",
    "\n",
    "# adding negative y color\n",
    "plt.axhline(y=[-1000000], alpha=0.3, color='red', fillstyle='bottom')\n",
    "plt.axhspan(-2500000000, 0, alpha=0.15, color='red')\n",
    "\n",
    "# saves fig\n",
    "#plt.savefig('../resources/charts/top8_outlier_prof_genre_box.png', dpi=fig.dpi)\n",
    ";"
   ]
  },
  {
   "cell_type": "markdown",
   "metadata": {},
   "source": [
    "Creating a small table with top 8 performing genres that displays their median income"
   ]
  },
  {
   "cell_type": "code",
   "execution_count": null,
   "metadata": {},
   "outputs": [],
   "source": [
    "# rename total profit column to median profit\n",
    "med_combined_8 = med_combined_8.rename({'total_profit': 'median_profit'},\n",
    "                                       axis=1)\n",
    "med_combined_8"
   ]
  },
  {
   "cell_type": "markdown",
   "metadata": {},
   "source": [
    "#### Conclusion / Suggestion"
   ]
  },
  {
   "cell_type": "markdown",
   "metadata": {},
   "source": [
    "#### What limitations are there?"
   ]
  }
 ],
 "metadata": {
  "kernelspec": {
   "display_name": "Python (learn-env)",
   "language": "python",
   "name": "learn-env"
  },
  "language_info": {
   "codemirror_mode": {
    "name": "ipython",
    "version": 3
   },
   "file_extension": ".py",
   "mimetype": "text/x-python",
   "name": "python",
   "nbconvert_exporter": "python",
   "pygments_lexer": "ipython3",
   "version": "3.8.5"
  }
 },
 "nbformat": 4,
 "nbformat_minor": 4
}
