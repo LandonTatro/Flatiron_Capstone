{
 "cells": [
  {
   "cell_type": "markdown",
   "metadata": {},
   "source": [
    "# Morgan's Exploratory File\n",
    "\n",
    "## Read Data Files\n",
    "\n",
    "First, I imported the pandas library in preparation of exploring each csv/tsv file available"
   ]
  },
  {
   "cell_type": "code",
   "execution_count": 1,
   "metadata": {},
   "outputs": [],
   "source": [
    "import pandas as pd"
   ]
  },
  {
   "cell_type": "markdown",
   "metadata": {},
   "source": [
    "### Movie Gross"
   ]
  },
  {
   "cell_type": "code",
   "execution_count": 2,
   "metadata": {},
   "outputs": [
    {
     "data": {
      "text/html": [
       "<div>\n",
       "<style scoped>\n",
       "    .dataframe tbody tr th:only-of-type {\n",
       "        vertical-align: middle;\n",
       "    }\n",
       "\n",
       "    .dataframe tbody tr th {\n",
       "        vertical-align: top;\n",
       "    }\n",
       "\n",
       "    .dataframe thead th {\n",
       "        text-align: right;\n",
       "    }\n",
       "</style>\n",
       "<table border=\"1\" class=\"dataframe\">\n",
       "  <thead>\n",
       "    <tr style=\"text-align: right;\">\n",
       "      <th></th>\n",
       "      <th>title</th>\n",
       "      <th>studio</th>\n",
       "      <th>domestic_gross</th>\n",
       "      <th>foreign_gross</th>\n",
       "      <th>year</th>\n",
       "    </tr>\n",
       "  </thead>\n",
       "  <tbody>\n",
       "    <tr>\n",
       "      <th>0</th>\n",
       "      <td>Toy Story 3</td>\n",
       "      <td>BV</td>\n",
       "      <td>415000000.0</td>\n",
       "      <td>652000000</td>\n",
       "      <td>2010</td>\n",
       "    </tr>\n",
       "    <tr>\n",
       "      <th>1</th>\n",
       "      <td>Alice in Wonderland (2010)</td>\n",
       "      <td>BV</td>\n",
       "      <td>334200000.0</td>\n",
       "      <td>691300000</td>\n",
       "      <td>2010</td>\n",
       "    </tr>\n",
       "    <tr>\n",
       "      <th>2</th>\n",
       "      <td>Harry Potter and the Deathly Hallows Part 1</td>\n",
       "      <td>WB</td>\n",
       "      <td>296000000.0</td>\n",
       "      <td>664300000</td>\n",
       "      <td>2010</td>\n",
       "    </tr>\n",
       "    <tr>\n",
       "      <th>3</th>\n",
       "      <td>Inception</td>\n",
       "      <td>WB</td>\n",
       "      <td>292600000.0</td>\n",
       "      <td>535700000</td>\n",
       "      <td>2010</td>\n",
       "    </tr>\n",
       "    <tr>\n",
       "      <th>4</th>\n",
       "      <td>Shrek Forever After</td>\n",
       "      <td>P/DW</td>\n",
       "      <td>238700000.0</td>\n",
       "      <td>513900000</td>\n",
       "      <td>2010</td>\n",
       "    </tr>\n",
       "  </tbody>\n",
       "</table>\n",
       "</div>"
      ],
      "text/plain": [
       "                                         title studio  domestic_gross  \\\n",
       "0                                  Toy Story 3     BV     415000000.0   \n",
       "1                   Alice in Wonderland (2010)     BV     334200000.0   \n",
       "2  Harry Potter and the Deathly Hallows Part 1     WB     296000000.0   \n",
       "3                                    Inception     WB     292600000.0   \n",
       "4                          Shrek Forever After   P/DW     238700000.0   \n",
       "\n",
       "  foreign_gross  year  \n",
       "0     652000000  2010  \n",
       "1     691300000  2010  \n",
       "2     664300000  2010  \n",
       "3     535700000  2010  \n",
       "4     513900000  2010  "
      ]
     },
     "execution_count": 2,
     "metadata": {},
     "output_type": "execute_result"
    }
   ],
   "source": [
    "movie_gross = pd.read_csv(\"../data/bom.movie_gross.csv\")\n",
    "movie_gross.head()"
   ]
  },
  {
   "cell_type": "markdown",
   "metadata": {},
   "source": [
    "The movie_gross dataframe contains title, studios, domestic gross revenue, foreign gross revenue, and the year of release."
   ]
  },
  {
   "cell_type": "markdown",
   "metadata": {},
   "source": [
    "### Movie Info"
   ]
  },
  {
   "cell_type": "code",
   "execution_count": 3,
   "metadata": {},
   "outputs": [
    {
     "data": {
      "text/html": [
       "<div>\n",
       "<style scoped>\n",
       "    .dataframe tbody tr th:only-of-type {\n",
       "        vertical-align: middle;\n",
       "    }\n",
       "\n",
       "    .dataframe tbody tr th {\n",
       "        vertical-align: top;\n",
       "    }\n",
       "\n",
       "    .dataframe thead th {\n",
       "        text-align: right;\n",
       "    }\n",
       "</style>\n",
       "<table border=\"1\" class=\"dataframe\">\n",
       "  <thead>\n",
       "    <tr style=\"text-align: right;\">\n",
       "      <th></th>\n",
       "      <th>id</th>\n",
       "      <th>synopsis</th>\n",
       "      <th>rating</th>\n",
       "      <th>genre</th>\n",
       "      <th>director</th>\n",
       "      <th>writer</th>\n",
       "      <th>theater_date</th>\n",
       "      <th>dvd_date</th>\n",
       "      <th>currency</th>\n",
       "      <th>box_office</th>\n",
       "      <th>runtime</th>\n",
       "      <th>studio</th>\n",
       "    </tr>\n",
       "  </thead>\n",
       "  <tbody>\n",
       "    <tr>\n",
       "      <th>0</th>\n",
       "      <td>1</td>\n",
       "      <td>This gritty, fast-paced, and innovative police...</td>\n",
       "      <td>R</td>\n",
       "      <td>Action and Adventure|Classics|Drama</td>\n",
       "      <td>William Friedkin</td>\n",
       "      <td>Ernest Tidyman</td>\n",
       "      <td>Oct 9, 1971</td>\n",
       "      <td>Sep 25, 2001</td>\n",
       "      <td>NaN</td>\n",
       "      <td>NaN</td>\n",
       "      <td>104 minutes</td>\n",
       "      <td>NaN</td>\n",
       "    </tr>\n",
       "    <tr>\n",
       "      <th>1</th>\n",
       "      <td>3</td>\n",
       "      <td>New York City, not-too-distant-future: Eric Pa...</td>\n",
       "      <td>R</td>\n",
       "      <td>Drama|Science Fiction and Fantasy</td>\n",
       "      <td>David Cronenberg</td>\n",
       "      <td>David Cronenberg|Don DeLillo</td>\n",
       "      <td>Aug 17, 2012</td>\n",
       "      <td>Jan 1, 2013</td>\n",
       "      <td>$</td>\n",
       "      <td>600,000</td>\n",
       "      <td>108 minutes</td>\n",
       "      <td>Entertainment One</td>\n",
       "    </tr>\n",
       "    <tr>\n",
       "      <th>2</th>\n",
       "      <td>5</td>\n",
       "      <td>Illeana Douglas delivers a superb performance ...</td>\n",
       "      <td>R</td>\n",
       "      <td>Drama|Musical and Performing Arts</td>\n",
       "      <td>Allison Anders</td>\n",
       "      <td>Allison Anders</td>\n",
       "      <td>Sep 13, 1996</td>\n",
       "      <td>Apr 18, 2000</td>\n",
       "      <td>NaN</td>\n",
       "      <td>NaN</td>\n",
       "      <td>116 minutes</td>\n",
       "      <td>NaN</td>\n",
       "    </tr>\n",
       "    <tr>\n",
       "      <th>3</th>\n",
       "      <td>6</td>\n",
       "      <td>Michael Douglas runs afoul of a treacherous su...</td>\n",
       "      <td>R</td>\n",
       "      <td>Drama|Mystery and Suspense</td>\n",
       "      <td>Barry Levinson</td>\n",
       "      <td>Paul Attanasio|Michael Crichton</td>\n",
       "      <td>Dec 9, 1994</td>\n",
       "      <td>Aug 27, 1997</td>\n",
       "      <td>NaN</td>\n",
       "      <td>NaN</td>\n",
       "      <td>128 minutes</td>\n",
       "      <td>NaN</td>\n",
       "    </tr>\n",
       "    <tr>\n",
       "      <th>4</th>\n",
       "      <td>7</td>\n",
       "      <td>NaN</td>\n",
       "      <td>NR</td>\n",
       "      <td>Drama|Romance</td>\n",
       "      <td>Rodney Bennett</td>\n",
       "      <td>Giles Cooper</td>\n",
       "      <td>NaN</td>\n",
       "      <td>NaN</td>\n",
       "      <td>NaN</td>\n",
       "      <td>NaN</td>\n",
       "      <td>200 minutes</td>\n",
       "      <td>NaN</td>\n",
       "    </tr>\n",
       "  </tbody>\n",
       "</table>\n",
       "</div>"
      ],
      "text/plain": [
       "   id                                           synopsis rating  \\\n",
       "0   1  This gritty, fast-paced, and innovative police...      R   \n",
       "1   3  New York City, not-too-distant-future: Eric Pa...      R   \n",
       "2   5  Illeana Douglas delivers a superb performance ...      R   \n",
       "3   6  Michael Douglas runs afoul of a treacherous su...      R   \n",
       "4   7                                                NaN     NR   \n",
       "\n",
       "                                 genre          director  \\\n",
       "0  Action and Adventure|Classics|Drama  William Friedkin   \n",
       "1    Drama|Science Fiction and Fantasy  David Cronenberg   \n",
       "2    Drama|Musical and Performing Arts    Allison Anders   \n",
       "3           Drama|Mystery and Suspense    Barry Levinson   \n",
       "4                        Drama|Romance    Rodney Bennett   \n",
       "\n",
       "                            writer  theater_date      dvd_date currency  \\\n",
       "0                   Ernest Tidyman   Oct 9, 1971  Sep 25, 2001      NaN   \n",
       "1     David Cronenberg|Don DeLillo  Aug 17, 2012   Jan 1, 2013        $   \n",
       "2                   Allison Anders  Sep 13, 1996  Apr 18, 2000      NaN   \n",
       "3  Paul Attanasio|Michael Crichton   Dec 9, 1994  Aug 27, 1997      NaN   \n",
       "4                     Giles Cooper           NaN           NaN      NaN   \n",
       "\n",
       "  box_office      runtime             studio  \n",
       "0        NaN  104 minutes                NaN  \n",
       "1    600,000  108 minutes  Entertainment One  \n",
       "2        NaN  116 minutes                NaN  \n",
       "3        NaN  128 minutes                NaN  \n",
       "4        NaN  200 minutes                NaN  "
      ]
     },
     "execution_count": 3,
     "metadata": {},
     "output_type": "execute_result"
    }
   ],
   "source": [
    "movie_info = pd.read_csv(\"data/rt.movie_info.tsv\", sep='\\t')\n",
    "movie_info.head()"
   ]
  },
  {
   "cell_type": "markdown",
   "metadata": {},
   "source": [
    "This dataframe contains information on genres and directors, which I think may potentially be useful predictors of profit. However, it lacks movie titles, which will make it difficult to merge/join with other datasets to gain more useful insight. "
   ]
  },
  {
   "cell_type": "markdown",
   "metadata": {},
   "source": [
    "### Reviews"
   ]
  },
  {
   "cell_type": "code",
   "execution_count": 4,
   "metadata": {},
   "outputs": [
    {
     "data": {
      "text/html": [
       "<div>\n",
       "<style scoped>\n",
       "    .dataframe tbody tr th:only-of-type {\n",
       "        vertical-align: middle;\n",
       "    }\n",
       "\n",
       "    .dataframe tbody tr th {\n",
       "        vertical-align: top;\n",
       "    }\n",
       "\n",
       "    .dataframe thead th {\n",
       "        text-align: right;\n",
       "    }\n",
       "</style>\n",
       "<table border=\"1\" class=\"dataframe\">\n",
       "  <thead>\n",
       "    <tr style=\"text-align: right;\">\n",
       "      <th></th>\n",
       "      <th>id</th>\n",
       "      <th>review</th>\n",
       "      <th>rating</th>\n",
       "      <th>fresh</th>\n",
       "      <th>critic</th>\n",
       "      <th>top_critic</th>\n",
       "      <th>publisher</th>\n",
       "      <th>date</th>\n",
       "    </tr>\n",
       "  </thead>\n",
       "  <tbody>\n",
       "    <tr>\n",
       "      <th>0</th>\n",
       "      <td>3</td>\n",
       "      <td>A distinctly gallows take on contemporary fina...</td>\n",
       "      <td>3/5</td>\n",
       "      <td>fresh</td>\n",
       "      <td>PJ Nabarro</td>\n",
       "      <td>0</td>\n",
       "      <td>Patrick Nabarro</td>\n",
       "      <td>November 10, 2018</td>\n",
       "    </tr>\n",
       "    <tr>\n",
       "      <th>1</th>\n",
       "      <td>3</td>\n",
       "      <td>It's an allegory in search of a meaning that n...</td>\n",
       "      <td>NaN</td>\n",
       "      <td>rotten</td>\n",
       "      <td>Annalee Newitz</td>\n",
       "      <td>0</td>\n",
       "      <td>io9.com</td>\n",
       "      <td>May 23, 2018</td>\n",
       "    </tr>\n",
       "    <tr>\n",
       "      <th>2</th>\n",
       "      <td>3</td>\n",
       "      <td>... life lived in a bubble in financial dealin...</td>\n",
       "      <td>NaN</td>\n",
       "      <td>fresh</td>\n",
       "      <td>Sean Axmaker</td>\n",
       "      <td>0</td>\n",
       "      <td>Stream on Demand</td>\n",
       "      <td>January 4, 2018</td>\n",
       "    </tr>\n",
       "    <tr>\n",
       "      <th>3</th>\n",
       "      <td>3</td>\n",
       "      <td>Continuing along a line introduced in last yea...</td>\n",
       "      <td>NaN</td>\n",
       "      <td>fresh</td>\n",
       "      <td>Daniel Kasman</td>\n",
       "      <td>0</td>\n",
       "      <td>MUBI</td>\n",
       "      <td>November 16, 2017</td>\n",
       "    </tr>\n",
       "    <tr>\n",
       "      <th>4</th>\n",
       "      <td>3</td>\n",
       "      <td>... a perverse twist on neorealism...</td>\n",
       "      <td>NaN</td>\n",
       "      <td>fresh</td>\n",
       "      <td>NaN</td>\n",
       "      <td>0</td>\n",
       "      <td>Cinema Scope</td>\n",
       "      <td>October 12, 2017</td>\n",
       "    </tr>\n",
       "  </tbody>\n",
       "</table>\n",
       "</div>"
      ],
      "text/plain": [
       "   id                                             review rating   fresh  \\\n",
       "0   3  A distinctly gallows take on contemporary fina...    3/5   fresh   \n",
       "1   3  It's an allegory in search of a meaning that n...    NaN  rotten   \n",
       "2   3  ... life lived in a bubble in financial dealin...    NaN   fresh   \n",
       "3   3  Continuing along a line introduced in last yea...    NaN   fresh   \n",
       "4   3             ... a perverse twist on neorealism...     NaN   fresh   \n",
       "\n",
       "           critic  top_critic         publisher               date  \n",
       "0      PJ Nabarro           0   Patrick Nabarro  November 10, 2018  \n",
       "1  Annalee Newitz           0           io9.com       May 23, 2018  \n",
       "2    Sean Axmaker           0  Stream on Demand    January 4, 2018  \n",
       "3   Daniel Kasman           0              MUBI  November 16, 2017  \n",
       "4             NaN           0      Cinema Scope   October 12, 2017  "
      ]
     },
     "execution_count": 4,
     "metadata": {},
     "output_type": "execute_result"
    }
   ],
   "source": [
    "reviews = pd.read_csv(\"data/rt.reviews.tsv\", encoding='latin-1', sep='\\t')\n",
    "reviews.head()"
   ]
  },
  {
   "cell_type": "markdown",
   "metadata": {},
   "source": [
    "This dataframe contains reviews and ratings, which could be useful if there were also movie titles or some other indicator of which movie is being referenced other than the ID number. "
   ]
  },
  {
   "cell_type": "markdown",
   "metadata": {},
   "source": [
    "###  TMDB"
   ]
  },
  {
   "cell_type": "code",
   "execution_count": 5,
   "metadata": {},
   "outputs": [
    {
     "data": {
      "text/html": [
       "<div>\n",
       "<style scoped>\n",
       "    .dataframe tbody tr th:only-of-type {\n",
       "        vertical-align: middle;\n",
       "    }\n",
       "\n",
       "    .dataframe tbody tr th {\n",
       "        vertical-align: top;\n",
       "    }\n",
       "\n",
       "    .dataframe thead th {\n",
       "        text-align: right;\n",
       "    }\n",
       "</style>\n",
       "<table border=\"1\" class=\"dataframe\">\n",
       "  <thead>\n",
       "    <tr style=\"text-align: right;\">\n",
       "      <th></th>\n",
       "      <th>genre_ids</th>\n",
       "      <th>id</th>\n",
       "      <th>original_language</th>\n",
       "      <th>original_title</th>\n",
       "      <th>popularity</th>\n",
       "      <th>release_date</th>\n",
       "      <th>title</th>\n",
       "      <th>vote_average</th>\n",
       "      <th>vote_count</th>\n",
       "    </tr>\n",
       "  </thead>\n",
       "  <tbody>\n",
       "    <tr>\n",
       "      <th>0</th>\n",
       "      <td>[12, 14, 10751]</td>\n",
       "      <td>12444</td>\n",
       "      <td>en</td>\n",
       "      <td>Harry Potter and the Deathly Hallows: Part 1</td>\n",
       "      <td>33.533</td>\n",
       "      <td>2010-11-19</td>\n",
       "      <td>Harry Potter and the Deathly Hallows: Part 1</td>\n",
       "      <td>7.7</td>\n",
       "      <td>10788</td>\n",
       "    </tr>\n",
       "    <tr>\n",
       "      <th>1</th>\n",
       "      <td>[14, 12, 16, 10751]</td>\n",
       "      <td>10191</td>\n",
       "      <td>en</td>\n",
       "      <td>How to Train Your Dragon</td>\n",
       "      <td>28.734</td>\n",
       "      <td>2010-03-26</td>\n",
       "      <td>How to Train Your Dragon</td>\n",
       "      <td>7.7</td>\n",
       "      <td>7610</td>\n",
       "    </tr>\n",
       "    <tr>\n",
       "      <th>2</th>\n",
       "      <td>[12, 28, 878]</td>\n",
       "      <td>10138</td>\n",
       "      <td>en</td>\n",
       "      <td>Iron Man 2</td>\n",
       "      <td>28.515</td>\n",
       "      <td>2010-05-07</td>\n",
       "      <td>Iron Man 2</td>\n",
       "      <td>6.8</td>\n",
       "      <td>12368</td>\n",
       "    </tr>\n",
       "    <tr>\n",
       "      <th>3</th>\n",
       "      <td>[16, 35, 10751]</td>\n",
       "      <td>862</td>\n",
       "      <td>en</td>\n",
       "      <td>Toy Story</td>\n",
       "      <td>28.005</td>\n",
       "      <td>1995-11-22</td>\n",
       "      <td>Toy Story</td>\n",
       "      <td>7.9</td>\n",
       "      <td>10174</td>\n",
       "    </tr>\n",
       "    <tr>\n",
       "      <th>4</th>\n",
       "      <td>[28, 878, 12]</td>\n",
       "      <td>27205</td>\n",
       "      <td>en</td>\n",
       "      <td>Inception</td>\n",
       "      <td>27.920</td>\n",
       "      <td>2010-07-16</td>\n",
       "      <td>Inception</td>\n",
       "      <td>8.3</td>\n",
       "      <td>22186</td>\n",
       "    </tr>\n",
       "  </tbody>\n",
       "</table>\n",
       "</div>"
      ],
      "text/plain": [
       "             genre_ids     id original_language  \\\n",
       "0      [12, 14, 10751]  12444                en   \n",
       "1  [14, 12, 16, 10751]  10191                en   \n",
       "2        [12, 28, 878]  10138                en   \n",
       "3      [16, 35, 10751]    862                en   \n",
       "4        [28, 878, 12]  27205                en   \n",
       "\n",
       "                                 original_title  popularity release_date  \\\n",
       "0  Harry Potter and the Deathly Hallows: Part 1      33.533   2010-11-19   \n",
       "1                      How to Train Your Dragon      28.734   2010-03-26   \n",
       "2                                    Iron Man 2      28.515   2010-05-07   \n",
       "3                                     Toy Story      28.005   1995-11-22   \n",
       "4                                     Inception      27.920   2010-07-16   \n",
       "\n",
       "                                          title  vote_average  vote_count  \n",
       "0  Harry Potter and the Deathly Hallows: Part 1           7.7       10788  \n",
       "1                      How to Train Your Dragon           7.7        7610  \n",
       "2                                    Iron Man 2           6.8       12368  \n",
       "3                                     Toy Story           7.9       10174  \n",
       "4                                     Inception           8.3       22186  "
      ]
     },
     "execution_count": 5,
     "metadata": {},
     "output_type": "execute_result"
    }
   ],
   "source": [
    "tmdb = pd.read_csv(\"data/tmdb.movies.csv\", index_col = 0)\n",
    "tmdb.head()"
   ]
  },
  {
   "cell_type": "markdown",
   "metadata": {},
   "source": [
    "This dataset also has genres listed as ID numbers (much like the Movie Info dataframe). As an added benefit, Landon was able to help me locate a data dictionary for me to replace these integers with their associated genre. However, this dataframe has the advantage of having the title and popularity ranking included in the rows, which the Movie Info dataframe lacked. "
   ]
  },
  {
   "cell_type": "markdown",
   "metadata": {},
   "source": [
    "### Movie Budgets"
   ]
  },
  {
   "cell_type": "code",
   "execution_count": 6,
   "metadata": {},
   "outputs": [
    {
     "data": {
      "text/html": [
       "<div>\n",
       "<style scoped>\n",
       "    .dataframe tbody tr th:only-of-type {\n",
       "        vertical-align: middle;\n",
       "    }\n",
       "\n",
       "    .dataframe tbody tr th {\n",
       "        vertical-align: top;\n",
       "    }\n",
       "\n",
       "    .dataframe thead th {\n",
       "        text-align: right;\n",
       "    }\n",
       "</style>\n",
       "<table border=\"1\" class=\"dataframe\">\n",
       "  <thead>\n",
       "    <tr style=\"text-align: right;\">\n",
       "      <th></th>\n",
       "      <th>id</th>\n",
       "      <th>release_date</th>\n",
       "      <th>movie</th>\n",
       "      <th>production_budget</th>\n",
       "      <th>domestic_gross</th>\n",
       "      <th>worldwide_gross</th>\n",
       "    </tr>\n",
       "  </thead>\n",
       "  <tbody>\n",
       "    <tr>\n",
       "      <th>0</th>\n",
       "      <td>1</td>\n",
       "      <td>Dec 18, 2009</td>\n",
       "      <td>Avatar</td>\n",
       "      <td>$425,000,000</td>\n",
       "      <td>$760,507,625</td>\n",
       "      <td>$2,776,345,279</td>\n",
       "    </tr>\n",
       "    <tr>\n",
       "      <th>1</th>\n",
       "      <td>2</td>\n",
       "      <td>May 20, 2011</td>\n",
       "      <td>Pirates of the Caribbean: On Stranger Tides</td>\n",
       "      <td>$410,600,000</td>\n",
       "      <td>$241,063,875</td>\n",
       "      <td>$1,045,663,875</td>\n",
       "    </tr>\n",
       "    <tr>\n",
       "      <th>2</th>\n",
       "      <td>3</td>\n",
       "      <td>Jun 7, 2019</td>\n",
       "      <td>Dark Phoenix</td>\n",
       "      <td>$350,000,000</td>\n",
       "      <td>$42,762,350</td>\n",
       "      <td>$149,762,350</td>\n",
       "    </tr>\n",
       "    <tr>\n",
       "      <th>3</th>\n",
       "      <td>4</td>\n",
       "      <td>May 1, 2015</td>\n",
       "      <td>Avengers: Age of Ultron</td>\n",
       "      <td>$330,600,000</td>\n",
       "      <td>$459,005,868</td>\n",
       "      <td>$1,403,013,963</td>\n",
       "    </tr>\n",
       "    <tr>\n",
       "      <th>4</th>\n",
       "      <td>5</td>\n",
       "      <td>Dec 15, 2017</td>\n",
       "      <td>Star Wars Ep. VIII: The Last Jedi</td>\n",
       "      <td>$317,000,000</td>\n",
       "      <td>$620,181,382</td>\n",
       "      <td>$1,316,721,747</td>\n",
       "    </tr>\n",
       "  </tbody>\n",
       "</table>\n",
       "</div>"
      ],
      "text/plain": [
       "   id  release_date                                        movie  \\\n",
       "0   1  Dec 18, 2009                                       Avatar   \n",
       "1   2  May 20, 2011  Pirates of the Caribbean: On Stranger Tides   \n",
       "2   3   Jun 7, 2019                                 Dark Phoenix   \n",
       "3   4   May 1, 2015                      Avengers: Age of Ultron   \n",
       "4   5  Dec 15, 2017            Star Wars Ep. VIII: The Last Jedi   \n",
       "\n",
       "  production_budget domestic_gross worldwide_gross  \n",
       "0      $425,000,000   $760,507,625  $2,776,345,279  \n",
       "1      $410,600,000   $241,063,875  $1,045,663,875  \n",
       "2      $350,000,000    $42,762,350    $149,762,350  \n",
       "3      $330,600,000   $459,005,868  $1,403,013,963  \n",
       "4      $317,000,000   $620,181,382  $1,316,721,747  "
      ]
     },
     "execution_count": 6,
     "metadata": {},
     "output_type": "execute_result"
    }
   ],
   "source": [
    "budgets = pd.read_csv(\"data/tn.movie_budgets.csv\")\n",
    "budgets.head()"
   ]
  },
  {
   "cell_type": "markdown",
   "metadata": {},
   "source": [
    "Finally, the budgets dataframe contains information on the production budget and worldwide gross revenue. This dataframe is useful for calculating total profit. "
   ]
  },
  {
   "cell_type": "markdown",
   "metadata": {},
   "source": [
    "### Initial Curiosities\n",
    "\n",
    "Based off my first glance at these datasets, I decided to first explore if there is any correlation between genre and profit. Because they share information about movie titles, I decide to utilize both the budgets dataframe as well as the TMDB dataframe."
   ]
  },
  {
   "cell_type": "markdown",
   "metadata": {},
   "source": [
    "## 2 Sample T-Test\n",
    "\n",
    "### Initial Data Cleaning\n",
    "\n",
    "#### Casting gross revenue and production cost as integers\n",
    "\n",
    "I decided that the first order of business would be to calculate my measurement of benefit (in this scenario, profit). To do so, I needed to subtract production cost from worldwide revenue. However, these columns weren't ready for me to perform calculations on yet because they were not the correct data type.\n",
    "\n",
    "I could tell from my initial glance at the budgets dataframe that there were string characters (such as $) in the cells. To confirm which characters I needed to remove before casting this column as an integer, I took a brief look at the first few values. "
   ]
  },
  {
   "cell_type": "code",
   "execution_count": 7,
   "metadata": {
    "scrolled": true
   },
   "outputs": [
    {
     "data": {
      "text/plain": [
       "0    $2,776,345,279\n",
       "1    $1,045,663,875\n",
       "2      $149,762,350\n",
       "3    $1,403,013,963\n",
       "4    $1,316,721,747\n",
       "Name: worldwide_gross, dtype: object"
      ]
     },
     "execution_count": 7,
     "metadata": {},
     "output_type": "execute_result"
    }
   ],
   "source": [
    "budgets['worldwide_gross'].head() # finding strings to remove"
   ]
  },
  {
   "cell_type": "markdown",
   "metadata": {},
   "source": [
    "Thus, it is clear that I need to remove $ and , from the values before casting them as integers. "
   ]
  },
  {
   "cell_type": "code",
   "execution_count": 8,
   "metadata": {
    "scrolled": true
   },
   "outputs": [],
   "source": [
    "# removing $ and , from gross revenue\n",
    "budgets['worldwide_gross'] = budgets['worldwide_gross'].str.replace(\",\",\"\")\n",
    "budgets['worldwide_gross'] = budgets['worldwide_gross'].str.replace(\"$\",\"\")\n",
    "\n",
    "# casting the values as integers\n",
    "budgets['worldwide_gross'] = pd.to_numeric(budgets['worldwide_gross'])"
   ]
  },
  {
   "cell_type": "markdown",
   "metadata": {},
   "source": [
    "I could also tell that the production_budget column shares these same characters. So, I performed the same operations on this column as well. "
   ]
  },
  {
   "cell_type": "code",
   "execution_count": 9,
   "metadata": {},
   "outputs": [],
   "source": [
    "# removing $ and , from production budget\n",
    "budgets['production_budget'] = budgets['production_budget'].str.replace(\",\",\"\")\n",
    "budgets['production_budget'] = budgets['production_budget'].str.replace(\"$\",\"\")\n",
    "\n",
    "# casting the values as integers\n",
    "budgets['production_budget'] = pd.to_numeric(budgets['production_budget'])"
   ]
  },
  {
   "cell_type": "markdown",
   "metadata": {},
   "source": [
    "#### Adding and Populating Profit Column\n",
    "\n",
    "Now that these values were cast as integers, I could create a new column in the dataframe to represent total profit.\n",
    "Note: I used worldwide gross rather than domestic gross as it appeared to be a more holistic representation of the overall revenue than domestic gross. Because I did not use the domestic gross column in my calculation, I did not dedicate time to cleaning this column. "
   ]
  },
  {
   "cell_type": "code",
   "execution_count": 10,
   "metadata": {},
   "outputs": [
    {
     "data": {
      "text/html": [
       "<div>\n",
       "<style scoped>\n",
       "    .dataframe tbody tr th:only-of-type {\n",
       "        vertical-align: middle;\n",
       "    }\n",
       "\n",
       "    .dataframe tbody tr th {\n",
       "        vertical-align: top;\n",
       "    }\n",
       "\n",
       "    .dataframe thead th {\n",
       "        text-align: right;\n",
       "    }\n",
       "</style>\n",
       "<table border=\"1\" class=\"dataframe\">\n",
       "  <thead>\n",
       "    <tr style=\"text-align: right;\">\n",
       "      <th></th>\n",
       "      <th>id</th>\n",
       "      <th>release_date</th>\n",
       "      <th>movie</th>\n",
       "      <th>production_budget</th>\n",
       "      <th>domestic_gross</th>\n",
       "      <th>worldwide_gross</th>\n",
       "      <th>total_profit</th>\n",
       "    </tr>\n",
       "  </thead>\n",
       "  <tbody>\n",
       "    <tr>\n",
       "      <th>0</th>\n",
       "      <td>1</td>\n",
       "      <td>Dec 18, 2009</td>\n",
       "      <td>Avatar</td>\n",
       "      <td>425000000</td>\n",
       "      <td>$760,507,625</td>\n",
       "      <td>2776345279</td>\n",
       "      <td>2351345279</td>\n",
       "    </tr>\n",
       "    <tr>\n",
       "      <th>1</th>\n",
       "      <td>2</td>\n",
       "      <td>May 20, 2011</td>\n",
       "      <td>Pirates of the Caribbean: On Stranger Tides</td>\n",
       "      <td>410600000</td>\n",
       "      <td>$241,063,875</td>\n",
       "      <td>1045663875</td>\n",
       "      <td>635063875</td>\n",
       "    </tr>\n",
       "    <tr>\n",
       "      <th>2</th>\n",
       "      <td>3</td>\n",
       "      <td>Jun 7, 2019</td>\n",
       "      <td>Dark Phoenix</td>\n",
       "      <td>350000000</td>\n",
       "      <td>$42,762,350</td>\n",
       "      <td>149762350</td>\n",
       "      <td>-200237650</td>\n",
       "    </tr>\n",
       "    <tr>\n",
       "      <th>3</th>\n",
       "      <td>4</td>\n",
       "      <td>May 1, 2015</td>\n",
       "      <td>Avengers: Age of Ultron</td>\n",
       "      <td>330600000</td>\n",
       "      <td>$459,005,868</td>\n",
       "      <td>1403013963</td>\n",
       "      <td>1072413963</td>\n",
       "    </tr>\n",
       "    <tr>\n",
       "      <th>4</th>\n",
       "      <td>5</td>\n",
       "      <td>Dec 15, 2017</td>\n",
       "      <td>Star Wars Ep. VIII: The Last Jedi</td>\n",
       "      <td>317000000</td>\n",
       "      <td>$620,181,382</td>\n",
       "      <td>1316721747</td>\n",
       "      <td>999721747</td>\n",
       "    </tr>\n",
       "  </tbody>\n",
       "</table>\n",
       "</div>"
      ],
      "text/plain": [
       "   id  release_date                                        movie  \\\n",
       "0   1  Dec 18, 2009                                       Avatar   \n",
       "1   2  May 20, 2011  Pirates of the Caribbean: On Stranger Tides   \n",
       "2   3   Jun 7, 2019                                 Dark Phoenix   \n",
       "3   4   May 1, 2015                      Avengers: Age of Ultron   \n",
       "4   5  Dec 15, 2017            Star Wars Ep. VIII: The Last Jedi   \n",
       "\n",
       "   production_budget domestic_gross  worldwide_gross  total_profit  \n",
       "0          425000000   $760,507,625       2776345279    2351345279  \n",
       "1          410600000   $241,063,875       1045663875     635063875  \n",
       "2          350000000    $42,762,350        149762350    -200237650  \n",
       "3          330600000   $459,005,868       1403013963    1072413963  \n",
       "4          317000000   $620,181,382       1316721747     999721747  "
      ]
     },
     "execution_count": 10,
     "metadata": {},
     "output_type": "execute_result"
    }
   ],
   "source": [
    "# calculating total profit\n",
    "budgets['total_profit'] =  budgets['worldwide_gross'] - budgets['production_budget']\n",
    "\n",
    "# confirmation\n",
    "budgets.head()"
   ]
  },
  {
   "cell_type": "markdown",
   "metadata": {},
   "source": [
    "#### Checking for Nulls and Duplicates"
   ]
  },
  {
   "cell_type": "code",
   "execution_count": 11,
   "metadata": {},
   "outputs": [
    {
     "name": "stdout",
     "output_type": "stream",
     "text": [
      "<class 'pandas.core.frame.DataFrame'>\n",
      "RangeIndex: 5782 entries, 0 to 5781\n",
      "Data columns (total 7 columns):\n",
      " #   Column             Non-Null Count  Dtype \n",
      "---  ------             --------------  ----- \n",
      " 0   id                 5782 non-null   int64 \n",
      " 1   release_date       5782 non-null   object\n",
      " 2   movie              5782 non-null   object\n",
      " 3   production_budget  5782 non-null   int64 \n",
      " 4   domestic_gross     5782 non-null   object\n",
      " 5   worldwide_gross    5782 non-null   int64 \n",
      " 6   total_profit       5782 non-null   int64 \n",
      "dtypes: int64(4), object(3)\n",
      "memory usage: 316.3+ KB\n"
     ]
    }
   ],
   "source": [
    "# any nulls?\n",
    "budgets.info()"
   ]
  },
  {
   "cell_type": "markdown",
   "metadata": {},
   "source": [
    "There doesn't appear to be any nulls or null-like values"
   ]
  },
  {
   "cell_type": "code",
   "execution_count": 12,
   "metadata": {},
   "outputs": [
    {
     "data": {
      "text/plain": [
       "False    5782\n",
       "dtype: int64"
      ]
     },
     "execution_count": 12,
     "metadata": {},
     "output_type": "execute_result"
    }
   ],
   "source": [
    "# any duplicates?\n",
    "budgets.duplicated().value_counts()"
   ]
  },
  {
   "cell_type": "markdown",
   "metadata": {},
   "source": [
    "There don't appear to be any duplicates either"
   ]
  },
  {
   "cell_type": "markdown",
   "metadata": {},
   "source": [
    "#### Merging the Budgets and TMDB Dataframes"
   ]
  },
  {
   "cell_type": "markdown",
   "metadata": {},
   "source": [
    "With the profit column created, I began to tackle how I might combine this dataframe with the TMDB dataframe so that I could merge the available information on genres with the available information on profit for the associated movie. \n",
    "\n",
    "To do so, I first ensured that the movie titles were the indeces for each of these dataframes. "
   ]
  },
  {
   "cell_type": "code",
   "execution_count": 13,
   "metadata": {},
   "outputs": [
    {
     "data": {
      "text/html": [
       "<div>\n",
       "<style scoped>\n",
       "    .dataframe tbody tr th:only-of-type {\n",
       "        vertical-align: middle;\n",
       "    }\n",
       "\n",
       "    .dataframe tbody tr th {\n",
       "        vertical-align: top;\n",
       "    }\n",
       "\n",
       "    .dataframe thead th {\n",
       "        text-align: right;\n",
       "    }\n",
       "</style>\n",
       "<table border=\"1\" class=\"dataframe\">\n",
       "  <thead>\n",
       "    <tr style=\"text-align: right;\">\n",
       "      <th></th>\n",
       "      <th>genre_ids</th>\n",
       "      <th>id</th>\n",
       "      <th>original_language</th>\n",
       "      <th>original_title</th>\n",
       "      <th>popularity</th>\n",
       "      <th>release_date</th>\n",
       "      <th>vote_average</th>\n",
       "      <th>vote_count</th>\n",
       "    </tr>\n",
       "    <tr>\n",
       "      <th>title</th>\n",
       "      <th></th>\n",
       "      <th></th>\n",
       "      <th></th>\n",
       "      <th></th>\n",
       "      <th></th>\n",
       "      <th></th>\n",
       "      <th></th>\n",
       "      <th></th>\n",
       "    </tr>\n",
       "  </thead>\n",
       "  <tbody>\n",
       "    <tr>\n",
       "      <th>Harry Potter and the Deathly Hallows: Part 1</th>\n",
       "      <td>[12, 14, 10751]</td>\n",
       "      <td>12444</td>\n",
       "      <td>en</td>\n",
       "      <td>Harry Potter and the Deathly Hallows: Part 1</td>\n",
       "      <td>33.533</td>\n",
       "      <td>2010-11-19</td>\n",
       "      <td>7.7</td>\n",
       "      <td>10788</td>\n",
       "    </tr>\n",
       "    <tr>\n",
       "      <th>How to Train Your Dragon</th>\n",
       "      <td>[14, 12, 16, 10751]</td>\n",
       "      <td>10191</td>\n",
       "      <td>en</td>\n",
       "      <td>How to Train Your Dragon</td>\n",
       "      <td>28.734</td>\n",
       "      <td>2010-03-26</td>\n",
       "      <td>7.7</td>\n",
       "      <td>7610</td>\n",
       "    </tr>\n",
       "    <tr>\n",
       "      <th>Iron Man 2</th>\n",
       "      <td>[12, 28, 878]</td>\n",
       "      <td>10138</td>\n",
       "      <td>en</td>\n",
       "      <td>Iron Man 2</td>\n",
       "      <td>28.515</td>\n",
       "      <td>2010-05-07</td>\n",
       "      <td>6.8</td>\n",
       "      <td>12368</td>\n",
       "    </tr>\n",
       "    <tr>\n",
       "      <th>Toy Story</th>\n",
       "      <td>[16, 35, 10751]</td>\n",
       "      <td>862</td>\n",
       "      <td>en</td>\n",
       "      <td>Toy Story</td>\n",
       "      <td>28.005</td>\n",
       "      <td>1995-11-22</td>\n",
       "      <td>7.9</td>\n",
       "      <td>10174</td>\n",
       "    </tr>\n",
       "    <tr>\n",
       "      <th>Inception</th>\n",
       "      <td>[28, 878, 12]</td>\n",
       "      <td>27205</td>\n",
       "      <td>en</td>\n",
       "      <td>Inception</td>\n",
       "      <td>27.920</td>\n",
       "      <td>2010-07-16</td>\n",
       "      <td>8.3</td>\n",
       "      <td>22186</td>\n",
       "    </tr>\n",
       "    <tr>\n",
       "      <th>...</th>\n",
       "      <td>...</td>\n",
       "      <td>...</td>\n",
       "      <td>...</td>\n",
       "      <td>...</td>\n",
       "      <td>...</td>\n",
       "      <td>...</td>\n",
       "      <td>...</td>\n",
       "      <td>...</td>\n",
       "    </tr>\n",
       "    <tr>\n",
       "      <th>Laboratory Conditions</th>\n",
       "      <td>[27, 18]</td>\n",
       "      <td>488143</td>\n",
       "      <td>en</td>\n",
       "      <td>Laboratory Conditions</td>\n",
       "      <td>0.600</td>\n",
       "      <td>2018-10-13</td>\n",
       "      <td>0.0</td>\n",
       "      <td>1</td>\n",
       "    </tr>\n",
       "    <tr>\n",
       "      <th>_EXHIBIT_84xxx_</th>\n",
       "      <td>[18, 53]</td>\n",
       "      <td>485975</td>\n",
       "      <td>en</td>\n",
       "      <td>_EXHIBIT_84xxx_</td>\n",
       "      <td>0.600</td>\n",
       "      <td>2018-05-01</td>\n",
       "      <td>0.0</td>\n",
       "      <td>1</td>\n",
       "    </tr>\n",
       "    <tr>\n",
       "      <th>The Last One</th>\n",
       "      <td>[14, 28, 12]</td>\n",
       "      <td>381231</td>\n",
       "      <td>en</td>\n",
       "      <td>The Last One</td>\n",
       "      <td>0.600</td>\n",
       "      <td>2018-10-01</td>\n",
       "      <td>0.0</td>\n",
       "      <td>1</td>\n",
       "    </tr>\n",
       "    <tr>\n",
       "      <th>Trailer Made</th>\n",
       "      <td>[10751, 12, 28]</td>\n",
       "      <td>366854</td>\n",
       "      <td>en</td>\n",
       "      <td>Trailer Made</td>\n",
       "      <td>0.600</td>\n",
       "      <td>2018-06-22</td>\n",
       "      <td>0.0</td>\n",
       "      <td>1</td>\n",
       "    </tr>\n",
       "    <tr>\n",
       "      <th>The Church</th>\n",
       "      <td>[53, 27]</td>\n",
       "      <td>309885</td>\n",
       "      <td>en</td>\n",
       "      <td>The Church</td>\n",
       "      <td>0.600</td>\n",
       "      <td>2018-10-05</td>\n",
       "      <td>0.0</td>\n",
       "      <td>1</td>\n",
       "    </tr>\n",
       "  </tbody>\n",
       "</table>\n",
       "<p>26517 rows × 8 columns</p>\n",
       "</div>"
      ],
      "text/plain": [
       "                                                        genre_ids      id  \\\n",
       "title                                                                       \n",
       "Harry Potter and the Deathly Hallows: Part 1      [12, 14, 10751]   12444   \n",
       "How to Train Your Dragon                      [14, 12, 16, 10751]   10191   \n",
       "Iron Man 2                                          [12, 28, 878]   10138   \n",
       "Toy Story                                         [16, 35, 10751]     862   \n",
       "Inception                                           [28, 878, 12]   27205   \n",
       "...                                                           ...     ...   \n",
       "Laboratory Conditions                                    [27, 18]  488143   \n",
       "_EXHIBIT_84xxx_                                          [18, 53]  485975   \n",
       "The Last One                                         [14, 28, 12]  381231   \n",
       "Trailer Made                                      [10751, 12, 28]  366854   \n",
       "The Church                                               [53, 27]  309885   \n",
       "\n",
       "                                             original_language  \\\n",
       "title                                                            \n",
       "Harry Potter and the Deathly Hallows: Part 1                en   \n",
       "How to Train Your Dragon                                    en   \n",
       "Iron Man 2                                                  en   \n",
       "Toy Story                                                   en   \n",
       "Inception                                                   en   \n",
       "...                                                        ...   \n",
       "Laboratory Conditions                                       en   \n",
       "_EXHIBIT_84xxx_                                             en   \n",
       "The Last One                                                en   \n",
       "Trailer Made                                                en   \n",
       "The Church                                                  en   \n",
       "\n",
       "                                                                            original_title  \\\n",
       "title                                                                                        \n",
       "Harry Potter and the Deathly Hallows: Part 1  Harry Potter and the Deathly Hallows: Part 1   \n",
       "How to Train Your Dragon                                          How to Train Your Dragon   \n",
       "Iron Man 2                                                                      Iron Man 2   \n",
       "Toy Story                                                                        Toy Story   \n",
       "Inception                                                                        Inception   \n",
       "...                                                                                    ...   \n",
       "Laboratory Conditions                                                Laboratory Conditions   \n",
       "_EXHIBIT_84xxx_                                                            _EXHIBIT_84xxx_   \n",
       "The Last One                                                                  The Last One   \n",
       "Trailer Made                                                                  Trailer Made   \n",
       "The Church                                                                      The Church   \n",
       "\n",
       "                                              popularity release_date  \\\n",
       "title                                                                   \n",
       "Harry Potter and the Deathly Hallows: Part 1      33.533   2010-11-19   \n",
       "How to Train Your Dragon                          28.734   2010-03-26   \n",
       "Iron Man 2                                        28.515   2010-05-07   \n",
       "Toy Story                                         28.005   1995-11-22   \n",
       "Inception                                         27.920   2010-07-16   \n",
       "...                                                  ...          ...   \n",
       "Laboratory Conditions                              0.600   2018-10-13   \n",
       "_EXHIBIT_84xxx_                                    0.600   2018-05-01   \n",
       "The Last One                                       0.600   2018-10-01   \n",
       "Trailer Made                                       0.600   2018-06-22   \n",
       "The Church                                         0.600   2018-10-05   \n",
       "\n",
       "                                              vote_average  vote_count  \n",
       "title                                                                   \n",
       "Harry Potter and the Deathly Hallows: Part 1           7.7       10788  \n",
       "How to Train Your Dragon                               7.7        7610  \n",
       "Iron Man 2                                             6.8       12368  \n",
       "Toy Story                                              7.9       10174  \n",
       "Inception                                              8.3       22186  \n",
       "...                                                    ...         ...  \n",
       "Laboratory Conditions                                  0.0           1  \n",
       "_EXHIBIT_84xxx_                                        0.0           1  \n",
       "The Last One                                           0.0           1  \n",
       "Trailer Made                                           0.0           1  \n",
       "The Church                                             0.0           1  \n",
       "\n",
       "[26517 rows x 8 columns]"
      ]
     },
     "execution_count": 13,
     "metadata": {},
     "output_type": "execute_result"
    }
   ],
   "source": [
    "budgets.set_index('movie')\n",
    "tmdb.set_index('title')"
   ]
  },
  {
   "cell_type": "markdown",
   "metadata": {},
   "source": [
    "Once these indeces were set, I joined these dataframes using an inner join. I used an inner join because I currently have no use for movies that appear in one dataframe and not the other. However, I made sure to save this joined dataframe as a separate dataframe, thus preserving the initial dataframes in case I need to refer back to them later. I also set suffixes in case of repeated column names. After merging, I used the .info() method to confirm that I have populated the table adequately."
   ]
  },
  {
   "cell_type": "code",
   "execution_count": 14,
   "metadata": {
    "scrolled": true
   },
   "outputs": [
    {
     "name": "stdout",
     "output_type": "stream",
     "text": [
      "<class 'pandas.core.frame.DataFrame'>\n",
      "Int64Index: 5782 entries, 0 to 5781\n",
      "Data columns (total 16 columns):\n",
      " #   Column                Non-Null Count  Dtype  \n",
      "---  ------                --------------  -----  \n",
      " 0   id_budgets            5782 non-null   int64  \n",
      " 1   release_date_budgets  5782 non-null   object \n",
      " 2   movie                 5782 non-null   object \n",
      " 3   production_budget     5782 non-null   int64  \n",
      " 4   domestic_gross        5782 non-null   object \n",
      " 5   worldwide_gross       5782 non-null   int64  \n",
      " 6   total_profit          5782 non-null   int64  \n",
      " 7   genre_ids             5782 non-null   object \n",
      " 8   id_tmdb               5782 non-null   int64  \n",
      " 9   original_language     5782 non-null   object \n",
      " 10  original_title        5782 non-null   object \n",
      " 11  popularity            5782 non-null   float64\n",
      " 12  release_date_tmdb     5782 non-null   object \n",
      " 13  title                 5782 non-null   object \n",
      " 14  vote_average          5782 non-null   float64\n",
      " 15  vote_count            5782 non-null   int64  \n",
      "dtypes: float64(2), int64(6), object(8)\n",
      "memory usage: 767.9+ KB\n"
     ]
    }
   ],
   "source": [
    "budgets_and_tmdb = budgets.join(tmdb, how='inner', lsuffix = '_budgets' , rsuffix = '_tmdb')\n",
    "budgets_and_tmdb.info()"
   ]
  },
  {
   "cell_type": "markdown",
   "metadata": {},
   "source": [
    "I noticed afterwards that the number of valid rows in each column matched perfectly with the total number of rows in the smaller dataframe (budget). This implied to me that I was able to gather genre information about every movie for which I had profit information. \n",
    "\n",
    "#### Replacing Genre Ids with Dummy Columns for the Appropriate Genre\n",
    "\n",
    "I also noticed from this output that my genre_ids column, which I had previously thought contained lists of integers based on what was observed in the first few rows of this dataframe, is actually just strings. In order to create a frequency distribution of the genres, I needed to accomplish the following:\n",
    "\n",
    "1. Remove brackets and whitespace\n",
    "2. Replace each genre id with the associated genre\n",
    "3. Create a new dataframe with genres as columns and cells containing binary values\n",
    "    0 -> the movie represented in this row is NOT this genre\n",
    "    1 -> the movie represented in this row IS this genre\n",
    "    \n",
    "For this section, I got some help from Landon, who utilized this resource to help solve a similar problem: https://stackoverflow.com/questions/29034928/pandas-convert-a-column-of-list-to-dummies"
   ]
  },
  {
   "cell_type": "code",
   "execution_count": 16,
   "metadata": {},
   "outputs": [
    {
     "data": {
      "text/html": [
       "<div>\n",
       "<style scoped>\n",
       "    .dataframe tbody tr th:only-of-type {\n",
       "        vertical-align: middle;\n",
       "    }\n",
       "\n",
       "    .dataframe tbody tr th {\n",
       "        vertical-align: top;\n",
       "    }\n",
       "\n",
       "    .dataframe thead th {\n",
       "        text-align: right;\n",
       "    }\n",
       "</style>\n",
       "<table border=\"1\" class=\"dataframe\">\n",
       "  <thead>\n",
       "    <tr style=\"text-align: right;\">\n",
       "      <th></th>\n",
       "      <th>total_profit</th>\n",
       "      <th>genre_ids</th>\n",
       "      <th>title</th>\n",
       "      <th>Music</th>\n",
       "      <th>Romance</th>\n",
       "      <th>Family</th>\n",
       "      <th>War</th>\n",
       "      <th>TV</th>\n",
       "      <th>Adventure</th>\n",
       "      <th>Fantasy</th>\n",
       "      <th>...</th>\n",
       "      <th>Horror</th>\n",
       "      <th>Action</th>\n",
       "      <th>Comedy</th>\n",
       "      <th>History</th>\n",
       "      <th>Western</th>\n",
       "      <th>Thriller</th>\n",
       "      <th>Crime</th>\n",
       "      <th>SciFi</th>\n",
       "      <th>Mystery</th>\n",
       "      <th>Documentary</th>\n",
       "    </tr>\n",
       "  </thead>\n",
       "  <tbody>\n",
       "    <tr>\n",
       "      <th>0</th>\n",
       "      <td>2351345279</td>\n",
       "      <td>[12, 14, 10751]</td>\n",
       "      <td>Harry Potter and the Deathly Hallows: Part 1</td>\n",
       "      <td>0</td>\n",
       "      <td>0</td>\n",
       "      <td>1</td>\n",
       "      <td>0</td>\n",
       "      <td>0</td>\n",
       "      <td>1</td>\n",
       "      <td>1</td>\n",
       "      <td>...</td>\n",
       "      <td>0</td>\n",
       "      <td>0</td>\n",
       "      <td>0</td>\n",
       "      <td>0</td>\n",
       "      <td>0</td>\n",
       "      <td>0</td>\n",
       "      <td>0</td>\n",
       "      <td>0</td>\n",
       "      <td>0</td>\n",
       "      <td>0</td>\n",
       "    </tr>\n",
       "    <tr>\n",
       "      <th>1</th>\n",
       "      <td>635063875</td>\n",
       "      <td>[14, 12, 16, 10751]</td>\n",
       "      <td>How to Train Your Dragon</td>\n",
       "      <td>0</td>\n",
       "      <td>0</td>\n",
       "      <td>1</td>\n",
       "      <td>0</td>\n",
       "      <td>0</td>\n",
       "      <td>1</td>\n",
       "      <td>1</td>\n",
       "      <td>...</td>\n",
       "      <td>0</td>\n",
       "      <td>0</td>\n",
       "      <td>0</td>\n",
       "      <td>0</td>\n",
       "      <td>0</td>\n",
       "      <td>0</td>\n",
       "      <td>0</td>\n",
       "      <td>0</td>\n",
       "      <td>0</td>\n",
       "      <td>0</td>\n",
       "    </tr>\n",
       "    <tr>\n",
       "      <th>2</th>\n",
       "      <td>-200237650</td>\n",
       "      <td>[12, 28, 878]</td>\n",
       "      <td>Iron Man 2</td>\n",
       "      <td>0</td>\n",
       "      <td>0</td>\n",
       "      <td>0</td>\n",
       "      <td>0</td>\n",
       "      <td>0</td>\n",
       "      <td>1</td>\n",
       "      <td>0</td>\n",
       "      <td>...</td>\n",
       "      <td>0</td>\n",
       "      <td>1</td>\n",
       "      <td>0</td>\n",
       "      <td>0</td>\n",
       "      <td>0</td>\n",
       "      <td>0</td>\n",
       "      <td>0</td>\n",
       "      <td>1</td>\n",
       "      <td>0</td>\n",
       "      <td>0</td>\n",
       "    </tr>\n",
       "    <tr>\n",
       "      <th>3</th>\n",
       "      <td>1072413963</td>\n",
       "      <td>[16, 35, 10751]</td>\n",
       "      <td>Toy Story</td>\n",
       "      <td>0</td>\n",
       "      <td>0</td>\n",
       "      <td>1</td>\n",
       "      <td>0</td>\n",
       "      <td>0</td>\n",
       "      <td>0</td>\n",
       "      <td>0</td>\n",
       "      <td>...</td>\n",
       "      <td>0</td>\n",
       "      <td>0</td>\n",
       "      <td>1</td>\n",
       "      <td>0</td>\n",
       "      <td>0</td>\n",
       "      <td>0</td>\n",
       "      <td>0</td>\n",
       "      <td>0</td>\n",
       "      <td>0</td>\n",
       "      <td>0</td>\n",
       "    </tr>\n",
       "    <tr>\n",
       "      <th>4</th>\n",
       "      <td>999721747</td>\n",
       "      <td>[28, 878, 12]</td>\n",
       "      <td>Inception</td>\n",
       "      <td>0</td>\n",
       "      <td>0</td>\n",
       "      <td>0</td>\n",
       "      <td>0</td>\n",
       "      <td>0</td>\n",
       "      <td>1</td>\n",
       "      <td>0</td>\n",
       "      <td>...</td>\n",
       "      <td>0</td>\n",
       "      <td>1</td>\n",
       "      <td>0</td>\n",
       "      <td>0</td>\n",
       "      <td>0</td>\n",
       "      <td>0</td>\n",
       "      <td>0</td>\n",
       "      <td>1</td>\n",
       "      <td>0</td>\n",
       "      <td>0</td>\n",
       "    </tr>\n",
       "  </tbody>\n",
       "</table>\n",
       "<p>5 rows × 22 columns</p>\n",
       "</div>"
      ],
      "text/plain": [
       "   total_profit            genre_ids  \\\n",
       "0    2351345279      [12, 14, 10751]   \n",
       "1     635063875  [14, 12, 16, 10751]   \n",
       "2    -200237650        [12, 28, 878]   \n",
       "3    1072413963      [16, 35, 10751]   \n",
       "4     999721747        [28, 878, 12]   \n",
       "\n",
       "                                          title  Music  Romance  Family  War  \\\n",
       "0  Harry Potter and the Deathly Hallows: Part 1      0        0       1    0   \n",
       "1                      How to Train Your Dragon      0        0       1    0   \n",
       "2                                    Iron Man 2      0        0       0    0   \n",
       "3                                     Toy Story      0        0       1    0   \n",
       "4                                     Inception      0        0       0    0   \n",
       "\n",
       "   TV  Adventure  Fantasy  ...  Horror  Action  Comedy  History  Western  \\\n",
       "0   0          1        1  ...       0       0       0        0        0   \n",
       "1   0          1        1  ...       0       0       0        0        0   \n",
       "2   0          1        0  ...       0       1       0        0        0   \n",
       "3   0          0        0  ...       0       0       1        0        0   \n",
       "4   0          1        0  ...       0       1       0        0        0   \n",
       "\n",
       "   Thriller  Crime  SciFi  Mystery  Documentary  \n",
       "0         0      0      0        0            0  \n",
       "1         0      0      0        0            0  \n",
       "2         0      0      1        0            0  \n",
       "3         0      0      0        0            0  \n",
       "4         0      0      1        0            0  \n",
       "\n",
       "[5 rows x 22 columns]"
      ]
     },
     "execution_count": 16,
     "metadata": {},
     "output_type": "execute_result"
    }
   ],
   "source": [
    "def create_dummy_cols(column):\n",
    "\n",
    "    # remove [, ], and whitespace\n",
    "    column = column.str.strip(\"]\")\n",
    "    column = column.str.strip(\"[\")\n",
    "    column = column.str.replace(\" \", \"\")\n",
    "\n",
    "\n",
    "    # split by comma\n",
    "    genres = column.str.split(\",\")\n",
    "\n",
    "    bin_genre_df = pd.get_dummies(genres.apply(pd.Series).stack()).sum(level=0)\n",
    "    budgets_and_genre_dummys = budgets_and_tmdb.join(bin_genre_df, how='inner', lsuffix = '_budgets' , rsuffix = '_dummys')\n",
    "\n",
    "    # drop irrelevant cols\n",
    "    cols_to_remove = [\"original_language\",\"\",\"vote_average\",\"vote_count\",\"original_title\",\"popularity\",\"id_budgets\",\"release_date_budgets\",\"id_tmdb\",\"release_date_tmdb\",\"production_budget\",\"domestic_gross\",\"worldwide_gross\",\"movie\"]\n",
    "    cols_to_keep = [col for col in budgets_and_genre_dummys.columns if col not in cols_to_remove]\n",
    "    budgets_and_genre_dummys = budgets_and_genre_dummys[cols_to_keep]\n",
    "    budgets_and_genre_dummys.head()\n",
    "\n",
    "    # rename columns for genres\n",
    "    budgets_and_genre_dummys.rename(columns = {'28' : 'Action', \n",
    "                                           '12' : 'Adventure',\n",
    "                                          '16' : 'Animation',\n",
    "                                          '35' : 'Comedy',\n",
    "                                          '80' : 'Crime',\n",
    "                                          '99' : 'Documentary',\n",
    "                                          '18' : 'Drama',\n",
    "                                          '10751' : 'Family',\n",
    "                                          '14' : 'Fantasy',\n",
    "                                          '36' : 'History',\n",
    "                                          '27' : 'Horror',\n",
    "                                          '10402' : 'Music',\n",
    "                                          '9648' : 'Mystery',\n",
    "                                          '10749' : 'Romance',\n",
    "                                          '878' : 'SciFi',\n",
    "                                          '10770' : 'TV',\n",
    "                                          '53' : 'Thriller',\n",
    "                                          '10752' : 'War',\n",
    "                                          '37' : 'Western'}, inplace = True)\n",
    "\n",
    "    return budgets_and_genre_dummys\n",
    "\n",
    "budgets_and_genre_dummys = create_dummy_cols(budgets_and_tmdb['genre_ids'])\n",
    "budgets_and_genre_dummys.head()"
   ]
  },
  {
   "cell_type": "markdown",
   "metadata": {},
   "source": [
    "### Visualization\n",
    "\n",
    "#### Visualizing Distribution of Genres\n",
    "\n",
    "Next, I needed to find the sum by genre column in order to visualize the distribution of genres."
   ]
  },
  {
   "cell_type": "code",
   "execution_count": 17,
   "metadata": {},
   "outputs": [
    {
     "data": {
      "text/plain": [
       "{'Music': 312,\n",
       " 'Romance': 611,\n",
       " 'Family': 422,\n",
       " 'War': 72,\n",
       " 'TV': 155,\n",
       " 'Adventure': 323,\n",
       " 'Fantasy': 264,\n",
       " 'Animation': 336,\n",
       " 'Drama': 1903,\n",
       " 'Horror': 723,\n",
       " 'Action': 706,\n",
       " 'Comedy': 1394,\n",
       " 'History': 127,\n",
       " 'Western': 44,\n",
       " 'Thriller': 944,\n",
       " 'Crime': 353,\n",
       " 'SciFi': 358,\n",
       " 'Mystery': 274,\n",
       " 'Documentary': 958}"
      ]
     },
     "execution_count": 17,
     "metadata": {},
     "output_type": "execute_result"
    }
   ],
   "source": [
    "# Creating dictionary for all genres and frequencies\n",
    "\n",
    "def freq_dictionary(dataframe):\n",
    "    genre_sums = {}\n",
    "    for col in dataframe.columns:\n",
    "    \n",
    "        ignored_cols = [\"title\", \"genre_ids\",\"total_profit\"]\n",
    "    \n",
    "        if col not in ignored_cols:\n",
    "            genre_sums[col] = dataframe[col].value_counts()[1]\n",
    "        \n",
    "    return genre_sums\n",
    "\n",
    "genre_sums = freq_dictionary(budgets_and_genre_dummys)\n",
    "genre_sums"
   ]
  },
  {
   "cell_type": "code",
   "execution_count": 18,
   "metadata": {},
   "outputs": [
    {
     "data": {
      "image/png": "[encoded data removed]",
      "text/plain": [
       "<Figure size 432x288 with 1 Axes>"
      ]
     },
     "metadata": {
      "needs_background": "light"
     },
     "output_type": "display_data"
    }
   ],
   "source": [
    "# plotting the frequency of genres\n",
    "\n",
    "import matplotlib.pyplot as plt\n",
    "%matplotlib inline\n",
    "\n",
    "fig, ax = plt.subplots()\n",
    "ax.bar(x = list(genre_sums.keys()), height = list(genre_sums.values()))\n",
    "plt.xticks(rotation = 90)\n",
    "ax.set_title(\"Frequency of Genres\")\n",
    "ax.set_xlabel(\"Genre\")\n",
    "ax.set_ylabel(\"Frequency\");"
   ]
  },
  {
   "cell_type": "markdown",
   "metadata": {},
   "source": [
    "It is clear that the most common genre is Drama. Thus, my question is: Is the most popular genre (Drama) significantly more profitable than all other genres?\n",
    "\n",
    "My plan of action is:\n",
    "1. Visualize the distributions of profits for all movies other than dramas vs. dramas\n",
    "2. Calculate the average profit for all movies of all genres other than drama\n",
    "3. Calculate the average profit for all dramas \n",
    "4. Perform a two-sample t-test to see if the average profit for dramas is significantly larger than the average profit for all other genres. \n",
    "\n",
    "First, I needed to make sure all of the relevant information for the analysis was in one place. I had the dummy columns and I had the profit information, but they were in different dataframes. I needed to pull them together. "
   ]
  },
  {
   "cell_type": "markdown",
   "metadata": {},
   "source": [
    "In order to visualize the histogram of profit for all movies for which the Drama column = 1, I need to first isolate these movies"
   ]
  },
  {
   "cell_type": "code",
   "execution_count": 19,
   "metadata": {},
   "outputs": [
    {
     "data": {
      "text/html": [
       "<div>\n",
       "<style scoped>\n",
       "    .dataframe tbody tr th:only-of-type {\n",
       "        vertical-align: middle;\n",
       "    }\n",
       "\n",
       "    .dataframe tbody tr th {\n",
       "        vertical-align: top;\n",
       "    }\n",
       "\n",
       "    .dataframe thead th {\n",
       "        text-align: right;\n",
       "    }\n",
       "</style>\n",
       "<table border=\"1\" class=\"dataframe\">\n",
       "  <thead>\n",
       "    <tr style=\"text-align: right;\">\n",
       "      <th></th>\n",
       "      <th>total_profit</th>\n",
       "      <th>genre_ids</th>\n",
       "      <th>title</th>\n",
       "      <th>Music</th>\n",
       "      <th>Romance</th>\n",
       "      <th>Family</th>\n",
       "      <th>War</th>\n",
       "      <th>TV</th>\n",
       "      <th>Adventure</th>\n",
       "      <th>Fantasy</th>\n",
       "      <th>...</th>\n",
       "      <th>Horror</th>\n",
       "      <th>Action</th>\n",
       "      <th>Comedy</th>\n",
       "      <th>History</th>\n",
       "      <th>Western</th>\n",
       "      <th>Thriller</th>\n",
       "      <th>Crime</th>\n",
       "      <th>SciFi</th>\n",
       "      <th>Mystery</th>\n",
       "      <th>Documentary</th>\n",
       "    </tr>\n",
       "  </thead>\n",
       "  <tbody>\n",
       "    <tr>\n",
       "      <th>15</th>\n",
       "      <td>636860230</td>\n",
       "      <td>[12, 14, 18, 10749]</td>\n",
       "      <td>The Twilight Saga: Eclipse</td>\n",
       "      <td>0</td>\n",
       "      <td>1</td>\n",
       "      <td>0</td>\n",
       "      <td>0</td>\n",
       "      <td>0</td>\n",
       "      <td>1</td>\n",
       "      <td>1</td>\n",
       "      <td>...</td>\n",
       "      <td>0</td>\n",
       "      <td>0</td>\n",
       "      <td>0</td>\n",
       "      <td>0</td>\n",
       "      <td>0</td>\n",
       "      <td>0</td>\n",
       "      <td>0</td>\n",
       "      <td>0</td>\n",
       "      <td>0</td>\n",
       "      <td>0</td>\n",
       "    </tr>\n",
       "    <tr>\n",
       "      <th>18</th>\n",
       "      <td>767003568</td>\n",
       "      <td>[28, 18, 53]</td>\n",
       "      <td>The Bourne Supremacy</td>\n",
       "      <td>0</td>\n",
       "      <td>0</td>\n",
       "      <td>0</td>\n",
       "      <td>0</td>\n",
       "      <td>0</td>\n",
       "      <td>0</td>\n",
       "      <td>0</td>\n",
       "      <td>...</td>\n",
       "      <td>0</td>\n",
       "      <td>1</td>\n",
       "      <td>0</td>\n",
       "      <td>0</td>\n",
       "      <td>0</td>\n",
       "      <td>1</td>\n",
       "      <td>0</td>\n",
       "      <td>0</td>\n",
       "      <td>0</td>\n",
       "      <td>0</td>\n",
       "    </tr>\n",
       "    <tr>\n",
       "      <th>19</th>\n",
       "      <td>685213767</td>\n",
       "      <td>[18, 53, 9648]</td>\n",
       "      <td>Shutter Island</td>\n",
       "      <td>0</td>\n",
       "      <td>0</td>\n",
       "      <td>0</td>\n",
       "      <td>0</td>\n",
       "      <td>0</td>\n",
       "      <td>0</td>\n",
       "      <td>0</td>\n",
       "      <td>...</td>\n",
       "      <td>0</td>\n",
       "      <td>0</td>\n",
       "      <td>0</td>\n",
       "      <td>0</td>\n",
       "      <td>0</td>\n",
       "      <td>1</td>\n",
       "      <td>0</td>\n",
       "      <td>0</td>\n",
       "      <td>1</td>\n",
       "      <td>0</td>\n",
       "    </tr>\n",
       "    <tr>\n",
       "      <th>20</th>\n",
       "      <td>710366855</td>\n",
       "      <td>[28, 18, 9648, 53]</td>\n",
       "      <td>The Bourne Identity</td>\n",
       "      <td>0</td>\n",
       "      <td>0</td>\n",
       "      <td>0</td>\n",
       "      <td>0</td>\n",
       "      <td>0</td>\n",
       "      <td>0</td>\n",
       "      <td>0</td>\n",
       "      <td>...</td>\n",
       "      <td>0</td>\n",
       "      <td>1</td>\n",
       "      <td>0</td>\n",
       "      <td>0</td>\n",
       "      <td>0</td>\n",
       "      <td>1</td>\n",
       "      <td>0</td>\n",
       "      <td>0</td>\n",
       "      <td>1</td>\n",
       "      <td>0</td>\n",
       "    </tr>\n",
       "    <tr>\n",
       "      <th>23</th>\n",
       "      <td>142085065</td>\n",
       "      <td>[18, 10749]</td>\n",
       "      <td>Step Up 3D</td>\n",
       "      <td>0</td>\n",
       "      <td>1</td>\n",
       "      <td>0</td>\n",
       "      <td>0</td>\n",
       "      <td>0</td>\n",
       "      <td>0</td>\n",
       "      <td>0</td>\n",
       "      <td>...</td>\n",
       "      <td>0</td>\n",
       "      <td>0</td>\n",
       "      <td>0</td>\n",
       "      <td>0</td>\n",
       "      <td>0</td>\n",
       "      <td>0</td>\n",
       "      <td>0</td>\n",
       "      <td>0</td>\n",
       "      <td>0</td>\n",
       "      <td>0</td>\n",
       "    </tr>\n",
       "  </tbody>\n",
       "</table>\n",
       "<p>5 rows × 22 columns</p>\n",
       "</div>"
      ],
      "text/plain": [
       "    total_profit            genre_ids                       title  Music  \\\n",
       "15     636860230  [12, 14, 18, 10749]  The Twilight Saga: Eclipse      0   \n",
       "18     767003568         [28, 18, 53]        The Bourne Supremacy      0   \n",
       "19     685213767       [18, 53, 9648]              Shutter Island      0   \n",
       "20     710366855   [28, 18, 9648, 53]         The Bourne Identity      0   \n",
       "23     142085065          [18, 10749]                  Step Up 3D      0   \n",
       "\n",
       "    Romance  Family  War  TV  Adventure  Fantasy  ...  Horror  Action  Comedy  \\\n",
       "15        1       0    0   0          1        1  ...       0       0       0   \n",
       "18        0       0    0   0          0        0  ...       0       1       0   \n",
       "19        0       0    0   0          0        0  ...       0       0       0   \n",
       "20        0       0    0   0          0        0  ...       0       1       0   \n",
       "23        1       0    0   0          0        0  ...       0       0       0   \n",
       "\n",
       "    History  Western  Thriller  Crime  SciFi  Mystery  Documentary  \n",
       "15        0        0         0      0      0        0            0  \n",
       "18        0        0         1      0      0        0            0  \n",
       "19        0        0         1      0      0        1            0  \n",
       "20        0        0         1      0      0        1            0  \n",
       "23        0        0         0      0      0        0            0  \n",
       "\n",
       "[5 rows x 22 columns]"
      ]
     },
     "execution_count": 19,
     "metadata": {},
     "output_type": "execute_result"
    }
   ],
   "source": [
    "dramas = budgets_and_genre_dummys.loc[budgets_and_genre_dummys['Drama'] == 1 ]\n",
    "dramas.head()"
   ]
  },
  {
   "cell_type": "markdown",
   "metadata": {},
   "source": [
    "#### Visualizing Distribution of Profits for Dramas\n",
    "\n",
    "After isolating the dramas from the rest of the movies, I could visualize the distribution of profits amongst dramas. "
   ]
  },
  {
   "cell_type": "code",
   "execution_count": 20,
   "metadata": {},
   "outputs": [
    {
     "name": "stdout",
     "output_type": "stream",
     "text": [
      "Lowest profit: $-94635231\n"
     ]
    },
    {
     "data": {
      "image/png": "[encoded data removed]",
      "text/plain": [
       "<Figure size 432x288 with 1 Axes>"
      ]
     },
     "metadata": {
      "needs_background": "light"
     },
     "output_type": "display_data"
    }
   ],
   "source": [
    "fig, ax = plt.subplots()\n",
    "ax.hist(dramas['total_profit'])\n",
    "ax.set_title(\"Distribution of Profit for Dramas\")\n",
    "ax.set_xlabel(\"Profit in Billions (USD)\")\n",
    "ax.set_ylabel(\"Frequency\");\n",
    "\n",
    "lowest_profit = dramas['total_profit'].min()\n",
    "print(f\"Lowest profit: ${lowest_profit}\") # There are movies that did not generate profit!"
   ]
  },
  {
   "cell_type": "markdown",
   "metadata": {},
   "source": [
    "The data appears greatly skewed and may benefit from a log transformation."
   ]
  },
  {
   "cell_type": "code",
   "execution_count": 21,
   "metadata": {},
   "outputs": [
    {
     "name": "stderr",
     "output_type": "stream",
     "text": [
      "C:\\Users\\morpelletier\\Anaconda3\\envs\\learn-env\\lib\\site-packages\\pandas\\core\\series.py:726: RuntimeWarning: invalid value encountered in log\n",
      "  result = getattr(ufunc, method)(*inputs, **kwargs)\n",
      "C:\\Users\\morpelletier\\Anaconda3\\envs\\learn-env\\lib\\site-packages\\numpy\\lib\\histograms.py:839: RuntimeWarning: invalid value encountered in greater_equal\n",
      "  keep = (tmp_a >= first_edge)\n",
      "C:\\Users\\morpelletier\\Anaconda3\\envs\\learn-env\\lib\\site-packages\\numpy\\lib\\histograms.py:840: RuntimeWarning: invalid value encountered in less_equal\n",
      "  keep &= (tmp_a <= last_edge)\n"
     ]
    },
    {
     "data": {
      "image/png": "[encoded data removed]",
      "text/plain": [
       "<Figure size 432x288 with 1 Axes>"
      ]
     },
     "metadata": {
      "needs_background": "light"
     },
     "output_type": "display_data"
    }
   ],
   "source": [
    "# apply transformation\n",
    "import numpy as np\n",
    "log_drama_profit = np.log(dramas['total_profit'])\n",
    "\n",
    "# plot\n",
    "fig, ax = plt.subplots()\n",
    "ax.hist(log_drama_profit)\n",
    "ax.set_title(\"Distribution of Log(Profit) for Dramas\")\n",
    "ax.set_xlabel(\"Profit in Log(Billions) (USD)\")\n",
    "ax.set_ylabel(\"Frequency\");"
   ]
  },
  {
   "cell_type": "markdown",
   "metadata": {},
   "source": [
    "This looks much more \"normal\", but there is still an evident negative skew. There's two options to proceed:\n",
    "1. Investigate whether this skew is circumvented by removing movies in which no profit was made (either by removing the rows or replacing them with 0 profit).\n",
    "2. Attempt a different transformation.\n",
    "3. Proceed with the caveat that the results may not be as accurate by nature of there being a negative skew in the data. "
   ]
  },
  {
   "cell_type": "markdown",
   "metadata": {},
   "source": [
    "##### OPTION 1: Isolate Movies that Generated Profit"
   ]
  },
  {
   "cell_type": "markdown",
   "metadata": {},
   "source": [
    "I recreated the above histogram, but added a filter such that only profitable movies were included"
   ]
  },
  {
   "cell_type": "code",
   "execution_count": 22,
   "metadata": {},
   "outputs": [
    {
     "name": "stdout",
     "output_type": "stream",
     "text": [
      "Lowest profit: $10536\n"
     ]
    },
    {
     "data": {
      "image/png": "[encoded data removed]",
      "text/plain": [
       "<Figure size 432x288 with 1 Axes>"
      ]
     },
     "metadata": {
      "needs_background": "light"
     },
     "output_type": "display_data"
    }
   ],
   "source": [
    "fig, ax = plt.subplots()\n",
    "\n",
    "dramas_pos_profits = dramas.loc[ dramas['total_profit'] >= 0]\n",
    "\n",
    "\n",
    "ax.hist(dramas_pos_profits['total_profit'])\n",
    "ax.set_title(\"Distribution of Profit for Dramas Which Made a Profit\")\n",
    "ax.set_xlabel(\"Profit in Billions (USD)\")\n",
    "ax.set_ylabel(\"Frequency\");\n",
    "\n",
    "lowest_profit = dramas_pos_profits['total_profit'].min()\n",
    "print(f\"Lowest profit: ${lowest_profit}\")"
   ]
  },
  {
   "cell_type": "markdown",
   "metadata": {},
   "source": [
    "The difference in shape was minimal, but I still looked at whether this had an impact on the distribution post-log transformation"
   ]
  },
  {
   "cell_type": "code",
   "execution_count": 23,
   "metadata": {
    "scrolled": true
   },
   "outputs": [
    {
     "data": {
      "image/png": "[encoded data removed]",
      "text/plain": [
       "<Figure size 432x288 with 1 Axes>"
      ]
     },
     "metadata": {
      "needs_background": "light"
     },
     "output_type": "display_data"
    }
   ],
   "source": [
    "# apply transformation\n",
    "log_drama_pos_profit = np.log(dramas_pos_profits['total_profit'])\n",
    "\n",
    "# plot\n",
    "fig, ax = plt.subplots()\n",
    "ax.hist(log_drama_pos_profit)\n",
    "ax.set_title(\"Distribution of Log(Profit) for Dramas Which Made a Profit\")\n",
    "ax.set_xlabel(\"Profit in Log(Billions) (USD)\")\n",
    "ax.set_ylabel(\"Frequency\");"
   ]
  },
  {
   "cell_type": "markdown",
   "metadata": {},
   "source": [
    "Unfortunately, this didn't appear to make a significant impact on the negative skew. However, because all of the values were now positive, I attempted a BoxCox transformation. "
   ]
  },
  {
   "cell_type": "code",
   "execution_count": 24,
   "metadata": {},
   "outputs": [
    {
     "data": {
      "image/png": "[encoded data removed]",
      "text/plain": [
       "<Figure size 432x288 with 1 Axes>"
      ]
     },
     "metadata": {
      "needs_background": "light"
     },
     "output_type": "display_data"
    }
   ],
   "source": [
    "# Resource: https://www.geeksforgeeks.org/box-cox-transformation-using-python/\n",
    "import scipy.stats as stats\n",
    "\n",
    "# Box-Cox Transformation in Python\n",
    "fitted_data, fitted_lambda = stats.boxcox(dramas_pos_profits['total_profit'])\n",
    "\n",
    "fig, ax = plt.subplots()\n",
    "ax.hist(fitted_data)\n",
    "ax.set_title(\"BoxCox Transformation of Data with Lambda = \" + str(fitted_lambda))\n",
    "ax.set_xlabel(\"BoxCox Transformed Data\")\n",
    "ax.set_ylabel(\"Frequency\");"
   ]
  },
  {
   "cell_type": "markdown",
   "metadata": {},
   "source": [
    "This looked SIGNIFICANTLY better. However, I wanted to make sure I wasn't losing a significant portion of observations. So, I checked the shape of the dataframe before and after filtering for positive profit. "
   ]
  },
  {
   "cell_type": "code",
   "execution_count": 25,
   "metadata": {},
   "outputs": [
    {
     "data": {
      "text/plain": [
       "(1903, 22)"
      ]
     },
     "execution_count": 25,
     "metadata": {},
     "output_type": "execute_result"
    }
   ],
   "source": [
    "dramas.shape"
   ]
  },
  {
   "cell_type": "code",
   "execution_count": 26,
   "metadata": {},
   "outputs": [
    {
     "data": {
      "text/plain": [
       "(1198, 22)"
      ]
     },
     "execution_count": 26,
     "metadata": {},
     "output_type": "execute_result"
    }
   ],
   "source": [
    "dramas_pos_profits.shape"
   ]
  },
  {
   "cell_type": "code",
   "execution_count": 27,
   "metadata": {},
   "outputs": [
    {
     "data": {
      "text/plain": [
       "0.6299212598425197"
      ]
     },
     "execution_count": 27,
     "metadata": {},
     "output_type": "execute_result"
    }
   ],
   "source": [
    "1200 / 1905"
   ]
  },
  {
   "cell_type": "markdown",
   "metadata": {},
   "source": [
    "We retained about 63% of the dataset. I.e, we lost about 37% of the observations because they were unprofitable. \n",
    "\n",
    "This is, admittedly, a pretty significant portion of the dataset. So, I decided to explore shifting the dataset before applying the BoxCox method to see if I could avoid the error that would occur when passing negative profits into the BoxCox function.\n",
    "\n",
    "##### OPTION 2: Attempt a Different Transformation (Box-Cox with Additional Shift)\n",
    "\n",
    "First, I needed to calculate the minimum shift to maintian the shape of the distribution while ensuring that all values were positive. To do so, I added the absolute value of the minimum profit plus 1 to every value."
   ]
  },
  {
   "cell_type": "code",
   "execution_count": 28,
   "metadata": {},
   "outputs": [
    {
     "name": "stdout",
     "output_type": "stream",
     "text": [
      "1\n"
     ]
    },
    {
     "name": "stderr",
     "output_type": "stream",
     "text": [
      "<ipython-input-28-3338a465328b>:8: SettingWithCopyWarning: \n",
      "A value is trying to be set on a copy of a slice from a DataFrame.\n",
      "Try using .loc[row_indexer,col_indexer] = value instead\n",
      "\n",
      "See the caveats in the documentation: https://pandas.pydata.org/pandas-docs/stable/user_guide/indexing.html#returning-a-view-versus-a-copy\n",
      "  dramas['total_profit_shifted'] = dramas['total_profit'].map(lambda x: x+shift)\n"
     ]
    }
   ],
   "source": [
    "# Resources on shifts:\n",
    "# https://docs.scipy.org/doc/scipy/reference/generated/scipy.stats.boxcox.html#:~:text=y%20%3D%20%28x%2A%2Almbda%20-%201%29%20%2F%20lmbda%2C%20for,shift%20parameter%20to%20achieve%20this%3B%20boxcox%20does%20not.\n",
    "# https://nickcdryan.com/2017/04/19/the-box-cox-transformation/\n",
    "\n",
    "original_min_positive = (dramas['total_profit'].min())*-1\n",
    "shift = original_min_positive + 1\n",
    "\n",
    "dramas['total_profit_shifted'] = dramas['total_profit'].map(lambda x: x+shift)\n",
    "dramas_shifted_min = dramas['total_profit_shifted'].min()\n",
    "print(dramas_shifted_min) # ensuring that the smallest value is positive and not zero. "
   ]
  },
  {
   "cell_type": "markdown",
   "metadata": {},
   "source": [
    "Then, I plotted the distribution to ensure the general shape appeared to be maintained."
   ]
  },
  {
   "cell_type": "code",
   "execution_count": 29,
   "metadata": {},
   "outputs": [
    {
     "data": {
      "image/png": "[encoded data removed]",
      "text/plain": [
       "<Figure size 432x288 with 1 Axes>"
      ]
     },
     "metadata": {
      "needs_background": "light"
     },
     "output_type": "display_data"
    }
   ],
   "source": [
    "fig, ax = plt.subplots()\n",
    "ax.hist(dramas['total_profit_shifted'])\n",
    "ax.set_title(\"Distribution of Shifted Profit for Dramas\")\n",
    "ax.set_xlabel(\"Profit in Billions (USD)\")\n",
    "ax.set_ylabel(\"Frequency\");"
   ]
  },
  {
   "cell_type": "markdown",
   "metadata": {},
   "source": [
    "It appears as though the original shape of the dataset was maintained while still ensuring that all values are positive. \n",
    "\n",
    "Now, to apply the Box-Cox transformation again. "
   ]
  },
  {
   "cell_type": "code",
   "execution_count": 30,
   "metadata": {
    "scrolled": true
   },
   "outputs": [
    {
     "data": {
      "image/png": "[encoded data removed]",
      "text/plain": [
       "<Figure size 432x288 with 1 Axes>"
      ]
     },
     "metadata": {
      "needs_background": "light"
     },
     "output_type": "display_data"
    }
   ],
   "source": [
    "# Box-Cox Transformation in Python \n",
    "fitted_data, fitted_lambda = stats.boxcox(dramas['total_profit_shifted'])\n",
    "\n",
    "fig, ax = plt.subplots()\n",
    "ax.hist(fitted_data)\n",
    "ax.set_title(\"BoxCox Transformation of Shifted Data with Lambda = \" + str(fitted_lambda))\n",
    "ax.set_xlabel(\"BoxCox Transformed Shifted Data\")\n",
    "ax.set_ylabel(\"Frequency\");"
   ]
  },
  {
   "cell_type": "markdown",
   "metadata": {},
   "source": [
    "This transformation didn't appear to be working, and the number of shifts and transformations appeared to be increasing, further complicating the results and the interpretation. So, I decided to fall back on the log transformation and made a note to mention that there may be some inaccuracy in the results as a consequence of the negative skew in the log-transformed data. \n",
    "\n",
    "#### Visualizing Distribution of Profits for Non-Dramas\n",
    "\n",
    "Since the log-transformed data was relatively normally distributed, I decided to look at the rest of the movies and see what their distribution appeared to be.\n",
    "\n",
    "First, I isolated the non-dramas."
   ]
  },
  {
   "cell_type": "code",
   "execution_count": 31,
   "metadata": {},
   "outputs": [
    {
     "data": {
      "text/html": [
       "<div>\n",
       "<style scoped>\n",
       "    .dataframe tbody tr th:only-of-type {\n",
       "        vertical-align: middle;\n",
       "    }\n",
       "\n",
       "    .dataframe tbody tr th {\n",
       "        vertical-align: top;\n",
       "    }\n",
       "\n",
       "    .dataframe thead th {\n",
       "        text-align: right;\n",
       "    }\n",
       "</style>\n",
       "<table border=\"1\" class=\"dataframe\">\n",
       "  <thead>\n",
       "    <tr style=\"text-align: right;\">\n",
       "      <th></th>\n",
       "      <th>total_profit</th>\n",
       "      <th>genre_ids</th>\n",
       "      <th>title</th>\n",
       "      <th>Music</th>\n",
       "      <th>Romance</th>\n",
       "      <th>Family</th>\n",
       "      <th>War</th>\n",
       "      <th>TV</th>\n",
       "      <th>Adventure</th>\n",
       "      <th>Fantasy</th>\n",
       "      <th>...</th>\n",
       "      <th>Horror</th>\n",
       "      <th>Action</th>\n",
       "      <th>Comedy</th>\n",
       "      <th>History</th>\n",
       "      <th>Western</th>\n",
       "      <th>Thriller</th>\n",
       "      <th>Crime</th>\n",
       "      <th>SciFi</th>\n",
       "      <th>Mystery</th>\n",
       "      <th>Documentary</th>\n",
       "    </tr>\n",
       "  </thead>\n",
       "  <tbody>\n",
       "    <tr>\n",
       "      <th>0</th>\n",
       "      <td>2351345279</td>\n",
       "      <td>[12, 14, 10751]</td>\n",
       "      <td>Harry Potter and the Deathly Hallows: Part 1</td>\n",
       "      <td>0</td>\n",
       "      <td>0</td>\n",
       "      <td>1</td>\n",
       "      <td>0</td>\n",
       "      <td>0</td>\n",
       "      <td>1</td>\n",
       "      <td>1</td>\n",
       "      <td>...</td>\n",
       "      <td>0</td>\n",
       "      <td>0</td>\n",
       "      <td>0</td>\n",
       "      <td>0</td>\n",
       "      <td>0</td>\n",
       "      <td>0</td>\n",
       "      <td>0</td>\n",
       "      <td>0</td>\n",
       "      <td>0</td>\n",
       "      <td>0</td>\n",
       "    </tr>\n",
       "    <tr>\n",
       "      <th>1</th>\n",
       "      <td>635063875</td>\n",
       "      <td>[14, 12, 16, 10751]</td>\n",
       "      <td>How to Train Your Dragon</td>\n",
       "      <td>0</td>\n",
       "      <td>0</td>\n",
       "      <td>1</td>\n",
       "      <td>0</td>\n",
       "      <td>0</td>\n",
       "      <td>1</td>\n",
       "      <td>1</td>\n",
       "      <td>...</td>\n",
       "      <td>0</td>\n",
       "      <td>0</td>\n",
       "      <td>0</td>\n",
       "      <td>0</td>\n",
       "      <td>0</td>\n",
       "      <td>0</td>\n",
       "      <td>0</td>\n",
       "      <td>0</td>\n",
       "      <td>0</td>\n",
       "      <td>0</td>\n",
       "    </tr>\n",
       "    <tr>\n",
       "      <th>2</th>\n",
       "      <td>-200237650</td>\n",
       "      <td>[12, 28, 878]</td>\n",
       "      <td>Iron Man 2</td>\n",
       "      <td>0</td>\n",
       "      <td>0</td>\n",
       "      <td>0</td>\n",
       "      <td>0</td>\n",
       "      <td>0</td>\n",
       "      <td>1</td>\n",
       "      <td>0</td>\n",
       "      <td>...</td>\n",
       "      <td>0</td>\n",
       "      <td>1</td>\n",
       "      <td>0</td>\n",
       "      <td>0</td>\n",
       "      <td>0</td>\n",
       "      <td>0</td>\n",
       "      <td>0</td>\n",
       "      <td>1</td>\n",
       "      <td>0</td>\n",
       "      <td>0</td>\n",
       "    </tr>\n",
       "    <tr>\n",
       "      <th>3</th>\n",
       "      <td>1072413963</td>\n",
       "      <td>[16, 35, 10751]</td>\n",
       "      <td>Toy Story</td>\n",
       "      <td>0</td>\n",
       "      <td>0</td>\n",
       "      <td>1</td>\n",
       "      <td>0</td>\n",
       "      <td>0</td>\n",
       "      <td>0</td>\n",
       "      <td>0</td>\n",
       "      <td>...</td>\n",
       "      <td>0</td>\n",
       "      <td>0</td>\n",
       "      <td>1</td>\n",
       "      <td>0</td>\n",
       "      <td>0</td>\n",
       "      <td>0</td>\n",
       "      <td>0</td>\n",
       "      <td>0</td>\n",
       "      <td>0</td>\n",
       "      <td>0</td>\n",
       "    </tr>\n",
       "    <tr>\n",
       "      <th>4</th>\n",
       "      <td>999721747</td>\n",
       "      <td>[28, 878, 12]</td>\n",
       "      <td>Inception</td>\n",
       "      <td>0</td>\n",
       "      <td>0</td>\n",
       "      <td>0</td>\n",
       "      <td>0</td>\n",
       "      <td>0</td>\n",
       "      <td>1</td>\n",
       "      <td>0</td>\n",
       "      <td>...</td>\n",
       "      <td>0</td>\n",
       "      <td>1</td>\n",
       "      <td>0</td>\n",
       "      <td>0</td>\n",
       "      <td>0</td>\n",
       "      <td>0</td>\n",
       "      <td>0</td>\n",
       "      <td>1</td>\n",
       "      <td>0</td>\n",
       "      <td>0</td>\n",
       "    </tr>\n",
       "  </tbody>\n",
       "</table>\n",
       "<p>5 rows × 22 columns</p>\n",
       "</div>"
      ],
      "text/plain": [
       "   total_profit            genre_ids  \\\n",
       "0    2351345279      [12, 14, 10751]   \n",
       "1     635063875  [14, 12, 16, 10751]   \n",
       "2    -200237650        [12, 28, 878]   \n",
       "3    1072413963      [16, 35, 10751]   \n",
       "4     999721747        [28, 878, 12]   \n",
       "\n",
       "                                          title  Music  Romance  Family  War  \\\n",
       "0  Harry Potter and the Deathly Hallows: Part 1      0        0       1    0   \n",
       "1                      How to Train Your Dragon      0        0       1    0   \n",
       "2                                    Iron Man 2      0        0       0    0   \n",
       "3                                     Toy Story      0        0       1    0   \n",
       "4                                     Inception      0        0       0    0   \n",
       "\n",
       "   TV  Adventure  Fantasy  ...  Horror  Action  Comedy  History  Western  \\\n",
       "0   0          1        1  ...       0       0       0        0        0   \n",
       "1   0          1        1  ...       0       0       0        0        0   \n",
       "2   0          1        0  ...       0       1       0        0        0   \n",
       "3   0          0        0  ...       0       0       1        0        0   \n",
       "4   0          1        0  ...       0       1       0        0        0   \n",
       "\n",
       "   Thriller  Crime  SciFi  Mystery  Documentary  \n",
       "0         0      0      0        0            0  \n",
       "1         0      0      0        0            0  \n",
       "2         0      0      1        0            0  \n",
       "3         0      0      0        0            0  \n",
       "4         0      0      1        0            0  \n",
       "\n",
       "[5 rows x 22 columns]"
      ]
     },
     "execution_count": 31,
     "metadata": {},
     "output_type": "execute_result"
    }
   ],
   "source": [
    "nondramas = budgets_and_genre_dummys.loc[ budgets_and_genre_dummys['Drama'] == 0 ]\n",
    "nondramas.head()"
   ]
  },
  {
   "cell_type": "markdown",
   "metadata": {},
   "source": [
    "Then, I plotted the distribution of their profits to get an idea of the distribution shape. "
   ]
  },
  {
   "cell_type": "code",
   "execution_count": 32,
   "metadata": {},
   "outputs": [
    {
     "name": "stdout",
     "output_type": "stream",
     "text": [
      "Lowest profit: $-200237650\n"
     ]
    },
    {
     "data": {
      "image/png": "[encoded data removed]",
      "text/plain": [
       "<Figure size 432x288 with 1 Axes>"
      ]
     },
     "metadata": {
      "needs_background": "light"
     },
     "output_type": "display_data"
    }
   ],
   "source": [
    "fig, ax = plt.subplots()\n",
    "ax.hist(nondramas['total_profit'])\n",
    "ax.set_title(\"Distribution of Profit for NonDramas\")\n",
    "ax.set_xlabel(\"Profit in Billions (USD)\")\n",
    "ax.set_ylabel(\"Frequency\");\n",
    "\n",
    "lowest_profit = nondramas['total_profit'].min()\n",
    "print(f\"Lowest profit: ${lowest_profit}\")"
   ]
  },
  {
   "cell_type": "markdown",
   "metadata": {},
   "source": [
    "This looked very similar to the distribution for dramas, so I applied the same log transformation. "
   ]
  },
  {
   "cell_type": "code",
   "execution_count": 33,
   "metadata": {},
   "outputs": [
    {
     "name": "stderr",
     "output_type": "stream",
     "text": [
      "C:\\Users\\morpelletier\\Anaconda3\\envs\\learn-env\\lib\\site-packages\\pandas\\core\\series.py:726: RuntimeWarning: invalid value encountered in log\n",
      "  result = getattr(ufunc, method)(*inputs, **kwargs)\n",
      "C:\\Users\\morpelletier\\Anaconda3\\envs\\learn-env\\lib\\site-packages\\numpy\\lib\\histograms.py:839: RuntimeWarning: invalid value encountered in greater_equal\n",
      "  keep = (tmp_a >= first_edge)\n",
      "C:\\Users\\morpelletier\\Anaconda3\\envs\\learn-env\\lib\\site-packages\\numpy\\lib\\histograms.py:840: RuntimeWarning: invalid value encountered in less_equal\n",
      "  keep &= (tmp_a <= last_edge)\n"
     ]
    },
    {
     "data": {
      "image/png": "[encoded data removed]",
      "text/plain": [
       "<Figure size 432x288 with 1 Axes>"
      ]
     },
     "metadata": {
      "needs_background": "light"
     },
     "output_type": "display_data"
    }
   ],
   "source": [
    "# apply log transformation\n",
    "log_nondrama_profit = np.log(nondramas['total_profit'])\n",
    "\n",
    "# plot\n",
    "fig, ax = plt.subplots()\n",
    "ax.hist(log_nondrama_profit)\n",
    "ax.set_title(\"Distribution of Profit for NonDramas\")\n",
    "ax.set_xlabel(\"Profit in Log(Billions) (USD)\")\n",
    "ax.set_ylabel(\"Frequency\");"
   ]
  },
  {
   "cell_type": "markdown",
   "metadata": {},
   "source": [
    "Again, the transformation succeeded in making the distribution more normal, but there was still a clear negative skew. \n",
    "\n",
    "From here, I plotted the distribution of profits for dramas against the distribution of profits for nondramas to see where they differ."
   ]
  },
  {
   "cell_type": "code",
   "execution_count": 34,
   "metadata": {},
   "outputs": [
    {
     "data": {
      "image/png": "[encoded data removed]",
      "text/plain": [
       "<Figure size 432x288 with 1 Axes>"
      ]
     },
     "metadata": {
      "needs_background": "light"
     },
     "output_type": "display_data"
    }
   ],
   "source": [
    "# Plot both distributions on the same figure\n",
    "plt.hist(log_nondrama_profit, alpha=0.5, label='control (nondrama)', density = True)\n",
    "plt.hist(log_drama_profit, alpha=0.5, label='experimental (drama)', density = True)\n",
    "plt.legend()\n",
    "plt.show()"
   ]
  },
  {
   "cell_type": "markdown",
   "metadata": {},
   "source": [
    "There didn't appear to be a significant difference in the general shape of the distributions, but I tested the means anyways to make sure, as there could be a very slight difference. "
   ]
  },
  {
   "cell_type": "code",
   "execution_count": 35,
   "metadata": {},
   "outputs": [
    {
     "name": "stdout",
     "output_type": "stream",
     "text": [
      "Mu_0: 17.195775816274278\n",
      "Mu_1: 17.370504924541702\n",
      "P-Value: 0.0073030952057422755\n",
      "T-Statistic: 2.6842034888980617\n"
     ]
    }
   ],
   "source": [
    "# Calculate p-value with stats.ttest_ind\n",
    "\n",
    "print(f\"Mu_0: {log_nondrama_profit.mean()}\")\n",
    "print(f\"Mu_1: {log_drama_profit.mean()}\")\n",
    "\n",
    "tstat, pval = stats.ttest_ind(log_drama_profit, log_nondrama_profit, nan_policy = 'omit')\n",
    "print(f\"P-Value: {pval}\")\n",
    "print(f\"T-Statistic: {tstat}\")\n",
    "# this doesn't seem right "
   ]
  },
  {
   "cell_type": "markdown",
   "metadata": {},
   "source": [
    "While I anticipated that the p-value would likely exceed 0.05 (or if not, it would be very close) this p-value is shockingly small and indicates that there is a major difference in the means of these two datasets (which is clearly not the case, as the means are nearly identical). \n",
    "\n",
    "I decided to investigate whether this had something to do with the log transformation introducing complications that invalidate these results. So, I performed the same t-test on the original, untransformed data. "
   ]
  },
  {
   "cell_type": "code",
   "execution_count": 36,
   "metadata": {},
   "outputs": [
    {
     "name": "stdout",
     "output_type": "stream",
     "text": [
      "Mu_0: 56247146.59\n",
      "Mu_1: 67366967.4\n",
      "P-Value: 0.006537482302575186\n",
      "T-Statistic: 2.720517956169709\n"
     ]
    }
   ],
   "source": [
    "print(f\"Mu_0: {round(nondramas['total_profit'].mean(),2)}\")\n",
    "print(f\"Mu_1: {round(dramas['total_profit'].mean(),2)}\")\n",
    "\n",
    "tstat, pval = stats.ttest_ind(dramas['total_profit'], nondramas['total_profit'], nan_policy = 'omit')\n",
    "print(f\"P-Value: {pval}\")\n",
    "print(f\"T-Statistic: {tstat}\")\n",
    "# this doesn't seem right either"
   ]
  },
  {
   "cell_type": "markdown",
   "metadata": {},
   "source": [
    "I found that these results were similarly significant despite several signs that the difference should be minimal. "
   ]
  },
  {
   "cell_type": "markdown",
   "metadata": {},
   "source": [
    "While the p-value does suggest that there is a significant difference between these distributions (as well as the two original distributions), it simply does not seem plausible given their means and general shape. So, I decided to forego the two sample t-test in favor of a different statistical test.\n",
    "\n",
    "### Chi-Squared Test\n",
    "\n",
    "#### Visualizing Distribution\n",
    "\n",
    "My next idea was to perform a chi-square test on all genres to determine if any are associated with significant gains in profit. \n",
    "\n",
    "In order to begin this process, I needed to create a contingency table with rows denoting genres and columns denoting \"levels\" of profitability. In order to create the latter, I would need to somehow standardize the thresholds for these levels. \n",
    "\n",
    "Since I decided to work with all genres rather than two (drama v. nondrama) I decided to look at the full distribution of profit and get an idea of it's overall shape. "
   ]
  },
  {
   "cell_type": "code",
   "execution_count": 37,
   "metadata": {},
   "outputs": [
    {
     "name": "stdout",
     "output_type": "stream",
     "text": [
      "The average movie profit is 59,899,703.81\n",
      "The standard deviation is 146,076,247.46\n"
     ]
    }
   ],
   "source": [
    "average_movie_profit = budgets['total_profit'].mean()\n",
    "print(\"The average movie profit is {:,.2f}\".format(average_movie_profit))\n",
    "\n",
    "std_movie_profit = np.std(budgets['total_profit'])\n",
    "print(\"The standard deviation is {:,.2f}\".format(std_movie_profit))"
   ]
  },
  {
   "cell_type": "markdown",
   "metadata": {},
   "source": [
    "The standard deviation was greater than the average. So I decided to look at the distribution of profits overall. "
   ]
  },
  {
   "cell_type": "code",
   "execution_count": 38,
   "metadata": {},
   "outputs": [
    {
     "data": {
      "image/png": "[encoded data removed]",
      "text/plain": [
       "<Figure size 432x288 with 1 Axes>"
      ]
     },
     "metadata": {
      "needs_background": "light"
     },
     "output_type": "display_data"
    }
   ],
   "source": [
    "fig, ax = plt.subplots()\n",
    "ax.boxplot(budgets['total_profit']);"
   ]
  },
  {
   "cell_type": "markdown",
   "metadata": {},
   "source": [
    "#### Removing Outliers via IQR\n",
    "\n",
    "I noticed that there was a really wide range because of some extremely profitable (and unprofitable) movies. I decided it would be worthwhile to remove the outliers. Since this is not a normally distributed dataset, I decided to use the IQR as a means of removing outliers rather than the standard deviation. "
   ]
  },
  {
   "cell_type": "code",
   "execution_count": 39,
   "metadata": {},
   "outputs": [
    {
     "data": {
      "image/png": "[encoded data removed]",
      "text/plain": [
       "<Figure size 432x288 with 1 Axes>"
      ]
     },
     "metadata": {
      "needs_background": "light"
     },
     "output_type": "display_data"
    }
   ],
   "source": [
    "# resource: https://www.statology.org/remove-outliers-python/\n",
    "\n",
    "#find Q1, Q3, and interquartile range for each column\n",
    "Q1 = budgets['total_profit'].quantile(q=.25)\n",
    "Q3 = budgets['total_profit'].quantile(q=.75)\n",
    "IQR = budgets['total_profit'].apply(stats.iqr)\n",
    "\n",
    "budgets_iqr = budgets.loc[~((budgets['total_profit'] < (Q1-1.5*IQR)) | (budgets['total_profit'] > (Q3+1.5*IQR)))]\n",
    "\n",
    "fig, ax = plt.subplots()\n",
    "ax.boxplot(budgets_iqr['total_profit']);\n"
   ]
  },
  {
   "cell_type": "markdown",
   "metadata": {},
   "source": [
    "##### A Slight Detour (Back to T-Test)\n",
    "After isolating the IQR, I wondered: Do the distributions of dramas and nondramas look better without these outliers? So, I followed the same steps as I did during the initial attempt at a T-Test to see if removing these outliers improved the normality of the distribution of profits. "
   ]
  },
  {
   "cell_type": "code",
   "execution_count": 40,
   "metadata": {},
   "outputs": [
    {
     "data": {
      "image/png": "[encoded data removed]",
      "text/plain": [
       "<Figure size 432x288 with 1 Axes>"
      ]
     },
     "metadata": {
      "needs_background": "light"
     },
     "output_type": "display_data"
    }
   ],
   "source": [
    "budgets_iqr.set_index('movie')\n",
    "budgets_iqr_and_tmdb = budgets_iqr.join(tmdb, how='inner', lsuffix = '_budgets' , rsuffix = '_tmdb')\n",
    "\n",
    "iqr_budgets_and_genre_dummys = create_dummy_cols(budgets_iqr_and_tmdb['genre_ids'])\n",
    "iqr_budgets_and_genre_dummys.head()\n",
    "\n",
    "iqr_genre_sums = freq_dictionary(iqr_budgets_and_genre_dummys)\n",
    "\n",
    "fig, ax = plt.subplots()\n",
    "ax.bar(x = list(iqr_genre_sums.keys()), height = list(iqr_genre_sums.values()))\n",
    "plt.xticks(rotation = 90)\n",
    "ax.set_title(\"Frequency of Genres within the IQR\")\n",
    "ax.set_xlabel(\"Genre\")\n",
    "ax.set_ylabel(\"Frequency\");"
   ]
  },
  {
   "cell_type": "code",
   "execution_count": 41,
   "metadata": {},
   "outputs": [
    {
     "data": {
      "text/html": [
       "<div>\n",
       "<style scoped>\n",
       "    .dataframe tbody tr th:only-of-type {\n",
       "        vertical-align: middle;\n",
       "    }\n",
       "\n",
       "    .dataframe tbody tr th {\n",
       "        vertical-align: top;\n",
       "    }\n",
       "\n",
       "    .dataframe thead th {\n",
       "        text-align: right;\n",
       "    }\n",
       "</style>\n",
       "<table border=\"1\" class=\"dataframe\">\n",
       "  <thead>\n",
       "    <tr style=\"text-align: right;\">\n",
       "      <th></th>\n",
       "      <th>total_profit</th>\n",
       "      <th>genre_ids</th>\n",
       "      <th>title</th>\n",
       "      <th>Music</th>\n",
       "      <th>Romance</th>\n",
       "      <th>Family</th>\n",
       "      <th>War</th>\n",
       "      <th>TV</th>\n",
       "      <th>Adventure</th>\n",
       "      <th>Fantasy</th>\n",
       "      <th>...</th>\n",
       "      <th>Horror</th>\n",
       "      <th>Action</th>\n",
       "      <th>Comedy</th>\n",
       "      <th>History</th>\n",
       "      <th>Western</th>\n",
       "      <th>Thriller</th>\n",
       "      <th>Crime</th>\n",
       "      <th>SciFi</th>\n",
       "      <th>Mystery</th>\n",
       "      <th>Documentary</th>\n",
       "    </tr>\n",
       "  </thead>\n",
       "  <tbody>\n",
       "    <tr>\n",
       "      <th>88</th>\n",
       "      <td>47784</td>\n",
       "      <td>[18, 53]</td>\n",
       "      <td>Fair Game</td>\n",
       "      <td>0</td>\n",
       "      <td>0</td>\n",
       "      <td>0</td>\n",
       "      <td>0</td>\n",
       "      <td>0</td>\n",
       "      <td>0</td>\n",
       "      <td>0</td>\n",
       "      <td>...</td>\n",
       "      <td>0</td>\n",
       "      <td>0</td>\n",
       "      <td>0</td>\n",
       "      <td>0</td>\n",
       "      <td>0</td>\n",
       "      <td>1</td>\n",
       "      <td>0</td>\n",
       "      <td>0</td>\n",
       "      <td>0</td>\n",
       "      <td>0</td>\n",
       "    </tr>\n",
       "    <tr>\n",
       "      <th>90</th>\n",
       "      <td>2982519</td>\n",
       "      <td>[10752, 28, 12, 18, 53]</td>\n",
       "      <td>Green Zone</td>\n",
       "      <td>0</td>\n",
       "      <td>0</td>\n",
       "      <td>0</td>\n",
       "      <td>1</td>\n",
       "      <td>0</td>\n",
       "      <td>1</td>\n",
       "      <td>0</td>\n",
       "      <td>...</td>\n",
       "      <td>0</td>\n",
       "      <td>1</td>\n",
       "      <td>0</td>\n",
       "      <td>0</td>\n",
       "      <td>0</td>\n",
       "      <td>1</td>\n",
       "      <td>0</td>\n",
       "      <td>0</td>\n",
       "      <td>0</td>\n",
       "      <td>0</td>\n",
       "    </tr>\n",
       "    <tr>\n",
       "      <th>122</th>\n",
       "      <td>36627518</td>\n",
       "      <td>[18, 28, 36]</td>\n",
       "      <td>Ip Man</td>\n",
       "      <td>0</td>\n",
       "      <td>0</td>\n",
       "      <td>0</td>\n",
       "      <td>0</td>\n",
       "      <td>0</td>\n",
       "      <td>0</td>\n",
       "      <td>0</td>\n",
       "      <td>...</td>\n",
       "      <td>0</td>\n",
       "      <td>1</td>\n",
       "      <td>0</td>\n",
       "      <td>1</td>\n",
       "      <td>0</td>\n",
       "      <td>0</td>\n",
       "      <td>0</td>\n",
       "      <td>0</td>\n",
       "      <td>0</td>\n",
       "      <td>0</td>\n",
       "    </tr>\n",
       "    <tr>\n",
       "      <th>133</th>\n",
       "      <td>13038324</td>\n",
       "      <td>[14, 18, 10751]</td>\n",
       "      <td>16 Wishes</td>\n",
       "      <td>0</td>\n",
       "      <td>0</td>\n",
       "      <td>1</td>\n",
       "      <td>0</td>\n",
       "      <td>0</td>\n",
       "      <td>0</td>\n",
       "      <td>1</td>\n",
       "      <td>...</td>\n",
       "      <td>0</td>\n",
       "      <td>0</td>\n",
       "      <td>0</td>\n",
       "      <td>0</td>\n",
       "      <td>0</td>\n",
       "      <td>0</td>\n",
       "      <td>0</td>\n",
       "      <td>0</td>\n",
       "      <td>0</td>\n",
       "      <td>0</td>\n",
       "    </tr>\n",
       "    <tr>\n",
       "      <th>143</th>\n",
       "      <td>57986320</td>\n",
       "      <td>[18, 27, 9648, 53]</td>\n",
       "      <td>My Soul to Take</td>\n",
       "      <td>0</td>\n",
       "      <td>0</td>\n",
       "      <td>0</td>\n",
       "      <td>0</td>\n",
       "      <td>0</td>\n",
       "      <td>0</td>\n",
       "      <td>0</td>\n",
       "      <td>...</td>\n",
       "      <td>1</td>\n",
       "      <td>0</td>\n",
       "      <td>0</td>\n",
       "      <td>0</td>\n",
       "      <td>0</td>\n",
       "      <td>1</td>\n",
       "      <td>0</td>\n",
       "      <td>0</td>\n",
       "      <td>1</td>\n",
       "      <td>0</td>\n",
       "    </tr>\n",
       "  </tbody>\n",
       "</table>\n",
       "<p>5 rows × 22 columns</p>\n",
       "</div>"
      ],
      "text/plain": [
       "     total_profit                genre_ids            title  Music  Romance  \\\n",
       "88          47784                 [18, 53]        Fair Game      0        0   \n",
       "90        2982519  [10752, 28, 12, 18, 53]       Green Zone      0        0   \n",
       "122      36627518             [18, 28, 36]           Ip Man      0        0   \n",
       "133      13038324          [14, 18, 10751]        16 Wishes      0        0   \n",
       "143      57986320       [18, 27, 9648, 53]  My Soul to Take      0        0   \n",
       "\n",
       "     Family  War  TV  Adventure  Fantasy  ...  Horror  Action  Comedy  \\\n",
       "88        0    0   0          0        0  ...       0       0       0   \n",
       "90        0    1   0          1        0  ...       0       1       0   \n",
       "122       0    0   0          0        0  ...       0       1       0   \n",
       "133       1    0   0          0        1  ...       0       0       0   \n",
       "143       0    0   0          0        0  ...       1       0       0   \n",
       "\n",
       "     History  Western  Thriller  Crime  SciFi  Mystery  Documentary  \n",
       "88         0        0         1      0      0        0            0  \n",
       "90         0        0         1      0      0        0            0  \n",
       "122        1        0         0      0      0        0            0  \n",
       "133        0        0         0      0      0        0            0  \n",
       "143        0        0         1      0      0        1            0  \n",
       "\n",
       "[5 rows x 22 columns]"
      ]
     },
     "execution_count": 41,
     "metadata": {},
     "output_type": "execute_result"
    }
   ],
   "source": [
    "dramas_iqr = iqr_budgets_and_genre_dummys.loc[ iqr_budgets_and_genre_dummys['Drama'] == 1 ]\n",
    "dramas_iqr.head()"
   ]
  },
  {
   "cell_type": "code",
   "execution_count": 42,
   "metadata": {},
   "outputs": [
    {
     "name": "stdout",
     "output_type": "stream",
     "text": [
      "Lowest profit: $-2000000\n"
     ]
    },
    {
     "data": {
      "image/png": "[encoded data removed]",
      "text/plain": [
       "<Figure size 432x288 with 1 Axes>"
      ]
     },
     "metadata": {
      "needs_background": "light"
     },
     "output_type": "display_data"
    }
   ],
   "source": [
    "fig, ax = plt.subplots()\n",
    "ax.hist(dramas_iqr['total_profit'])\n",
    "ax.set_title(\"Distribution of Profit for Dramas in IQR\")\n",
    "ax.set_xlabel(\"Profit in Billions (USD)\")\n",
    "ax.set_ylabel(\"Frequency\");\n",
    "\n",
    "lowest_profit = dramas_iqr['total_profit'].min()\n",
    "print(f\"Lowest profit: ${lowest_profit}\")"
   ]
  },
  {
   "cell_type": "code",
   "execution_count": 43,
   "metadata": {},
   "outputs": [
    {
     "name": "stdout",
     "output_type": "stream",
     "text": [
      "Lowest Log(profit): $9.262553243423117\n"
     ]
    },
    {
     "name": "stderr",
     "output_type": "stream",
     "text": [
      "C:\\Users\\morpelletier\\Anaconda3\\envs\\learn-env\\lib\\site-packages\\pandas\\core\\series.py:726: RuntimeWarning: invalid value encountered in log\n",
      "  result = getattr(ufunc, method)(*inputs, **kwargs)\n",
      "C:\\Users\\morpelletier\\Anaconda3\\envs\\learn-env\\lib\\site-packages\\numpy\\lib\\histograms.py:839: RuntimeWarning: invalid value encountered in greater_equal\n",
      "  keep = (tmp_a >= first_edge)\n",
      "C:\\Users\\morpelletier\\Anaconda3\\envs\\learn-env\\lib\\site-packages\\numpy\\lib\\histograms.py:840: RuntimeWarning: invalid value encountered in less_equal\n",
      "  keep &= (tmp_a <= last_edge)\n"
     ]
    },
    {
     "data": {
      "image/png": "[encoded data removed]",
      "text/plain": [
       "<Figure size 432x288 with 1 Axes>"
      ]
     },
     "metadata": {
      "needs_background": "light"
     },
     "output_type": "display_data"
    }
   ],
   "source": [
    "# apply transformation\n",
    "import numpy as np\n",
    "log_drama_iqr_profit = np.log(dramas_iqr['total_profit'])\n",
    "\n",
    "# plot\n",
    "fig, ax = plt.subplots()\n",
    "ax.hist(log_drama_iqr_profit)\n",
    "ax.set_title(\"Distribution of Profit for Dramas in IQR\")\n",
    "ax.set_xlabel(\"Profit in Billions (USD)\")\n",
    "ax.set_ylabel(\"Frequency\");\n",
    "\n",
    "lowest_profit = log_drama_iqr_profit.min()\n",
    "\n",
    "print(f\"Lowest Log(profit): ${lowest_profit}\")"
   ]
  },
  {
   "cell_type": "markdown",
   "metadata": {},
   "source": [
    "It actually appeared to make the skew worse. So, I returned to the Chi-Square analysis by defining high vs. medium vs. low profitability.\n",
    "\n",
    "#### Prep for Chi-Squared Test\n",
    "\n",
    "First, I looked at the overall distribution."
   ]
  },
  {
   "cell_type": "code",
   "execution_count": 44,
   "metadata": {},
   "outputs": [
    {
     "data": {
      "text/plain": [
       "count    2.890000e+03\n",
       "mean     1.496507e+07\n",
       "std      1.712078e+07\n",
       "min     -2.178990e+06\n",
       "25%      1.307508e+05\n",
       "50%      8.550286e+06\n",
       "75%      2.537178e+07\n",
       "max      6.083874e+07\n",
       "Name: total_profit, dtype: float64"
      ]
     },
     "execution_count": 44,
     "metadata": {},
     "output_type": "execute_result"
    }
   ],
   "source": [
    "iqr_budgets_and_genre_dummys['total_profit'].describe()"
   ]
  },
  {
   "cell_type": "markdown",
   "metadata": {},
   "source": [
    "Then, I researched the Chi-Square test and how to apply it in Python. (I have previous experience conducting the test in SPSS, but not Python)\n",
    "\n",
    "The resource used: https://www.geeksforgeeks.org/python-pearsons-chi-square-test/"
   ]
  },
  {
   "cell_type": "markdown",
   "metadata": {},
   "source": [
    "Now that I had done some research and felt confident about using a chi-square test for this dataset, I created a plan for action.\n",
    "1. Assign high/medium/low profitability based on 75th percentile and above / 25th - 75th percentile / and 25th percentile and lower\n",
    "    - Create a new column for relative profit and use newly defined threshold variables to filter each movie into these categories (can't use the old ones because we used it to filter out outliers)\n",
    "2. Create a contingency table with genres on the rows and relative profit on the columns. \n",
    "    - use iterrows to itterrate through each row and their genre. For each genre present in the genre column, add one count to the appropriate profit column. For example, if a movie is a drama and generated high profit, add 1 to the cell appropriate for that genre and profit category. If a movie is a drama and an animation and generated high profit, add 1 to the cell appropriate for dramas with high profit and 1 to the cell appropriate for animations with high profit. \n",
    "3. use the appropriate scipy stats function to calculate the p-value\n",
    "    - chi2_contingency\n",
    "   \n",
    "##### Turning Profit into a Categorical Variable"
   ]
  },
  {
   "cell_type": "code",
   "execution_count": 45,
   "metadata": {},
   "outputs": [],
   "source": [
    "# define thresholds\n",
    "iqr_Q1 = iqr_budgets_and_genre_dummys['total_profit'].quantile(q=.25)\n",
    "iqr_Q3 = iqr_budgets_and_genre_dummys['total_profit'].quantile(q=.75)"
   ]
  },
  {
   "cell_type": "code",
   "execution_count": 46,
   "metadata": {
    "scrolled": true
   },
   "outputs": [
    {
     "data": {
      "text/html": [
       "<div>\n",
       "<style scoped>\n",
       "    .dataframe tbody tr th:only-of-type {\n",
       "        vertical-align: middle;\n",
       "    }\n",
       "\n",
       "    .dataframe tbody tr th {\n",
       "        vertical-align: top;\n",
       "    }\n",
       "\n",
       "    .dataframe thead th {\n",
       "        text-align: right;\n",
       "    }\n",
       "</style>\n",
       "<table border=\"1\" class=\"dataframe\">\n",
       "  <thead>\n",
       "    <tr style=\"text-align: right;\">\n",
       "      <th></th>\n",
       "      <th>total_profit</th>\n",
       "      <th>genre_ids</th>\n",
       "      <th>title</th>\n",
       "      <th>Music</th>\n",
       "      <th>Romance</th>\n",
       "      <th>Family</th>\n",
       "      <th>War</th>\n",
       "      <th>TV</th>\n",
       "      <th>Adventure</th>\n",
       "      <th>Fantasy</th>\n",
       "      <th>...</th>\n",
       "      <th>Action</th>\n",
       "      <th>Comedy</th>\n",
       "      <th>History</th>\n",
       "      <th>Western</th>\n",
       "      <th>Thriller</th>\n",
       "      <th>Crime</th>\n",
       "      <th>SciFi</th>\n",
       "      <th>Mystery</th>\n",
       "      <th>Documentary</th>\n",
       "      <th>relative_profit_cat</th>\n",
       "    </tr>\n",
       "  </thead>\n",
       "  <tbody>\n",
       "    <tr>\n",
       "      <th>13</th>\n",
       "      <td>7778100</td>\n",
       "      <td>[16, 10751]</td>\n",
       "      <td>Tangled</td>\n",
       "      <td>0</td>\n",
       "      <td>0</td>\n",
       "      <td>1</td>\n",
       "      <td>0</td>\n",
       "      <td>0</td>\n",
       "      <td>0</td>\n",
       "      <td>0</td>\n",
       "      <td>...</td>\n",
       "      <td>0</td>\n",
       "      <td>0</td>\n",
       "      <td>0</td>\n",
       "      <td>0</td>\n",
       "      <td>0</td>\n",
       "      <td>0</td>\n",
       "      <td>0</td>\n",
       "      <td>0</td>\n",
       "      <td>0</td>\n",
       "      <td>medium</td>\n",
       "    </tr>\n",
       "    <tr>\n",
       "      <th>61</th>\n",
       "      <td>19535492</td>\n",
       "      <td>[28, 80]</td>\n",
       "      <td>Kick-Ass</td>\n",
       "      <td>0</td>\n",
       "      <td>0</td>\n",
       "      <td>0</td>\n",
       "      <td>0</td>\n",
       "      <td>0</td>\n",
       "      <td>0</td>\n",
       "      <td>0</td>\n",
       "      <td>...</td>\n",
       "      <td>1</td>\n",
       "      <td>0</td>\n",
       "      <td>0</td>\n",
       "      <td>0</td>\n",
       "      <td>0</td>\n",
       "      <td>1</td>\n",
       "      <td>0</td>\n",
       "      <td>0</td>\n",
       "      <td>0</td>\n",
       "      <td>medium</td>\n",
       "    </tr>\n",
       "    <tr>\n",
       "      <th>65</th>\n",
       "      <td>2687603</td>\n",
       "      <td>[28, 80, 53]</td>\n",
       "      <td>From Paris with Love</td>\n",
       "      <td>0</td>\n",
       "      <td>0</td>\n",
       "      <td>0</td>\n",
       "      <td>0</td>\n",
       "      <td>0</td>\n",
       "      <td>0</td>\n",
       "      <td>0</td>\n",
       "      <td>...</td>\n",
       "      <td>1</td>\n",
       "      <td>0</td>\n",
       "      <td>0</td>\n",
       "      <td>0</td>\n",
       "      <td>1</td>\n",
       "      <td>1</td>\n",
       "      <td>0</td>\n",
       "      <td>0</td>\n",
       "      <td>0</td>\n",
       "      <td>medium</td>\n",
       "    </tr>\n",
       "    <tr>\n",
       "      <th>88</th>\n",
       "      <td>47784</td>\n",
       "      <td>[18, 53]</td>\n",
       "      <td>Fair Game</td>\n",
       "      <td>0</td>\n",
       "      <td>0</td>\n",
       "      <td>0</td>\n",
       "      <td>0</td>\n",
       "      <td>0</td>\n",
       "      <td>0</td>\n",
       "      <td>0</td>\n",
       "      <td>...</td>\n",
       "      <td>0</td>\n",
       "      <td>0</td>\n",
       "      <td>0</td>\n",
       "      <td>0</td>\n",
       "      <td>1</td>\n",
       "      <td>0</td>\n",
       "      <td>0</td>\n",
       "      <td>0</td>\n",
       "      <td>0</td>\n",
       "      <td>low</td>\n",
       "    </tr>\n",
       "    <tr>\n",
       "      <th>89</th>\n",
       "      <td>35098356</td>\n",
       "      <td>[35, 10402, 10770]</td>\n",
       "      <td>Camp Rock 2: The Final Jam</td>\n",
       "      <td>1</td>\n",
       "      <td>0</td>\n",
       "      <td>0</td>\n",
       "      <td>0</td>\n",
       "      <td>1</td>\n",
       "      <td>0</td>\n",
       "      <td>0</td>\n",
       "      <td>...</td>\n",
       "      <td>0</td>\n",
       "      <td>1</td>\n",
       "      <td>0</td>\n",
       "      <td>0</td>\n",
       "      <td>0</td>\n",
       "      <td>0</td>\n",
       "      <td>0</td>\n",
       "      <td>0</td>\n",
       "      <td>0</td>\n",
       "      <td>high</td>\n",
       "    </tr>\n",
       "  </tbody>\n",
       "</table>\n",
       "<p>5 rows × 23 columns</p>\n",
       "</div>"
      ],
      "text/plain": [
       "    total_profit           genre_ids                       title  Music  \\\n",
       "13       7778100         [16, 10751]                     Tangled      0   \n",
       "61      19535492            [28, 80]                    Kick-Ass      0   \n",
       "65       2687603        [28, 80, 53]        From Paris with Love      0   \n",
       "88         47784            [18, 53]                   Fair Game      0   \n",
       "89      35098356  [35, 10402, 10770]  Camp Rock 2: The Final Jam      1   \n",
       "\n",
       "    Romance  Family  War  TV  Adventure  Fantasy  ...  Action  Comedy  \\\n",
       "13        0       1    0   0          0        0  ...       0       0   \n",
       "61        0       0    0   0          0        0  ...       1       0   \n",
       "65        0       0    0   0          0        0  ...       1       0   \n",
       "88        0       0    0   0          0        0  ...       0       0   \n",
       "89        0       0    0   1          0        0  ...       0       1   \n",
       "\n",
       "    History  Western  Thriller  Crime  SciFi  Mystery  Documentary  \\\n",
       "13        0        0         0      0      0        0            0   \n",
       "61        0        0         0      1      0        0            0   \n",
       "65        0        0         1      1      0        0            0   \n",
       "88        0        0         1      0      0        0            0   \n",
       "89        0        0         0      0      0        0            0   \n",
       "\n",
       "    relative_profit_cat  \n",
       "13               medium  \n",
       "61               medium  \n",
       "65               medium  \n",
       "88                  low  \n",
       "89                 high  \n",
       "\n",
       "[5 rows x 23 columns]"
      ]
     },
     "execution_count": 46,
     "metadata": {},
     "output_type": "execute_result"
    }
   ],
   "source": [
    "# assign categories based on thresholds\n",
    "iqr_budgets_and_genre_dummys.loc[ iqr_budgets_and_genre_dummys['total_profit'] >= iqr_Q3, 'relative_profit_cat'] = 'high'\n",
    "iqr_budgets_and_genre_dummys.loc[ iqr_budgets_and_genre_dummys['total_profit'] <= iqr_Q1, 'relative_profit_cat'] = 'low'\n",
    "iqr_budgets_and_genre_dummys.loc[ iqr_budgets_and_genre_dummys['relative_profit_cat'].isna() , 'relative_profit_cat'] = 'medium'\n",
    "\n",
    "iqr_budgets_and_genre_dummys.head()"
   ]
  },
  {
   "cell_type": "markdown",
   "metadata": {},
   "source": [
    "##### Contingency Table\n",
    "\n",
    "First, I created a blank contingency table for me to populate with values by iterating through the dataset"
   ]
  },
  {
   "cell_type": "code",
   "execution_count": 47,
   "metadata": {
    "scrolled": true
   },
   "outputs": [
    {
     "data": {
      "text/html": [
       "<div>\n",
       "<style scoped>\n",
       "    .dataframe tbody tr th:only-of-type {\n",
       "        vertical-align: middle;\n",
       "    }\n",
       "\n",
       "    .dataframe tbody tr th {\n",
       "        vertical-align: top;\n",
       "    }\n",
       "\n",
       "    .dataframe thead th {\n",
       "        text-align: right;\n",
       "    }\n",
       "</style>\n",
       "<table border=\"1\" class=\"dataframe\">\n",
       "  <thead>\n",
       "    <tr style=\"text-align: right;\">\n",
       "      <th></th>\n",
       "      <th>index</th>\n",
       "      <th>high</th>\n",
       "      <th>medium</th>\n",
       "      <th>low</th>\n",
       "    </tr>\n",
       "  </thead>\n",
       "  <tbody>\n",
       "    <tr>\n",
       "      <th>0</th>\n",
       "      <td>Music</td>\n",
       "      <td>0</td>\n",
       "      <td>0</td>\n",
       "      <td>0</td>\n",
       "    </tr>\n",
       "    <tr>\n",
       "      <th>1</th>\n",
       "      <td>Romance</td>\n",
       "      <td>0</td>\n",
       "      <td>0</td>\n",
       "      <td>0</td>\n",
       "    </tr>\n",
       "    <tr>\n",
       "      <th>2</th>\n",
       "      <td>Family</td>\n",
       "      <td>0</td>\n",
       "      <td>0</td>\n",
       "      <td>0</td>\n",
       "    </tr>\n",
       "    <tr>\n",
       "      <th>3</th>\n",
       "      <td>War</td>\n",
       "      <td>0</td>\n",
       "      <td>0</td>\n",
       "      <td>0</td>\n",
       "    </tr>\n",
       "    <tr>\n",
       "      <th>4</th>\n",
       "      <td>TV</td>\n",
       "      <td>0</td>\n",
       "      <td>0</td>\n",
       "      <td>0</td>\n",
       "    </tr>\n",
       "  </tbody>\n",
       "</table>\n",
       "</div>"
      ],
      "text/plain": [
       "     index  high  medium  low\n",
       "0    Music     0       0    0\n",
       "1  Romance     0       0    0\n",
       "2   Family     0       0    0\n",
       "3      War     0       0    0\n",
       "4       TV     0       0    0"
      ]
     },
     "execution_count": 47,
     "metadata": {},
     "output_type": "execute_result"
    }
   ],
   "source": [
    "genres = []\n",
    "\n",
    "for column in iqr_budgets_and_genre_dummys.columns:\n",
    "    ignored_cols = ['total_profit','title','relative_profit_cat','genre_ids']  \n",
    "    if column not in ignored_cols:\n",
    "        genres.append(column)\n",
    "        \n",
    "contingency_table = pd.DataFrame(columns = ['high', 'medium', 'low'], index = genres)\n",
    "contingency_table.reset_index(inplace = True)\n",
    "contingency_table.head()\n",
    "contingency_table = contingency_table.fillna(0)\n",
    "contingency_table.head()"
   ]
  },
  {
   "cell_type": "markdown",
   "metadata": {},
   "source": [
    "Then, I iterated through each row in the dataset, adding a count to the appropriate cell in the contingency table for each movie/genre/profit combo.\n",
    "\n",
    "Resource used: https://www.geeksforgeeks.org/how-to-set-cell-value-in-pandas-dataframe/"
   ]
  },
  {
   "cell_type": "code",
   "execution_count": 48,
   "metadata": {},
   "outputs": [
    {
     "data": {
      "text/html": [
       "<div>\n",
       "<style scoped>\n",
       "    .dataframe tbody tr th:only-of-type {\n",
       "        vertical-align: middle;\n",
       "    }\n",
       "\n",
       "    .dataframe tbody tr th {\n",
       "        vertical-align: top;\n",
       "    }\n",
       "\n",
       "    .dataframe thead th {\n",
       "        text-align: right;\n",
       "    }\n",
       "</style>\n",
       "<table border=\"1\" class=\"dataframe\">\n",
       "  <thead>\n",
       "    <tr style=\"text-align: right;\">\n",
       "      <th></th>\n",
       "      <th>index</th>\n",
       "      <th>high</th>\n",
       "      <th>medium</th>\n",
       "      <th>low</th>\n",
       "    </tr>\n",
       "  </thead>\n",
       "  <tbody>\n",
       "    <tr>\n",
       "      <th>0</th>\n",
       "      <td>Music</td>\n",
       "      <td>48</td>\n",
       "      <td>90</td>\n",
       "      <td>35</td>\n",
       "    </tr>\n",
       "    <tr>\n",
       "      <th>1</th>\n",
       "      <td>Romance</td>\n",
       "      <td>68</td>\n",
       "      <td>141</td>\n",
       "      <td>91</td>\n",
       "    </tr>\n",
       "    <tr>\n",
       "      <th>2</th>\n",
       "      <td>Family</td>\n",
       "      <td>44</td>\n",
       "      <td>98</td>\n",
       "      <td>66</td>\n",
       "    </tr>\n",
       "    <tr>\n",
       "      <th>3</th>\n",
       "      <td>War</td>\n",
       "      <td>9</td>\n",
       "      <td>18</td>\n",
       "      <td>10</td>\n",
       "    </tr>\n",
       "    <tr>\n",
       "      <th>4</th>\n",
       "      <td>TV</td>\n",
       "      <td>19</td>\n",
       "      <td>34</td>\n",
       "      <td>18</td>\n",
       "    </tr>\n",
       "    <tr>\n",
       "      <th>5</th>\n",
       "      <td>Adventure</td>\n",
       "      <td>35</td>\n",
       "      <td>77</td>\n",
       "      <td>42</td>\n",
       "    </tr>\n",
       "    <tr>\n",
       "      <th>6</th>\n",
       "      <td>Fantasy</td>\n",
       "      <td>38</td>\n",
       "      <td>56</td>\n",
       "      <td>33</td>\n",
       "    </tr>\n",
       "    <tr>\n",
       "      <th>7</th>\n",
       "      <td>Animation</td>\n",
       "      <td>46</td>\n",
       "      <td>74</td>\n",
       "      <td>47</td>\n",
       "    </tr>\n",
       "    <tr>\n",
       "      <th>8</th>\n",
       "      <td>Drama</td>\n",
       "      <td>218</td>\n",
       "      <td>447</td>\n",
       "      <td>239</td>\n",
       "    </tr>\n",
       "    <tr>\n",
       "      <th>9</th>\n",
       "      <td>Horror</td>\n",
       "      <td>91</td>\n",
       "      <td>187</td>\n",
       "      <td>88</td>\n",
       "    </tr>\n",
       "    <tr>\n",
       "      <th>10</th>\n",
       "      <td>Action</td>\n",
       "      <td>83</td>\n",
       "      <td>174</td>\n",
       "      <td>88</td>\n",
       "    </tr>\n",
       "    <tr>\n",
       "      <th>11</th>\n",
       "      <td>Comedy</td>\n",
       "      <td>169</td>\n",
       "      <td>349</td>\n",
       "      <td>185</td>\n",
       "    </tr>\n",
       "    <tr>\n",
       "      <th>12</th>\n",
       "      <td>History</td>\n",
       "      <td>13</td>\n",
       "      <td>33</td>\n",
       "      <td>14</td>\n",
       "    </tr>\n",
       "    <tr>\n",
       "      <th>13</th>\n",
       "      <td>Western</td>\n",
       "      <td>6</td>\n",
       "      <td>9</td>\n",
       "      <td>4</td>\n",
       "    </tr>\n",
       "    <tr>\n",
       "      <th>14</th>\n",
       "      <td>Thriller</td>\n",
       "      <td>112</td>\n",
       "      <td>211</td>\n",
       "      <td>135</td>\n",
       "    </tr>\n",
       "    <tr>\n",
       "      <th>15</th>\n",
       "      <td>Crime</td>\n",
       "      <td>37</td>\n",
       "      <td>78</td>\n",
       "      <td>53</td>\n",
       "    </tr>\n",
       "    <tr>\n",
       "      <th>16</th>\n",
       "      <td>SciFi</td>\n",
       "      <td>44</td>\n",
       "      <td>86</td>\n",
       "      <td>42</td>\n",
       "    </tr>\n",
       "    <tr>\n",
       "      <th>17</th>\n",
       "      <td>Mystery</td>\n",
       "      <td>33</td>\n",
       "      <td>60</td>\n",
       "      <td>36</td>\n",
       "    </tr>\n",
       "    <tr>\n",
       "      <th>18</th>\n",
       "      <td>Documentary</td>\n",
       "      <td>129</td>\n",
       "      <td>252</td>\n",
       "      <td>96</td>\n",
       "    </tr>\n",
       "  </tbody>\n",
       "</table>\n",
       "</div>"
      ],
      "text/plain": [
       "          index  high  medium  low\n",
       "0         Music    48      90   35\n",
       "1       Romance    68     141   91\n",
       "2        Family    44      98   66\n",
       "3           War     9      18   10\n",
       "4            TV    19      34   18\n",
       "5     Adventure    35      77   42\n",
       "6       Fantasy    38      56   33\n",
       "7     Animation    46      74   47\n",
       "8         Drama   218     447  239\n",
       "9        Horror    91     187   88\n",
       "10       Action    83     174   88\n",
       "11       Comedy   169     349  185\n",
       "12      History    13      33   14\n",
       "13      Western     6       9    4\n",
       "14     Thriller   112     211  135\n",
       "15        Crime    37      78   53\n",
       "16        SciFi    44      86   42\n",
       "17      Mystery    33      60   36\n",
       "18  Documentary   129     252   96"
      ]
     },
     "execution_count": 48,
     "metadata": {},
     "output_type": "execute_result"
    }
   ],
   "source": [
    "# for each row\n",
    "for index, lst in iqr_budgets_and_genre_dummys.iterrows():\n",
    "    \n",
    "    # for each cell in that row that isn't profit, profit category, or title (i.e., genres)\n",
    "    for col in iqr_budgets_and_genre_dummys.columns:\n",
    "        \n",
    "        ignored_cols = ['total_profit','title','relative_profit_cat','genre_ids']\n",
    "        \n",
    "        if col not in ignored_cols:\n",
    "    \n",
    "    # if it's 1, find the index associated with that column name in the contingency table\n",
    "            if lst[col] == 1 :\n",
    "            \n",
    "                genre_idx = contingency_table[contingency_table['index'] == col].index.values\n",
    "                \n",
    "    # look at the profit category column and save that value as well\n",
    "    \n",
    "                profit_cat = lst['relative_profit_cat']\n",
    "    \n",
    "    # find the cell associated with that row and column in the contingency table and add 1 \n",
    "    \n",
    "                contingency_table.loc[genre_idx, profit_cat] += 1   \n",
    "                \n",
    "contingency_table"
   ]
  },
  {
   "cell_type": "markdown",
   "metadata": {},
   "source": [
    "After confirming that the table was populated, I reset the index as the genres (this was only removed to make iteration and population of the contingency table easier)."
   ]
  },
  {
   "cell_type": "code",
   "execution_count": 49,
   "metadata": {},
   "outputs": [],
   "source": [
    "contingency_table = contingency_table.set_index('index')"
   ]
  },
  {
   "cell_type": "code",
   "execution_count": 50,
   "metadata": {},
   "outputs": [
    {
     "data": {
      "text/html": [
       "<div>\n",
       "<style scoped>\n",
       "    .dataframe tbody tr th:only-of-type {\n",
       "        vertical-align: middle;\n",
       "    }\n",
       "\n",
       "    .dataframe tbody tr th {\n",
       "        vertical-align: top;\n",
       "    }\n",
       "\n",
       "    .dataframe thead th {\n",
       "        text-align: right;\n",
       "    }\n",
       "</style>\n",
       "<table border=\"1\" class=\"dataframe\">\n",
       "  <thead>\n",
       "    <tr style=\"text-align: right;\">\n",
       "      <th></th>\n",
       "      <th>high</th>\n",
       "      <th>medium</th>\n",
       "      <th>low</th>\n",
       "    </tr>\n",
       "    <tr>\n",
       "      <th>index</th>\n",
       "      <th></th>\n",
       "      <th></th>\n",
       "      <th></th>\n",
       "    </tr>\n",
       "  </thead>\n",
       "  <tbody>\n",
       "    <tr>\n",
       "      <th>Music</th>\n",
       "      <td>48</td>\n",
       "      <td>90</td>\n",
       "      <td>35</td>\n",
       "    </tr>\n",
       "    <tr>\n",
       "      <th>Romance</th>\n",
       "      <td>68</td>\n",
       "      <td>141</td>\n",
       "      <td>91</td>\n",
       "    </tr>\n",
       "    <tr>\n",
       "      <th>Family</th>\n",
       "      <td>44</td>\n",
       "      <td>98</td>\n",
       "      <td>66</td>\n",
       "    </tr>\n",
       "    <tr>\n",
       "      <th>War</th>\n",
       "      <td>9</td>\n",
       "      <td>18</td>\n",
       "      <td>10</td>\n",
       "    </tr>\n",
       "    <tr>\n",
       "      <th>TV</th>\n",
       "      <td>19</td>\n",
       "      <td>34</td>\n",
       "      <td>18</td>\n",
       "    </tr>\n",
       "    <tr>\n",
       "      <th>Adventure</th>\n",
       "      <td>35</td>\n",
       "      <td>77</td>\n",
       "      <td>42</td>\n",
       "    </tr>\n",
       "    <tr>\n",
       "      <th>Fantasy</th>\n",
       "      <td>38</td>\n",
       "      <td>56</td>\n",
       "      <td>33</td>\n",
       "    </tr>\n",
       "    <tr>\n",
       "      <th>Animation</th>\n",
       "      <td>46</td>\n",
       "      <td>74</td>\n",
       "      <td>47</td>\n",
       "    </tr>\n",
       "    <tr>\n",
       "      <th>Drama</th>\n",
       "      <td>218</td>\n",
       "      <td>447</td>\n",
       "      <td>239</td>\n",
       "    </tr>\n",
       "    <tr>\n",
       "      <th>Horror</th>\n",
       "      <td>91</td>\n",
       "      <td>187</td>\n",
       "      <td>88</td>\n",
       "    </tr>\n",
       "    <tr>\n",
       "      <th>Action</th>\n",
       "      <td>83</td>\n",
       "      <td>174</td>\n",
       "      <td>88</td>\n",
       "    </tr>\n",
       "    <tr>\n",
       "      <th>Comedy</th>\n",
       "      <td>169</td>\n",
       "      <td>349</td>\n",
       "      <td>185</td>\n",
       "    </tr>\n",
       "    <tr>\n",
       "      <th>History</th>\n",
       "      <td>13</td>\n",
       "      <td>33</td>\n",
       "      <td>14</td>\n",
       "    </tr>\n",
       "    <tr>\n",
       "      <th>Western</th>\n",
       "      <td>6</td>\n",
       "      <td>9</td>\n",
       "      <td>4</td>\n",
       "    </tr>\n",
       "    <tr>\n",
       "      <th>Thriller</th>\n",
       "      <td>112</td>\n",
       "      <td>211</td>\n",
       "      <td>135</td>\n",
       "    </tr>\n",
       "    <tr>\n",
       "      <th>Crime</th>\n",
       "      <td>37</td>\n",
       "      <td>78</td>\n",
       "      <td>53</td>\n",
       "    </tr>\n",
       "    <tr>\n",
       "      <th>SciFi</th>\n",
       "      <td>44</td>\n",
       "      <td>86</td>\n",
       "      <td>42</td>\n",
       "    </tr>\n",
       "    <tr>\n",
       "      <th>Mystery</th>\n",
       "      <td>33</td>\n",
       "      <td>60</td>\n",
       "      <td>36</td>\n",
       "    </tr>\n",
       "    <tr>\n",
       "      <th>Documentary</th>\n",
       "      <td>129</td>\n",
       "      <td>252</td>\n",
       "      <td>96</td>\n",
       "    </tr>\n",
       "  </tbody>\n",
       "</table>\n",
       "</div>"
      ],
      "text/plain": [
       "             high  medium  low\n",
       "index                         \n",
       "Music          48      90   35\n",
       "Romance        68     141   91\n",
       "Family         44      98   66\n",
       "War             9      18   10\n",
       "TV             19      34   18\n",
       "Adventure      35      77   42\n",
       "Fantasy        38      56   33\n",
       "Animation      46      74   47\n",
       "Drama         218     447  239\n",
       "Horror         91     187   88\n",
       "Action         83     174   88\n",
       "Comedy        169     349  185\n",
       "History        13      33   14\n",
       "Western         6       9    4\n",
       "Thriller      112     211  135\n",
       "Crime          37      78   53\n",
       "SciFi          44      86   42\n",
       "Mystery        33      60   36\n",
       "Documentary   129     252   96"
      ]
     },
     "execution_count": 50,
     "metadata": {},
     "output_type": "execute_result"
    }
   ],
   "source": [
    "contingency_table"
   ]
  },
  {
   "cell_type": "markdown",
   "metadata": {},
   "source": [
    "### The Chi-Square test\n",
    "\n",
    "My resource used: https://www.geeksforgeeks.org/python-pearsons-chi-square-test/"
   ]
  },
  {
   "cell_type": "code",
   "execution_count": 51,
   "metadata": {},
   "outputs": [
    {
     "name": "stdout",
     "output_type": "stream",
     "text": [
      "p value is 0.6677297559692702\n",
      "Retain H_0\n"
     ]
    }
   ],
   "source": [
    "from scipy.stats import chi2_contingency\n",
    "\n",
    "# H_0 : Genre and Profit Level are not associated\n",
    "# H_1: Genre and Profit Level are associated\n",
    "\n",
    "stat, p, dof, expected = chi2_contingency(contingency_table)\n",
    "  \n",
    "# interpret p-value\n",
    "alpha = 0.05\n",
    "print(\"p value is \" + str(p))\n",
    "if p <= alpha:\n",
    "    print('Reject H_0')\n",
    "else:\n",
    "    print('Retain H_0')"
   ]
  },
  {
   "cell_type": "markdown",
   "metadata": {},
   "source": [
    "Thus, it is evident that genre is not predictive of profit level. A business suggestion that can be made based off of this conclusion is that the movies produced need not be curated to a particular genre in order to target greater profit. Instead, all genres of movies have potential to be profitable."
   ]
  }
 ],
 "metadata": {
  "kernelspec": {
   "display_name": "Python (learn-env)",
   "language": "python",
   "name": "learn-env"
  },
  "language_info": {
   "codemirror_mode": {
    "name": "ipython",
    "version": 3
   },
   "file_extension": ".py",
   "mimetype": "text/x-python",
   "name": "python",
   "nbconvert_exporter": "python",
   "pygments_lexer": "ipython3",
   "version": "3.8.5"
  }
 },
 "nbformat": 4,
 "nbformat_minor": 4
}
