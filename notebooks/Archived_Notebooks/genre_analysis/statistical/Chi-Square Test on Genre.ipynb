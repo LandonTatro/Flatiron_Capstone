{
 "cells": [
  {
   "cell_type": "markdown",
   "metadata": {},
   "source": [
    "# Genre as a Predictor of Profit\n",
    "## A Chi-Squared Analysis of Various Movie Genres as Potential Predictors of Profitability\n",
    "\n",
    "### The Business Question\n",
    "Does the genre of a movie have any association with the movie's profitability?\n",
    "\n",
    "### The Datasets\n",
    "\n",
    "### The Methods\n",
    "\n",
    "#### Import Pandas and Warnings"
   ]
  },
  {
   "cell_type": "code",
   "execution_count": 1,
   "metadata": {},
   "outputs": [],
   "source": [
    "import pandas as pd\n",
    "import warnings\n",
    "warnings.filterwarnings(action='ignore', category=FutureWarning)"
   ]
  },
  {
   "cell_type": "markdown",
   "metadata": {},
   "source": [
    "#### Import Relevant Datasets\n",
    "\n",
    "The relevant datasets for our analysis were the tn.movie_budgets.csv and tmdb.movies.csv files. "
   ]
  },
  {
   "cell_type": "code",
   "execution_count": 2,
   "metadata": {},
   "outputs": [],
   "source": [
    "budgets = pd.read_csv(\"../../../../data/tn.movie_budgets.csv\")\n",
    "tmdb = pd.read_csv(\"../../../../data/tmdb.movies.csv\", index_col = 0)"
   ]
  },
  {
   "cell_type": "markdown",
   "metadata": {},
   "source": [
    "#### Review the Contents of the Datasets and Areas that Require Cleaning\n",
    "\n",
    "Before running our analysis, we needed to review the contents of the datasets, isolate relevant columns, and clean data as necessary. \n",
    "\n",
    "##### Budgets Dataframe\n",
    "\n",
    "First, we looked at the first few rows of the dataset to get an idea of the column, potential datatypes, and areas which may require pre-processing/cleaning. "
   ]
  },
  {
   "cell_type": "code",
   "execution_count": 3,
   "metadata": {},
   "outputs": [
    {
     "data": {
      "text/html": [
       "<div>\n",
       "<style scoped>\n",
       "    .dataframe tbody tr th:only-of-type {\n",
       "        vertical-align: middle;\n",
       "    }\n",
       "\n",
       "    .dataframe tbody tr th {\n",
       "        vertical-align: top;\n",
       "    }\n",
       "\n",
       "    .dataframe thead th {\n",
       "        text-align: right;\n",
       "    }\n",
       "</style>\n",
       "<table border=\"1\" class=\"dataframe\">\n",
       "  <thead>\n",
       "    <tr style=\"text-align: right;\">\n",
       "      <th></th>\n",
       "      <th>id</th>\n",
       "      <th>release_date</th>\n",
       "      <th>movie</th>\n",
       "      <th>production_budget</th>\n",
       "      <th>domestic_gross</th>\n",
       "      <th>worldwide_gross</th>\n",
       "    </tr>\n",
       "  </thead>\n",
       "  <tbody>\n",
       "    <tr>\n",
       "      <th>0</th>\n",
       "      <td>1</td>\n",
       "      <td>Dec 18, 2009</td>\n",
       "      <td>Avatar</td>\n",
       "      <td>$425,000,000</td>\n",
       "      <td>$760,507,625</td>\n",
       "      <td>$2,776,345,279</td>\n",
       "    </tr>\n",
       "    <tr>\n",
       "      <th>1</th>\n",
       "      <td>2</td>\n",
       "      <td>May 20, 2011</td>\n",
       "      <td>Pirates of the Caribbean: On Stranger Tides</td>\n",
       "      <td>$410,600,000</td>\n",
       "      <td>$241,063,875</td>\n",
       "      <td>$1,045,663,875</td>\n",
       "    </tr>\n",
       "    <tr>\n",
       "      <th>2</th>\n",
       "      <td>3</td>\n",
       "      <td>Jun 7, 2019</td>\n",
       "      <td>Dark Phoenix</td>\n",
       "      <td>$350,000,000</td>\n",
       "      <td>$42,762,350</td>\n",
       "      <td>$149,762,350</td>\n",
       "    </tr>\n",
       "    <tr>\n",
       "      <th>3</th>\n",
       "      <td>4</td>\n",
       "      <td>May 1, 2015</td>\n",
       "      <td>Avengers: Age of Ultron</td>\n",
       "      <td>$330,600,000</td>\n",
       "      <td>$459,005,868</td>\n",
       "      <td>$1,403,013,963</td>\n",
       "    </tr>\n",
       "    <tr>\n",
       "      <th>4</th>\n",
       "      <td>5</td>\n",
       "      <td>Dec 15, 2017</td>\n",
       "      <td>Star Wars Ep. VIII: The Last Jedi</td>\n",
       "      <td>$317,000,000</td>\n",
       "      <td>$620,181,382</td>\n",
       "      <td>$1,316,721,747</td>\n",
       "    </tr>\n",
       "  </tbody>\n",
       "</table>\n",
       "</div>"
      ],
      "text/plain": [
       "   id  release_date                                        movie  \\\n",
       "0   1  Dec 18, 2009                                       Avatar   \n",
       "1   2  May 20, 2011  Pirates of the Caribbean: On Stranger Tides   \n",
       "2   3   Jun 7, 2019                                 Dark Phoenix   \n",
       "3   4   May 1, 2015                      Avengers: Age of Ultron   \n",
       "4   5  Dec 15, 2017            Star Wars Ep. VIII: The Last Jedi   \n",
       "\n",
       "  production_budget domestic_gross worldwide_gross  \n",
       "0      $425,000,000   $760,507,625  $2,776,345,279  \n",
       "1      $410,600,000   $241,063,875  $1,045,663,875  \n",
       "2      $350,000,000    $42,762,350    $149,762,350  \n",
       "3      $330,600,000   $459,005,868  $1,403,013,963  \n",
       "4      $317,000,000   $620,181,382  $1,316,721,747  "
      ]
     },
     "execution_count": 3,
     "metadata": {},
     "output_type": "execute_result"
    }
   ],
   "source": [
    "budgets.head()"
   ]
  },
  {
   "cell_type": "markdown",
   "metadata": {},
   "source": [
    "From this dataframe, we decided that we needed to retain the following columns:\n",
    "- Movie (for joining with other dataframes)\n",
    "- Production Budget and Worldwide Gross (for calculating profit)\n",
    "\n",
    "Thus, we formed a subset of the dataset including only the relevant columns."
   ]
  },
  {
   "cell_type": "code",
   "execution_count": 4,
   "metadata": {},
   "outputs": [
    {
     "data": {
      "text/html": [
       "<div>\n",
       "<style scoped>\n",
       "    .dataframe tbody tr th:only-of-type {\n",
       "        vertical-align: middle;\n",
       "    }\n",
       "\n",
       "    .dataframe tbody tr th {\n",
       "        vertical-align: top;\n",
       "    }\n",
       "\n",
       "    .dataframe thead th {\n",
       "        text-align: right;\n",
       "    }\n",
       "</style>\n",
       "<table border=\"1\" class=\"dataframe\">\n",
       "  <thead>\n",
       "    <tr style=\"text-align: right;\">\n",
       "      <th></th>\n",
       "      <th>movie</th>\n",
       "      <th>production_budget</th>\n",
       "      <th>worldwide_gross</th>\n",
       "    </tr>\n",
       "  </thead>\n",
       "  <tbody>\n",
       "    <tr>\n",
       "      <th>0</th>\n",
       "      <td>Avatar</td>\n",
       "      <td>$425,000,000</td>\n",
       "      <td>$2,776,345,279</td>\n",
       "    </tr>\n",
       "    <tr>\n",
       "      <th>1</th>\n",
       "      <td>Pirates of the Caribbean: On Stranger Tides</td>\n",
       "      <td>$410,600,000</td>\n",
       "      <td>$1,045,663,875</td>\n",
       "    </tr>\n",
       "    <tr>\n",
       "      <th>2</th>\n",
       "      <td>Dark Phoenix</td>\n",
       "      <td>$350,000,000</td>\n",
       "      <td>$149,762,350</td>\n",
       "    </tr>\n",
       "    <tr>\n",
       "      <th>3</th>\n",
       "      <td>Avengers: Age of Ultron</td>\n",
       "      <td>$330,600,000</td>\n",
       "      <td>$1,403,013,963</td>\n",
       "    </tr>\n",
       "    <tr>\n",
       "      <th>4</th>\n",
       "      <td>Star Wars Ep. VIII: The Last Jedi</td>\n",
       "      <td>$317,000,000</td>\n",
       "      <td>$1,316,721,747</td>\n",
       "    </tr>\n",
       "  </tbody>\n",
       "</table>\n",
       "</div>"
      ],
      "text/plain": [
       "                                         movie production_budget  \\\n",
       "0                                       Avatar      $425,000,000   \n",
       "1  Pirates of the Caribbean: On Stranger Tides      $410,600,000   \n",
       "2                                 Dark Phoenix      $350,000,000   \n",
       "3                      Avengers: Age of Ultron      $330,600,000   \n",
       "4            Star Wars Ep. VIII: The Last Jedi      $317,000,000   \n",
       "\n",
       "  worldwide_gross  \n",
       "0  $2,776,345,279  \n",
       "1  $1,045,663,875  \n",
       "2    $149,762,350  \n",
       "3  $1,403,013,963  \n",
       "4  $1,316,721,747  "
      ]
     },
     "execution_count": 4,
     "metadata": {},
     "output_type": "execute_result"
    }
   ],
   "source": [
    "cols_to_keep = ['movie','production_budget','worldwide_gross']\n",
    "budgets_relevant = budgets[cols_to_keep]\n",
    "budgets_relevant.head()"
   ]
  },
  {
   "cell_type": "markdown",
   "metadata": {},
   "source": [
    "We also noted that the production budget and worldwide gross columns were populated with strings (as evident by the symbolic characters used alongside the numeric characters, such as \"$\"). These values needed to be cleaned and cast as integers before they could be used to calculate profit. \n",
    "\n",
    "However, before doing any further cleaning we looked for null values and duplicates so that we could avoid making any unnecessary calculations"
   ]
  },
  {
   "cell_type": "code",
   "execution_count": 5,
   "metadata": {},
   "outputs": [
    {
     "name": "stdout",
     "output_type": "stream",
     "text": [
      "<class 'pandas.core.frame.DataFrame'>\n",
      "RangeIndex: 5782 entries, 0 to 5781\n",
      "Data columns (total 3 columns):\n",
      " #   Column             Non-Null Count  Dtype \n",
      "---  ------             --------------  ----- \n",
      " 0   movie              5782 non-null   object\n",
      " 1   production_budget  5782 non-null   object\n",
      " 2   worldwide_gross    5782 non-null   object\n",
      "dtypes: object(3)\n",
      "memory usage: 135.6+ KB\n"
     ]
    }
   ],
   "source": [
    "budgets_relevant.info()"
   ]
  },
  {
   "cell_type": "markdown",
   "metadata": {},
   "source": [
    "Looking at the dataframe's information confirmed that the values within the production_budget and worldwide_gross columns were stored as strings and required cleaning. Furthermore, we could see that there were no obvious nulls in the dataframe. However, looking at the values stored within the worldwide_gross column brought to light some null-esque values. Namely, movies with a worldwide gross revenue of $0. "
   ]
  },
  {
   "cell_type": "code",
   "execution_count": 6,
   "metadata": {},
   "outputs": [
    {
     "data": {
      "text/plain": [
       "$0              367\n",
       "$8,000,000        9\n",
       "$2,000,000        6\n",
       "$7,000,000        6\n",
       "$15,000,000       4\n",
       "               ... \n",
       "$4,584            1\n",
       "$19,929,123       1\n",
       "$22,921,898       1\n",
       "$38,028,230       1\n",
       "$182,291,969      1\n",
       "Name: worldwide_gross, Length: 5356, dtype: int64"
      ]
     },
     "execution_count": 6,
     "metadata": {},
     "output_type": "execute_result"
    }
   ],
   "source": [
    "budgets_relevant['worldwide_gross'].value_counts()"
   ]
  },
  {
   "cell_type": "markdown",
   "metadata": {},
   "source": [
    "There were some zeroes in this column, presumably because there was no available data on its gross revenue. Rather than removing these observations, we decided to replace them with the median once the column had been properly cleaned. \n",
    "\n",
    "From here, we moved on to locating duplicate values. "
   ]
  },
  {
   "cell_type": "code",
   "execution_count": 7,
   "metadata": {},
   "outputs": [
    {
     "data": {
      "text/plain": [
       "False    5782\n",
       "dtype: int64"
      ]
     },
     "execution_count": 7,
     "metadata": {},
     "output_type": "execute_result"
    }
   ],
   "source": [
    "budgets_relevant.duplicated().value_counts()"
   ]
  },
  {
   "cell_type": "markdown",
   "metadata": {},
   "source": [
    "There were no obvious duplicate rows. However, we realized that multiple movies could have the same title. This would pose an issue when we needed to join dataframes using movie titles as the mutual column. "
   ]
  },
  {
   "cell_type": "code",
   "execution_count": 8,
   "metadata": {},
   "outputs": [
    {
     "data": {
      "text/plain": [
       "Home                        3\n",
       "King Kong                   3\n",
       "Halloween                   3\n",
       "Night of the Living Dead    2\n",
       "RoboCop                     2\n",
       "                           ..\n",
       "Her                         1\n",
       "Paper Towns                 1\n",
       "Crimson Tide                1\n",
       "The Flintstones             1\n",
       "Lincoln                     1\n",
       "Name: movie, Length: 5698, dtype: int64"
      ]
     },
     "execution_count": 8,
     "metadata": {},
     "output_type": "execute_result"
    }
   ],
   "source": [
    "budgets_relevant['movie'].value_counts()"
   ]
  },
  {
   "cell_type": "markdown",
   "metadata": {},
   "source": [
    "First, we looked into how many duplicate titles there were and if it was worth it to persue a method of merging the dataframes on two columns."
   ]
  },
  {
   "cell_type": "code",
   "execution_count": 9,
   "metadata": {},
   "outputs": [
    {
     "data": {
      "text/html": [
       "<div>\n",
       "<style scoped>\n",
       "    .dataframe tbody tr th:only-of-type {\n",
       "        vertical-align: middle;\n",
       "    }\n",
       "\n",
       "    .dataframe tbody tr th {\n",
       "        vertical-align: top;\n",
       "    }\n",
       "\n",
       "    .dataframe thead th {\n",
       "        text-align: right;\n",
       "    }\n",
       "</style>\n",
       "<table border=\"1\" class=\"dataframe\">\n",
       "  <thead>\n",
       "    <tr style=\"text-align: right;\">\n",
       "      <th></th>\n",
       "      <th>index</th>\n",
       "      <th>movie</th>\n",
       "    </tr>\n",
       "  </thead>\n",
       "  <tbody>\n",
       "    <tr>\n",
       "      <th>0</th>\n",
       "      <td>Home</td>\n",
       "      <td>3</td>\n",
       "    </tr>\n",
       "    <tr>\n",
       "      <th>1</th>\n",
       "      <td>King Kong</td>\n",
       "      <td>3</td>\n",
       "    </tr>\n",
       "    <tr>\n",
       "      <th>2</th>\n",
       "      <td>Halloween</td>\n",
       "      <td>3</td>\n",
       "    </tr>\n",
       "    <tr>\n",
       "      <th>3</th>\n",
       "      <td>Night of the Living Dead</td>\n",
       "      <td>2</td>\n",
       "    </tr>\n",
       "    <tr>\n",
       "      <th>4</th>\n",
       "      <td>RoboCop</td>\n",
       "      <td>2</td>\n",
       "    </tr>\n",
       "    <tr>\n",
       "      <th>...</th>\n",
       "      <td>...</td>\n",
       "      <td>...</td>\n",
       "    </tr>\n",
       "    <tr>\n",
       "      <th>76</th>\n",
       "      <td>20,000 Leagues Under the Sea</td>\n",
       "      <td>2</td>\n",
       "    </tr>\n",
       "    <tr>\n",
       "      <th>77</th>\n",
       "      <td>The Gambler</td>\n",
       "      <td>2</td>\n",
       "    </tr>\n",
       "    <tr>\n",
       "      <th>78</th>\n",
       "      <td>The Love Letter</td>\n",
       "      <td>2</td>\n",
       "    </tr>\n",
       "    <tr>\n",
       "      <th>79</th>\n",
       "      <td>Lolita</td>\n",
       "      <td>2</td>\n",
       "    </tr>\n",
       "    <tr>\n",
       "      <th>80</th>\n",
       "      <td>Casino Royale</td>\n",
       "      <td>2</td>\n",
       "    </tr>\n",
       "  </tbody>\n",
       "</table>\n",
       "<p>81 rows × 2 columns</p>\n",
       "</div>"
      ],
      "text/plain": [
       "                           index  movie\n",
       "0                           Home      3\n",
       "1                      King Kong      3\n",
       "2                      Halloween      3\n",
       "3       Night of the Living Dead      2\n",
       "4                        RoboCop      2\n",
       "..                           ...    ...\n",
       "76  20,000 Leagues Under the Sea      2\n",
       "77                   The Gambler      2\n",
       "78               The Love Letter      2\n",
       "79                        Lolita      2\n",
       "80                 Casino Royale      2\n",
       "\n",
       "[81 rows x 2 columns]"
      ]
     },
     "execution_count": 9,
     "metadata": {},
     "output_type": "execute_result"
    }
   ],
   "source": [
    "def get_title_counts(data, col):\n",
    "    \n",
    "    # set the value counts as a dataframe\n",
    "    title_counts = pd.DataFrame(data[col].value_counts())\n",
    "    \n",
    "    # reset index so that we can easily access the titles\n",
    "    title_counts = title_counts.reset_index()\n",
    "    \n",
    "    # take a subset of the title counts dataframe for all titles that appear more than once\n",
    "    title_counts = title_counts.loc[ title_counts[col] > 1 ]\n",
    "                                    \n",
    "    # return this dataframe of title duplicates                                \n",
    "    return title_counts\n",
    "\n",
    "title_counts = get_title_counts(budgets_relevant, 'movie')\n",
    "title_counts"
   ]
  },
  {
   "cell_type": "markdown",
   "metadata": {},
   "source": [
    "81 rows out of a 5,000+ row dataset didn't seem substantial enough to justify the attempted mutli-column merge given the time contraints of the project. So, we decided to simply drop the duplicates."
   ]
  },
  {
   "cell_type": "code",
   "execution_count": 10,
   "metadata": {},
   "outputs": [
    {
     "name": "stderr",
     "output_type": "stream",
     "text": [
      "<ipython-input-10-de8f23511d27>:7: SettingWithCopyWarning: \n",
      "A value is trying to be set on a copy of a slice from a DataFrame.\n",
      "Try using .loc[row_indexer,col_indexer] = value instead\n",
      "\n",
      "See the caveats in the documentation: https://pandas.pydata.org/pandas-docs/stable/user_guide/indexing.html#returning-a-view-versus-a-copy\n",
      "  data['duplicate'] = data[col].map(lambda x: 1 if any([movie in x for movie in list(title_counts['index'])]) else 0)\n"
     ]
    },
    {
     "data": {
      "text/html": [
       "<div>\n",
       "<style scoped>\n",
       "    .dataframe tbody tr th:only-of-type {\n",
       "        vertical-align: middle;\n",
       "    }\n",
       "\n",
       "    .dataframe tbody tr th {\n",
       "        vertical-align: top;\n",
       "    }\n",
       "\n",
       "    .dataframe thead th {\n",
       "        text-align: right;\n",
       "    }\n",
       "</style>\n",
       "<table border=\"1\" class=\"dataframe\">\n",
       "  <thead>\n",
       "    <tr style=\"text-align: right;\">\n",
       "      <th></th>\n",
       "      <th>movie</th>\n",
       "      <th>production_budget</th>\n",
       "      <th>worldwide_gross</th>\n",
       "    </tr>\n",
       "  </thead>\n",
       "  <tbody>\n",
       "    <tr>\n",
       "      <th>0</th>\n",
       "      <td>Avatar</td>\n",
       "      <td>$425,000,000</td>\n",
       "      <td>$2,776,345,279</td>\n",
       "    </tr>\n",
       "    <tr>\n",
       "      <th>1</th>\n",
       "      <td>Pirates of the Caribbean: On Stranger Tides</td>\n",
       "      <td>$410,600,000</td>\n",
       "      <td>$1,045,663,875</td>\n",
       "    </tr>\n",
       "    <tr>\n",
       "      <th>2</th>\n",
       "      <td>Dark Phoenix</td>\n",
       "      <td>$350,000,000</td>\n",
       "      <td>$149,762,350</td>\n",
       "    </tr>\n",
       "    <tr>\n",
       "      <th>3</th>\n",
       "      <td>Avengers: Age of Ultron</td>\n",
       "      <td>$330,600,000</td>\n",
       "      <td>$1,403,013,963</td>\n",
       "    </tr>\n",
       "    <tr>\n",
       "      <th>4</th>\n",
       "      <td>Star Wars Ep. VIII: The Last Jedi</td>\n",
       "      <td>$317,000,000</td>\n",
       "      <td>$1,316,721,747</td>\n",
       "    </tr>\n",
       "    <tr>\n",
       "      <th>...</th>\n",
       "      <td>...</td>\n",
       "      <td>...</td>\n",
       "      <td>...</td>\n",
       "    </tr>\n",
       "    <tr>\n",
       "      <th>5777</th>\n",
       "      <td>Red 11</td>\n",
       "      <td>$7,000</td>\n",
       "      <td>$0</td>\n",
       "    </tr>\n",
       "    <tr>\n",
       "      <th>5778</th>\n",
       "      <td>Following</td>\n",
       "      <td>$6,000</td>\n",
       "      <td>$240,495</td>\n",
       "    </tr>\n",
       "    <tr>\n",
       "      <th>5779</th>\n",
       "      <td>Return to the Land of Wonders</td>\n",
       "      <td>$5,000</td>\n",
       "      <td>$1,338</td>\n",
       "    </tr>\n",
       "    <tr>\n",
       "      <th>5780</th>\n",
       "      <td>A Plague So Pleasant</td>\n",
       "      <td>$1,400</td>\n",
       "      <td>$0</td>\n",
       "    </tr>\n",
       "    <tr>\n",
       "      <th>5781</th>\n",
       "      <td>My Date With Drew</td>\n",
       "      <td>$1,100</td>\n",
       "      <td>$181,041</td>\n",
       "    </tr>\n",
       "  </tbody>\n",
       "</table>\n",
       "<p>5459 rows × 3 columns</p>\n",
       "</div>"
      ],
      "text/plain": [
       "                                            movie production_budget  \\\n",
       "0                                          Avatar      $425,000,000   \n",
       "1     Pirates of the Caribbean: On Stranger Tides      $410,600,000   \n",
       "2                                    Dark Phoenix      $350,000,000   \n",
       "3                         Avengers: Age of Ultron      $330,600,000   \n",
       "4               Star Wars Ep. VIII: The Last Jedi      $317,000,000   \n",
       "...                                           ...               ...   \n",
       "5777                                       Red 11            $7,000   \n",
       "5778                                    Following            $6,000   \n",
       "5779                Return to the Land of Wonders            $5,000   \n",
       "5780                         A Plague So Pleasant            $1,400   \n",
       "5781                            My Date With Drew            $1,100   \n",
       "\n",
       "     worldwide_gross  \n",
       "0     $2,776,345,279  \n",
       "1     $1,045,663,875  \n",
       "2       $149,762,350  \n",
       "3     $1,403,013,963  \n",
       "4     $1,316,721,747  \n",
       "...              ...  \n",
       "5777              $0  \n",
       "5778        $240,495  \n",
       "5779          $1,338  \n",
       "5780              $0  \n",
       "5781        $181,041  \n",
       "\n",
       "[5459 rows x 3 columns]"
      ]
     },
     "execution_count": 10,
     "metadata": {},
     "output_type": "execute_result"
    }
   ],
   "source": [
    "def remove_duplicate_titles(data, col):\n",
    "    \n",
    "    # get the dataframe for titles which appear more than once\n",
    "    title_counts = get_title_counts(data,col)\n",
    "    \n",
    "    # create a dichotomous column for which there is a 1 if the movie is a duplicate title\n",
    "    data['duplicate'] = data[col].map(lambda x: 1 if any([movie in x for movie in list(title_counts['index'])]) else 0)\n",
    "    \n",
    "    # take a subset of the dataframe of only non-duplicate titles\n",
    "    data = data.loc[ data['duplicate'] == 0]\n",
    "    \n",
    "    # initialize a list of columns to maintain\n",
    "    keepers = []\n",
    "    \n",
    "    # for each column in the dataframe\n",
    "    for col in data.columns:\n",
    "        # if it isn't the duplicate column\n",
    "        if col != \"duplicate\":\n",
    "            # add it to the list of columns to be maintained\n",
    "            keepers.append(col)\n",
    "    \n",
    "    # keep only the columns intended\n",
    "    data = data[keepers]\n",
    "        \n",
    "    return data\n",
    "\n",
    "budgets_relevant = remove_duplicate_titles(budgets_relevant, 'movie')\n",
    "budgets_relevant"
   ]
  },
  {
   "cell_type": "markdown",
   "metadata": {},
   "source": [
    "After checking for nulls and duplicates, we got started cleaning the budget and gross revenue columns so that we could eventually use them to calculate profit. "
   ]
  },
  {
   "cell_type": "code",
   "execution_count": 11,
   "metadata": {},
   "outputs": [
    {
     "data": {
      "text/html": [
       "<div>\n",
       "<style scoped>\n",
       "    .dataframe tbody tr th:only-of-type {\n",
       "        vertical-align: middle;\n",
       "    }\n",
       "\n",
       "    .dataframe tbody tr th {\n",
       "        vertical-align: top;\n",
       "    }\n",
       "\n",
       "    .dataframe thead th {\n",
       "        text-align: right;\n",
       "    }\n",
       "</style>\n",
       "<table border=\"1\" class=\"dataframe\">\n",
       "  <thead>\n",
       "    <tr style=\"text-align: right;\">\n",
       "      <th></th>\n",
       "      <th>movie</th>\n",
       "      <th>production_budget</th>\n",
       "      <th>worldwide_gross</th>\n",
       "    </tr>\n",
       "  </thead>\n",
       "  <tbody>\n",
       "    <tr>\n",
       "      <th>0</th>\n",
       "      <td>Avatar</td>\n",
       "      <td>425000000</td>\n",
       "      <td>2776345279</td>\n",
       "    </tr>\n",
       "    <tr>\n",
       "      <th>1</th>\n",
       "      <td>Pirates of the Caribbean: On Stranger Tides</td>\n",
       "      <td>410600000</td>\n",
       "      <td>1045663875</td>\n",
       "    </tr>\n",
       "    <tr>\n",
       "      <th>2</th>\n",
       "      <td>Dark Phoenix</td>\n",
       "      <td>350000000</td>\n",
       "      <td>149762350</td>\n",
       "    </tr>\n",
       "    <tr>\n",
       "      <th>3</th>\n",
       "      <td>Avengers: Age of Ultron</td>\n",
       "      <td>330600000</td>\n",
       "      <td>1403013963</td>\n",
       "    </tr>\n",
       "    <tr>\n",
       "      <th>4</th>\n",
       "      <td>Star Wars Ep. VIII: The Last Jedi</td>\n",
       "      <td>317000000</td>\n",
       "      <td>1316721747</td>\n",
       "    </tr>\n",
       "  </tbody>\n",
       "</table>\n",
       "</div>"
      ],
      "text/plain": [
       "                                         movie  production_budget  \\\n",
       "0                                       Avatar          425000000   \n",
       "1  Pirates of the Caribbean: On Stranger Tides          410600000   \n",
       "2                                 Dark Phoenix          350000000   \n",
       "3                      Avengers: Age of Ultron          330600000   \n",
       "4            Star Wars Ep. VIII: The Last Jedi          317000000   \n",
       "\n",
       "   worldwide_gross  \n",
       "0       2776345279  \n",
       "1       1045663875  \n",
       "2        149762350  \n",
       "3       1403013963  \n",
       "4       1316721747  "
      ]
     },
     "execution_count": 11,
     "metadata": {},
     "output_type": "execute_result"
    }
   ],
   "source": [
    "def dollar_to_numeric(column):\n",
    "    # removing $ and , from string\n",
    "    column = column.str.replace(\",\",\"\")\n",
    "    column = column.str.replace(\"$\",\"\")\n",
    "\n",
    "    # casting the values as integers\n",
    "    column = pd.to_numeric(column)\n",
    "    \n",
    "    return column\n",
    "\n",
    "budgets_relevant['worldwide_gross'] = dollar_to_numeric(budgets_relevant['worldwide_gross'])\n",
    "budgets_relevant['production_budget'] = dollar_to_numeric(budgets_relevant['production_budget'])\n",
    "\n",
    "budgets_relevant.head()"
   ]
  },
  {
   "cell_type": "markdown",
   "metadata": {},
   "source": [
    "After successfully casting the data as integers, we looked at the descriptive statistics for any obvious issues."
   ]
  },
  {
   "cell_type": "code",
   "execution_count": 12,
   "metadata": {},
   "outputs": [
    {
     "data": {
      "text/plain": [
       "count    5.459000e+03\n",
       "mean     3.112546e+07\n",
       "std      4.134343e+07\n",
       "min      1.100000e+03\n",
       "25%      5.000000e+06\n",
       "50%      1.700000e+07\n",
       "75%      4.000000e+07\n",
       "max      4.250000e+08\n",
       "Name: production_budget, dtype: float64"
      ]
     },
     "execution_count": 12,
     "metadata": {},
     "output_type": "execute_result"
    }
   ],
   "source": [
    "budgets_relevant['production_budget'].describe()"
   ]
  },
  {
   "cell_type": "code",
   "execution_count": 13,
   "metadata": {},
   "outputs": [
    {
     "data": {
      "text/plain": [
       "count    5.459000e+03\n",
       "mean     8.940551e+07\n",
       "std      1.721636e+08\n",
       "min      0.000000e+00\n",
       "25%      3.808364e+06\n",
       "50%      2.709288e+07\n",
       "75%      9.655151e+07\n",
       "max      2.776345e+09\n",
       "Name: worldwide_gross, dtype: float64"
      ]
     },
     "execution_count": 13,
     "metadata": {},
     "output_type": "execute_result"
    }
   ],
   "source": [
    "budgets_relevant['worldwide_gross'].describe()"
   ]
  },
  {
   "cell_type": "markdown",
   "metadata": {},
   "source": [
    "There are some zeroes in the gross revenue dataset. Since this is unlikely, and more likely meant to be null, we looked to see how many rows this is the case for."
   ]
  },
  {
   "cell_type": "code",
   "execution_count": 14,
   "metadata": {},
   "outputs": [
    {
     "data": {
      "text/plain": [
       "0            355\n",
       "8000000        7\n",
       "7000000        6\n",
       "2000000        6\n",
       "4000000        4\n",
       "            ... \n",
       "58545540       1\n",
       "92618117       1\n",
       "834953         1\n",
       "190453132      1\n",
       "310946         1\n",
       "Name: worldwide_gross, Length: 5054, dtype: int64"
      ]
     },
     "execution_count": 14,
     "metadata": {},
     "output_type": "execute_result"
    }
   ],
   "source": [
    "budgets_relevant['worldwide_gross'].value_counts()"
   ]
  },
  {
   "cell_type": "markdown",
   "metadata": {},
   "source": [
    "Since this is a pretty substantial number of movies, but not a significant proportion of the dataset, we decided to impute these values with the median profit. The decision was made to use the median rather than the mean because of its resiliency against extreme outliers."
   ]
  },
  {
   "cell_type": "code",
   "execution_count": 15,
   "metadata": {},
   "outputs": [
    {
     "data": {
      "text/plain": [
       "count    5.459000e+03\n",
       "mean     9.116737e+07\n",
       "std      1.713763e+08\n",
       "min      2.600000e+01\n",
       "25%      7.833752e+06\n",
       "50%      2.709288e+07\n",
       "75%      9.655151e+07\n",
       "max      2.776345e+09\n",
       "Name: worldwide_gross, dtype: float64"
      ]
     },
     "execution_count": 15,
     "metadata": {},
     "output_type": "execute_result"
    }
   ],
   "source": [
    "median_gross = budgets_relevant['worldwide_gross'].median()\n",
    "budgets_relevant['worldwide_gross'] = budgets_relevant['worldwide_gross'].replace(0,median_gross)\n",
    "budgets_relevant['worldwide_gross'].describe()"
   ]
  },
  {
   "cell_type": "markdown",
   "metadata": {},
   "source": [
    "Now that we had two clean revenue and cost columns to work with, we used this information to create a new column in the dataframe for the calculated profit. "
   ]
  },
  {
   "cell_type": "code",
   "execution_count": 16,
   "metadata": {},
   "outputs": [
    {
     "data": {
      "text/plain": [
       "count    5.459000e+03\n",
       "mean     6.004190e+07\n",
       "std      1.431806e+08\n",
       "min     -2.002376e+08\n",
       "25%     -1.394899e+06\n",
       "50%      1.415149e+07\n",
       "75%      5.964086e+07\n",
       "max      2.351345e+09\n",
       "Name: total_profit, dtype: float64"
      ]
     },
     "execution_count": 16,
     "metadata": {},
     "output_type": "execute_result"
    }
   ],
   "source": [
    "# calculating total profit\n",
    "budgets_relevant['total_profit'] =  budgets_relevant['worldwide_gross'] - budgets_relevant['production_budget']\n",
    "\n",
    "budgets_relevant = budgets_relevant[['movie','total_profit']]\n",
    "\n",
    "# confirmation\n",
    "budgets_relevant['total_profit'].describe()"
   ]
  },
  {
   "cell_type": "markdown",
   "metadata": {},
   "source": [
    "Next, we decided to visualize the distribution of profit since this is our dependent variable."
   ]
  },
  {
   "cell_type": "code",
   "execution_count": 17,
   "metadata": {},
   "outputs": [
    {
     "data": {
      "image/png": "[encoded data removed]",
      "text/plain": [
       "<Figure size 432x288 with 1 Axes>"
      ]
     },
     "metadata": {
      "needs_background": "light"
     },
     "output_type": "display_data"
    }
   ],
   "source": [
    "import matplotlib.pyplot as plt\n",
    "%matplotlib inline\n",
    "\n",
    "fig, ax = plt.subplots()\n",
    "ax.boxplot(budgets_relevant['total_profit'])\n",
    "ax.set_title(\"Distribution of Profit\")\n",
    "ax.set_ylabel(\"Profit in Ten Billion USD\");"
   ]
  },
  {
   "cell_type": "markdown",
   "metadata": {},
   "source": [
    "It was evident that there were some extremely profitable (and extremely unprofitable) movies that may influence the results of our analysis. Because of the presense of extremes, we decided to remove any movies with profits outside of the interquartile range.\n",
    "\n",
    "Resource used: https://www.statology.org/remove-outliers-python/"
   ]
  },
  {
   "cell_type": "code",
   "execution_count": 18,
   "metadata": {},
   "outputs": [
    {
     "data": {
      "image/png": "[encoded data removed]",
      "text/plain": [
       "<Figure size 432x288 with 1 Axes>"
      ]
     },
     "metadata": {
      "needs_background": "light"
     },
     "output_type": "display_data"
    }
   ],
   "source": [
    "from scipy import stats\n",
    "\n",
    "# find Q1, Q3, and interquartile range for each column\n",
    "Q1 = budgets_relevant['total_profit'].quantile(q=.25)\n",
    "Q3 = budgets_relevant['total_profit'].quantile(q=.75)\n",
    "IQR = budgets_relevant['total_profit'].apply(stats.iqr)\n",
    "\n",
    "budgets_relevant = budgets_relevant.loc[~((budgets_relevant['total_profit'] < (Q1-1.5*IQR)) | (budgets_relevant['total_profit'] > (Q3+1.5*IQR)))]\n",
    "\n",
    "fig, ax = plt.subplots()\n",
    "ax.boxplot(budgets_relevant['total_profit'])\n",
    "ax.set_title(\"Distribution of Profit\")\n",
    "ax.set_ylabel(\"Profit in Hundred Million USD\");\n"
   ]
  },
  {
   "cell_type": "markdown",
   "metadata": {},
   "source": [
    "Knowing that we would eventually have to merge this dataframe with the TMDB dataframe, we also set the index to the column on which we wanted to merge (the movie title). "
   ]
  },
  {
   "cell_type": "code",
   "execution_count": 19,
   "metadata": {},
   "outputs": [
    {
     "data": {
      "text/html": [
       "<div>\n",
       "<style scoped>\n",
       "    .dataframe tbody tr th:only-of-type {\n",
       "        vertical-align: middle;\n",
       "    }\n",
       "\n",
       "    .dataframe tbody tr th {\n",
       "        vertical-align: top;\n",
       "    }\n",
       "\n",
       "    .dataframe thead th {\n",
       "        text-align: right;\n",
       "    }\n",
       "</style>\n",
       "<table border=\"1\" class=\"dataframe\">\n",
       "  <thead>\n",
       "    <tr style=\"text-align: right;\">\n",
       "      <th></th>\n",
       "      <th>total_profit</th>\n",
       "    </tr>\n",
       "    <tr>\n",
       "      <th>movie</th>\n",
       "      <th></th>\n",
       "    </tr>\n",
       "  </thead>\n",
       "  <tbody>\n",
       "    <tr>\n",
       "      <th>John Carter</th>\n",
       "      <td>7778100</td>\n",
       "    </tr>\n",
       "    <tr>\n",
       "      <th>Green Lantern</th>\n",
       "      <td>19535492</td>\n",
       "    </tr>\n",
       "    <tr>\n",
       "      <th>Jack the Giant Slayer</th>\n",
       "      <td>2687603</td>\n",
       "    </tr>\n",
       "    <tr>\n",
       "      <th>Hugo</th>\n",
       "      <td>47784</td>\n",
       "    </tr>\n",
       "    <tr>\n",
       "      <th>Valerian and the City of a Thousand Planets</th>\n",
       "      <td>35098356</td>\n",
       "    </tr>\n",
       "  </tbody>\n",
       "</table>\n",
       "</div>"
      ],
      "text/plain": [
       "                                             total_profit\n",
       "movie                                                    \n",
       "John Carter                                       7778100\n",
       "Green Lantern                                    19535492\n",
       "Jack the Giant Slayer                             2687603\n",
       "Hugo                                                47784\n",
       "Valerian and the City of a Thousand Planets      35098356"
      ]
     },
     "execution_count": 19,
     "metadata": {},
     "output_type": "execute_result"
    }
   ],
   "source": [
    "budgets_relevant.set_index('movie', inplace = True)\n",
    "budgets_relevant.head()"
   ]
  },
  {
   "cell_type": "markdown",
   "metadata": {},
   "source": [
    "With this dataframe cleaned, we moved on to the TMDB dataframe. "
   ]
  },
  {
   "cell_type": "markdown",
   "metadata": {},
   "source": [
    "##### TMDB Dataframe\n",
    "\n",
    "Just like the first dataframe, we began by looking at the first few rows to get an idea of the columns, datatypes, and areas which may require preprocessing/cleaning. "
   ]
  },
  {
   "cell_type": "code",
   "execution_count": 20,
   "metadata": {},
   "outputs": [
    {
     "data": {
      "text/html": [
       "<div>\n",
       "<style scoped>\n",
       "    .dataframe tbody tr th:only-of-type {\n",
       "        vertical-align: middle;\n",
       "    }\n",
       "\n",
       "    .dataframe tbody tr th {\n",
       "        vertical-align: top;\n",
       "    }\n",
       "\n",
       "    .dataframe thead th {\n",
       "        text-align: right;\n",
       "    }\n",
       "</style>\n",
       "<table border=\"1\" class=\"dataframe\">\n",
       "  <thead>\n",
       "    <tr style=\"text-align: right;\">\n",
       "      <th></th>\n",
       "      <th>genre_ids</th>\n",
       "      <th>id</th>\n",
       "      <th>original_language</th>\n",
       "      <th>original_title</th>\n",
       "      <th>popularity</th>\n",
       "      <th>release_date</th>\n",
       "      <th>title</th>\n",
       "      <th>vote_average</th>\n",
       "      <th>vote_count</th>\n",
       "    </tr>\n",
       "  </thead>\n",
       "  <tbody>\n",
       "    <tr>\n",
       "      <th>0</th>\n",
       "      <td>[12, 14, 10751]</td>\n",
       "      <td>12444</td>\n",
       "      <td>en</td>\n",
       "      <td>Harry Potter and the Deathly Hallows: Part 1</td>\n",
       "      <td>33.533</td>\n",
       "      <td>2010-11-19</td>\n",
       "      <td>Harry Potter and the Deathly Hallows: Part 1</td>\n",
       "      <td>7.7</td>\n",
       "      <td>10788</td>\n",
       "    </tr>\n",
       "    <tr>\n",
       "      <th>1</th>\n",
       "      <td>[14, 12, 16, 10751]</td>\n",
       "      <td>10191</td>\n",
       "      <td>en</td>\n",
       "      <td>How to Train Your Dragon</td>\n",
       "      <td>28.734</td>\n",
       "      <td>2010-03-26</td>\n",
       "      <td>How to Train Your Dragon</td>\n",
       "      <td>7.7</td>\n",
       "      <td>7610</td>\n",
       "    </tr>\n",
       "    <tr>\n",
       "      <th>2</th>\n",
       "      <td>[12, 28, 878]</td>\n",
       "      <td>10138</td>\n",
       "      <td>en</td>\n",
       "      <td>Iron Man 2</td>\n",
       "      <td>28.515</td>\n",
       "      <td>2010-05-07</td>\n",
       "      <td>Iron Man 2</td>\n",
       "      <td>6.8</td>\n",
       "      <td>12368</td>\n",
       "    </tr>\n",
       "    <tr>\n",
       "      <th>3</th>\n",
       "      <td>[16, 35, 10751]</td>\n",
       "      <td>862</td>\n",
       "      <td>en</td>\n",
       "      <td>Toy Story</td>\n",
       "      <td>28.005</td>\n",
       "      <td>1995-11-22</td>\n",
       "      <td>Toy Story</td>\n",
       "      <td>7.9</td>\n",
       "      <td>10174</td>\n",
       "    </tr>\n",
       "    <tr>\n",
       "      <th>4</th>\n",
       "      <td>[28, 878, 12]</td>\n",
       "      <td>27205</td>\n",
       "      <td>en</td>\n",
       "      <td>Inception</td>\n",
       "      <td>27.920</td>\n",
       "      <td>2010-07-16</td>\n",
       "      <td>Inception</td>\n",
       "      <td>8.3</td>\n",
       "      <td>22186</td>\n",
       "    </tr>\n",
       "  </tbody>\n",
       "</table>\n",
       "</div>"
      ],
      "text/plain": [
       "             genre_ids     id original_language  \\\n",
       "0      [12, 14, 10751]  12444                en   \n",
       "1  [14, 12, 16, 10751]  10191                en   \n",
       "2        [12, 28, 878]  10138                en   \n",
       "3      [16, 35, 10751]    862                en   \n",
       "4        [28, 878, 12]  27205                en   \n",
       "\n",
       "                                 original_title  popularity release_date  \\\n",
       "0  Harry Potter and the Deathly Hallows: Part 1      33.533   2010-11-19   \n",
       "1                      How to Train Your Dragon      28.734   2010-03-26   \n",
       "2                                    Iron Man 2      28.515   2010-05-07   \n",
       "3                                     Toy Story      28.005   1995-11-22   \n",
       "4                                     Inception      27.920   2010-07-16   \n",
       "\n",
       "                                          title  vote_average  vote_count  \n",
       "0  Harry Potter and the Deathly Hallows: Part 1           7.7       10788  \n",
       "1                      How to Train Your Dragon           7.7        7610  \n",
       "2                                    Iron Man 2           6.8       12368  \n",
       "3                                     Toy Story           7.9       10174  \n",
       "4                                     Inception           8.3       22186  "
      ]
     },
     "execution_count": 20,
     "metadata": {},
     "output_type": "execute_result"
    }
   ],
   "source": [
    "tmdb.head()"
   ]
  },
  {
   "cell_type": "markdown",
   "metadata": {},
   "source": [
    "From this dataframe, we noted that we only needed the following columns:\n",
    "- Title (for merging)\n",
    "- Genre_ids\n",
    "\n",
    "We started with dropping the irrelevant columns."
   ]
  },
  {
   "cell_type": "code",
   "execution_count": 21,
   "metadata": {},
   "outputs": [
    {
     "data": {
      "text/html": [
       "<div>\n",
       "<style scoped>\n",
       "    .dataframe tbody tr th:only-of-type {\n",
       "        vertical-align: middle;\n",
       "    }\n",
       "\n",
       "    .dataframe tbody tr th {\n",
       "        vertical-align: top;\n",
       "    }\n",
       "\n",
       "    .dataframe thead th {\n",
       "        text-align: right;\n",
       "    }\n",
       "</style>\n",
       "<table border=\"1\" class=\"dataframe\">\n",
       "  <thead>\n",
       "    <tr style=\"text-align: right;\">\n",
       "      <th></th>\n",
       "      <th>title</th>\n",
       "      <th>genre_ids</th>\n",
       "    </tr>\n",
       "  </thead>\n",
       "  <tbody>\n",
       "    <tr>\n",
       "      <th>0</th>\n",
       "      <td>Harry Potter and the Deathly Hallows: Part 1</td>\n",
       "      <td>[12, 14, 10751]</td>\n",
       "    </tr>\n",
       "    <tr>\n",
       "      <th>1</th>\n",
       "      <td>How to Train Your Dragon</td>\n",
       "      <td>[14, 12, 16, 10751]</td>\n",
       "    </tr>\n",
       "    <tr>\n",
       "      <th>2</th>\n",
       "      <td>Iron Man 2</td>\n",
       "      <td>[12, 28, 878]</td>\n",
       "    </tr>\n",
       "    <tr>\n",
       "      <th>3</th>\n",
       "      <td>Toy Story</td>\n",
       "      <td>[16, 35, 10751]</td>\n",
       "    </tr>\n",
       "    <tr>\n",
       "      <th>4</th>\n",
       "      <td>Inception</td>\n",
       "      <td>[28, 878, 12]</td>\n",
       "    </tr>\n",
       "  </tbody>\n",
       "</table>\n",
       "</div>"
      ],
      "text/plain": [
       "                                          title            genre_ids\n",
       "0  Harry Potter and the Deathly Hallows: Part 1      [12, 14, 10751]\n",
       "1                      How to Train Your Dragon  [14, 12, 16, 10751]\n",
       "2                                    Iron Man 2        [12, 28, 878]\n",
       "3                                     Toy Story      [16, 35, 10751]\n",
       "4                                     Inception        [28, 878, 12]"
      ]
     },
     "execution_count": 21,
     "metadata": {},
     "output_type": "execute_result"
    }
   ],
   "source": [
    "cols_to_keep = ['title','genre_ids']\n",
    "tmdb_relevant = tmdb[cols_to_keep]\n",
    "tmdb_relevant.head()"
   ]
  },
  {
   "cell_type": "markdown",
   "metadata": {},
   "source": [
    "We noted that the genre_ids column appeared to contain lists of multiple ids associated with specific genres. We needed to clean this column and replace these numbers with their associated genre. However, we decided to wait to replace these values until after the dummy columns were created because it would be easier to rename a small number of columns than replace multiple numbers in every cell with its associated genre. \n",
    "\n",
    "So for now, we moved on to locating null values and duplicates."
   ]
  },
  {
   "cell_type": "code",
   "execution_count": 22,
   "metadata": {},
   "outputs": [
    {
     "name": "stdout",
     "output_type": "stream",
     "text": [
      "<class 'pandas.core.frame.DataFrame'>\n",
      "Int64Index: 26517 entries, 0 to 26516\n",
      "Data columns (total 2 columns):\n",
      " #   Column     Non-Null Count  Dtype \n",
      "---  ------     --------------  ----- \n",
      " 0   title      26517 non-null  object\n",
      " 1   genre_ids  26517 non-null  object\n",
      "dtypes: object(2)\n",
      "memory usage: 621.5+ KB\n"
     ]
    }
   ],
   "source": [
    "tmdb_relevant.info()"
   ]
  },
  {
   "cell_type": "markdown",
   "metadata": {},
   "source": [
    "There didn't appear to be any null values in the dataset."
   ]
  },
  {
   "cell_type": "code",
   "execution_count": 23,
   "metadata": {},
   "outputs": [
    {
     "data": {
      "text/plain": [
       "False    25429\n",
       "True      1088\n",
       "dtype: int64"
      ]
     },
     "execution_count": 23,
     "metadata": {},
     "output_type": "execute_result"
    }
   ],
   "source": [
    "tmdb_relevant.duplicated().value_counts()"
   ]
  },
  {
   "cell_type": "markdown",
   "metadata": {},
   "source": [
    "There were, however, some duplicate movies which we needed to drop."
   ]
  },
  {
   "cell_type": "code",
   "execution_count": 24,
   "metadata": {},
   "outputs": [],
   "source": [
    "tmdb_relevant = tmdb_relevant.drop_duplicates()"
   ]
  },
  {
   "cell_type": "code",
   "execution_count": 25,
   "metadata": {},
   "outputs": [
    {
     "data": {
      "text/plain": [
       "False    25429\n",
       "dtype: int64"
      ]
     },
     "execution_count": 25,
     "metadata": {},
     "output_type": "execute_result"
    }
   ],
   "source": [
    "tmdb_relevant.duplicated().value_counts()"
   ]
  },
  {
   "cell_type": "markdown",
   "metadata": {},
   "source": [
    "There were also more duplicate titles to remove. We handled these the same as we did in the budgets dataframe. "
   ]
  },
  {
   "cell_type": "code",
   "execution_count": 26,
   "metadata": {},
   "outputs": [
    {
     "data": {
      "text/plain": [
       "Home             6\n",
       "Lucky            5\n",
       "Aftermath        5\n",
       "The Gift         5\n",
       "Truth            4\n",
       "                ..\n",
       "So Undercover    1\n",
       "Pompeii          1\n",
       "Short Term 12    1\n",
       "Foxcatcher       1\n",
       "Uwharrie         1\n",
       "Name: title, Length: 24688, dtype: int64"
      ]
     },
     "execution_count": 26,
     "metadata": {},
     "output_type": "execute_result"
    }
   ],
   "source": [
    "tmdb_relevant['title'].value_counts()"
   ]
  },
  {
   "cell_type": "code",
   "execution_count": 27,
   "metadata": {},
   "outputs": [
    {
     "data": {
      "text/plain": [
       "It's a Disaster                     1\n",
       "The Final Straw                     1\n",
       "The Olive Tree                      1\n",
       "Dancer and the Dame                 1\n",
       "Pelada                              1\n",
       "                                   ..\n",
       "My Super Psycho Sweet 16: Part 2    1\n",
       "Texas Killing Fields                1\n",
       "Knuckleball                         1\n",
       "LelleBelle                          1\n",
       "Uwharrie                            1\n",
       "Name: title, Length: 17714, dtype: int64"
      ]
     },
     "execution_count": 27,
     "metadata": {},
     "output_type": "execute_result"
    }
   ],
   "source": [
    "tmdb_relevant = remove_duplicate_titles(tmdb_relevant,'title')\n",
    "tmdb_relevant['title'].value_counts()"
   ]
  },
  {
   "cell_type": "markdown",
   "metadata": {},
   "source": [
    "After dropping these duplicate values, we set the movie titles as in the index in preparation for merging these two dataframes."
   ]
  },
  {
   "cell_type": "code",
   "execution_count": 28,
   "metadata": {},
   "outputs": [
    {
     "data": {
      "text/html": [
       "<div>\n",
       "<style scoped>\n",
       "    .dataframe tbody tr th:only-of-type {\n",
       "        vertical-align: middle;\n",
       "    }\n",
       "\n",
       "    .dataframe tbody tr th {\n",
       "        vertical-align: top;\n",
       "    }\n",
       "\n",
       "    .dataframe thead th {\n",
       "        text-align: right;\n",
       "    }\n",
       "</style>\n",
       "<table border=\"1\" class=\"dataframe\">\n",
       "  <thead>\n",
       "    <tr style=\"text-align: right;\">\n",
       "      <th></th>\n",
       "      <th>genre_ids</th>\n",
       "    </tr>\n",
       "    <tr>\n",
       "      <th>title</th>\n",
       "      <th></th>\n",
       "    </tr>\n",
       "  </thead>\n",
       "  <tbody>\n",
       "    <tr>\n",
       "      <th>How to Train Your Dragon</th>\n",
       "      <td>[14, 12, 16, 10751]</td>\n",
       "    </tr>\n",
       "    <tr>\n",
       "      <th>Iron Man 2</th>\n",
       "      <td>[12, 28, 878]</td>\n",
       "    </tr>\n",
       "    <tr>\n",
       "      <th>Toy Story</th>\n",
       "      <td>[16, 35, 10751]</td>\n",
       "    </tr>\n",
       "    <tr>\n",
       "      <th>Inception</th>\n",
       "      <td>[28, 878, 12]</td>\n",
       "    </tr>\n",
       "    <tr>\n",
       "      <th>Percy Jackson &amp; the Olympians: The Lightning Thief</th>\n",
       "      <td>[12, 14, 10751]</td>\n",
       "    </tr>\n",
       "    <tr>\n",
       "      <th>...</th>\n",
       "      <td>...</td>\n",
       "    </tr>\n",
       "    <tr>\n",
       "      <th>Laboratory Conditions</th>\n",
       "      <td>[27, 18]</td>\n",
       "    </tr>\n",
       "    <tr>\n",
       "      <th>_EXHIBIT_84xxx_</th>\n",
       "      <td>[18, 53]</td>\n",
       "    </tr>\n",
       "    <tr>\n",
       "      <th>The Last One</th>\n",
       "      <td>[14, 28, 12]</td>\n",
       "    </tr>\n",
       "    <tr>\n",
       "      <th>Trailer Made</th>\n",
       "      <td>[10751, 12, 28]</td>\n",
       "    </tr>\n",
       "    <tr>\n",
       "      <th>The Church</th>\n",
       "      <td>[53, 27]</td>\n",
       "    </tr>\n",
       "  </tbody>\n",
       "</table>\n",
       "<p>17714 rows × 1 columns</p>\n",
       "</div>"
      ],
      "text/plain": [
       "                                                              genre_ids\n",
       "title                                                                  \n",
       "How to Train Your Dragon                            [14, 12, 16, 10751]\n",
       "Iron Man 2                                                [12, 28, 878]\n",
       "Toy Story                                               [16, 35, 10751]\n",
       "Inception                                                 [28, 878, 12]\n",
       "Percy Jackson & the Olympians: The Lightning Thief      [12, 14, 10751]\n",
       "...                                                                 ...\n",
       "Laboratory Conditions                                          [27, 18]\n",
       "_EXHIBIT_84xxx_                                                [18, 53]\n",
       "The Last One                                               [14, 28, 12]\n",
       "Trailer Made                                            [10751, 12, 28]\n",
       "The Church                                                     [53, 27]\n",
       "\n",
       "[17714 rows x 1 columns]"
      ]
     },
     "execution_count": 28,
     "metadata": {},
     "output_type": "execute_result"
    }
   ],
   "source": [
    "tmdb_relevant = tmdb_relevant.set_index('title')\n",
    "tmdb_relevant"
   ]
  },
  {
   "cell_type": "markdown",
   "metadata": {},
   "source": [
    "#### Merging the Dataframes"
   ]
  },
  {
   "cell_type": "code",
   "execution_count": 29,
   "metadata": {},
   "outputs": [
    {
     "name": "stdout",
     "output_type": "stream",
     "text": [
      "<class 'pandas.core.frame.DataFrame'>\n",
      "Index: 656 entries, John Carter to Newlyweds\n",
      "Data columns (total 2 columns):\n",
      " #   Column        Non-Null Count  Dtype \n",
      "---  ------        --------------  ----- \n",
      " 0   total_profit  656 non-null    int64 \n",
      " 1   genre_ids     656 non-null    object\n",
      "dtypes: int64(1), object(1)\n",
      "memory usage: 15.4+ KB\n"
     ]
    }
   ],
   "source": [
    "budgets_and_tmdb = budgets_relevant.join(tmdb_relevant, how='inner')\n",
    "budgets_and_tmdb.info()"
   ]
  },
  {
   "cell_type": "markdown",
   "metadata": {},
   "source": [
    "After merging the dataframes, we were left with a much smaller dataframe than either of the parent datasets. This, however, was expected given there was no gaurantee that the datasets would overlap in their contents significantly nor was there a gaurantee that there would not be any spelling errors in the titles that would prevent a successful join for at least some rows. Given the timeframe of this project, we decided to proceed with the knowledge that 656 movies can still provide some useful insights."
   ]
  },
  {
   "cell_type": "markdown",
   "metadata": {},
   "source": [
    "#### Creating Dummy Columns for the Appropriate Genre\n",
    "\n",
    "The genre_ids column is made up of strings. This means that we needed to remove any string characters and isolate each genre id before making dummy columns. We needed to accomplish the following:\n",
    "1. Remove brackets and whitespace\n",
    "2. Split by commas\n",
    "3. Create a new dataframe with genres as columns and cells containing binary values, with 1 indicating a relevant genre for that movie. \n",
    "\n",
    "For this section, we utilized this resource to create our dummy columns: https://stackoverflow.com/questions/29034928/pandas-convert-a-column-of-list-to-dummies"
   ]
  },
  {
   "cell_type": "code",
   "execution_count": 30,
   "metadata": {
    "scrolled": true
   },
   "outputs": [
    {
     "data": {
      "text/html": [
       "<div>\n",
       "<style scoped>\n",
       "    .dataframe tbody tr th:only-of-type {\n",
       "        vertical-align: middle;\n",
       "    }\n",
       "\n",
       "    .dataframe tbody tr th {\n",
       "        vertical-align: top;\n",
       "    }\n",
       "\n",
       "    .dataframe thead th {\n",
       "        text-align: right;\n",
       "    }\n",
       "</style>\n",
       "<table border=\"1\" class=\"dataframe\">\n",
       "  <thead>\n",
       "    <tr style=\"text-align: right;\">\n",
       "      <th></th>\n",
       "      <th>total_profit</th>\n",
       "      <th>genre_ids</th>\n",
       "      <th></th>\n",
       "      <th>Music</th>\n",
       "      <th>Romance</th>\n",
       "      <th>Family</th>\n",
       "      <th>War</th>\n",
       "      <th>TV</th>\n",
       "      <th>Adventure</th>\n",
       "      <th>Fantasy</th>\n",
       "      <th>...</th>\n",
       "      <th>Horror</th>\n",
       "      <th>Action</th>\n",
       "      <th>Comedy</th>\n",
       "      <th>History</th>\n",
       "      <th>Western</th>\n",
       "      <th>Thriller</th>\n",
       "      <th>Crime</th>\n",
       "      <th>SciFi</th>\n",
       "      <th>Mystery</th>\n",
       "      <th>Documentary</th>\n",
       "    </tr>\n",
       "  </thead>\n",
       "  <tbody>\n",
       "    <tr>\n",
       "      <th>John Carter</th>\n",
       "      <td>7778100</td>\n",
       "      <td>28,12,878</td>\n",
       "      <td>0</td>\n",
       "      <td>0</td>\n",
       "      <td>0</td>\n",
       "      <td>0</td>\n",
       "      <td>0</td>\n",
       "      <td>0</td>\n",
       "      <td>1</td>\n",
       "      <td>0</td>\n",
       "      <td>...</td>\n",
       "      <td>0</td>\n",
       "      <td>1</td>\n",
       "      <td>0</td>\n",
       "      <td>0</td>\n",
       "      <td>0</td>\n",
       "      <td>0</td>\n",
       "      <td>0</td>\n",
       "      <td>1</td>\n",
       "      <td>0</td>\n",
       "      <td>0</td>\n",
       "    </tr>\n",
       "    <tr>\n",
       "      <th>Green Lantern</th>\n",
       "      <td>19535492</td>\n",
       "      <td>12,28,53,878</td>\n",
       "      <td>0</td>\n",
       "      <td>0</td>\n",
       "      <td>0</td>\n",
       "      <td>0</td>\n",
       "      <td>0</td>\n",
       "      <td>0</td>\n",
       "      <td>1</td>\n",
       "      <td>0</td>\n",
       "      <td>...</td>\n",
       "      <td>0</td>\n",
       "      <td>1</td>\n",
       "      <td>0</td>\n",
       "      <td>0</td>\n",
       "      <td>0</td>\n",
       "      <td>1</td>\n",
       "      <td>0</td>\n",
       "      <td>1</td>\n",
       "      <td>0</td>\n",
       "      <td>0</td>\n",
       "    </tr>\n",
       "    <tr>\n",
       "      <th>Jack the Giant Slayer</th>\n",
       "      <td>2687603</td>\n",
       "      <td>28,12,10751,14</td>\n",
       "      <td>0</td>\n",
       "      <td>0</td>\n",
       "      <td>0</td>\n",
       "      <td>1</td>\n",
       "      <td>0</td>\n",
       "      <td>0</td>\n",
       "      <td>1</td>\n",
       "      <td>1</td>\n",
       "      <td>...</td>\n",
       "      <td>0</td>\n",
       "      <td>1</td>\n",
       "      <td>0</td>\n",
       "      <td>0</td>\n",
       "      <td>0</td>\n",
       "      <td>0</td>\n",
       "      <td>0</td>\n",
       "      <td>0</td>\n",
       "      <td>0</td>\n",
       "      <td>0</td>\n",
       "    </tr>\n",
       "    <tr>\n",
       "      <th>Hugo</th>\n",
       "      <td>47784</td>\n",
       "      <td>12,18,10751</td>\n",
       "      <td>0</td>\n",
       "      <td>0</td>\n",
       "      <td>0</td>\n",
       "      <td>1</td>\n",
       "      <td>0</td>\n",
       "      <td>0</td>\n",
       "      <td>1</td>\n",
       "      <td>0</td>\n",
       "      <td>...</td>\n",
       "      <td>0</td>\n",
       "      <td>0</td>\n",
       "      <td>0</td>\n",
       "      <td>0</td>\n",
       "      <td>0</td>\n",
       "      <td>0</td>\n",
       "      <td>0</td>\n",
       "      <td>0</td>\n",
       "      <td>0</td>\n",
       "      <td>0</td>\n",
       "    </tr>\n",
       "    <tr>\n",
       "      <th>Valerian and the City of a Thousand Planets</th>\n",
       "      <td>35098356</td>\n",
       "      <td>12,878,28</td>\n",
       "      <td>0</td>\n",
       "      <td>0</td>\n",
       "      <td>0</td>\n",
       "      <td>0</td>\n",
       "      <td>0</td>\n",
       "      <td>0</td>\n",
       "      <td>1</td>\n",
       "      <td>0</td>\n",
       "      <td>...</td>\n",
       "      <td>0</td>\n",
       "      <td>1</td>\n",
       "      <td>0</td>\n",
       "      <td>0</td>\n",
       "      <td>0</td>\n",
       "      <td>0</td>\n",
       "      <td>0</td>\n",
       "      <td>1</td>\n",
       "      <td>0</td>\n",
       "      <td>0</td>\n",
       "    </tr>\n",
       "    <tr>\n",
       "      <th>...</th>\n",
       "      <td>...</td>\n",
       "      <td>...</td>\n",
       "      <td>...</td>\n",
       "      <td>...</td>\n",
       "      <td>...</td>\n",
       "      <td>...</td>\n",
       "      <td>...</td>\n",
       "      <td>...</td>\n",
       "      <td>...</td>\n",
       "      <td>...</td>\n",
       "      <td>...</td>\n",
       "      <td>...</td>\n",
       "      <td>...</td>\n",
       "      <td>...</td>\n",
       "      <td>...</td>\n",
       "      <td>...</td>\n",
       "      <td>...</td>\n",
       "      <td>...</td>\n",
       "      <td>...</td>\n",
       "      <td>...</td>\n",
       "      <td>...</td>\n",
       "    </tr>\n",
       "    <tr>\n",
       "      <th>Exeter</th>\n",
       "      <td>464792</td>\n",
       "      <td>53,27</td>\n",
       "      <td>0</td>\n",
       "      <td>0</td>\n",
       "      <td>0</td>\n",
       "      <td>0</td>\n",
       "      <td>0</td>\n",
       "      <td>0</td>\n",
       "      <td>0</td>\n",
       "      <td>0</td>\n",
       "      <td>...</td>\n",
       "      <td>1</td>\n",
       "      <td>0</td>\n",
       "      <td>0</td>\n",
       "      <td>0</td>\n",
       "      <td>0</td>\n",
       "      <td>1</td>\n",
       "      <td>0</td>\n",
       "      <td>0</td>\n",
       "      <td>0</td>\n",
       "      <td>0</td>\n",
       "    </tr>\n",
       "    <tr>\n",
       "      <th>Ten</th>\n",
       "      <td>27067880</td>\n",
       "      <td>12,27,9648,53</td>\n",
       "      <td>0</td>\n",
       "      <td>0</td>\n",
       "      <td>0</td>\n",
       "      <td>0</td>\n",
       "      <td>0</td>\n",
       "      <td>0</td>\n",
       "      <td>1</td>\n",
       "      <td>0</td>\n",
       "      <td>...</td>\n",
       "      <td>1</td>\n",
       "      <td>0</td>\n",
       "      <td>0</td>\n",
       "      <td>0</td>\n",
       "      <td>0</td>\n",
       "      <td>1</td>\n",
       "      <td>0</td>\n",
       "      <td>0</td>\n",
       "      <td>1</td>\n",
       "      <td>0</td>\n",
       "    </tr>\n",
       "    <tr>\n",
       "      <th>Dry Spell</th>\n",
       "      <td>27070880</td>\n",
       "      <td>35,10749</td>\n",
       "      <td>0</td>\n",
       "      <td>0</td>\n",
       "      <td>1</td>\n",
       "      <td>0</td>\n",
       "      <td>0</td>\n",
       "      <td>0</td>\n",
       "      <td>0</td>\n",
       "      <td>0</td>\n",
       "      <td>...</td>\n",
       "      <td>0</td>\n",
       "      <td>0</td>\n",
       "      <td>1</td>\n",
       "      <td>0</td>\n",
       "      <td>0</td>\n",
       "      <td>0</td>\n",
       "      <td>0</td>\n",
       "      <td>0</td>\n",
       "      <td>0</td>\n",
       "      <td>0</td>\n",
       "    </tr>\n",
       "    <tr>\n",
       "      <th>All Superheroes Must Die</th>\n",
       "      <td>27072880</td>\n",
       "      <td>878,53</td>\n",
       "      <td>0</td>\n",
       "      <td>0</td>\n",
       "      <td>0</td>\n",
       "      <td>0</td>\n",
       "      <td>0</td>\n",
       "      <td>0</td>\n",
       "      <td>0</td>\n",
       "      <td>0</td>\n",
       "      <td>...</td>\n",
       "      <td>0</td>\n",
       "      <td>0</td>\n",
       "      <td>0</td>\n",
       "      <td>0</td>\n",
       "      <td>0</td>\n",
       "      <td>1</td>\n",
       "      <td>0</td>\n",
       "      <td>1</td>\n",
       "      <td>0</td>\n",
       "      <td>0</td>\n",
       "    </tr>\n",
       "    <tr>\n",
       "      <th>Newlyweds</th>\n",
       "      <td>-4416</td>\n",
       "      <td>35,10749</td>\n",
       "      <td>0</td>\n",
       "      <td>0</td>\n",
       "      <td>1</td>\n",
       "      <td>0</td>\n",
       "      <td>0</td>\n",
       "      <td>0</td>\n",
       "      <td>0</td>\n",
       "      <td>0</td>\n",
       "      <td>...</td>\n",
       "      <td>0</td>\n",
       "      <td>0</td>\n",
       "      <td>1</td>\n",
       "      <td>0</td>\n",
       "      <td>0</td>\n",
       "      <td>0</td>\n",
       "      <td>0</td>\n",
       "      <td>0</td>\n",
       "      <td>0</td>\n",
       "      <td>0</td>\n",
       "    </tr>\n",
       "  </tbody>\n",
       "</table>\n",
       "<p>656 rows × 22 columns</p>\n",
       "</div>"
      ],
      "text/plain": [
       "                                             total_profit       genre_ids     \\\n",
       "John Carter                                       7778100       28,12,878  0   \n",
       "Green Lantern                                    19535492    12,28,53,878  0   \n",
       "Jack the Giant Slayer                             2687603  28,12,10751,14  0   \n",
       "Hugo                                                47784     12,18,10751  0   \n",
       "Valerian and the City of a Thousand Planets      35098356       12,878,28  0   \n",
       "...                                                   ...             ... ..   \n",
       "Exeter                                             464792           53,27  0   \n",
       "Ten                                              27067880   12,27,9648,53  0   \n",
       "Dry Spell                                        27070880        35,10749  0   \n",
       "All Superheroes Must Die                         27072880          878,53  0   \n",
       "Newlyweds                                           -4416        35,10749  0   \n",
       "\n",
       "                                             Music  Romance  Family  War  TV  \\\n",
       "John Carter                                      0        0       0    0   0   \n",
       "Green Lantern                                    0        0       0    0   0   \n",
       "Jack the Giant Slayer                            0        0       1    0   0   \n",
       "Hugo                                             0        0       1    0   0   \n",
       "Valerian and the City of a Thousand Planets      0        0       0    0   0   \n",
       "...                                            ...      ...     ...  ...  ..   \n",
       "Exeter                                           0        0       0    0   0   \n",
       "Ten                                              0        0       0    0   0   \n",
       "Dry Spell                                        0        1       0    0   0   \n",
       "All Superheroes Must Die                         0        0       0    0   0   \n",
       "Newlyweds                                        0        1       0    0   0   \n",
       "\n",
       "                                             Adventure  Fantasy  ...  Horror  \\\n",
       "John Carter                                          1        0  ...       0   \n",
       "Green Lantern                                        1        0  ...       0   \n",
       "Jack the Giant Slayer                                1        1  ...       0   \n",
       "Hugo                                                 1        0  ...       0   \n",
       "Valerian and the City of a Thousand Planets          1        0  ...       0   \n",
       "...                                                ...      ...  ...     ...   \n",
       "Exeter                                               0        0  ...       1   \n",
       "Ten                                                  1        0  ...       1   \n",
       "Dry Spell                                            0        0  ...       0   \n",
       "All Superheroes Must Die                             0        0  ...       0   \n",
       "Newlyweds                                            0        0  ...       0   \n",
       "\n",
       "                                             Action  Comedy  History  Western  \\\n",
       "John Carter                                       1       0        0        0   \n",
       "Green Lantern                                     1       0        0        0   \n",
       "Jack the Giant Slayer                             1       0        0        0   \n",
       "Hugo                                              0       0        0        0   \n",
       "Valerian and the City of a Thousand Planets       1       0        0        0   \n",
       "...                                             ...     ...      ...      ...   \n",
       "Exeter                                            0       0        0        0   \n",
       "Ten                                               0       0        0        0   \n",
       "Dry Spell                                         0       1        0        0   \n",
       "All Superheroes Must Die                          0       0        0        0   \n",
       "Newlyweds                                         0       1        0        0   \n",
       "\n",
       "                                             Thriller  Crime  SciFi  Mystery  \\\n",
       "John Carter                                         0      0      1        0   \n",
       "Green Lantern                                       1      0      1        0   \n",
       "Jack the Giant Slayer                               0      0      0        0   \n",
       "Hugo                                                0      0      0        0   \n",
       "Valerian and the City of a Thousand Planets         0      0      1        0   \n",
       "...                                               ...    ...    ...      ...   \n",
       "Exeter                                              1      0      0        0   \n",
       "Ten                                                 1      0      0        1   \n",
       "Dry Spell                                           0      0      0        0   \n",
       "All Superheroes Must Die                            1      0      1        0   \n",
       "Newlyweds                                           0      0      0        0   \n",
       "\n",
       "                                             Documentary  \n",
       "John Carter                                            0  \n",
       "Green Lantern                                          0  \n",
       "Jack the Giant Slayer                                  0  \n",
       "Hugo                                                   0  \n",
       "Valerian and the City of a Thousand Planets            0  \n",
       "...                                                  ...  \n",
       "Exeter                                                 0  \n",
       "Ten                                                    0  \n",
       "Dry Spell                                              0  \n",
       "All Superheroes Must Die                               0  \n",
       "Newlyweds                                              0  \n",
       "\n",
       "[656 rows x 22 columns]"
      ]
     },
     "execution_count": 30,
     "metadata": {},
     "output_type": "execute_result"
    }
   ],
   "source": [
    "def create_dummy_cols(data, col):\n",
    "    \n",
    "    # remove [, ], and whitespace\n",
    "    data[col] = data[col].str.strip(\"]\")\n",
    "    data[col] = data[col].str.strip(\"[\")\n",
    "    data[col] = data[col].str.replace(\" \", \"\")\n",
    "    \n",
    "    # split genre ids by commas\n",
    "    genre_ids = data[col].str.split(\",\")\n",
    "    \n",
    "    # create the binary dummy columns\n",
    "    bin_genre_df = pd.get_dummies(genre_ids.apply(pd.Series).stack()).sum(level=0)\n",
    "    budgets_and_genre_dummys = data.join(bin_genre_df, how='inner')\n",
    "    \n",
    "    # rename columns for genres\n",
    "    budgets_and_genre_dummys.rename(columns = {'28' : 'Action', \n",
    "                                           '12' : 'Adventure',\n",
    "                                          '16' : 'Animation',\n",
    "                                          '35' : 'Comedy',\n",
    "                                          '80' : 'Crime',\n",
    "                                          '99' : 'Documentary',\n",
    "                                          '18' : 'Drama',\n",
    "                                          '10751' : 'Family',\n",
    "                                          '14' : 'Fantasy',\n",
    "                                          '36' : 'History',\n",
    "                                          '27' : 'Horror',\n",
    "                                          '10402' : 'Music',\n",
    "                                          '9648' : 'Mystery',\n",
    "                                          '10749' : 'Romance',\n",
    "                                          '878' : 'SciFi',\n",
    "                                          '10770' : 'TV',\n",
    "                                          '53' : 'Thriller',\n",
    "                                          '10752' : 'War',\n",
    "                                          '37' : 'Western'}, inplace = True)\n",
    "    return budgets_and_genre_dummys\n",
    "\n",
    "budgets_and_genre_dummys = create_dummy_cols(budgets_and_tmdb,'genre_ids')\n",
    "budgets_and_genre_dummys"
   ]
  },
  {
   "cell_type": "markdown",
   "metadata": {},
   "source": [
    "Note: there is a dummy column seemingly associated with no genre. This appears to be the result of some titles which did not have any associated genre id. So, we dropped them from analysis. "
   ]
  },
  {
   "cell_type": "code",
   "execution_count": 31,
   "metadata": {},
   "outputs": [],
   "source": [
    "budgets_and_genre_dummys = budgets_and_genre_dummys.loc[ (budgets_and_genre_dummys[''] != 1) ] "
   ]
  },
  {
   "cell_type": "markdown",
   "metadata": {},
   "source": [
    "#### Turning Profit into a Categorical Variable\n",
    "\n",
    "We decided to turn profit into a categorical variable denoting high vs. medium vs. low profit. The threshold values for these categories were decided as:\n",
    "\n",
    "- High = 75th percentile and greater\n",
    "- Medium = Greater than 25th percentile and lower than 75th percentile.\n",
    "- Low = 25th percentile and lower"
   ]
  },
  {
   "cell_type": "code",
   "execution_count": 32,
   "metadata": {},
   "outputs": [
    {
     "name": "stderr",
     "output_type": "stream",
     "text": [
      "C:\\Users\\morpelletier\\Anaconda3\\envs\\learn-env\\lib\\site-packages\\pandas\\core\\indexing.py:1596: SettingWithCopyWarning: \n",
      "A value is trying to be set on a copy of a slice from a DataFrame.\n",
      "Try using .loc[row_indexer,col_indexer] = value instead\n",
      "\n",
      "See the caveats in the documentation: https://pandas.pydata.org/pandas-docs/stable/user_guide/indexing.html#returning-a-view-versus-a-copy\n",
      "  self.obj[key] = _infer_fill_value(value)\n",
      "C:\\Users\\morpelletier\\Anaconda3\\envs\\learn-env\\lib\\site-packages\\pandas\\core\\indexing.py:1765: SettingWithCopyWarning: \n",
      "A value is trying to be set on a copy of a slice from a DataFrame.\n",
      "Try using .loc[row_indexer,col_indexer] = value instead\n",
      "\n",
      "See the caveats in the documentation: https://pandas.pydata.org/pandas-docs/stable/user_guide/indexing.html#returning-a-view-versus-a-copy\n",
      "  isetter(loc, value)\n",
      "C:\\Users\\morpelletier\\Anaconda3\\envs\\learn-env\\lib\\site-packages\\pandas\\core\\indexing.py:1765: SettingWithCopyWarning: \n",
      "A value is trying to be set on a copy of a slice from a DataFrame.\n",
      "Try using .loc[row_indexer,col_indexer] = value instead\n",
      "\n",
      "See the caveats in the documentation: https://pandas.pydata.org/pandas-docs/stable/user_guide/indexing.html#returning-a-view-versus-a-copy\n",
      "  isetter(loc, value)\n"
     ]
    },
    {
     "data": {
      "text/html": [
       "<div>\n",
       "<style scoped>\n",
       "    .dataframe tbody tr th:only-of-type {\n",
       "        vertical-align: middle;\n",
       "    }\n",
       "\n",
       "    .dataframe tbody tr th {\n",
       "        vertical-align: top;\n",
       "    }\n",
       "\n",
       "    .dataframe thead th {\n",
       "        text-align: right;\n",
       "    }\n",
       "</style>\n",
       "<table border=\"1\" class=\"dataframe\">\n",
       "  <thead>\n",
       "    <tr style=\"text-align: right;\">\n",
       "      <th></th>\n",
       "      <th>total_profit</th>\n",
       "      <th>genre_ids</th>\n",
       "      <th></th>\n",
       "      <th>Music</th>\n",
       "      <th>Romance</th>\n",
       "      <th>Family</th>\n",
       "      <th>War</th>\n",
       "      <th>TV</th>\n",
       "      <th>Adventure</th>\n",
       "      <th>Fantasy</th>\n",
       "      <th>...</th>\n",
       "      <th>Action</th>\n",
       "      <th>Comedy</th>\n",
       "      <th>History</th>\n",
       "      <th>Western</th>\n",
       "      <th>Thriller</th>\n",
       "      <th>Crime</th>\n",
       "      <th>SciFi</th>\n",
       "      <th>Mystery</th>\n",
       "      <th>Documentary</th>\n",
       "      <th>relative_profit_cat</th>\n",
       "    </tr>\n",
       "  </thead>\n",
       "  <tbody>\n",
       "    <tr>\n",
       "      <th>John Carter</th>\n",
       "      <td>7778100</td>\n",
       "      <td>28,12,878</td>\n",
       "      <td>0</td>\n",
       "      <td>0</td>\n",
       "      <td>0</td>\n",
       "      <td>0</td>\n",
       "      <td>0</td>\n",
       "      <td>0</td>\n",
       "      <td>1</td>\n",
       "      <td>0</td>\n",
       "      <td>...</td>\n",
       "      <td>1</td>\n",
       "      <td>0</td>\n",
       "      <td>0</td>\n",
       "      <td>0</td>\n",
       "      <td>0</td>\n",
       "      <td>0</td>\n",
       "      <td>1</td>\n",
       "      <td>0</td>\n",
       "      <td>0</td>\n",
       "      <td>medium</td>\n",
       "    </tr>\n",
       "    <tr>\n",
       "      <th>Green Lantern</th>\n",
       "      <td>19535492</td>\n",
       "      <td>12,28,53,878</td>\n",
       "      <td>0</td>\n",
       "      <td>0</td>\n",
       "      <td>0</td>\n",
       "      <td>0</td>\n",
       "      <td>0</td>\n",
       "      <td>0</td>\n",
       "      <td>1</td>\n",
       "      <td>0</td>\n",
       "      <td>...</td>\n",
       "      <td>1</td>\n",
       "      <td>0</td>\n",
       "      <td>0</td>\n",
       "      <td>0</td>\n",
       "      <td>1</td>\n",
       "      <td>0</td>\n",
       "      <td>1</td>\n",
       "      <td>0</td>\n",
       "      <td>0</td>\n",
       "      <td>medium</td>\n",
       "    </tr>\n",
       "    <tr>\n",
       "      <th>Jack the Giant Slayer</th>\n",
       "      <td>2687603</td>\n",
       "      <td>28,12,10751,14</td>\n",
       "      <td>0</td>\n",
       "      <td>0</td>\n",
       "      <td>0</td>\n",
       "      <td>1</td>\n",
       "      <td>0</td>\n",
       "      <td>0</td>\n",
       "      <td>1</td>\n",
       "      <td>1</td>\n",
       "      <td>...</td>\n",
       "      <td>1</td>\n",
       "      <td>0</td>\n",
       "      <td>0</td>\n",
       "      <td>0</td>\n",
       "      <td>0</td>\n",
       "      <td>0</td>\n",
       "      <td>0</td>\n",
       "      <td>0</td>\n",
       "      <td>0</td>\n",
       "      <td>low</td>\n",
       "    </tr>\n",
       "    <tr>\n",
       "      <th>Hugo</th>\n",
       "      <td>47784</td>\n",
       "      <td>12,18,10751</td>\n",
       "      <td>0</td>\n",
       "      <td>0</td>\n",
       "      <td>0</td>\n",
       "      <td>1</td>\n",
       "      <td>0</td>\n",
       "      <td>0</td>\n",
       "      <td>1</td>\n",
       "      <td>0</td>\n",
       "      <td>...</td>\n",
       "      <td>0</td>\n",
       "      <td>0</td>\n",
       "      <td>0</td>\n",
       "      <td>0</td>\n",
       "      <td>0</td>\n",
       "      <td>0</td>\n",
       "      <td>0</td>\n",
       "      <td>0</td>\n",
       "      <td>0</td>\n",
       "      <td>low</td>\n",
       "    </tr>\n",
       "    <tr>\n",
       "      <th>Valerian and the City of a Thousand Planets</th>\n",
       "      <td>35098356</td>\n",
       "      <td>12,878,28</td>\n",
       "      <td>0</td>\n",
       "      <td>0</td>\n",
       "      <td>0</td>\n",
       "      <td>0</td>\n",
       "      <td>0</td>\n",
       "      <td>0</td>\n",
       "      <td>1</td>\n",
       "      <td>0</td>\n",
       "      <td>...</td>\n",
       "      <td>1</td>\n",
       "      <td>0</td>\n",
       "      <td>0</td>\n",
       "      <td>0</td>\n",
       "      <td>0</td>\n",
       "      <td>0</td>\n",
       "      <td>1</td>\n",
       "      <td>0</td>\n",
       "      <td>0</td>\n",
       "      <td>high</td>\n",
       "    </tr>\n",
       "  </tbody>\n",
       "</table>\n",
       "<p>5 rows × 23 columns</p>\n",
       "</div>"
      ],
      "text/plain": [
       "                                             total_profit       genre_ids     \\\n",
       "John Carter                                       7778100       28,12,878  0   \n",
       "Green Lantern                                    19535492    12,28,53,878  0   \n",
       "Jack the Giant Slayer                             2687603  28,12,10751,14  0   \n",
       "Hugo                                                47784     12,18,10751  0   \n",
       "Valerian and the City of a Thousand Planets      35098356       12,878,28  0   \n",
       "\n",
       "                                             Music  Romance  Family  War  TV  \\\n",
       "John Carter                                      0        0       0    0   0   \n",
       "Green Lantern                                    0        0       0    0   0   \n",
       "Jack the Giant Slayer                            0        0       1    0   0   \n",
       "Hugo                                             0        0       1    0   0   \n",
       "Valerian and the City of a Thousand Planets      0        0       0    0   0   \n",
       "\n",
       "                                             Adventure  Fantasy  ...  Action  \\\n",
       "John Carter                                          1        0  ...       1   \n",
       "Green Lantern                                        1        0  ...       1   \n",
       "Jack the Giant Slayer                                1        1  ...       1   \n",
       "Hugo                                                 1        0  ...       0   \n",
       "Valerian and the City of a Thousand Planets          1        0  ...       1   \n",
       "\n",
       "                                             Comedy  History  Western  \\\n",
       "John Carter                                       0        0        0   \n",
       "Green Lantern                                     0        0        0   \n",
       "Jack the Giant Slayer                             0        0        0   \n",
       "Hugo                                              0        0        0   \n",
       "Valerian and the City of a Thousand Planets       0        0        0   \n",
       "\n",
       "                                             Thriller  Crime  SciFi  Mystery  \\\n",
       "John Carter                                         0      0      1        0   \n",
       "Green Lantern                                       1      0      1        0   \n",
       "Jack the Giant Slayer                               0      0      0        0   \n",
       "Hugo                                                0      0      0        0   \n",
       "Valerian and the City of a Thousand Planets         0      0      1        0   \n",
       "\n",
       "                                             Documentary  relative_profit_cat  \n",
       "John Carter                                            0               medium  \n",
       "Green Lantern                                          0               medium  \n",
       "Jack the Giant Slayer                                  0                  low  \n",
       "Hugo                                                   0                  low  \n",
       "Valerian and the City of a Thousand Planets            0                 high  \n",
       "\n",
       "[5 rows x 23 columns]"
      ]
     },
     "execution_count": 32,
     "metadata": {},
     "output_type": "execute_result"
    }
   ],
   "source": [
    "# define thresholds\n",
    "iqr_Q1 = budgets_and_genre_dummys['total_profit'].quantile(q=.25)\n",
    "iqr_Q3 = budgets_and_genre_dummys['total_profit'].quantile(q=.75)\n",
    "\n",
    "# assign categories based on thresholds\n",
    "budgets_and_genre_dummys.loc[ budgets_and_genre_dummys['total_profit'] >= iqr_Q3, 'relative_profit_cat'] = 'high'\n",
    "budgets_and_genre_dummys.loc[ budgets_and_genre_dummys['total_profit'] <= iqr_Q1, 'relative_profit_cat'] = 'low'\n",
    "budgets_and_genre_dummys.loc[ budgets_and_genre_dummys['relative_profit_cat'].isna() , 'relative_profit_cat'] = 'medium'\n",
    "\n",
    "budgets_and_genre_dummys.head()"
   ]
  },
  {
   "cell_type": "markdown",
   "metadata": {},
   "source": [
    "#### Building a Contingency Table\n",
    "\n",
    "From here, we built a contingency table with genres as rows and relative profit category as columns. "
   ]
  },
  {
   "cell_type": "code",
   "execution_count": 33,
   "metadata": {},
   "outputs": [
    {
     "data": {
      "text/html": [
       "<div>\n",
       "<style scoped>\n",
       "    .dataframe tbody tr th:only-of-type {\n",
       "        vertical-align: middle;\n",
       "    }\n",
       "\n",
       "    .dataframe tbody tr th {\n",
       "        vertical-align: top;\n",
       "    }\n",
       "\n",
       "    .dataframe thead th {\n",
       "        text-align: right;\n",
       "    }\n",
       "</style>\n",
       "<table border=\"1\" class=\"dataframe\">\n",
       "  <thead>\n",
       "    <tr style=\"text-align: right;\">\n",
       "      <th></th>\n",
       "      <th>index</th>\n",
       "      <th>high</th>\n",
       "      <th>medium</th>\n",
       "      <th>low</th>\n",
       "    </tr>\n",
       "  </thead>\n",
       "  <tbody>\n",
       "    <tr>\n",
       "      <th>0</th>\n",
       "      <td>Music</td>\n",
       "      <td>0</td>\n",
       "      <td>0</td>\n",
       "      <td>0</td>\n",
       "    </tr>\n",
       "    <tr>\n",
       "      <th>1</th>\n",
       "      <td>Romance</td>\n",
       "      <td>0</td>\n",
       "      <td>0</td>\n",
       "      <td>0</td>\n",
       "    </tr>\n",
       "    <tr>\n",
       "      <th>2</th>\n",
       "      <td>Family</td>\n",
       "      <td>0</td>\n",
       "      <td>0</td>\n",
       "      <td>0</td>\n",
       "    </tr>\n",
       "    <tr>\n",
       "      <th>3</th>\n",
       "      <td>War</td>\n",
       "      <td>0</td>\n",
       "      <td>0</td>\n",
       "      <td>0</td>\n",
       "    </tr>\n",
       "    <tr>\n",
       "      <th>4</th>\n",
       "      <td>TV</td>\n",
       "      <td>0</td>\n",
       "      <td>0</td>\n",
       "      <td>0</td>\n",
       "    </tr>\n",
       "  </tbody>\n",
       "</table>\n",
       "</div>"
      ],
      "text/plain": [
       "     index  high  medium  low\n",
       "0    Music     0       0    0\n",
       "1  Romance     0       0    0\n",
       "2   Family     0       0    0\n",
       "3      War     0       0    0\n",
       "4       TV     0       0    0"
      ]
     },
     "execution_count": 33,
     "metadata": {},
     "output_type": "execute_result"
    }
   ],
   "source": [
    "# initialize list of genres\n",
    "genres = []\n",
    "\n",
    "# for each column in the dataset\n",
    "for column in budgets_and_genre_dummys.columns:\n",
    "    # if it isn't a non-genre column\n",
    "    ignored_cols = ['total_profit','title','relative_profit_cat','genre_ids','']  \n",
    "    if column not in ignored_cols:\n",
    "        # add it to the list of genres\n",
    "        genres.append(column)\n",
    "        \n",
    "## Creating the contingency table\n",
    "\n",
    "# create a dataframe with profit as columns and genres as rows\n",
    "contingency_table = pd.DataFrame(columns = ['high', 'medium','low'], index = genres)\n",
    "\n",
    "# replace the index (this is useful for using the numeric index to populate the dataframe in the next cell)\n",
    "contingency_table.reset_index(inplace = True)\n",
    "\n",
    "# fill the table with zeroes\n",
    "contingency_table = contingency_table.fillna(0)\n",
    "contingency_table.head()"
   ]
  },
  {
   "cell_type": "markdown",
   "metadata": {},
   "source": [
    "After creating the contingency table, we iterated through each row in the original dataframe to populate the contingency table based on genre and profit category. \n",
    "\n",
    "Resource: https://www.geeksforgeeks.org/how-to-set-cell-value-in-pandas-dataframe/"
   ]
  },
  {
   "cell_type": "code",
   "execution_count": 34,
   "metadata": {},
   "outputs": [
    {
     "data": {
      "text/html": [
       "<div>\n",
       "<style scoped>\n",
       "    .dataframe tbody tr th:only-of-type {\n",
       "        vertical-align: middle;\n",
       "    }\n",
       "\n",
       "    .dataframe tbody tr th {\n",
       "        vertical-align: top;\n",
       "    }\n",
       "\n",
       "    .dataframe thead th {\n",
       "        text-align: right;\n",
       "    }\n",
       "</style>\n",
       "<table border=\"1\" class=\"dataframe\">\n",
       "  <thead>\n",
       "    <tr style=\"text-align: right;\">\n",
       "      <th></th>\n",
       "      <th>index</th>\n",
       "      <th>high</th>\n",
       "      <th>medium</th>\n",
       "      <th>low</th>\n",
       "    </tr>\n",
       "  </thead>\n",
       "  <tbody>\n",
       "    <tr>\n",
       "      <th>0</th>\n",
       "      <td>Music</td>\n",
       "      <td>1</td>\n",
       "      <td>6</td>\n",
       "      <td>5</td>\n",
       "    </tr>\n",
       "    <tr>\n",
       "      <th>1</th>\n",
       "      <td>Romance</td>\n",
       "      <td>27</td>\n",
       "      <td>47</td>\n",
       "      <td>28</td>\n",
       "    </tr>\n",
       "    <tr>\n",
       "      <th>2</th>\n",
       "      <td>Family</td>\n",
       "      <td>17</td>\n",
       "      <td>23</td>\n",
       "      <td>6</td>\n",
       "    </tr>\n",
       "    <tr>\n",
       "      <th>3</th>\n",
       "      <td>War</td>\n",
       "      <td>3</td>\n",
       "      <td>5</td>\n",
       "      <td>2</td>\n",
       "    </tr>\n",
       "    <tr>\n",
       "      <th>4</th>\n",
       "      <td>TV</td>\n",
       "      <td>0</td>\n",
       "      <td>3</td>\n",
       "      <td>1</td>\n",
       "    </tr>\n",
       "    <tr>\n",
       "      <th>5</th>\n",
       "      <td>Adventure</td>\n",
       "      <td>22</td>\n",
       "      <td>32</td>\n",
       "      <td>10</td>\n",
       "    </tr>\n",
       "    <tr>\n",
       "      <th>6</th>\n",
       "      <td>Fantasy</td>\n",
       "      <td>12</td>\n",
       "      <td>15</td>\n",
       "      <td>12</td>\n",
       "    </tr>\n",
       "    <tr>\n",
       "      <th>7</th>\n",
       "      <td>Animation</td>\n",
       "      <td>10</td>\n",
       "      <td>14</td>\n",
       "      <td>2</td>\n",
       "    </tr>\n",
       "    <tr>\n",
       "      <th>8</th>\n",
       "      <td>Drama</td>\n",
       "      <td>71</td>\n",
       "      <td>163</td>\n",
       "      <td>99</td>\n",
       "    </tr>\n",
       "    <tr>\n",
       "      <th>9</th>\n",
       "      <td>Horror</td>\n",
       "      <td>24</td>\n",
       "      <td>50</td>\n",
       "      <td>18</td>\n",
       "    </tr>\n",
       "    <tr>\n",
       "      <th>10</th>\n",
       "      <td>Action</td>\n",
       "      <td>36</td>\n",
       "      <td>69</td>\n",
       "      <td>14</td>\n",
       "    </tr>\n",
       "    <tr>\n",
       "      <th>11</th>\n",
       "      <td>Comedy</td>\n",
       "      <td>55</td>\n",
       "      <td>103</td>\n",
       "      <td>47</td>\n",
       "    </tr>\n",
       "    <tr>\n",
       "      <th>12</th>\n",
       "      <td>History</td>\n",
       "      <td>7</td>\n",
       "      <td>14</td>\n",
       "      <td>3</td>\n",
       "    </tr>\n",
       "    <tr>\n",
       "      <th>13</th>\n",
       "      <td>Western</td>\n",
       "      <td>0</td>\n",
       "      <td>1</td>\n",
       "      <td>1</td>\n",
       "    </tr>\n",
       "    <tr>\n",
       "      <th>14</th>\n",
       "      <td>Thriller</td>\n",
       "      <td>45</td>\n",
       "      <td>101</td>\n",
       "      <td>41</td>\n",
       "    </tr>\n",
       "    <tr>\n",
       "      <th>15</th>\n",
       "      <td>Crime</td>\n",
       "      <td>30</td>\n",
       "      <td>38</td>\n",
       "      <td>19</td>\n",
       "    </tr>\n",
       "    <tr>\n",
       "      <th>16</th>\n",
       "      <td>SciFi</td>\n",
       "      <td>15</td>\n",
       "      <td>27</td>\n",
       "      <td>9</td>\n",
       "    </tr>\n",
       "    <tr>\n",
       "      <th>17</th>\n",
       "      <td>Mystery</td>\n",
       "      <td>12</td>\n",
       "      <td>32</td>\n",
       "      <td>14</td>\n",
       "    </tr>\n",
       "    <tr>\n",
       "      <th>18</th>\n",
       "      <td>Documentary</td>\n",
       "      <td>3</td>\n",
       "      <td>9</td>\n",
       "      <td>17</td>\n",
       "    </tr>\n",
       "  </tbody>\n",
       "</table>\n",
       "</div>"
      ],
      "text/plain": [
       "          index  high  medium  low\n",
       "0         Music     1       6    5\n",
       "1       Romance    27      47   28\n",
       "2        Family    17      23    6\n",
       "3           War     3       5    2\n",
       "4            TV     0       3    1\n",
       "5     Adventure    22      32   10\n",
       "6       Fantasy    12      15   12\n",
       "7     Animation    10      14    2\n",
       "8         Drama    71     163   99\n",
       "9        Horror    24      50   18\n",
       "10       Action    36      69   14\n",
       "11       Comedy    55     103   47\n",
       "12      History     7      14    3\n",
       "13      Western     0       1    1\n",
       "14     Thriller    45     101   41\n",
       "15        Crime    30      38   19\n",
       "16        SciFi    15      27    9\n",
       "17      Mystery    12      32   14\n",
       "18  Documentary     3       9   17"
      ]
     },
     "execution_count": 34,
     "metadata": {},
     "output_type": "execute_result"
    }
   ],
   "source": [
    "# for each row\n",
    "for index, row in budgets_and_genre_dummys.iterrows():\n",
    "    \n",
    "    # for each column in that row that is a genre\n",
    "    for col in budgets_and_genre_dummys.columns:\n",
    "        \n",
    "        if col not in ignored_cols:\n",
    "    \n",
    "            # if the cell value is 1\n",
    "            if row[col] == 1 :\n",
    "                \n",
    "                # find the index associated with that genre in the contingency table\n",
    "                genre_idx = contingency_table[contingency_table['index'] == col].index.values\n",
    "                \n",
    "                # look at the profit category column and save that value as well\n",
    "                profit_cat = row['relative_profit_cat']\n",
    "    \n",
    "                # find the cell associated with that row index and profit column in the contingency table and add 1 \n",
    "                contingency_table.loc[genre_idx, profit_cat] += 1   \n",
    "                \n",
    "contingency_table"
   ]
  },
  {
   "cell_type": "markdown",
   "metadata": {},
   "source": [
    "We noted that there were some genres where there weren't many movies. To avoid drawing conclusions based on small sample sizes, we decided to filter out rows in the contingency table with row totals less than 50. "
   ]
  },
  {
   "cell_type": "code",
   "execution_count": 35,
   "metadata": {},
   "outputs": [],
   "source": [
    "#contingency_table = contingency_table.loc[(contingency_table['high'] >= 10) & (contingency_table['medium'] >= 10) & (contingency_table['low'] >= 10)]\n",
    "contingency_table = contingency_table.loc[contingency_table['high'] + contingency_table['medium'] + contingency_table['low'] >= 50]"
   ]
  },
  {
   "cell_type": "code",
   "execution_count": 36,
   "metadata": {},
   "outputs": [
    {
     "data": {
      "text/html": [
       "<div>\n",
       "<style scoped>\n",
       "    .dataframe tbody tr th:only-of-type {\n",
       "        vertical-align: middle;\n",
       "    }\n",
       "\n",
       "    .dataframe tbody tr th {\n",
       "        vertical-align: top;\n",
       "    }\n",
       "\n",
       "    .dataframe thead th {\n",
       "        text-align: right;\n",
       "    }\n",
       "</style>\n",
       "<table border=\"1\" class=\"dataframe\">\n",
       "  <thead>\n",
       "    <tr style=\"text-align: right;\">\n",
       "      <th></th>\n",
       "      <th>high</th>\n",
       "      <th>medium</th>\n",
       "      <th>low</th>\n",
       "    </tr>\n",
       "    <tr>\n",
       "      <th>index</th>\n",
       "      <th></th>\n",
       "      <th></th>\n",
       "      <th></th>\n",
       "    </tr>\n",
       "  </thead>\n",
       "  <tbody>\n",
       "    <tr>\n",
       "      <th>Romance</th>\n",
       "      <td>27</td>\n",
       "      <td>47</td>\n",
       "      <td>28</td>\n",
       "    </tr>\n",
       "    <tr>\n",
       "      <th>Adventure</th>\n",
       "      <td>22</td>\n",
       "      <td>32</td>\n",
       "      <td>10</td>\n",
       "    </tr>\n",
       "    <tr>\n",
       "      <th>Drama</th>\n",
       "      <td>71</td>\n",
       "      <td>163</td>\n",
       "      <td>99</td>\n",
       "    </tr>\n",
       "    <tr>\n",
       "      <th>Horror</th>\n",
       "      <td>24</td>\n",
       "      <td>50</td>\n",
       "      <td>18</td>\n",
       "    </tr>\n",
       "    <tr>\n",
       "      <th>Action</th>\n",
       "      <td>36</td>\n",
       "      <td>69</td>\n",
       "      <td>14</td>\n",
       "    </tr>\n",
       "    <tr>\n",
       "      <th>Comedy</th>\n",
       "      <td>55</td>\n",
       "      <td>103</td>\n",
       "      <td>47</td>\n",
       "    </tr>\n",
       "    <tr>\n",
       "      <th>Thriller</th>\n",
       "      <td>45</td>\n",
       "      <td>101</td>\n",
       "      <td>41</td>\n",
       "    </tr>\n",
       "    <tr>\n",
       "      <th>Crime</th>\n",
       "      <td>30</td>\n",
       "      <td>38</td>\n",
       "      <td>19</td>\n",
       "    </tr>\n",
       "    <tr>\n",
       "      <th>SciFi</th>\n",
       "      <td>15</td>\n",
       "      <td>27</td>\n",
       "      <td>9</td>\n",
       "    </tr>\n",
       "    <tr>\n",
       "      <th>Mystery</th>\n",
       "      <td>12</td>\n",
       "      <td>32</td>\n",
       "      <td>14</td>\n",
       "    </tr>\n",
       "  </tbody>\n",
       "</table>\n",
       "</div>"
      ],
      "text/plain": [
       "           high  medium  low\n",
       "index                       \n",
       "Romance      27      47   28\n",
       "Adventure    22      32   10\n",
       "Drama        71     163   99\n",
       "Horror       24      50   18\n",
       "Action       36      69   14\n",
       "Comedy       55     103   47\n",
       "Thriller     45     101   41\n",
       "Crime        30      38   19\n",
       "SciFi        15      27    9\n",
       "Mystery      12      32   14"
      ]
     },
     "execution_count": 36,
     "metadata": {},
     "output_type": "execute_result"
    }
   ],
   "source": [
    "contingency_table = contingency_table.set_index('index')\n",
    "contingency_table"
   ]
  },
  {
   "cell_type": "markdown",
   "metadata": {},
   "source": [
    "#### Chi-Square Test\n",
    "\n",
    "With the contingency table populated and filtered for decent sample size, we were ready to conduct the chi-squared test.\n",
    "\n",
    "Resource: https://www.geeksforgeeks.org/python-pearsons-chi-square-test/"
   ]
  },
  {
   "cell_type": "code",
   "execution_count": 37,
   "metadata": {},
   "outputs": [
    {
     "name": "stdout",
     "output_type": "stream",
     "text": [
      "p value is 0.04456193254973362\n",
      "Reject H_0\n"
     ]
    }
   ],
   "source": [
    "from scipy.stats import chi2_contingency\n",
    "\n",
    "# H_0 : Genre and Profit Level are not associated\n",
    "# H_1: Genre and Profit Level are associated\n",
    "\n",
    "stat, p, dof, expected = chi2_contingency(contingency_table)\n",
    "  \n",
    "# interpret p-value\n",
    "alpha = 0.05\n",
    "print(\"p value is \" + str(p))\n",
    "if p <= alpha:\n",
    "    print('Reject H_0')\n",
    "else:\n",
    "    print('Retain H_0')"
   ]
  },
  {
   "cell_type": "code",
   "execution_count": 38,
   "metadata": {},
   "outputs": [
    {
     "name": "stdout",
     "output_type": "stream",
     "text": [
      "Cramer's V: 0.11\n"
     ]
    }
   ],
   "source": [
    "# Getting relevant values to calculate Cramer's V\n",
    "import numpy as np\n",
    "\n",
    "# Sample size\n",
    "n = contingency_table['low'].sum() + contingency_table['medium'].sum() + contingency_table['high'].sum()\n",
    "\n",
    "# Number of rows\n",
    "r = len(contingency_table)\n",
    "\n",
    "# Number of columns\n",
    "c = 3\n",
    "\n",
    "cramer = np.sqrt((stat/n) / min(c-1,r-1))\n",
    "\n",
    "print(\"Cramer's V: {}\".format(round(cramer,2)))"
   ]
  },
  {
   "cell_type": "markdown",
   "metadata": {},
   "source": [
    "What this told us was that there was a significant association between these genres and relative profit categories, but that it was very weak. To dive deeper into the specifics, we dichotomized our profit variable. \n",
    "\n",
    "We began with collapsing our medium and low profit categories into one category. This would allow us to see if there is a significant association between genres and higher profits. "
   ]
  },
  {
   "cell_type": "code",
   "execution_count": 39,
   "metadata": {},
   "outputs": [],
   "source": [
    "# Creating a copy of the contingency table\n",
    "high_v_not_contingency = contingency_table.copy()"
   ]
  },
  {
   "cell_type": "code",
   "execution_count": 40,
   "metadata": {},
   "outputs": [],
   "source": [
    "# Creating a new column to collapse the non-high profit categories into. \n",
    "high_v_not_contingency['not_high'] = high_v_not_contingency['medium'] + high_v_not_contingency['low']"
   ]
  },
  {
   "cell_type": "code",
   "execution_count": 41,
   "metadata": {},
   "outputs": [
    {
     "data": {
      "text/html": [
       "<div>\n",
       "<style scoped>\n",
       "    .dataframe tbody tr th:only-of-type {\n",
       "        vertical-align: middle;\n",
       "    }\n",
       "\n",
       "    .dataframe tbody tr th {\n",
       "        vertical-align: top;\n",
       "    }\n",
       "\n",
       "    .dataframe thead th {\n",
       "        text-align: right;\n",
       "    }\n",
       "</style>\n",
       "<table border=\"1\" class=\"dataframe\">\n",
       "  <thead>\n",
       "    <tr style=\"text-align: right;\">\n",
       "      <th></th>\n",
       "      <th>high</th>\n",
       "      <th>not_high</th>\n",
       "    </tr>\n",
       "    <tr>\n",
       "      <th>index</th>\n",
       "      <th></th>\n",
       "      <th></th>\n",
       "    </tr>\n",
       "  </thead>\n",
       "  <tbody>\n",
       "    <tr>\n",
       "      <th>Romance</th>\n",
       "      <td>27</td>\n",
       "      <td>75</td>\n",
       "    </tr>\n",
       "    <tr>\n",
       "      <th>Adventure</th>\n",
       "      <td>22</td>\n",
       "      <td>42</td>\n",
       "    </tr>\n",
       "    <tr>\n",
       "      <th>Drama</th>\n",
       "      <td>71</td>\n",
       "      <td>262</td>\n",
       "    </tr>\n",
       "    <tr>\n",
       "      <th>Horror</th>\n",
       "      <td>24</td>\n",
       "      <td>68</td>\n",
       "    </tr>\n",
       "    <tr>\n",
       "      <th>Action</th>\n",
       "      <td>36</td>\n",
       "      <td>83</td>\n",
       "    </tr>\n",
       "    <tr>\n",
       "      <th>Comedy</th>\n",
       "      <td>55</td>\n",
       "      <td>150</td>\n",
       "    </tr>\n",
       "    <tr>\n",
       "      <th>Thriller</th>\n",
       "      <td>45</td>\n",
       "      <td>142</td>\n",
       "    </tr>\n",
       "    <tr>\n",
       "      <th>Crime</th>\n",
       "      <td>30</td>\n",
       "      <td>57</td>\n",
       "    </tr>\n",
       "    <tr>\n",
       "      <th>SciFi</th>\n",
       "      <td>15</td>\n",
       "      <td>36</td>\n",
       "    </tr>\n",
       "    <tr>\n",
       "      <th>Mystery</th>\n",
       "      <td>12</td>\n",
       "      <td>46</td>\n",
       "    </tr>\n",
       "  </tbody>\n",
       "</table>\n",
       "</div>"
      ],
      "text/plain": [
       "           high  not_high\n",
       "index                    \n",
       "Romance      27        75\n",
       "Adventure    22        42\n",
       "Drama        71       262\n",
       "Horror       24        68\n",
       "Action       36        83\n",
       "Comedy       55       150\n",
       "Thriller     45       142\n",
       "Crime        30        57\n",
       "SciFi        15        36\n",
       "Mystery      12        46"
      ]
     },
     "execution_count": 41,
     "metadata": {},
     "output_type": "execute_result"
    }
   ],
   "source": [
    "# Isolating relevant columns\n",
    "high_v_not_contingency = high_v_not_contingency[['high','not_high']]\n",
    "high_v_not_contingency"
   ]
  },
  {
   "cell_type": "markdown",
   "metadata": {},
   "source": [
    "From here, we conducted a new chi-square test to determine the presence of a significant association. "
   ]
  },
  {
   "cell_type": "code",
   "execution_count": 42,
   "metadata": {},
   "outputs": [
    {
     "name": "stdout",
     "output_type": "stream",
     "text": [
      "p value is 0.20704760836207542\n",
      "Retain H_0\n"
     ]
    }
   ],
   "source": [
    "stat, p, dof, expected = chi2_contingency(high_v_not_contingency)\n",
    "  \n",
    "# interpret p-value\n",
    "alpha = 0.05\n",
    "print(\"p value is \" + str(p))\n",
    "if p <= alpha:\n",
    "    print('Reject H_0')\n",
    "else:\n",
    "    print('Retain H_0')"
   ]
  },
  {
   "cell_type": "markdown",
   "metadata": {},
   "source": [
    "However, there was no significant association between genre and these profit categories. So, there doesn't appear to be a genre which generates significantly higher profit. However, there may be a genre that predicts significantly lower profit. \n",
    "\n",
    "To investigate this, we returned to our original contingency table and collapsed the 'high' and 'medium' columns into one column for non-low profit."
   ]
  },
  {
   "cell_type": "code",
   "execution_count": 43,
   "metadata": {},
   "outputs": [],
   "source": [
    "# Creating a copy of the original contingency table\n",
    "low_v_not_contingency = contingency_table.copy()"
   ]
  },
  {
   "cell_type": "code",
   "execution_count": 44,
   "metadata": {},
   "outputs": [],
   "source": [
    "# Collapsing high and medium profit categories into one column\n",
    "low_v_not_contingency['not_low'] = low_v_not_contingency['high'] + low_v_not_contingency['medium']"
   ]
  },
  {
   "cell_type": "code",
   "execution_count": 45,
   "metadata": {},
   "outputs": [
    {
     "data": {
      "text/html": [
       "<div>\n",
       "<style scoped>\n",
       "    .dataframe tbody tr th:only-of-type {\n",
       "        vertical-align: middle;\n",
       "    }\n",
       "\n",
       "    .dataframe tbody tr th {\n",
       "        vertical-align: top;\n",
       "    }\n",
       "\n",
       "    .dataframe thead th {\n",
       "        text-align: right;\n",
       "    }\n",
       "</style>\n",
       "<table border=\"1\" class=\"dataframe\">\n",
       "  <thead>\n",
       "    <tr style=\"text-align: right;\">\n",
       "      <th></th>\n",
       "      <th>low</th>\n",
       "      <th>not_low</th>\n",
       "    </tr>\n",
       "    <tr>\n",
       "      <th>index</th>\n",
       "      <th></th>\n",
       "      <th></th>\n",
       "    </tr>\n",
       "  </thead>\n",
       "  <tbody>\n",
       "    <tr>\n",
       "      <th>Romance</th>\n",
       "      <td>28</td>\n",
       "      <td>74</td>\n",
       "    </tr>\n",
       "    <tr>\n",
       "      <th>Adventure</th>\n",
       "      <td>10</td>\n",
       "      <td>54</td>\n",
       "    </tr>\n",
       "    <tr>\n",
       "      <th>Drama</th>\n",
       "      <td>99</td>\n",
       "      <td>234</td>\n",
       "    </tr>\n",
       "    <tr>\n",
       "      <th>Horror</th>\n",
       "      <td>18</td>\n",
       "      <td>74</td>\n",
       "    </tr>\n",
       "    <tr>\n",
       "      <th>Action</th>\n",
       "      <td>14</td>\n",
       "      <td>105</td>\n",
       "    </tr>\n",
       "    <tr>\n",
       "      <th>Comedy</th>\n",
       "      <td>47</td>\n",
       "      <td>158</td>\n",
       "    </tr>\n",
       "    <tr>\n",
       "      <th>Thriller</th>\n",
       "      <td>41</td>\n",
       "      <td>146</td>\n",
       "    </tr>\n",
       "    <tr>\n",
       "      <th>Crime</th>\n",
       "      <td>19</td>\n",
       "      <td>68</td>\n",
       "    </tr>\n",
       "    <tr>\n",
       "      <th>SciFi</th>\n",
       "      <td>9</td>\n",
       "      <td>42</td>\n",
       "    </tr>\n",
       "    <tr>\n",
       "      <th>Mystery</th>\n",
       "      <td>14</td>\n",
       "      <td>44</td>\n",
       "    </tr>\n",
       "  </tbody>\n",
       "</table>\n",
       "</div>"
      ],
      "text/plain": [
       "           low  not_low\n",
       "index                  \n",
       "Romance     28       74\n",
       "Adventure   10       54\n",
       "Drama       99      234\n",
       "Horror      18       74\n",
       "Action      14      105\n",
       "Comedy      47      158\n",
       "Thriller    41      146\n",
       "Crime       19       68\n",
       "SciFi        9       42\n",
       "Mystery     14       44"
      ]
     },
     "execution_count": 45,
     "metadata": {},
     "output_type": "execute_result"
    }
   ],
   "source": [
    "# Isolating relevant columns\n",
    "low_v_not_contingency = low_v_not_contingency[['low','not_low']]\n",
    "low_v_not_contingency"
   ]
  },
  {
   "cell_type": "markdown",
   "metadata": {},
   "source": [
    "We then conducted yet another Chi-Square test for significance. "
   ]
  },
  {
   "cell_type": "code",
   "execution_count": 46,
   "metadata": {},
   "outputs": [
    {
     "name": "stdout",
     "output_type": "stream",
     "text": [
      "p value is 0.009709037889535192\n",
      "Reject H_0\n"
     ]
    }
   ],
   "source": [
    "stat, p, dof, expected = chi2_contingency(low_v_not_contingency)\n",
    "  \n",
    "# interpret p-value\n",
    "alpha = 0.05\n",
    "print(\"p value is \" + str(p))\n",
    "if p <= alpha:\n",
    "    print('Reject H_0')\n",
    "else:\n",
    "    print('Retain H_0')"
   ]
  },
  {
   "cell_type": "markdown",
   "metadata": {},
   "source": [
    "The results were significant, meaning that there is a statistically significant association between genre and low profits. However, we do not know the strength of this association. To conceptualize the strength of their relationship, we calculated the Cramer's V value.\n",
    "\n",
    "Resources used: \n",
    "- Cramer's V Methodology in Python: https://www.statology.org/cramers-v-in-python/#:~:text=Cramer%E2%80%99s%20V%20is%20a%20measure%20of%20the%20strength,Cramer%E2%80%99s%20V%20for%20a%20contingency%20table%20in%20Python.\n",
    "- Interpreting Cramer's V value: https://www.ibm.com/docs/en/cognos-analytics/11.1.0?topic=terms-cramrs-v\n",
    "- Interpreting magnitude of Cramer's V: https://www.datascienceblog.net/post/statistical_test/effect_size/#:~:text=To%20interpret%20Cramer%E2%80%99s%20V%2C%20the%20following%20approach%20is,medium%20association%203%20V%20%3E%200.5%3A%20strong%20association"
   ]
  },
  {
   "cell_type": "code",
   "execution_count": 47,
   "metadata": {},
   "outputs": [
    {
     "name": "stdout",
     "output_type": "stream",
     "text": [
      "Cramer's V: 0.13\n"
     ]
    }
   ],
   "source": [
    "# Getting relevant values to calculate Cramer's V\n",
    "\n",
    "# Sample size\n",
    "n = low_v_not_contingency['low'].sum() + low_v_not_contingency['not_low'].sum()\n",
    "\n",
    "# Number of rows\n",
    "r = len(low_v_not_contingency)\n",
    "\n",
    "# Number of columns\n",
    "c = 2\n",
    "\n",
    "import numpy as np\n",
    "\n",
    "cramer = np.sqrt((stat/n) / min(c-1,r-1))\n",
    "\n",
    "print(\"Cramer's V: {}\".format(round(cramer,2)))"
   ]
  },
  {
   "cell_type": "markdown",
   "metadata": {},
   "source": [
    "The Cramer's V value ranges from 0 to 1. A result this small is indicative of a weak relationship between genre and low profit. \n",
    "So while our results remain statistically significant, the strength of their association is weak. \n",
    "\n",
    "Still we wondered, for which genres do we have greater proportions of profits above the 25th percentile?\n",
    "\n",
    "To conceptualize this, we looked at the proportion of low profit vs. non-low profit within each genre. Then, we sorted our results such that the genre with the highest proportion of low profit movies appears highest on the dataframe. "
   ]
  },
  {
   "cell_type": "code",
   "execution_count": 48,
   "metadata": {},
   "outputs": [
    {
     "data": {
      "text/html": [
       "<div>\n",
       "<style scoped>\n",
       "    .dataframe tbody tr th:only-of-type {\n",
       "        vertical-align: middle;\n",
       "    }\n",
       "\n",
       "    .dataframe tbody tr th {\n",
       "        vertical-align: top;\n",
       "    }\n",
       "\n",
       "    .dataframe thead th {\n",
       "        text-align: right;\n",
       "    }\n",
       "</style>\n",
       "<table border=\"1\" class=\"dataframe\">\n",
       "  <thead>\n",
       "    <tr style=\"text-align: right;\">\n",
       "      <th></th>\n",
       "      <th>perc_not_low</th>\n",
       "      <th>perc_low</th>\n",
       "    </tr>\n",
       "    <tr>\n",
       "      <th>index</th>\n",
       "      <th></th>\n",
       "      <th></th>\n",
       "    </tr>\n",
       "  </thead>\n",
       "  <tbody>\n",
       "    <tr>\n",
       "      <th>Drama</th>\n",
       "      <td>70.27</td>\n",
       "      <td>29.73</td>\n",
       "    </tr>\n",
       "    <tr>\n",
       "      <th>Romance</th>\n",
       "      <td>72.55</td>\n",
       "      <td>27.45</td>\n",
       "    </tr>\n",
       "    <tr>\n",
       "      <th>Mystery</th>\n",
       "      <td>75.86</td>\n",
       "      <td>24.14</td>\n",
       "    </tr>\n",
       "    <tr>\n",
       "      <th>Comedy</th>\n",
       "      <td>77.07</td>\n",
       "      <td>22.93</td>\n",
       "    </tr>\n",
       "    <tr>\n",
       "      <th>Thriller</th>\n",
       "      <td>78.07</td>\n",
       "      <td>21.93</td>\n",
       "    </tr>\n",
       "    <tr>\n",
       "      <th>Crime</th>\n",
       "      <td>78.16</td>\n",
       "      <td>21.84</td>\n",
       "    </tr>\n",
       "    <tr>\n",
       "      <th>Horror</th>\n",
       "      <td>80.43</td>\n",
       "      <td>19.57</td>\n",
       "    </tr>\n",
       "    <tr>\n",
       "      <th>SciFi</th>\n",
       "      <td>82.35</td>\n",
       "      <td>17.65</td>\n",
       "    </tr>\n",
       "    <tr>\n",
       "      <th>Adventure</th>\n",
       "      <td>84.38</td>\n",
       "      <td>15.62</td>\n",
       "    </tr>\n",
       "    <tr>\n",
       "      <th>Action</th>\n",
       "      <td>88.24</td>\n",
       "      <td>11.76</td>\n",
       "    </tr>\n",
       "  </tbody>\n",
       "</table>\n",
       "</div>"
      ],
      "text/plain": [
       "           perc_not_low  perc_low\n",
       "index                            \n",
       "Drama             70.27     29.73\n",
       "Romance           72.55     27.45\n",
       "Mystery           75.86     24.14\n",
       "Comedy            77.07     22.93\n",
       "Thriller          78.07     21.93\n",
       "Crime             78.16     21.84\n",
       "Horror            80.43     19.57\n",
       "SciFi             82.35     17.65\n",
       "Adventure         84.38     15.62\n",
       "Action            88.24     11.76"
      ]
     },
     "execution_count": 48,
     "metadata": {},
     "output_type": "execute_result"
    }
   ],
   "source": [
    "low_v_not_contingency['perc_low'] = round((low_v_not_contingency['low'] / (low_v_not_contingency['low'] + low_v_not_contingency['not_low']))*100,2)\n",
    "low_v_not_contingency['perc_not_low'] = round((low_v_not_contingency['not_low'] / (low_v_not_contingency['low'] + low_v_not_contingency['not_low']))*100,2)\n",
    "low_v_not_contingency = low_v_not_contingency[['perc_not_low','perc_low']]\n",
    "low_v_not_contingency = low_v_not_contingency.sort_values(by = 'perc_low', ascending = False)\n",
    "low_v_not_contingency"
   ]
  },
  {
   "cell_type": "markdown",
   "metadata": {},
   "source": [
    "As a result, we can see that dramas have the greatest proportion of low-profit movies among our ten genre categories. This may be counterintuitive when paired with the knowledge that dramas were the genre that appeared most frequently within the dataframe.\n",
    "\n",
    "However, it still remains that there is no strong relationship between genre and profit. So, our business recommendation is as follows: "
   ]
  },
  {
   "cell_type": "markdown",
   "metadata": {},
   "source": [
    "## Business Recommendation\n",
    "\n",
    "Our original business question asked: Does the genre of a movie have any association with the movie's profitability? From our analysis, we can now answer that the relationship between genre and profit is extremely weak. Because of this, our recommendation is to avoid seeking profit by restricting film production to a specific genre, as there is no evidence of a strong association between these two variables. Instead, we suggest additional research into potential confounding factors that  may target the aforementioned higher median profits in animation, adventure, science fiction, action, and fantasy movies. \n",
    "\n",
    "## Limitations\n",
    "\n",
    "Our results do not come without limitations. For example, while we did our best to ensure that the two tables were joined accurately, there exists the possibility that there could be a movie on one dataset with a title shared by an entirely different movie on the other dataset. Future research using data from one resource rather than multiple may help circumvent this issue and provide additional insight. \n",
    "\n",
    "There was also the limitation of a relatively small sample size given the original sizes of our raw data. Unfortunately, a lot of movies had to be removed from the dataset during cleaning in order to optimize the accuracy of our output. However, similar studies with larger sample sizes would be beneficial in confirming the results of this analysis. \n",
    "\n",
    "Finally, we imputed some values in our dataset to preserve a decent sample size. However, this does introduce potential inaccuracy in our results. Future research with more valid data could provide additional insight."
   ]
  },
  {
   "cell_type": "markdown",
   "metadata": {},
   "source": [
    "## Relevant Visualizations of the 10 Final Genres\n",
    "\n",
    "### Boxplot of Profit Distributions by Genre for Final Dataset\n",
    "\n",
    "The boxplots below visualize the distributions of profits for the ten genres that were included in the final analysis.\n",
    "\n",
    "Resources used included:\n",
    "- https://stackoverflow.com/questions/70927004/plotting-several-boxplots-from-different-dataframes-in-one-graph\n",
    "- https://www.geeksforgeeks.org/how-to-set-a-seaborn-chart-figure-size/#:~:text=To%20adjust%20the%20figure%20size%20of%20the%20seaborn,returns%20the%20figure%20and%20the%20array%20of%20axes."
   ]
  },
  {
   "cell_type": "code",
   "execution_count": 49,
   "metadata": {},
   "outputs": [
    {
     "data": {
      "image/png": "[encoded data removed]",
      "text/plain": [
       "<Figure size 1080x576 with 1 Axes>"
      ]
     },
     "metadata": {
      "needs_background": "light"
     },
     "output_type": "display_data"
    }
   ],
   "source": [
    "# Creating separate dataframes for each genre\n",
    "romances = budgets_and_genre_dummys.loc[(budgets_and_genre_dummys['Romance'] == 1)] \n",
    "adventures = budgets_and_genre_dummys.loc[(budgets_and_genre_dummys['Adventure'] == 1)]\n",
    "dramas = budgets_and_genre_dummys.loc[(budgets_and_genre_dummys['Drama'] == 1)]\n",
    "horrors = budgets_and_genre_dummys.loc[(budgets_and_genre_dummys['Horror'] == 1)]\n",
    "actions = budgets_and_genre_dummys.loc[(budgets_and_genre_dummys['Action'] == 1)]\n",
    "comedies = budgets_and_genre_dummys.loc[(budgets_and_genre_dummys['Comedy'] == 1)]\n",
    "thrillers = budgets_and_genre_dummys.loc[(budgets_and_genre_dummys['Thriller'] == 1)] \n",
    "crimes = budgets_and_genre_dummys.loc[(budgets_and_genre_dummys['Crime'] == 1)]\n",
    "scifis = budgets_and_genre_dummys.loc[(budgets_and_genre_dummys['SciFi'] == 1)] \n",
    "mysteries = budgets_and_genre_dummys.loc[(budgets_and_genre_dummys['Mystery'] == 1)]\n",
    "\n",
    "\n",
    "# Creating one dataframe for each genre and their profits\n",
    "combined_dfs = pd.DataFrame({'Romance': romances['total_profit'],\n",
    "                             'Adventure': adventures['total_profit'],\n",
    "                             'Drama': dramas['total_profit'],\n",
    "                             'Horror': horrors['total_profit'],\n",
    "                             'Action': actions['total_profit'],\n",
    "                             'Comedy': comedies['total_profit'],\n",
    "                             'Thriller': thrillers['total_profit'],\n",
    "                             'Crime': crimes['total_profit'],\n",
    "                             'SciFi': scifis['total_profit'],\n",
    "                             'Mystery': mysteries['total_profit']})\n",
    "\n",
    "# Creating a list of genres in order of greatest to lowest proportion of low profit movies \n",
    "# Creating this list so that visualizations can match the order of the most recent contingency table\n",
    "genre_order = []\n",
    "for idx, row in low_v_not_contingency.iterrows():\n",
    "    genre_order.append(idx)\n",
    "genre_order\n",
    "\n",
    "### Visualizing Profit distributions\n",
    "\n",
    "import seaborn as sns\n",
    "\n",
    "fig, ax = plt.subplots(figsize = (15,8))\n",
    "sns.boxplot(data=combined_dfs, palette='crest', order = genre_order)\n",
    "ax.set_title(\"Profit Distributions for Final 10 Genres\")\n",
    "ax.set_xlabel(\"Genre\")\n",
    "ax.set_ylabel(\"Profit in USD\");\n",
    "plt.show()"
   ]
  },
  {
   "cell_type": "markdown",
   "metadata": {},
   "source": [
    "This visualization helps demonstrate that the overall distributions for each genre are relatively similar, which is consistent with our interpretation of the Cramer's V value. \n",
    "\n",
    "### Bar Chart of Genre Frequency for Final Dataset\n",
    "\n",
    "The bar chart below visualizes the number of movies representing each genre in the final dataset.\n",
    "\n",
    "Resource: https://datavizpyr.com/sort-bars-in-barplot-using-seaborn-in-python/#:~:text=Sort%20Bars%20in%20Barplot%20in%20Ascending%20Order%20in,variable%20in%20the%20order%20we%20want%20to%20plot."
   ]
  },
  {
   "cell_type": "code",
   "execution_count": 50,
   "metadata": {},
   "outputs": [
    {
     "data": {
      "image/png": "[encoded data removed]",
      "text/plain": [
       "<Figure size 720x576 with 1 Axes>"
      ]
     },
     "metadata": {
      "needs_background": "light"
     },
     "output_type": "display_data"
    }
   ],
   "source": [
    "# Take the subset of the dataframe for only the genres included in the final dataset. \n",
    "final_genres_df = budgets_and_genre_dummys.loc [ (budgets_and_genre_dummys['Romance'] == 1) \n",
    "                                                | (budgets_and_genre_dummys['Adventure'] == 1) \n",
    "                                                | (budgets_and_genre_dummys['Drama'] == 1) \n",
    "                                                | (budgets_and_genre_dummys['Horror'] == 1) \n",
    "                                                | (budgets_and_genre_dummys['Action'] == 1) \n",
    "                                                | (budgets_and_genre_dummys['Comedy'] == 1) \n",
    "                                                | (budgets_and_genre_dummys['Thriller'] == 1) \n",
    "                                                | (budgets_and_genre_dummys['Crime'] == 1) \n",
    "                                                | (budgets_and_genre_dummys['SciFi'] == 1) \n",
    "                                                | (budgets_and_genre_dummys['Mystery'] == 1)  ]\n",
    "\n",
    "\n",
    "# Create a frequency dictionary for the genres \n",
    "# (must be done manually rather than my value_counts since there are multiple genres in each row)\n",
    "\n",
    "def freq_dictionary(dataframe):\n",
    "    genre_sums = {}\n",
    "    \n",
    "    for col in dataframe.columns:\n",
    "    \n",
    "        ignored_cols = [\"title\", \"genre_ids\",\"total_profit\",'relative_profit_cat',\"\"]\n",
    "        \n",
    "        # for each genre column\n",
    "        if col not in ignored_cols:\n",
    "            \n",
    "            # create a key in the dictionary for that genre\n",
    "            # make the value equal to the total number of movies with a 1 in that column (equal to sum)\n",
    "            genre_sums[col] = dataframe[col].sum()\n",
    "        \n",
    "    return genre_sums\n",
    "\n",
    "genre_sums = freq_dictionary(final_genres_df)\n",
    "\n",
    "\n",
    "# plot the frequency dictionary in order at which the genres appear in the final contingency table\n",
    "fig, ax = plt.subplots(figsize=(10,8))\n",
    "sns.barplot(x = list(genre_sums.keys()), y = list(genre_sums.values()), order = genre_order, palette = 'crest')\n",
    "plt.xticks(rotation = 90)\n",
    "ax.set_title(\"Frequency of Genres\")\n",
    "ax.set_xlabel(\"Genre\")\n",
    "ax.set_ylabel(\"Frequency\");"
   ]
  },
  {
   "cell_type": "markdown",
   "metadata": {},
   "source": [
    "While there doesn't appear to be a particular trend in this order, it is interesting that dramas, which have the highest proportion of low profit movies, are also the most represented.\n",
    "\n",
    "### Stacked Bar Charts\n",
    "\n",
    "The following barchart visualizes the proportional differences in profit categories for the genres in the final contingency table.\n",
    "\n",
    "Resource: https://www.datasciencelearner.com/stacked-bar-graph-in-python-step/#:~:text=We%20can%20draw%20a%20stacked%20bar%20graphs%20in,seaborn%20library%20as%20well%20to%20achieve%20the%20same."
   ]
  },
  {
   "cell_type": "code",
   "execution_count": 51,
   "metadata": {},
   "outputs": [
    {
     "data": {
      "image/png": "[encoded data removed]",
      "text/plain": [
       "<Figure size 720x576 with 1 Axes>"
      ]
     },
     "metadata": {
      "needs_background": "light"
     },
     "output_type": "display_data"
    }
   ],
   "source": [
    "ax = low_v_not_contingency.plot(kind = 'bar', stacked = True, \n",
    "                           title = \"Proportion of Low vs. Non-Low Profit\", \n",
    "                           figsize = (10,8),\n",
    "                           color = ['#358e85', '#99d18f'])\n",
    "ax.set_xlabel(\"Genre\")\n",
    "ax.set_ylabel(\"Percentage\")\n",
    "ax.legend(['Non-Low Profit','Low Profit']);"
   ]
  },
  {
   "cell_type": "markdown",
   "metadata": {},
   "source": [
    "The following bar charts visualize the proportion of high, medium, and low profit movies for all genres included in the final analysis. The only difference between the two is the order in which the genres are sorted. The former sorts from largest to smallest proportion of high profit movies, the latter sorts from largest to smallest proportion of low profit movies. "
   ]
  },
  {
   "cell_type": "code",
   "execution_count": 52,
   "metadata": {},
   "outputs": [
    {
     "data": {
      "image/png": "[encoded data removed]",
      "text/plain": [
       "<Figure size 720x576 with 1 Axes>"
      ]
     },
     "metadata": {
      "needs_background": "light"
     },
     "output_type": "display_data"
    }
   ],
   "source": [
    "# Create percetange columns\n",
    "contingency_table['perc_low'] = round( (contingency_table['low'] / \n",
    "                                        (contingency_table['low'] + \n",
    "                                         contingency_table['medium'] + \n",
    "                                         contingency_table['high']))*100,2)\n",
    "contingency_table['perc_medium'] = round( (contingency_table['medium'] / \n",
    "                                        (contingency_table['low'] + \n",
    "                                         contingency_table['medium'] + \n",
    "                                         contingency_table['high']))*100,2)\n",
    "contingency_table['perc_high'] = round( (contingency_table['high'] / \n",
    "                                        (contingency_table['low'] + \n",
    "                                         contingency_table['medium'] + \n",
    "                                         contingency_table['high']))*100,2)\n",
    "\n",
    "# Create new dataframe which only contains the percentage columns\n",
    "# sort by greatest proportion of hight profit movies to lowest proportion\n",
    "contingency_table_prop = contingency_table[['perc_low','perc_medium','perc_high']]\n",
    "contingency_table_prop = contingency_table_prop.sort_values(by = 'perc_high', ascending = False)\n",
    "\n",
    "# plot the percentage dataframe\n",
    "ax = contingency_table_prop.plot(kind = 'bar', stacked = True, \n",
    "                           title = \"Proportion of Profit Categories\", \n",
    "                           figsize = (10,8),\n",
    "                           color = ['#000040', '#358e85', '#99d18f'])\n",
    "ax.set_xlabel(\"Genre\")\n",
    "ax.set_ylabel(\"Percentage\")\n",
    "ax.legend(['Low','Medium', 'High']);"
   ]
  },
  {
   "cell_type": "code",
   "execution_count": 53,
   "metadata": {},
   "outputs": [
    {
     "data": {
      "image/png": "[encoded data removed]",
      "text/plain": [
       "<Figure size 720x576 with 1 Axes>"
      ]
     },
     "metadata": {
      "needs_background": "light"
     },
     "output_type": "display_data"
    }
   ],
   "source": [
    "# re-sort proportion table from highest percentage of low profit movies to lowest proportion\n",
    "contingency_table_prop = contingency_table_prop.sort_values(by = 'perc_low', ascending = False)\n",
    "\n",
    "# plot the newly sorted dataframe\n",
    "ax = contingency_table_prop.plot(kind = 'bar', stacked = True, \n",
    "                           title = \"Proportion of Profit Categories\", \n",
    "                           figsize = (10,8),\n",
    "                           color = ['#000040', '#358e85', '#99d18f'])\n",
    "ax.set_xlabel(\"Genre\")\n",
    "ax.set_ylabel(\"Percentage\")\n",
    "ax.legend(['Low','Medium', 'High']);"
   ]
  },
  {
   "cell_type": "code",
   "execution_count": null,
   "metadata": {},
   "outputs": [],
   "source": []
  }
 ],
 "metadata": {
  "kernelspec": {
   "display_name": "Python (learn-env)",
   "language": "python",
   "name": "learn-env"
  },
  "language_info": {
   "codemirror_mode": {
    "name": "ipython",
    "version": 3
   },
   "file_extension": ".py",
   "mimetype": "text/x-python",
   "name": "python",
   "nbconvert_exporter": "python",
   "pygments_lexer": "ipython3",
   "version": "3.8.5"
  }
 },
 "nbformat": 4,
 "nbformat_minor": 4
}
