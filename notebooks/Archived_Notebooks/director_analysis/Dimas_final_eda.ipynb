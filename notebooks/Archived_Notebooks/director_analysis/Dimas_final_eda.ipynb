{
 "cells": [
  {
   "cell_type": "markdown",
   "metadata": {},
   "source": [
    "### Dima's Exploratory Data Analysis"
   ]
  },
  {
   "cell_type": "markdown",
   "metadata": {},
   "source": [
    "To start exploring the data I will first start off with importing the necessary libraries I will be needing"
   ]
  },
  {
   "cell_type": "code",
   "execution_count": 1,
   "metadata": {},
   "outputs": [],
   "source": [
    "# Imports\n",
    "import pandas as pd\n",
    "import numpy as np\n",
    "import sqlite3\n",
    "import matplotlib\n",
    "import matplotlib.pyplot as plt\n",
    "import seaborn as sns\n",
    "from scipy import stats\n",
    "from sklearn.datasets import load_iris\n",
    "from pandas import Series, DataFrame\n",
    "\n",
    "%matplotlib inline"
   ]
  },
  {
   "cell_type": "markdown",
   "metadata": {},
   "source": [
    "### Movie Info\n",
    "The dataframe that I will be researching is the movie info dataframe, the first step is that I will read into the tsv file that provided"
   ]
  },
  {
   "cell_type": "code",
   "execution_count": 2,
   "metadata": {},
   "outputs": [
    {
     "data": {
      "text/html": [
       "<div>\n",
       "<style scoped>\n",
       "    .dataframe tbody tr th:only-of-type {\n",
       "        vertical-align: middle;\n",
       "    }\n",
       "\n",
       "    .dataframe tbody tr th {\n",
       "        vertical-align: top;\n",
       "    }\n",
       "\n",
       "    .dataframe thead th {\n",
       "        text-align: right;\n",
       "    }\n",
       "</style>\n",
       "<table border=\"1\" class=\"dataframe\">\n",
       "  <thead>\n",
       "    <tr style=\"text-align: right;\">\n",
       "      <th></th>\n",
       "      <th>id</th>\n",
       "      <th>synopsis</th>\n",
       "      <th>rating</th>\n",
       "      <th>genre</th>\n",
       "      <th>director</th>\n",
       "      <th>writer</th>\n",
       "      <th>theater_date</th>\n",
       "      <th>dvd_date</th>\n",
       "      <th>currency</th>\n",
       "      <th>box_office</th>\n",
       "      <th>runtime</th>\n",
       "      <th>studio</th>\n",
       "    </tr>\n",
       "  </thead>\n",
       "  <tbody>\n",
       "    <tr>\n",
       "      <th>0</th>\n",
       "      <td>1</td>\n",
       "      <td>This gritty, fast-paced, and innovative police...</td>\n",
       "      <td>R</td>\n",
       "      <td>Action and Adventure|Classics|Drama</td>\n",
       "      <td>William Friedkin</td>\n",
       "      <td>Ernest Tidyman</td>\n",
       "      <td>1971-10-09</td>\n",
       "      <td>2001-09-25</td>\n",
       "      <td>NaN</td>\n",
       "      <td>NaN</td>\n",
       "      <td>104 minutes</td>\n",
       "      <td>NaN</td>\n",
       "    </tr>\n",
       "    <tr>\n",
       "      <th>1</th>\n",
       "      <td>3</td>\n",
       "      <td>New York City, not-too-distant-future: Eric Pa...</td>\n",
       "      <td>R</td>\n",
       "      <td>Drama|Science Fiction and Fantasy</td>\n",
       "      <td>David Cronenberg</td>\n",
       "      <td>David Cronenberg|Don DeLillo</td>\n",
       "      <td>2012-08-17</td>\n",
       "      <td>2013-01-01</td>\n",
       "      <td>$</td>\n",
       "      <td>600,000</td>\n",
       "      <td>108 minutes</td>\n",
       "      <td>Entertainment One</td>\n",
       "    </tr>\n",
       "    <tr>\n",
       "      <th>2</th>\n",
       "      <td>5</td>\n",
       "      <td>Illeana Douglas delivers a superb performance ...</td>\n",
       "      <td>R</td>\n",
       "      <td>Drama|Musical and Performing Arts</td>\n",
       "      <td>Allison Anders</td>\n",
       "      <td>Allison Anders</td>\n",
       "      <td>1996-09-13</td>\n",
       "      <td>2000-04-18</td>\n",
       "      <td>NaN</td>\n",
       "      <td>NaN</td>\n",
       "      <td>116 minutes</td>\n",
       "      <td>NaN</td>\n",
       "    </tr>\n",
       "    <tr>\n",
       "      <th>3</th>\n",
       "      <td>6</td>\n",
       "      <td>Michael Douglas runs afoul of a treacherous su...</td>\n",
       "      <td>R</td>\n",
       "      <td>Drama|Mystery and Suspense</td>\n",
       "      <td>Barry Levinson</td>\n",
       "      <td>Paul Attanasio|Michael Crichton</td>\n",
       "      <td>1994-12-09</td>\n",
       "      <td>1997-08-27</td>\n",
       "      <td>NaN</td>\n",
       "      <td>NaN</td>\n",
       "      <td>128 minutes</td>\n",
       "      <td>NaN</td>\n",
       "    </tr>\n",
       "    <tr>\n",
       "      <th>4</th>\n",
       "      <td>7</td>\n",
       "      <td>NaN</td>\n",
       "      <td>NR</td>\n",
       "      <td>Drama|Romance</td>\n",
       "      <td>Rodney Bennett</td>\n",
       "      <td>Giles Cooper</td>\n",
       "      <td>NaT</td>\n",
       "      <td>NaT</td>\n",
       "      <td>NaN</td>\n",
       "      <td>NaN</td>\n",
       "      <td>200 minutes</td>\n",
       "      <td>NaN</td>\n",
       "    </tr>\n",
       "  </tbody>\n",
       "</table>\n",
       "</div>"
      ],
      "text/plain": [
       "   id                                           synopsis rating  \\\n",
       "0   1  This gritty, fast-paced, and innovative police...      R   \n",
       "1   3  New York City, not-too-distant-future: Eric Pa...      R   \n",
       "2   5  Illeana Douglas delivers a superb performance ...      R   \n",
       "3   6  Michael Douglas runs afoul of a treacherous su...      R   \n",
       "4   7                                                NaN     NR   \n",
       "\n",
       "                                 genre          director  \\\n",
       "0  Action and Adventure|Classics|Drama  William Friedkin   \n",
       "1    Drama|Science Fiction and Fantasy  David Cronenberg   \n",
       "2    Drama|Musical and Performing Arts    Allison Anders   \n",
       "3           Drama|Mystery and Suspense    Barry Levinson   \n",
       "4                        Drama|Romance    Rodney Bennett   \n",
       "\n",
       "                            writer theater_date   dvd_date currency  \\\n",
       "0                   Ernest Tidyman   1971-10-09 2001-09-25      NaN   \n",
       "1     David Cronenberg|Don DeLillo   2012-08-17 2013-01-01        $   \n",
       "2                   Allison Anders   1996-09-13 2000-04-18      NaN   \n",
       "3  Paul Attanasio|Michael Crichton   1994-12-09 1997-08-27      NaN   \n",
       "4                     Giles Cooper          NaT        NaT      NaN   \n",
       "\n",
       "  box_office      runtime             studio  \n",
       "0        NaN  104 minutes                NaN  \n",
       "1    600,000  108 minutes  Entertainment One  \n",
       "2        NaN  116 minutes                NaN  \n",
       "3        NaN  128 minutes                NaN  \n",
       "4        NaN  200 minutes                NaN  "
      ]
     },
     "execution_count": 2,
     "metadata": {},
     "output_type": "execute_result"
    }
   ],
   "source": [
    "# Read in the data as movie_info\n",
    "# Use parse_dates and pass column name to read it as a datetime\n",
    "movie_info = pd.read_csv('../../../Data/rt.movie_info.tsv', encoding='latin-1', sep='\\t', \n",
    "                        parse_dates=['theater_date', 'dvd_date'])\n",
    "movie_info.head()"
   ]
  },
  {
   "cell_type": "markdown",
   "metadata": {},
   "source": [
    "Looking at just the columns within the movie_info dataframe."
   ]
  },
  {
   "cell_type": "code",
   "execution_count": 3,
   "metadata": {},
   "outputs": [
    {
     "data": {
      "text/plain": [
       "Index(['id', 'synopsis', 'rating', 'genre', 'director', 'writer',\n",
       "       'theater_date', 'dvd_date', 'currency', 'box_office', 'runtime',\n",
       "       'studio'],\n",
       "      dtype='object')"
      ]
     },
     "execution_count": 3,
     "metadata": {},
     "output_type": "execute_result"
    }
   ],
   "source": [
    "movie_info.columns"
   ]
  },
  {
   "cell_type": "code",
   "execution_count": 4,
   "metadata": {},
   "outputs": [
    {
     "name": "stdout",
     "output_type": "stream",
     "text": [
      "<class 'pandas.core.frame.DataFrame'>\n",
      "RangeIndex: 1560 entries, 0 to 1559\n",
      "Data columns (total 12 columns):\n",
      " #   Column        Non-Null Count  Dtype         \n",
      "---  ------        --------------  -----         \n",
      " 0   id            1560 non-null   int64         \n",
      " 1   synopsis      1498 non-null   object        \n",
      " 2   rating        1557 non-null   object        \n",
      " 3   genre         1552 non-null   object        \n",
      " 4   director      1361 non-null   object        \n",
      " 5   writer        1111 non-null   object        \n",
      " 6   theater_date  1201 non-null   datetime64[ns]\n",
      " 7   dvd_date      1201 non-null   datetime64[ns]\n",
      " 8   currency      340 non-null    object        \n",
      " 9   box_office    340 non-null    object        \n",
      " 10  runtime       1530 non-null   object        \n",
      " 11  studio        494 non-null    object        \n",
      "dtypes: datetime64[ns](2), int64(1), object(9)\n",
      "memory usage: 146.4+ KB\n"
     ]
    }
   ],
   "source": [
    "# Info on the dataframe\n",
    "movie_info.info()"
   ]
  },
  {
   "cell_type": "markdown",
   "metadata": {},
   "source": [
    "### Data Cleaning"
   ]
  },
  {
   "cell_type": "markdown",
   "metadata": {},
   "source": [
    "In this section, we will start by cleaning the movie_info dataframe before we can draw any conclusions.\n",
    "It will help us inspect the data better and get a more accurate general understanding of the data at hand.\n"
   ]
  },
  {
   "cell_type": "markdown",
   "metadata": {},
   "source": [
    "**Step 1:** Check if we have any null values in each column"
   ]
  },
  {
   "cell_type": "code",
   "execution_count": 5,
   "metadata": {},
   "outputs": [
    {
     "data": {
      "text/plain": [
       "id                 0\n",
       "synopsis          62\n",
       "rating             3\n",
       "genre              8\n",
       "director         199\n",
       "writer           449\n",
       "theater_date     359\n",
       "dvd_date         359\n",
       "currency        1220\n",
       "box_office      1220\n",
       "runtime           30\n",
       "studio          1066\n",
       "dtype: int64"
      ]
     },
     "execution_count": 5,
     "metadata": {},
     "output_type": "execute_result"
    }
   ],
   "source": [
    "movie_info.isnull().sum()"
   ]
  },
  {
   "cell_type": "markdown",
   "metadata": {},
   "source": [
    "**Step 2:** Dealing with null values\n",
    "\n",
    "To clean the columns from null values, I will be replacing the values in some of the columns with 'Missing\" so that it's all consistent across the columns"
   ]
  },
  {
   "cell_type": "code",
   "execution_count": 6,
   "metadata": {},
   "outputs": [],
   "source": [
    "#Fill the missing values in synposis, genre, director, writer, currency, studio with 'Missing'\n",
    "movie_info['synopsis'].fillna('Missing', inplace=True)\n",
    "movie_info['rating'].fillna('Missing', inplace=True)\n",
    "movie_info['genre'].fillna('Missing', inplace=True)\n",
    "movie_info['director'].fillna('Missing', inplace=True)\n",
    "movie_info['writer'].fillna('Missing', inplace=True)\n",
    "movie_info['currency'].fillna('Missing', inplace=True)\n",
    "movie_info['studio'].fillna('Missing', inplace=True)"
   ]
  },
  {
   "cell_type": "code",
   "execution_count": 7,
   "metadata": {},
   "outputs": [],
   "source": [
    "#Fill theater_date and dvd_date missing values with a generic date \"1800-01-01\" to keep same format\n",
    "movie_info['theater_date'].fillna('1800-01-01', inplace=True)\n",
    "movie_info['dvd_date'].fillna('1800-01-01', inplace=True)"
   ]
  },
  {
   "cell_type": "code",
   "execution_count": 8,
   "metadata": {},
   "outputs": [],
   "source": [
    "#Fill box_office missing valus with 0\n",
    "movie_info['box_office'].fillna(0, inplace=True)"
   ]
  },
  {
   "cell_type": "code",
   "execution_count": 9,
   "metadata": {},
   "outputs": [],
   "source": [
    "#Fill runtime missing valus with 0\n",
    "movie_info['runtime'].fillna('0 minutes', inplace=True)"
   ]
  },
  {
   "cell_type": "markdown",
   "metadata": {},
   "source": [
    "**Step 3:** check for any duplicates"
   ]
  },
  {
   "cell_type": "code",
   "execution_count": 10,
   "metadata": {},
   "outputs": [
    {
     "data": {
      "text/plain": [
       "False    1560\n",
       "dtype: int64"
      ]
     },
     "execution_count": 10,
     "metadata": {},
     "output_type": "execute_result"
    }
   ],
   "source": [
    "movie_info.duplicated().value_counts()"
   ]
  },
  {
   "cell_type": "markdown",
   "metadata": {},
   "source": [
    "It doesn't look like we have any duplicates."
   ]
  },
  {
   "cell_type": "code",
   "execution_count": 11,
   "metadata": {},
   "outputs": [],
   "source": [
    "movie_info['runtime'] = movie_info['runtime'].str.replace('minutes',\"\")\n",
    "movie_info['runtime'] = pd.to_numeric(movie_info['runtime'])"
   ]
  },
  {
   "cell_type": "markdown",
   "metadata": {},
   "source": [
    "### Data Analyzing"
   ]
  },
  {
   "cell_type": "markdown",
   "metadata": {},
   "source": [
    "In this section, I want to look at the different variables within this data frame to see what factors may contribute to successful movies"
   ]
  },
  {
   "cell_type": "markdown",
   "metadata": {},
   "source": [
    "The question I'm looking at is if there is a certain Director that is more successful than others that potentially could be hired to direct the movies?\n",
    "\n",
    "I will look at the count of movies directed per director, as directors with more experience could potentially yield higher profit due to their expertise. \n",
    "\n",
    "- First, I want to sort directors by the amount of movies they've directed.\n",
    "- Second, I want to look at the trend between the count of movies per director and the profit\n",
    "    - To do that, I will merge the budget dataframe and movie_info data frame to check the profit generated by each director.\n",
    "- Third, I will sort the top directors with the highest average profit."
   ]
  },
  {
   "cell_type": "code",
   "execution_count": 12,
   "metadata": {},
   "outputs": [
    {
     "data": {
      "text/plain": [
       "Missing             199\n",
       "Steven Spielberg     10\n",
       "Clint Eastwood        8\n",
       "Jim Jarmusch          4\n",
       "Alfred Hitchcock      4\n",
       "                   ... \n",
       "William Dear          1\n",
       "Jeff Tremaine         1\n",
       "David Anspaugh        1\n",
       "Nikos Nikolaidis      1\n",
       "Robert Ginty          1\n",
       "Name: director, Length: 1126, dtype: int64"
      ]
     },
     "execution_count": 12,
     "metadata": {},
     "output_type": "execute_result"
    }
   ],
   "source": [
    "movie_info['director'].value_counts()"
   ]
  },
  {
   "cell_type": "code",
   "execution_count": 13,
   "metadata": {},
   "outputs": [
    {
     "data": {
      "text/html": [
       "<div>\n",
       "<style scoped>\n",
       "    .dataframe tbody tr th:only-of-type {\n",
       "        vertical-align: middle;\n",
       "    }\n",
       "\n",
       "    .dataframe tbody tr th {\n",
       "        vertical-align: top;\n",
       "    }\n",
       "\n",
       "    .dataframe thead th {\n",
       "        text-align: right;\n",
       "    }\n",
       "</style>\n",
       "<table border=\"1\" class=\"dataframe\">\n",
       "  <thead>\n",
       "    <tr style=\"text-align: right;\">\n",
       "      <th></th>\n",
       "      <th>id</th>\n",
       "      <th>synopsis</th>\n",
       "      <th>rating</th>\n",
       "      <th>genre</th>\n",
       "      <th>director</th>\n",
       "      <th>writer</th>\n",
       "      <th>theater_date</th>\n",
       "      <th>dvd_date</th>\n",
       "      <th>currency</th>\n",
       "      <th>box_office</th>\n",
       "      <th>runtime</th>\n",
       "      <th>studio</th>\n",
       "    </tr>\n",
       "  </thead>\n",
       "  <tbody>\n",
       "    <tr>\n",
       "      <th>0</th>\n",
       "      <td>1</td>\n",
       "      <td>This gritty, fast-paced, and innovative police...</td>\n",
       "      <td>R</td>\n",
       "      <td>Action and Adventure|Classics|Drama</td>\n",
       "      <td>William Friedkin</td>\n",
       "      <td>Ernest Tidyman</td>\n",
       "      <td>1971-10-09 00:00:00</td>\n",
       "      <td>2001-09-25 00:00:00</td>\n",
       "      <td>Missing</td>\n",
       "      <td>0</td>\n",
       "      <td>104</td>\n",
       "      <td>Missing</td>\n",
       "    </tr>\n",
       "    <tr>\n",
       "      <th>1</th>\n",
       "      <td>3</td>\n",
       "      <td>New York City, not-too-distant-future: Eric Pa...</td>\n",
       "      <td>R</td>\n",
       "      <td>Drama|Science Fiction and Fantasy</td>\n",
       "      <td>David Cronenberg</td>\n",
       "      <td>David Cronenberg|Don DeLillo</td>\n",
       "      <td>2012-08-17 00:00:00</td>\n",
       "      <td>2013-01-01 00:00:00</td>\n",
       "      <td>$</td>\n",
       "      <td>600,000</td>\n",
       "      <td>108</td>\n",
       "      <td>Entertainment One</td>\n",
       "    </tr>\n",
       "    <tr>\n",
       "      <th>2</th>\n",
       "      <td>5</td>\n",
       "      <td>Illeana Douglas delivers a superb performance ...</td>\n",
       "      <td>R</td>\n",
       "      <td>Drama|Musical and Performing Arts</td>\n",
       "      <td>Allison Anders</td>\n",
       "      <td>Allison Anders</td>\n",
       "      <td>1996-09-13 00:00:00</td>\n",
       "      <td>2000-04-18 00:00:00</td>\n",
       "      <td>Missing</td>\n",
       "      <td>0</td>\n",
       "      <td>116</td>\n",
       "      <td>Missing</td>\n",
       "    </tr>\n",
       "    <tr>\n",
       "      <th>3</th>\n",
       "      <td>6</td>\n",
       "      <td>Michael Douglas runs afoul of a treacherous su...</td>\n",
       "      <td>R</td>\n",
       "      <td>Drama|Mystery and Suspense</td>\n",
       "      <td>Barry Levinson</td>\n",
       "      <td>Paul Attanasio|Michael Crichton</td>\n",
       "      <td>1994-12-09 00:00:00</td>\n",
       "      <td>1997-08-27 00:00:00</td>\n",
       "      <td>Missing</td>\n",
       "      <td>0</td>\n",
       "      <td>128</td>\n",
       "      <td>Missing</td>\n",
       "    </tr>\n",
       "    <tr>\n",
       "      <th>4</th>\n",
       "      <td>7</td>\n",
       "      <td>Missing</td>\n",
       "      <td>NR</td>\n",
       "      <td>Drama|Romance</td>\n",
       "      <td>Rodney Bennett</td>\n",
       "      <td>Giles Cooper</td>\n",
       "      <td>1800-01-01</td>\n",
       "      <td>1800-01-01</td>\n",
       "      <td>Missing</td>\n",
       "      <td>0</td>\n",
       "      <td>200</td>\n",
       "      <td>Missing</td>\n",
       "    </tr>\n",
       "  </tbody>\n",
       "</table>\n",
       "</div>"
      ],
      "text/plain": [
       "   id                                           synopsis rating  \\\n",
       "0   1  This gritty, fast-paced, and innovative police...      R   \n",
       "1   3  New York City, not-too-distant-future: Eric Pa...      R   \n",
       "2   5  Illeana Douglas delivers a superb performance ...      R   \n",
       "3   6  Michael Douglas runs afoul of a treacherous su...      R   \n",
       "4   7                                            Missing     NR   \n",
       "\n",
       "                                 genre          director  \\\n",
       "0  Action and Adventure|Classics|Drama  William Friedkin   \n",
       "1    Drama|Science Fiction and Fantasy  David Cronenberg   \n",
       "2    Drama|Musical and Performing Arts    Allison Anders   \n",
       "3           Drama|Mystery and Suspense    Barry Levinson   \n",
       "4                        Drama|Romance    Rodney Bennett   \n",
       "\n",
       "                            writer         theater_date             dvd_date  \\\n",
       "0                   Ernest Tidyman  1971-10-09 00:00:00  2001-09-25 00:00:00   \n",
       "1     David Cronenberg|Don DeLillo  2012-08-17 00:00:00  2013-01-01 00:00:00   \n",
       "2                   Allison Anders  1996-09-13 00:00:00  2000-04-18 00:00:00   \n",
       "3  Paul Attanasio|Michael Crichton  1994-12-09 00:00:00  1997-08-27 00:00:00   \n",
       "4                     Giles Cooper           1800-01-01           1800-01-01   \n",
       "\n",
       "  currency box_office  runtime             studio  \n",
       "0  Missing          0      104            Missing  \n",
       "1        $    600,000      108  Entertainment One  \n",
       "2  Missing          0      116            Missing  \n",
       "3  Missing          0      128            Missing  \n",
       "4  Missing          0      200            Missing  "
      ]
     },
     "execution_count": 13,
     "metadata": {},
     "output_type": "execute_result"
    }
   ],
   "source": [
    "movie_info.head()"
   ]
  },
  {
   "cell_type": "code",
   "execution_count": 14,
   "metadata": {},
   "outputs": [
    {
     "data": {
      "text/plain": [
       "Missing             199\n",
       "Steven Spielberg     10\n",
       "Clint Eastwood        8\n",
       "Jim Jarmusch          4\n",
       "Alfred Hitchcock      4\n",
       "                   ... \n",
       "William Dear          1\n",
       "Jeff Tremaine         1\n",
       "David Anspaugh        1\n",
       "Nikos Nikolaidis      1\n",
       "Robert Ginty          1\n",
       "Name: director, Length: 1126, dtype: int64"
      ]
     },
     "execution_count": 14,
     "metadata": {},
     "output_type": "execute_result"
    }
   ],
   "source": [
    "# I will create a new dataframe so that I don't alter the original one\n",
    "director_count = movie_info['director'].value_counts()\n",
    "director_count"
   ]
  },
  {
   "cell_type": "code",
   "execution_count": 15,
   "metadata": {},
   "outputs": [
    {
     "data": {
      "text/plain": [
       "Missing               199\n",
       "Steven Spielberg       10\n",
       "Clint Eastwood          8\n",
       "William Friedkin        4\n",
       "Yimou Zhang             4\n",
       "Barry Levinson          4\n",
       "Ridley Scott            4\n",
       "Curtis Hanson           4\n",
       "Woody Allen             4\n",
       "Bruce Beresford         4\n",
       "Alfred Hitchcock        4\n",
       "Jim Jarmusch            4\n",
       "William Beaudine        4\n",
       "Lawrence Kasdan         3\n",
       "Werner Herzog           3\n",
       "Richard Linklater       3\n",
       "Howard Hawks            3\n",
       "Ang Lee                 3\n",
       "Martha Coolidge         3\n",
       "Joseph Ruben            3\n",
       "Sylvester Stallone      3\n",
       "George Sidney           3\n",
       "Peter Bogdanovich       3\n",
       "Anatole Litvak          3\n",
       "John Frankenheimer      3\n",
       "Hong Sang-soo           3\n",
       "Name: director, dtype: int64"
      ]
     },
     "execution_count": 15,
     "metadata": {},
     "output_type": "execute_result"
    }
   ],
   "source": [
    "# I want to view the top 25 directors by count of movies directed\n",
    "director_count.sort_values(ascending=False)[:26]"
   ]
  },
  {
   "cell_type": "code",
   "execution_count": 16,
   "metadata": {},
   "outputs": [
    {
     "data": {
      "text/plain": [
       "Missing               199\n",
       "Steven Spielberg       10\n",
       "Clint Eastwood          8\n",
       "William Friedkin        4\n",
       "Yimou Zhang             4\n",
       "Barry Levinson          4\n",
       "Ridley Scott            4\n",
       "Curtis Hanson           4\n",
       "Woody Allen             4\n",
       "Bruce Beresford         4\n",
       "Alfred Hitchcock        4\n",
       "Jim Jarmusch            4\n",
       "William Beaudine        4\n",
       "Lawrence Kasdan         3\n",
       "Werner Herzog           3\n",
       "Richard Linklater       3\n",
       "Howard Hawks            3\n",
       "Ang Lee                 3\n",
       "Martha Coolidge         3\n",
       "Joseph Ruben            3\n",
       "Sylvester Stallone      3\n",
       "George Sidney           3\n",
       "Peter Bogdanovich       3\n",
       "Anatole Litvak          3\n",
       "John Frankenheimer      3\n",
       "Hong Sang-soo           3\n",
       "Name: director, dtype: int64"
      ]
     },
     "execution_count": 16,
     "metadata": {},
     "output_type": "execute_result"
    }
   ],
   "source": [
    "# I will make a data frame with just the top 25 directors\n",
    "top_director = movie_info['director'].value_counts().sort_values(ascending=False).head(26)\n",
    "top_director"
   ]
  },
  {
   "cell_type": "code",
   "execution_count": 17,
   "metadata": {},
   "outputs": [],
   "source": [
    "#Previously I filled all the null values with Missing, I will go ahead and drop the missing row since I have no use for it.\n",
    "top_director = top_director.drop(labels=\"Missing\")"
   ]
  },
  {
   "cell_type": "code",
   "execution_count": 18,
   "metadata": {},
   "outputs": [
    {
     "data": {
      "image/png": "[encoded data removed]",
      "text/plain": [
       "<Figure size 864x576 with 1 Axes>"
      ]
     },
     "metadata": {
      "needs_background": "light"
     },
     "output_type": "display_data"
    }
   ],
   "source": [
    "#Let's visualize the top 25 directors\n",
    "ax = top_director.plot.bar(color='mediumseagreen', figsize=(12,8))\n",
    "ax.tick_params(axis='x', labelrotation = 60)\n",
    "ax.set_title('Top Directors')\n",
    "ax.set_xlabel('Director')\n",
    "ax.set_ylabel('Number of Movies');        "
   ]
  },
  {
   "cell_type": "markdown",
   "metadata": {},
   "source": [
    "### Let's look at the budget dataframe"
   ]
  },
  {
   "cell_type": "markdown",
   "metadata": {},
   "source": [
    "Now that we've looked at top directors. I will look at directors in relation with profit and check if it has a direct relationship with the amount of profit.\n",
    "\n",
    "For this, I will be using Morgan's work on the budget table since I need the profit, and go from there."
   ]
  },
  {
   "cell_type": "code",
   "execution_count": 19,
   "metadata": {},
   "outputs": [
    {
     "data": {
      "text/html": [
       "<div>\n",
       "<style scoped>\n",
       "    .dataframe tbody tr th:only-of-type {\n",
       "        vertical-align: middle;\n",
       "    }\n",
       "\n",
       "    .dataframe tbody tr th {\n",
       "        vertical-align: top;\n",
       "    }\n",
       "\n",
       "    .dataframe thead th {\n",
       "        text-align: right;\n",
       "    }\n",
       "</style>\n",
       "<table border=\"1\" class=\"dataframe\">\n",
       "  <thead>\n",
       "    <tr style=\"text-align: right;\">\n",
       "      <th></th>\n",
       "      <th>id</th>\n",
       "      <th>release_date</th>\n",
       "      <th>movie</th>\n",
       "      <th>production_budget</th>\n",
       "      <th>domestic_gross</th>\n",
       "      <th>worldwide_gross</th>\n",
       "    </tr>\n",
       "  </thead>\n",
       "  <tbody>\n",
       "    <tr>\n",
       "      <th>0</th>\n",
       "      <td>1</td>\n",
       "      <td>Dec 18, 2009</td>\n",
       "      <td>Avatar</td>\n",
       "      <td>$425,000,000</td>\n",
       "      <td>$760,507,625</td>\n",
       "      <td>$2,776,345,279</td>\n",
       "    </tr>\n",
       "    <tr>\n",
       "      <th>1</th>\n",
       "      <td>2</td>\n",
       "      <td>May 20, 2011</td>\n",
       "      <td>Pirates of the Caribbean: On Stranger Tides</td>\n",
       "      <td>$410,600,000</td>\n",
       "      <td>$241,063,875</td>\n",
       "      <td>$1,045,663,875</td>\n",
       "    </tr>\n",
       "    <tr>\n",
       "      <th>2</th>\n",
       "      <td>3</td>\n",
       "      <td>Jun 7, 2019</td>\n",
       "      <td>Dark Phoenix</td>\n",
       "      <td>$350,000,000</td>\n",
       "      <td>$42,762,350</td>\n",
       "      <td>$149,762,350</td>\n",
       "    </tr>\n",
       "    <tr>\n",
       "      <th>3</th>\n",
       "      <td>4</td>\n",
       "      <td>May 1, 2015</td>\n",
       "      <td>Avengers: Age of Ultron</td>\n",
       "      <td>$330,600,000</td>\n",
       "      <td>$459,005,868</td>\n",
       "      <td>$1,403,013,963</td>\n",
       "    </tr>\n",
       "    <tr>\n",
       "      <th>4</th>\n",
       "      <td>5</td>\n",
       "      <td>Dec 15, 2017</td>\n",
       "      <td>Star Wars Ep. VIII: The Last Jedi</td>\n",
       "      <td>$317,000,000</td>\n",
       "      <td>$620,181,382</td>\n",
       "      <td>$1,316,721,747</td>\n",
       "    </tr>\n",
       "  </tbody>\n",
       "</table>\n",
       "</div>"
      ],
      "text/plain": [
       "   id  release_date                                        movie  \\\n",
       "0   1  Dec 18, 2009                                       Avatar   \n",
       "1   2  May 20, 2011  Pirates of the Caribbean: On Stranger Tides   \n",
       "2   3   Jun 7, 2019                                 Dark Phoenix   \n",
       "3   4   May 1, 2015                      Avengers: Age of Ultron   \n",
       "4   5  Dec 15, 2017            Star Wars Ep. VIII: The Last Jedi   \n",
       "\n",
       "  production_budget domestic_gross worldwide_gross  \n",
       "0      $425,000,000   $760,507,625  $2,776,345,279  \n",
       "1      $410,600,000   $241,063,875  $1,045,663,875  \n",
       "2      $350,000,000    $42,762,350    $149,762,350  \n",
       "3      $330,600,000   $459,005,868  $1,403,013,963  \n",
       "4      $317,000,000   $620,181,382  $1,316,721,747  "
      ]
     },
     "execution_count": 19,
     "metadata": {},
     "output_type": "execute_result"
    }
   ],
   "source": [
    "#reading into the csv data file\n",
    "budgets = pd.read_csv(\"../../../data/tn.movie_budgets.csv\")\n",
    "budgets.head()"
   ]
  },
  {
   "cell_type": "markdown",
   "metadata": {},
   "source": [
    "In this table we will assume that **Revenue** = **'worldwide_gross'** & **Cost** = **'production_budget'**"
   ]
  },
  {
   "cell_type": "code",
   "execution_count": 20,
   "metadata": {},
   "outputs": [],
   "source": [
    "#will follow Morgan's data cleaning for this table\n",
    "# removing $ and , from gross revenue\n",
    "budgets['worldwide_gross'] = budgets['worldwide_gross'].str.replace(\",\",\"\")\n",
    "budgets['worldwide_gross'] = budgets['worldwide_gross'].str.replace(\"$\",\"\")\n",
    "\n",
    "# casting the values as integers\n",
    "budgets['worldwide_gross'] = pd.to_numeric(budgets['worldwide_gross'])"
   ]
  },
  {
   "cell_type": "code",
   "execution_count": 21,
   "metadata": {},
   "outputs": [],
   "source": [
    "# removing $ and , from production budget\n",
    "budgets['production_budget'] = budgets['production_budget'].str.replace(\",\",\"\")\n",
    "budgets['production_budget'] = budgets['production_budget'].str.replace(\"$\",\"\")\n",
    "\n",
    "# casting the values as integers\n",
    "budgets['production_budget'] = pd.to_numeric(budgets['production_budget'])"
   ]
  },
  {
   "cell_type": "code",
   "execution_count": 22,
   "metadata": {},
   "outputs": [
    {
     "data": {
      "text/html": [
       "<div>\n",
       "<style scoped>\n",
       "    .dataframe tbody tr th:only-of-type {\n",
       "        vertical-align: middle;\n",
       "    }\n",
       "\n",
       "    .dataframe tbody tr th {\n",
       "        vertical-align: top;\n",
       "    }\n",
       "\n",
       "    .dataframe thead th {\n",
       "        text-align: right;\n",
       "    }\n",
       "</style>\n",
       "<table border=\"1\" class=\"dataframe\">\n",
       "  <thead>\n",
       "    <tr style=\"text-align: right;\">\n",
       "      <th></th>\n",
       "      <th>id</th>\n",
       "      <th>release_date</th>\n",
       "      <th>movie</th>\n",
       "      <th>production_budget</th>\n",
       "      <th>domestic_gross</th>\n",
       "      <th>worldwide_gross</th>\n",
       "      <th>total_profit</th>\n",
       "    </tr>\n",
       "  </thead>\n",
       "  <tbody>\n",
       "    <tr>\n",
       "      <th>0</th>\n",
       "      <td>1</td>\n",
       "      <td>Dec 18, 2009</td>\n",
       "      <td>Avatar</td>\n",
       "      <td>425000000</td>\n",
       "      <td>$760,507,625</td>\n",
       "      <td>2776345279</td>\n",
       "      <td>2351345279</td>\n",
       "    </tr>\n",
       "    <tr>\n",
       "      <th>1</th>\n",
       "      <td>2</td>\n",
       "      <td>May 20, 2011</td>\n",
       "      <td>Pirates of the Caribbean: On Stranger Tides</td>\n",
       "      <td>410600000</td>\n",
       "      <td>$241,063,875</td>\n",
       "      <td>1045663875</td>\n",
       "      <td>635063875</td>\n",
       "    </tr>\n",
       "    <tr>\n",
       "      <th>2</th>\n",
       "      <td>3</td>\n",
       "      <td>Jun 7, 2019</td>\n",
       "      <td>Dark Phoenix</td>\n",
       "      <td>350000000</td>\n",
       "      <td>$42,762,350</td>\n",
       "      <td>149762350</td>\n",
       "      <td>-200237650</td>\n",
       "    </tr>\n",
       "    <tr>\n",
       "      <th>3</th>\n",
       "      <td>4</td>\n",
       "      <td>May 1, 2015</td>\n",
       "      <td>Avengers: Age of Ultron</td>\n",
       "      <td>330600000</td>\n",
       "      <td>$459,005,868</td>\n",
       "      <td>1403013963</td>\n",
       "      <td>1072413963</td>\n",
       "    </tr>\n",
       "    <tr>\n",
       "      <th>4</th>\n",
       "      <td>5</td>\n",
       "      <td>Dec 15, 2017</td>\n",
       "      <td>Star Wars Ep. VIII: The Last Jedi</td>\n",
       "      <td>317000000</td>\n",
       "      <td>$620,181,382</td>\n",
       "      <td>1316721747</td>\n",
       "      <td>999721747</td>\n",
       "    </tr>\n",
       "  </tbody>\n",
       "</table>\n",
       "</div>"
      ],
      "text/plain": [
       "   id  release_date                                        movie  \\\n",
       "0   1  Dec 18, 2009                                       Avatar   \n",
       "1   2  May 20, 2011  Pirates of the Caribbean: On Stranger Tides   \n",
       "2   3   Jun 7, 2019                                 Dark Phoenix   \n",
       "3   4   May 1, 2015                      Avengers: Age of Ultron   \n",
       "4   5  Dec 15, 2017            Star Wars Ep. VIII: The Last Jedi   \n",
       "\n",
       "   production_budget domestic_gross  worldwide_gross  total_profit  \n",
       "0          425000000   $760,507,625       2776345279    2351345279  \n",
       "1          410600000   $241,063,875       1045663875     635063875  \n",
       "2          350000000    $42,762,350        149762350    -200237650  \n",
       "3          330600000   $459,005,868       1403013963    1072413963  \n",
       "4          317000000   $620,181,382       1316721747     999721747  "
      ]
     },
     "execution_count": 22,
     "metadata": {},
     "output_type": "execute_result"
    }
   ],
   "source": [
    "# calculating total profit = revenue - cost\n",
    "budgets['total_profit'] =  budgets['worldwide_gross'] - budgets['production_budget']\n",
    "\n",
    "# confirmation\n",
    "budgets.head()"
   ]
  },
  {
   "cell_type": "markdown",
   "metadata": {},
   "source": [
    "From here on I will continue my work of comparing the total profit from the budgets table to the different factors in the movie_info table"
   ]
  },
  {
   "cell_type": "code",
   "execution_count": 23,
   "metadata": {},
   "outputs": [
    {
     "data": {
      "text/html": [
       "<div>\n",
       "<style scoped>\n",
       "    .dataframe tbody tr th:only-of-type {\n",
       "        vertical-align: middle;\n",
       "    }\n",
       "\n",
       "    .dataframe tbody tr th {\n",
       "        vertical-align: top;\n",
       "    }\n",
       "\n",
       "    .dataframe thead th {\n",
       "        text-align: right;\n",
       "    }\n",
       "</style>\n",
       "<table border=\"1\" class=\"dataframe\">\n",
       "  <thead>\n",
       "    <tr style=\"text-align: right;\">\n",
       "      <th></th>\n",
       "      <th>id</th>\n",
       "      <th>movie</th>\n",
       "      <th>worldwide_gross</th>\n",
       "      <th>total_profit</th>\n",
       "    </tr>\n",
       "  </thead>\n",
       "  <tbody>\n",
       "    <tr>\n",
       "      <th>0</th>\n",
       "      <td>1</td>\n",
       "      <td>Avatar</td>\n",
       "      <td>2776345279</td>\n",
       "      <td>2351345279</td>\n",
       "    </tr>\n",
       "    <tr>\n",
       "      <th>1</th>\n",
       "      <td>2</td>\n",
       "      <td>Pirates of the Caribbean: On Stranger Tides</td>\n",
       "      <td>1045663875</td>\n",
       "      <td>635063875</td>\n",
       "    </tr>\n",
       "    <tr>\n",
       "      <th>2</th>\n",
       "      <td>3</td>\n",
       "      <td>Dark Phoenix</td>\n",
       "      <td>149762350</td>\n",
       "      <td>-200237650</td>\n",
       "    </tr>\n",
       "    <tr>\n",
       "      <th>3</th>\n",
       "      <td>4</td>\n",
       "      <td>Avengers: Age of Ultron</td>\n",
       "      <td>1403013963</td>\n",
       "      <td>1072413963</td>\n",
       "    </tr>\n",
       "    <tr>\n",
       "      <th>4</th>\n",
       "      <td>5</td>\n",
       "      <td>Star Wars Ep. VIII: The Last Jedi</td>\n",
       "      <td>1316721747</td>\n",
       "      <td>999721747</td>\n",
       "    </tr>\n",
       "    <tr>\n",
       "      <th>...</th>\n",
       "      <td>...</td>\n",
       "      <td>...</td>\n",
       "      <td>...</td>\n",
       "      <td>...</td>\n",
       "    </tr>\n",
       "    <tr>\n",
       "      <th>5777</th>\n",
       "      <td>78</td>\n",
       "      <td>Red 11</td>\n",
       "      <td>0</td>\n",
       "      <td>-7000</td>\n",
       "    </tr>\n",
       "    <tr>\n",
       "      <th>5778</th>\n",
       "      <td>79</td>\n",
       "      <td>Following</td>\n",
       "      <td>240495</td>\n",
       "      <td>234495</td>\n",
       "    </tr>\n",
       "    <tr>\n",
       "      <th>5779</th>\n",
       "      <td>80</td>\n",
       "      <td>Return to the Land of Wonders</td>\n",
       "      <td>1338</td>\n",
       "      <td>-3662</td>\n",
       "    </tr>\n",
       "    <tr>\n",
       "      <th>5780</th>\n",
       "      <td>81</td>\n",
       "      <td>A Plague So Pleasant</td>\n",
       "      <td>0</td>\n",
       "      <td>-1400</td>\n",
       "    </tr>\n",
       "    <tr>\n",
       "      <th>5781</th>\n",
       "      <td>82</td>\n",
       "      <td>My Date With Drew</td>\n",
       "      <td>181041</td>\n",
       "      <td>179941</td>\n",
       "    </tr>\n",
       "  </tbody>\n",
       "</table>\n",
       "<p>5782 rows × 4 columns</p>\n",
       "</div>"
      ],
      "text/plain": [
       "      id                                        movie  worldwide_gross  \\\n",
       "0      1                                       Avatar       2776345279   \n",
       "1      2  Pirates of the Caribbean: On Stranger Tides       1045663875   \n",
       "2      3                                 Dark Phoenix        149762350   \n",
       "3      4                      Avengers: Age of Ultron       1403013963   \n",
       "4      5            Star Wars Ep. VIII: The Last Jedi       1316721747   \n",
       "...   ..                                          ...              ...   \n",
       "5777  78                                       Red 11                0   \n",
       "5778  79                                    Following           240495   \n",
       "5779  80                Return to the Land of Wonders             1338   \n",
       "5780  81                         A Plague So Pleasant                0   \n",
       "5781  82                            My Date With Drew           181041   \n",
       "\n",
       "      total_profit  \n",
       "0       2351345279  \n",
       "1        635063875  \n",
       "2       -200237650  \n",
       "3       1072413963  \n",
       "4        999721747  \n",
       "...            ...  \n",
       "5777         -7000  \n",
       "5778        234495  \n",
       "5779         -3662  \n",
       "5780         -1400  \n",
       "5781        179941  \n",
       "\n",
       "[5782 rows x 4 columns]"
      ]
     },
     "execution_count": 23,
     "metadata": {},
     "output_type": "execute_result"
    }
   ],
   "source": [
    "# I don't really need all the columns from this df, therefore I will create one with just the columns useful to my analysis\n",
    "movie_budgets = budgets[['id','movie','worldwide_gross','total_profit']]\n",
    "movie_budgets"
   ]
  },
  {
   "cell_type": "markdown",
   "metadata": {},
   "source": [
    "### Merging movie_info & budget dataframes\n",
    "Now I want to look to see if there are any trends between the directors and profit"
   ]
  },
  {
   "cell_type": "code",
   "execution_count": 24,
   "metadata": {},
   "outputs": [
    {
     "name": "stdout",
     "output_type": "stream",
     "text": [
      "<class 'pandas.core.frame.DataFrame'>\n",
      "RangeIndex: 1560 entries, 0 to 1559\n",
      "Data columns (total 12 columns):\n",
      " #   Column        Non-Null Count  Dtype \n",
      "---  ------        --------------  ----- \n",
      " 0   id            1560 non-null   int64 \n",
      " 1   synopsis      1560 non-null   object\n",
      " 2   rating        1560 non-null   object\n",
      " 3   genre         1560 non-null   object\n",
      " 4   director      1560 non-null   object\n",
      " 5   writer        1560 non-null   object\n",
      " 6   theater_date  1560 non-null   object\n",
      " 7   dvd_date      1560 non-null   object\n",
      " 8   currency      1560 non-null   object\n",
      " 9   box_office    1560 non-null   object\n",
      " 10  runtime       1560 non-null   int64 \n",
      " 11  studio        1560 non-null   object\n",
      "dtypes: int64(2), object(10)\n",
      "memory usage: 146.4+ KB\n"
     ]
    }
   ],
   "source": [
    "movie_info.info()"
   ]
  },
  {
   "cell_type": "code",
   "execution_count": 25,
   "metadata": {},
   "outputs": [
    {
     "name": "stdout",
     "output_type": "stream",
     "text": [
      "<class 'pandas.core.frame.DataFrame'>\n",
      "RangeIndex: 5782 entries, 0 to 5781\n",
      "Data columns (total 4 columns):\n",
      " #   Column           Non-Null Count  Dtype \n",
      "---  ------           --------------  ----- \n",
      " 0   id               5782 non-null   int64 \n",
      " 1   movie            5782 non-null   object\n",
      " 2   worldwide_gross  5782 non-null   int64 \n",
      " 3   total_profit     5782 non-null   int64 \n",
      "dtypes: int64(3), object(1)\n",
      "memory usage: 180.8+ KB\n"
     ]
    }
   ],
   "source": [
    "movie_budgets.info()"
   ]
  },
  {
   "cell_type": "markdown",
   "metadata": {},
   "source": [
    "I will join the dataframes using an inner join because it returns only the records with matching keys in both tables, I will make a separate dataframe for the joined dataframes."
   ]
  },
  {
   "cell_type": "code",
   "execution_count": 26,
   "metadata": {},
   "outputs": [
    {
     "name": "stdout",
     "output_type": "stream",
     "text": [
      "<class 'pandas.core.frame.DataFrame'>\n",
      "Int64Index: 1560 entries, 0 to 1559\n",
      "Data columns (total 16 columns):\n",
      " #   Column            Non-Null Count  Dtype \n",
      "---  ------            --------------  ----- \n",
      " 0   id_movie_budgets  1560 non-null   int64 \n",
      " 1   movie             1560 non-null   object\n",
      " 2   worldwide_gross   1560 non-null   int64 \n",
      " 3   total_profit      1560 non-null   int64 \n",
      " 4   id_movie_info     1560 non-null   int64 \n",
      " 5   synopsis          1560 non-null   object\n",
      " 6   rating            1560 non-null   object\n",
      " 7   genre             1560 non-null   object\n",
      " 8   director          1560 non-null   object\n",
      " 9   writer            1560 non-null   object\n",
      " 10  theater_date      1560 non-null   object\n",
      " 11  dvd_date          1560 non-null   object\n",
      " 12  currency          1560 non-null   object\n",
      " 13  box_office        1560 non-null   object\n",
      " 14  runtime           1560 non-null   int64 \n",
      " 15  studio            1560 non-null   object\n",
      "dtypes: int64(5), object(11)\n",
      "memory usage: 207.2+ KB\n"
     ]
    }
   ],
   "source": [
    "movie_info_budget = movie_budgets.join(movie_info, how='inner', lsuffix = '_movie_budgets' , rsuffix = '_movie_info')\n",
    "movie_info_budget.info()"
   ]
  },
  {
   "cell_type": "code",
   "execution_count": 27,
   "metadata": {},
   "outputs": [
    {
     "data": {
      "text/html": [
       "<div>\n",
       "<style scoped>\n",
       "    .dataframe tbody tr th:only-of-type {\n",
       "        vertical-align: middle;\n",
       "    }\n",
       "\n",
       "    .dataframe tbody tr th {\n",
       "        vertical-align: top;\n",
       "    }\n",
       "\n",
       "    .dataframe thead th {\n",
       "        text-align: right;\n",
       "    }\n",
       "</style>\n",
       "<table border=\"1\" class=\"dataframe\">\n",
       "  <thead>\n",
       "    <tr style=\"text-align: right;\">\n",
       "      <th></th>\n",
       "      <th>id_movie_budgets</th>\n",
       "      <th>movie</th>\n",
       "      <th>worldwide_gross</th>\n",
       "      <th>total_profit</th>\n",
       "      <th>id_movie_info</th>\n",
       "      <th>synopsis</th>\n",
       "      <th>rating</th>\n",
       "      <th>genre</th>\n",
       "      <th>director</th>\n",
       "      <th>writer</th>\n",
       "      <th>theater_date</th>\n",
       "      <th>dvd_date</th>\n",
       "      <th>currency</th>\n",
       "      <th>box_office</th>\n",
       "      <th>runtime</th>\n",
       "      <th>studio</th>\n",
       "    </tr>\n",
       "  </thead>\n",
       "  <tbody>\n",
       "    <tr>\n",
       "      <th>0</th>\n",
       "      <td>1</td>\n",
       "      <td>Avatar</td>\n",
       "      <td>2776345279</td>\n",
       "      <td>2351345279</td>\n",
       "      <td>1</td>\n",
       "      <td>This gritty, fast-paced, and innovative police...</td>\n",
       "      <td>R</td>\n",
       "      <td>Action and Adventure|Classics|Drama</td>\n",
       "      <td>William Friedkin</td>\n",
       "      <td>Ernest Tidyman</td>\n",
       "      <td>1971-10-09 00:00:00</td>\n",
       "      <td>2001-09-25 00:00:00</td>\n",
       "      <td>Missing</td>\n",
       "      <td>0</td>\n",
       "      <td>104</td>\n",
       "      <td>Missing</td>\n",
       "    </tr>\n",
       "    <tr>\n",
       "      <th>1</th>\n",
       "      <td>2</td>\n",
       "      <td>Pirates of the Caribbean: On Stranger Tides</td>\n",
       "      <td>1045663875</td>\n",
       "      <td>635063875</td>\n",
       "      <td>3</td>\n",
       "      <td>New York City, not-too-distant-future: Eric Pa...</td>\n",
       "      <td>R</td>\n",
       "      <td>Drama|Science Fiction and Fantasy</td>\n",
       "      <td>David Cronenberg</td>\n",
       "      <td>David Cronenberg|Don DeLillo</td>\n",
       "      <td>2012-08-17 00:00:00</td>\n",
       "      <td>2013-01-01 00:00:00</td>\n",
       "      <td>$</td>\n",
       "      <td>600,000</td>\n",
       "      <td>108</td>\n",
       "      <td>Entertainment One</td>\n",
       "    </tr>\n",
       "    <tr>\n",
       "      <th>2</th>\n",
       "      <td>3</td>\n",
       "      <td>Dark Phoenix</td>\n",
       "      <td>149762350</td>\n",
       "      <td>-200237650</td>\n",
       "      <td>5</td>\n",
       "      <td>Illeana Douglas delivers a superb performance ...</td>\n",
       "      <td>R</td>\n",
       "      <td>Drama|Musical and Performing Arts</td>\n",
       "      <td>Allison Anders</td>\n",
       "      <td>Allison Anders</td>\n",
       "      <td>1996-09-13 00:00:00</td>\n",
       "      <td>2000-04-18 00:00:00</td>\n",
       "      <td>Missing</td>\n",
       "      <td>0</td>\n",
       "      <td>116</td>\n",
       "      <td>Missing</td>\n",
       "    </tr>\n",
       "    <tr>\n",
       "      <th>3</th>\n",
       "      <td>4</td>\n",
       "      <td>Avengers: Age of Ultron</td>\n",
       "      <td>1403013963</td>\n",
       "      <td>1072413963</td>\n",
       "      <td>6</td>\n",
       "      <td>Michael Douglas runs afoul of a treacherous su...</td>\n",
       "      <td>R</td>\n",
       "      <td>Drama|Mystery and Suspense</td>\n",
       "      <td>Barry Levinson</td>\n",
       "      <td>Paul Attanasio|Michael Crichton</td>\n",
       "      <td>1994-12-09 00:00:00</td>\n",
       "      <td>1997-08-27 00:00:00</td>\n",
       "      <td>Missing</td>\n",
       "      <td>0</td>\n",
       "      <td>128</td>\n",
       "      <td>Missing</td>\n",
       "    </tr>\n",
       "    <tr>\n",
       "      <th>4</th>\n",
       "      <td>5</td>\n",
       "      <td>Star Wars Ep. VIII: The Last Jedi</td>\n",
       "      <td>1316721747</td>\n",
       "      <td>999721747</td>\n",
       "      <td>7</td>\n",
       "      <td>Missing</td>\n",
       "      <td>NR</td>\n",
       "      <td>Drama|Romance</td>\n",
       "      <td>Rodney Bennett</td>\n",
       "      <td>Giles Cooper</td>\n",
       "      <td>1800-01-01</td>\n",
       "      <td>1800-01-01</td>\n",
       "      <td>Missing</td>\n",
       "      <td>0</td>\n",
       "      <td>200</td>\n",
       "      <td>Missing</td>\n",
       "    </tr>\n",
       "  </tbody>\n",
       "</table>\n",
       "</div>"
      ],
      "text/plain": [
       "   id_movie_budgets                                        movie  \\\n",
       "0                 1                                       Avatar   \n",
       "1                 2  Pirates of the Caribbean: On Stranger Tides   \n",
       "2                 3                                 Dark Phoenix   \n",
       "3                 4                      Avengers: Age of Ultron   \n",
       "4                 5            Star Wars Ep. VIII: The Last Jedi   \n",
       "\n",
       "   worldwide_gross  total_profit  id_movie_info  \\\n",
       "0       2776345279    2351345279              1   \n",
       "1       1045663875     635063875              3   \n",
       "2        149762350    -200237650              5   \n",
       "3       1403013963    1072413963              6   \n",
       "4       1316721747     999721747              7   \n",
       "\n",
       "                                            synopsis rating  \\\n",
       "0  This gritty, fast-paced, and innovative police...      R   \n",
       "1  New York City, not-too-distant-future: Eric Pa...      R   \n",
       "2  Illeana Douglas delivers a superb performance ...      R   \n",
       "3  Michael Douglas runs afoul of a treacherous su...      R   \n",
       "4                                            Missing     NR   \n",
       "\n",
       "                                 genre          director  \\\n",
       "0  Action and Adventure|Classics|Drama  William Friedkin   \n",
       "1    Drama|Science Fiction and Fantasy  David Cronenberg   \n",
       "2    Drama|Musical and Performing Arts    Allison Anders   \n",
       "3           Drama|Mystery and Suspense    Barry Levinson   \n",
       "4                        Drama|Romance    Rodney Bennett   \n",
       "\n",
       "                            writer         theater_date             dvd_date  \\\n",
       "0                   Ernest Tidyman  1971-10-09 00:00:00  2001-09-25 00:00:00   \n",
       "1     David Cronenberg|Don DeLillo  2012-08-17 00:00:00  2013-01-01 00:00:00   \n",
       "2                   Allison Anders  1996-09-13 00:00:00  2000-04-18 00:00:00   \n",
       "3  Paul Attanasio|Michael Crichton  1994-12-09 00:00:00  1997-08-27 00:00:00   \n",
       "4                     Giles Cooper           1800-01-01           1800-01-01   \n",
       "\n",
       "  currency box_office  runtime             studio  \n",
       "0  Missing          0      104            Missing  \n",
       "1        $    600,000      108  Entertainment One  \n",
       "2  Missing          0      116            Missing  \n",
       "3  Missing          0      128            Missing  \n",
       "4  Missing          0      200            Missing  "
      ]
     },
     "execution_count": 27,
     "metadata": {},
     "output_type": "execute_result"
    }
   ],
   "source": [
    "#checking the resulting dataframe\n",
    "movie_info_budget.head()"
   ]
  },
  {
   "cell_type": "code",
   "execution_count": 28,
   "metadata": {},
   "outputs": [
    {
     "data": {
      "text/plain": [
       "count    1.560000e+03\n",
       "mean     2.374879e+08\n",
       "std      2.686596e+08\n",
       "min      0.000000e+00\n",
       "25%      6.806081e+07\n",
       "50%      1.523167e+08\n",
       "75%      3.029080e+08\n",
       "max      2.776345e+09\n",
       "Name: worldwide_gross, dtype: float64"
      ]
     },
     "execution_count": 28,
     "metadata": {},
     "output_type": "execute_result"
    }
   ],
   "source": [
    "#I want to check how many have 0 for worldwide gross to drop these value, we can see the minimum\n",
    "movie_info_budget['worldwide_gross'].describe()"
   ]
  },
  {
   "cell_type": "code",
   "execution_count": 29,
   "metadata": {},
   "outputs": [],
   "source": [
    "#dropped 0 from worldwide in new data frame\n",
    "movie_info_budget1 = movie_info_budget.loc[movie_info_budget['worldwide_gross'] > 0 ] "
   ]
  },
  {
   "cell_type": "markdown",
   "metadata": {},
   "source": [
    "I will look to see if there are trends between the count of movies per director vs. the total profit"
   ]
  },
  {
   "cell_type": "code",
   "execution_count": 30,
   "metadata": {},
   "outputs": [
    {
     "data": {
      "text/html": [
       "<div>\n",
       "<style scoped>\n",
       "    .dataframe tbody tr th:only-of-type {\n",
       "        vertical-align: middle;\n",
       "    }\n",
       "\n",
       "    .dataframe tbody tr th {\n",
       "        vertical-align: top;\n",
       "    }\n",
       "\n",
       "    .dataframe thead th {\n",
       "        text-align: right;\n",
       "    }\n",
       "</style>\n",
       "<table border=\"1\" class=\"dataframe\">\n",
       "  <thead>\n",
       "    <tr style=\"text-align: right;\">\n",
       "      <th></th>\n",
       "      <th>movie</th>\n",
       "    </tr>\n",
       "    <tr>\n",
       "      <th>director</th>\n",
       "      <th></th>\n",
       "    </tr>\n",
       "  </thead>\n",
       "  <tbody>\n",
       "    <tr>\n",
       "      <th>Abel Ferrara</th>\n",
       "      <td>2</td>\n",
       "    </tr>\n",
       "    <tr>\n",
       "      <th>Adam Ravetch|Sarah Robertson</th>\n",
       "      <td>1</td>\n",
       "    </tr>\n",
       "    <tr>\n",
       "      <th>Adam Shankman</th>\n",
       "      <td>1</td>\n",
       "    </tr>\n",
       "    <tr>\n",
       "      <th>Adam Silver|Ben Hayflick</th>\n",
       "      <td>1</td>\n",
       "    </tr>\n",
       "    <tr>\n",
       "      <th>Aditya Chopra</th>\n",
       "      <td>1</td>\n",
       "    </tr>\n",
       "    <tr>\n",
       "      <th>...</th>\n",
       "      <td>...</td>\n",
       "    </tr>\n",
       "    <tr>\n",
       "      <th>Youssef Delara</th>\n",
       "      <td>1</td>\n",
       "    </tr>\n",
       "    <tr>\n",
       "      <th>Yves Simoneau</th>\n",
       "      <td>1</td>\n",
       "    </tr>\n",
       "    <tr>\n",
       "      <th>Zak Penn</th>\n",
       "      <td>1</td>\n",
       "    </tr>\n",
       "    <tr>\n",
       "      <th>Zeresenay Berhane Mehari</th>\n",
       "      <td>1</td>\n",
       "    </tr>\n",
       "    <tr>\n",
       "      <th>Zhang Jun Zhao</th>\n",
       "      <td>1</td>\n",
       "    </tr>\n",
       "  </tbody>\n",
       "</table>\n",
       "<p>1117 rows × 1 columns</p>\n",
       "</div>"
      ],
      "text/plain": [
       "                              movie\n",
       "director                           \n",
       "Abel Ferrara                      2\n",
       "Adam Ravetch|Sarah Robertson      1\n",
       "Adam Shankman                     1\n",
       "Adam Silver|Ben Hayflick          1\n",
       "Aditya Chopra                     1\n",
       "...                             ...\n",
       "Youssef Delara                    1\n",
       "Yves Simoneau                     1\n",
       "Zak Penn                          1\n",
       "Zeresenay Berhane Mehari          1\n",
       "Zhang Jun Zhao                    1\n",
       "\n",
       "[1117 rows x 1 columns]"
      ]
     },
     "execution_count": 30,
     "metadata": {},
     "output_type": "execute_result"
    }
   ],
   "source": [
    "#Create top directors df so that we can visualize top directors and top profit\n",
    "director_counts = pd.DataFrame(movie_info_budget1.groupby('director')['movie'].count())\n",
    "director_counts"
   ]
  },
  {
   "cell_type": "code",
   "execution_count": 31,
   "metadata": {},
   "outputs": [
    {
     "data": {
      "text/html": [
       "<div>\n",
       "<style scoped>\n",
       "    .dataframe tbody tr th:only-of-type {\n",
       "        vertical-align: middle;\n",
       "    }\n",
       "\n",
       "    .dataframe tbody tr th {\n",
       "        vertical-align: top;\n",
       "    }\n",
       "\n",
       "    .dataframe thead th {\n",
       "        text-align: right;\n",
       "    }\n",
       "</style>\n",
       "<table border=\"1\" class=\"dataframe\">\n",
       "  <thead>\n",
       "    <tr style=\"text-align: right;\">\n",
       "      <th></th>\n",
       "      <th>total_profit</th>\n",
       "    </tr>\n",
       "    <tr>\n",
       "      <th>director</th>\n",
       "      <th></th>\n",
       "    </tr>\n",
       "  </thead>\n",
       "  <tbody>\n",
       "    <tr>\n",
       "      <th>Abel Ferrara</th>\n",
       "      <td>236643115</td>\n",
       "    </tr>\n",
       "    <tr>\n",
       "      <th>Adam Ravetch|Sarah Robertson</th>\n",
       "      <td>72525156</td>\n",
       "    </tr>\n",
       "    <tr>\n",
       "      <th>Adam Shankman</th>\n",
       "      <td>225500000</td>\n",
       "    </tr>\n",
       "    <tr>\n",
       "      <th>Adam Silver|Ben Hayflick</th>\n",
       "      <td>122981799</td>\n",
       "    </tr>\n",
       "    <tr>\n",
       "      <th>Aditya Chopra</th>\n",
       "      <td>546865</td>\n",
       "    </tr>\n",
       "    <tr>\n",
       "      <th>...</th>\n",
       "      <td>...</td>\n",
       "    </tr>\n",
       "    <tr>\n",
       "      <th>Youssef Delara</th>\n",
       "      <td>-11019637</td>\n",
       "    </tr>\n",
       "    <tr>\n",
       "      <th>Yves Simoneau</th>\n",
       "      <td>109558505</td>\n",
       "    </tr>\n",
       "    <tr>\n",
       "      <th>Zak Penn</th>\n",
       "      <td>168700000</td>\n",
       "    </tr>\n",
       "    <tr>\n",
       "      <th>Zeresenay Berhane Mehari</th>\n",
       "      <td>85569212</td>\n",
       "    </tr>\n",
       "    <tr>\n",
       "      <th>Zhang Jun Zhao</th>\n",
       "      <td>-23827800</td>\n",
       "    </tr>\n",
       "  </tbody>\n",
       "</table>\n",
       "<p>1117 rows × 1 columns</p>\n",
       "</div>"
      ],
      "text/plain": [
       "                              total_profit\n",
       "director                                  \n",
       "Abel Ferrara                     236643115\n",
       "Adam Ravetch|Sarah Robertson      72525156\n",
       "Adam Shankman                    225500000\n",
       "Adam Silver|Ben Hayflick         122981799\n",
       "Aditya Chopra                       546865\n",
       "...                                    ...\n",
       "Youssef Delara                   -11019637\n",
       "Yves Simoneau                    109558505\n",
       "Zak Penn                         168700000\n",
       "Zeresenay Berhane Mehari          85569212\n",
       "Zhang Jun Zhao                   -23827800\n",
       "\n",
       "[1117 rows x 1 columns]"
      ]
     },
     "execution_count": 31,
     "metadata": {},
     "output_type": "execute_result"
    }
   ],
   "source": [
    "director_total_profit = pd.DataFrame(movie_info_budget1.groupby('director')['total_profit'].sum())\n",
    "director_total_profit"
   ]
  },
  {
   "cell_type": "code",
   "execution_count": 32,
   "metadata": {},
   "outputs": [
    {
     "data": {
      "text/html": [
       "<div>\n",
       "<style scoped>\n",
       "    .dataframe tbody tr th:only-of-type {\n",
       "        vertical-align: middle;\n",
       "    }\n",
       "\n",
       "    .dataframe tbody tr th {\n",
       "        vertical-align: top;\n",
       "    }\n",
       "\n",
       "    .dataframe thead th {\n",
       "        text-align: right;\n",
       "    }\n",
       "</style>\n",
       "<table border=\"1\" class=\"dataframe\">\n",
       "  <thead>\n",
       "    <tr style=\"text-align: right;\">\n",
       "      <th></th>\n",
       "      <th>movie</th>\n",
       "      <th>total_profit</th>\n",
       "    </tr>\n",
       "    <tr>\n",
       "      <th>director</th>\n",
       "      <th></th>\n",
       "      <th></th>\n",
       "    </tr>\n",
       "  </thead>\n",
       "  <tbody>\n",
       "    <tr>\n",
       "      <th>Abel Ferrara</th>\n",
       "      <td>2</td>\n",
       "      <td>236643115</td>\n",
       "    </tr>\n",
       "    <tr>\n",
       "      <th>Adam Ravetch|Sarah Robertson</th>\n",
       "      <td>1</td>\n",
       "      <td>72525156</td>\n",
       "    </tr>\n",
       "    <tr>\n",
       "      <th>Adam Shankman</th>\n",
       "      <td>1</td>\n",
       "      <td>225500000</td>\n",
       "    </tr>\n",
       "    <tr>\n",
       "      <th>Adam Silver|Ben Hayflick</th>\n",
       "      <td>1</td>\n",
       "      <td>122981799</td>\n",
       "    </tr>\n",
       "    <tr>\n",
       "      <th>Aditya Chopra</th>\n",
       "      <td>1</td>\n",
       "      <td>546865</td>\n",
       "    </tr>\n",
       "    <tr>\n",
       "      <th>...</th>\n",
       "      <td>...</td>\n",
       "      <td>...</td>\n",
       "    </tr>\n",
       "    <tr>\n",
       "      <th>Youssef Delara</th>\n",
       "      <td>1</td>\n",
       "      <td>-11019637</td>\n",
       "    </tr>\n",
       "    <tr>\n",
       "      <th>Yves Simoneau</th>\n",
       "      <td>1</td>\n",
       "      <td>109558505</td>\n",
       "    </tr>\n",
       "    <tr>\n",
       "      <th>Zak Penn</th>\n",
       "      <td>1</td>\n",
       "      <td>168700000</td>\n",
       "    </tr>\n",
       "    <tr>\n",
       "      <th>Zeresenay Berhane Mehari</th>\n",
       "      <td>1</td>\n",
       "      <td>85569212</td>\n",
       "    </tr>\n",
       "    <tr>\n",
       "      <th>Zhang Jun Zhao</th>\n",
       "      <td>1</td>\n",
       "      <td>-23827800</td>\n",
       "    </tr>\n",
       "  </tbody>\n",
       "</table>\n",
       "<p>1117 rows × 2 columns</p>\n",
       "</div>"
      ],
      "text/plain": [
       "                              movie  total_profit\n",
       "director                                         \n",
       "Abel Ferrara                      2     236643115\n",
       "Adam Ravetch|Sarah Robertson      1      72525156\n",
       "Adam Shankman                     1     225500000\n",
       "Adam Silver|Ben Hayflick          1     122981799\n",
       "Aditya Chopra                     1        546865\n",
       "...                             ...           ...\n",
       "Youssef Delara                    1     -11019637\n",
       "Yves Simoneau                     1     109558505\n",
       "Zak Penn                          1     168700000\n",
       "Zeresenay Berhane Mehari          1      85569212\n",
       "Zhang Jun Zhao                    1     -23827800\n",
       "\n",
       "[1117 rows x 2 columns]"
      ]
     },
     "execution_count": 32,
     "metadata": {},
     "output_type": "execute_result"
    }
   ],
   "source": [
    "# I will now join the director counts and total profit together into a new df\n",
    "top_directors = director_counts.join(director_total_profit, how='outer', lsuffix = '_director_counts' , rsuffix = 'director_total_profit')\n",
    "top_directors"
   ]
  },
  {
   "cell_type": "code",
   "execution_count": 33,
   "metadata": {},
   "outputs": [
    {
     "data": {
      "text/html": [
       "<div>\n",
       "<style scoped>\n",
       "    .dataframe tbody tr th:only-of-type {\n",
       "        vertical-align: middle;\n",
       "    }\n",
       "\n",
       "    .dataframe tbody tr th {\n",
       "        vertical-align: top;\n",
       "    }\n",
       "\n",
       "    .dataframe thead th {\n",
       "        text-align: right;\n",
       "    }\n",
       "</style>\n",
       "<table border=\"1\" class=\"dataframe\">\n",
       "  <thead>\n",
       "    <tr style=\"text-align: right;\">\n",
       "      <th></th>\n",
       "      <th>movie</th>\n",
       "      <th>total_profit</th>\n",
       "    </tr>\n",
       "    <tr>\n",
       "      <th>director</th>\n",
       "      <th></th>\n",
       "      <th></th>\n",
       "    </tr>\n",
       "  </thead>\n",
       "  <tbody>\n",
       "    <tr>\n",
       "      <th>Missing</th>\n",
       "      <td>194</td>\n",
       "      <td>34814286971</td>\n",
       "    </tr>\n",
       "    <tr>\n",
       "      <th>William Friedkin</th>\n",
       "      <td>4</td>\n",
       "      <td>2705957834</td>\n",
       "    </tr>\n",
       "    <tr>\n",
       "      <th>Henning Schellerup</th>\n",
       "      <td>1</td>\n",
       "      <td>2008208395</td>\n",
       "    </tr>\n",
       "    <tr>\n",
       "      <th>Steven Spielberg</th>\n",
       "      <td>10</td>\n",
       "      <td>1777836004</td>\n",
       "    </tr>\n",
       "    <tr>\n",
       "      <th>Jake Kasdan</th>\n",
       "      <td>1</td>\n",
       "      <td>1748134200</td>\n",
       "    </tr>\n",
       "    <tr>\n",
       "      <th>...</th>\n",
       "      <td>...</td>\n",
       "      <td>...</td>\n",
       "    </tr>\n",
       "    <tr>\n",
       "      <th>Trish Sie</th>\n",
       "      <td>2</td>\n",
       "      <td>-89243731</td>\n",
       "    </tr>\n",
       "    <tr>\n",
       "      <th>Robert Hartford-Davis</th>\n",
       "      <td>1</td>\n",
       "      <td>-94635231</td>\n",
       "    </tr>\n",
       "    <tr>\n",
       "      <th>Renny Harlin</th>\n",
       "      <td>2</td>\n",
       "      <td>-111069937</td>\n",
       "    </tr>\n",
       "    <tr>\n",
       "      <th>Richard Thorpe</th>\n",
       "      <td>2</td>\n",
       "      <td>-117780537</td>\n",
       "    </tr>\n",
       "    <tr>\n",
       "      <th>Allison Anders</th>\n",
       "      <td>1</td>\n",
       "      <td>-200237650</td>\n",
       "    </tr>\n",
       "  </tbody>\n",
       "</table>\n",
       "<p>1117 rows × 2 columns</p>\n",
       "</div>"
      ],
      "text/plain": [
       "                       movie  total_profit\n",
       "director                                  \n",
       "Missing                  194   34814286971\n",
       "William Friedkin           4    2705957834\n",
       "Henning Schellerup         1    2008208395\n",
       "Steven Spielberg          10    1777836004\n",
       "Jake Kasdan                1    1748134200\n",
       "...                      ...           ...\n",
       "Trish Sie                  2     -89243731\n",
       "Robert Hartford-Davis      1     -94635231\n",
       "Renny Harlin               2    -111069937\n",
       "Richard Thorpe             2    -117780537\n",
       "Allison Anders             1    -200237650\n",
       "\n",
       "[1117 rows x 2 columns]"
      ]
     },
     "execution_count": 33,
     "metadata": {},
     "output_type": "execute_result"
    }
   ],
   "source": [
    "top_directors = top_directors.sort_values(by='total_profit', ascending=False)\n",
    "top_directors"
   ]
  },
  {
   "cell_type": "code",
   "execution_count": 34,
   "metadata": {},
   "outputs": [],
   "source": [
    "#Dropping the missing values\n",
    "top_directors = top_directors.drop(labels=\"Missing\")"
   ]
  },
  {
   "cell_type": "code",
   "execution_count": 35,
   "metadata": {},
   "outputs": [
    {
     "data": {
      "image/png": "[encoded data removed]",
      "text/plain": [
       "<Figure size 720x432 with 1 Axes>"
      ]
     },
     "metadata": {
      "needs_background": "light"
     },
     "output_type": "display_data"
    }
   ],
   "source": [
    "# Plot total profit vs. count of movies directed \n",
    "plt.figure(figsize=(10,6))\n",
    "sns.boxplot(x = top_directors['movie'], y = top_directors['total_profit'])\n",
    "plt.style.use('seaborn-muted')\n",
    "plt.title('Total Profit vs. Movies Directed', fontsize=16)\n",
    "plt.xlabel('Total Movies Directed')\n",
    "plt.ylabel('Total Profit in Billions')\n",
    "plt.tight_layout()\n",
    "plt.show()\n"
   ]
  },
  {
   "cell_type": "code",
   "execution_count": 36,
   "metadata": {},
   "outputs": [
    {
     "data": {
      "text/plain": [
       "director\n",
       "William Friedkin      6.764895e+08\n",
       "Henning Schellerup    2.008208e+09\n",
       "Steven Spielberg      1.777836e+08\n",
       "Jake Kasdan           1.748134e+09\n",
       "Jay Russell           1.747311e+09\n",
       "Name: avg_profit, dtype: float64"
      ]
     },
     "execution_count": 36,
     "metadata": {},
     "output_type": "execute_result"
    }
   ],
   "source": [
    "#Now I want to see it in terms of aberage profit instead of total profit\n",
    "top_directors['avg_profit'] =  top_directors['total_profit']/top_directors['movie']\n",
    "top_directors['avg_profit'].head()"
   ]
  },
  {
   "cell_type": "code",
   "execution_count": 37,
   "metadata": {},
   "outputs": [
    {
     "data": {
      "text/html": [
       "<div>\n",
       "<style scoped>\n",
       "    .dataframe tbody tr th:only-of-type {\n",
       "        vertical-align: middle;\n",
       "    }\n",
       "\n",
       "    .dataframe tbody tr th {\n",
       "        vertical-align: top;\n",
       "    }\n",
       "\n",
       "    .dataframe thead th {\n",
       "        text-align: right;\n",
       "    }\n",
       "</style>\n",
       "<table border=\"1\" class=\"dataframe\">\n",
       "  <thead>\n",
       "    <tr style=\"text-align: right;\">\n",
       "      <th></th>\n",
       "      <th>movie</th>\n",
       "      <th>total_profit</th>\n",
       "      <th>avg_profit</th>\n",
       "    </tr>\n",
       "    <tr>\n",
       "      <th>director</th>\n",
       "      <th></th>\n",
       "      <th></th>\n",
       "      <th></th>\n",
       "    </tr>\n",
       "  </thead>\n",
       "  <tbody>\n",
       "    <tr>\n",
       "      <th>William Friedkin</th>\n",
       "      <td>4</td>\n",
       "      <td>2705957834</td>\n",
       "      <td>6.764895e+08</td>\n",
       "    </tr>\n",
       "    <tr>\n",
       "      <th>Henning Schellerup</th>\n",
       "      <td>1</td>\n",
       "      <td>2008208395</td>\n",
       "      <td>2.008208e+09</td>\n",
       "    </tr>\n",
       "    <tr>\n",
       "      <th>Steven Spielberg</th>\n",
       "      <td>10</td>\n",
       "      <td>1777836004</td>\n",
       "      <td>1.777836e+08</td>\n",
       "    </tr>\n",
       "    <tr>\n",
       "      <th>Jake Kasdan</th>\n",
       "      <td>1</td>\n",
       "      <td>1748134200</td>\n",
       "      <td>1.748134e+09</td>\n",
       "    </tr>\n",
       "    <tr>\n",
       "      <th>Jay Russell</th>\n",
       "      <td>1</td>\n",
       "      <td>1747311220</td>\n",
       "      <td>1.747311e+09</td>\n",
       "    </tr>\n",
       "    <tr>\n",
       "      <th>...</th>\n",
       "      <td>...</td>\n",
       "      <td>...</td>\n",
       "      <td>...</td>\n",
       "    </tr>\n",
       "    <tr>\n",
       "      <th>Trish Sie</th>\n",
       "      <td>2</td>\n",
       "      <td>-89243731</td>\n",
       "      <td>-4.462187e+07</td>\n",
       "    </tr>\n",
       "    <tr>\n",
       "      <th>Robert Hartford-Davis</th>\n",
       "      <td>1</td>\n",
       "      <td>-94635231</td>\n",
       "      <td>-9.463523e+07</td>\n",
       "    </tr>\n",
       "    <tr>\n",
       "      <th>Renny Harlin</th>\n",
       "      <td>2</td>\n",
       "      <td>-111069937</td>\n",
       "      <td>-5.553497e+07</td>\n",
       "    </tr>\n",
       "    <tr>\n",
       "      <th>Richard Thorpe</th>\n",
       "      <td>2</td>\n",
       "      <td>-117780537</td>\n",
       "      <td>-5.889027e+07</td>\n",
       "    </tr>\n",
       "    <tr>\n",
       "      <th>Allison Anders</th>\n",
       "      <td>1</td>\n",
       "      <td>-200237650</td>\n",
       "      <td>-2.002376e+08</td>\n",
       "    </tr>\n",
       "  </tbody>\n",
       "</table>\n",
       "<p>1116 rows × 3 columns</p>\n",
       "</div>"
      ],
      "text/plain": [
       "                       movie  total_profit    avg_profit\n",
       "director                                                \n",
       "William Friedkin           4    2705957834  6.764895e+08\n",
       "Henning Schellerup         1    2008208395  2.008208e+09\n",
       "Steven Spielberg          10    1777836004  1.777836e+08\n",
       "Jake Kasdan                1    1748134200  1.748134e+09\n",
       "Jay Russell                1    1747311220  1.747311e+09\n",
       "...                      ...           ...           ...\n",
       "Trish Sie                  2     -89243731 -4.462187e+07\n",
       "Robert Hartford-Davis      1     -94635231 -9.463523e+07\n",
       "Renny Harlin               2    -111069937 -5.553497e+07\n",
       "Richard Thorpe             2    -117780537 -5.889027e+07\n",
       "Allison Anders             1    -200237650 -2.002376e+08\n",
       "\n",
       "[1116 rows x 3 columns]"
      ]
     },
     "execution_count": 37,
     "metadata": {},
     "output_type": "execute_result"
    }
   ],
   "source": [
    "top_directors['avg_profit'] = top_directors['avg_profit'].sort_values(ascending=False)\n",
    "top_directors"
   ]
  },
  {
   "cell_type": "code",
   "execution_count": 38,
   "metadata": {},
   "outputs": [
    {
     "data": {
      "image/png": "[encoded data removed]",
      "text/plain": [
       "<Figure size 720x432 with 1 Axes>"
      ]
     },
     "metadata": {
      "needs_background": "light"
     },
     "output_type": "display_data"
    }
   ],
   "source": [
    "# Plot total profit vs. count of movies directed \n",
    "plt.figure(figsize=(10,6))\n",
    "sns.boxplot(x = top_directors['movie'], y = top_directors['avg_profit'])\n",
    "plt.style.use('seaborn-muted')\n",
    "plt.title('Average Profit vs. Movies Directed', fontsize=16)\n",
    "plt.xlabel('Total Movies Directed')\n",
    "plt.ylabel('Average Profit in Billions')\n",
    "plt.tight_layout()\n",
    "plt.show()\n"
   ]
  },
  {
   "cell_type": "markdown",
   "metadata": {},
   "source": [
    "The trend that both boxplots are showing me is that directors that have directed 3 or more movies have always had an average profit that is positive. We can see that the minimum in the interquartile range is always positive for total movies directed of 3 or more."
   ]
  },
  {
   "cell_type": "markdown",
   "metadata": {},
   "source": [
    "In the context of this project, experienced director is defined as a director that worked on 3 or more movies.\n",
    "It is **recommended** for Computing Vision to hire experienced directors that have directed 3 or more movies. According to the previous analysis, experienced directors always resulted in positive average profit"
   ]
  },
  {
   "cell_type": "markdown",
   "metadata": {},
   "source": [
    "Drawing from this trend, going forward I will look at the top 20 directors in terms of average profit that directed 3 or more movies."
   ]
  },
  {
   "cell_type": "code",
   "execution_count": 39,
   "metadata": {},
   "outputs": [
    {
     "data": {
      "text/html": [
       "<div>\n",
       "<style scoped>\n",
       "    .dataframe tbody tr th:only-of-type {\n",
       "        vertical-align: middle;\n",
       "    }\n",
       "\n",
       "    .dataframe tbody tr th {\n",
       "        vertical-align: top;\n",
       "    }\n",
       "\n",
       "    .dataframe thead th {\n",
       "        text-align: right;\n",
       "    }\n",
       "</style>\n",
       "<table border=\"1\" class=\"dataframe\">\n",
       "  <thead>\n",
       "    <tr style=\"text-align: right;\">\n",
       "      <th></th>\n",
       "      <th>movie</th>\n",
       "      <th>total_profit</th>\n",
       "      <th>avg_profit</th>\n",
       "    </tr>\n",
       "    <tr>\n",
       "      <th>director</th>\n",
       "      <th></th>\n",
       "      <th></th>\n",
       "      <th></th>\n",
       "    </tr>\n",
       "  </thead>\n",
       "  <tbody>\n",
       "    <tr>\n",
       "      <th>William Friedkin</th>\n",
       "      <td>4</td>\n",
       "      <td>2705957834</td>\n",
       "      <td>6.764895e+08</td>\n",
       "    </tr>\n",
       "    <tr>\n",
       "      <th>Steven Spielberg</th>\n",
       "      <td>10</td>\n",
       "      <td>1777836004</td>\n",
       "      <td>1.777836e+08</td>\n",
       "    </tr>\n",
       "    <tr>\n",
       "      <th>Clint Eastwood</th>\n",
       "      <td>8</td>\n",
       "      <td>1607570579</td>\n",
       "      <td>2.009463e+08</td>\n",
       "    </tr>\n",
       "    <tr>\n",
       "      <th>Woody Allen</th>\n",
       "      <td>4</td>\n",
       "      <td>1546517681</td>\n",
       "      <td>3.866294e+08</td>\n",
       "    </tr>\n",
       "    <tr>\n",
       "      <th>Yimou Zhang</th>\n",
       "      <td>4</td>\n",
       "      <td>1458132256</td>\n",
       "      <td>3.645331e+08</td>\n",
       "    </tr>\n",
       "    <tr>\n",
       "      <th>Barry Levinson</th>\n",
       "      <td>4</td>\n",
       "      <td>1435779099</td>\n",
       "      <td>3.589448e+08</td>\n",
       "    </tr>\n",
       "    <tr>\n",
       "      <th>Boris Sagal</th>\n",
       "      <td>3</td>\n",
       "      <td>1237332495</td>\n",
       "      <td>4.124442e+08</td>\n",
       "    </tr>\n",
       "    <tr>\n",
       "      <th>Jim Jarmusch</th>\n",
       "      <td>4</td>\n",
       "      <td>1050825592</td>\n",
       "      <td>2.627064e+08</td>\n",
       "    </tr>\n",
       "    <tr>\n",
       "      <th>Werner Herzog</th>\n",
       "      <td>3</td>\n",
       "      <td>911024954</td>\n",
       "      <td>3.036750e+08</td>\n",
       "    </tr>\n",
       "    <tr>\n",
       "      <th>Howard Hawks</th>\n",
       "      <td>3</td>\n",
       "      <td>909512843</td>\n",
       "      <td>3.031709e+08</td>\n",
       "    </tr>\n",
       "    <tr>\n",
       "      <th>Bruce Beresford</th>\n",
       "      <td>4</td>\n",
       "      <td>905154964</td>\n",
       "      <td>2.262887e+08</td>\n",
       "    </tr>\n",
       "    <tr>\n",
       "      <th>Anatole Litvak</th>\n",
       "      <td>3</td>\n",
       "      <td>851817812</td>\n",
       "      <td>2.839393e+08</td>\n",
       "    </tr>\n",
       "    <tr>\n",
       "      <th>Hong Sang-soo</th>\n",
       "      <td>3</td>\n",
       "      <td>798405830</td>\n",
       "      <td>2.661353e+08</td>\n",
       "    </tr>\n",
       "    <tr>\n",
       "      <th>Ridley Scott</th>\n",
       "      <td>4</td>\n",
       "      <td>719963861</td>\n",
       "      <td>1.799910e+08</td>\n",
       "    </tr>\n",
       "    <tr>\n",
       "      <th>John Frankenheimer</th>\n",
       "      <td>3</td>\n",
       "      <td>704291959</td>\n",
       "      <td>2.347640e+08</td>\n",
       "    </tr>\n",
       "    <tr>\n",
       "      <th>Hark Tsui</th>\n",
       "      <td>3</td>\n",
       "      <td>659235525</td>\n",
       "      <td>2.197452e+08</td>\n",
       "    </tr>\n",
       "    <tr>\n",
       "      <th>Ang Lee</th>\n",
       "      <td>3</td>\n",
       "      <td>622916667</td>\n",
       "      <td>2.076389e+08</td>\n",
       "    </tr>\n",
       "    <tr>\n",
       "      <th>John Landis</th>\n",
       "      <td>3</td>\n",
       "      <td>581449675</td>\n",
       "      <td>1.938166e+08</td>\n",
       "    </tr>\n",
       "    <tr>\n",
       "      <th>Curtis Hanson</th>\n",
       "      <td>4</td>\n",
       "      <td>549082973</td>\n",
       "      <td>1.372707e+08</td>\n",
       "    </tr>\n",
       "    <tr>\n",
       "      <th>Charles Walters</th>\n",
       "      <td>3</td>\n",
       "      <td>467879183</td>\n",
       "      <td>1.559597e+08</td>\n",
       "    </tr>\n",
       "  </tbody>\n",
       "</table>\n",
       "</div>"
      ],
      "text/plain": [
       "                    movie  total_profit    avg_profit\n",
       "director                                             \n",
       "William Friedkin        4    2705957834  6.764895e+08\n",
       "Steven Spielberg       10    1777836004  1.777836e+08\n",
       "Clint Eastwood          8    1607570579  2.009463e+08\n",
       "Woody Allen             4    1546517681  3.866294e+08\n",
       "Yimou Zhang             4    1458132256  3.645331e+08\n",
       "Barry Levinson          4    1435779099  3.589448e+08\n",
       "Boris Sagal             3    1237332495  4.124442e+08\n",
       "Jim Jarmusch            4    1050825592  2.627064e+08\n",
       "Werner Herzog           3     911024954  3.036750e+08\n",
       "Howard Hawks            3     909512843  3.031709e+08\n",
       "Bruce Beresford         4     905154964  2.262887e+08\n",
       "Anatole Litvak          3     851817812  2.839393e+08\n",
       "Hong Sang-soo           3     798405830  2.661353e+08\n",
       "Ridley Scott            4     719963861  1.799910e+08\n",
       "John Frankenheimer      3     704291959  2.347640e+08\n",
       "Hark Tsui               3     659235525  2.197452e+08\n",
       "Ang Lee                 3     622916667  2.076389e+08\n",
       "John Landis             3     581449675  1.938166e+08\n",
       "Curtis Hanson           4     549082973  1.372707e+08\n",
       "Charles Walters         3     467879183  1.559597e+08"
      ]
     },
     "execution_count": 39,
     "metadata": {},
     "output_type": "execute_result"
    }
   ],
   "source": [
    "#Getting the top 20 directors that directed 3 or more movies\n",
    "three_plus_movies = top_directors[(top_directors['movie'] >= 3)].head(20)\n",
    "three_plus_movies"
   ]
  },
  {
   "cell_type": "code",
   "execution_count": 40,
   "metadata": {},
   "outputs": [
    {
     "data": {
      "text/html": [
       "<div>\n",
       "<style scoped>\n",
       "    .dataframe tbody tr th:only-of-type {\n",
       "        vertical-align: middle;\n",
       "    }\n",
       "\n",
       "    .dataframe tbody tr th {\n",
       "        vertical-align: top;\n",
       "    }\n",
       "\n",
       "    .dataframe thead th {\n",
       "        text-align: right;\n",
       "    }\n",
       "</style>\n",
       "<table border=\"1\" class=\"dataframe\">\n",
       "  <thead>\n",
       "    <tr style=\"text-align: right;\">\n",
       "      <th></th>\n",
       "      <th>director</th>\n",
       "      <th>movie</th>\n",
       "      <th>total_profit</th>\n",
       "      <th>avg_profit</th>\n",
       "    </tr>\n",
       "  </thead>\n",
       "  <tbody>\n",
       "    <tr>\n",
       "      <th>0</th>\n",
       "      <td>William Friedkin</td>\n",
       "      <td>4</td>\n",
       "      <td>2705957834</td>\n",
       "      <td>6.764895e+08</td>\n",
       "    </tr>\n",
       "    <tr>\n",
       "      <th>1</th>\n",
       "      <td>Steven Spielberg</td>\n",
       "      <td>10</td>\n",
       "      <td>1777836004</td>\n",
       "      <td>1.777836e+08</td>\n",
       "    </tr>\n",
       "    <tr>\n",
       "      <th>2</th>\n",
       "      <td>Clint Eastwood</td>\n",
       "      <td>8</td>\n",
       "      <td>1607570579</td>\n",
       "      <td>2.009463e+08</td>\n",
       "    </tr>\n",
       "    <tr>\n",
       "      <th>3</th>\n",
       "      <td>Woody Allen</td>\n",
       "      <td>4</td>\n",
       "      <td>1546517681</td>\n",
       "      <td>3.866294e+08</td>\n",
       "    </tr>\n",
       "    <tr>\n",
       "      <th>4</th>\n",
       "      <td>Yimou Zhang</td>\n",
       "      <td>4</td>\n",
       "      <td>1458132256</td>\n",
       "      <td>3.645331e+08</td>\n",
       "    </tr>\n",
       "  </tbody>\n",
       "</table>\n",
       "</div>"
      ],
      "text/plain": [
       "           director  movie  total_profit    avg_profit\n",
       "0  William Friedkin      4    2705957834  6.764895e+08\n",
       "1  Steven Spielberg     10    1777836004  1.777836e+08\n",
       "2    Clint Eastwood      8    1607570579  2.009463e+08\n",
       "3       Woody Allen      4    1546517681  3.866294e+08\n",
       "4       Yimou Zhang      4    1458132256  3.645331e+08"
      ]
     },
     "execution_count": 40,
     "metadata": {},
     "output_type": "execute_result"
    }
   ],
   "source": [
    "three_plus_movies = three_plus_movies.reset_index()\n",
    "three_plus_movies.head()"
   ]
  },
  {
   "cell_type": "code",
   "execution_count": 41,
   "metadata": {},
   "outputs": [
    {
     "data": {
      "image/png": "[encoded data removed]",
      "text/plain": [
       "<Figure size 1008x576 with 1 Axes>"
      ]
     },
     "metadata": {
      "needs_background": "light"
     },
     "output_type": "display_data"
    }
   ],
   "source": [
    "#now let's visualize the results\n",
    "fig, ax = plt.subplots(figsize=(14, 8))\n",
    "sns.barplot(x = three_plus_movies['director'], y = three_plus_movies['avg_profit'], order= three_plus_movies.sort_values('avg_profit',ascending = False).director, palette=\"crest\")\n",
    "plt.xticks(rotation=60)\n",
    "plt.xlabel(None)\n",
    "plt.ylabel('Average Profit in 100 Million')\n",
    "plt.title('Top 25 Directors with Three or More Movies', fontsize=14)\n",
    "plt.show();"
   ]
  },
  {
   "cell_type": "markdown",
   "metadata": {},
   "source": [
    "This barplot portrays the top 20 directors in terms of average profit that have directed 3 or more movies. \n",
    "Drawing from this, if Computing Vision has the budget they could potentially hire one of these directors, or they can look into their work and get inspired by.\n"
   ]
  },
  {
   "cell_type": "markdown",
   "metadata": {},
   "source": [
    "It is worth mentioning that some of the directors have passed away.\n",
    "Deceased Directors: Boris Karloff, Howard Hawks, Anatole Litvak, John Frankenheimer, Charles Walters, Curtis Hanson.\n",
    "Therefore, looking into their work and getting inspired by it would be good. Additionaly, from a business perspective they could also look into acquiring the rights to their work if possible and generate profit off of that."
   ]
  }
 ],
 "metadata": {
  "kernelspec": {
   "display_name": "Python (learn-env)",
   "language": "python",
   "name": "learn-env"
  },
  "language_info": {
   "codemirror_mode": {
    "name": "ipython",
    "version": 3
   },
   "file_extension": ".py",
   "mimetype": "text/x-python",
   "name": "python",
   "nbconvert_exporter": "python",
   "pygments_lexer": "ipython3",
   "version": "3.8.5"
  }
 },
 "nbformat": 4,
 "nbformat_minor": 4
}
