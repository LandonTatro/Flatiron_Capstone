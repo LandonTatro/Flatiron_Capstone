{
 "cells": [
  {
   "cell_type": "code",
   "execution_count": 1,
   "metadata": {},
   "outputs": [],
   "source": [
    "# significant imports \n",
    "import pandas as pd\n",
    "import numpy as np\n",
    "import datetime \n",
    "\n",
    "import matplotlib\n",
    "import matplotlib.pyplot as plt\n",
    "from matplotlib.colors import ListedColormap\n",
    "%matplotlib inline"
   ]
  },
  {
   "cell_type": "code",
   "execution_count": 2,
   "metadata": {},
   "outputs": [],
   "source": [
    "import scipy.stats\n",
    "import scipy.optimize\n",
    "import scipy.spatial\n",
    "from IPython import display\n",
    "from ipywidgets import interact, widgets\n",
    "\n",
    "import re\n",
    "import mailbox\n",
    "import csv\n",
    "import seaborn as sns\n",
    "from pandas import Series, DataFrame"
   ]
  },
  {
   "cell_type": "code",
   "execution_count": 3,
   "metadata": {},
   "outputs": [],
   "source": [
    "import statsmodels\n",
    "import statsmodels.api as sm\n",
    "import statsmodels.formula.api as smf"
   ]
  },
  {
   "cell_type": "code",
   "execution_count": 4,
   "metadata": {},
   "outputs": [
    {
     "data": {
      "text/html": [
       "<div>\n",
       "<style scoped>\n",
       "    .dataframe tbody tr th:only-of-type {\n",
       "        vertical-align: middle;\n",
       "    }\n",
       "\n",
       "    .dataframe tbody tr th {\n",
       "        vertical-align: top;\n",
       "    }\n",
       "\n",
       "    .dataframe thead th {\n",
       "        text-align: right;\n",
       "    }\n",
       "</style>\n",
       "<table border=\"1\" class=\"dataframe\">\n",
       "  <thead>\n",
       "    <tr style=\"text-align: right;\">\n",
       "      <th></th>\n",
       "      <th>id</th>\n",
       "      <th>synopsis</th>\n",
       "      <th>rating</th>\n",
       "      <th>genre</th>\n",
       "      <th>director</th>\n",
       "      <th>writer</th>\n",
       "      <th>theater_date</th>\n",
       "      <th>dvd_date</th>\n",
       "      <th>currency</th>\n",
       "      <th>box_office</th>\n",
       "      <th>runtime</th>\n",
       "      <th>studio</th>\n",
       "    </tr>\n",
       "  </thead>\n",
       "  <tbody>\n",
       "    <tr>\n",
       "      <th>0</th>\n",
       "      <td>1</td>\n",
       "      <td>This gritty, fast-paced, and innovative police...</td>\n",
       "      <td>R</td>\n",
       "      <td>Action and Adventure|Classics|Drama</td>\n",
       "      <td>William Friedkin</td>\n",
       "      <td>Ernest Tidyman</td>\n",
       "      <td>Oct 9, 1971</td>\n",
       "      <td>Sep 25, 2001</td>\n",
       "      <td>NaN</td>\n",
       "      <td>NaN</td>\n",
       "      <td>104 minutes</td>\n",
       "      <td>NaN</td>\n",
       "    </tr>\n",
       "    <tr>\n",
       "      <th>1</th>\n",
       "      <td>3</td>\n",
       "      <td>New York City, not-too-distant-future: Eric Pa...</td>\n",
       "      <td>R</td>\n",
       "      <td>Drama|Science Fiction and Fantasy</td>\n",
       "      <td>David Cronenberg</td>\n",
       "      <td>David Cronenberg|Don DeLillo</td>\n",
       "      <td>Aug 17, 2012</td>\n",
       "      <td>Jan 1, 2013</td>\n",
       "      <td>$</td>\n",
       "      <td>600,000</td>\n",
       "      <td>108 minutes</td>\n",
       "      <td>Entertainment One</td>\n",
       "    </tr>\n",
       "    <tr>\n",
       "      <th>2</th>\n",
       "      <td>5</td>\n",
       "      <td>Illeana Douglas delivers a superb performance ...</td>\n",
       "      <td>R</td>\n",
       "      <td>Drama|Musical and Performing Arts</td>\n",
       "      <td>Allison Anders</td>\n",
       "      <td>Allison Anders</td>\n",
       "      <td>Sep 13, 1996</td>\n",
       "      <td>Apr 18, 2000</td>\n",
       "      <td>NaN</td>\n",
       "      <td>NaN</td>\n",
       "      <td>116 minutes</td>\n",
       "      <td>NaN</td>\n",
       "    </tr>\n",
       "    <tr>\n",
       "      <th>3</th>\n",
       "      <td>6</td>\n",
       "      <td>Michael Douglas runs afoul of a treacherous su...</td>\n",
       "      <td>R</td>\n",
       "      <td>Drama|Mystery and Suspense</td>\n",
       "      <td>Barry Levinson</td>\n",
       "      <td>Paul Attanasio|Michael Crichton</td>\n",
       "      <td>Dec 9, 1994</td>\n",
       "      <td>Aug 27, 1997</td>\n",
       "      <td>NaN</td>\n",
       "      <td>NaN</td>\n",
       "      <td>128 minutes</td>\n",
       "      <td>NaN</td>\n",
       "    </tr>\n",
       "    <tr>\n",
       "      <th>4</th>\n",
       "      <td>7</td>\n",
       "      <td>NaN</td>\n",
       "      <td>NR</td>\n",
       "      <td>Drama|Romance</td>\n",
       "      <td>Rodney Bennett</td>\n",
       "      <td>Giles Cooper</td>\n",
       "      <td>NaN</td>\n",
       "      <td>NaN</td>\n",
       "      <td>NaN</td>\n",
       "      <td>NaN</td>\n",
       "      <td>200 minutes</td>\n",
       "      <td>NaN</td>\n",
       "    </tr>\n",
       "    <tr>\n",
       "      <th>5</th>\n",
       "      <td>8</td>\n",
       "      <td>The year is 1942. As the Allies unite overseas...</td>\n",
       "      <td>PG</td>\n",
       "      <td>Drama|Kids and Family</td>\n",
       "      <td>Jay Russell</td>\n",
       "      <td>Gail Gilchriest</td>\n",
       "      <td>Mar 3, 2000</td>\n",
       "      <td>Jul 11, 2000</td>\n",
       "      <td>NaN</td>\n",
       "      <td>NaN</td>\n",
       "      <td>95 minutes</td>\n",
       "      <td>Warner Bros. Pictures</td>\n",
       "    </tr>\n",
       "    <tr>\n",
       "      <th>6</th>\n",
       "      <td>10</td>\n",
       "      <td>Some cast and crew from NBC's highly acclaimed...</td>\n",
       "      <td>PG-13</td>\n",
       "      <td>Comedy</td>\n",
       "      <td>Jake Kasdan</td>\n",
       "      <td>Mike White</td>\n",
       "      <td>Jan 11, 2002</td>\n",
       "      <td>Jun 18, 2002</td>\n",
       "      <td>$</td>\n",
       "      <td>41,032,915</td>\n",
       "      <td>82 minutes</td>\n",
       "      <td>Paramount Pictures</td>\n",
       "    </tr>\n",
       "    <tr>\n",
       "      <th>7</th>\n",
       "      <td>13</td>\n",
       "      <td>Stewart Kane, an Irishman living in the Austra...</td>\n",
       "      <td>R</td>\n",
       "      <td>Drama</td>\n",
       "      <td>Ray Lawrence</td>\n",
       "      <td>Raymond Carver|Beatrix Christian</td>\n",
       "      <td>Apr 27, 2006</td>\n",
       "      <td>Oct 2, 2007</td>\n",
       "      <td>$</td>\n",
       "      <td>224,114</td>\n",
       "      <td>123 minutes</td>\n",
       "      <td>Sony Pictures Classics</td>\n",
       "    </tr>\n",
       "    <tr>\n",
       "      <th>8</th>\n",
       "      <td>14</td>\n",
       "      <td>\"Love Ranch\" is a bittersweet love story that ...</td>\n",
       "      <td>R</td>\n",
       "      <td>Drama</td>\n",
       "      <td>Taylor Hackford</td>\n",
       "      <td>Mark Jacobson</td>\n",
       "      <td>Jun 30, 2010</td>\n",
       "      <td>Nov 9, 2010</td>\n",
       "      <td>$</td>\n",
       "      <td>134,904</td>\n",
       "      <td>117 minutes</td>\n",
       "      <td>NaN</td>\n",
       "    </tr>\n",
       "    <tr>\n",
       "      <th>9</th>\n",
       "      <td>15</td>\n",
       "      <td>When a diamond expedition in the Congo is lost...</td>\n",
       "      <td>PG-13</td>\n",
       "      <td>Action and Adventure|Mystery and Suspense|Scie...</td>\n",
       "      <td>Frank Marshall</td>\n",
       "      <td>John Patrick Shanley</td>\n",
       "      <td>Jun 9, 1995</td>\n",
       "      <td>Jul 27, 1999</td>\n",
       "      <td>NaN</td>\n",
       "      <td>NaN</td>\n",
       "      <td>108 minutes</td>\n",
       "      <td>NaN</td>\n",
       "    </tr>\n",
       "  </tbody>\n",
       "</table>\n",
       "</div>"
      ],
      "text/plain": [
       "   id                                           synopsis rating  \\\n",
       "0   1  This gritty, fast-paced, and innovative police...      R   \n",
       "1   3  New York City, not-too-distant-future: Eric Pa...      R   \n",
       "2   5  Illeana Douglas delivers a superb performance ...      R   \n",
       "3   6  Michael Douglas runs afoul of a treacherous su...      R   \n",
       "4   7                                                NaN     NR   \n",
       "5   8  The year is 1942. As the Allies unite overseas...     PG   \n",
       "6  10  Some cast and crew from NBC's highly acclaimed...  PG-13   \n",
       "7  13  Stewart Kane, an Irishman living in the Austra...      R   \n",
       "8  14  \"Love Ranch\" is a bittersweet love story that ...      R   \n",
       "9  15  When a diamond expedition in the Congo is lost...  PG-13   \n",
       "\n",
       "                                               genre          director  \\\n",
       "0                Action and Adventure|Classics|Drama  William Friedkin   \n",
       "1                  Drama|Science Fiction and Fantasy  David Cronenberg   \n",
       "2                  Drama|Musical and Performing Arts    Allison Anders   \n",
       "3                         Drama|Mystery and Suspense    Barry Levinson   \n",
       "4                                      Drama|Romance    Rodney Bennett   \n",
       "5                              Drama|Kids and Family       Jay Russell   \n",
       "6                                             Comedy       Jake Kasdan   \n",
       "7                                              Drama      Ray Lawrence   \n",
       "8                                              Drama   Taylor Hackford   \n",
       "9  Action and Adventure|Mystery and Suspense|Scie...    Frank Marshall   \n",
       "\n",
       "                             writer  theater_date      dvd_date currency  \\\n",
       "0                    Ernest Tidyman   Oct 9, 1971  Sep 25, 2001      NaN   \n",
       "1      David Cronenberg|Don DeLillo  Aug 17, 2012   Jan 1, 2013        $   \n",
       "2                    Allison Anders  Sep 13, 1996  Apr 18, 2000      NaN   \n",
       "3   Paul Attanasio|Michael Crichton   Dec 9, 1994  Aug 27, 1997      NaN   \n",
       "4                      Giles Cooper           NaN           NaN      NaN   \n",
       "5                   Gail Gilchriest   Mar 3, 2000  Jul 11, 2000      NaN   \n",
       "6                        Mike White  Jan 11, 2002  Jun 18, 2002        $   \n",
       "7  Raymond Carver|Beatrix Christian  Apr 27, 2006   Oct 2, 2007        $   \n",
       "8                     Mark Jacobson  Jun 30, 2010   Nov 9, 2010        $   \n",
       "9              John Patrick Shanley   Jun 9, 1995  Jul 27, 1999      NaN   \n",
       "\n",
       "   box_office      runtime                  studio  \n",
       "0         NaN  104 minutes                     NaN  \n",
       "1     600,000  108 minutes       Entertainment One  \n",
       "2         NaN  116 minutes                     NaN  \n",
       "3         NaN  128 minutes                     NaN  \n",
       "4         NaN  200 minutes                     NaN  \n",
       "5         NaN   95 minutes   Warner Bros. Pictures  \n",
       "6  41,032,915   82 minutes      Paramount Pictures  \n",
       "7     224,114  123 minutes  Sony Pictures Classics  \n",
       "8     134,904  117 minutes                     NaN  \n",
       "9         NaN  108 minutes                     NaN  "
      ]
     },
     "execution_count": 4,
     "metadata": {},
     "output_type": "execute_result"
    }
   ],
   "source": [
    "# Load data\n",
    "movie_info = pd.read_csv('data/rt.movie_info.tsv', sep=\"\\t\")\n",
    "movie_info.head(10)"
   ]
  },
  {
   "cell_type": "code",
   "execution_count": 5,
   "metadata": {},
   "outputs": [
    {
     "name": "stdout",
     "output_type": "stream",
     "text": [
      "<class 'pandas.core.frame.DataFrame'>\n",
      "RangeIndex: 1560 entries, 0 to 1559\n",
      "Data columns (total 12 columns):\n",
      " #   Column        Non-Null Count  Dtype \n",
      "---  ------        --------------  ----- \n",
      " 0   id            1560 non-null   int64 \n",
      " 1   synopsis      1498 non-null   object\n",
      " 2   rating        1557 non-null   object\n",
      " 3   genre         1552 non-null   object\n",
      " 4   director      1361 non-null   object\n",
      " 5   writer        1111 non-null   object\n",
      " 6   theater_date  1201 non-null   object\n",
      " 7   dvd_date      1201 non-null   object\n",
      " 8   currency      340 non-null    object\n",
      " 9   box_office    340 non-null    object\n",
      " 10  runtime       1530 non-null   object\n",
      " 11  studio        494 non-null    object\n",
      "dtypes: int64(1), object(11)\n",
      "memory usage: 146.4+ KB\n"
     ]
    }
   ],
   "source": [
    "# Basic info in the data\n",
    "movie_info.info()"
   ]
  },
  {
   "cell_type": "code",
   "execution_count": 6,
   "metadata": {},
   "outputs": [],
   "source": [
    "# making the box office data type a float and getting rid of the commas\n",
    "movie_info['box_office'] = pd.to_numeric(movie_info['box_office'].str.replace(',', ''))"
   ]
  },
  {
   "cell_type": "code",
   "execution_count": 7,
   "metadata": {},
   "outputs": [
    {
     "name": "stdout",
     "output_type": "stream",
     "text": [
      "<class 'pandas.core.frame.DataFrame'>\n",
      "RangeIndex: 1560 entries, 0 to 1559\n",
      "Data columns (total 12 columns):\n",
      " #   Column        Non-Null Count  Dtype  \n",
      "---  ------        --------------  -----  \n",
      " 0   id            1560 non-null   int64  \n",
      " 1   synopsis      1498 non-null   object \n",
      " 2   rating        1557 non-null   object \n",
      " 3   genre         1552 non-null   object \n",
      " 4   director      1361 non-null   object \n",
      " 5   writer        1111 non-null   object \n",
      " 6   theater_date  1201 non-null   object \n",
      " 7   dvd_date      1201 non-null   object \n",
      " 8   currency      340 non-null    object \n",
      " 9   box_office    340 non-null    float64\n",
      " 10  runtime       1530 non-null   object \n",
      " 11  studio        494 non-null    object \n",
      "dtypes: float64(1), int64(1), object(10)\n",
      "memory usage: 146.4+ KB\n"
     ]
    }
   ],
   "source": [
    "movie_info.info()"
   ]
  },
  {
   "cell_type": "code",
   "execution_count": 8,
   "metadata": {},
   "outputs": [
    {
     "data": {
      "text/html": [
       "<div>\n",
       "<style scoped>\n",
       "    .dataframe tbody tr th:only-of-type {\n",
       "        vertical-align: middle;\n",
       "    }\n",
       "\n",
       "    .dataframe tbody tr th {\n",
       "        vertical-align: top;\n",
       "    }\n",
       "\n",
       "    .dataframe thead th {\n",
       "        text-align: right;\n",
       "    }\n",
       "</style>\n",
       "<table border=\"1\" class=\"dataframe\">\n",
       "  <thead>\n",
       "    <tr style=\"text-align: right;\">\n",
       "      <th></th>\n",
       "      <th>id</th>\n",
       "      <th>synopsis</th>\n",
       "      <th>rating</th>\n",
       "      <th>genre</th>\n",
       "      <th>director</th>\n",
       "      <th>writer</th>\n",
       "      <th>theater_date</th>\n",
       "      <th>dvd_date</th>\n",
       "      <th>currency</th>\n",
       "      <th>box_office</th>\n",
       "      <th>runtime</th>\n",
       "      <th>studio</th>\n",
       "    </tr>\n",
       "  </thead>\n",
       "  <tbody>\n",
       "    <tr>\n",
       "      <th>0</th>\n",
       "      <td>1</td>\n",
       "      <td>This gritty, fast-paced, and innovative police...</td>\n",
       "      <td>R</td>\n",
       "      <td>Action and Adventure|Classics|Drama</td>\n",
       "      <td>William Friedkin</td>\n",
       "      <td>Ernest Tidyman</td>\n",
       "      <td>Oct 9, 1971</td>\n",
       "      <td>Sep 25, 2001</td>\n",
       "      <td>NaN</td>\n",
       "      <td>NaN</td>\n",
       "      <td>104 minutes</td>\n",
       "      <td>NaN</td>\n",
       "    </tr>\n",
       "    <tr>\n",
       "      <th>1</th>\n",
       "      <td>3</td>\n",
       "      <td>New York City, not-too-distant-future: Eric Pa...</td>\n",
       "      <td>R</td>\n",
       "      <td>Drama|Science Fiction and Fantasy</td>\n",
       "      <td>David Cronenberg</td>\n",
       "      <td>David Cronenberg|Don DeLillo</td>\n",
       "      <td>Aug 17, 2012</td>\n",
       "      <td>Jan 1, 2013</td>\n",
       "      <td>$</td>\n",
       "      <td>600000.0</td>\n",
       "      <td>108 minutes</td>\n",
       "      <td>Entertainment One</td>\n",
       "    </tr>\n",
       "    <tr>\n",
       "      <th>2</th>\n",
       "      <td>5</td>\n",
       "      <td>Illeana Douglas delivers a superb performance ...</td>\n",
       "      <td>R</td>\n",
       "      <td>Drama|Musical and Performing Arts</td>\n",
       "      <td>Allison Anders</td>\n",
       "      <td>Allison Anders</td>\n",
       "      <td>Sep 13, 1996</td>\n",
       "      <td>Apr 18, 2000</td>\n",
       "      <td>NaN</td>\n",
       "      <td>NaN</td>\n",
       "      <td>116 minutes</td>\n",
       "      <td>NaN</td>\n",
       "    </tr>\n",
       "    <tr>\n",
       "      <th>3</th>\n",
       "      <td>6</td>\n",
       "      <td>Michael Douglas runs afoul of a treacherous su...</td>\n",
       "      <td>R</td>\n",
       "      <td>Drama|Mystery and Suspense</td>\n",
       "      <td>Barry Levinson</td>\n",
       "      <td>Paul Attanasio|Michael Crichton</td>\n",
       "      <td>Dec 9, 1994</td>\n",
       "      <td>Aug 27, 1997</td>\n",
       "      <td>NaN</td>\n",
       "      <td>NaN</td>\n",
       "      <td>128 minutes</td>\n",
       "      <td>NaN</td>\n",
       "    </tr>\n",
       "    <tr>\n",
       "      <th>4</th>\n",
       "      <td>7</td>\n",
       "      <td>NaN</td>\n",
       "      <td>NR</td>\n",
       "      <td>Drama|Romance</td>\n",
       "      <td>Rodney Bennett</td>\n",
       "      <td>Giles Cooper</td>\n",
       "      <td>NaN</td>\n",
       "      <td>NaN</td>\n",
       "      <td>NaN</td>\n",
       "      <td>NaN</td>\n",
       "      <td>200 minutes</td>\n",
       "      <td>NaN</td>\n",
       "    </tr>\n",
       "  </tbody>\n",
       "</table>\n",
       "</div>"
      ],
      "text/plain": [
       "   id                                           synopsis rating  \\\n",
       "0   1  This gritty, fast-paced, and innovative police...      R   \n",
       "1   3  New York City, not-too-distant-future: Eric Pa...      R   \n",
       "2   5  Illeana Douglas delivers a superb performance ...      R   \n",
       "3   6  Michael Douglas runs afoul of a treacherous su...      R   \n",
       "4   7                                                NaN     NR   \n",
       "\n",
       "                                 genre          director  \\\n",
       "0  Action and Adventure|Classics|Drama  William Friedkin   \n",
       "1    Drama|Science Fiction and Fantasy  David Cronenberg   \n",
       "2    Drama|Musical and Performing Arts    Allison Anders   \n",
       "3           Drama|Mystery and Suspense    Barry Levinson   \n",
       "4                        Drama|Romance    Rodney Bennett   \n",
       "\n",
       "                            writer  theater_date      dvd_date currency  \\\n",
       "0                   Ernest Tidyman   Oct 9, 1971  Sep 25, 2001      NaN   \n",
       "1     David Cronenberg|Don DeLillo  Aug 17, 2012   Jan 1, 2013        $   \n",
       "2                   Allison Anders  Sep 13, 1996  Apr 18, 2000      NaN   \n",
       "3  Paul Attanasio|Michael Crichton   Dec 9, 1994  Aug 27, 1997      NaN   \n",
       "4                     Giles Cooper           NaN           NaN      NaN   \n",
       "\n",
       "   box_office      runtime             studio  \n",
       "0         NaN  104 minutes                NaN  \n",
       "1    600000.0  108 minutes  Entertainment One  \n",
       "2         NaN  116 minutes                NaN  \n",
       "3         NaN  128 minutes                NaN  \n",
       "4         NaN  200 minutes                NaN  "
      ]
     },
     "execution_count": 8,
     "metadata": {},
     "output_type": "execute_result"
    }
   ],
   "source": [
    "# checking my dataframe to see how everything is looking\n",
    "movie_info.head()"
   ]
  },
  {
   "cell_type": "code",
   "execution_count": 9,
   "metadata": {},
   "outputs": [],
   "source": [
    "# turning the theater_date column into a datetime object\n",
    "movie_info['theater_date'] = pd.to_datetime(movie_info['theater_date'], format='%b %d, %Y')"
   ]
  },
  {
   "cell_type": "code",
   "execution_count": 10,
   "metadata": {},
   "outputs": [
    {
     "data": {
      "text/html": [
       "<div>\n",
       "<style scoped>\n",
       "    .dataframe tbody tr th:only-of-type {\n",
       "        vertical-align: middle;\n",
       "    }\n",
       "\n",
       "    .dataframe tbody tr th {\n",
       "        vertical-align: top;\n",
       "    }\n",
       "\n",
       "    .dataframe thead th {\n",
       "        text-align: right;\n",
       "    }\n",
       "</style>\n",
       "<table border=\"1\" class=\"dataframe\">\n",
       "  <thead>\n",
       "    <tr style=\"text-align: right;\">\n",
       "      <th></th>\n",
       "      <th>id</th>\n",
       "      <th>synopsis</th>\n",
       "      <th>rating</th>\n",
       "      <th>genre</th>\n",
       "      <th>director</th>\n",
       "      <th>writer</th>\n",
       "      <th>theater_date</th>\n",
       "      <th>dvd_date</th>\n",
       "      <th>currency</th>\n",
       "      <th>box_office</th>\n",
       "      <th>runtime</th>\n",
       "      <th>studio</th>\n",
       "    </tr>\n",
       "  </thead>\n",
       "  <tbody>\n",
       "    <tr>\n",
       "      <th>0</th>\n",
       "      <td>1</td>\n",
       "      <td>This gritty, fast-paced, and innovative police...</td>\n",
       "      <td>R</td>\n",
       "      <td>Action and Adventure|Classics|Drama</td>\n",
       "      <td>William Friedkin</td>\n",
       "      <td>Ernest Tidyman</td>\n",
       "      <td>1971-10-09</td>\n",
       "      <td>Sep 25, 2001</td>\n",
       "      <td>NaN</td>\n",
       "      <td>NaN</td>\n",
       "      <td>104 minutes</td>\n",
       "      <td>NaN</td>\n",
       "    </tr>\n",
       "    <tr>\n",
       "      <th>1</th>\n",
       "      <td>3</td>\n",
       "      <td>New York City, not-too-distant-future: Eric Pa...</td>\n",
       "      <td>R</td>\n",
       "      <td>Drama|Science Fiction and Fantasy</td>\n",
       "      <td>David Cronenberg</td>\n",
       "      <td>David Cronenberg|Don DeLillo</td>\n",
       "      <td>2012-08-17</td>\n",
       "      <td>Jan 1, 2013</td>\n",
       "      <td>$</td>\n",
       "      <td>600000.0</td>\n",
       "      <td>108 minutes</td>\n",
       "      <td>Entertainment One</td>\n",
       "    </tr>\n",
       "    <tr>\n",
       "      <th>2</th>\n",
       "      <td>5</td>\n",
       "      <td>Illeana Douglas delivers a superb performance ...</td>\n",
       "      <td>R</td>\n",
       "      <td>Drama|Musical and Performing Arts</td>\n",
       "      <td>Allison Anders</td>\n",
       "      <td>Allison Anders</td>\n",
       "      <td>1996-09-13</td>\n",
       "      <td>Apr 18, 2000</td>\n",
       "      <td>NaN</td>\n",
       "      <td>NaN</td>\n",
       "      <td>116 minutes</td>\n",
       "      <td>NaN</td>\n",
       "    </tr>\n",
       "    <tr>\n",
       "      <th>3</th>\n",
       "      <td>6</td>\n",
       "      <td>Michael Douglas runs afoul of a treacherous su...</td>\n",
       "      <td>R</td>\n",
       "      <td>Drama|Mystery and Suspense</td>\n",
       "      <td>Barry Levinson</td>\n",
       "      <td>Paul Attanasio|Michael Crichton</td>\n",
       "      <td>1994-12-09</td>\n",
       "      <td>Aug 27, 1997</td>\n",
       "      <td>NaN</td>\n",
       "      <td>NaN</td>\n",
       "      <td>128 minutes</td>\n",
       "      <td>NaN</td>\n",
       "    </tr>\n",
       "    <tr>\n",
       "      <th>4</th>\n",
       "      <td>7</td>\n",
       "      <td>NaN</td>\n",
       "      <td>NR</td>\n",
       "      <td>Drama|Romance</td>\n",
       "      <td>Rodney Bennett</td>\n",
       "      <td>Giles Cooper</td>\n",
       "      <td>NaT</td>\n",
       "      <td>NaN</td>\n",
       "      <td>NaN</td>\n",
       "      <td>NaN</td>\n",
       "      <td>200 minutes</td>\n",
       "      <td>NaN</td>\n",
       "    </tr>\n",
       "  </tbody>\n",
       "</table>\n",
       "</div>"
      ],
      "text/plain": [
       "   id                                           synopsis rating  \\\n",
       "0   1  This gritty, fast-paced, and innovative police...      R   \n",
       "1   3  New York City, not-too-distant-future: Eric Pa...      R   \n",
       "2   5  Illeana Douglas delivers a superb performance ...      R   \n",
       "3   6  Michael Douglas runs afoul of a treacherous su...      R   \n",
       "4   7                                                NaN     NR   \n",
       "\n",
       "                                 genre          director  \\\n",
       "0  Action and Adventure|Classics|Drama  William Friedkin   \n",
       "1    Drama|Science Fiction and Fantasy  David Cronenberg   \n",
       "2    Drama|Musical and Performing Arts    Allison Anders   \n",
       "3           Drama|Mystery and Suspense    Barry Levinson   \n",
       "4                        Drama|Romance    Rodney Bennett   \n",
       "\n",
       "                            writer theater_date      dvd_date currency  \\\n",
       "0                   Ernest Tidyman   1971-10-09  Sep 25, 2001      NaN   \n",
       "1     David Cronenberg|Don DeLillo   2012-08-17   Jan 1, 2013        $   \n",
       "2                   Allison Anders   1996-09-13  Apr 18, 2000      NaN   \n",
       "3  Paul Attanasio|Michael Crichton   1994-12-09  Aug 27, 1997      NaN   \n",
       "4                     Giles Cooper          NaT           NaN      NaN   \n",
       "\n",
       "   box_office      runtime             studio  \n",
       "0         NaN  104 minutes                NaN  \n",
       "1    600000.0  108 minutes  Entertainment One  \n",
       "2         NaN  116 minutes                NaN  \n",
       "3         NaN  128 minutes                NaN  \n",
       "4         NaN  200 minutes                NaN  "
      ]
     },
     "execution_count": 10,
     "metadata": {},
     "output_type": "execute_result"
    }
   ],
   "source": [
    "movie_info.head()"
   ]
  },
  {
   "cell_type": "code",
   "execution_count": 11,
   "metadata": {},
   "outputs": [
    {
     "name": "stdout",
     "output_type": "stream",
     "text": [
      "<class 'pandas.core.frame.DataFrame'>\n",
      "RangeIndex: 1560 entries, 0 to 1559\n",
      "Data columns (total 12 columns):\n",
      " #   Column        Non-Null Count  Dtype         \n",
      "---  ------        --------------  -----         \n",
      " 0   id            1560 non-null   int64         \n",
      " 1   synopsis      1498 non-null   object        \n",
      " 2   rating        1557 non-null   object        \n",
      " 3   genre         1552 non-null   object        \n",
      " 4   director      1361 non-null   object        \n",
      " 5   writer        1111 non-null   object        \n",
      " 6   theater_date  1201 non-null   datetime64[ns]\n",
      " 7   dvd_date      1201 non-null   object        \n",
      " 8   currency      340 non-null    object        \n",
      " 9   box_office    340 non-null    float64       \n",
      " 10  runtime       1530 non-null   object        \n",
      " 11  studio        494 non-null    object        \n",
      "dtypes: datetime64[ns](1), float64(1), int64(1), object(9)\n",
      "memory usage: 146.4+ KB\n"
     ]
    }
   ],
   "source": [
    "# i confirm that the dates are a datetime object\n",
    "movie_info.info()"
   ]
  },
  {
   "cell_type": "code",
   "execution_count": 12,
   "metadata": {},
   "outputs": [
    {
     "data": {
      "text/plain": [
       "0       Saturday\n",
       "1         Friday\n",
       "2         Friday\n",
       "3         Friday\n",
       "4            NaN\n",
       "          ...   \n",
       "1555      Friday\n",
       "1556      Friday\n",
       "1557      Monday\n",
       "1558    Thursday\n",
       "1559    Thursday\n",
       "Name: theater_date, Length: 1560, dtype: object"
      ]
     },
     "execution_count": 12,
     "metadata": {},
     "output_type": "execute_result"
    }
   ],
   "source": [
    "# now i can use the datetime methods to my advantage.\n",
    "movie_info['theater_date'].dt.day_name()"
   ]
  },
  {
   "cell_type": "code",
   "execution_count": 13,
   "metadata": {},
   "outputs": [],
   "source": [
    "# now i can create another column so that i can refrence what day the movies came out.\n",
    "# i can simply make a column with these days\n",
    "movie_info['day_of_week'] = movie_info['theater_date'].dt.day_name()"
   ]
  },
  {
   "cell_type": "code",
   "execution_count": 14,
   "metadata": {},
   "outputs": [
    {
     "data": {
      "text/html": [
       "<div>\n",
       "<style scoped>\n",
       "    .dataframe tbody tr th:only-of-type {\n",
       "        vertical-align: middle;\n",
       "    }\n",
       "\n",
       "    .dataframe tbody tr th {\n",
       "        vertical-align: top;\n",
       "    }\n",
       "\n",
       "    .dataframe thead th {\n",
       "        text-align: right;\n",
       "    }\n",
       "</style>\n",
       "<table border=\"1\" class=\"dataframe\">\n",
       "  <thead>\n",
       "    <tr style=\"text-align: right;\">\n",
       "      <th></th>\n",
       "      <th>id</th>\n",
       "      <th>synopsis</th>\n",
       "      <th>rating</th>\n",
       "      <th>genre</th>\n",
       "      <th>director</th>\n",
       "      <th>writer</th>\n",
       "      <th>theater_date</th>\n",
       "      <th>dvd_date</th>\n",
       "      <th>currency</th>\n",
       "      <th>box_office</th>\n",
       "      <th>runtime</th>\n",
       "      <th>studio</th>\n",
       "      <th>day_of_week</th>\n",
       "    </tr>\n",
       "  </thead>\n",
       "  <tbody>\n",
       "    <tr>\n",
       "      <th>0</th>\n",
       "      <td>1</td>\n",
       "      <td>This gritty, fast-paced, and innovative police...</td>\n",
       "      <td>R</td>\n",
       "      <td>Action and Adventure|Classics|Drama</td>\n",
       "      <td>William Friedkin</td>\n",
       "      <td>Ernest Tidyman</td>\n",
       "      <td>1971-10-09</td>\n",
       "      <td>Sep 25, 2001</td>\n",
       "      <td>NaN</td>\n",
       "      <td>NaN</td>\n",
       "      <td>104 minutes</td>\n",
       "      <td>NaN</td>\n",
       "      <td>Saturday</td>\n",
       "    </tr>\n",
       "    <tr>\n",
       "      <th>1</th>\n",
       "      <td>3</td>\n",
       "      <td>New York City, not-too-distant-future: Eric Pa...</td>\n",
       "      <td>R</td>\n",
       "      <td>Drama|Science Fiction and Fantasy</td>\n",
       "      <td>David Cronenberg</td>\n",
       "      <td>David Cronenberg|Don DeLillo</td>\n",
       "      <td>2012-08-17</td>\n",
       "      <td>Jan 1, 2013</td>\n",
       "      <td>$</td>\n",
       "      <td>600000.0</td>\n",
       "      <td>108 minutes</td>\n",
       "      <td>Entertainment One</td>\n",
       "      <td>Friday</td>\n",
       "    </tr>\n",
       "    <tr>\n",
       "      <th>2</th>\n",
       "      <td>5</td>\n",
       "      <td>Illeana Douglas delivers a superb performance ...</td>\n",
       "      <td>R</td>\n",
       "      <td>Drama|Musical and Performing Arts</td>\n",
       "      <td>Allison Anders</td>\n",
       "      <td>Allison Anders</td>\n",
       "      <td>1996-09-13</td>\n",
       "      <td>Apr 18, 2000</td>\n",
       "      <td>NaN</td>\n",
       "      <td>NaN</td>\n",
       "      <td>116 minutes</td>\n",
       "      <td>NaN</td>\n",
       "      <td>Friday</td>\n",
       "    </tr>\n",
       "    <tr>\n",
       "      <th>3</th>\n",
       "      <td>6</td>\n",
       "      <td>Michael Douglas runs afoul of a treacherous su...</td>\n",
       "      <td>R</td>\n",
       "      <td>Drama|Mystery and Suspense</td>\n",
       "      <td>Barry Levinson</td>\n",
       "      <td>Paul Attanasio|Michael Crichton</td>\n",
       "      <td>1994-12-09</td>\n",
       "      <td>Aug 27, 1997</td>\n",
       "      <td>NaN</td>\n",
       "      <td>NaN</td>\n",
       "      <td>128 minutes</td>\n",
       "      <td>NaN</td>\n",
       "      <td>Friday</td>\n",
       "    </tr>\n",
       "    <tr>\n",
       "      <th>4</th>\n",
       "      <td>7</td>\n",
       "      <td>NaN</td>\n",
       "      <td>NR</td>\n",
       "      <td>Drama|Romance</td>\n",
       "      <td>Rodney Bennett</td>\n",
       "      <td>Giles Cooper</td>\n",
       "      <td>NaT</td>\n",
       "      <td>NaN</td>\n",
       "      <td>NaN</td>\n",
       "      <td>NaN</td>\n",
       "      <td>200 minutes</td>\n",
       "      <td>NaN</td>\n",
       "      <td>NaN</td>\n",
       "    </tr>\n",
       "  </tbody>\n",
       "</table>\n",
       "</div>"
      ],
      "text/plain": [
       "   id                                           synopsis rating  \\\n",
       "0   1  This gritty, fast-paced, and innovative police...      R   \n",
       "1   3  New York City, not-too-distant-future: Eric Pa...      R   \n",
       "2   5  Illeana Douglas delivers a superb performance ...      R   \n",
       "3   6  Michael Douglas runs afoul of a treacherous su...      R   \n",
       "4   7                                                NaN     NR   \n",
       "\n",
       "                                 genre          director  \\\n",
       "0  Action and Adventure|Classics|Drama  William Friedkin   \n",
       "1    Drama|Science Fiction and Fantasy  David Cronenberg   \n",
       "2    Drama|Musical and Performing Arts    Allison Anders   \n",
       "3           Drama|Mystery and Suspense    Barry Levinson   \n",
       "4                        Drama|Romance    Rodney Bennett   \n",
       "\n",
       "                            writer theater_date      dvd_date currency  \\\n",
       "0                   Ernest Tidyman   1971-10-09  Sep 25, 2001      NaN   \n",
       "1     David Cronenberg|Don DeLillo   2012-08-17   Jan 1, 2013        $   \n",
       "2                   Allison Anders   1996-09-13  Apr 18, 2000      NaN   \n",
       "3  Paul Attanasio|Michael Crichton   1994-12-09  Aug 27, 1997      NaN   \n",
       "4                     Giles Cooper          NaT           NaN      NaN   \n",
       "\n",
       "   box_office      runtime             studio day_of_week  \n",
       "0         NaN  104 minutes                NaN    Saturday  \n",
       "1    600000.0  108 minutes  Entertainment One      Friday  \n",
       "2         NaN  116 minutes                NaN      Friday  \n",
       "3         NaN  128 minutes                NaN      Friday  \n",
       "4         NaN  200 minutes                NaN         NaN  "
      ]
     },
     "execution_count": 14,
     "metadata": {},
     "output_type": "execute_result"
    }
   ],
   "source": [
    "movie_info.head()"
   ]
  },
  {
   "cell_type": "code",
   "execution_count": 15,
   "metadata": {},
   "outputs": [
    {
     "data": {
      "text/plain": [
       "Friday       702\n",
       "Wednesday    169\n",
       "Thursday      95\n",
       "Saturday      76\n",
       "Monday        60\n",
       "Tuesday       53\n",
       "Sunday        46\n",
       "Name: day_of_week, dtype: int64"
      ]
     },
     "execution_count": 15,
     "metadata": {},
     "output_type": "execute_result"
    }
   ],
   "source": [
    "movie_info['day_of_week'].value_counts()"
   ]
  },
  {
   "cell_type": "code",
   "execution_count": 16,
   "metadata": {},
   "outputs": [
    {
     "data": {
      "text/plain": [
       "Timestamp('1921-01-01 00:00:00')"
      ]
     },
     "execution_count": 16,
     "metadata": {},
     "output_type": "execute_result"
    }
   ],
   "source": [
    "# i want to view the earliest date in this data and max\n",
    "movie_info['theater_date'].min()"
   ]
  },
  {
   "cell_type": "code",
   "execution_count": 17,
   "metadata": {},
   "outputs": [
    {
     "data": {
      "text/plain": [
       "Timestamp('2018-10-19 00:00:00')"
      ]
     },
     "execution_count": 17,
     "metadata": {},
     "output_type": "execute_result"
    }
   ],
   "source": [
    "movie_info['theater_date'].max()"
   ]
  },
  {
   "cell_type": "code",
   "execution_count": 18,
   "metadata": {},
   "outputs": [
    {
     "data": {
      "text/plain": [
       "Timedelta('35720 days 00:00:00')"
      ]
     },
     "execution_count": 18,
     "metadata": {},
     "output_type": "execute_result"
    }
   ],
   "source": [
    "# i can also subtract dates in order to view the time between those two dates\n",
    "# this is called time delta\n",
    "movie_info['theater_date'].max() - movie_info['theater_date'].min()\n",
    "\n",
    "# pretty cool to see how many days are between 1921 and 2018!"
   ]
  },
  {
   "cell_type": "code",
   "execution_count": 19,
   "metadata": {},
   "outputs": [],
   "source": [
    "# dropping null values in te box office column\n",
    "movie_info = movie_info.dropna(subset=['box_office'])"
   ]
  },
  {
   "cell_type": "code",
   "execution_count": 20,
   "metadata": {},
   "outputs": [
    {
     "data": {
      "text/plain": [
       "0"
      ]
     },
     "execution_count": 20,
     "metadata": {},
     "output_type": "execute_result"
    }
   ],
   "source": [
    "# making sure the nulls are gone\n",
    "movie_info['box_office'].isnull().sum()"
   ]
  },
  {
   "cell_type": "code",
   "execution_count": 21,
   "metadata": {},
   "outputs": [],
   "source": [
    "# starting a new dataframe with the columns i want to further inspect\n",
    "new_subset = movie_info[['theater_date', 'box_office', 'day_of_week']]"
   ]
  },
  {
   "cell_type": "code",
   "execution_count": 22,
   "metadata": {},
   "outputs": [],
   "source": [
    "# resetting the index\n",
    "new_subset.reset_index(drop=True, inplace=True)"
   ]
  },
  {
   "cell_type": "code",
   "execution_count": 23,
   "metadata": {},
   "outputs": [
    {
     "data": {
      "text/html": [
       "<div>\n",
       "<style scoped>\n",
       "    .dataframe tbody tr th:only-of-type {\n",
       "        vertical-align: middle;\n",
       "    }\n",
       "\n",
       "    .dataframe tbody tr th {\n",
       "        vertical-align: top;\n",
       "    }\n",
       "\n",
       "    .dataframe thead th {\n",
       "        text-align: right;\n",
       "    }\n",
       "</style>\n",
       "<table border=\"1\" class=\"dataframe\">\n",
       "  <thead>\n",
       "    <tr style=\"text-align: right;\">\n",
       "      <th></th>\n",
       "      <th>theater_date</th>\n",
       "      <th>box_office</th>\n",
       "      <th>day_of_week</th>\n",
       "    </tr>\n",
       "  </thead>\n",
       "  <tbody>\n",
       "    <tr>\n",
       "      <th>0</th>\n",
       "      <td>2012-08-17</td>\n",
       "      <td>600000.0</td>\n",
       "      <td>Friday</td>\n",
       "    </tr>\n",
       "    <tr>\n",
       "      <th>1</th>\n",
       "      <td>2002-01-11</td>\n",
       "      <td>41032915.0</td>\n",
       "      <td>Friday</td>\n",
       "    </tr>\n",
       "    <tr>\n",
       "      <th>2</th>\n",
       "      <td>2006-04-27</td>\n",
       "      <td>224114.0</td>\n",
       "      <td>Thursday</td>\n",
       "    </tr>\n",
       "    <tr>\n",
       "      <th>3</th>\n",
       "      <td>2010-06-30</td>\n",
       "      <td>134904.0</td>\n",
       "      <td>Wednesday</td>\n",
       "    </tr>\n",
       "    <tr>\n",
       "      <th>4</th>\n",
       "      <td>2010-12-17</td>\n",
       "      <td>1039869.0</td>\n",
       "      <td>Friday</td>\n",
       "    </tr>\n",
       "    <tr>\n",
       "      <th>5</th>\n",
       "      <td>2013-12-20</td>\n",
       "      <td>99165609.0</td>\n",
       "      <td>Friday</td>\n",
       "    </tr>\n",
       "    <tr>\n",
       "      <th>6</th>\n",
       "      <td>2013-12-25</td>\n",
       "      <td>20518224.0</td>\n",
       "      <td>Wednesday</td>\n",
       "    </tr>\n",
       "    <tr>\n",
       "      <th>7</th>\n",
       "      <td>2004-05-14</td>\n",
       "      <td>1971135.0</td>\n",
       "      <td>Friday</td>\n",
       "    </tr>\n",
       "    <tr>\n",
       "      <th>8</th>\n",
       "      <td>2003-09-19</td>\n",
       "      <td>312136.0</td>\n",
       "      <td>Friday</td>\n",
       "    </tr>\n",
       "    <tr>\n",
       "      <th>9</th>\n",
       "      <td>2003-05-16</td>\n",
       "      <td>201010.0</td>\n",
       "      <td>Friday</td>\n",
       "    </tr>\n",
       "  </tbody>\n",
       "</table>\n",
       "</div>"
      ],
      "text/plain": [
       "  theater_date  box_office day_of_week\n",
       "0   2012-08-17    600000.0      Friday\n",
       "1   2002-01-11  41032915.0      Friday\n",
       "2   2006-04-27    224114.0    Thursday\n",
       "3   2010-06-30    134904.0   Wednesday\n",
       "4   2010-12-17   1039869.0      Friday\n",
       "5   2013-12-20  99165609.0      Friday\n",
       "6   2013-12-25  20518224.0   Wednesday\n",
       "7   2004-05-14   1971135.0      Friday\n",
       "8   2003-09-19    312136.0      Friday\n",
       "9   2003-05-16    201010.0      Friday"
      ]
     },
     "execution_count": 23,
     "metadata": {},
     "output_type": "execute_result"
    }
   ],
   "source": [
    "new_subset.head(10)"
   ]
  },
  {
   "cell_type": "code",
   "execution_count": 24,
   "metadata": {},
   "outputs": [
    {
     "data": {
      "text/plain": [
       "theater_date    6\n",
       "box_office      0\n",
       "day_of_week     6\n",
       "dtype: int64"
      ]
     },
     "execution_count": 24,
     "metadata": {},
     "output_type": "execute_result"
    }
   ],
   "source": [
    "# inspecting the null values that i have.\n",
    "new_subset.isnull().sum()"
   ]
  },
  {
   "cell_type": "code",
   "execution_count": 25,
   "metadata": {},
   "outputs": [],
   "source": [
    "# dropping nulls\n",
    "new_subset = new_subset.dropna(subset=['theater_date'])"
   ]
  },
  {
   "cell_type": "code",
   "execution_count": 26,
   "metadata": {},
   "outputs": [],
   "source": [
    "new_subset = new_subset.dropna(subset=['day_of_week'])"
   ]
  },
  {
   "cell_type": "code",
   "execution_count": 27,
   "metadata": {},
   "outputs": [
    {
     "data": {
      "text/plain": [
       "theater_date    0\n",
       "box_office      0\n",
       "day_of_week     0\n",
       "dtype: int64"
      ]
     },
     "execution_count": 27,
     "metadata": {},
     "output_type": "execute_result"
    }
   ],
   "source": [
    "# double checking for nulls.\n",
    "new_subset.isnull().sum()"
   ]
  },
  {
   "cell_type": "code",
   "execution_count": 28,
   "metadata": {},
   "outputs": [],
   "source": [
    "final_subset = new_subset[['theater_date', 'box_office', 'day_of_week']]\n",
    "final_subset.sort_values(['box_office', 'day_of_week'], inplace=True)"
   ]
  },
  {
   "cell_type": "code",
   "execution_count": 29,
   "metadata": {},
   "outputs": [
    {
     "data": {
      "text/html": [
       "<div>\n",
       "<style scoped>\n",
       "    .dataframe tbody tr th:only-of-type {\n",
       "        vertical-align: middle;\n",
       "    }\n",
       "\n",
       "    .dataframe tbody tr th {\n",
       "        vertical-align: top;\n",
       "    }\n",
       "\n",
       "    .dataframe thead th {\n",
       "        text-align: right;\n",
       "    }\n",
       "</style>\n",
       "<table border=\"1\" class=\"dataframe\">\n",
       "  <thead>\n",
       "    <tr style=\"text-align: right;\">\n",
       "      <th></th>\n",
       "      <th>theater_date</th>\n",
       "      <th>box_office</th>\n",
       "      <th>day_of_week</th>\n",
       "    </tr>\n",
       "  </thead>\n",
       "  <tbody>\n",
       "    <tr>\n",
       "      <th>205</th>\n",
       "      <td>2009-08-28</td>\n",
       "      <td>363.0</td>\n",
       "      <td>Friday</td>\n",
       "    </tr>\n",
       "    <tr>\n",
       "      <th>76</th>\n",
       "      <td>2010-07-30</td>\n",
       "      <td>2367.0</td>\n",
       "      <td>Friday</td>\n",
       "    </tr>\n",
       "    <tr>\n",
       "      <th>145</th>\n",
       "      <td>2013-11-22</td>\n",
       "      <td>3328.0</td>\n",
       "      <td>Friday</td>\n",
       "    </tr>\n",
       "    <tr>\n",
       "      <th>143</th>\n",
       "      <td>1974-12-25</td>\n",
       "      <td>8300.0</td>\n",
       "      <td>Wednesday</td>\n",
       "    </tr>\n",
       "    <tr>\n",
       "      <th>278</th>\n",
       "      <td>2011-08-26</td>\n",
       "      <td>8856.0</td>\n",
       "      <td>Friday</td>\n",
       "    </tr>\n",
       "    <tr>\n",
       "      <th>...</th>\n",
       "      <td>...</td>\n",
       "      <td>...</td>\n",
       "      <td>...</td>\n",
       "    </tr>\n",
       "    <tr>\n",
       "      <th>231</th>\n",
       "      <td>2010-04-09</td>\n",
       "      <td>1121000.0</td>\n",
       "      <td>Friday</td>\n",
       "    </tr>\n",
       "    <tr>\n",
       "      <th>264</th>\n",
       "      <td>2009-08-14</td>\n",
       "      <td>1149350.0</td>\n",
       "      <td>Friday</td>\n",
       "    </tr>\n",
       "    <tr>\n",
       "      <th>265</th>\n",
       "      <td>2004-09-24</td>\n",
       "      <td>1260219.0</td>\n",
       "      <td>Friday</td>\n",
       "    </tr>\n",
       "    <tr>\n",
       "      <th>85</th>\n",
       "      <td>2013-05-31</td>\n",
       "      <td>1300000.0</td>\n",
       "      <td>Friday</td>\n",
       "    </tr>\n",
       "    <tr>\n",
       "      <th>334</th>\n",
       "      <td>2016-02-17</td>\n",
       "      <td>1320005.0</td>\n",
       "      <td>Wednesday</td>\n",
       "    </tr>\n",
       "  </tbody>\n",
       "</table>\n",
       "<p>70 rows × 3 columns</p>\n",
       "</div>"
      ],
      "text/plain": [
       "    theater_date  box_office day_of_week\n",
       "205   2009-08-28       363.0      Friday\n",
       "76    2010-07-30      2367.0      Friday\n",
       "145   2013-11-22      3328.0      Friday\n",
       "143   1974-12-25      8300.0   Wednesday\n",
       "278   2011-08-26      8856.0      Friday\n",
       "..           ...         ...         ...\n",
       "231   2010-04-09   1121000.0      Friday\n",
       "264   2009-08-14   1149350.0      Friday\n",
       "265   2004-09-24   1260219.0      Friday\n",
       "85    2013-05-31   1300000.0      Friday\n",
       "334   2016-02-17   1320005.0   Wednesday\n",
       "\n",
       "[70 rows x 3 columns]"
      ]
     },
     "execution_count": 29,
     "metadata": {},
     "output_type": "execute_result"
    }
   ],
   "source": [
    "# up to this point i have made a tidy table. but in doing so i have created some redundancy.\n",
    "# i can see that the day name appear in multiple rows.\n",
    "final_subset.head(70)"
   ]
  },
  {
   "cell_type": "code",
   "execution_count": 30,
   "metadata": {},
   "outputs": [
    {
     "data": {
      "text/html": [
       "<div>\n",
       "<style scoped>\n",
       "    .dataframe tbody tr th:only-of-type {\n",
       "        vertical-align: middle;\n",
       "    }\n",
       "\n",
       "    .dataframe tbody tr th {\n",
       "        vertical-align: top;\n",
       "    }\n",
       "\n",
       "    .dataframe thead th {\n",
       "        text-align: right;\n",
       "    }\n",
       "</style>\n",
       "<table border=\"1\" class=\"dataframe\">\n",
       "  <thead>\n",
       "    <tr style=\"text-align: right;\">\n",
       "      <th></th>\n",
       "      <th>day_of_week</th>\n",
       "      <th>box_office</th>\n",
       "    </tr>\n",
       "  </thead>\n",
       "  <tbody>\n",
       "    <tr>\n",
       "      <th>205</th>\n",
       "      <td>Friday</td>\n",
       "      <td>363.0</td>\n",
       "    </tr>\n",
       "    <tr>\n",
       "      <th>76</th>\n",
       "      <td>Friday</td>\n",
       "      <td>2367.0</td>\n",
       "    </tr>\n",
       "    <tr>\n",
       "      <th>145</th>\n",
       "      <td>Friday</td>\n",
       "      <td>3328.0</td>\n",
       "    </tr>\n",
       "    <tr>\n",
       "      <th>143</th>\n",
       "      <td>Wednesday</td>\n",
       "      <td>8300.0</td>\n",
       "    </tr>\n",
       "    <tr>\n",
       "      <th>278</th>\n",
       "      <td>Friday</td>\n",
       "      <td>8856.0</td>\n",
       "    </tr>\n",
       "    <tr>\n",
       "      <th>298</th>\n",
       "      <td>Friday</td>\n",
       "      <td>16632.0</td>\n",
       "    </tr>\n",
       "    <tr>\n",
       "      <th>101</th>\n",
       "      <td>Friday</td>\n",
       "      <td>22099.0</td>\n",
       "    </tr>\n",
       "    <tr>\n",
       "      <th>137</th>\n",
       "      <td>Wednesday</td>\n",
       "      <td>25658.0</td>\n",
       "    </tr>\n",
       "    <tr>\n",
       "      <th>180</th>\n",
       "      <td>Friday</td>\n",
       "      <td>35966.0</td>\n",
       "    </tr>\n",
       "    <tr>\n",
       "      <th>127</th>\n",
       "      <td>Friday</td>\n",
       "      <td>39712.0</td>\n",
       "    </tr>\n",
       "    <tr>\n",
       "      <th>337</th>\n",
       "      <td>Friday</td>\n",
       "      <td>59371.0</td>\n",
       "    </tr>\n",
       "    <tr>\n",
       "      <th>208</th>\n",
       "      <td>Friday</td>\n",
       "      <td>63595.0</td>\n",
       "    </tr>\n",
       "    <tr>\n",
       "      <th>320</th>\n",
       "      <td>Friday</td>\n",
       "      <td>72413.0</td>\n",
       "    </tr>\n",
       "    <tr>\n",
       "      <th>38</th>\n",
       "      <td>Friday</td>\n",
       "      <td>84293.0</td>\n",
       "    </tr>\n",
       "    <tr>\n",
       "      <th>285</th>\n",
       "      <td>Friday</td>\n",
       "      <td>101368.0</td>\n",
       "    </tr>\n",
       "  </tbody>\n",
       "</table>\n",
       "</div>"
      ],
      "text/plain": [
       "    day_of_week  box_office\n",
       "205      Friday       363.0\n",
       "76       Friday      2367.0\n",
       "145      Friday      3328.0\n",
       "143   Wednesday      8300.0\n",
       "278      Friday      8856.0\n",
       "298      Friday     16632.0\n",
       "101      Friday     22099.0\n",
       "137   Wednesday     25658.0\n",
       "180      Friday     35966.0\n",
       "127      Friday     39712.0\n",
       "337      Friday     59371.0\n",
       "208      Friday     63595.0\n",
       "320      Friday     72413.0\n",
       "38       Friday     84293.0\n",
       "285      Friday    101368.0"
      ]
     },
     "execution_count": 30,
     "metadata": {},
     "output_type": "execute_result"
    }
   ],
   "source": [
    "# a way to remove this redundancy is to create a separate table with days data and linking it to the box office using-\n",
    "# an index. this is called data normalization.\n",
    "days = final_subset[['day_of_week', 'box_office']].drop_duplicates()\n",
    "days.head(15)"
   ]
  },
  {
   "cell_type": "code",
   "execution_count": 31,
   "metadata": {},
   "outputs": [
    {
     "data": {
      "text/html": [
       "<div>\n",
       "<style scoped>\n",
       "    .dataframe tbody tr th:only-of-type {\n",
       "        vertical-align: middle;\n",
       "    }\n",
       "\n",
       "    .dataframe tbody tr th {\n",
       "        vertical-align: top;\n",
       "    }\n",
       "\n",
       "    .dataframe thead th {\n",
       "        text-align: right;\n",
       "    }\n",
       "</style>\n",
       "<table border=\"1\" class=\"dataframe\">\n",
       "  <thead>\n",
       "    <tr style=\"text-align: right;\">\n",
       "      <th></th>\n",
       "      <th>id</th>\n",
       "      <th>day_of_week</th>\n",
       "      <th>box_office</th>\n",
       "    </tr>\n",
       "  </thead>\n",
       "  <tbody>\n",
       "    <tr>\n",
       "      <th>0</th>\n",
       "      <td>205</td>\n",
       "      <td>Friday</td>\n",
       "      <td>363.0</td>\n",
       "    </tr>\n",
       "    <tr>\n",
       "      <th>1</th>\n",
       "      <td>76</td>\n",
       "      <td>Friday</td>\n",
       "      <td>2367.0</td>\n",
       "    </tr>\n",
       "    <tr>\n",
       "      <th>2</th>\n",
       "      <td>145</td>\n",
       "      <td>Friday</td>\n",
       "      <td>3328.0</td>\n",
       "    </tr>\n",
       "    <tr>\n",
       "      <th>3</th>\n",
       "      <td>143</td>\n",
       "      <td>Wednesday</td>\n",
       "      <td>8300.0</td>\n",
       "    </tr>\n",
       "    <tr>\n",
       "      <th>4</th>\n",
       "      <td>278</td>\n",
       "      <td>Friday</td>\n",
       "      <td>8856.0</td>\n",
       "    </tr>\n",
       "    <tr>\n",
       "      <th>5</th>\n",
       "      <td>298</td>\n",
       "      <td>Friday</td>\n",
       "      <td>16632.0</td>\n",
       "    </tr>\n",
       "    <tr>\n",
       "      <th>6</th>\n",
       "      <td>101</td>\n",
       "      <td>Friday</td>\n",
       "      <td>22099.0</td>\n",
       "    </tr>\n",
       "    <tr>\n",
       "      <th>7</th>\n",
       "      <td>137</td>\n",
       "      <td>Wednesday</td>\n",
       "      <td>25658.0</td>\n",
       "    </tr>\n",
       "    <tr>\n",
       "      <th>8</th>\n",
       "      <td>180</td>\n",
       "      <td>Friday</td>\n",
       "      <td>35966.0</td>\n",
       "    </tr>\n",
       "    <tr>\n",
       "      <th>9</th>\n",
       "      <td>127</td>\n",
       "      <td>Friday</td>\n",
       "      <td>39712.0</td>\n",
       "    </tr>\n",
       "    <tr>\n",
       "      <th>10</th>\n",
       "      <td>337</td>\n",
       "      <td>Friday</td>\n",
       "      <td>59371.0</td>\n",
       "    </tr>\n",
       "    <tr>\n",
       "      <th>11</th>\n",
       "      <td>208</td>\n",
       "      <td>Friday</td>\n",
       "      <td>63595.0</td>\n",
       "    </tr>\n",
       "    <tr>\n",
       "      <th>12</th>\n",
       "      <td>320</td>\n",
       "      <td>Friday</td>\n",
       "      <td>72413.0</td>\n",
       "    </tr>\n",
       "    <tr>\n",
       "      <th>13</th>\n",
       "      <td>38</td>\n",
       "      <td>Friday</td>\n",
       "      <td>84293.0</td>\n",
       "    </tr>\n",
       "    <tr>\n",
       "      <th>14</th>\n",
       "      <td>285</td>\n",
       "      <td>Friday</td>\n",
       "      <td>101368.0</td>\n",
       "    </tr>\n",
       "  </tbody>\n",
       "</table>\n",
       "</div>"
      ],
      "text/plain": [
       "     id day_of_week  box_office\n",
       "0   205      Friday       363.0\n",
       "1    76      Friday      2367.0\n",
       "2   145      Friday      3328.0\n",
       "3   143   Wednesday      8300.0\n",
       "4   278      Friday      8856.0\n",
       "5   298      Friday     16632.0\n",
       "6   101      Friday     22099.0\n",
       "7   137   Wednesday     25658.0\n",
       "8   180      Friday     35966.0\n",
       "9   127      Friday     39712.0\n",
       "10  337      Friday     59371.0\n",
       "11  208      Friday     63595.0\n",
       "12  320      Friday     72413.0\n",
       "13   38      Friday     84293.0\n",
       "14  285      Friday    101368.0"
      ]
     },
     "execution_count": 31,
     "metadata": {},
     "output_type": "execute_result"
    }
   ],
   "source": [
    "# since the index is unique i need to carry it explicitly as a column.\n",
    "# i will reset the index and rename it id\n",
    "days.index.name = 'id'\n",
    "my_id = days.reset_index()\n",
    "my_id.head(15)"
   ]
  },
  {
   "cell_type": "code",
   "execution_count": 32,
   "metadata": {},
   "outputs": [
    {
     "data": {
      "text/html": [
       "<div>\n",
       "<style scoped>\n",
       "    .dataframe tbody tr th:only-of-type {\n",
       "        vertical-align: middle;\n",
       "    }\n",
       "\n",
       "    .dataframe tbody tr th {\n",
       "        vertical-align: top;\n",
       "    }\n",
       "\n",
       "    .dataframe thead th {\n",
       "        text-align: right;\n",
       "    }\n",
       "</style>\n",
       "<table border=\"1\" class=\"dataframe\">\n",
       "  <thead>\n",
       "    <tr style=\"text-align: right;\">\n",
       "      <th></th>\n",
       "      <th>id</th>\n",
       "      <th>day_of_week</th>\n",
       "      <th>box_office</th>\n",
       "      <th>theater_date</th>\n",
       "    </tr>\n",
       "  </thead>\n",
       "  <tbody>\n",
       "    <tr>\n",
       "      <th>0</th>\n",
       "      <td>205</td>\n",
       "      <td>Friday</td>\n",
       "      <td>363.0</td>\n",
       "      <td>2009-08-28</td>\n",
       "    </tr>\n",
       "    <tr>\n",
       "      <th>1</th>\n",
       "      <td>76</td>\n",
       "      <td>Friday</td>\n",
       "      <td>2367.0</td>\n",
       "      <td>2010-07-30</td>\n",
       "    </tr>\n",
       "    <tr>\n",
       "      <th>2</th>\n",
       "      <td>145</td>\n",
       "      <td>Friday</td>\n",
       "      <td>3328.0</td>\n",
       "      <td>2013-11-22</td>\n",
       "    </tr>\n",
       "    <tr>\n",
       "      <th>3</th>\n",
       "      <td>143</td>\n",
       "      <td>Wednesday</td>\n",
       "      <td>8300.0</td>\n",
       "      <td>1974-12-25</td>\n",
       "    </tr>\n",
       "    <tr>\n",
       "      <th>4</th>\n",
       "      <td>278</td>\n",
       "      <td>Friday</td>\n",
       "      <td>8856.0</td>\n",
       "      <td>2011-08-26</td>\n",
       "    </tr>\n",
       "  </tbody>\n",
       "</table>\n",
       "</div>"
      ],
      "text/plain": [
       "    id day_of_week  box_office theater_date\n",
       "0  205      Friday       363.0   2009-08-28\n",
       "1   76      Friday      2367.0   2010-07-30\n",
       "2  145      Friday      3328.0   2013-11-22\n",
       "3  143   Wednesday      8300.0   1974-12-25\n",
       "4  278      Friday      8856.0   2011-08-26"
      ]
     },
     "execution_count": 32,
     "metadata": {},
     "output_type": "execute_result"
    }
   ],
   "source": [
    "# i will do a merge between the my_sid and the final dataframe\n",
    "pd.merge(my_id, final_subset, on=['day_of_week', 'box_office']).head()"
   ]
  },
  {
   "cell_type": "code",
   "execution_count": 33,
   "metadata": {},
   "outputs": [
    {
     "data": {
      "text/html": [
       "<div>\n",
       "<style scoped>\n",
       "    .dataframe tbody tr th:only-of-type {\n",
       "        vertical-align: middle;\n",
       "    }\n",
       "\n",
       "    .dataframe tbody tr th {\n",
       "        vertical-align: top;\n",
       "    }\n",
       "\n",
       "    .dataframe thead th {\n",
       "        text-align: right;\n",
       "    }\n",
       "</style>\n",
       "<table border=\"1\" class=\"dataframe\">\n",
       "  <thead>\n",
       "    <tr style=\"text-align: right;\">\n",
       "      <th></th>\n",
       "      <th>id</th>\n",
       "      <th>day_of_week</th>\n",
       "      <th>box_office</th>\n",
       "    </tr>\n",
       "  </thead>\n",
       "  <tbody>\n",
       "    <tr>\n",
       "      <th>0</th>\n",
       "      <td>205</td>\n",
       "      <td>Friday</td>\n",
       "      <td>363.0</td>\n",
       "    </tr>\n",
       "    <tr>\n",
       "      <th>1</th>\n",
       "      <td>76</td>\n",
       "      <td>Friday</td>\n",
       "      <td>2367.0</td>\n",
       "    </tr>\n",
       "    <tr>\n",
       "      <th>2</th>\n",
       "      <td>145</td>\n",
       "      <td>Friday</td>\n",
       "      <td>3328.0</td>\n",
       "    </tr>\n",
       "    <tr>\n",
       "      <th>3</th>\n",
       "      <td>143</td>\n",
       "      <td>Wednesday</td>\n",
       "      <td>8300.0</td>\n",
       "    </tr>\n",
       "    <tr>\n",
       "      <th>4</th>\n",
       "      <td>278</td>\n",
       "      <td>Friday</td>\n",
       "      <td>8856.0</td>\n",
       "    </tr>\n",
       "    <tr>\n",
       "      <th>5</th>\n",
       "      <td>298</td>\n",
       "      <td>Friday</td>\n",
       "      <td>16632.0</td>\n",
       "    </tr>\n",
       "    <tr>\n",
       "      <th>6</th>\n",
       "      <td>101</td>\n",
       "      <td>Friday</td>\n",
       "      <td>22099.0</td>\n",
       "    </tr>\n",
       "    <tr>\n",
       "      <th>7</th>\n",
       "      <td>137</td>\n",
       "      <td>Wednesday</td>\n",
       "      <td>25658.0</td>\n",
       "    </tr>\n",
       "    <tr>\n",
       "      <th>8</th>\n",
       "      <td>180</td>\n",
       "      <td>Friday</td>\n",
       "      <td>35966.0</td>\n",
       "    </tr>\n",
       "    <tr>\n",
       "      <th>9</th>\n",
       "      <td>127</td>\n",
       "      <td>Friday</td>\n",
       "      <td>39712.0</td>\n",
       "    </tr>\n",
       "    <tr>\n",
       "      <th>10</th>\n",
       "      <td>337</td>\n",
       "      <td>Friday</td>\n",
       "      <td>59371.0</td>\n",
       "    </tr>\n",
       "    <tr>\n",
       "      <th>11</th>\n",
       "      <td>208</td>\n",
       "      <td>Friday</td>\n",
       "      <td>63595.0</td>\n",
       "    </tr>\n",
       "    <tr>\n",
       "      <th>12</th>\n",
       "      <td>320</td>\n",
       "      <td>Friday</td>\n",
       "      <td>72413.0</td>\n",
       "    </tr>\n",
       "    <tr>\n",
       "      <th>13</th>\n",
       "      <td>38</td>\n",
       "      <td>Friday</td>\n",
       "      <td>84293.0</td>\n",
       "    </tr>\n",
       "    <tr>\n",
       "      <th>14</th>\n",
       "      <td>285</td>\n",
       "      <td>Friday</td>\n",
       "      <td>101368.0</td>\n",
       "    </tr>\n",
       "  </tbody>\n",
       "</table>\n",
       "</div>"
      ],
      "text/plain": [
       "     id day_of_week  box_office\n",
       "0   205      Friday       363.0\n",
       "1    76      Friday      2367.0\n",
       "2   145      Friday      3328.0\n",
       "3   143   Wednesday      8300.0\n",
       "4   278      Friday      8856.0\n",
       "5   298      Friday     16632.0\n",
       "6   101      Friday     22099.0\n",
       "7   137   Wednesday     25658.0\n",
       "8   180      Friday     35966.0\n",
       "9   127      Friday     39712.0\n",
       "10  337      Friday     59371.0\n",
       "11  208      Friday     63595.0\n",
       "12  320      Friday     72413.0\n",
       "13   38      Friday     84293.0\n",
       "14  285      Friday    101368.0"
      ]
     },
     "execution_count": 33,
     "metadata": {},
     "output_type": "execute_result"
    }
   ],
   "source": [
    "# heres a simplified table\n",
    "tidy = pd.merge(my_id, final_subset, on=['day_of_week', 'box_office']).drop(['theater_date'],axis=1)\n",
    "tidy.head(15)"
   ]
  },
  {
   "cell_type": "code",
   "execution_count": 34,
   "metadata": {},
   "outputs": [
    {
     "data": {
      "text/plain": [
       "13900000.0"
      ]
     },
     "execution_count": 34,
     "metadata": {},
     "output_type": "execute_result"
    }
   ],
   "source": [
    "# making a data frame with only friday as my week day\n",
    "friday_df = tidy[(tidy['day_of_week'] == 'Friday')]\n",
    "friday_df.box_office.median()"
   ]
  },
  {
   "cell_type": "code",
   "execution_count": 35,
   "metadata": {},
   "outputs": [
    {
     "data": {
      "image/png": "[encoded data removed]",
      "text/plain": [
       "<Figure size 432x288 with 1 Axes>"
      ]
     },
     "metadata": {
      "needs_background": "light"
     },
     "output_type": "display_data"
    }
   ],
   "source": [
    "# histogram distribution of bax office revenue for Friday\n",
    "fig, ax = plt.subplots()\n",
    "\n",
    "ax.hist(friday_df['box_office']);"
   ]
  },
  {
   "cell_type": "code",
   "execution_count": 36,
   "metadata": {},
   "outputs": [
    {
     "data": {
      "text/plain": [
       "<function matplotlib.pyplot.show(close=None, block=None)>"
      ]
     },
     "execution_count": 36,
     "metadata": {},
     "output_type": "execute_result"
    },
    {
     "data": {
      "image/png": "[encoded data removed]",
      "text/plain": [
       "<Figure size 432x288 with 1 Axes>"
      ]
     },
     "metadata": {
      "needs_background": "light"
     },
     "output_type": "display_data"
    }
   ],
   "source": [
    "sns.barplot(x='day_of_week', y='box_office', data=friday_df)\n",
    "plt.show"
   ]
  },
  {
   "cell_type": "code",
   "execution_count": 37,
   "metadata": {},
   "outputs": [
    {
     "data": {
      "text/plain": [
       "22877808.0"
      ]
     },
     "execution_count": 37,
     "metadata": {},
     "output_type": "execute_result"
    }
   ],
   "source": [
    "# making a data frame with the rest of week days\n",
    "not_friday_df = tidy[(tidy['day_of_week'] != 'Friday')]\n",
    "# not_friday_df.day_of_week.unique()\n",
    "not_friday_df.box_office.median()"
   ]
  },
  {
   "cell_type": "code",
   "execution_count": 38,
   "metadata": {},
   "outputs": [
    {
     "data": {
      "image/png": "[encoded data removed]",
      "text/plain": [
       "<Figure size 432x288 with 1 Axes>"
      ]
     },
     "metadata": {
      "needs_background": "light"
     },
     "output_type": "display_data"
    }
   ],
   "source": [
    "# histogram distribution of bax office revenue for Friday\n",
    "fig, ax = plt.subplots()\n",
    "\n",
    "ax.hist(not_friday_df['box_office']);"
   ]
  },
  {
   "cell_type": "code",
   "execution_count": 39,
   "metadata": {},
   "outputs": [
    {
     "data": {
      "text/plain": [
       "<function matplotlib.pyplot.show(close=None, block=None)>"
      ]
     },
     "execution_count": 39,
     "metadata": {},
     "output_type": "execute_result"
    },
    {
     "data": {
      "image/png": "[encoded data removed]",
      "text/plain": [
       "<Figure size 432x288 with 1 Axes>"
      ]
     },
     "metadata": {
      "needs_background": "light"
     },
     "output_type": "display_data"
    }
   ],
   "source": [
    "# plotting the rest of the days of the week\n",
    "sns.barplot(x='day_of_week', y='box_office', data=not_friday_df)\n",
    "plt.show"
   ]
  },
  {
   "cell_type": "code",
   "execution_count": 40,
   "metadata": {},
   "outputs": [
    {
     "data": {
      "image/png": "[encoded data removed]",
      "text/plain": [
       "<Figure size 432x288 with 1 Axes>"
      ]
     },
     "metadata": {
      "needs_background": "light"
     },
     "output_type": "display_data"
    }
   ],
   "source": [
    "# this box plot has shown me that friday is the hottest day to release a movie based upon\n",
    "\n",
    "box_plot = sns.boxplot(x=\"day_of_week\", y=\"box_office\", data=tidy)\n",
    "\n",
    "ax = box_plot.axes\n",
    "lines = ax.get_lines()\n",
    "categories = ax.get_xticks()\n",
    "\n",
    "for cat in categories:\n",
    "    # every 4th line at the interval of 6 is median line\n",
    "    # 0 -> p25 1 -> p75 2 -> lower whisker 3 -> upper whisker 4 -> p50 5 -> upper extreme value\n",
    "    y = round(lines[4+cat*6].get_ydata()[0],1) \n",
    "\n",
    "    ax.text(\n",
    "        cat, \n",
    "        y, \n",
    "        f'{y}', \n",
    "        ha='center', \n",
    "        va='center', \n",
    "        fontweight='bold', \n",
    "        size=7,\n",
    "        color='white',\n",
    "        bbox=dict(facecolor='#445A64'))\n",
    "\n",
    "box_plot.figure.tight_layout()"
   ]
  },
  {
   "cell_type": "markdown",
   "metadata": {},
   "source": [
    "# Further Analysis of The Findings.\n",
    "This section details my analysis to see what else i can derive. \n",
    "\n",
    "I mainly used pandas query method together with some seaborn and matplotlib. I was curious to see how incorporating different sorting and filtering techniques help with the acquisition of new findings. \n",
    "\n",
    "This proved to be somewhat useful. "
   ]
  },
  {
   "cell_type": "code",
   "execution_count": 41,
   "metadata": {},
   "outputs": [
    {
     "data": {
      "text/html": [
       "<div>\n",
       "<style scoped>\n",
       "    .dataframe tbody tr th:only-of-type {\n",
       "        vertical-align: middle;\n",
       "    }\n",
       "\n",
       "    .dataframe tbody tr th {\n",
       "        vertical-align: top;\n",
       "    }\n",
       "\n",
       "    .dataframe thead th {\n",
       "        text-align: right;\n",
       "    }\n",
       "</style>\n",
       "<table border=\"1\" class=\"dataframe\">\n",
       "  <thead>\n",
       "    <tr style=\"text-align: right;\">\n",
       "      <th></th>\n",
       "      <th>id</th>\n",
       "      <th>day_of_week</th>\n",
       "      <th>box_office</th>\n",
       "    </tr>\n",
       "  </thead>\n",
       "  <tbody>\n",
       "    <tr>\n",
       "      <th>286</th>\n",
       "      <td>150</td>\n",
       "      <td>Friday</td>\n",
       "      <td>89602378.0</td>\n",
       "    </tr>\n",
       "    <tr>\n",
       "      <th>287</th>\n",
       "      <td>318</td>\n",
       "      <td>Friday</td>\n",
       "      <td>90672025.0</td>\n",
       "    </tr>\n",
       "    <tr>\n",
       "      <th>288</th>\n",
       "      <td>216</td>\n",
       "      <td>Friday</td>\n",
       "      <td>93008426.0</td>\n",
       "    </tr>\n",
       "    <tr>\n",
       "      <th>289</th>\n",
       "      <td>18</td>\n",
       "      <td>Friday</td>\n",
       "      <td>93300000.0</td>\n",
       "    </tr>\n",
       "    <tr>\n",
       "      <th>291</th>\n",
       "      <td>319</td>\n",
       "      <td>Friday</td>\n",
       "      <td>97661826.0</td>\n",
       "    </tr>\n",
       "    <tr>\n",
       "      <th>292</th>\n",
       "      <td>327</td>\n",
       "      <td>Friday</td>\n",
       "      <td>98000000.0</td>\n",
       "    </tr>\n",
       "    <tr>\n",
       "      <th>293</th>\n",
       "      <td>5</td>\n",
       "      <td>Friday</td>\n",
       "      <td>99165609.0</td>\n",
       "    </tr>\n",
       "    <tr>\n",
       "      <th>295</th>\n",
       "      <td>123</td>\n",
       "      <td>Friday</td>\n",
       "      <td>102981571.0</td>\n",
       "    </tr>\n",
       "    <tr>\n",
       "      <th>296</th>\n",
       "      <td>93</td>\n",
       "      <td>Friday</td>\n",
       "      <td>104880310.0</td>\n",
       "    </tr>\n",
       "    <tr>\n",
       "      <th>297</th>\n",
       "      <td>165</td>\n",
       "      <td>Friday</td>\n",
       "      <td>105765605.0</td>\n",
       "    </tr>\n",
       "    <tr>\n",
       "      <th>299</th>\n",
       "      <td>107</td>\n",
       "      <td>Friday</td>\n",
       "      <td>107506776.0</td>\n",
       "    </tr>\n",
       "    <tr>\n",
       "      <th>300</th>\n",
       "      <td>227</td>\n",
       "      <td>Friday</td>\n",
       "      <td>109176215.0</td>\n",
       "    </tr>\n",
       "    <tr>\n",
       "      <th>301</th>\n",
       "      <td>92</td>\n",
       "      <td>Friday</td>\n",
       "      <td>114053579.0</td>\n",
       "    </tr>\n",
       "    <tr>\n",
       "      <th>302</th>\n",
       "      <td>179</td>\n",
       "      <td>Friday</td>\n",
       "      <td>115088305.0</td>\n",
       "    </tr>\n",
       "    <tr>\n",
       "      <th>303</th>\n",
       "      <td>217</td>\n",
       "      <td>Friday</td>\n",
       "      <td>116638030.0</td>\n",
       "    </tr>\n",
       "    <tr>\n",
       "      <th>305</th>\n",
       "      <td>250</td>\n",
       "      <td>Friday</td>\n",
       "      <td>119000000.0</td>\n",
       "    </tr>\n",
       "    <tr>\n",
       "      <th>306</th>\n",
       "      <td>68</td>\n",
       "      <td>Friday</td>\n",
       "      <td>121500000.0</td>\n",
       "    </tr>\n",
       "    <tr>\n",
       "      <th>307</th>\n",
       "      <td>272</td>\n",
       "      <td>Friday</td>\n",
       "      <td>123188232.0</td>\n",
       "    </tr>\n",
       "    <tr>\n",
       "      <th>308</th>\n",
       "      <td>81</td>\n",
       "      <td>Friday</td>\n",
       "      <td>126597121.0</td>\n",
       "    </tr>\n",
       "    <tr>\n",
       "      <th>309</th>\n",
       "      <td>257</td>\n",
       "      <td>Friday</td>\n",
       "      <td>127083765.0</td>\n",
       "    </tr>\n",
       "    <tr>\n",
       "      <th>312</th>\n",
       "      <td>34</td>\n",
       "      <td>Friday</td>\n",
       "      <td>128579698.0</td>\n",
       "    </tr>\n",
       "    <tr>\n",
       "      <th>315</th>\n",
       "      <td>324</td>\n",
       "      <td>Friday</td>\n",
       "      <td>144738046.0</td>\n",
       "    </tr>\n",
       "    <tr>\n",
       "      <th>316</th>\n",
       "      <td>210</td>\n",
       "      <td>Friday</td>\n",
       "      <td>146336178.0</td>\n",
       "    </tr>\n",
       "    <tr>\n",
       "      <th>317</th>\n",
       "      <td>228</td>\n",
       "      <td>Friday</td>\n",
       "      <td>148734225.0</td>\n",
       "    </tr>\n",
       "    <tr>\n",
       "      <th>318</th>\n",
       "      <td>69</td>\n",
       "      <td>Friday</td>\n",
       "      <td>154485963.0</td>\n",
       "    </tr>\n",
       "    <tr>\n",
       "      <th>319</th>\n",
       "      <td>238</td>\n",
       "      <td>Friday</td>\n",
       "      <td>164454835.0</td>\n",
       "    </tr>\n",
       "    <tr>\n",
       "      <th>320</th>\n",
       "      <td>290</td>\n",
       "      <td>Friday</td>\n",
       "      <td>176049130.0</td>\n",
       "    </tr>\n",
       "    <tr>\n",
       "      <th>321</th>\n",
       "      <td>267</td>\n",
       "      <td>Friday</td>\n",
       "      <td>177575142.0</td>\n",
       "    </tr>\n",
       "    <tr>\n",
       "      <th>322</th>\n",
       "      <td>213</td>\n",
       "      <td>Friday</td>\n",
       "      <td>190871149.0</td>\n",
       "    </tr>\n",
       "    <tr>\n",
       "      <th>323</th>\n",
       "      <td>296</td>\n",
       "      <td>Friday</td>\n",
       "      <td>209805005.0</td>\n",
       "    </tr>\n",
       "    <tr>\n",
       "      <th>324</th>\n",
       "      <td>271</td>\n",
       "      <td>Friday</td>\n",
       "      <td>214813155.0</td>\n",
       "    </tr>\n",
       "    <tr>\n",
       "      <th>327</th>\n",
       "      <td>106</td>\n",
       "      <td>Friday</td>\n",
       "      <td>241250669.0</td>\n",
       "    </tr>\n",
       "    <tr>\n",
       "      <th>329</th>\n",
       "      <td>237</td>\n",
       "      <td>Friday</td>\n",
       "      <td>261835892.0</td>\n",
       "    </tr>\n",
       "    <tr>\n",
       "      <th>331</th>\n",
       "      <td>254</td>\n",
       "      <td>Friday</td>\n",
       "      <td>299300000.0</td>\n",
       "    </tr>\n",
       "    <tr>\n",
       "      <th>332</th>\n",
       "      <td>181</td>\n",
       "      <td>Friday</td>\n",
       "      <td>303001229.0</td>\n",
       "    </tr>\n",
       "  </tbody>\n",
       "</table>\n",
       "</div>"
      ],
      "text/plain": [
       "      id day_of_week   box_office\n",
       "286  150      Friday   89602378.0\n",
       "287  318      Friday   90672025.0\n",
       "288  216      Friday   93008426.0\n",
       "289   18      Friday   93300000.0\n",
       "291  319      Friday   97661826.0\n",
       "292  327      Friday   98000000.0\n",
       "293    5      Friday   99165609.0\n",
       "295  123      Friday  102981571.0\n",
       "296   93      Friday  104880310.0\n",
       "297  165      Friday  105765605.0\n",
       "299  107      Friday  107506776.0\n",
       "300  227      Friday  109176215.0\n",
       "301   92      Friday  114053579.0\n",
       "302  179      Friday  115088305.0\n",
       "303  217      Friday  116638030.0\n",
       "305  250      Friday  119000000.0\n",
       "306   68      Friday  121500000.0\n",
       "307  272      Friday  123188232.0\n",
       "308   81      Friday  126597121.0\n",
       "309  257      Friday  127083765.0\n",
       "312   34      Friday  128579698.0\n",
       "315  324      Friday  144738046.0\n",
       "316  210      Friday  146336178.0\n",
       "317  228      Friday  148734225.0\n",
       "318   69      Friday  154485963.0\n",
       "319  238      Friday  164454835.0\n",
       "320  290      Friday  176049130.0\n",
       "321  267      Friday  177575142.0\n",
       "322  213      Friday  190871149.0\n",
       "323  296      Friday  209805005.0\n",
       "324  271      Friday  214813155.0\n",
       "327  106      Friday  241250669.0\n",
       "329  237      Friday  261835892.0\n",
       "331  254      Friday  299300000.0\n",
       "332  181      Friday  303001229.0"
      ]
     },
     "execution_count": 41,
     "metadata": {},
     "output_type": "execute_result"
    }
   ],
   "source": [
    "# using the pandas query function to take advantage of the ability to use SQL like queries.\n",
    "tidy.query('(box_office > 88800000) and (day_of_week in [\"Friday\"])')"
   ]
  },
  {
   "cell_type": "code",
   "execution_count": 47,
   "metadata": {},
   "outputs": [
    {
     "data": {
      "text/plain": [
       "14422032.0"
      ]
     },
     "execution_count": 47,
     "metadata": {},
     "output_type": "execute_result"
    }
   ],
   "source": [
    "# created a filter like variable to get the median for the dataframe\n",
    "# it also describes the data\n",
    "# boxoffice_median = tidy.box_office.describe().median()\n",
    "boxoffice_median = tidy.box_office.median()\n",
    "boxoffice_median"
   ]
  },
  {
   "cell_type": "code",
   "execution_count": 48,
   "metadata": {},
   "outputs": [
    {
     "data": {
      "text/html": [
       "<div>\n",
       "<style scoped>\n",
       "    .dataframe tbody tr th:only-of-type {\n",
       "        vertical-align: middle;\n",
       "    }\n",
       "\n",
       "    .dataframe tbody tr th {\n",
       "        vertical-align: top;\n",
       "    }\n",
       "\n",
       "    .dataframe thead th {\n",
       "        text-align: right;\n",
       "    }\n",
       "</style>\n",
       "<table border=\"1\" class=\"dataframe\">\n",
       "  <thead>\n",
       "    <tr style=\"text-align: right;\">\n",
       "      <th></th>\n",
       "      <th>id</th>\n",
       "      <th>day_of_week</th>\n",
       "      <th>box_office</th>\n",
       "    </tr>\n",
       "  </thead>\n",
       "  <tbody>\n",
       "    <tr>\n",
       "      <th>167</th>\n",
       "      <td>124</td>\n",
       "      <td>Friday</td>\n",
       "      <td>14443077.0</td>\n",
       "    </tr>\n",
       "    <tr>\n",
       "      <th>168</th>\n",
       "      <td>287</td>\n",
       "      <td>Friday</td>\n",
       "      <td>15133185.0</td>\n",
       "    </tr>\n",
       "    <tr>\n",
       "      <th>169</th>\n",
       "      <td>176</td>\n",
       "      <td>Friday</td>\n",
       "      <td>15176515.0</td>\n",
       "    </tr>\n",
       "    <tr>\n",
       "      <th>170</th>\n",
       "      <td>118</td>\n",
       "      <td>Wednesday</td>\n",
       "      <td>15425870.0</td>\n",
       "    </tr>\n",
       "    <tr>\n",
       "      <th>171</th>\n",
       "      <td>226</td>\n",
       "      <td>Friday</td>\n",
       "      <td>15504419.0</td>\n",
       "    </tr>\n",
       "    <tr>\n",
       "      <th>...</th>\n",
       "      <td>...</td>\n",
       "      <td>...</td>\n",
       "      <td>...</td>\n",
       "    </tr>\n",
       "    <tr>\n",
       "      <th>329</th>\n",
       "      <td>237</td>\n",
       "      <td>Friday</td>\n",
       "      <td>261835892.0</td>\n",
       "    </tr>\n",
       "    <tr>\n",
       "      <th>330</th>\n",
       "      <td>142</td>\n",
       "      <td>Wednesday</td>\n",
       "      <td>279167575.0</td>\n",
       "    </tr>\n",
       "    <tr>\n",
       "      <th>331</th>\n",
       "      <td>254</td>\n",
       "      <td>Friday</td>\n",
       "      <td>299300000.0</td>\n",
       "    </tr>\n",
       "    <tr>\n",
       "      <th>332</th>\n",
       "      <td>181</td>\n",
       "      <td>Friday</td>\n",
       "      <td>303001229.0</td>\n",
       "    </tr>\n",
       "    <tr>\n",
       "      <th>333</th>\n",
       "      <td>169</td>\n",
       "      <td>Wednesday</td>\n",
       "      <td>368000000.0</td>\n",
       "    </tr>\n",
       "  </tbody>\n",
       "</table>\n",
       "<p>167 rows × 3 columns</p>\n",
       "</div>"
      ],
      "text/plain": [
       "      id day_of_week   box_office\n",
       "167  124      Friday   14443077.0\n",
       "168  287      Friday   15133185.0\n",
       "169  176      Friday   15176515.0\n",
       "170  118   Wednesday   15425870.0\n",
       "171  226      Friday   15504419.0\n",
       "..   ...         ...          ...\n",
       "329  237      Friday  261835892.0\n",
       "330  142   Wednesday  279167575.0\n",
       "331  254      Friday  299300000.0\n",
       "332  181      Friday  303001229.0\n",
       "333  169   Wednesday  368000000.0\n",
       "\n",
       "[167 rows x 3 columns]"
      ]
     },
     "execution_count": 48,
     "metadata": {},
     "output_type": "execute_result"
    }
   ],
   "source": [
    "# now i can filter the dataframe amd find the medians values-\n",
    "# by calling the variable above with the '@' in front of the variable name.\n",
    "tidy.query('box_office  >= @boxoffice_median')"
   ]
  },
  {
   "cell_type": "code",
   "execution_count": 75,
   "metadata": {},
   "outputs": [
    {
     "data": {
      "text/plain": [
       "283524082.0"
      ]
     },
     "execution_count": 75,
     "metadata": {},
     "output_type": "execute_result"
    }
   ],
   "source": [
    "# i can further apply this filter to run more descriptive queries on the data\n",
    "monday = tidy.query('(box_office > @boxoffice_median) and (day_of_week in [\"Monday\"])')\n",
    "# monday.describe()\n",
    "monday.box_office.sum()"
   ]
  },
  {
   "cell_type": "code",
   "execution_count": 79,
   "metadata": {},
   "outputs": [
    {
     "data": {
      "text/html": [
       "<div>\n",
       "<style scoped>\n",
       "    .dataframe tbody tr th:only-of-type {\n",
       "        vertical-align: middle;\n",
       "    }\n",
       "\n",
       "    .dataframe tbody tr th {\n",
       "        vertical-align: top;\n",
       "    }\n",
       "\n",
       "    .dataframe thead th {\n",
       "        text-align: right;\n",
       "    }\n",
       "</style>\n",
       "<table border=\"1\" class=\"dataframe\">\n",
       "  <thead>\n",
       "    <tr style=\"text-align: right;\">\n",
       "      <th></th>\n",
       "      <th>id</th>\n",
       "      <th>box_office</th>\n",
       "    </tr>\n",
       "  </thead>\n",
       "  <tbody>\n",
       "    <tr>\n",
       "      <th>count</th>\n",
       "      <td>2.000000</td>\n",
       "      <td>2.000000e+00</td>\n",
       "    </tr>\n",
       "    <tr>\n",
       "      <th>mean</th>\n",
       "      <td>263.000000</td>\n",
       "      <td>6.785790e+07</td>\n",
       "    </tr>\n",
       "    <tr>\n",
       "      <th>std</th>\n",
       "      <td>22.627417</td>\n",
       "      <td>4.901367e+07</td>\n",
       "    </tr>\n",
       "    <tr>\n",
       "      <th>min</th>\n",
       "      <td>247.000000</td>\n",
       "      <td>3.320000e+07</td>\n",
       "    </tr>\n",
       "    <tr>\n",
       "      <th>25%</th>\n",
       "      <td>255.000000</td>\n",
       "      <td>5.052895e+07</td>\n",
       "    </tr>\n",
       "    <tr>\n",
       "      <th>50%</th>\n",
       "      <td>263.000000</td>\n",
       "      <td>6.785790e+07</td>\n",
       "    </tr>\n",
       "    <tr>\n",
       "      <th>75%</th>\n",
       "      <td>271.000000</td>\n",
       "      <td>8.518684e+07</td>\n",
       "    </tr>\n",
       "    <tr>\n",
       "      <th>max</th>\n",
       "      <td>279.000000</td>\n",
       "      <td>1.025158e+08</td>\n",
       "    </tr>\n",
       "  </tbody>\n",
       "</table>\n",
       "</div>"
      ],
      "text/plain": [
       "               id    box_office\n",
       "count    2.000000  2.000000e+00\n",
       "mean   263.000000  6.785790e+07\n",
       "std     22.627417  4.901367e+07\n",
       "min    247.000000  3.320000e+07\n",
       "25%    255.000000  5.052895e+07\n",
       "50%    263.000000  6.785790e+07\n",
       "75%    271.000000  8.518684e+07\n",
       "max    279.000000  1.025158e+08"
      ]
     },
     "execution_count": 79,
     "metadata": {},
     "output_type": "execute_result"
    }
   ],
   "source": [
    "tuesday = tidy.query('(box_office > @boxoffice_median) and (day_of_week in [\"Tuesday\"])')\n",
    "tuesday.describe()\n",
    "\n",
    "# tuesday.box_office.sum()"
   ]
  },
  {
   "cell_type": "code",
   "execution_count": 54,
   "metadata": {},
   "outputs": [
    {
     "data": {
      "text/html": [
       "<div>\n",
       "<style scoped>\n",
       "    .dataframe tbody tr th:only-of-type {\n",
       "        vertical-align: middle;\n",
       "    }\n",
       "\n",
       "    .dataframe tbody tr th {\n",
       "        vertical-align: top;\n",
       "    }\n",
       "\n",
       "    .dataframe thead th {\n",
       "        text-align: right;\n",
       "    }\n",
       "</style>\n",
       "<table border=\"1\" class=\"dataframe\">\n",
       "  <thead>\n",
       "    <tr style=\"text-align: right;\">\n",
       "      <th></th>\n",
       "      <th>id</th>\n",
       "      <th>day_of_week</th>\n",
       "      <th>box_office</th>\n",
       "    </tr>\n",
       "  </thead>\n",
       "  <tbody>\n",
       "    <tr>\n",
       "      <th>170</th>\n",
       "      <td>118</td>\n",
       "      <td>Wednesday</td>\n",
       "      <td>15425870.0</td>\n",
       "    </tr>\n",
       "    <tr>\n",
       "      <th>186</th>\n",
       "      <td>117</td>\n",
       "      <td>Wednesday</td>\n",
       "      <td>19375474.0</td>\n",
       "    </tr>\n",
       "    <tr>\n",
       "      <th>192</th>\n",
       "      <td>6</td>\n",
       "      <td>Wednesday</td>\n",
       "      <td>20518224.0</td>\n",
       "    </tr>\n",
       "    <tr>\n",
       "      <th>198</th>\n",
       "      <td>25</td>\n",
       "      <td>Wednesday</td>\n",
       "      <td>22715908.0</td>\n",
       "    </tr>\n",
       "    <tr>\n",
       "      <th>232</th>\n",
       "      <td>288</td>\n",
       "      <td>Wednesday</td>\n",
       "      <td>38120554.0</td>\n",
       "    </tr>\n",
       "    <tr>\n",
       "      <th>271</th>\n",
       "      <td>192</td>\n",
       "      <td>Wednesday</td>\n",
       "      <td>71844424.0</td>\n",
       "    </tr>\n",
       "    <tr>\n",
       "      <th>272</th>\n",
       "      <td>64</td>\n",
       "      <td>Wednesday</td>\n",
       "      <td>72266306.0</td>\n",
       "    </tr>\n",
       "    <tr>\n",
       "      <th>277</th>\n",
       "      <td>302</td>\n",
       "      <td>Wednesday</td>\n",
       "      <td>74223625.0</td>\n",
       "    </tr>\n",
       "    <tr>\n",
       "      <th>281</th>\n",
       "      <td>294</td>\n",
       "      <td>Wednesday</td>\n",
       "      <td>81157671.0</td>\n",
       "    </tr>\n",
       "    <tr>\n",
       "      <th>282</th>\n",
       "      <td>83</td>\n",
       "      <td>Wednesday</td>\n",
       "      <td>82468131.0</td>\n",
       "    </tr>\n",
       "    <tr>\n",
       "      <th>285</th>\n",
       "      <td>100</td>\n",
       "      <td>Wednesday</td>\n",
       "      <td>88800000.0</td>\n",
       "    </tr>\n",
       "    <tr>\n",
       "      <th>290</th>\n",
       "      <td>292</td>\n",
       "      <td>Wednesday</td>\n",
       "      <td>95111012.0</td>\n",
       "    </tr>\n",
       "    <tr>\n",
       "      <th>298</th>\n",
       "      <td>233</td>\n",
       "      <td>Wednesday</td>\n",
       "      <td>106604314.0</td>\n",
       "    </tr>\n",
       "    <tr>\n",
       "      <th>311</th>\n",
       "      <td>12</td>\n",
       "      <td>Wednesday</td>\n",
       "      <td>127706877.0</td>\n",
       "    </tr>\n",
       "    <tr>\n",
       "      <th>313</th>\n",
       "      <td>10</td>\n",
       "      <td>Wednesday</td>\n",
       "      <td>132088910.0</td>\n",
       "    </tr>\n",
       "    <tr>\n",
       "      <th>326</th>\n",
       "      <td>132</td>\n",
       "      <td>Wednesday</td>\n",
       "      <td>234141872.0</td>\n",
       "    </tr>\n",
       "    <tr>\n",
       "      <th>330</th>\n",
       "      <td>142</td>\n",
       "      <td>Wednesday</td>\n",
       "      <td>279167575.0</td>\n",
       "    </tr>\n",
       "    <tr>\n",
       "      <th>333</th>\n",
       "      <td>169</td>\n",
       "      <td>Wednesday</td>\n",
       "      <td>368000000.0</td>\n",
       "    </tr>\n",
       "  </tbody>\n",
       "</table>\n",
       "</div>"
      ],
      "text/plain": [
       "      id day_of_week   box_office\n",
       "170  118   Wednesday   15425870.0\n",
       "186  117   Wednesday   19375474.0\n",
       "192    6   Wednesday   20518224.0\n",
       "198   25   Wednesday   22715908.0\n",
       "232  288   Wednesday   38120554.0\n",
       "271  192   Wednesday   71844424.0\n",
       "272   64   Wednesday   72266306.0\n",
       "277  302   Wednesday   74223625.0\n",
       "281  294   Wednesday   81157671.0\n",
       "282   83   Wednesday   82468131.0\n",
       "285  100   Wednesday   88800000.0\n",
       "290  292   Wednesday   95111012.0\n",
       "298  233   Wednesday  106604314.0\n",
       "311   12   Wednesday  127706877.0\n",
       "313   10   Wednesday  132088910.0\n",
       "326  132   Wednesday  234141872.0\n",
       "330  142   Wednesday  279167575.0\n",
       "333  169   Wednesday  368000000.0"
      ]
     },
     "execution_count": 54,
     "metadata": {},
     "output_type": "execute_result"
    }
   ],
   "source": [
    "wednesday = tidy.query('(box_office > @boxoffice_median) and (day_of_week in [\"Wednesday\"])')\n",
    "# wednesday.describe()\n",
    "wednesday"
   ]
  },
  {
   "cell_type": "code",
   "execution_count": 56,
   "metadata": {},
   "outputs": [
    {
     "data": {
      "text/html": [
       "<div>\n",
       "<style scoped>\n",
       "    .dataframe tbody tr th:only-of-type {\n",
       "        vertical-align: middle;\n",
       "    }\n",
       "\n",
       "    .dataframe tbody tr th {\n",
       "        vertical-align: top;\n",
       "    }\n",
       "\n",
       "    .dataframe thead th {\n",
       "        text-align: right;\n",
       "    }\n",
       "</style>\n",
       "<table border=\"1\" class=\"dataframe\">\n",
       "  <thead>\n",
       "    <tr style=\"text-align: right;\">\n",
       "      <th></th>\n",
       "      <th>id</th>\n",
       "      <th>day_of_week</th>\n",
       "      <th>box_office</th>\n",
       "    </tr>\n",
       "  </thead>\n",
       "  <tbody>\n",
       "    <tr>\n",
       "      <th>185</th>\n",
       "      <td>146</td>\n",
       "      <td>Thursday</td>\n",
       "      <td>19000000.0</td>\n",
       "    </tr>\n",
       "    <tr>\n",
       "      <th>215</th>\n",
       "      <td>293</td>\n",
       "      <td>Thursday</td>\n",
       "      <td>32000000.0</td>\n",
       "    </tr>\n",
       "    <tr>\n",
       "      <th>278</th>\n",
       "      <td>138</td>\n",
       "      <td>Thursday</td>\n",
       "      <td>75604320.0</td>\n",
       "    </tr>\n",
       "    <tr>\n",
       "      <th>283</th>\n",
       "      <td>175</td>\n",
       "      <td>Thursday</td>\n",
       "      <td>82989109.0</td>\n",
       "    </tr>\n",
       "    <tr>\n",
       "      <th>304</th>\n",
       "      <td>197</td>\n",
       "      <td>Thursday</td>\n",
       "      <td>118683135.0</td>\n",
       "    </tr>\n",
       "    <tr>\n",
       "      <th>310</th>\n",
       "      <td>164</td>\n",
       "      <td>Thursday</td>\n",
       "      <td>127490802.0</td>\n",
       "    </tr>\n",
       "    <tr>\n",
       "      <th>314</th>\n",
       "      <td>51</td>\n",
       "      <td>Thursday</td>\n",
       "      <td>134455175.0</td>\n",
       "    </tr>\n",
       "    <tr>\n",
       "      <th>328</th>\n",
       "      <td>203</td>\n",
       "      <td>Thursday</td>\n",
       "      <td>257704099.0</td>\n",
       "    </tr>\n",
       "  </tbody>\n",
       "</table>\n",
       "</div>"
      ],
      "text/plain": [
       "      id day_of_week   box_office\n",
       "185  146    Thursday   19000000.0\n",
       "215  293    Thursday   32000000.0\n",
       "278  138    Thursday   75604320.0\n",
       "283  175    Thursday   82989109.0\n",
       "304  197    Thursday  118683135.0\n",
       "310  164    Thursday  127490802.0\n",
       "314   51    Thursday  134455175.0\n",
       "328  203    Thursday  257704099.0"
      ]
     },
     "execution_count": 56,
     "metadata": {},
     "output_type": "execute_result"
    }
   ],
   "source": [
    "thursday = tidy.query('(box_office > @boxoffice_median) and (day_of_week in [\"Thursday\"])')\n",
    "# thursday.describe()\n",
    "thursday"
   ]
  },
  {
   "cell_type": "code",
   "execution_count": 66,
   "metadata": {},
   "outputs": [
    {
     "data": {
      "text/plain": [
       "8989985153.0"
      ]
     },
     "execution_count": 66,
     "metadata": {},
     "output_type": "execute_result"
    }
   ],
   "source": [
    "# By far friday has the highest count for movies being released in the week!\n",
    "friday = tidy.query('(box_office > @boxoffice_median) and (day_of_week in [\"Friday\"])')\n",
    "# friday.describe()\n",
    "friday.box_office.sum()"
   ]
  },
  {
   "cell_type": "code",
   "execution_count": 71,
   "metadata": {},
   "outputs": [
    {
     "data": {
      "text/html": [
       "<div>\n",
       "<style scoped>\n",
       "    .dataframe tbody tr th:only-of-type {\n",
       "        vertical-align: middle;\n",
       "    }\n",
       "\n",
       "    .dataframe tbody tr th {\n",
       "        vertical-align: top;\n",
       "    }\n",
       "\n",
       "    .dataframe thead th {\n",
       "        text-align: right;\n",
       "    }\n",
       "</style>\n",
       "<table border=\"1\" class=\"dataframe\">\n",
       "  <thead>\n",
       "    <tr style=\"text-align: right;\">\n",
       "      <th></th>\n",
       "      <th>id</th>\n",
       "      <th>box_office</th>\n",
       "    </tr>\n",
       "  </thead>\n",
       "  <tbody>\n",
       "    <tr>\n",
       "      <th>count</th>\n",
       "      <td>0.0</td>\n",
       "      <td>0.0</td>\n",
       "    </tr>\n",
       "    <tr>\n",
       "      <th>mean</th>\n",
       "      <td>NaN</td>\n",
       "      <td>NaN</td>\n",
       "    </tr>\n",
       "    <tr>\n",
       "      <th>std</th>\n",
       "      <td>NaN</td>\n",
       "      <td>NaN</td>\n",
       "    </tr>\n",
       "    <tr>\n",
       "      <th>min</th>\n",
       "      <td>NaN</td>\n",
       "      <td>NaN</td>\n",
       "    </tr>\n",
       "    <tr>\n",
       "      <th>25%</th>\n",
       "      <td>NaN</td>\n",
       "      <td>NaN</td>\n",
       "    </tr>\n",
       "    <tr>\n",
       "      <th>50%</th>\n",
       "      <td>NaN</td>\n",
       "      <td>NaN</td>\n",
       "    </tr>\n",
       "    <tr>\n",
       "      <th>75%</th>\n",
       "      <td>NaN</td>\n",
       "      <td>NaN</td>\n",
       "    </tr>\n",
       "    <tr>\n",
       "      <th>max</th>\n",
       "      <td>NaN</td>\n",
       "      <td>NaN</td>\n",
       "    </tr>\n",
       "  </tbody>\n",
       "</table>\n",
       "</div>"
      ],
      "text/plain": [
       "        id  box_office\n",
       "count  0.0         0.0\n",
       "mean   NaN         NaN\n",
       "std    NaN         NaN\n",
       "min    NaN         NaN\n",
       "25%    NaN         NaN\n",
       "50%    NaN         NaN\n",
       "75%    NaN         NaN\n",
       "max    NaN         NaN"
      ]
     },
     "execution_count": 71,
     "metadata": {},
     "output_type": "execute_result"
    }
   ],
   "source": [
    "# since there is only one value for saturday i get nothing here\n",
    "saturday = tidy.query('(box_office > @boxoffice_median) and (day_of_week in [\"Saturday\"])')\n",
    "saturday.describe()"
   ]
  },
  {
   "cell_type": "code",
   "execution_count": 72,
   "metadata": {},
   "outputs": [
    {
     "data": {
      "text/html": [
       "<div>\n",
       "<style scoped>\n",
       "    .dataframe tbody tr th:only-of-type {\n",
       "        vertical-align: middle;\n",
       "    }\n",
       "\n",
       "    .dataframe tbody tr th {\n",
       "        vertical-align: top;\n",
       "    }\n",
       "\n",
       "    .dataframe thead th {\n",
       "        text-align: right;\n",
       "    }\n",
       "</style>\n",
       "<table border=\"1\" class=\"dataframe\">\n",
       "  <thead>\n",
       "    <tr style=\"text-align: right;\">\n",
       "      <th></th>\n",
       "      <th>id</th>\n",
       "      <th>day_of_week</th>\n",
       "      <th>box_office</th>\n",
       "    </tr>\n",
       "  </thead>\n",
       "  <tbody>\n",
       "    <tr>\n",
       "      <th>94</th>\n",
       "      <td>33</td>\n",
       "      <td>Saturday</td>\n",
       "      <td>2839256.0</td>\n",
       "    </tr>\n",
       "  </tbody>\n",
       "</table>\n",
       "</div>"
      ],
      "text/plain": [
       "    id day_of_week  box_office\n",
       "94  33    Saturday   2839256.0"
      ]
     },
     "execution_count": 72,
     "metadata": {},
     "output_type": "execute_result"
    }
   ],
   "source": [
    "tidy.query('day_of_week == \"Saturday\"')"
   ]
  },
  {
   "cell_type": "code",
   "execution_count": 73,
   "metadata": {},
   "outputs": [
    {
     "data": {
      "text/html": [
       "<div>\n",
       "<style scoped>\n",
       "    .dataframe tbody tr th:only-of-type {\n",
       "        vertical-align: middle;\n",
       "    }\n",
       "\n",
       "    .dataframe tbody tr th {\n",
       "        vertical-align: top;\n",
       "    }\n",
       "\n",
       "    .dataframe thead th {\n",
       "        text-align: right;\n",
       "    }\n",
       "</style>\n",
       "<table border=\"1\" class=\"dataframe\">\n",
       "  <thead>\n",
       "    <tr style=\"text-align: right;\">\n",
       "      <th></th>\n",
       "      <th>id</th>\n",
       "      <th>box_office</th>\n",
       "    </tr>\n",
       "  </thead>\n",
       "  <tbody>\n",
       "    <tr>\n",
       "      <th>count</th>\n",
       "      <td>0.0</td>\n",
       "      <td>0.0</td>\n",
       "    </tr>\n",
       "    <tr>\n",
       "      <th>mean</th>\n",
       "      <td>NaN</td>\n",
       "      <td>NaN</td>\n",
       "    </tr>\n",
       "    <tr>\n",
       "      <th>std</th>\n",
       "      <td>NaN</td>\n",
       "      <td>NaN</td>\n",
       "    </tr>\n",
       "    <tr>\n",
       "      <th>min</th>\n",
       "      <td>NaN</td>\n",
       "      <td>NaN</td>\n",
       "    </tr>\n",
       "    <tr>\n",
       "      <th>25%</th>\n",
       "      <td>NaN</td>\n",
       "      <td>NaN</td>\n",
       "    </tr>\n",
       "    <tr>\n",
       "      <th>50%</th>\n",
       "      <td>NaN</td>\n",
       "      <td>NaN</td>\n",
       "    </tr>\n",
       "    <tr>\n",
       "      <th>75%</th>\n",
       "      <td>NaN</td>\n",
       "      <td>NaN</td>\n",
       "    </tr>\n",
       "    <tr>\n",
       "      <th>max</th>\n",
       "      <td>NaN</td>\n",
       "      <td>NaN</td>\n",
       "    </tr>\n",
       "  </tbody>\n",
       "</table>\n",
       "</div>"
      ],
      "text/plain": [
       "        id  box_office\n",
       "count  0.0         0.0\n",
       "mean   NaN         NaN\n",
       "std    NaN         NaN\n",
       "min    NaN         NaN\n",
       "25%    NaN         NaN\n",
       "50%    NaN         NaN\n",
       "75%    NaN         NaN\n",
       "max    NaN         NaN"
      ]
     },
     "execution_count": 73,
     "metadata": {},
     "output_type": "execute_result"
    }
   ],
   "source": [
    "# same applies to sunday\n",
    "sunday = tidy.query('(box_office > @boxoffice_median) and (day_of_week in [\"Sunday\"])')\n",
    "sunday.describe()"
   ]
  },
  {
   "cell_type": "code",
   "execution_count": 74,
   "metadata": {},
   "outputs": [
    {
     "data": {
      "text/html": [
       "<div>\n",
       "<style scoped>\n",
       "    .dataframe tbody tr th:only-of-type {\n",
       "        vertical-align: middle;\n",
       "    }\n",
       "\n",
       "    .dataframe tbody tr th {\n",
       "        vertical-align: top;\n",
       "    }\n",
       "\n",
       "    .dataframe thead th {\n",
       "        text-align: right;\n",
       "    }\n",
       "</style>\n",
       "<table border=\"1\" class=\"dataframe\">\n",
       "  <thead>\n",
       "    <tr style=\"text-align: right;\">\n",
       "      <th></th>\n",
       "      <th>id</th>\n",
       "      <th>day_of_week</th>\n",
       "      <th>box_office</th>\n",
       "    </tr>\n",
       "  </thead>\n",
       "  <tbody>\n",
       "    <tr>\n",
       "      <th>133</th>\n",
       "      <td>191</td>\n",
       "      <td>Sunday</td>\n",
       "      <td>8616662.0</td>\n",
       "    </tr>\n",
       "  </tbody>\n",
       "</table>\n",
       "</div>"
      ],
      "text/plain": [
       "      id day_of_week  box_office\n",
       "133  191      Sunday   8616662.0"
      ]
     },
     "execution_count": 74,
     "metadata": {},
     "output_type": "execute_result"
    }
   ],
   "source": [
    "tidy.query('day_of_week == \"Sunday\"')"
   ]
  },
  {
   "cell_type": "code",
   "execution_count": 80,
   "metadata": {},
   "outputs": [],
   "source": [
    "# using the agg function to get the mean and median for my box office column\n",
    "tidy_2 = tidy.groupby(\"day_of_week\").agg({\"box_office\": [\"mean\", \"median\"]})"
   ]
  },
  {
   "cell_type": "code",
   "execution_count": 81,
   "metadata": {},
   "outputs": [],
   "source": [
    "tidy_2.sort_values('day_of_week', ascending=True, inplace=True)"
   ]
  },
  {
   "cell_type": "code",
   "execution_count": 82,
   "metadata": {},
   "outputs": [
    {
     "data": {
      "text/html": [
       "<div>\n",
       "<style scoped>\n",
       "    .dataframe tbody tr th:only-of-type {\n",
       "        vertical-align: middle;\n",
       "    }\n",
       "\n",
       "    .dataframe tbody tr th {\n",
       "        vertical-align: top;\n",
       "    }\n",
       "\n",
       "    .dataframe thead tr th {\n",
       "        text-align: left;\n",
       "    }\n",
       "\n",
       "    .dataframe thead tr:last-of-type th {\n",
       "        text-align: right;\n",
       "    }\n",
       "</style>\n",
       "<table border=\"1\" class=\"dataframe\">\n",
       "  <thead>\n",
       "    <tr>\n",
       "      <th></th>\n",
       "      <th colspan=\"2\" halign=\"left\">box_office</th>\n",
       "    </tr>\n",
       "    <tr>\n",
       "      <th></th>\n",
       "      <th>mean</th>\n",
       "      <th>median</th>\n",
       "    </tr>\n",
       "    <tr>\n",
       "      <th>day_of_week</th>\n",
       "      <th></th>\n",
       "      <th></th>\n",
       "    </tr>\n",
       "  </thead>\n",
       "  <tbody>\n",
       "    <tr>\n",
       "      <th>Friday</th>\n",
       "      <td>3.396972e+07</td>\n",
       "      <td>13900000.0</td>\n",
       "    </tr>\n",
       "    <tr>\n",
       "      <th>Monday</th>\n",
       "      <td>7.094144e+07</td>\n",
       "      <td>27788904.0</td>\n",
       "    </tr>\n",
       "    <tr>\n",
       "      <th>Saturday</th>\n",
       "      <td>2.839256e+06</td>\n",
       "      <td>2839256.0</td>\n",
       "    </tr>\n",
       "    <tr>\n",
       "      <th>Sunday</th>\n",
       "      <td>8.616662e+06</td>\n",
       "      <td>8616662.0</td>\n",
       "    </tr>\n",
       "    <tr>\n",
       "      <th>Thursday</th>\n",
       "      <td>8.488508e+07</td>\n",
       "      <td>79296714.5</td>\n",
       "    </tr>\n",
       "    <tr>\n",
       "      <th>Tuesday</th>\n",
       "      <td>4.527502e+07</td>\n",
       "      <td>33200000.0</td>\n",
       "    </tr>\n",
       "    <tr>\n",
       "      <th>Wednesday</th>\n",
       "      <td>6.178961e+07</td>\n",
       "      <td>19946849.0</td>\n",
       "    </tr>\n",
       "  </tbody>\n",
       "</table>\n",
       "</div>"
      ],
      "text/plain": [
       "               box_office            \n",
       "                     mean      median\n",
       "day_of_week                          \n",
       "Friday       3.396972e+07  13900000.0\n",
       "Monday       7.094144e+07  27788904.0\n",
       "Saturday     2.839256e+06   2839256.0\n",
       "Sunday       8.616662e+06   8616662.0\n",
       "Thursday     8.488508e+07  79296714.5\n",
       "Tuesday      4.527502e+07  33200000.0\n",
       "Wednesday    6.178961e+07  19946849.0"
      ]
     },
     "execution_count": 82,
     "metadata": {},
     "output_type": "execute_result"
    }
   ],
   "source": [
    "tidy_2.head(10)"
   ]
  },
  {
   "cell_type": "code",
   "execution_count": 88,
   "metadata": {},
   "outputs": [
    {
     "data": {
      "text/plain": [
       "day_of_week\n",
       "Friday       13900000.0\n",
       "Monday       27788904.0\n",
       "Saturday      2839256.0\n",
       "Sunday        8616662.0\n",
       "Thursday     79296714.5\n",
       "Tuesday      33200000.0\n",
       "Wednesday    19946849.0\n",
       "Name: median, dtype: float64"
      ]
     },
     "execution_count": 88,
     "metadata": {},
     "output_type": "execute_result"
    }
   ],
   "source": [
    "tidy_2.box_office['median']"
   ]
  },
  {
   "cell_type": "code",
   "execution_count": 89,
   "metadata": {},
   "outputs": [
    {
     "data": {
      "text/plain": [
       "<AxesSubplot:xlabel='median'>"
      ]
     },
     "execution_count": 89,
     "metadata": {},
     "output_type": "execute_result"
    },
    {
     "data": {
      "image/png": "[encoded data removed]",
      "text/plain": [
       "<Figure size 432x288 with 1 Axes>"
      ]
     },
     "metadata": {
      "needs_background": "light"
     },
     "output_type": "display_data"
    }
   ],
   "source": [
    "tidy_2.box_office.plot.bar('median')"
   ]
  },
  {
   "cell_type": "code",
   "execution_count": 94,
   "metadata": {},
   "outputs": [
    {
     "data": {
      "image/png": "[encoded data removed]",
      "text/plain": [
       "<Figure size 1080x720 with 1 Axes>"
      ]
     },
     "metadata": {
      "needs_background": "light"
     },
     "output_type": "display_data"
    }
   ],
   "source": [
    "# bar chart to see the visualization for median box office revenue by day\n",
    "tidy_2.box_office['median'].plot.barh(stacked=False, title='Box office revenue by Day',color=('DarkBlue','c'), figsize=(15, 10));"
   ]
  },
  {
   "cell_type": "code",
   "execution_count": 93,
   "metadata": {},
   "outputs": [
    {
     "data": {
      "image/png": "[encoded data removed]",
      "text/plain": [
       "<Figure size 1080x720 with 1 Axes>"
      ]
     },
     "metadata": {
      "needs_background": "light"
     },
     "output_type": "display_data"
    }
   ],
   "source": [
    "# bar chart to see the visualization for mean box office revenue by day\n",
    "tidy_2.box_office['mean'].plot.barh(stacked=False, title='Box office vs Day of the week',color=('DarkBlue','c'), figsize=(15, 10));"
   ]
  },
  {
   "cell_type": "code",
   "execution_count": 106,
   "metadata": {},
   "outputs": [
    {
     "data": {
      "text/plain": [
       "<AxesSubplot:xlabel='day_of_week', ylabel='box_office'>"
      ]
     },
     "execution_count": 106,
     "metadata": {},
     "output_type": "execute_result"
    },
    {
     "data": {
      "image/png": "[encoded data removed]",
      "text/plain": [
       "<Figure size 432x288 with 1 Axes>"
      ]
     },
     "metadata": {
      "needs_background": "light"
     },
     "output_type": "display_data"
    }
   ],
   "source": [
    "tidy.plot.scatter('day_of_week', 'box_office')"
   ]
  },
  {
   "cell_type": "markdown",
   "metadata": {},
   "source": [
    "# From this point on, this is strictly for my own curiosity\n",
    "I wanted to challenge myself"
   ]
  },
  {
   "cell_type": "code",
   "execution_count": 98,
   "metadata": {},
   "outputs": [
    {
     "data": {
      "text/plain": [
       "Friday       0.847305\n",
       "Wednesday    0.095808\n",
       "Thursday     0.029940\n",
       "Monday       0.011976\n",
       "Tuesday      0.008982\n",
       "Saturday     0.002994\n",
       "Sunday       0.002994\n",
       "Name: day_of_week, dtype: float64"
      ]
     },
     "execution_count": 98,
     "metadata": {},
     "output_type": "execute_result"
    }
   ],
   "source": [
    "# the data seems to say that Wednesday will be the best day to relase a movie\n",
    "tidy.day_of_week.value_counts(normalize=True)"
   ]
  },
  {
   "cell_type": "code",
   "execution_count": 99,
   "metadata": {},
   "outputs": [],
   "source": [
    "# this function will take the actual fraction of days for Wednesday and the number \n",
    "def sample(wednesday, n=1000):\n",
    "    return pd.DataFrame({'day_of_week': np.where(np.random.rand(n) < wednesday,'Wednesday', 'Friday')})"
   ]
  },
  {
   "cell_type": "code",
   "execution_count": 100,
   "metadata": {},
   "outputs": [],
   "source": [
    "#  lets see a possiable sample and the counts for the two days\n",
    "s = sample(0.095,n=1000)"
   ]
  },
  {
   "cell_type": "code",
   "execution_count": 101,
   "metadata": {},
   "outputs": [
    {
     "data": {
      "text/plain": [
       "Friday       0.891\n",
       "Wednesday    0.109\n",
       "Name: day_of_week, dtype: float64"
      ]
     },
     "execution_count": 101,
     "metadata": {},
     "output_type": "execute_result"
    }
   ],
   "source": [
    "s.day_of_week.value_counts(normalize=True)\n",
    "# in this case Wednesday is actually under the level of Friday"
   ]
  },
  {
   "cell_type": "code",
   "execution_count": 102,
   "metadata": {},
   "outputs": [],
   "source": [
    "# i will repeat this many times and collect the results in the Dataframe\n",
    "# 1000 simulations should be sufficient\n",
    "dist = pd.DataFrame([sample(0.095).day_of_week.value_counts(normalize=True) for i in range(1000)])"
   ]
  },
  {
   "cell_type": "code",
   "execution_count": 103,
   "metadata": {},
   "outputs": [
    {
     "data": {
      "text/html": [
       "<div>\n",
       "<style scoped>\n",
       "    .dataframe tbody tr th:only-of-type {\n",
       "        vertical-align: middle;\n",
       "    }\n",
       "\n",
       "    .dataframe tbody tr th {\n",
       "        vertical-align: top;\n",
       "    }\n",
       "\n",
       "    .dataframe thead th {\n",
       "        text-align: right;\n",
       "    }\n",
       "</style>\n",
       "<table border=\"1\" class=\"dataframe\">\n",
       "  <thead>\n",
       "    <tr style=\"text-align: right;\">\n",
       "      <th></th>\n",
       "      <th>Friday</th>\n",
       "      <th>Wednesday</th>\n",
       "    </tr>\n",
       "  </thead>\n",
       "  <tbody>\n",
       "    <tr>\n",
       "      <th>day_of_week</th>\n",
       "      <td>0.902</td>\n",
       "      <td>0.098</td>\n",
       "    </tr>\n",
       "    <tr>\n",
       "      <th>day_of_week</th>\n",
       "      <td>0.901</td>\n",
       "      <td>0.099</td>\n",
       "    </tr>\n",
       "    <tr>\n",
       "      <th>day_of_week</th>\n",
       "      <td>0.902</td>\n",
       "      <td>0.098</td>\n",
       "    </tr>\n",
       "    <tr>\n",
       "      <th>day_of_week</th>\n",
       "      <td>0.913</td>\n",
       "      <td>0.087</td>\n",
       "    </tr>\n",
       "    <tr>\n",
       "      <th>day_of_week</th>\n",
       "      <td>0.897</td>\n",
       "      <td>0.103</td>\n",
       "    </tr>\n",
       "  </tbody>\n",
       "</table>\n",
       "</div>"
      ],
      "text/plain": [
       "             Friday  Wednesday\n",
       "day_of_week   0.902      0.098\n",
       "day_of_week   0.901      0.099\n",
       "day_of_week   0.902      0.098\n",
       "day_of_week   0.913      0.087\n",
       "day_of_week   0.897      0.103"
      ]
     },
     "execution_count": 103,
     "metadata": {},
     "output_type": "execute_result"
    }
   ],
   "source": [
    "dist.head()"
   ]
  },
  {
   "cell_type": "code",
   "execution_count": 104,
   "metadata": {},
   "outputs": [
    {
     "data": {
      "text/plain": [
       "<AxesSubplot:>"
      ]
     },
     "execution_count": 104,
     "metadata": {},
     "output_type": "execute_result"
    },
    {
     "data": {
      "image/png": "[encoded data removed]",
      "text/plain": [
       "<Figure size 432x288 with 1 Axes>"
      ]
     },
     "metadata": {
      "needs_background": "light"
     },
     "output_type": "display_data"
    }
   ],
   "source": [
    "# lets look at the data in a histogram \n",
    "dist.Wednesday.hist(histtype='step', bins=20)\n",
    "\n",
    "# it turns out that for a true Wednesday fraction of 0.095,i may obtain any sample proportion from .08 to .0.11\n",
    "# the converse must also be true so that 0.095 may actually originate from a Friday majority. "
   ]
  },
  {
   "cell_type": "markdown",
   "metadata": {},
   "source": [
    "# Can i make this more precise, and identify a likely range of True fractions? \n",
    "\n",
    " The confidence interval describes the uncertainty of inference by giving me a range such that saying 95% of the times, -\n",
    " the range would include the True value.\n",
    "\n",
    " 95% is the confidence level, and i can choose it as i want.\n",
    " 95% of the times means that if i were to make calculate in and compute a confidence interval for each day,\n",
    " then for approximately 95 of those 100, the intervals would include a True value."
   ]
  },
  {
   "cell_type": "code",
   "execution_count": 107,
   "metadata": {},
   "outputs": [],
   "source": [
    "# here is another function that helps me compute the interval\n",
    "def samplingdist(wednesday, n=1000):\n",
    "    return pd.DataFrame([sample(wednesday,n).day_of_week.value_counts(normalize=True) for i in range(1000)])"
   ]
  },
  {
   "cell_type": "code",
   "execution_count": 108,
   "metadata": {},
   "outputs": [],
   "source": [
    "# lets say that i want to go for the 95% confidence interval.\n",
    "# this will lay between the 2.5% quantile, and the 97.5% quantile. \n",
    "\n",
    "# so i look for the True fraction for which a measured value of 0.095 lies at the 2.5% quantile, \n",
    "# and the True fraction for which my measured value lies at the 97.5% quantile. \n",
    "# it turns out that those two fractions are the edges of the confidence interval.\n",
    "\n",
    "# i will make a function  that extracts those quantiles\n",
    "def quantiles(wednesday, n=1000):\n",
    "    dist = samplingdist(wednesday, n)\n",
    "    return dist.Wednesday.quantile(0.025), dist.Wednesday.quantile(0.975)"
   ]
  },
  {
   "cell_type": "code",
   "execution_count": 109,
   "metadata": {},
   "outputs": [
    {
     "data": {
      "text/plain": [
       "(0.074, 0.107)"
      ]
     },
     "execution_count": 109,
     "metadata": {},
     "output_type": "execute_result"
    }
   ],
   "source": [
    "# let me explore a few values until i find 0.095 on each end.\n",
    "quantiles(0.090)"
   ]
  },
  {
   "cell_type": "code",
   "execution_count": 110,
   "metadata": {},
   "outputs": [
    {
     "data": {
      "text/plain": [
       "(0.076, 0.113)"
      ]
     },
     "execution_count": 110,
     "metadata": {},
     "output_type": "execute_result"
    }
   ],
   "source": [
    "quantiles(0.094)"
   ]
  },
  {
   "cell_type": "code",
   "execution_count": 111,
   "metadata": {},
   "outputs": [
    {
     "data": {
      "text/plain": [
       "(0.082, 0.11702499999999998)"
      ]
     },
     "execution_count": 111,
     "metadata": {},
     "output_type": "execute_result"
    }
   ],
   "source": [
    "quantiles(0.099)"
   ]
  },
  {
   "cell_type": "code",
   "execution_count": 112,
   "metadata": {},
   "outputs": [
    {
     "data": {
      "text/plain": [
       "(0.075, 0.111)"
      ]
     },
     "execution_count": 112,
     "metadata": {},
     "output_type": "execute_result"
    }
   ],
   "source": [
    "quantiles(0.092)"
   ]
  },
  {
   "cell_type": "code",
   "execution_count": 113,
   "metadata": {},
   "outputs": [],
   "source": [
    "# for the observed sample of 0.095, when the sample size is 1000, the 95 confidence interval for the True population-\n",
    "# function is 0.094 to 0.092\n",
    "\n",
    "dist = samplingdist(0.094, 10000)"
   ]
  },
  {
   "cell_type": "code",
   "execution_count": 114,
   "metadata": {},
   "outputs": [
    {
     "data": {
      "text/plain": [
       "<AxesSubplot:>"
      ]
     },
     "execution_count": 114,
     "metadata": {},
     "output_type": "execute_result"
    },
    {
     "data": {
      "image/png": "[encoded data removed]",
      "text/plain": [
       "<Figure size 432x288 with 1 Axes>"
      ]
     },
     "metadata": {
      "needs_background": "light"
     },
     "output_type": "display_data"
    }
   ],
   "source": [
    "dist.Wednesday.hist(histtype='step')\n",
    "\n",
    "# i can see that this margin of error is now more like 1%, which would have been sufficient to claim Wednesday as the likely-\n",
    "# best day to release a movie."
   ]
  },
  {
   "cell_type": "markdown",
   "metadata": {},
   "source": [
    "# Python Stats\n",
    "There is in fact a close relationship between hypothesis testing and confidence intervals.\n",
    "\n",
    "If the null hypothesis corresponds to a range of values for a population parameter that are excluuded from the confidence interval, then the null hypothesis must be rejected with a very low P value. \n",
    "\n",
    "The lower, the higher the confidence level of the interval.\n",
    "\n",
    "I will go back and use the polls example and reformulate it as a hypithesis test. "
   ]
  },
  {
   "cell_type": "code",
   "execution_count": 115,
   "metadata": {},
   "outputs": [
    {
     "data": {
      "text/plain": [
       "Friday       0.847305\n",
       "Wednesday    0.095808\n",
       "Thursday     0.029940\n",
       "Monday       0.011976\n",
       "Tuesday      0.008982\n",
       "Saturday     0.002994\n",
       "Sunday       0.002994\n",
       "Name: day_of_week, dtype: float64"
      ]
     },
     "execution_count": 115,
     "metadata": {},
     "output_type": "execute_result"
    }
   ],
   "source": [
    "# as a remider, Wednesday was the best day to release a movie.\n",
    "# so here the null hypothesis will be that Friday is the best day.\n",
    "\n",
    "# so the true Wednesday fraction would be 0.095 or less.\n",
    "# i need to find out wether a Wednesday proportion of 0.095 is an extreme result if the null hypothesis holds.\n",
    "tidy.day_of_week.value_counts(normalize=True)"
   ]
  },
  {
   "cell_type": "code",
   "execution_count": 116,
   "metadata": {},
   "outputs": [],
   "source": [
    "# i will compute the sampling distribution of the proportion and get a true Wednesday fraction of-\n",
    "# 0.095\n",
    "# if its lower than that, the P-value will be even lower. \n",
    "\n",
    "# heres a function to simulate the sample of a 1000:\n",
    "# once again, i use numpy random rand and compare uniformly distributed numbers between zero and one-\n",
    "# with the Wednesday fraction. i use numpy where if the condition holds true or Friday otherwise. enclose everything in-\n",
    "# a dataframe. return the value.\n",
    "\n",
    "def sample(wednesday, n=1000):\n",
    "    return pd.DataFrame({'day_of_week': np.where(np.random.rand(n) < wednesday, 'Wednesday', 'Friday')})"
   ]
  },
  {
   "cell_type": "code",
   "execution_count": 117,
   "metadata": {},
   "outputs": [],
   "source": [
    "# here is the sampling distribution.\n",
    "# i call sample, grab the day_of_week and count them, and then repeat. \n",
    "# collect the results in a list comprehension. and then enclose in a dataframe\n",
    "\n",
    "dist = pd.DataFrame({'Wednesday': [sample(0.095,1000).day_of_week.value_counts(normalize=True)['Wednesday'] for i in range(10000)]})"
   ]
  },
  {
   "cell_type": "code",
   "execution_count": 118,
   "metadata": {},
   "outputs": [
    {
     "data": {
      "text/plain": [
       "<AxesSubplot:>"
      ]
     },
     "execution_count": 118,
     "metadata": {},
     "output_type": "execute_result"
    },
    {
     "data": {
      "image/png": "[encoded data removed]",
      "text/plain": [
       "<Figure size 432x288 with 1 Axes>"
      ]
     },
     "metadata": {
      "needs_background": "light"
     },
     "output_type": "display_data"
    }
   ],
   "source": [
    "# histogram the samling distribution and see that indeed 0.095 is not a very extreme value.\n",
    "dist.Wednesday.hist(histtype='step', bins=20)"
   ]
  },
  {
   "cell_type": "code",
   "execution_count": 119,
   "metadata": {},
   "outputs": [
    {
     "data": {
      "text/plain": [
       "50.325"
      ]
     },
     "execution_count": 119,
     "metadata": {},
     "output_type": "execute_result"
    }
   ],
   "source": [
    "# if i look for its quantile\n",
    "scipy.stats.percentileofscore(dist.Wednesday,0.095)"
   ]
  },
  {
   "cell_type": "code",
   "execution_count": 120,
   "metadata": {},
   "outputs": [
    {
     "data": {
      "text/plain": [
       "49.675"
      ]
     },
     "execution_count": 120,
     "metadata": {},
     "output_type": "execute_result"
    }
   ],
   "source": [
    "# i see that the corresponding P-value is 49%.\n",
    "# certainly not enough to reject the null hypothesis that Friday ties or wins for best day\n",
    "100 - scipy.stats.percentileofscore(dist.Wednesday,0.095)"
   ]
  },
  {
   "cell_type": "code",
   "execution_count": 121,
   "metadata": {},
   "outputs": [],
   "source": [
    "# what about for Frida? \n",
    "# here it makes more sense to set the null hypothesis to Wednesday winning or tying, since Friday seems to have the mayority.\n",
    "\n",
    "# in fact, a nice feature of binary problems, such as this, is that the null hypothesis and its alternative are-\n",
    "# complementary.\n",
    "\n",
    "# again, i will compute the sampling distribution at the fraction of 0.095, this time for Friday.\n",
    "dist = pd.DataFrame({'Friday': [sample(0.095,10000).day_of_week.value_counts(normalize=True)['Friday'] for i in range(1000)]})"
   ]
  },
  {
   "cell_type": "code",
   "execution_count": 122,
   "metadata": {},
   "outputs": [
    {
     "data": {
      "text/plain": [
       "<AxesSubplot:>"
      ]
     },
     "execution_count": 122,
     "metadata": {},
     "output_type": "execute_result"
    },
    {
     "data": {
      "image/png": "[encoded data removed]",
      "text/plain": [
       "<Figure size 432x288 with 1 Axes>"
      ]
     },
     "metadata": {
      "needs_background": "light"
     },
     "output_type": "display_data"
    }
   ],
   "source": [
    "# i will overlay Wednesday value of 0.095\n",
    "# here, the value is so extreme that its not even included in my finite sampling distribution. \n",
    "\n",
    "# i conclude that the P value for rejecting the null hypothesis that Wednesday wins or ties for best day is 1 over 1000- \n",
    "# or less.\n",
    "# which qualifies as very significant\n",
    "\n",
    "dist.Friday.hist(histtype='step', bins=10)\n",
    "# plt.axvline(0.095, c='C1')"
   ]
  }
 ],
 "metadata": {
  "kernelspec": {
   "display_name": "Python (learn-env)",
   "language": "python",
   "name": "learn-env"
  },
  "language_info": {
   "codemirror_mode": {
    "name": "ipython",
    "version": 3
   },
   "file_extension": ".py",
   "mimetype": "text/x-python",
   "name": "python",
   "nbconvert_exporter": "python",
   "pygments_lexer": "ipython3",
   "version": "3.8.5"
  }
 },
 "nbformat": 4,
 "nbformat_minor": 4
}
